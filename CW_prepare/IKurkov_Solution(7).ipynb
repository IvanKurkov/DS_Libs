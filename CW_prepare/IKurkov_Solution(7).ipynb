{
 "cells": [
  {
   "cell_type": "markdown",
   "id": "cd6bc169",
   "metadata": {},
   "source": [
    "# Курсовой проект для курса \"Python для Data Science\""
   ]
  },
  {
   "cell_type": "markdown",
   "id": "f947f802",
   "metadata": {},
   "source": [
    "#### Задание:\n",
    "Используя данные из обучающего датасета (train.csv), построить модель для предсказания цен на недвижимость (квартиры).\n",
    "С помощью полученной модели, предсказать цены для квартир из тестового датасета (test.csv).\n",
    "\n",
    "#### Целевая переменная:\n",
    "Price\n",
    "\n",
    "#### Метрика качества:\n",
    "R2 - коэффициент детерминации (sklearn.metrics.r2_score)\n",
    "\n",
    "#### Требования к решению:\n",
    "1. R2 > 0.6\n",
    "2. Тетрадка Jupyter Notebook с кодом Вашего решения, названная по образцу {ФИО}_solution.ipynb, пример SShirkin_solution.ipynb\n",
    "3. Файл CSV с прогнозами целевой переменной для тестового датасета, названный по образцу {ФИО}_predictions.csv, пример SShirkin_predictions.csv \n",
    "Файл должен содержать два поля: Id, Price и в файле должна быть 5001 строка (шапка + 5000 предсказаний).\n",
    "\n",
    "#### Рекомендации для файла с кодом (ipynb):\n",
    "1. Файл должен содержать заголовки и комментарии (markdown)\n",
    "2. Повторяющиеся операции лучше оформлять в виде функций\n",
    "3. Не делать вывод большого количества строк таблиц (5-10 достаточно)\n",
    "4. По возможности добавлять графики, описывающие данные (около 3-5)\n",
    "5. Добавлять только лучшую модель, то есть не включать в код все варианты решения проекта\n",
    "6. Скрипт проекта должен отрабатывать от начала и до конца (от загрузки данных до выгрузки предсказаний)\n",
    "7. Весь проект должен быть в одном скрипте (файл ipynb).\n",
    "8. Допускается применение библиотек Python и моделей машинного обучения,\n",
    "которые были в данном курсе.\n"
   ]
  },
  {
   "cell_type": "markdown",
   "id": "b54884a7",
   "metadata": {},
   "source": [
    "#### Описание датасета:\n",
    "Id - идентификационный номер квартиры\n",
    "\n",
    "DistrictId - идентификационный номер района\n",
    "\n",
    "Rooms - количество комнат\n",
    "\n",
    "Square - площадь\n",
    "\n",
    "LifeSquare - жилая площадь\n",
    "\n",
    "KitchenSquare - площадь кухни\n",
    "\n",
    "Floor - этаж\n",
    "\n",
    "HouseFloor - количество этажей в доме\n",
    "\n",
    "HouseYear - год постройки дома\n",
    "\n",
    "Ecology_1, Ecology_2, Ecology_3 - экологические показатели местности\n",
    "\n",
    "Social_1, Social_2, Social_3 - социальные показатели местности\n",
    "\n",
    "Healthcare_1, Helthcare_2 - показатели местности, связанные с охраной здоровья\n",
    "\n",
    "Shops_1, Shops_2 - показатели, связанные с наличием магазинов, торговых центров\n",
    "\n",
    "Price - цена квартиры"
   ]
  },
  {
   "cell_type": "code",
<<<<<<< Updated upstream
   "execution_count": 44,
=======
   "execution_count": 92,
>>>>>>> Stashed changes
   "id": "425966f1",
   "metadata": {},
   "outputs": [],
   "source": [
    "import numpy as np\n",
    "import pandas as pd\n",
    "import matplotlib.pyplot as plt\n",
    "import seaborn as sns\n",
    "from scipy import stats\n",
    "import warnings\n",
    "warnings.filterwarnings('ignore')\n",
    "%matplotlib inline\n",
    "from sklearn.model_selection import train_test_split\n",
    "from sklearn.ensemble import GradientBoostingRegressor\n",
    "from sklearn.model_selection import GridSearchCV\n",
    "\n",
    "from sklearn.preprocessing import RobustScaler, StandardScaler, MinMaxScaler\n",
    "from sklearn.metrics import mean_squared_error as mse, r2_score as r2"
   ]
  },
  {
   "cell_type": "code",
<<<<<<< Updated upstream
   "execution_count": 45,
=======
   "execution_count": 93,
>>>>>>> Stashed changes
   "id": "cbc6f3fe",
   "metadata": {},
   "outputs": [],
   "source": [
    "TEST_DATASET_PATH = \"test.csv\"\n",
    "TRAIN_DATASET_PATH = \"train.csv\""
   ]
  },
  {
   "cell_type": "code",
<<<<<<< Updated upstream
   "execution_count": 46,
=======
   "execution_count": 94,
>>>>>>> Stashed changes
   "id": "05c07a86",
   "metadata": {
    "scrolled": false
   },
   "outputs": [
    {
     "data": {
      "text/html": [
       "<div>\n",
       "<style scoped>\n",
       "    .dataframe tbody tr th:only-of-type {\n",
       "        vertical-align: middle;\n",
       "    }\n",
       "\n",
       "    .dataframe tbody tr th {\n",
       "        vertical-align: top;\n",
       "    }\n",
       "\n",
       "    .dataframe thead th {\n",
       "        text-align: right;\n",
       "    }\n",
       "</style>\n",
       "<table border=\"1\" class=\"dataframe\">\n",
       "  <thead>\n",
       "    <tr style=\"text-align: right;\">\n",
       "      <th></th>\n",
       "      <th>Id</th>\n",
       "      <th>DistrictId</th>\n",
       "      <th>Rooms</th>\n",
       "      <th>Square</th>\n",
       "      <th>LifeSquare</th>\n",
       "      <th>KitchenSquare</th>\n",
       "      <th>Floor</th>\n",
       "      <th>HouseFloor</th>\n",
       "      <th>HouseYear</th>\n",
       "      <th>Ecology_1</th>\n",
       "      <th>Ecology_2</th>\n",
       "      <th>Ecology_3</th>\n",
       "      <th>Social_1</th>\n",
       "      <th>Social_2</th>\n",
       "      <th>Social_3</th>\n",
       "      <th>Healthcare_1</th>\n",
       "      <th>Helthcare_2</th>\n",
       "      <th>Shops_1</th>\n",
       "      <th>Shops_2</th>\n",
       "      <th>Price</th>\n",
       "    </tr>\n",
       "  </thead>\n",
       "  <tbody>\n",
       "    <tr>\n",
       "      <th>0</th>\n",
       "      <td>14038</td>\n",
       "      <td>35</td>\n",
       "      <td>2.0</td>\n",
       "      <td>47.981561</td>\n",
       "      <td>29.442751</td>\n",
       "      <td>6.0</td>\n",
       "      <td>7</td>\n",
       "      <td>9.0</td>\n",
       "      <td>1969</td>\n",
       "      <td>0.089040</td>\n",
       "      <td>B</td>\n",
       "      <td>B</td>\n",
       "      <td>33</td>\n",
       "      <td>7976</td>\n",
       "      <td>5</td>\n",
       "      <td>NaN</td>\n",
       "      <td>0</td>\n",
       "      <td>11</td>\n",
       "      <td>B</td>\n",
       "      <td>184966.930730</td>\n",
       "    </tr>\n",
       "    <tr>\n",
       "      <th>1</th>\n",
       "      <td>15053</td>\n",
       "      <td>41</td>\n",
       "      <td>3.0</td>\n",
       "      <td>65.683640</td>\n",
       "      <td>40.049543</td>\n",
       "      <td>8.0</td>\n",
       "      <td>7</td>\n",
       "      <td>9.0</td>\n",
       "      <td>1978</td>\n",
       "      <td>0.000070</td>\n",
       "      <td>B</td>\n",
       "      <td>B</td>\n",
       "      <td>46</td>\n",
       "      <td>10309</td>\n",
       "      <td>1</td>\n",
       "      <td>240.0</td>\n",
       "      <td>1</td>\n",
       "      <td>16</td>\n",
       "      <td>B</td>\n",
       "      <td>300009.450063</td>\n",
       "    </tr>\n",
       "    <tr>\n",
       "      <th>2</th>\n",
       "      <td>4765</td>\n",
       "      <td>53</td>\n",
       "      <td>2.0</td>\n",
       "      <td>44.947953</td>\n",
       "      <td>29.197612</td>\n",
       "      <td>0.0</td>\n",
       "      <td>8</td>\n",
       "      <td>12.0</td>\n",
       "      <td>1968</td>\n",
       "      <td>0.049637</td>\n",
       "      <td>B</td>\n",
       "      <td>B</td>\n",
       "      <td>34</td>\n",
       "      <td>7759</td>\n",
       "      <td>0</td>\n",
       "      <td>229.0</td>\n",
       "      <td>1</td>\n",
       "      <td>3</td>\n",
       "      <td>B</td>\n",
       "      <td>220925.908524</td>\n",
       "    </tr>\n",
       "    <tr>\n",
       "      <th>3</th>\n",
       "      <td>5809</td>\n",
       "      <td>58</td>\n",
       "      <td>2.0</td>\n",
       "      <td>53.352981</td>\n",
       "      <td>52.731512</td>\n",
       "      <td>9.0</td>\n",
       "      <td>8</td>\n",
       "      <td>17.0</td>\n",
       "      <td>1977</td>\n",
       "      <td>0.437885</td>\n",
       "      <td>B</td>\n",
       "      <td>B</td>\n",
       "      <td>23</td>\n",
       "      <td>5735</td>\n",
       "      <td>3</td>\n",
       "      <td>1084.0</td>\n",
       "      <td>0</td>\n",
       "      <td>5</td>\n",
       "      <td>B</td>\n",
       "      <td>175616.227217</td>\n",
       "    </tr>\n",
       "    <tr>\n",
       "      <th>4</th>\n",
       "      <td>10783</td>\n",
       "      <td>99</td>\n",
       "      <td>1.0</td>\n",
       "      <td>39.649192</td>\n",
       "      <td>23.776169</td>\n",
       "      <td>7.0</td>\n",
       "      <td>11</td>\n",
       "      <td>12.0</td>\n",
       "      <td>1976</td>\n",
       "      <td>0.012339</td>\n",
       "      <td>B</td>\n",
       "      <td>B</td>\n",
       "      <td>35</td>\n",
       "      <td>5776</td>\n",
       "      <td>1</td>\n",
       "      <td>2078.0</td>\n",
       "      <td>2</td>\n",
       "      <td>4</td>\n",
       "      <td>B</td>\n",
       "      <td>150226.531644</td>\n",
       "    </tr>\n",
       "  </tbody>\n",
       "</table>\n",
       "</div>"
      ],
      "text/plain": [
       "      Id  DistrictId  Rooms     Square  LifeSquare  KitchenSquare  Floor  \\\n",
       "0  14038          35    2.0  47.981561   29.442751            6.0      7   \n",
       "1  15053          41    3.0  65.683640   40.049543            8.0      7   \n",
       "2   4765          53    2.0  44.947953   29.197612            0.0      8   \n",
       "3   5809          58    2.0  53.352981   52.731512            9.0      8   \n",
       "4  10783          99    1.0  39.649192   23.776169            7.0     11   \n",
       "\n",
       "   HouseFloor  HouseYear  Ecology_1 Ecology_2 Ecology_3  Social_1  Social_2  \\\n",
       "0         9.0       1969   0.089040         B         B        33      7976   \n",
       "1         9.0       1978   0.000070         B         B        46     10309   \n",
       "2        12.0       1968   0.049637         B         B        34      7759   \n",
       "3        17.0       1977   0.437885         B         B        23      5735   \n",
       "4        12.0       1976   0.012339         B         B        35      5776   \n",
       "\n",
       "   Social_3  Healthcare_1  Helthcare_2  Shops_1 Shops_2          Price  \n",
       "0         5           NaN            0       11       B  184966.930730  \n",
       "1         1         240.0            1       16       B  300009.450063  \n",
       "2         0         229.0            1        3       B  220925.908524  \n",
       "3         3        1084.0            0        5       B  175616.227217  \n",
       "4         1        2078.0            2        4       B  150226.531644  "
      ]
     },
<<<<<<< Updated upstream
     "execution_count": 46,
=======
     "execution_count": 94,
>>>>>>> Stashed changes
     "metadata": {},
     "output_type": "execute_result"
    }
   ],
   "source": [
    "df = pd.read_csv(TRAIN_DATASET_PATH)\n",
    "df.head()"
   ]
  },
  {
   "cell_type": "markdown",
   "id": "c40090a2",
   "metadata": {},
   "source": [
    "#### Уменьшаем объем данных"
   ]
  },
  {
   "cell_type": "code",
<<<<<<< Updated upstream
   "execution_count": 47,
=======
   "execution_count": 95,
>>>>>>> Stashed changes
   "id": "f85fb259",
   "metadata": {},
   "outputs": [
    {
     "name": "stdout",
     "output_type": "stream",
     "text": [
      "Memory usage of dataframe is 1.53 MB\n",
      "Memory usage after optimization is: 0.49 MB\n",
      "Decreased by 68.1%\n"
     ]
    }
   ],
   "source": [
    "def reduce_mem_usage(df):\n",
    "    \"\"\" iterate through all the columns of a dataframe and modify the data type\n",
    "        to reduce memory usage.        \n",
    "    \"\"\"\n",
    "    start_mem = df.memory_usage().sum() / 1024**2\n",
    "    print('Memory usage of dataframe is {:.2f} MB'.format(start_mem))\n",
    "    \n",
    "    for col in df.columns:\n",
    "        col_type = df[col].dtype\n",
    "        \n",
    "        if col_type != object:\n",
    "            c_min = df[col].min()\n",
    "            c_max = df[col].max()\n",
    "            if str(col_type)[:3] == 'int':\n",
    "                if c_min > np.iinfo(np.int8).min and c_max < np.iinfo(np.int8).max:\n",
    "                    df[col] = df[col].astype(np.int8)\n",
    "                elif c_min > np.iinfo(np.int16).min and c_max < np.iinfo(np.int16).max:\n",
    "                    df[col] = df[col].astype(np.int16)\n",
    "                elif c_min > np.iinfo(np.int32).min and c_max < np.iinfo(np.int32).max:\n",
    "                    df[col] = df[col].astype(np.int32)\n",
    "                elif c_min > np.iinfo(np.int64).min and c_max < np.iinfo(np.int64).max:\n",
    "                    df[col] = df[col].astype(np.int64)  \n",
    "            else:\n",
    "                if c_min > np.finfo(np.float32).min and c_max < np.finfo(np.float32).max:\n",
    "                    df[col] = df[col].astype(np.float32)\n",
    "                else:\n",
    "                    df[col] = df[col].astype(np.float64)\n",
    "        else:\n",
    "            df[col] = df[col].astype('category')\n",
    "\n",
    "    end_mem = df.memory_usage().sum() / 1024**2\n",
    "    print('Memory usage after optimization is: {:.2f} MB'.format(end_mem))\n",
    "    print('Decreased by {:.1f}%'.format(100 * (start_mem - end_mem) / start_mem))\n",
    "    \n",
    "    return df\n",
    "df = reduce_mem_usage(df)"
   ]
  },
  {
   "cell_type": "code",
<<<<<<< Updated upstream
   "execution_count": 48,
=======
   "execution_count": 96,
>>>>>>> Stashed changes
   "id": "053b1439",
   "metadata": {},
   "outputs": [
    {
     "name": "stdout",
     "output_type": "stream",
     "text": [
      "<class 'pandas.core.frame.DataFrame'>\n",
      "RangeIndex: 10000 entries, 0 to 9999\n",
      "Data columns (total 20 columns):\n",
      " #   Column         Non-Null Count  Dtype   \n",
      "---  ------         --------------  -----   \n",
      " 0   Id             10000 non-null  int16   \n",
      " 1   DistrictId     10000 non-null  int16   \n",
      " 2   Rooms          10000 non-null  float32 \n",
      " 3   Square         10000 non-null  float32 \n",
      " 4   LifeSquare     7887 non-null   float32 \n",
      " 5   KitchenSquare  10000 non-null  float32 \n",
      " 6   Floor          10000 non-null  int8    \n",
      " 7   HouseFloor     10000 non-null  float32 \n",
      " 8   HouseYear      10000 non-null  int32   \n",
      " 9   Ecology_1      10000 non-null  float32 \n",
      " 10  Ecology_2      10000 non-null  category\n",
      " 11  Ecology_3      10000 non-null  category\n",
      " 12  Social_1       10000 non-null  int8    \n",
      " 13  Social_2       10000 non-null  int16   \n",
      " 14  Social_3       10000 non-null  int16   \n",
      " 15  Healthcare_1   5202 non-null   float32 \n",
      " 16  Helthcare_2    10000 non-null  int8    \n",
      " 17  Shops_1        10000 non-null  int8    \n",
      " 18  Shops_2        10000 non-null  category\n",
      " 19  Price          10000 non-null  float32 \n",
      "dtypes: category(3), float32(8), int16(4), int32(1), int8(4)\n",
      "memory usage: 498.5 KB\n"
     ]
    }
   ],
   "source": [
    "df.info()"
   ]
  },
  {
   "cell_type": "markdown",
   "id": "390bac4f",
   "metadata": {},
   "source": [
    "### Оценим имеющиеся данные"
   ]
  },
  {
   "cell_type": "code",
   "execution_count": null,
   "id": "65498149",
   "metadata": {},
   "outputs": [],
   "source": []
  },
  {
   "cell_type": "code",
<<<<<<< Updated upstream
   "execution_count": 49,
=======
   "execution_count": 97,
>>>>>>> Stashed changes
   "id": "dd1151fa",
   "metadata": {},
   "outputs": [
    {
     "data": {
      "image/png": "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\n",
      "text/plain": [
       "<Figure size 1152x576 with 1 Axes>"
      ]
     },
     "metadata": {
      "needs_background": "light"
     },
     "output_type": "display_data"
    }
   ],
   "source": [
    "plt.figure(figsize = (16, 8))\n",
    "\n",
    "sns.distplot(df['Price'], bins=25)\n",
    "\n",
    "y = np.linspace(0, 0.000008, 10)\n",
    "plt.plot([df['Price'].mean()] * 10, y, label='mean', linestyle=':', linewidth=4)\n",
    "plt.plot([df['Price'].median()] * 10, y, label='median', linestyle='--', linewidth=4)\n",
    "plt.plot([df['Price'].mode()[0] // 10000 * 10000] * 10, y, label='mode', linestyle='-.', linewidth=4)\n",
    "\n",
    "plt.title('Distribution of Price')\n",
    "plt.legend()\n",
    "plt.show()"
   ]
  },
  {
   "cell_type": "markdown",
   "id": "3fc54181",
   "metadata": {},
   "source": [
    "Среднее значение немного смещено изза ассиметрии в право, однако мода и медиана достаточно близко, и в целом мы видим нормально распределение. Длина хвоста говорит нам, что сильно дорогих кавртир на много больше сильно дешевых."
   ]
  },
  {
   "cell_type": "code",
<<<<<<< Updated upstream
   "execution_count": 50,
=======
   "execution_count": 98,
>>>>>>> Stashed changes
   "id": "2dd37529",
   "metadata": {},
   "outputs": [
    {
     "data": {
      "image/png": "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\n",
      "text/plain": [
       "<Figure size 720x504 with 2 Axes>"
      ]
     },
     "metadata": {
      "needs_background": "light"
     },
     "output_type": "display_data"
    }
   ],
   "source": [
    "plt.figure(figsize = (10,7))\n",
    "\n",
    "sns.set(font_scale=1.4)\n",
    "\n",
    "corr_matrix = df.corr()\n",
    "corr_matrix = np.round(corr_matrix, 2)\n",
    "corr_matrix[np.abs(corr_matrix) < 0.3] = 0\n",
    "\n",
    "sns.heatmap(corr_matrix, annot=True, linewidths=.5, cmap='coolwarm')\n",
    "\n",
    "plt.title('Correlation matrix')\n",
    "plt.show()"
   ]
  },
  {
   "cell_type": "markdown",
   "id": "7f04663a",
   "metadata": {},
   "source": [
    "#### Разбиваем на трейн и тест"
   ]
  },
  {
   "cell_type": "code",
<<<<<<< Updated upstream
   "execution_count": 51,
=======
   "execution_count": 99,
>>>>>>> Stashed changes
   "id": "f9dd9254",
   "metadata": {},
   "outputs": [],
   "source": [
    "X_train, y_train = df.drop(\"Price\", axis = 1), df[\"Price\"]"
   ]
  },
  {
   "cell_type": "code",
<<<<<<< Updated upstream
   "execution_count": 52,
=======
   "execution_count": 100,
>>>>>>> Stashed changes
   "id": "a5c3f0eb",
   "metadata": {},
   "outputs": [],
   "source": [
    "X_test = pd.read_csv(TEST_DATASET_PATH)\n",
    "IKurkov_predictions = pd.DataFrame(X_test['Id']) # для того, чтоб потом можно было получить ID, Price для выгрузки ответов. "
   ]
  },
  {
   "cell_type": "code",
<<<<<<< Updated upstream
   "execution_count": 53,
=======
   "execution_count": 101,
>>>>>>> Stashed changes
   "id": "b29740dd",
   "metadata": {
    "scrolled": true
   },
   "outputs": [
    {
     "data": {
      "text/html": [
       "<div>\n",
       "<style scoped>\n",
       "    .dataframe tbody tr th:only-of-type {\n",
       "        vertical-align: middle;\n",
       "    }\n",
       "\n",
       "    .dataframe tbody tr th {\n",
       "        vertical-align: top;\n",
       "    }\n",
       "\n",
       "    .dataframe thead th {\n",
       "        text-align: right;\n",
       "    }\n",
       "</style>\n",
       "<table border=\"1\" class=\"dataframe\">\n",
       "  <thead>\n",
       "    <tr style=\"text-align: right;\">\n",
       "      <th></th>\n",
       "      <th>Id</th>\n",
       "      <th>DistrictId</th>\n",
       "      <th>Rooms</th>\n",
       "      <th>Square</th>\n",
       "      <th>LifeSquare</th>\n",
       "      <th>KitchenSquare</th>\n",
       "      <th>Floor</th>\n",
       "      <th>HouseFloor</th>\n",
       "      <th>HouseYear</th>\n",
       "      <th>Ecology_1</th>\n",
       "      <th>Social_1</th>\n",
       "      <th>Social_2</th>\n",
       "      <th>Social_3</th>\n",
       "      <th>Healthcare_1</th>\n",
       "      <th>Helthcare_2</th>\n",
       "      <th>Shops_1</th>\n",
       "    </tr>\n",
       "  </thead>\n",
       "  <tbody>\n",
       "    <tr>\n",
       "      <th>count</th>\n",
       "      <td>10000.00000</td>\n",
       "      <td>10000.000000</td>\n",
       "      <td>10000.000000</td>\n",
       "      <td>10000.000000</td>\n",
       "      <td>7887.000000</td>\n",
       "      <td>10000.000000</td>\n",
       "      <td>10000.000000</td>\n",
       "      <td>10000.000000</td>\n",
       "      <td>1.000000e+04</td>\n",
       "      <td>10000.000000</td>\n",
       "      <td>10000.000000</td>\n",
       "      <td>10000.000000</td>\n",
       "      <td>10000.000000</td>\n",
       "      <td>5202.000000</td>\n",
       "      <td>10000.000000</td>\n",
       "      <td>10000.000000</td>\n",
       "    </tr>\n",
       "    <tr>\n",
       "      <th>mean</th>\n",
       "      <td>8383.40770</td>\n",
       "      <td>50.400800</td>\n",
       "      <td>1.890500</td>\n",
       "      <td>56.315712</td>\n",
       "      <td>37.199596</td>\n",
       "      <td>6.273300</td>\n",
       "      <td>8.526700</td>\n",
       "      <td>12.609400</td>\n",
       "      <td>3.990166e+03</td>\n",
       "      <td>0.118858</td>\n",
       "      <td>24.687000</td>\n",
       "      <td>5352.157400</td>\n",
       "      <td>8.039200</td>\n",
       "      <td>1142.904419</td>\n",
       "      <td>1.319500</td>\n",
       "      <td>4.231300</td>\n",
       "    </tr>\n",
       "    <tr>\n",
       "      <th>std</th>\n",
       "      <td>4859.01902</td>\n",
       "      <td>43.587592</td>\n",
       "      <td>0.839523</td>\n",
       "      <td>21.058718</td>\n",
       "      <td>86.241112</td>\n",
       "      <td>28.561113</td>\n",
       "      <td>5.241148</td>\n",
       "      <td>6.776192</td>\n",
       "      <td>2.005003e+05</td>\n",
       "      <td>0.119026</td>\n",
       "      <td>17.532614</td>\n",
       "      <td>4006.799803</td>\n",
       "      <td>23.831875</td>\n",
       "      <td>1021.518982</td>\n",
       "      <td>1.493601</td>\n",
       "      <td>4.806341</td>\n",
       "    </tr>\n",
       "    <tr>\n",
       "      <th>min</th>\n",
       "      <td>0.00000</td>\n",
       "      <td>0.000000</td>\n",
       "      <td>0.000000</td>\n",
       "      <td>1.136859</td>\n",
       "      <td>0.370619</td>\n",
       "      <td>0.000000</td>\n",
       "      <td>1.000000</td>\n",
       "      <td>0.000000</td>\n",
       "      <td>1.910000e+03</td>\n",
       "      <td>0.000000</td>\n",
       "      <td>0.000000</td>\n",
       "      <td>168.000000</td>\n",
       "      <td>0.000000</td>\n",
       "      <td>0.000000</td>\n",
       "      <td>0.000000</td>\n",
       "      <td>0.000000</td>\n",
       "    </tr>\n",
       "    <tr>\n",
       "      <th>25%</th>\n",
       "      <td>4169.50000</td>\n",
       "      <td>20.000000</td>\n",
       "      <td>1.000000</td>\n",
       "      <td>41.774879</td>\n",
       "      <td>22.769833</td>\n",
       "      <td>1.000000</td>\n",
       "      <td>4.000000</td>\n",
       "      <td>9.000000</td>\n",
       "      <td>1.974000e+03</td>\n",
       "      <td>0.017647</td>\n",
       "      <td>6.000000</td>\n",
       "      <td>1564.000000</td>\n",
       "      <td>0.000000</td>\n",
       "      <td>350.000000</td>\n",
       "      <td>0.000000</td>\n",
       "      <td>1.000000</td>\n",
       "    </tr>\n",
       "    <tr>\n",
       "      <th>50%</th>\n",
       "      <td>8394.50000</td>\n",
       "      <td>36.000000</td>\n",
       "      <td>2.000000</td>\n",
       "      <td>52.513309</td>\n",
       "      <td>32.781261</td>\n",
       "      <td>6.000000</td>\n",
       "      <td>7.000000</td>\n",
       "      <td>13.000000</td>\n",
       "      <td>1.977000e+03</td>\n",
       "      <td>0.075424</td>\n",
       "      <td>25.000000</td>\n",
       "      <td>5285.000000</td>\n",
       "      <td>2.000000</td>\n",
       "      <td>900.000000</td>\n",
       "      <td>1.000000</td>\n",
       "      <td>3.000000</td>\n",
       "    </tr>\n",
       "    <tr>\n",
       "      <th>75%</th>\n",
       "      <td>12592.50000</td>\n",
       "      <td>75.000000</td>\n",
       "      <td>2.000000</td>\n",
       "      <td>65.900627</td>\n",
       "      <td>45.128803</td>\n",
       "      <td>9.000000</td>\n",
       "      <td>12.000000</td>\n",
       "      <td>17.000000</td>\n",
       "      <td>2.001000e+03</td>\n",
       "      <td>0.195781</td>\n",
       "      <td>36.000000</td>\n",
       "      <td>7227.000000</td>\n",
       "      <td>5.000000</td>\n",
       "      <td>1548.000000</td>\n",
       "      <td>2.000000</td>\n",
       "      <td>6.000000</td>\n",
       "    </tr>\n",
       "    <tr>\n",
       "      <th>max</th>\n",
       "      <td>16798.00000</td>\n",
       "      <td>209.000000</td>\n",
       "      <td>19.000000</td>\n",
       "      <td>641.065186</td>\n",
       "      <td>7480.592285</td>\n",
       "      <td>2014.000000</td>\n",
       "      <td>42.000000</td>\n",
       "      <td>117.000000</td>\n",
       "      <td>2.005201e+07</td>\n",
       "      <td>0.521867</td>\n",
       "      <td>74.000000</td>\n",
       "      <td>19083.000000</td>\n",
       "      <td>141.000000</td>\n",
       "      <td>4849.000000</td>\n",
       "      <td>6.000000</td>\n",
       "      <td>23.000000</td>\n",
       "    </tr>\n",
       "  </tbody>\n",
       "</table>\n",
       "</div>"
      ],
      "text/plain": [
       "                Id    DistrictId         Rooms        Square   LifeSquare  \\\n",
       "count  10000.00000  10000.000000  10000.000000  10000.000000  7887.000000   \n",
       "mean    8383.40770     50.400800      1.890500     56.315712    37.199596   \n",
       "std     4859.01902     43.587592      0.839523     21.058718    86.241112   \n",
       "min        0.00000      0.000000      0.000000      1.136859     0.370619   \n",
       "25%     4169.50000     20.000000      1.000000     41.774879    22.769833   \n",
       "50%     8394.50000     36.000000      2.000000     52.513309    32.781261   \n",
       "75%    12592.50000     75.000000      2.000000     65.900627    45.128803   \n",
       "max    16798.00000    209.000000     19.000000    641.065186  7480.592285   \n",
       "\n",
       "       KitchenSquare         Floor    HouseFloor     HouseYear     Ecology_1  \\\n",
       "count   10000.000000  10000.000000  10000.000000  1.000000e+04  10000.000000   \n",
       "mean        6.273300      8.526700     12.609400  3.990166e+03      0.118858   \n",
       "std        28.561113      5.241148      6.776192  2.005003e+05      0.119026   \n",
       "min         0.000000      1.000000      0.000000  1.910000e+03      0.000000   \n",
       "25%         1.000000      4.000000      9.000000  1.974000e+03      0.017647   \n",
       "50%         6.000000      7.000000     13.000000  1.977000e+03      0.075424   \n",
       "75%         9.000000     12.000000     17.000000  2.001000e+03      0.195781   \n",
       "max      2014.000000     42.000000    117.000000  2.005201e+07      0.521867   \n",
       "\n",
       "           Social_1      Social_2      Social_3  Healthcare_1   Helthcare_2  \\\n",
       "count  10000.000000  10000.000000  10000.000000   5202.000000  10000.000000   \n",
       "mean      24.687000   5352.157400      8.039200   1142.904419      1.319500   \n",
       "std       17.532614   4006.799803     23.831875   1021.518982      1.493601   \n",
       "min        0.000000    168.000000      0.000000      0.000000      0.000000   \n",
       "25%        6.000000   1564.000000      0.000000    350.000000      0.000000   \n",
       "50%       25.000000   5285.000000      2.000000    900.000000      1.000000   \n",
       "75%       36.000000   7227.000000      5.000000   1548.000000      2.000000   \n",
       "max       74.000000  19083.000000    141.000000   4849.000000      6.000000   \n",
       "\n",
       "            Shops_1  \n",
       "count  10000.000000  \n",
       "mean       4.231300  \n",
       "std        4.806341  \n",
       "min        0.000000  \n",
       "25%        1.000000  \n",
       "50%        3.000000  \n",
       "75%        6.000000  \n",
       "max       23.000000  "
      ]
     },
<<<<<<< Updated upstream
     "execution_count": 53,
=======
     "execution_count": 101,
>>>>>>> Stashed changes
     "metadata": {},
     "output_type": "execute_result"
    }
   ],
   "source": [
    "X_train.describe()"
   ]
  },
  {
   "cell_type": "markdown",
   "id": "e77fa847",
   "metadata": {},
   "source": [
    "##### Первый взгляд на данные.\n",
    "- Id можно исключить из анализа, т.к. он не несет полезной информации, только индекс. Или использовать вместо индекса строк.\n",
    "- District т.к. это скорее категориальное значение можно заменить модой\n",
    "- Rooms 0 врядли верное значение, даже студия считается минимум 1 комнатой. Можно высчитать среднюю площадь на комнату из имеющихся данных и вставлять в 0 значения Lifesquare / среднее площадь и округлить до целого. Также стоит проверить максимальное значеие комнат.\n",
    "- Square минимальная и максимальная площадь подозрительны\n",
    "- LifeSquare  также минимальная и максимальное значение подозрительны.\n",
    "- KitchenSquare таже история с максимальным. \n",
    "- Floor вроде все ок, разве что проверить максимальное значение..\n",
    "- HouseFloor 0 этажей не может быть. \n",
    "- HouseYear перевести год постройки в возвраст дома.\n",
    "- Ecology_1\tSocial_1\tSocial_2\tSocial_3\tHealthcare_1\tHelthcare_2\tShops_1 не понятно, что за показатели, так что нужно посмотреть в первую очередь, как можно заполнить НаН значения.\n",
    "\n"
   ]
  },
  {
   "cell_type": "markdown",
   "id": "133659d0",
   "metadata": {},
   "source": [
    "#### Id"
   ]
  },
  {
   "cell_type": "code",
<<<<<<< Updated upstream
   "execution_count": 54,
=======
   "execution_count": 102,
>>>>>>> Stashed changes
   "id": "bffd8ba0",
   "metadata": {},
   "outputs": [],
   "source": [
    "X_train = X_train.drop('Id', axis=1)"
   ]
  },
  {
   "cell_type": "markdown",
   "id": "2ee68e91",
   "metadata": {},
   "source": [
    "Уберем признак, т.к. он не информатьивен."
   ]
  },
  {
   "cell_type": "markdown",
   "id": "e819968a",
   "metadata": {},
   "source": [
    "#### DistrictId"
   ]
  },
  {
   "cell_type": "code",
<<<<<<< Updated upstream
   "execution_count": 55,
=======
   "execution_count": 103,
>>>>>>> Stashed changes
   "id": "8ef074fc",
   "metadata": {},
   "outputs": [
    {
     "data": {
      "text/plain": [
       "27     851\n",
       "1      652\n",
       "23     565\n",
       "6      511\n",
       "9      294\n",
       "      ... \n",
       "196      1\n",
       "117      1\n",
       "205      1\n",
       "199      1\n",
       "207      1\n",
       "Name: DistrictId, Length: 205, dtype: int64"
      ]
     },
<<<<<<< Updated upstream
     "execution_count": 55,
=======
     "execution_count": 103,
>>>>>>> Stashed changes
     "metadata": {},
     "output_type": "execute_result"
    }
   ],
   "source": [
    "X_train['DistrictId'].value_counts()"
   ]
  },
  {
   "cell_type": "markdown",
   "id": "b3189fd1",
   "metadata": {},
   "source": [
    "В целом наблюдения похожи, так что скорее всего 0 это не выброс, а счет идет с 0 включительно. Т.к. этот признак номинальный, надо его привести к количественному. Как вариант, нормализовать по доли. Таким образом, мы номер района превратим в индекс популярности."
   ]
  },
  {
   "cell_type": "code",
   "execution_count": null,
   "id": "b26d3e86",
   "metadata": {},
   "outputs": [],
   "source": []
  },
  {
   "cell_type": "code",
<<<<<<< Updated upstream
   "execution_count": 56,
=======
   "execution_count": 104,
>>>>>>> Stashed changes
   "id": "f66a6884",
   "metadata": {},
   "outputs": [],
   "source": [
    "distict_dict = X_train[\"DistrictId\"].value_counts(normalize=True).to_dict()"
   ]
  },
  {
   "cell_type": "code",
<<<<<<< Updated upstream
   "execution_count": 57,
=======
   "execution_count": 105,
>>>>>>> Stashed changes
   "id": "42f01e15",
   "metadata": {},
   "outputs": [],
   "source": [
    "X_train.replace({\"DistrictId\": distict_dict}, inplace=True )"
   ]
  },
  {
   "cell_type": "code",
<<<<<<< Updated upstream
   "execution_count": 58,
=======
   "execution_count": 106,
>>>>>>> Stashed changes
   "id": "d3e000f2",
   "metadata": {},
   "outputs": [
    {
     "data": {
      "text/plain": [
       "0.0851    851\n",
       "0.0652    652\n",
       "0.0565    565\n",
       "0.0511    511\n",
       "0.0097    388\n",
       "         ... \n",
       "0.0021     21\n",
       "0.0019     19\n",
       "0.0003     15\n",
       "0.0002     12\n",
       "0.0001      7\n",
       "Name: DistrictId, Length: 90, dtype: int64"
      ]
     },
<<<<<<< Updated upstream
     "execution_count": 58,
=======
     "execution_count": 106,
>>>>>>> Stashed changes
     "metadata": {},
     "output_type": "execute_result"
    }
   ],
   "source": [
    "X_train[\"DistrictId\"].value_counts()"
   ]
  },
  {
   "cell_type": "markdown",
   "id": "589fca7d",
   "metadata": {},
   "source": [
    "#### Rooms"
   ]
  },
  {
   "cell_type": "code",
<<<<<<< Updated upstream
   "execution_count": 59,
=======
   "execution_count": 107,
>>>>>>> Stashed changes
   "id": "a661d0af",
   "metadata": {},
   "outputs": [
    {
     "data": {
      "text/plain": [
       "2.0     3880\n",
       "1.0     3705\n",
       "3.0     2235\n",
       "4.0      150\n",
       "5.0       18\n",
       "0.0        8\n",
       "10.0       2\n",
       "6.0        1\n",
       "19.0       1\n",
       "Name: Rooms, dtype: int64"
      ]
     },
<<<<<<< Updated upstream
     "execution_count": 59,
=======
     "execution_count": 107,
>>>>>>> Stashed changes
     "metadata": {},
     "output_type": "execute_result"
    }
   ],
   "source": [
    "X_train['Rooms'].value_counts()"
   ]
  },
  {
   "cell_type": "markdown",
   "id": "4fda8f42",
   "metadata": {},
   "source": [
    "Хоть по статистике и получается, что 4 и более комнат являются выбросами, но после просмотра данных по этим квартирам становится ясно, что 4 комнаты, это просто большие квартиры, а выбросы это  5 и более комнат.\n",
    "По этому обработаем выбросы, заменив на ближайшее нормальное значение, и создадим доп признак для выделения изменения.  "
   ]
  },
  {
   "cell_type": "code",
<<<<<<< Updated upstream
   "execution_count": 60,
=======
   "execution_count": 108,
>>>>>>> Stashed changes
   "id": "afe02c20",
   "metadata": {},
   "outputs": [],
   "source": [
    "X_train[\"Rooms_outlier\"] = 0\n",
    "X_train.loc[(X_train[\"Rooms\"] >= 5), \"Rooms_outlier\"] = 1\n",
    "X_train.loc[(X_train[\"Rooms\"] >= 5), \"Rooms\"] = 4\n"
   ]
  },
  {
   "cell_type": "markdown",
   "id": "480bb1f1",
   "metadata": {},
   "source": [
    "#### KitchenSquare"
   ]
  },
  {
   "cell_type": "code",
<<<<<<< Updated upstream
   "execution_count": 61,
=======
   "execution_count": 109,
>>>>>>> Stashed changes
   "id": "1bc4f26a",
   "metadata": {},
   "outputs": [],
   "source": [
    "X_train.loc[X_train[\"KitchenSquare\"] > 150, \"KitchenSquare\"] = X_train[\"KitchenSquare\"].median() # отсечем явно ошибочные значения"
   ]
  },
  {
   "cell_type": "markdown",
   "id": "c91e25f9",
   "metadata": {},
   "source": [
    "#### LifeSquare"
   ]
  },
  {
   "cell_type": "markdown",
   "id": "67556f47",
   "metadata": {},
   "source": [
    "Заполняя Нан значения средним или медианой по признаку, получается большой перекос, т.к. пропущенных значений слишком много.  Мы можем расчитать средний коэффициент отношения жилой площади к общей площади, и используя его спрогнозировать пропущенные значения."
   ]
  },
  {
   "cell_type": "code",
<<<<<<< Updated upstream
   "execution_count": 62,
=======
   "execution_count": 110,
>>>>>>> Stashed changes
   "id": "d32e357b",
   "metadata": {},
   "outputs": [],
   "source": [
    "X_train[\"LifeSquare_nan\"] = 0\n",
    "X_train.loc[X_train[\"LifeSquare\"].isnull(), \"LifeSquare_nan\"] = 1"
   ]
  },
  {
   "cell_type": "code",
<<<<<<< Updated upstream
   "execution_count": 63,
=======
   "execution_count": 111,
>>>>>>> Stashed changes
   "id": "7db1d27c",
   "metadata": {},
   "outputs": [],
   "source": [
    "life_square_coef =  X_train[\"LifeSquare\"].mean() / X_train[\"Square\"].mean()\n",
    "X_train.loc[X_train[\"LifeSquare\"].isnull(), \"LifeSquare\"] = X_train.loc[X_train[\"LifeSquare\"].isnull(), \"Square\"] * life_square_coef"
   ]
  },
  {
   "cell_type": "markdown",
   "id": "8180f6fa",
   "metadata": {},
   "source": [
    "#### Floor"
   ]
  },
  {
   "cell_type": "markdown",
   "id": "66132114",
   "metadata": {},
   "source": [
    "Как правило первый и последний этажи стоят дешевле, можно это пометить.\n"
   ]
  },
  {
   "cell_type": "code",
<<<<<<< Updated upstream
   "execution_count": 64,
=======
   "execution_count": 112,
>>>>>>> Stashed changes
   "id": "795b3b5c",
   "metadata": {},
   "outputs": [],
   "source": [
    "bad_floor = (X_train[\"Floor\"] == 1) | (X_train[\"Floor\"] == X_train[\"HouseFloor\"])\n",
    "X_train[\"Bad_floor\"] = 0\n",
    "X_train.loc[bad_floor, \"Bad_floor\"] = 1"
   ]
  },
  {
   "cell_type": "markdown",
   "id": "dcb159c1",
   "metadata": {},
   "source": [
    "#### HouseFloor\t"
   ]
  },
  {
   "cell_type": "code",
<<<<<<< Updated upstream
   "execution_count": 65,
=======
   "execution_count": 113,
>>>>>>> Stashed changes
   "id": "2bcbf671",
   "metadata": {
    "scrolled": true
   },
   "outputs": [
    {
     "data": {
      "text/html": [
       "<div>\n",
       "<style scoped>\n",
       "    .dataframe tbody tr th:only-of-type {\n",
       "        vertical-align: middle;\n",
       "    }\n",
       "\n",
       "    .dataframe tbody tr th {\n",
       "        vertical-align: top;\n",
       "    }\n",
       "\n",
       "    .dataframe thead th {\n",
       "        text-align: right;\n",
       "    }\n",
       "</style>\n",
       "<table border=\"1\" class=\"dataframe\">\n",
       "  <thead>\n",
       "    <tr style=\"text-align: right;\">\n",
       "      <th></th>\n",
       "      <th>DistrictId</th>\n",
       "      <th>Rooms</th>\n",
       "      <th>Square</th>\n",
       "      <th>LifeSquare</th>\n",
       "      <th>KitchenSquare</th>\n",
       "      <th>Floor</th>\n",
       "      <th>HouseFloor</th>\n",
       "      <th>HouseYear</th>\n",
       "      <th>Ecology_1</th>\n",
       "      <th>Ecology_2</th>\n",
       "      <th>...</th>\n",
       "      <th>Social_1</th>\n",
       "      <th>Social_2</th>\n",
       "      <th>Social_3</th>\n",
       "      <th>Healthcare_1</th>\n",
       "      <th>Helthcare_2</th>\n",
       "      <th>Shops_1</th>\n",
       "      <th>Shops_2</th>\n",
       "      <th>Rooms_outlier</th>\n",
       "      <th>LifeSquare_nan</th>\n",
       "      <th>Bad_floor</th>\n",
       "    </tr>\n",
       "  </thead>\n",
       "  <tbody>\n",
       "    <tr>\n",
       "      <th>7</th>\n",
       "      <td>0.0114</td>\n",
       "      <td>2.0</td>\n",
       "      <td>80.312927</td>\n",
       "      <td>53.051064</td>\n",
<<<<<<< Updated upstream
       "      <td>0.0</td>\n",
       "      <td>14</td>\n",
       "      <td>0.0</td>\n",
=======
       "      <td>0.0</td>\n",
       "      <td>14</td>\n",
       "      <td>0.0</td>\n",
>>>>>>> Stashed changes
       "      <td>1977</td>\n",
       "      <td>0.075779</td>\n",
       "      <td>B</td>\n",
       "      <td>...</td>\n",
       "      <td>6</td>\n",
       "      <td>1437</td>\n",
       "      <td>3</td>\n",
       "      <td>NaN</td>\n",
       "      <td>0</td>\n",
       "      <td>2</td>\n",
       "      <td>B</td>\n",
       "      <td>0</td>\n",
       "      <td>1</td>\n",
       "      <td>0</td>\n",
       "    </tr>\n",
       "    <tr>\n",
       "      <th>23</th>\n",
       "      <td>0.0037</td>\n",
       "      <td>3.0</td>\n",
       "      <td>118.907608</td>\n",
       "      <td>78.544952</td>\n",
       "      <td>0.0</td>\n",
       "      <td>2</td>\n",
       "      <td>0.0</td>\n",
       "      <td>1977</td>\n",
       "      <td>0.006076</td>\n",
       "      <td>B</td>\n",
       "      <td>...</td>\n",
       "      <td>30</td>\n",
       "      <td>5285</td>\n",
       "      <td>0</td>\n",
       "      <td>645.0</td>\n",
       "      <td>6</td>\n",
       "      <td>6</td>\n",
       "      <td>B</td>\n",
       "      <td>0</td>\n",
       "      <td>1</td>\n",
       "      <td>0</td>\n",
       "    </tr>\n",
       "    <tr>\n",
       "      <th>26</th>\n",
       "      <td>0.0851</td>\n",
       "      <td>3.0</td>\n",
       "      <td>106.958870</td>\n",
       "      <td>0.641822</td>\n",
       "      <td>0.0</td>\n",
       "      <td>17</td>\n",
       "      <td>0.0</td>\n",
       "      <td>2018</td>\n",
       "      <td>0.072158</td>\n",
       "      <td>B</td>\n",
       "      <td>...</td>\n",
       "      <td>2</td>\n",
       "      <td>629</td>\n",
       "      <td>1</td>\n",
       "      <td>NaN</td>\n",
       "      <td>0</td>\n",
       "      <td>0</td>\n",
       "      <td>A</td>\n",
       "      <td>0</td>\n",
       "      <td>0</td>\n",
       "      <td>0</td>\n",
       "    </tr>\n",
       "    <tr>\n",
       "      <th>39</th>\n",
       "      <td>0.0565</td>\n",
       "      <td>2.0</td>\n",
       "      <td>60.503250</td>\n",
       "      <td>39.965691</td>\n",
       "      <td>0.0</td>\n",
       "      <td>16</td>\n",
       "      <td>0.0</td>\n",
       "      <td>1977</td>\n",
       "      <td>0.034656</td>\n",
       "      <td>B</td>\n",
       "      <td>...</td>\n",
       "      <td>0</td>\n",
       "      <td>168</td>\n",
       "      <td>0</td>\n",
       "      <td>NaN</td>\n",
       "      <td>0</td>\n",
       "      <td>0</td>\n",
       "      <td>B</td>\n",
       "      <td>0</td>\n",
       "      <td>1</td>\n",
       "      <td>0</td>\n",
       "    </tr>\n",
       "    <tr>\n",
       "      <th>44</th>\n",
       "      <td>0.0036</td>\n",
       "      <td>3.0</td>\n",
       "      <td>104.211395</td>\n",
       "      <td>106.340401</td>\n",
       "      <td>0.0</td>\n",
       "      <td>20</td>\n",
       "      <td>0.0</td>\n",
       "      <td>2017</td>\n",
       "      <td>0.060753</td>\n",
       "      <td>B</td>\n",
       "      <td>...</td>\n",
       "      <td>15</td>\n",
       "      <td>2787</td>\n",
       "      <td>2</td>\n",
       "      <td>520.0</td>\n",
       "      <td>0</td>\n",
       "      <td>7</td>\n",
       "      <td>B</td>\n",
       "      <td>0</td>\n",
       "      <td>0</td>\n",
       "      <td>0</td>\n",
       "    </tr>\n",
       "  </tbody>\n",
       "</table>\n",
       "<p>5 rows × 21 columns</p>\n",
       "</div>"
      ],
      "text/plain": [
       "    DistrictId  Rooms      Square  LifeSquare  KitchenSquare  Floor  \\\n",
       "7       0.0114    2.0   80.312927   53.051064            0.0     14   \n",
       "23      0.0037    3.0  118.907608   78.544952            0.0      2   \n",
       "26      0.0851    3.0  106.958870    0.641822            0.0     17   \n",
       "39      0.0565    2.0   60.503250   39.965691            0.0     16   \n",
       "44      0.0036    3.0  104.211395  106.340401            0.0     20   \n",
       "\n",
       "    HouseFloor  HouseYear  Ecology_1 Ecology_2  ... Social_1  Social_2  \\\n",
       "7          0.0       1977   0.075779         B  ...        6      1437   \n",
       "23         0.0       1977   0.006076         B  ...       30      5285   \n",
       "26         0.0       2018   0.072158         B  ...        2       629   \n",
       "39         0.0       1977   0.034656         B  ...        0       168   \n",
       "44         0.0       2017   0.060753         B  ...       15      2787   \n",
       "\n",
       "    Social_3  Healthcare_1  Helthcare_2  Shops_1  Shops_2 Rooms_outlier  \\\n",
       "7          3           NaN            0        2        B             0   \n",
       "23         0         645.0            6        6        B             0   \n",
       "26         1           NaN            0        0        A             0   \n",
       "39         0           NaN            0        0        B             0   \n",
       "44         2         520.0            0        7        B             0   \n",
       "\n",
       "    LifeSquare_nan  Bad_floor  \n",
       "7                1          0  \n",
       "23               1          0  \n",
       "26               0          0  \n",
       "39               1          0  \n",
       "44               0          0  \n",
       "\n",
       "[5 rows x 21 columns]"
      ]
     },
<<<<<<< Updated upstream
     "execution_count": 65,
=======
     "execution_count": 113,
>>>>>>> Stashed changes
     "metadata": {},
     "output_type": "execute_result"
    }
   ],
   "source": [
    "X_train.loc[X_train[\"HouseFloor\"] == 0].head(5) # 0 этажей явно ошибка"
   ]
  },
  {
   "cell_type": "markdown",
   "id": "10e4a94c",
   "metadata": {},
   "source": [
    "Заменим 0 этажи значением этажа продаваемой квартиры."
   ]
  },
  {
   "cell_type": "code",
<<<<<<< Updated upstream
   "execution_count": 66,
=======
   "execution_count": 114,
>>>>>>> Stashed changes
   "id": "74e33987",
   "metadata": {},
   "outputs": [],
   "source": [
    "X_train[\"HouseFloor_outlier\"] = 0\n",
    "X_train.loc[X_train[\"HouseFloor\"] == 0, \"HouseFloor_outlier\"] = 1\n",
    "X_train.loc[X_train[\"HouseFloor\"] == 0, \"HouseFloor\"] = X_train.loc[X_train[\"HouseFloor\"] == 0, \"Floor\"]"
   ]
  },
  {
   "cell_type": "markdown",
   "id": "2a377896",
   "metadata": {},
   "source": [
    "#### HouseYear"
   ]
  },
  {
   "cell_type": "markdown",
   "id": "de27d27a",
   "metadata": {},
   "source": [
    "Переведем год постройки в возраст дома."
   ]
  },
  {
   "cell_type": "code",
<<<<<<< Updated upstream
   "execution_count": 67,
=======
   "execution_count": 115,
>>>>>>> Stashed changes
   "id": "94e527bc",
   "metadata": {},
   "outputs": [],
   "source": [
    "from datetime import datetime\n",
    "x = datetime.now()\n",
    "X_train.loc[X_train[\"HouseYear\"] > x.year, \"HouseYear\"] = X_train[\"HouseYear\"].median()\n",
    "X_train[\"HouseYear\"] = x.year - X_train[\"HouseYear\"]\n"
   ]
  },
  {
   "cell_type": "code",
<<<<<<< Updated upstream
   "execution_count": 68,
=======
   "execution_count": 116,
>>>>>>> Stashed changes
   "id": "11b3ddbe",
   "metadata": {},
   "outputs": [
    {
     "data": {
      "text/plain": [
       "<AxesSubplot:>"
      ]
     },
<<<<<<< Updated upstream
     "execution_count": 68,
=======
     "execution_count": 116,
>>>>>>> Stashed changes
     "metadata": {},
     "output_type": "execute_result"
    },
    {
     "data": {
<<<<<<< Updated upstream
      "image/png": "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\n",
=======
      "image/png": "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\n",
>>>>>>> Stashed changes
      "text/plain": [
       "<Figure size 432x288 with 1 Axes>"
      ]
     },
     "metadata": {},
     "output_type": "display_data"
    }
   ],
   "source": [
    "X_train[\"HouseYear\"].hist(bins=25)"
   ]
  },
  {
   "cell_type": "code",
<<<<<<< Updated upstream
   "execution_count": 69,
=======
   "execution_count": 117,
>>>>>>> Stashed changes
   "id": "d6fe3c84",
   "metadata": {},
   "outputs": [
    {
     "data": {
      "text/plain": [
<<<<<<< Updated upstream
       "44     2654\n",
       "4       308\n",
       "5       305\n",
       "6       299\n",
       "7       210\n",
       "       ... \n",
       "107       1\n",
       "93        1\n",
       "74        1\n",
       "105       1\n",
       "111       1\n",
       "Name: HouseYear, Length: 95, dtype: int64"
      ]
     },
     "execution_count": 69,
=======
       "45     2654\n",
       "5       308\n",
       "6       305\n",
       "7       299\n",
       "8       210\n",
       "       ... \n",
       "94        1\n",
       "112       1\n",
       "106       1\n",
       "75        1\n",
       "108       1\n",
       "Name: HouseYear, Length: 95, dtype: int64"
      ]
     },
     "execution_count": 117,
>>>>>>> Stashed changes
     "metadata": {},
     "output_type": "execute_result"
    }
   ],
   "source": [
    "X_train[\"HouseYear\"].value_counts()"
   ]
  },
  {
   "cell_type": "markdown",
   "id": "5014ba0e",
   "metadata": {},
   "source": [
    "Явно выделяются дома которым 44 года."
   ]
  },
  {
   "cell_type": "code",
<<<<<<< Updated upstream
   "execution_count": 70,
=======
   "execution_count": 118,
>>>>>>> Stashed changes
   "id": "a6c0d743",
   "metadata": {},
   "outputs": [],
   "source": [
    "X_train['Ecology_2'] = (X_train['Ecology_2'] == 'A').astype(int)\n",
    "X_train['Ecology_3'] = (X_train['Ecology_3'] == 'A').astype(int)\n",
    "X_train['Shops_2'] = (X_train['Shops_2'] == 'A').astype(int)"
   ]
  },
  {
   "cell_type": "markdown",
   "id": "653ee7ca",
   "metadata": {},
   "source": [
    "#### Healthcare_1 "
   ]
  },
  {
   "cell_type": "markdown",
   "id": "cf6a5dae",
   "metadata": {},
   "source": [
    "--- Начало Healthcare_1 ---"
   ]
  },
  {
   "cell_type": "markdown",
   "id": "71825762",
   "metadata": {},
   "source": [
    "Спрогнозируем Нан значения через модель."
   ]
  },
  {
   "cell_type": "code",
<<<<<<< Updated upstream
   "execution_count": 71,
=======
   "execution_count": 119,
>>>>>>> Stashed changes
   "id": "544d6030",
   "metadata": {},
   "outputs": [],
   "source": [
    "X_train_H = X_train.loc[X_train['Healthcare_1'].notnull()]\n",
    "y_2 = X_train_H[\"Healthcare_1\"]\n",
    "X_train_H = X_train_H.drop(['Healthcare_1'], axis = 1)"
   ]
  },
  {
   "cell_type": "code",
<<<<<<< Updated upstream
   "execution_count": 72,
=======
   "execution_count": 120,
>>>>>>> Stashed changes
   "id": "0e018045",
   "metadata": {},
   "outputs": [
    {
     "data": {
      "text/plain": [
       "GradientBoostingRegressor(criterion='mse', max_depth=5, max_features=6,\n",
       "                          min_samples_leaf=10, n_estimators=200,\n",
       "                          random_state=42)"
      ]
     },
<<<<<<< Updated upstream
     "execution_count": 72,
=======
     "execution_count": 120,
>>>>>>> Stashed changes
     "metadata": {},
     "output_type": "execute_result"
    }
   ],
   "source": [
    "gb_model2 = GradientBoostingRegressor(criterion='mse', min_samples_leaf=10, random_state=42, max_depth = 5, max_features=6, n_estimators=200)\n",
    "gb_model2.fit(X_train_H, y_2)"
   ]
  },
  {
   "cell_type": "code",
<<<<<<< Updated upstream
   "execution_count": 73,
=======
   "execution_count": 121,
>>>>>>> Stashed changes
   "id": "9cf4ebac",
   "metadata": {},
   "outputs": [],
   "source": [
    "X_nan_healthcare_1 = (X_train.loc[X_train['Healthcare_1'].isnull()]).drop('Healthcare_1', axis = 1)\n",
    "y_pred_healthcare_1 = gb_model2.predict(X_nan_healthcare_1)\n",
    "X_train.loc[X_train['Healthcare_1'].isnull(), 'Healthcare_1'] = y_pred_healthcare_1"
   ]
  },
  {
   "cell_type": "markdown",
   "id": "1d35b2df",
   "metadata": {},
   "source": [
    "--- Конец Healthcare_1 ---"
   ]
  },
  {
   "cell_type": "markdown",
   "id": "38e7e296",
   "metadata": {},
   "source": [
    "### Подготавливаем тестовый сет"
   ]
  },
  {
   "cell_type": "code",
<<<<<<< Updated upstream
   "execution_count": 74,
=======
   "execution_count": 122,
>>>>>>> Stashed changes
   "id": "5d2d6367",
   "metadata": {},
   "outputs": [],
   "source": [
    "\n",
    "medians = X_train[\"KitchenSquare\"].median(), X_train[\"HouseYear\"].median()"
   ]
  },
  {
   "cell_type": "code",
<<<<<<< Updated upstream
   "execution_count": 75,
=======
   "execution_count": 123,
>>>>>>> Stashed changes
   "id": "af6ece0b",
   "metadata": {},
   "outputs": [],
   "source": [
    "def x_test_prepare(X_test_prepare, medians):\n",
    "\n",
    "    \n",
    "    kitchenSquare, houseyear = medians\n",
    "    \n",
    "    X_test_prepare = X_test_prepare.drop('Id', axis=1)\n",
    "    X_test_prepare.replace({\"DistrictId\": distict_dict}, inplace=True )\n",
    "   \n",
    "    X_test_prepare[\"Rooms_outlier\"] = 0\n",
    "    X_test_prepare.loc[(X_test_prepare[\"Rooms\"] >= 5), \"Rooms_outlier\"] = 1\n",
    "    X_test_prepare.loc[(X_test_prepare[\"Rooms\"] >= 5), \"Rooms\"] = 4\n",
    "    \n",
    "    X_test_prepare.loc[X_test_prepare[\"KitchenSquare\"] > 150, \"KitchenSquare\"] = kitchenSquare\n",
    "    \n",
    "    \n",
    "    X_test_prepare[\"LifeSquare_nan\"] = 0\n",
    "    X_test_prepare.loc[X_test_prepare[\"LifeSquare\"].isnull(), \"LifeSquare_nan\"] = 1\n",
    "    X_test_prepare.loc[X_test_prepare[\"LifeSquare\"].isnull(), \"LifeSquare\"] = X_test_prepare.loc[X_test_prepare[\"LifeSquare\"].isnull(), \"Square\"] * life_square_coef\n",
    "    \n",
    "    X_test_bad_floor = (X_test_prepare[\"Floor\"] == 1) | (X_test_prepare[\"Floor\"] == X_test_prepare[\"HouseFloor\"])\n",
    "    X_test_prepare[\"Bad_floor\"] = 0\n",
    "    X_test_prepare.loc[X_test_bad_floor, \"Bad_floor\"] = 1\n",
    "    \n",
    "\n",
    "    X_test_prepare[\"HouseFloor_outlier\"] = 0\n",
    "    X_test_prepare.loc[X_test_prepare[\"HouseFloor\"] == 0, \"HouseFloor_outlier\"] = 1\n",
    "    X_test_prepare.loc[X_test_prepare[\"HouseFloor\"] == 0, \"HouseFloor\"] = X_test_prepare.loc[X_test_prepare[\"HouseFloor\"] == 0, \"Floor\"]\n",
    "    \n",
    "    x = datetime.now()\n",
    "    X_test_prepare.loc[X_test_prepare[\"HouseYear\"] > x.year, \"HouseYear\"] = houseyear\n",
    "    X_test_prepare[\"HouseYear\"] = x.year - X_test_prepare[\"HouseYear\"]\n",
    "    \n",
    "    \n",
    "    X_test_prepare['Ecology_2'] = (X_test_prepare['Ecology_2'] == 'A').astype(int)\n",
    "    X_test_prepare['Ecology_3'] = (X_test_prepare['Ecology_3'] == 'A').astype(int)\n",
    "    X_test_prepare['Shops_2'] = (X_test_prepare['Shops_2'] == 'A').astype(int) \n",
    "    \n",
    "    \n",
    "    X_nan_healthcare_1 = (X_test_prepare.loc[X_test_prepare['Healthcare_1'].isnull()]).drop('Healthcare_1', axis = 1)\n",
    "    y_pred_healthcare_1 = gb_model2.predict(X_nan_healthcare_1)\n",
    "    X_test_prepare.loc[X_test_prepare['Healthcare_1'].isnull(), 'Healthcare_1'] = y_pred_healthcare_1\n",
    "    \n",
    "   \n",
    "    return X_test_prepare"
   ]
  },
  {
   "cell_type": "code",
<<<<<<< Updated upstream
   "execution_count": 76,
=======
   "execution_count": 124,
>>>>>>> Stashed changes
   "id": "74cd0f0b",
   "metadata": {},
   "outputs": [],
   "source": [
    "X_test = x_test_prepare(X_test, medians)"
   ]
  },
  {
   "cell_type": "code",
   "execution_count": null,
   "id": "287a1636",
   "metadata": {},
   "outputs": [],
   "source": []
  },
  {
   "cell_type": "markdown",
   "id": "4077d3c0",
   "metadata": {},
   "source": [
    "### Обучаем модель"
   ]
  },
  {
   "cell_type": "markdown",
   "id": "735d93e7",
   "metadata": {},
   "source": [
    "Подбор гиперпараметров"
   ]
  },
  {
   "cell_type": "raw",
   "id": "9cd073e9",
   "metadata": {},
   "source": [
    "gb_model = GradientBoostingRegressor(criterion='mse',\n",
    "                          min_samples_leaf=10,\n",
    "                          random_state=42,\n",
    "                         )\n",
    "\n",
    "parameters = {\n",
    "    'n_estimators': [150, 200],\n",
    "    'max_features': np.arange(5, 9),\n",
    "    'max_depth': np.arange(5, 10),\n",
    "}\n",
    "gs = GridSearchCV(\n",
    "    estimator=gb_model,\n",
    "    param_grid=parameters,\n",
    "    scoring='r2',\n",
    "    cv=5,\n",
    ")\n",
    "gs.fit(X_train, y_train)\n",
    "gs.best_params_"
   ]
  },
  {
   "cell_type": "markdown",
   "id": "0babec4e",
   "metadata": {},
   "source": [
    "#### Финальная модель"
   ]
  },
  {
   "cell_type": "code",
<<<<<<< Updated upstream
   "execution_count": 77,
=======
   "execution_count": 125,
>>>>>>> Stashed changes
   "id": "32f0df0d",
   "metadata": {},
   "outputs": [],
   "source": [
    "gb_model = GradientBoostingRegressor(criterion='mse', min_samples_leaf=10, random_state=42, max_depth = 6, max_features=5, n_estimators=200)"
   ]
  },
  {
   "cell_type": "code",
<<<<<<< Updated upstream
   "execution_count": 78,
=======
   "execution_count": 126,
>>>>>>> Stashed changes
   "id": "a00f2103",
   "metadata": {},
   "outputs": [
    {
     "data": {
      "text/plain": [
       "GradientBoostingRegressor(criterion='mse', max_depth=6, max_features=5,\n",
       "                          min_samples_leaf=10, n_estimators=200,\n",
       "                          random_state=42)"
      ]
     },
<<<<<<< Updated upstream
     "execution_count": 78,
=======
     "execution_count": 126,
>>>>>>> Stashed changes
     "metadata": {},
     "output_type": "execute_result"
    }
   ],
   "source": [
    "gb_model.fit(X_train, y_train)"
   ]
  },
  {
   "cell_type": "code",
<<<<<<< Updated upstream
   "execution_count": 79,
=======
   "execution_count": 127,
>>>>>>> Stashed changes
   "id": "bb8cecf8",
   "metadata": {},
   "outputs": [],
   "source": [
    "y_pred = gb_model.predict(X_train)"
   ]
  },
  {
   "cell_type": "code",
<<<<<<< Updated upstream
   "execution_count": 80,
=======
   "execution_count": 128,
>>>>>>> Stashed changes
   "id": "83d62d5e",
   "metadata": {},
   "outputs": [],
   "source": [
    "def evaluate_preds(true_values, pred_values, save=False):\n",
    "        \n",
    "    print(\"R2:\\t\" + str(round(r2(true_values, pred_values), 4)) + \"\\n\" +\n",
    "          \"RMSE:\\t\" + str(round(np.sqrt(mse(true_values, pred_values)), 3)) + \"\\n\" +\n",
    "          \"MSE:\\t\" + str(round(mse(true_values, pred_values), 3))\n",
    "         )\n",
    "    \n",
    "    plt.figure(figsize=(8,8))\n",
    "    \n",
    "    sns.scatterplot(x=pred_values, y=true_values)\n",
    "    plt.plot([0, 500000], [0, 500000], linestyle='--', color='black')  \n",
    "    \n",
    "    plt.xlabel('Predicted values')\n",
    "    plt.ylabel('True values')\n",
    "    plt.title('True vs Predicted values')\n",
    "    \n",
    "    plt.show()"
   ]
  },
  {
   "cell_type": "markdown",
   "id": "7ac305f9",
   "metadata": {},
   "source": [
    "### Итоговый результат"
   ]
  },
  {
   "cell_type": "code",
<<<<<<< Updated upstream
   "execution_count": 81,
=======
   "execution_count": 129,
>>>>>>> Stashed changes
   "id": "d1670d83",
   "metadata": {},
   "outputs": [
    {
     "name": "stdout",
     "output_type": "stream",
     "text": [
      "R2:\t0.8786\n",
      "RMSE:\t32356.491\n",
      "MSE:\t1046942486.68\n"
     ]
    },
    {
     "data": {
      "image/png": "iVBORw0KGgoAAAANSUhEUgAAAh4AAAH9CAYAAABV+3X7AAAAOXRFWHRTb2Z0d2FyZQBNYXRwbG90bGliIHZlcnNpb24zLjMuNCwgaHR0cHM6Ly9tYXRwbG90bGliLm9yZy8QVMy6AAAACXBIWXMAAAsTAAALEwEAmpwYAAEAAElEQVR4nOydd3hU1dbG35nJ9Jn0QkIKkDAhhEAgQACliAmgqCGUEBAUBQER8WJDUS945fqJDUFQRFBULiUoRaVoAoJIk94MBEJIgZCeTO/n+2MyJ3MyZ9JIA/bveXwkp+yzz57AXrPKuzgURVEgEAgEAoFAaAW4bT0BAoFAIBAI9w/E8CAQCAQCgdBqEMODQCAQCARCq0EMDwKBQCAQCK0GMTwIBAKBQCC0GsTwIBAIBBZIwR+B0DIQw4NAaGHeeOMNREZG1vnf8OHD23qazQrbO0dHR2PIkCF47bXXcOvWrRZ9fmRkJJYtWwYAKCgoQGRkJLZu3drg+/ft24dXX321Weaybds2REZGIjc3t1nGc0VT3pNAaAvc2noCBMK9zuzZszF+/Hj656+++goXL17E559/Th8TCoVtMbUWxdvbm/GOZrMZOTk5+Oyzz3DmzBn8+uuvEIlELT4Pf39//O9//0OnTp0afM/69ethNptbblIEwn0MMTwIhBamU6dOjE3vxx9/BJ/PR9++fdtuUq0A2zsOGDAAYrEYCxYswL59+zB69OgWn4dAILjn15pAuJsgoRYCoZ1w/Phx2lWekJCA3r174/fff8cbb7yBIUOGMK41m82IjIxkeBSMRiM+/vhjDBs2DD169MDo0aOxffv2Op85atQozJkzx+n4U089hUmTJgEA8vPzMXfuXAwYMAA9e/ZEcnIyfv311ya/Z0xMDADg5s2bAGxhmaeffhpLlixBXFwcHn74YRgMBlitVqxduxYjRoxAjx49kJCQgHXr1jnlXuzfvx9jx45Fz5498dhjj+HEiROM82whiNzcXMybNw/x8fHo27cvnn32WWRmZgIAhg8fjr///hunT59GZGQkCgoKAAC3b9/GK6+8gvj4ePTq1QtTpkzB2bNnGc8yGo346KOPMHjwYMTGxuJf//oXVCpVnevx73//GwMGDHDysKxcuRK9evWCWq0GAGRkZODJJ59E79690aNHD4waNQo//PCDy3Htv09HjhxhHH/11VedQnv79+/H+PHj0bNnTwwcOBCLFi1izJuiKKxcuRKJiYno0aMHhg4diiVLlkCr1db5bgQCG8TwIBDaGR9++CHmzZuHRYsWoV+/fg2+78UXX8SGDRswadIkrFq1Cn379sUbb7yB//3vfy7vSUpKwp9//gmlUkkfKyoqwokTJ5CUlASr1YqZM2eirKwMS5YswapVqxAaGopXXnkFJ0+ebNL75eTkAADCwsLoY6dOncI///yDzz77DK+88gqEQiHee+89fPrppxgxYgRWrVqF0aNH4+OPP8ZHH31E33fw4EHMmTMHQUFBWL58OcaPH4+5c+fW+fzi4mKkpKTgypUrePPNN/HRRx9Bq9Vi2rRpKCoqwvLlyxEVFQWFQoH//e9/8Pf3R0VFBVJTU3HmzBm8/vrr+Pjjj8Hj8fDUU0/h4sWL9NhvvPEGfvjhB0ydOhWfffYZ3NzcGPNlIykpCRUVFTh8+DDj+K5du/Dwww9DJpPhwIEDeOGFF9C1a1d8/vnn+Oyzz9CxY0csWbKkyZ+Dnd27d9Nr+Nlnn+HFF1/E3r178dxzz9HG0FdffYVvv/0WzzzzDL7++ms888wzSEtLw/vvv39Hzybcn5BQC4HQzkhJScETTzzRqHuOHDmCAwcOYOnSpRgzZgwAYOjQobBarfjss88wbtw41nyKpKQkLF++HL///judh7J79264ubnh0UcfRXl5Oa5fv46PP/4YCQkJAGzhkoCAAHA4nHrn5fgtXq1W48KFC/i///s/hISEYOjQofQ5k8mE9957D+Hh4QCAGzduYNOmTZg7dy5tSAwdOhRisRgrVqzA1KlTERgYiC+++IL2/Njn4+Xlhddff93lnL777jtoNBrs2LEDgYGBAIDY2FiMGzcOf//9Nx5//HHI5XKYzWY6RLNq1SqUlpbi119/pcNmw4YNw5gxY7Bs2TKsW7cO2dnZ2LVrF958801MmzaNvqa0tBRHjx51OZ+4uDiEhoZi165d9JpcunQJ169fxxtvvAEAyMrKwujRo7F48WLGfQMGDMDff//d5FASRVH48MMP0b9/f6xYsYI+HhkZicmTJ2Pv3r147LHHcPLkSfTq1QuTJ08GAAwcOBByuRwajaZJzyXc3xCPB4HQzlAoFI2+x76xDR8+HGazmf4vISEBSqUS58+fZ70vKCgI/fr1Y4ROfvnlFzz00ENwd3eHj48PIiMj8c477+DNN9/E7t27oVarsXDhQsTFxdU5p6KiIkRHR9P/xcfHY8aMGfD19cWqVasYhhCfz0fnzp3pn48dOwaKopCQkMB4n8TERFgsFhw7dgx6vR7nzp1DQkICwwh69NFHweW6/qfNvonajQ7AZqzs378fjz/+OOs9x44dg0KhQHBwMD0XDoeDhx56CMePH4fRaKRDPHYDzc5jjz1W5zoBNgMwIyMDer0egO0z8PPzw4MPPggAmDlzJj799FPo9XpcvnwZe/fuxdq1awHYwjtNJScnB4WFhUhMTGSsc69eveDn50d7YR544AEcPnwYU6ZMwfr163H16lWMGzcOTz31VJOfTbh/IR4PAqGd4efn1+h7KioqAMBlaKaoqMjlvcnJyXjrrbdQUlIClUqFS5cu0V4GDoeDb7/9Fl999RXS09Oxbds28Hg8DB48GO+++y46dOjgclwfHx989dVX9M8CgQAdOnSAh4eH07Xe3t4MY8H+PklJSS7fp6qqChRFwdvbm3GOz+c7HXOkoqIC3bp1c3ne1T25ubmIjo52eb6yshIAnJ7t7+9f7/hJSUlYuXIl/vjjD4wcORK7d+/GY489Bh6PR4//7rvvIj09HRRFISwsjPZy3IneiH2dlyxZgiVLljidt//eTJs2DTKZDD/99BM+/PBDWCwWhIWF4dVXX8WIESOa/HzC/QkxPAiEdg6Hw4HVamUcsycc2pHL5RCJRNiwYQPrGMHBwS7HHzlyJP7zn//gt99+Q3l5Oby9vTF48GD6vI+PDxYuXIiFCxfi+vXryMjIwBdffIFFixYxDIvauLm50YmkjcXd3R0A8O2330Iulzud9/f3h5eXF7hcLkpKShjnrFYrqqqqXI4tl8vpDdeRv//+G35+fgzPi+M9cXFxePPNN1nH9PLyog2O0tJShIaG0ufYnlWbkJAQxMXFYc+ePfDy8kJRURHD6HrllVeQnZ2Nb7/9FrGxsRAIBNDpdEhLS3M5pt0LZLFYGMcdf3fs6/zKK69g4MCBTmNIpVJ6rAkTJmDChAlQKpX466+/sGbNGsyfPx9//PFHg4wrAsEOCbUQCO0cqVSKyspK6HQ6+tjff//NuCY+Ph56vR4mkwkxMTH0f7m5ufjss88Y97KNn5CQgIyMDOzduxejR48Gn88HAJw5cwaDBg2iQzVdunTBzJkzER8fT1eltAR2z01ZWRnjfbRaLT7++GMUFxfTZbJ79+5lbK4HDx6EyWRyOXbfvn1x7tw5hhdIqVRi1qxZ2LVrFwA4hWr69++PnJwchIWFMeaze/durF+/Hnw+HwMHDgSHw6HHsLNv374GvfOYMWNw6NAh7Ny5EwqFAlFRUfS5U6dOISEhAf3794dAIKDfE3Dt8ZDJZACAwsJC+pher2eE3bp06QJfX1/k5+cz3is4OBgfffQRXbWTmpqK9957D4DNWHn00Ucxe/ZsmM3mOr1pBAIbxONBILRzHn74Yfzwww94/fXXkZqaitzcXKxevRoSiYS+ZsiQIejfvz/mzp2LWbNmoWvXrvjnn3+wcuVK9O7dG0FBQXU+Y8yYMZg5cyYsFguWLl1KH+/evTvEYjFeffVVzJkzB/7+/jh37hz++usv1jLc5kKhUGDMmDH497//jfz8fPTq1Qt5eXlYvnw5fH19ERkZCQCYP38+nnrqKcycOROTJ09GUVERVq5cSRtObEybNg07duzA9OnTMXv2bIjFYqxduxZSqRQpKSkAbJvr6dOncfjwYfTu3RvPPPMMfv75Zzz11FN45pln4OPjg4yMDGzatAkvvfQSOBwOQkJCMHnyZKxatQomkwm9evXCvn378OeffzbonR955BEsWbIEO3fuxCuvvMI417NnT/z666+Ijo5Ghw4dcPr0aaxduxYcDsdlSWu3bt3QsWNHfPHFF5DJZBAKhVi/fj3DUOHxeHj55Zfx1ltvAbD9rmm1Wnz99dfIzc3FokWLANgMwXXr1sHDwwN9+/ZFWVkZVq5cic6dOzMMJAKhQVAEAqFVWbBgATV48GCn48eOHaMUCgV1+PBhp3Pr16+nHnroIapHjx7U2LFjqePHj1MJCQnUihUr6Gu0Wi31wQcfUEOHDqWio6Ophx56iPrggw8otVpd75wsFgs1ePBg6pFHHnE6l5ubS82bN48aNGgQFR0dTY0YMYJas2YNZbVaG/2OjbnWbDZTX375JZWYmEhFR0dTDz74IPX2229TJSUljOuOHTtGTZw4kYqJiaESEhKo3bt3U4MGDaI+/fRTiqIoKj8/n1IoFFRaWhp9z7Vr16jZs2dTvXv3pvr27UvNmjWLys7Ops+fPHmSGjx4MBUTE0OdOHGCoiiKysvLo/71r39R/fv3p3r27Ek99thj1P/+9z/GXCwWC7Vq1Spq6NChVExMDPXss89SmzdvphQKBXXjxo1612L+/PlUVFQUVVRUxDheUFBAzZo1i4qLi6Pi4uKocePGUdu3b6eee+45asyYMS7f8+LFi9STTz5J9ejRg3rwwQepzz//nPr888+phx56iDH+3r17qXHjxlE9evSg+vfvTz333HPUxYsXGZ/FqlWrqBEjRlAxMTFUfHw89fLLL1OFhYX1vhOBUBsORZFOSAQCgUAgEFoHkuNBIBAIBAKh1SCGB4FAIBAIhFaDGB4EAoFAIBBaDWJ4EAgEAoFAaDWI4UEgEAgEAqHVIDoeLUxFhQZWa/MUDvn4yFBWpq7/wvsAshY1kLWogaxFDWQtmJD1qKGl1oLL5cDLS1rvdcTwaGGsVqrZDA/7eAQbZC1qIGtRA1mLGshaMCHrUUNbrgUJtRAIBAKBQGg1iOFBIBAIBAKh1SCGB4FAIBAIhFaDGB4EAoFAIBBaDWJ4EAgEAoFAaDWI4UEgEAgEAqHVIIYHgUAgEAiEVoMYHgQCgUAgEFoNYngQCAQCgUBoNYjhQSAQCAQCodUghgeBQCAQCIRWgxgeBAKBQCAQWg1ieBAIBAKBQGg1iOFBIBAIBAKh1SCGB4FAIBAIAMABlDoT8ko0UOrNAKetJ3Rv4tbWEyAQCAQCoc3hAJl5VViRdhYGkwVCPg/zUmIRFeoBUG09uXsL4vEgEAgEwn2PUmuijQ4AMJgsWJF2FkqtqY1ndu9BDA8CgUAg3PdUqo200WHHYLKgUmNsoxnduxDDg0AgEAj3PZ5yIYR8HuOYkM+Dp1TQRjNqYdown4XkeBAIBALh7oJjC41Uqo3wlAvhLna74zwMd7Eb5qXEOuV4uEv4d2+Oh4t1slqpNs1nIYYHgUAgEO4e7iQJtC6DhQKiQj2wdM4gVGqM8JQKmm50NLdh1JTxuEB+iRaZN8phpYBDZwowZVQUokI9UFiqYc1nWTpnENzF/DuYaMMghgeBQCAQ7hpcJYHWt2k26Fs+BbiL+TXjNNHoaFZvQq3xAn0kmD22JyiKgqfMhRHCAS7dqMTKrefoOUxMVGDD3kwsmBIHrdHiMp+lNQwPkuNBIBAIhLuGpiaBuvqW39xVK81dHeM4nq+nCInxYXh//QksXnscC1YdRvYtlVOuhlJroo0O+xzSj+diyiNRuF2hg1Dg1qb5LMTjQSAQCIS7BnsSqKPx0ZBNs1ypa5Vv+XUZRk15juN4w+NCsSU9i/5ZLuWjoESNjzeeZnhXPKR8xhzsBsuKLY5ekxis3nahTfJZiOFBIBAIhLuGpiaBeruLm2SwNJamGkYNGo8DxrjD40Kx2cEQsXtX3n9+EFITI2GlbAsiFvAY1xWWaZGWkYUlswZCozfdWT5LEyChFgKBQCDcPTgkgS6eEY+lcwY1KH8i0FeKeSmxdIiBYbA0I3bDqLmewzYeTS1DBLB5QfKL1dh+4BrSMrKw82A2ZBI+5FLm8wvLtNDoTQj1ldo8Ma1YuUM8HgQCgUC4u2hCEiiXy2m+qpV65tasz3EYT603IcRfRudvcDkcJ+9KQr8wfPnTeYYXZO3OS0geFoHN6Vfo69pSo4QYHgQCgUC4P2iOqpW2eI7DeEHeErwzPR7nr5VCyOdi8shIbPztCh12CgmQseaYhATIaCOlrTVKiOFBIBAIBALQIsJkLsds6rMoQCZyw86D2XSlS9KQcHC5QFykP/huXNYck44+EtoL08FHBgGXajNhNGJ4EAgEAoHQEt1pXY0Z5oHM3KY/yzHBtrRSj51/ZmNeSix85LbQSV3Jt+5iPvz8ZCgpUTXxpe4cDkVRd6sY7F1BWZkaVmvzLLGfn7xNf1naE2QtaiBrUQNZixrIWjCpbz2UOhMWfHHEyVNwJ2qersZcMmsg3v7q6J09iwuUKY0oU+rh4y6Cj7sAsFafs3tTXOSYtNTvBpfLgY+PrN7riMeDQCAQCHcHLREKqaa59TfqGrNMqb+zZ3FQt8ektXJZmggxPAgEAoHQ/mmJUIgDza2/UdeYPu6iO3pWU2Xj2wttouOxY8cOPProo4iJicHo0aOxZ88e+lxmZiamTp2K2NhYDBs2DOvWrWPca7VasWLFCgwePBi9evXCs88+i9zcXMY1rTEGgUAgEFqP5pYir01z62/UNaaPu+COntVU2fj2Qqt7PHbu3ImFCxdiwYIFGDZsGHbv3o2XX34Z/v7+6Ny5M6ZNm4bExEQsXrwY58+fx+LFiyGXy5GSkgIAWLVqFTZt2oQPPvgAAQEB+OSTTzB9+nTs2rULQqEQ5eXlrTIGgUAgEFqPlgiFMKhPf6MpYR5XY1rv7Fkt4Z1pTVrV8KAoCsuXL8eUKVPw9NNPAwCef/55nDx5EseOHcOJEyfA5/OxePFiuLm5ITw8HLm5uVizZg1SUlJgNBrxzTff4NVXX8XQoUMBAMuWLcODDz6IPXv2YMyYMUhLS2vxMQgEAoHQurTKZusqN+JOwjyuxryDZzVVNr690KqhluvXr+PmzZt47LHHGMfXrVuHF154ASdPnkTfvn3h5lZjD8XHxyM/Px9FRUXIzMyEVqvFgAED6PMymQzdu3fHyZMnAaBVxiAQCARC69KgUAgHTp1a7ccuXCupOdZIWjrM0+hnNVE2vr3Qqh6PGzduAACMRiNmzpyJCxcuIDg4GM8//zyGDx+OoqIiREREMO7x9/cHABQWFqK4uBgAEBAQ4HRNYWEhALTKGLXvJRAIBEIL04BQSG1PwauT+8Bott5xQmqLh3ma8qx2XrlSF61qeKjVagDA66+/jhdeeAHz58/H77//jjlz5mDdunXQ6/UQCJhuM/vPBoMBOp2OcczxGqPRllTTGmM0hobUNDcGPz95s453N0PWogayFjWQtajhXlwLPxfHbxarnTwF2beU2H7gmpP3YPnLw9DRv+5/m61WCoWlGpQrdZDLhAj0kaCwTEufF/J56OAjg58f+zhmsxXXb1WhtEoHXw8xugR5wM2NyxjX212MQF8puNwaN4yRcu6/Ut+zGoLjc40UB4G+MsZzW5NWNTz4fJtl9swzz2DcuHEAgKioKFy8eBHffPMNRCIRvfnbsf8skUggEonoY46GgdFohEQiAYBWGaMxEAGxloGsRQ1kLWoga1HD/bYWt0s1Tp4CK0Wxeg8KilW4Xap2nSTK4j2ZPTYGaRlZKCzT0p4To9GEU//cdh6HC5zLLsfqbRcY9/eK8EbmjbrzNwRcduVRAZdq+ufZwqXIdtqlgFiHDh0AAAqFgnG8a9eu2LdvH0JDQ+lQiB37zx06dIBdZLW4uBgymYxxjT000qFDhxYfg0AgEAjtC7bkU7burUI+D9cKqrA5/YrLDZgtz2L1tgtYMmsgNHoTPKUClFTq8drKw6wbeZnSSBsdjve/O3NA/fobzd3d1sX7tKXuR6sml3bv3h1SqRQXLlxgHM/KykJoaCj69euHU6dOwWw20+eOHTuGTp06wc/PD926dYNMJsPff/9Nn1er1fjnn3/Qv39/AGiVMQgEAoHQvmBLPg0Pcnc6lpqoQMYJm26TqyRRV3kWGr0Job5SAMDHG0+7TAB1pUxaXodiKYPq/I1QX6nNMLhDr0R70/1oVY+HSCTCjBkz8MUXX8Df3x+xsbHYtWsX/vrrL3z77bdQKBRYu3YtFi5ciJkzZ+LixYtYv349Fi1aBMCWZzFlyhQsW7YMvr6+CA4OxieffIKAgACMGDECADBu3LgWH4NAIBAI7QxXngIAS+cMgtZkgdUKfLb5NEor9fRtbImb9ZXu1pcA6uclxlOPRsFDKoRYxENRuRa/H8u9Y8XSptLedD9aXUBszpw5kEgkWLFiBW7fvo0uXbrg888/x8CBAwHYSmv/+9//Ijk5GX5+fnjllVcwduxY+v558+bBYrHg3//+N3Q6HeLi4rB27Vo6X8PHx6dVxiAQCARCO8NFpYe7mI/wUG9k51dApWF6N9g24Pp0MurcyDnA7VIttqRn0femJirw5Khu8PMSton+RnvT/SDdaVsYklzaMpC1qIGsRQ1kLWq4Z9eiiY3i/PzkKClVNTzJsq4Or3Ukayq17B1pk4dFYEB3f7hL+HV2jm2x9XB4nw4+Mgi4VLMbHe0yuZRAIBAIhCZzp9UZjUncrEsno45xXIVhrBSFm2VauEs8mk9/ozHr4fA+fn6yNjVK26RJHIFAIBAIjaVZFEQbmrjJpoLagHHsYRhHhHweuBwO8ovUzap22pqKqs0JMTwIBAKBcFfQatUZ1Z6EBV8cweJ1x7Fg1WFk5lU1SG6drbomNVEBdykfGSdym3Wu7a1apaGQUAuBQCAQ2p7auQoSNyg1zNyFZqnOaEBOxB3pXlSHYZbMHoj8IjWEAh6Ky7XYduAaVBpTs1aStLdqlYZCDA8CgUC432liwmZzPt8xVyHQR4KUBAVD+XNeSiyiwjzurDqjgTkRd9ybhQJ8ZAIUl/OwYssdVJLU87m0t2qVhkIMDwKBQLifaSU57bqo7WEYHBvspPxp9zjciapnvZ6M6o2ez+fduSfhThVIG/K5tIDKaWtAcjwIBALhPqY9JCg6eRg4cJ270BRVT46tidztCh2ShobD11PEGLdUaUBeqQb5pVos3XAKyzafRmqigpGnQXsSXIzPmoh6BwqkDf5cmlnltDUgHg8CgUC4j2nNlu+ucJWr0Cy5Cyyeg4mJCuw+koPSSr1T7xb7uSMXbuGlib3B4QK+7iL4uAsAa8PGb5DHqJ4wSnv4XFoK4vEgEAiE+xhX5Z+tmaBYuxLk0JkCzB4b03CPQx2weQ62pGdheFwoa++WLelZeGRgJwyMCcLyLWew9PuTePuro8i+qWL1atTlmXBZjtuAqpn28Lm0FMTjQSAQCPcx7SJBkS1XQcpvltwFV56DLh3d8c70eNbeLZ4yEdbsqMkxkUv5KChR043hHL0arsa/WaZ1Siy1e0EaUjXD9rm8OrkPACCvRNM2ScDNBDE8CAQC4X6mvSQo1lYKtdahHNoIXIVxOniJAQ6HtXeLSMi8fnhcKDZX914BmIaCq/Hzi9QuDYsGhVFqfS7eciHyizW0HHtbJAE3FyTUQiAQCPc7LZmgyJZ4WZ8qaDPCJuhl9+iwnZs7oRd8PETMMEcdya5sYzw/ricdvql9PdCIMIrD52K1Um2eBNxcEI8HgUAgEFoGF4mXAjcua9ii2Q2e6uTNjn5SrHhlGApL1U4eHVZvDweYO6EXVm49B4PJAi6H4zrZlcVjxOVx6+yC25Tw1r2UbEoMDwKBQCC0CK5yGZKHRTRNFbShsBg88yf1gaKj3Lax12r4xgjpAMjMrcLG3y4jaUg4uFygR7g3QvzrMBRqj8EFFk7rh8wb5bBStmTZKaOiGNc3Nrx1t6qUskEMDwKBQCC0CHV1aq19rDm/ubMZPMs2nW6QceN4b9q+LACA8AAPH819oH5DgQOo9WZcL1Thy5/O00bK3Am9EBXmwSzHrav7LQvtIgm4mSCGB4FAIBBaBFff0rkcZlJHc39zd2Xw3K7QARwOuBygXGmoVz/D11OE4XGhAAdQ6cwI9BK5NhSqvSz5xWpsP3CNYfSs3Hruzj067SUJuBkgyaUEAoFAaBFcJXaGB7k3i0aHK1wlb16/qcSCVYdx6koJVv50jqmfUZ3wapdL9/UU4dFBnbHzz2ykZWThP+uO19mh1u4psVJUy3WMvQtVStkgHg8CgUBoT7R1w7bmxNW3dKDh39zt66ExQiriw2A0QyYR1LkubGEJuyKpwWTB5vQsJA0JR9q+LDq/5GapFivSzkIu5SM1UQGDyYotLkpo2TwXjp6SeyUXo6UghgeBQCC0F9pBw7Zmx0UuQ4PyG1zInacfz8WUUVGu18XB4LldocP1m0paIh2oLo2t9lzYe7XYnyEHH1aKQkd/KZKGhmP/yTzGfa5yUexelv0n8zAxUUEbLXdzLkZLQUItBAKB0E5oDw3b2hOu5M4HxwbXvy4U4C7hQyx0w84/sxnqpEI+jzYCbIJhbjCYLHR4JS3jKj7532nsPJiNRwd1ppvK1eW5sHtZVBoTdh/JQfKwCLw2JY7uqEuMjhqIx4NAIBDaCe1Kq6EdhHxcrYdd0Ku+dVFqTVi97byTB2La6ChoDWakJioQ1ckbHjI+hHwehseFOoVXtlSHZXb+mW3zXEj5UGpY1qWu5E9idDAghgeBQCC0E9qNVkM7Cfm4Wg9QDVuXSrURhWVa7D6Sg6Qh4QAH8JDyIRELsH5XJuPdXp3cB9m3qlz2dVk6ZxDcpXxk5taxLo0skb1fIaEWAoFAaCfUJe/dmrSXkA/bekxMVODQ2YIGrYvdcCmt1CNtXxbSMrKg0prxxY/nnN7Nz1OEuEh/1moYH3cR3CU2T0d7WJe7HeLxIBAIhPZCO9FqaDchn1rrIRXxYTCZ0adrXIPWha26JSRA5vLdQv2kTtdPHhmJTzedxpRRUfCQ8iGX8pEUF04np+4/mXdXypa3JcTwIBAIhPZEO3DXt5uQD8AiaS6gjzcEgRsXycMiYKUocDkcuEsEdb5b7ev5blyYLFasSDuL958fhNGDOtOdaoV8HlITFfCWC5vxhe99iOFBIBAIBAb3ijy3Wm9G9i0lLdGecSIXB0/nMxrAOb6bUmuim9fZsRsXOoMFar2JNjoA0Jogvbv6tsn73a0Qw4NAIBAITFoy5NOQapnmqKjhANcLVbR8uaOImJdcwPpubCEmuZQPD5kQm9Mv0NU0jtytHWLbEmJ4EAgEAsGZ5gr5VDdOU+rM0BvMEPJ5+OKncygs07JXyzRTRY1Sa6IbtQE1pbHJwyIgE/FZ340txJTQLwxfbb/QcFXSdlCG3N4hhgeBQCAQWgYOkH1LhYISNSMvYvLISPzy13WUVuqdZMgdK2rsTdryi1Xw9xLDRy5o8CbuKkE2JEDm0nvDFmIK8JbQ49SrStpOypDbO8TwIBAIBEKLoNSakH1Lie0HrjGqQXQGC2aNicHVgioAgFpvog0Pu8FgVxG1b/LbD2Q3ahN3lSDb0Ufi+n4WqfUKlY4ep7RST6uSRgR7wNddyBAUk4r52LA3s8H9Xe5XiI4HgUAgEBpPdTfXvBINlHoza9fWSrURVoqCXMpndHrdfuAaKtUG7D+Zh50Hs1GhMtL32w0GNhXRFWlnUaYy1vlMOw3WRKn9HrCFmDp4S7Dzz2zsPnIDExMV9DgqjQkh/jJ06WDznGTmVmHBF0eweN1xvP3VUSTGh9ES6/Z5N0tn2nsIDkVRxAHUgpSVqWG1Ns8S+/nJUVKiapax7nbIWtRA1qIGshY1tOhaNDCkoNSbcexSEQDQSZ52hHwe3SFWyOfVeAW4QH6JFmVVtjBMbVITFdicntWwMIZDfonJZIFX7ZyLut4DNefkUj4S+oUhJECGjj4SOrSi1Jmw4IsjLt/L/nN783i01O8Gl8uBj4+s/uua/ckEAoFAuKdpqLKpu9gN4UHujDwJO7U7xFZqbF6PzNwqvL/+BG6Xa1lVRK3WmnsaohqaX6zBe+uO4911x7Fg1WFk5lXRz63zPRzCLnPH98KA7v6ICvGwGRDVhourPBIut2a+baE8294hhgeBQCAQGkVdyqY01dUdfD4XHf2krEaEY4dYT6mAYQjYEzlry6XvP5Xn+pm1qM9AcvUetyt0jLBLqK+UYXDYsYeFar9XXKQ/Fs+IJ51pXUCSSwkEAoHQKOpVNq0Vwgj0kWD22Bis3naBofi560gOwyuQV6yhx7QnciYNCUeXju7wcRfh002nndrb16WmWp/0u6v3uH5TiWWbztQbynEltOYjF8BH1jiF1fsJYngQCAQCoVHUp2xa29NQWKZFWkYWlswaCI3eBE+pAFwuB52D3BkCXrUNgdJKPXb+mW3LkZDwMWVUlFPOBTgcW+jEIW/DrqMhlfDrNJDs77FhbyYGxwaDywW6hnrhVokaSUPDkV+sRoi/FDKhi62ynfTWudsghgeBQCAQGkc9G25tT4OvpwiDY4NRptSjg7fEluAJwGqlUKk2AhwO3CVuKKnQ0cmjbAZNVKgHPpr7AK4XqmhxMPs1If5SlKsM4HA4WL3tPArLtAj0kWDW2Bh85eBpmTuhF9ylfMBa/R5hHpg8shtWbj0HudRmqDg+v4OPBD07e9VZgttkobX7VGyMGB4EAoFAcKa+TZECnTRJGw/V1zh6LmrrcQj5PLw6uQ+MZivDYzJ3Qi9s/O0yTBYrkobY9D64HA5C/KU1z6VsxkptRdIVaWeRPCwCm9OvMKTRC8u02JqRhZcm9obRZEGZUoeNv13G5JHdEN3JE7ACSo2J7tuSFBfu1Ivly5/Ot0xVyn0sNkaSSwkEAoHApHpTtOtT1K4Gqe8aRw0NNj2O7FtKp6TPlVvPYXBsMEor9Ujbl4W0jCxsTr+CcpWBMTVXeRv2RnB2afThcaEAbGGeG7eV+HLbeRiMVhSWabFy6znkl2gBLnCzTFszXh29WJqbhlYG3YsQw4NAIBAIDBqyKTa0FLVLR3enzdxKUXWWodqhq12qBb7URgukYj5SExVISVDQQl2OFTL2sexGkv1c7fLdzBvlKK4yIL9IzahMYatSqSuBtak0qDLoHoWEWggEAoHAoL5qkAZdU537AA7HKcGTy3JMyOchqpM3An0kdKJnVCdvVKqN+L/vTyK0gwwj4jth7c6LjG6z6cdzMSI+DLuO5DDGAgVG2KV2+a7VCtwq0SDjRC7df2X/yTynHJO5E3q1SMJovZVB9zDE40EgEAgEBq70KRw3xYZcA7BLl3cOlLPKmYf4SzB5ZDfs/DMbm9Oz8P76Eyip0mPh032RmtiNNjqAmpDKy5P6INhPBpXGRI81d0IvdA3xQPKwCOw+kgOVxoTUag0QuzFy6GwBRAIeVBoTdh/JQUpCVzw5MgpcLgcpCV2RmqjAwmn9bLkgLZBz0WBJ93sQIpnewhDJ9JaBrEUNZC1qaLW1uAuqEe5oLRqS+NiY5MhqGfTMG+WwWoFDZwvw7GPR8PMUMapilFoTlm44hcGxwXRY5NCZAkx9pDvyipTYnJ7lNNXFM+IR6ie1fR6OFTZAzTGZABqDBReuldLPT4wPw9ELtzAwJojOQbHpjfQERVGtUxrLgfO8W+H3qK0l00mohUAgEBrDvVSN4MqAaog+RSM0LJQaE95ff4IRVvh442ksnTMIob5Sejy1zoTE+DBGBczEREV18ihchybsJa3Vxktescb2PpKaMtfOHb0g4HFx6koxBscGY/eRHJRW6qHWmhj6Iox3aOnP805Kce9iiOFBIBAIjcBVUmV7awTmkmpjQ60zoUJtpEtJnQyohmyKrq6pZdBUaurPGQEAocDNqQJmS3oWFk7rh7SMK3QuBmv+RT0GIZfLgY9cgBB/OeOaKaOiGqY02txerrvAa9ZSEMODQCAQGkFDEi/bLQ6bc9KQcOz8M7v5DSgWA2DhtH4NSqTU6E2sa1tQpMKI+DD8fjwXSUPC6cTTED+JTQgMDTQIm6o02txernvJa9YESHIpgUAgNIKGJlW2RxibcwtpVtQ2AORSPrJvVmHexFikJkbC11PEnkjJAaQiPuvaqnRmCAU8JMaHISxQjgHdAxDiW2N0APWXp1qtlK0st1gDcDgI9WNv/NaQd7pTzY37WcMDIB4PAoFAaBT19Slpt3AAtcGCpKHhAACxkNci5ZyVaiPkUj6S4sIhFvEgFfGx7udL9Fo9P64nugTKIRO5OSWqbtib6RROmTO+JzykAggEPMiEboz7lLqaUIW3h4jxPr6eIiT0C4PZQkFttCDrQiGWbTrtLLOuNNQb6miyl8tFOOWu9po1A8TwIBAIhMZwNzYGY3HtTx4ZiadHR+G7XZl3bkA5bLBymQCPPxiOjb9dRtKQcGz+nV2C3PEZjh6AoxduYd7EWJjMVnjIhFiz3dZ3xZ7T4SUTwMNdiPIqg61KhrJVvkwZFYVXJ/fBxxtPQy7lY/SgzrQeR2piJLYfuFanzHpdoY4maW7UEU65nzU8ABJqIRAIhMZTnVQZ6svirueAVtpU6s1MmfE2gs21v/G3K9AbLVg4rR8Wz4jH0jmDGp5j4PCOaqOFIZ1+4p9ibPztcqPCOXYPgK+nCANjgrBiy1ncKtHgg+9OoLBMS9+3cus55BapcPlGJd5ffwKb07Ow82A2EuPDsGFvJvw8RVg6ZxD+ldqH0XPFlVKqo8x6XaGOpmhu1BVOuZ81PADi8SAQCITmoz0mDXJq9SOpxmCyIDRAbsuVaEz5aK13rO1NqL3JN+Sbvd0DwOjr4sJoCfSVYen3J50qX5KGhKNUZUCXABlrKINtHrVl1l2GOprg5aovnHLXec2akVb3eFy/fh2RkZFO/23duhUAkJmZialTpyI2NhbDhg3DunXrGPdbrVasWLECgwcPRq9evfDss88iNzeXcU1rjEEgEAi1aRdJg9XeiAvXSqDUm6HWm536kQC2jdfXXcgsga3LU1N9PrtQBQ4XSB1h65XC5k2wP2v/yTxMTFTU+83e7gHgcuFsHNQat1JlcNnn5Vp+FTLzqpwSgO1S6I7zsCuZOo5dZ6ijLi8XC/UmITdyvHuJVvd4XLlyBTKZDHv37mUcl8vlKC8vx7Rp05CYmIjFixfj/PnzWLx4MeRyOVJSUgAAq1atwqZNm/DBBx8gICAAn3zyCaZPn45du3ZBKBS22hgEAoFQmzZPGmTxuDw/ridOXb7tlLT5/LiedWpgzJ3Qi24dz3Y+NVGBscMiaMVPu9qoWMjD5JHdsPG3yyit1CP9eC7eeLovrBQFH5kQ7lI+1DozlDoz9AYzfD1EcBe7ISrUA/5eYmw/YCvx3X8yD9OfiGYkpk5MVKBSrWf1XnQK9MDany9ApTHho7kPMBKAVRoTOvhKkJLQFZ5yESpVegir5dLt9zPWoxm4a5OQW4FWNzyysrIQHh4OPz8/p3Pr168Hn8/H4sWL4ebmhvDwcOTm5mLNmjVISUmB0WjEN998g1dffRVDhw4FACxbtgwPPvgg9uzZgzFjxiAtLa3FxyAQCAQ22jppkM3j8uVP5+meJUlDwgGOrUlbl0B5TXUIy30rt57Dwmn9EOIrYT2/OT0Lk0dGoqOfDJNHdsPN6oZrKo0Jrz7ZGwun9aMl0tdsv4AR8WGw+lGoVBuRU6hkNGKzh6N85AJ6sy6t1ENnMCN5WIQtF4MCdh/JAZ/HxYykHoxmcdOfiMZPf2ShtFIPAChXGRihDG+5EGYrkFuogljIw4/78mCyWF2uR7NwNyYhtxJt4vEIDw9nPXfy5En07dsXbm4104qPj8eXX36JoqIi3L59G1qtFgMGDKDPy2QydO/eHSdPnsSYMWNaZYyAgIDmXBICgXCP0GzfcpuoaunK4xISYGuilrYvi54TXZbKdZ0DknmjHB4SPuu4cikfYqEbPvnfaYZHYveRHGTfVDHyPgBgc3oWkodFIDRAzkj8NJgs2LA3Ey9P6gON3gR/LzEWTusLNx4P7lI+8m6rnTw44R3dsXTOIJSqDLiWX4W0fTVGR20ZdZmIhwvXS7F6R031znNjeuCn/VfZ16M5uU8l0eujTTweYWFhSE1NRV5eHjp16oQ5c+bgwQcfRFFRESIiIhjX+/v7AwAKCwtRXFwMAE4bv7+/PwoLCwGgVcZojOHRkIY5jcHPT96s493NkLWogaxFDW29Fj7eMoQHe6JcpYO3XIxAXym43IaXtlitFI7W0pyYP6kPBsYE1juOkWJvN985yAPLXx7mNCerlcK5qyV0Dkjt+6xWQGuyoIOvzOl8Qr8wOgwCMJM866oi0RnNjHO+niIkxofh7a+OMgyY9OO5eHp0NAb1DEJEiCfKlXroDWZ08JEiyE8GLpeDzlYKZjPFCJnMn9QHnYO9wOVyYDKZMHHSVBw7l4M+jy0Ah2t7h693XMTLk/sg+2YVuBwOREI3+HjLGvU53e205d+TVjU8tFotCgoK4O3tjVdeeQVSqRQ///wzZsyYgW+++QZ6vR4CAdMlaf/ZYDBAp9MxjjleYzTayrNaY4zGQLrTtgxkLWoga1FDe1kLAQfo4C4CQKGsTN2oe5U6E210ALYNe9mm0+jgVb+UuYAHzJ3Qy6n/iogHgKKc5qTUmXA1vwIZJ3KdckCmPxGN7QeuYVCPAAi4lJMnJ8Bbwmpc2EMXbIYMl8OBWODGOMeoZAHTgFm26TQ+nvcgcgpVWOWip4yio9wpnFFWpoZOp8Nzzz2N33/fi24PTgE4XMY8tXoz9p/MQ2mlLWfkrum10wzcV91pJRIJTp06BT6fT2/kPXr0QHZ2NtauXQuRSERv/nbsP0skEohEIvqYo2FgNBohkUgAoFXGIBAIhJaiUQmqtUIyJRU6WriLrZ9JbdQ6E4L95VBpTE45IDqDGVNGRdFhoqhQDyx9YRBul+tgtVLg8bgujYtAHzGmPNING/ZcZiSjBvvJIJPxMSMpGmt3XqKrUVwZMHIpHyWVetrosJ9j9GBhCWcolVWYOjUVx44dwVvvfojL2iineRaVazF6UGfoDLZnaQwWkoPRSrR6qEUqlTodUygU+OOPPxASEkKHQuzYf+7QoQOoarGX4uJiyGQyxjX20EiHDh1afAwCgUBoKRqcoOqi0sRksSJtXxZ9X13f5IUCN6z66Tzt7bDnPMweG4PQADm8pMwW8SYzhWWbztBiX2xeEp3BjHKlAb8fz8WS2QNRpTZCJHSDu9gNReU6LF5zHHIpH8nDIhASIGNUsji+LyhbOCcrr6LRlULfff8t/v77OPo9/hpucnoiNbEzI5l1YqICRy/cQmL/MPr4zoPZLa+5ch93pHWkVXU8zpw5g969e+P8+fOM4xcvXkTXrl3Rr18/nDp1CmazmT537NgxdOrUCX5+fujWrRtkMhn+/vtv+rxarcY///yD/v37A0CrjEEgEAgtBZuq5dwJvaDWmRj6Gq4qTYbHhdJjsamEOqLRm1BYpqW9HSkJCiQNCUel2gCV1ui0KZYp9fTzSiv19H3zUmKRNCQc2w9cg8VK4ffjubZ28zIBugTIEOQpgtVK4eONthBSaaUem9OvYMWWs+ByOE4aGxMTFTh0tgDB/jJYKXY9D7ZKIfsXy6nPPI+hUz6Cf8QglFbqsetIDpKHReDFCbZ57j6Sg7huHZxyVFpUc6XaULQrvC5YdRiZeVXtQtm2tWlVw6NHjx4IDg7GO++8g1OnTiE7OxtLlizBmTNn8Pzzz2PcuHHQ6XRYuHAhrl27hh07dmD9+vWYNWsWAFuexZQpU7Bs2TJkZGTg8uXLmD9/PgICAjBixAgAaJUxCAQCocVwKMNcPCMeC6f1w8bfLuPtNccYm5WrkIzjRlZfKa+nzOZdKa3UI21fFtIysrDzz2wYjFbW+3yqG7HZKa3UY+ef2ejgI0X3zl54eVIfKEI8sGBKnM1zgBpRMo3BArmU6aEwmCwoqdThSHV/lpcmxmLhtH4QC3l4YUIsArzFOHSmwEmE7IUJvZxEyK5du4rHHx+JgoJ8KLVmSHw6M+a5Of0KSiq1SNuXBZXGhJAAWYPk3JuLdiEu105o1VALn8/H2rVr8cknn2DevHlQKpWIjo7GN998g+7duwMA1q1bh//+979ITk6Gn58fXnnlFYwdO5YeY968ebBYLPj3v/8NnU6HuLg4rF27ls7X8PHxaZUxCAQCocWozlsAgAVfHGHNb3AVkuFyOPSf6yzl5QCgKMybGIv8IjWtwWHPxWC7z0cuwOyxMVi97QIdtpiR1AM/7L6EWWNiqudcY7CwhYJ2HclhlL76eYoxKCYIG/ZkYnBsMIrKtegc5AEPKR9SIQ8pCQqkZWTReSuKUC906iAFHGyG8+fPIjV1LAAOKisrERoRyLo2cZH+6BbmZTOqXCTASkX86rVp9KdWJ20uLteO4FB23xShRSBVLS0DWYsayFrUcK+tRV6JBovXHXc6vnhGPEL9pKx9YUL8pShXGdDBRwYBl3JpdLApnAb4SCAV8Jxa1jvmJRjNZpRUGqA3WiAS8LDj4DVcza+yzcm3JodPqTMxjCbAtrHX7gjb0U+CpT+cQmJ8GCNfZM74nojp7AUAKFMaUabUw8ddBB93ASNZ9ujRw5gyZSI8PDywdesOhId3ZX2/+ZP6QNFRzniv2tfYy3injIpq9lwPpd6MBasOO61HW1TT3FdVLQQCgUBoOHUmmtahjCkTusHPT1azuVQbD6VKA8RCN4gEPFaF06VzBkEmdKtzc547oRc2/naZ7hrLmJMDrr7hhwXK8d/ZgyAXu0EmckNesQaDY4OxJT0LcikfKQO7wttdBHeJALcr9ZCJ+PBxF4DP46BSbQTfjUsnZR47dgQTJyYjJCQUW7fuRFBQR9uDWNamc7AXs7S5+polswbi1JViWK02ZdTSSj2zaqaZIBLqNRDDg0AgENoaF9UO9W5WDVHG5AKXblQytD1mJEVDLuXDUFljGLC5/WvnJcilfNws0eDp0d1xo1BFh2fYNlBXRlPOTSV2/llTQeIpF4LLtY39+INdsPG3K4zQjIdMAC6Xiy9/Os8wfrxkAoR06YaxYyfgnXf+Ax8fH+Z711obVnEwCtDoTNicnsU43CIhECKhTkMMDwKBQGhLWLwKjmWdDd6sahkvPlYK4AD5JVra6ABsm+ranZfokIevpwjD40LB5cKW38AFlBrbOGZrjQKpr6cIjw7q7BQO8ZQJ4CEVOk2HzWia/kQ0NHoTkoaG0zLpPu4C9Ojig9AAdyzfcsapSuelib2djr+55AtMnzoBe/++hXmvvA8f36aHRVq1vw6RUAdADA8CgUBoU1xVO9QlkOWEi5yGIB8xMm+Us4Y8ArwlCPSRMHIrth/IxuyxMUjLyEJhmRapiZH0psymMPrFj+eRNCSc4cGwd7tVak3wkPKxZNZAlKsMoCjgu12XUFimpfMp/rlRhiAfGYwWK/KLVKzzdJRYpygK145vxZUjGxHioYc8fBTyi9UQCnh0l9vGbuYkBNL6EMODQCAQ2pDmqHZgM16WbTqNhdP60ToYtb/RV6j0eCm1NxatOQa5lI+kOJtqaVG5Do892BlVahOEgppOsOCAFg4bHhdKl+2KhTzaWFoyayB83AXIzGUaQf+eHo//rDvuJIs+b2Issm8psf3ANSQNDWedp11iXW804Z+D65Fz+meERj+E5Ekz4ObGZ3hgmiQARkIgrU6r6ngQCAQCgYnd1e9IY139royXsio9Dp0pwOSRkQwdjNREBUL8ZNAbzJBL+Xh0UGfs/DMbaRlZ2H7gGsRCPg6dLcB3uzKx7Y+reH1qX3Tv5IVAHwnj2p0HsyEV8eHrKYLBZMGpK8W4dKMSG/ZmMoyMy7nsXpfCUg3dUG7/yTwnvY7URAX0RhNmPBGFi+mrkHP6Z4THPYZPln+JzkFeTh6YFWlnUaYy1miZcAC1wYxblXqc/Oc2Q4CNQbVXKdRXSnuZCC0H8XgQCARCG9Icrn5XeQoVKj0S48Ow9+gNpCR0hZdcBG8PEbxlAshEblDqzEjoF+a0gX+1/QKShoQjbZ8t5PLhDycxeWQknh4d7dTAbt3Pl6q1QFQIDZDjh2o9DrtsOwBwOOxel0BfKTjVehqOSqhcLtAj3BegrDBbKKzZchDl+Wcw/qm5eOONt1BYqkH2zSpWY+bUlWKE+MsRFeaB7JsqFJSoGXLpLS6LTqgXYngQCARCW9IMrn53iRsWTuuHzBvlsFLAoTMFeHJUFP63NxMmixXD40JhMFlRXKFDREd3umTWXezmUsHT0TNgMFmg0ZtRUMyeh5FfpMLm9Cw6d8PfS4yUBAX2n8wDAIgFbkhNVDAMgNREBb799RL4PC4tSmZXQp2VHAOL2YIruSX48Y8bMJpFGDBpGfQSD1y/pbR1r3URmuG7cZFfrIa7TECHcVzmzxDaBGJ4EAgEQltzJ9UOHDjlVMyd0AsDewSCA2BF2lm6+du8lFibOBhqKmD8vcSsG3hYBzltPKg0JnA5HBjNVtZrrdWCXo65GzsPZmNiogI8Lgfrd2Xa8kiGhCPAW4KSSh1DwTQtIwvvTI/HxexSWK3A1n1ZGNXPH//3xrPgeEYiNG4ihBKbBLveaGGEZhxzPJ5L6gGj2YKMv68jJEAGP08xkoaGY//JPPpZ96taaHuCGB4EAoFwF8OWWLpy6zl0DfFi96TAVgGzYa8tJCIV8/D8+J748sfzTt4Iu4S6TMKH2WzFz4euO232ExMV2H0kh56PwWSB0WRB0tBw8LgcKEK9kDQ0HACw/2QeRg3ohM3pVxjvUFimxcXsUlpPQ6cqw7RPp0OvLML8d2agGCLacOC6CM107+yD/CIlfv0rB4nxYVix5azTHEsr9S1XKktoMMTwIBAIhLsYV4ml5SodOriLnDwpSp0JG/ZmMspoA30kePPpfjCYLMi5pWR4IzanZ+G1J+PgxuNgwdQ4lFTq8dLE3iiu1KBLkCe+/OkcfS1g84AUleuw/2QeRg/qjMVfH6MNgMkjIxHkJ6vTa6KpKMSxnxbBqFPitf98hauVvkgeFkbLrIcHudM5MfbQzPPje2LTb5mI6epPq6DWrqBxLPslVSttC6lqIRAI9x6cmq6oLisZ7pG5uKqK8ZaLWa+v1BidNufCMi3+77sTsFis2Jx+hWFIGEwWXLtZCU+ZgK74yCtSgaIArd6IsQ91dapEyTiRi+FxoXROh32cjb9dwa0SNWu3WanYDWMGh+LcL+/CatZj6KT30bvvQBhMFoQHe2DxjHgsnTMI4UFyRvfepXMGoWdnL8waE4NeEb7gcsFqiHXp6I6lcwaRxNJ2APF4EAiEe4t6lEDv6rmwSKu7qooJ9JXW9CbhAGq9GUqdGTwe1+XmrDNaXHoj7O3iP95oq2pJeViBZZvO0rkbEjEPEcFeuJpfgeF9QyFw47I+Q6M3Y//JPCQNCae7wIoFPKyqlkrv+sA0pD4xBBFdFaAABPpIIBa6IchTZBuket0Ynhxr9c8SPsydvFnfoVOgBwQcF03zCK0KMTwIBMI9Rb1KoHfrXOowYqLCbM3OHDu40r1JOEBesQZ6kxU3Cqsg4HOhCPVi3Zyr1AanHI7pT0Rj+4FrGNQjAJVqIy02FuAtQdLQcJy5UgSxkAe5WID3qkXChHwe5k/uw/oMLoeD0ko9XW4r5PMQLr+NG/9cQ2DXgfALH4C/siwICjUjLeMq5k/qY1MkbQgUEOInwdwJvRi9aZwMMUKbQgwPAoFwT9EcSqDtcS6ujJiP5j6A/GKNk0Hi42VrT67Wm1FSpcfanRfp81Me6YYXxvfEpt+vYHBsMLhcoFuYN0BR+GrHBTphs1OgB3YevIopo6LgLuXDQgETExRYu/MSPdaMpB4wmS1Ys+MiY27f/XqJVj2tyfHohg7eNVU0Qj4PUe55eP/fL8HdrzM6RMSDw7F5SgwmKwwmCyiKslXiNNRTYQWiwzyxdM4glCoNEAnd6KRaQvuAGB4EAuGeolWbfjXXXFx0p3XElRGj1JlZDZLOHT0g4gJKnZne/AFbF1iNzgy5VICZyTFYs/0C3T9lXkos3nyqL8pVBkhFfBhMZswaEwOeGxfnr1fgdpnWSRdj7c6LWDC1L2Nuvp4iDI4NhkzMx1vP9Ef2zUoYjFYE+UgQ3lFOV9rs/Xkz3nnzZXh3jELfJxaCw+HSa4RqqfdAb3GTwiM3S7VOvWsUHeUk1NIOIIYHgUC4p2hPTb8aNJcG5oG4MmL0hpomao59VEoqtAjxlzidr91h1rHU1B4GCvWVVs9NgMy8KuQXq+l+Kmz9WqxUjb4H2zOeH9cTXQLlNs9FdT7Gd2tX4b33/o2HH07E6++uwppfrjDmlH48t8mfm6veNUQ4rH1ADA8CgXBv0Z6afjVgLg3NA+FywKr+6SETQMjn0T1XGBv++J7oEuReZ4dZe6lp2j7b8dsVOnB5XFgtVpQqDSiu1CLYT0rfU7ujrZDPw+xxPTFtdBTW78pkfcaXP53H0jmD6PemKAolJcUYM2YsVq5cA4FQgKUhPqjUGGlPS5+uca4/t3o8RO0p3EZwhhgeBALh3uNOlEBbeS4N2iQ5tpCJxUrhpYmxKKrQQqe3YNeRHHQN8cDz43ridpnWecP/8TzemzWQNljsHWZrP8vuuQj0kYDH5eBKXoVTHkdUmCeEfC6eGxODpd+fZDxn9U/n8eqTcUgeFgE/T7HL95EKuCgsvIXg4BC8++5/YbVawXPjsRgRAta1sq9FfR6i9hRuIzhDdDwIBAKhDam3O231RvveuuPYsPcylm85C4oCzmQVIaFfGPRGK0ICZAjwlrBu+KVVNnnypCHh6BQoZ30WKJvRMfahrsi+qaSNDsCWE1JWpUfS0AiYzBRybytZn0OBQlykHzr4SOhn+HqKkPKwAqmJCvC5FGbNehajRg1HRUU5OBwOeHwe8ku1OPZPEf7JrcDSH04iM6/KtdYJByhTGZFfrELS0HC6K+6KtLNQak30ZfYQl6NWyPxJfUiSaTuBeDwIBAKhDakvD4QtFJN+PBdjH+rKqBh546m+rN/yvd1FUGlMSNuXBV9PkVO57OyxPcF342DKI1FYseUsnccBsOeETH8iGoE+EhSWaRnPcZcKoNGZ4O0hwryUWIY6qkarwZlfP0RRzmksfve/8PL2hlpvxvVCFb78qUaqfWKiAhv2ZmLBlDjnkAiLp8MxP4XhIWIJcXUO9iLltO0EYngQCARCW1JXHggHuFmmdfIwDI4NZlSqGEwWrNlxAXPG98QXDj1XZo+Ngb+nkCExnn48F/Mn9UFBsQqBvlJs2JOJwb2DwXUIw9SVE7Lu50uYP6kPlm06TT9nZnIMlm8+Q1fHvDq5D16e1Advf3UUKlUVTuxYgorCLMQ9Mg9Tps1mJKyy5Zuw5WKwGWD26w+dLYBUxEdeiYaR8+EY4qJ1TQhtDjE8CATCvUcDylPbFS7yQJRaE/KL1E6eDDbl0cIyLdQaI+ZP6g2LlYKXuwhmsxllVUZ4yPhYMmsgDCYzZCI+Sir12LrvKpKGhqOwTIv9J/MwIykGQj6P0fXVVU5IQbEKycMiEBYoB2UFftjzD+0BMZgs+Hjjabw2JQ4GkwVXDm9EVdE1xI1+FYEKm7bGijSmZ8VxbKnYjTUXw1UujFDARUqCAm9/dbTOqiBC+4EYHgQC4d6itSTTW8G4qVQbkXEi1yk8EhnGrjyqN1lQrtTDYLQ4dWdNP56LKaOiEOQtgbuEj6VzBkFjsGDnwWyUVurx0/4sTH8iGut+voTdR3Lw0sTeAIdifY7ZQsHHQ4Tvd/2Dwb2DGWEXwGYQiIVuNoGwwVPRsdtgeHeMgpDPA99BSp1t7NAOcrhL+YCVuRauEkaju/hg0Zpj9VYFWa0UlLq7yBi9hyHJpQQC4Z7CVXmqY/LhHVNt3Cz44ggWrzuOBasO150UWcc4dTWQ85QLodKY6PbvKQkKJA+LgG91HoVj8uTERAW4HA6UGpNTc7Yt6VkYHBtcsw7VHpZAr5pxruZXYfuBa1g4rR/mju8FdykfKo0JqbUaus0eG4OIjh4wWyy0wVE7YdVQWYDX5j2L6aMjIJXKaKNjYqICNwqVDM9K7XdYs/0ClBrnz4otYXReSizMJovLKhrHdT56ofDOPy9Cs0A8HgQC4Z6iNTQcGtWDxZVnpAGeGcfE07R9WfQ1UgGPkRdipYCvd1zA4N7B9Hxqv789bHK7QgdwOOByAKXOCG8PEf6V2hueciFkYjdIBbaN/XalHlKRG4IDpHj72f6oUhtRUKzG/367DJXGRCeZOoZmDCYLNCXZOPXzexAKhLAaq5CS0BUGkxWggN1HcgAAz4/riS9/Oo/dR3KQPCwCAd4SlCt17Imidlzkwih15npLZ5VaE52TUu/nRWhxiOFBIBDuKRql4VDbKJC4Qamp3x3fYOPGlXER5oEyZU1Z6P6TeQzl0LqqMxxFtewdWZU6E559PBpSMR9X8ytZ398uQW6xUlj6w0mMGRoBNzcO1myvqYyZPTYGvbp6IzOnyklu/HMHQwsAI8nUbkAU3ziLt1a/AzeRB2KeWIxv00uQmuhFv599Ll0CbbLptyv1uHFLif/9lsk471JvgyUXpiHqsERQrH1BDA8CgXBP0WDJ9FpGQaCPBCkJCqzedqHe3JCGGjeuPCMLp/XD++tP1F8WCtQtQMZi2Dw/tkZFtHaOx8REBTbssZW5avQmp4qV1dsu4J3p8diwN5Nx/EZhlcsk08kjI9Ep0B0H96djwfzpkHt1RJ+kdyCSecNgsmBzehaSh0Vgc/oVek1lItvWw+VyoDeYoaoOrTRJ3r4B6rBEUKx9QQwPAoFwb9FAyfTaRsHg2GDa6ABqueMlfCfPSEOMG1fftDNvlMNgqul5YjRZ8OKEWNworIJUxLflHjRg42UzbL7cdh5vP9sfbz/bH2qdCe5SAa7lV2BwbDBt3GxJz8LMMTHsgmOVOkx5JAq5t1UAgP0n82Cl2BNBwzrIUaEy4P31J1BeooFfpzi8/+FySGUe0Bkt9P0RwR5YPCO+5rNAjcEkl/KRPCwCIQEydPSVgMvhIK9Y07gE0HrUYd3Fbk4lwG3Vv4dADA8CgXAv0gDJdCejwEXpqFpvcup0ag+XOBo3XK7zhunqm7bV6rph26ebTuPZx6Lh5ymqP+SjYTdsruRWgMflYHN6FpKGhiMtI8vpGm939rnJxXx8uOEUQzCMoig8N6YHvt5xkTHXvCIVVqzZAs/gnpB6dkCfxxbgl6NFSB4mR1pGFt1Pxt9TBJnQjf4slLoag8lQaaG9IbU9Qc1WjUQBA2MC0cGrHfTvIZCqFgKBcH/iSqq89s9Cvht7lYzGBHcxH6F+Utws1eK1lYedKibYKjGmPxGNQ2cLXDZsS+gfioISdf0VGByAw+GwzjnQV8qobGG7prhCixlJPRhzm5Ucgx/3OwuGVaiMkIn5WDwzHq9M7oPkYRHYdfg6Nn7zGQ5vXYSbmQfosQ0mC6wURf95c3oWDGYrY/71eYIY69zUaqTaFUOwGaOhvlKbQUqMjjaDGB4EAuG+pLZRcOhMAWaPjXEq19ToTewhCZWBTk51Wb7rEPZ546m+SBoSjvS/c5EYH8YqAmYwWeApEzmVw9LjOWymZSojdh++julPRDuVpBZX1KidspWtpiYqoNaZsO2Pq3SZbtKQcGzdl4WYCH+nOVkpCss2nYHRaIVczIfVasXNEz9g56bV6NQzER27DaGvtyeyOt5/6nIxw3hyZfRZa2l3OJXFNhSWcuejFwpJ+Ww7gYRaCARC69GeFEXZckGk/AaXa17Lr4LBYFParLNiojrsAw4HyzadgcFkQYXKgGcfi2YdVyTksY7HFvKZkdQD+0/kImlIODr4SFBcYStJHd43lB67tFKPoxdu4aWJvWGlrPCUi/DdrkvoHRmAwjIt0vYxwzBSMQ8pDyvoTfrQmQKAqvFIxHX1xo9fL0LGrz9iyjPP46lZC/DV9pqE3NREBXZVl83a38lqBaNihy0BeO6EXtj422XGXJqaAMpmDC7bdJqUz7YTiOFBIBBah9ZSFG0MtXNBrA0r17RXoag0JiyZNbBBFROO45RW6vHDnkzMHhvDqKKZmKhAaaWOdTxbyOcEYzNdu/MikoaE0w3gRg/qDJXGhP0n85CaqMDm9CzIpXwMignC8i1nGMaBSMhDamIkHRbZfzIPfB4XHjIRNv5W0+/l+XE9oTeYkJoYCSGfi9Nnz2LPrp/RY+hTqPAcga37sjB/Uh8YTGYoNUa4cTmMKhX7WtU2xtiMvimjotgTdmEzJtQ6E4QCN2j0JnjKmqHcmdAmcCiKIpGuFqSsTA2rtXmW2M9PjpISVbOMdbdD1qKGu2UtlDoTFnxxxGlDbc5voc22Fiz6HrfK9Th/rRSggP2nanQplswagCq1iVGWO3tsT1AUxdwcq8csVRogEbtB6MaDzmCCkG/bSKUiPgwmM8RCPi5eL8fG3y4zDIXgADn+++3fTlNNSVDQyaO+niI8+1g0btxWQSpyQ5cgD4ADLPnmb6d1f3lyH3y68TTkUj4S+oUhwFsCX08R67VJQ8Kx/UAWpjwSjR5dvPHSB9vhJvFlXJM8LAIAEB7kDk93Ic5fK0UHHymKK7TQGSw4dKaAvess27o7JoDCZrA6drutz3BV6s1YsOpwi/6u3c201L8ZXC4HPj6yeq8jHg8CgdAq3DXfQl14ZkICZNh5MNtpM5OJ+AjylmDpnEFQ602oUBkZlRlzJ/SCl1wAixVYve083cHVHpJQaUx4dXIf8KUcaHQU9BwL/jpXgKQh4XRZ7a4jOXQ+CpswmB2VxgQKQJcgd4QFuqNCqUeZUs+67jm3qiCX8hmVNamJCtZrlVVl2P/9K6i8MR7L338Fk58YBAC0MJg9D6RriCf4PFvCq4+HmNEvZvbYGNYeLAxYqpHsFTBJQ8KdknFdqY+yeanmT+pDKlnaCSS5lEAgtAquEgrbm4iTq2RRq8XK2ivEvpm5i/mQifhYufUc496VW8/h/LVyvL/+BBLjw+DrKaKrPYbHhUIu5TOqWP6z7jgGxQRh/6k8pGVkIW1fFlQaE4wmKyaP7OZUhSIVu8HXU0SHNTbsyURHPymu36zE+WtlMBqtSE2MhK+nCIDNK5KaGAk/TwmefSwa6cdz6fna9TocsejKsOS1qVCXF2BA73C8u/Y40jKysPNgNh4d1Jl+NpfDQXZBFRavPY4jF27jy5/OO4mTsfVgqQ/aYHVR7syafOoQylk8Ix5L5wzCwJhAYnS0E4jHg0AgtAoNVhRtY+ryzNQnTObqXvumuSU9i87JkEv5CAuUY1JiN6h1xpqeJgB+P56LhH5htL7F9CeiUanSo0uQHBMTFfCSi1BUrsXG3219U2aPjUGlyoDfqzvQGk1WFJfrsP3ANUa45siFWxgUE0RXzdRWTa3dd8WgvIXTO/8DpUqFN/67FpfLPJ3Kf5OHRUDI50Ik4OGnA9cAAFaKajbvlqPB2ij10VreEy6XlLS0F4jhQSAQWocGKoq2NXXKa9cjTObq3rAOcvh6imx5IRzQiaArttiUO0cP6oy0jKsMY6BToDumjOqGYH85vtt1CYVlWvwrtTf0BgvSjl/B4NhgDO8bCgBIy8jCCxNi0burL9ylfBRW6J1KcjenZ+GtZ/rhv9+ecDIeUhK6wmC0aW3wuBz8e0Y8jp+5itdnPQuD0YoB499DVEwczqU7C5F1DnKHu0yAT/53is57sb93g42EOrAbrBv2ZjKMovZquBLqhxgeBAKh9WiAomiTqE5KvH2tBBKh2x2V6d6JZ8ZVBcyGPZl4dFBnpB/PBShUezNsG2hSXDhrG/t3Zw6A2ULRMt++niKIBDwE+Unx9GPR+O7XSzBZrEjoF4aUhEiAosDjc5GZW4X8YhV7roaGXZPEx12ML7fVVLLMHhuDfj3DkZQ6EyNGPgo3qT+6hnixGhMBniKAU1PJAoBRVePocWmS16HaYF0wJQ5qva2KSKM3tVvDlVA/xPAgEAh3N81dpnsnnhkKiArzwLszB+BWiQYiAQ/bD15DYZkWW9Kz8PrUvnDjASazQyjCRe6C3mBGSICMNjoeHdSZ1gER8nmYPDISfDcuvnNoBjcjqQe2/XEVg3sHsxoJXi48MrfLawTH8q4cx/99cQ3vvZyCxCeehoWiYDFa8cOef5yMCcdyV0eDS6UxwdtdiPmT++BmsQodfKT49tdL6BzkXiOd3gTMZgoyMRehflLb50GMjrsSYngQCIS7GlfJoHdUOtlUzwwHyMytcvJ4VKgMKK3UQ6Uxws9LDA+pG8MAcBWWkIr4SE1UoFOQB5ZtPM14x42/XUHysAhWXY/auRp2j4NGa3Q6Pv2JaFpErCDzIM7tXQ7fsFgUPv0oOgW640ZhFawA3LgchHZwx78m9YZObzOKfGQCem2iQj2waEY8isp1KCrX4oe9tvwTu5KqSmNqWiJxe9R/IdwRpKqFQCDc1dSVDNrasBlBW6qrV4R8Hm6VavCfdcdRUqHD3Am9EOgjgVjAw4wkpuz5vJRYlFTq8fZXR5FxIg86vZn1Ha21ZJgMJgu4XKC0Uo/dR3KQNCQcqYkKzJ/UB35eYtws0yD9eC5DJl1X3ZY+58wunN2zDN4du2PgmAXoGuKFonI1rJRNvTQhvhN+3HcFOTeVKK7QQqs3MyXIKYDP42L1tvPYnH6FLrPdkp6FLkEemDcxFuBwGi1bXqckPeGuhHg8CATCXU2dyaCtjCsjqEO1qJhGZ0RqogLZt6rQM8IXqYkKfPHTBbo1vF3Ey1MmwKsr/qJzQIrKtazvyOUwd3Ehn4funX2QmqigDYYJDyvAd+NAJhFALORj/PCuWOPQZXbuhJ7gF2fg0h9fIyC8PwaOWYDJj/TAyrSzSIwPw6EzBUiMD8PfF29h/HAFrhZUwkrZNElSR0Sic6A7ZEKbnoirvjaZN8qxOT2rSd6Ku0b/hdBgiOFBIBDuThxULhdO68cQ55qXEmtrU1+iaXxPmIb2k6l1HZcD8Pk8VgOhuEJHl8amJiqQcSIP2w9kIzVRAbmUj9JKPX3+pYm9weFwGDkgGSdynUIkz4/rCb6bTazLrj7a0V+K7JuVyDiRB5XGhOlPROPI+ZvoHemP4AA5lBojPGRCvPpkHyg1JlRpDCgqU+Ovw0cxOmkCUp57BxyOG11eay//3ZKehdenxOHDDacYIaTNv1/B1Ee6gwKFjr5SeLuLWN/f3vytKWGw9mRYEpoHYngQCIS7D5a4/9wJveDvI4aQy0VJpR6vrTzc+JyAhuYTsFxn18lgq+awN02zl7XatTwc/2w/f6tUDaHA3dYbRcBFl44eEPK54HBAa31wORz4eQmRV6jG5JGREAvdsO7nS07aHOt+voR/z+iP4nI93v+2Rk11RlIPqDRayERA+slixIx6DXMnxmHVT+cZy2EwWSDgc2EwWXC1oNIphJQ0JBx5RUqGN+PVyX3wcXU+iuNcHMdsjLfibtF/ITQcYngQCIS7Dra4/8qt57D85WHQ6430xmc/19Bv2a7yCd6ZHg+ZqKZM136dXMpHUlx4dWWKFYNigrDrSA6Sh0Wga4gH3HhcfL71LEPfwi4oVvvPgO2bvNlCwY3HxcHT+UiMD2MYDBMTFTh0pgCTRihgMgPrd2UiaUg4Nv52hdUoOJNVBIPRitXbmCqiX/10GqWn1yA/Lw/fbt4FAFDpjKyehWB/OQJ9JKwt67lcsHoz7BVBUhEfn2467aTv0ShvxV2i/0JoOCS5lEAg3HW4ivuXq3SNTzbl2PqB5JVoUKo0sN57/lopFqw6jMy8KoBje769z8nOP7ORlpGF7QeuQVpt2GxOvwKhwA2ZNyoY+hYAs7+KY56G3TvSOVCO1dvOY3BssFNvki3pWZj6SHeUVOpRqTIwVFFrzxkcIHloV2TlVTDOm406HEpbjL/++A2ykAew6sdLSOwfhhOXbuP5cT0ZSa4TExX4btclzEzuiUNnC5zeo1OgB/afynNaZ3cxH6G+UvjIBZgyKopdZr4xVFcZhfpK6e62hLsX4vEgEAh3Ha7i/t5yMfQCU8NzAmqFTGyt39kbsTl+o/eUC5HQL8zJMFj38yUkDQnHzj+zYbFYIORzMSs5Bl9tv+AUerEndgoFbnjlyT7wlovg5saByWRBYZnWpUFx47YSACAS8OqUEudyOLBSFN1/xWCywKhT4vi296AszsasVz7ATaobPe/5k/rAYrUwmtPZcz04oJxa1s8e2xM7D16t25tBvBUEFojhQSAQ7jpcxf0DfaUoK1c3OCegdmgl40SuU46GY46C/Rt9qJ8U4R3dkZqogL+3BHqDBVUaPXYfuQEuF3jzqb6o0piwOT2Lrljp4C2BSmeE1Urh6Ue7w99bjJvFGqzcWpMPMSMpGp0D3RHoIwFQYzD4eoowPC4UXC4QGiBHUYUWReUaTH8iGtsPXHNKPJ2VHIMqtQEiAQ+HzhTQ50/sXAVV6Q28+9HXuK7tCFQbDQaTBWaLFXw3Hnb+6dyB11MqQKiflGFA8Ny44AzsjOu3zte9zi2lVku4a+FQFNUmvwY5OTkYO3YsFi5ciAkTJgAAMjMz8f777+PChQvw9PTE1KlTMX36dPoeq9WKlStXYuvWrVAqlYiLi8OiRYsQFhZGX9MaYzSGsjI1rNbmWWI/PzlKSlTNMtbdDlmLGu7btXCoarF/k/bzrV4LlnNsG15eiQaL1x1nHPP1FOHZx6KhM1pQUqFDxolc+lu9kM+z5YpI+bhSUIXbpVqGkTJ5ZDf0jPCBUmPE++tPOG3gb07rh8s3KpBxwtYEzt7EzfEae5+W/CIVAnyk2HngKvpFBzIMi8kjIxER4oFr+VXQGSwQCrjw95KgsFQDs4WCkM/F5vQsLJoRjyu5Ffj9eC4GxwajvPQW3MxV6BrdB5+nnWM8N2lIOA6dLcC4h7ri650XGR6anhG+8JKyrGED17nez7C+CqJm4L79e8JCS60Fl8uBj4+s3uvaxONhMpnw6quvQqvV0sfKy8sxbdo0JCYmYvHixTh//jwWL14MuVyOlJQUAMCqVauwadMmfPDBBwgICMAnn3yC6dOnY9euXRAKha02BoFAaAfU9U26gd+y2UI2Ko0JUjEfvxzKxiODOiOhXxisFAUuh4OQACncpXyUKY3ILVQzDAebmuhldO80EDcKq2pCFrD1Limt1ONytZ6Fr6cIAd5i1lCKt7sIS78/SW/8bzzdDx98d6LWc67gzWn9IHDjwmqlsPn3GqNkzvie4HE4eCm1N3QGM37Ytg+6/MN4oNeb8PYNwv5TZsT0rlFOrd2h9qc/rmLexFgUV2hpY6aoQovyKi7Cg+TN580giqT3LW1ieHz++eeQSqWMY2lpaeDz+Vi8eDHc3NwQHh6O3NxcrFmzBikpKTAajfjmm2/w6quvYujQoQCAZcuW4cEHH8SePXswZsyYVhmDQCDcO7CFbGYk9YBAwMW4hxS4WaphtJZ/9vFolKmMKKnSuWz9Xq7SQyzkY+NvzHBN+vFcWK2g+64UlevY+6aUaRlGxpXcctbnXL5RjowTeRg9qDPmTYyFwWhBoK8UK7acofVMHulJYc+618Dji2DtMBxiuQ+EfB78vcRYMnsgCorVKCzV0kYHABSWaVFcoQVFASu2MMuFA7zFd9RrxZEWkbon3BW0elXLiRMnsGXLFixdupRx/OTJk+jbty/c3Gp+qePj45Gfn4+ioiJkZmZCq9ViwIAB9HmZTIbu3bvj5MmTrTYGgUBoIxyqT5R6M8Ct9XNtKe7a17NJdVNAiL8UycMiMGVUN8yf1Afb/riKM1dKYTDbPBj2jVEu5UOrN+Ht1Udxo1AFsbAmudOOkM+DXCKkNTWAmmqUmck9IRW7YVJiNxhNVpy6fBsTExWMBNHZY2Nw6vJtxpj25NDaz7FabdLo3+3OxEcbTmFF2lkUlmpsiakA8q+exKxpExAQ4I9hUz6kjY7pT0Tjn5xylFTqIBHxsfPPbKcE0QAvqVPi7Ob0LCh15kZ9ZHXRnqTuCa1Lq3o8lEolXn/9dbz99tsIDAxknCsqKkJERATjmL+/PwCgsLAQxcXFAICAgACnawoLC1ttjNr3EgjNRivGu+86arnlA30kSElQYPW2Cww3vY+3jPX6utz45UoDNqdfQcrDCroFPQAYjBbGxjg8LpTO5zhzpQiPP9jFKRF1bkov5NyqZN1QdQYTrbdh94L8c70U8yf1wY3CKvDduFBqjHh0UBdUqHTYfeQGSiv1OHSmANOfiGYIhM0Z3wuVKh1SEhR0GEfI50EosBkohVlHcHr3p5D7hOD7zT/D1y8AxeU63C7XIm1fFlQaE1ITFYgM83RKTH1uTA/w+RzWd9AbGml41PE7TRRJ719a1fBYvHgxYmNj8fjjjzud0+v1EAiYv3D2nw0GA3Q6HeOY4zVGo7HVxmgsDUm0aQx+fvJmHe9u5l5aC6uVwtELhfTGJ+TzMH9SHwyMCQSXW39XrXtpLdi4WaxmuOUHxwbTRgdQ46YPD/ZER3+50/X288tfHoaO/sy/k0bKJjvuWL66/2QeZiX3pOXIh8eFIsBbgqShts6vvRUBWPXjeZuAWHUuB5fDQYC3BPlFatYNNe+22skLsnBaP2j0JnjIBDCarE6GSfrxXIx9KAI8LgfzJ/WG3mCBXCrA2p0X6HCK/boJDyvw66FsAIBA7A6fkGgMSn4THYOCUFqlx5cOImIAsDk9Cwue6ks3jbOX0P60/ypem9qX9R2C/GTw8ZGhsFSDcqUO3u5iBPpKWX9H6/ud9rFSmD+pj9P5zsFeDfqdbwr3+t+TxtCWa9FqhseOHTtw8uRJ/PLLL6znRSIRvfnbsf8skUggEonoY46GgdFohEQiabUxGgupamkZ7rW1UOpMzG/bJguWbTqNDl71x7vvtbVg43aphvkN3IXGRblKBwGHcr6++vztMjUEHObfRwEXmJcSi/ziGoOhtFKPtIwrmDuhZ3UfFWa+Bqf6+YZKCy13DgARIR64cLUYM5J6YK1DZcjssTH432+XneZzKaccOw9mMzZg+7kt6Vl4aWJvbD94FYNigvDVdlvL+521VEi3pGfh7WfjsfPgVXjxSiDki+AT0gOBnXti0ohI6Iy2xm1s61GlNmBEfBjj/ealxMJTwl6uLHID/jp7s0GepIb8Tis6yp00PsrK1A35lWg098Pfk4Zy31S1/PTTTygrK8OwYcMYx//zn/9g/fr1CAoKokMhduw/d+jQAfaq3+LiYshkMsY19tBIhw4dWnwMAqElIB0468aVW55NQAygGu7Grw4FSMVuiOvmh9AOMizfbNtU826r4SkTYeVW541+3sRY1vF93YVIHdENq7edZ3gRlBqjSwVTg8mCG4VV7OEZoxljhkbQSZ4uDS6lDj9+/xku/rUVy1ZvRvdeA+DrKcKGvZmIDPPGrRIN63zLlXrsOXoD70yPh9lsqSmJtbILfyk1DU8IbdDvNNH4uC9pteTSjz/+GLt378aOHTvo/wBg7ty5WLNmDfr164dTp07BbK6JIR47dgydOnWCn58funXrBplMhr///ps+r1ar8c8//6B///4A0CpjEAgtgX2jdOSeiHc3JMGzAWNwOWDIeR86U4AZST2cpLgDfW3VcvZqlTqluqvzQBZ8cQQrfzyHU5dLwAEH/5k1AO882x9LZg2ExWpl3Ty5HI7T81MTFeByOKAoCoVltlyKtIwspO3Lwi9/Xces5BgnOXK73LirBNJKlR4GowVyKR8pDyvQKVDudJ2AB7z3ziu4+NdWjHh8Eg5dF+PzrWfx/voTGBQTBLPFTHe3dXz+c2N6YM/RG1BpTJAJeUw5csfcDJmQ1udoTELoPfs7TbhjWs3j4Sop09vbGx07dsS4ceOwdu1aLFy4EDNnzsTFixexfv16LFq0CIAtz2LKlClYtmwZfH19ERwcjE8++QQBAQEYMWIEALTKGARCS3BPduBsDp0GhzEcFUDLlDr8fvwGkoaEQyjgIrqLD8wmCwpLNRBw0SCpbsdGb48O6sxIsLTnTcwe25PVU5B7WwV3KZ/uFgsK2HUkB52D3OEpY9cG8fcRI3lYBPy8xCip0DFKWO2GlGN4ZvLISPDduFBpjRg9qDOtguqY0OrGseLW8TU49udeTJ3+IjQ+iTCabV3b7JUo784cAJXGhKMXbmHexFjojRaIBW6QSdzA53Gdf8/q+NwakxB6T/5OE5qFNlMuBYDIyEgsWbKEVi69cOEC/vvf/+LSpUvw8/PDtGnT8NRTT9HXWywWLFu2DNu2bYNOp6NVR0NCQuhrWmOMxkByPFqGe3ItmqgC2V7XQqkzYcEXR5w2qcboNLgaI3lYBDanX3FZ3dIQ48auWprysIJVJjxpSDguXCvGqEFd8MWP55zEtlQaE6OlfaCPBC9P6gON3gQOh4PV287TCaCpiQocuXALCf3CYLFaIRK64attzP4tXnIBtAYLgnxlqFDpIRHxsf7XS0joH4q0jKv0/Hw9RUjoFwY/TzF27/oFy5e8iJiHnsWa5e/hv+tPOL3n1Ee6QSx0g8FocVJZjQn3BhdgVJ0otXV8bhJ+44zJO1U2bUba69+TtqCtczza1PC4HyCGR8tA1qKG9roWbHLkALB4RjxCfaUsdzR8jLef6Q83HgdSER9vf3W0ScaNUm/GglWHMeHhrtiw97LT+adHR4HL4WDv0RsYHBsMLhfoHOSB9OM30KWjF8ABOgXK8c0vl8DncTHhYQWjGdwLE3qBywEKijXIOJELL7kQowZ0wpodFyGX8pHQLwwd/aSQSwQwmy2QSvm4VazBmh0XGUaO0I2Lr3++xJgbRVF46tEo/LDnMnQVeVg4JwlhAXIsWHWY1YASCrgM48V+7s1p/fCVg4E0LyUWUrEbVv54DsPjQhnKq3PH97J9bu3ImGgM7fXvSVvQ1oYHaRJHIBBahObQaXA1hq+7EO5iPvJK2KtXGAmMLrQkuBxg8shu8PMSsz4j0EeKZZvOwGCqqVwR8nl4eXIffLqxpgT0+XE94eMhwpJv/mYkXa7aeg4Ln+mHjBP/YHhcKLqFeWHpDyfpapjN6VcY3pvUxEgnCfYt6Vn49/R4pCYqYKVsBkBBwS2c/vVDjO/3MVISFOByIhHkK4Vaa8TcCb2wcquzd2Z431D2pNQqPQbHBiNtXxadKPr+84Po0I6jR8ZbLrTdSBJCCXcIMTwIhLscq5WCUtf+hMeaI8Zf3xiuDBNvuRBKnQlqnQkVaiNjM7aHBpQaI/huHFitVicRrYmJCuiN7CWot8vUjD4sW9KvYPxwBeu1JpMVk0dEQiTgQ6M34aXUWGw/cA1X86voa4QCLqY+0g3+XhKbLkgcs8fLhexSbE7PgpDPw0M9xNj22dswaCuRc7MUp0/akuD5bhzsOXoDjz/YBQuf6YeKKgN8vMT4YutZRoO72utUodIzEn7tZbebWVRLe3f1bdiHRiDUAzE8CIS7GQ6cRJraTaOtBiR43ukYbIbJq5P7IL9YgxVpZ226Fw75G47ln0KBG77blYmkoeE4dKYASUPCIeBzEegrRWmlFt7uIqfNOtBHwtqHxUPGZ93Y5VIBqjRGLN9yhr5+ZnIMhvc1o0JlxIWrxZCLBfh650WkjlCwehrslBbm4NVVi8HnWjBq2v8hont/nC60GSTe7kI8OqgzQ4Bs8shueHxwF3y3KxP7T+Y5qaxOHhlJh5F8PUUYHhcKLhfQ6EyktJvQojS4nPbXX3/FwYMHAQBXr17F448/jj59+uCdd95xEtwiEAitg1LrLNK0Iu0slFpTPXe2EtVueUapZnOO4WCYLJ4Rj+UvD4Ofp4g2RAR8LusmWqI0oEpjwMJn+sFdwse0x6Jx6GwBNuy9jBVbzgLgws2Ng9RaJagzkmJY+7CYLXAqV52R1AMqtRFrtjMVVtdsvwB3qRA7D2Zj/MORdAt6q5Vi9TRYKQrqils4kvYWKIrCwqXfY8r4Udh/Ks+heZtzb5WNv12GzmBG0pBwDO8bCgB4eXIf/Gtib6QkdMWxC7cwIykGUrEbZiTF4NDZAmxOz0L2TSUpgyW0KA3yePzwww94//338fzzz2Po0KF49913UVZWhuTkZGzfvh3e3t6YP39+S8+VQCDUot0KjzW170xT7nPIOfDzk+HUP7dhMFng6ylCcICc1RNxq0QNi5VC+vFcDI4NhlpXhRlJMSiu0KBKbUIHbzHEQjdIRLYSXitFgcvhQGdg9wYUFKuw99gNJA+LQFigHDwuB9/+csllCMYexrmaX+FgLLBrhhhMVkg8AtAxaigi+ydh8MA48LgcmzFRXcYb4CNxea9jfkrSkHAcOluAFyb0gre7CB9W55zYPSC//HUdGSdynbwjpAyW0Jw0yPDYvHkznnzyScybNw/FxcU4deoU3n77bTz55JPo1KkT1q9fTwwPAqENaJeNtpqq39Ecuh8AvD1ESE2MREiADN/9eskpf2NGUg8oNQZk/J2HxPgwxrnZY2Ow/3I+th+4ho9efABSsRsqVDU9mmRi9pCK0WSFSmOCgM/F97v+wdRHu6OwTAuxiMd6vai6mZtdOMx+vva15bmnUFXuBS6Xh7gRs/D06CjcKtXAQ2pL9Nx/Kg98HhcSoRvrc7gcDv3niYkKHL1wC4nxYcjKq2TxkFxBSkJX/LDnMnYdyXFWMyVGB6GZaFCoJT8/Hw8//DAA4PDhwwBA/xwREYGSkpIWmh6BQKgLd7Eb5k/qU7dCZytjF+ZqbPin0fexqKJarRTyi9TYfuAacm+rUFimxe4jOUgaEo6UBAWShoRDLOSBomyN5mpvvqu3XcC4hxSQS/mo0pjwedo5bE6/grSMLGxOv4Kvtl/A7LFMBdLpT0RDLLJ5E3YfyaluS09ByOdh+4FrTgqnM5J6YMfBawBswmFzxttEyux5GPZrCzP/wLHt/8W2H5YjNVGB16f2hdVKYUt6Fj7fehY7D2Zj9KDOeG5MDL7afoE11BPe0R2piQp6br0VAdiSngUPqZDVQ+Ips/WzYlUzJRCaiQZ5PNzd3VFVZcvCPnToEDp16kT3LcnNzYW3t3fLzZBAILiGAgbGBKKD1x0kcDYzTQ3/NOo+F96RCIrDMF5q5ypwuRyUVekRFuiO7AL29vU3CquQ0C8MSo3zfArLtFBqDEgaEg4uF4gM80Ja+hVk5lbS1wj5PBSVaelW9r8fv4GXJvaGFRTcJQJs+i0TV/Orqr0Qkdh7JAcpCV3hKRPB30uElyf3wQ/frsave5YjKLwPhIoUZJzIQ2iAO9Q6E90h1968bsFTfRkGlr0/jKdMgPxiNQK8pSgq11a/v+0dXXpihDwSWiG0OA0yPB544AGsWrUKeXl5+P333zFr1iwAwJ49e7By5Uo89NBDLTpJAoHgGi6X0650FZoa/mnMfa68I4ufG0Af238yD0+PjmJR7IxESYUWnYM8WJ8XEmBrF+7G47Ke1+gsDLXSuSmxKCrTQiTk4Zc/s/FQ31BsP3ANzz4ejZcm9oaAz4WAz0NZlR4mswXjHlJApTPC11OMvNtKZOZW0oaLj4cQqis7sW3jagQqBqHXqPkI8JXj0UGdGZUxdn2O0ko99EYzhHyeraOuw7yC/aUwmqwoLNOAy+Hgmce6w99LgnNZxSgq19J5HHYxswBvCbw9RPho7gOQidpHSTbh3qRByqWVlZV4+eWXcerUKQwaNAiffvopxGIxhg0bhg4dOuCLL74gXg8XEOXSloGsRQ3tbi1aIcfDlaLpohnx+OC7k7SxMP2JaGzYc9nJeJg5JgZ7j+UgsX8YXaXi2KNlYmIkfD2FuF2qo6tOam/4vp4ipx4vM5NjwONQsFAcHD1/Ezduq5xKZCcmKsABsDk9C6kjFDAYrRAKuPD3kiAnvxjvvJSKvv36g9NpAowW1CnpvvPPbLz9bH8UlWvxtYPi6etT+yLvttKpNJfL5UAuEeD4xVvopfCHyWyFWOjGWIN2U47dzLS7vydtSFsrl96RZPqtW7cQFBTU1NvvC4jh0TKQtaihXa5FfbLarqpXGijHbZc7r70Zv/1sf+j1Zny88TTkUj6eHBmF5VvOON3/+tQ4LN9saxD3zGPRyC9SwWq1JWuWVuppRVEvuRAeMgFuFCoREiDHhj2Z1Tkcrg2CRTMGIPNGGSLDvKDVm3H9ZhWtOmof+5Un+2DrviyMH67A7TI1+Dzgm58vwUxxwbHo8OrTD0BvtGDN9otIGhqOtIwsp3ew54PsOpIDPo+Lmck9oTeYkXtbhbBAOT6rVl11nNu/JvVGbqEKXTq6Qybhw43LxTtNlJy/22iXf0/aiLY2PBolIFZUVISjR4+iuLgYycnJqKiogJ+fH/j8e+sXlEAg3CF1yWrX49loSNiIy4FTyWdqogL5RSp07+SFd6bHo0ptQH6Rml3Z1EOE58b0wNc7LiL3tsppYzeYLLBSFL755RJmjonB5vQsJw+HPV+i9n1F5RrsOXoDQj4PP+y5TIcynhwZhQqVDruP3IDZYsXoB7rg042nMap/EN55bRaEIiH+8+EacLgc5Bdp0L2zFxY/Fw+jyVotRsan+6dwORxEdPTA6h3naWXSD747gXemxyMu0g9lKj3r3CgKtCy7kM/DvImxbVOO3dRya8I9QYMNj48//hjr16+H2WwGh8PBAw88gI8++gjl5eVYv349CbUQCIQG4So/ozHfsosr9dhVK5ly15EcTErshtIqA3w9RLiYXYqME3mscujXC6pgMlsxb2IsxC5KUUExEzFLK/V0AqdUzIMi1PZvXm1vhoDPwyMDO9FGR+1wTGqiAnIxH5duV0DIM+LTxbNQlHMKL7z6Hn4+dJ02VKrURvh5i7H598suc1UcMZgsKK3Q4ctt5zExsSvrO90u0zDW3ZVh1qLl2M1UNk24e2lQOe0333yDb775Bi+++CJ27doFe3Tm+eefR0lJCZYvX96ikyQQCPcOdVWvNBSx0A0qjQlp+7KQlpGFtH1ZUGlMEAt5EAnd4C52Q1Qnb6g0Juw+koN5E2PpstKjF27BjcfFxt+u4KMNp/D1jgtOJa8TExXYfyoPgT4ScDlcvDChF1ITbRv9obMFkEuEWPz1MWxOz8LOg9l4dFBnBPpI6FJZT5kIBpMFw+NCnUp2N6dnISu/Ept2ncSxre8gK/MsXljwMQq5vWhDZfuBa/hk42ks+uoYHuobCi6X46RquvG3KzYPSDVCPg/l1Z6O3UduYPLISMY7PTemB3YfyWGsY8aJXLqc135daqICJZXMHi53RK2yZ7Xe3KRya8K9Q4M8Hps2bcLMmTMxa9YsWCw1/2DEx8dj3rx5WL16dYtNkEAgtGOa4DJvDtEzuYTvFGqZkRQND7mQzgsJ8ZPQ3VodwykpDysYsueFZVps++MqXprYG+AAt8s04AB4/MHO8JCJGH1wZiT1QEiADIvWHHOSTV/83AB8v+sSruZXIXmYzUsCDns4xmqlcDnjYxTkXcdnX/6ATt364avtF5EUF+5kqKz7+RJeSu3NOk4HHwl8PUVQaUyYPLIbrFYrAKC0Uo9f/rqOpCHh6NLRHZ5yISxWm8iZIyqNCcF+Mlqd1e45UmlMzZPnweLdeH5cT8ilfBgqa96nXajtElqNBhket2/fRp8+fVjPhYWFoby8vFknRSAQ7gKa6DK3N3bbsDcTg2ODweUCUZ284S61GQxOhgycj8mEPAT7yTAxUQEvuQhF5VpsybB5PealxCIqzANKjQlyCR//mTkAlWpjjbHDYgwUlmlhsljg7yWCWOiOK7kVCAmQY8UW5jfzbX9cxZOjoliNgHKlHsP7heH6LRVdrmqozs9wLtl1R0jfKQjoZcaBazLM7umGQB+JS0NFLGDX3Siu0CHlYQV0BjOsVqbkemmlHjv/zEbysAgM8BLDXSJk7fSr0hqxOf2K0+fUHIYAW1jty5/OI3lYBOOZba62S2hVGmR4BAUF4dSpUxgyZIjTuXPnzpHKFgLhPsS+qTi2cs8vViPEXwqZsI5/WiggKswDk0d2c2pXL3Dj4uONp+s9FhXqgfAgOTzlQrxdqypjRdpZLJzWD++vP0Hf8/ToKEweGYmNv9k2O7ZN3EsuREGxFmury2enPtLNyQgYHBuMgmL2vIjcQhUOnS3A61P7okKlg0TMR0m5jhYSM5gs0JblIMijDN/tEkLm3xVAjWLq/El9cKNQyTq2xUIxxnEs7VVpTAxBM/v9jtd0C/OEu5jP2ulXqTO3WJ6Hq7BaSICMMU8iWHZ/0aAcjwkTJmDdunX48ssvkZ2dDQBQqVTYtWsX1q5di3HjxrXoJAkEQvujUm2kcxJ2/pmNtIwsbD9wDdcLVfXmByg1JtroAGri/Nm3lA06ptabodSaUKZkr97IvFHOuOe7XZmwWik89Wg3xHb1waxkpuz5zOQYFJZqaKPD11OEjv5yFuVT4NTl2045IbOSY3D9ZgUKy7RYu/MCrFbgh12Z0OjM0BlMeGd6PAaGaXDsx3ewfcu3yLtV6jTngmIVxEKekyT7c0k9sO6Xi0jbl4XkYRH4V2pvvP1sf3A4wPC+oZBL+bTXyNdThORhEXh6dBTmTYyF1UohoV8YvOW23i5snX7tHqiWkN23h9UcEfJ56OgjoTsKL50ziCSW3mc0yOMxffp03Lx5EytWrMCKFSsAAM888wwAICkpCc8991zLzZBAILRLPOVCJPQLc8pJ+PKn8/XmB7j6JmytJSvEdiy0gwxlKgOu5FYgtAN791mrFfD1FNHlpwAgEfGg0Vtw/lo5zmUVYd7EWOgNFoiFPPxyKBuPDQ6nxxkeF8raYC4yzAsAB9v+uMqoqNm6LwtTHonCycslGBwbTHsm7Eqi5bmncOKXDyH36oDvt+zA2j0FTnMO9JUit1CFC9dKqr0fVYjq5I3V287T2iGb06/QGiP2P6cmKtA1xBNBPmKAAsKD3FFQoqbDREI+DyH+MtebOwVWTwhDV6WJZa92o6Z2eMc+fntR2yW0Lg0yPDgcDhYtWoSnn34ax44dQ2VlJeRyOfr374+uXbu29BwJBEI7xF3shpAAWZN0IFwlmNq7qbo65uspwoj4TrQ6aaCPBDOTY7Bm+wV6Y5szvhf2HrnuVMa64Km++Ob7k5j2WBQe6hvK2JgnJipAURQjD4St/wkABPtLUVimpY0KO3qj7V1q63sUZB7Eub3L0blrNCIefg2/n6lkDZt8++slWpPjxm0Vpj/RAzqDmTY6HNfXbozZq2SWvjAIsOWVws9TRIem7NfUW67Mpp/SHGWvdRk1hPuWRgmIderUCZ06dWqhqRAIhLsKCujoK21SfoCrb8ICt5r+KGzHEvqF0eEQwGYc/LgvC28/G4+svHIYjFbsPXId4x+OxIc/nGRsvll5FZBL+fD3lODDDadYq1JenhSLnEI1/DzFSE2MRMaJXNrAEPJ54HIjEKvwZX1nW6VNJDoFypGaGIlr+eV4qG8odv6YBV7ZIHz2xXp8ttXWIE6tvYb5k/qgoFiFQF8pNuzJpI0OAODzuJCK3FBWZaDnYT9v1xixYzBZUKk2wl1kMxqa2qSvNk3SW3HhIWlPvYQIbU+DDI8333yz3mv+7//+744nQyAQ7i7qc6W7pNY3YamID4PRDJlEgI/mPoBylaHm2zFAX2e2UIxkVsAm3nXpeimsVtBGwo3CKqfN10oBCf3CcNVFV9qsvHLIJUKGsue00VHQGswwma3oFOSBn/ZnwUvOx+yxMVi9rcbLkpqogMlswcHT+dhcpkW3UA9EB6Haq6JA2LDXoDXZxqvSGNGjizcsFGC2WFFUrsETg7tg/a5M2osz7qGu+O+3Jxjj28tc7X+2U9vQa45yZaAJBgwRBiM0kAYZHocPHwanlgtUo9FArVbDy8sLUVFRLTI5AoHQzrkTVzoFuEv4uFmqxf9Vh06cNqvqcezfmCu0Jqema6mJCgCAzuioC+FcxnroTAGeHBWFvCIV68bs6ylhlM/KpXzojRakZVxlPMtqBfy9JazaF/MmxiLnVhV2b/oMn275HoOf/ARynxAYzRTW7LiIRc8NAJcLFJZoGIbLnPE98fToKFSqjQjr4FzGuzk9C/MmxqKoXIsgXymtx8Fm6DXZGKxFYw2Y5lCkJdwfNMjw+PPPP1mPX7p0Cf/6178wadKkZp0UgUC4i7gDV3qDNqtq971aZ4Ibn+ek4Lk5PQsTExWM5x46U4AZST3osIyQz0NKggIdfMX4395Mp6TR6U9Eo7BUw9hkh8eFsj7rtSlxqFIZ6DwLe2M5ALh+swL/t+hVZJ3+HZ17PwaZd0d6PIPJgtulGnjKhbTRYT/+xY/nkTQkHGn7spCSoGD1NOQXqRDiL0fXYPe6Db1qY3D5y8Nwu0zd5LyKxhowzRXiIdz7NCrHozbR0dF44YUXsGLFCiQmJjbXnAgEwn1CvZtVtft+w95MPD64C0QCN9br/b3E0OhMeG1KHAxGC+RSAX47moM3nuoLndEMP08xfOQCaAwWjH2oK12VIhXz0DnIE9dvViIkQI5nHusOjd4MABC4cVmfpdaa8OW2805aGZVVGnzxwcvIOp2BcVNfBBWYCKPZSt8r5PMgFPCQlVfBOq5UzEPKwwoE+khY8zriuvnDRyYArI0w9CgAnCZqnzfSm9VcIR7Cvc8dGR4A4O3tjdzc3OaYC4FAuM9wtVlRADRmC/R6mwckNVEBg9ECpcbEer27VICSCh2++eUf2iB4Likabm5cGDVWWKwUbpVpYbJQ2H8iF4NjgyEV8+AhE+G/3/7NCKXsP5kHlcaElyf3YW+0Vq51SkxNHhaBoxlbsONwBnolzIS862inqppZyTHQG00QsqiQBvpI4C4VYeNv5xlzcczr4HI59Xstqr1DN8u0yC9SI+NEbo2aa2NzLRpZSttcIR7CvQ+Hoqh6fyXs+v+OWCwWFBYW4q233kJ5eTl27drVIhO82ykrU8NqbZ6/dX5+cpSUqJplrLsdshY1NHot2qolOdtzOcD5nAp8+SPTg5B+PBdPj47GjcIqOryxYstZ1m6vz4/rCR93IUoq9ahU67H7yA0AcMoFsY+bGB+G3UdyMDwuFDv/zHYyLOwhj0AfCcYN74qvd1xkGA8bf7+M0ko9Qyckuos3Nu35BwJjAc4XuQNg6oh0C/PCpt8vI++2GjOSeiDAW4Qvf7qAwjIthHwe3ni6L10i7DiXeRNjkVuowv5TeXguKQZdA+V1rm/t5E5HddNG5Vo0NVHU/hm3w9JZ8m9GDS21FlwuBz4+snqva5DHo3v37k7JpY588sknDZ8ZgUBoO5qyoTTFUKl9j8QNmbnOzw3xl6JKpWdoZew+koPSSj1uFFbBStk2YL3BAoPJAkOlhaGt0TPCFwajBZdyymGlbLkdjz/YBVwuBxv2XHbyTCQNCaf/76ovir1aprBMC7HQje4HU67UQW80QaUxwddThEcHdcb6bUdxYtdy9H10Lp4Z9yA4nI648rvN2Cmt1CNtX5at/HVIOK7mVwEA1u68iORhEUgeFgGdwYSIEC8oXYSccm+r6DHEQh7K1EYYjGa4y4SwWqyMz4QtX8b+rmn7shqVa9HkRFFSOktoAA0yPF544QVWw0Mmk2H48OEIDQ1luYtAILQZLoyFRm8oTTRUat8zd0IvbPztstNz35keD43ewup5sFptiZsTExVQag10eMK+oQf6SBDoI8XqWvkWe4/ewPQnetQYM7CV3JZWt3p3NC7YQin29xLyecgvUiOqkxdWbzsPk8WK0YM6Y0ZSD5RV6bEu7QD+3Pw2THo1qsqLsSU9CykJXVkTVzV6E1ISFPQ8rBSFdT9fQtKQcFzLr4Sfp9jlXOxhlxVpZ6u70EZC4Maly2/tn4mHjE/f7+ht6RQoR6CPpFG5FiRRlNCSNMjwePHFF1t6HgQCobmow1ho7IbSlG++bPes3HqO/ubt+Fy90YxDZwpYN+vtB66htFKP3UdyMHpQZzw3pgcj7DEjqQc+/MFZCCw1UQGV1kgbM45hFvtGDgo4dLYAz4/riS9/cs6rcAxT8N04eHxwFxiMtqoWuZSPAZ0pHNiwABRlxYAJ78EzIMLmkTFZsf9kHpKHRaBzkBxuPB7W7qwJqTjOw2CyQCjgoktHT+TdrnJSM50zvidkYj6Sh0VgV7UXCAA2/nYFycMinD6Tf0+PtwmZsYSjZo+NsXX/dY6as0ISRQktiUvDIz8/v1EDhYSE3PFkCATCnVOXsdDYDaUp33xd3cOt1ZJSyOfBVy7ElFFR2LA3E1Me6QZPmRA3SzT4+1Ihnh4djZslKgT6SFFSqYWXuwhvP9MXJottPKPZyvqcAG8Jlm9xDjnMn9QH3+26hOlPRMNktuD5cb3A5VBYOK0fKpQGiEVuuF2mwfC+oXTIR6UxoXOQB24UKumNvPhKFtKWLgaXJ0T8uMWQeQfT7wMKUGlMEPC5KK7QsYZ73nqmP37Y8w+EfB46BXpgyTfHYTDZhMPmT+qDmyUqdA3xwpc/ncPg3sFIy8hyeke2njaXc8sxMVEBo8nq1D9n9bYLjcrxIImihJbEpeGRmJhYZ15HbTIzM5tlQgQC4c6oy1gI9ZM2akNpyjdfV/dEdfJ2kkN3l/DhHuqBBVPioDVZcPlGBYL9pAjwFmPZptMMj8WPGVeQGN8JX22/ALmUj+eSYtjDExwO6/tbKSsGxwYj/e9cDIwJwn+//RupiQqE+Mvx5bbzNZ12D9Z4SqY80g1bM64g+aGu9JgSzw7w7xSL1xa+i/3nNQwvjc5gwvxJffDTH1noHRnAOo9/csowKCYIY4aKsXZnjZ5HYZkWyzadRtKQcJRW6mCyWOl3qv2ObD1tDEYr9p/Kw6TEbnceJiE9VggtiEvDg0igEwh3J3UaCw3dUBxEu+ZO6EW3sG/IN1+2b8vPj+sJbw+hy+e6S/i4kaOmkyEdcz7snoKF0/rh/fU2GfGkuHCsZ+keO3tsDMqrdKzvLxa6Yf+pPAyPC6Xv8feW4NrNStbE1S5B7igs1cBspSAR8lFZcA7ygG7gC6XoMfIVnL1hxsJp/ZB5o5yWay+t1NPVKBwOu9FgtYKu1Cks0zp10ZWKeCiu0OHRQZ1x9MItp3eckdQDJrOFYcTZc2hKK/UoqtA2T5iEJIoSWgiXhkdycnJrzoNAIDQT9brJ69tQauWIBPpIsHBaP5gtVggFbnT/FJc4GDd2PYkNezNr9CTCPKDUmJBXrGFUZNhzLVxVm5RV6WuOu+geW6k2YNfhHKfNevLISKzZfoHe4O3j6A0WunKmdiVK0pBwiEU8jIjvhLmvL8Hhnz9H5IAJiBg4GUI+D4nxYbh+y1buW3uu+UUqZJzIQ2qiwqmkd/eRHBhMFmgNZkSFeaJfdGAt46kn/jp3HXm31UgaEo7dR3KQPCwC/l5iSER8/PRHFipUBiQNCQeXC8RF+sPHXYApo6KwIu0s9p90fi4JkxDaEw0WENPpdMjMzITRaIRd+oOiKGi1Wpw6dQoLFixosUkSCIRGcIdu8to5IoVlWry//gSSh0Vgc/qVuitbHKpppGI+o+cIAGzYm4nJI7sxPChzJ/SCROTm9A299s8+HiJbrxQKEAttIlx2Q8F+jS1Moac3az9PMSrVelitFAb3DkanQDmKyms8AjqDiTW5dUZSD2z74yqmPtIdc+YvxMWD3yO4az+88uoCiCVihATI8e2vlzC8b6hLr0ZppR67juTgpYm9kVekhNVaUyos5PNwq0SDJx/pjvfWHa+Vj2GTT7+aXwVwbDkjHXwkCPCR4JP/naKTTO3v3S3MCz4yAeMz95YLEd8jEMXlGhImIbQ7GmR4HD16FP/617+gVCpZz8tkMmJ4EAjtiTtwk7vKEbEnNNqTVZfMGgiNzlRTrgumpyQ10bnnyODYYNrosI+1cus5zJsYS2/g+0/msRoCq7edp6tDJo+MxLTRUYyS0ueSeuCnP64CsG3WQj4Xe4/lYGBMEOPb/3NjeuCl1Fgs33wWJrMVowZ2xt6jObQHoXOQB3YcuIrxw7ti1bIluHjwewRFDkbPUS9h52Fb0v2LKbEAwOpdsHs1AJvx8c2vFzF5RDd8tf2C0zWdAuUuE2RTExXo2dUPD8Z0gEzkBqXOTDeHs8MIodT6zP385BDZE3qJ0UFoRzTI8Fi+fDk8PT3x3nvv4ddffwWHw8HYsWNx8OBBbN68GWvWrGnpeRIIhFbCVY6I4+ZlMFlw6koxNqdnMcTAHD0ljiEMO1Ixj1Vfw2Sy4vnxPfHlj+dRWqlH+vFcvPVMf/yTU4aQADk27MlEYZmWfvbG367g7Wf7Y8oj3aDRmdAp0AMZf9/A0D4hCA2QoUKlh0zMR1y3Dk4VHl/vuIj5k3rj39PjUaHUY+ehbEx5JApGkwXe7iKotAZMeaQ7rl7PxW+/piGq/2Po8sCz4HC49FqUVOdgpB/PhZ+3GG890x96o63Hy7e/XKK9EoDNCArwETO62dorZnzcRaxrXVKpQ8aJPAAchATI0NFXCncJqTQh3Bs0yPC4cuUK3n33XYwYMQJarRabNm3C0KFDMXToUOj1enzxxRf4+uuvW3quBAKhFWDLEbHrW9ixhxMAphiY4wZa23MR6COBh4zZj8Sua1Gm1CErtxwLnuqLrLwKWK3Apt8yMWJAJ+QXqWijw47BZMGF7DK61NQeZtmcfgVPj44CRQG//pWF8cPZO71ev6XEzoPZeCk1FiMHdKJDQkI+D9Mf74YNey7jdrkOA1M/wb+eGoYf919laHHYDYeXJvaGUMDFxetlOHSmAE8M7oJRAzth429XGJ6YDbsznXI5UhMVcHPjMjwmgT4SPD06GrfL1JiRFIPvfr1EP9eeH0MqTQh3Ow0yPKxWK/z9/QEAnTt3RlZWTTLVyJEj8dZbb7XM7AgEQuvDkiNSUqmn3fy1wwlAjRiY47f30ko9rtwow6IZ8ahUGeAuFeK9b5j5DFvSs/Dy5D5w43FBUUBhqQZ9uvmjoEiNsMBwaPUmhHZwZ/UKCPlcpDysoL0n9rwPg9GKU5dv4+nR0eDxXKuTGkwW5N1WY/uBa/R5jVaDaVNSMCC+P3yjkzH84XiUVOowb2JvXM4th9VKgQPYtD4A8LhA3m0VuBzg6ceisfPAVQzuHUyHbXpG+OLztLMwWazgAJg3MRYGowUSER9rf76AQF8pdlUnyHpI+ZBKBE5lxPa8EEfhNlJpQribaZDhERoaiitXrmDAgAHo1KkTdDodcnJy0LlzZ5jNZmg0mpaeJ4FAaE0c8wWqN/bXpsRBLHSDSMDDxw5JjkCNGJijpyTQR4KhfUNwJbcCvx/Pdel9MJkt+HRjzWY7Z3xPiIQ8LN98FhMe7ootGVlOOR/PjekBo8mCtIyaHI9ZyTFYNKM/AA46B7lXvwdVZw6GlaLoORn1apzY/h4qbl9F0LjxGO6g/rn9QDYmj+wGoZCD73ZlQi7lI6FfGEwWCuAAGSdsHW2nPxENL7kQoQEyyER8VGqMMFmseLRWw7rpT0SDz+NCKraNk3EiF888Fs1IxrUbZnbF10ZrcTSGtmocSLgvaZDh8fjjj2PZsmWwWq145plnEBsbi//85z+YPHkyVq9ejYiIiJaeJ4FAaAtc9F159vFoZN9UMtqu28XA7J4SqYiPU1dKcPB0PhLjw1BSya6vUVCsYWy2X/x4HotmxGPyyEgE+8ug0pgYZbNcDgeBvlKsTDvLyBdJP34DD/cPY8iqTx7ZDUcu3MK/JvUGRVHIu62mPQiAbSwhn4eqihIc3/YuNBU3MWDMG5j05FNORsDG3y4jeVgEqyT55JGRsFoplCv1CPCWwF0igEzkhiqtCQn9wpzyTNb9fAnzJ/XB8i1n6Lb3Fgu7EqtjX5kWkSxvaidaAqGJcOu/BJgxYwYmT56MixcvAgDeeecdZGZm4sUXX0ReXh5ef/31Fp0kgUBoZTiAUmfCrQqbi18u5SPlYQWShobjZokGBcW2EMWUUVH4aO4DNZtUtack1FcKjc4EK0VhcGwwtqRnIeNELiYmKmyhDqC6WiUaGSdyGY82mCzQ6s3oGuIJldaE16fGgc/jIm1fFnYezEagjxgGowXJwyKw889spGXYjo99SEEbHfZxNv52GVMf6U4nhAr5XEbIyEPKx7RHFTj24zvQVhXhgfGL8Z8FM1FaqXVZ2eMoQFbznCswmKzYnJ6F99efwPVCFdR6M1ZvO48AbwnrWAXFKpRW2rRJfj+eC3epkF4bO46N4uZO6AW1zgSl3kwbI82BK4l9pdZUz50EQtNokMeDy+UyjIvo6GhkZGTg+vXr6NKlC2QyWYtNkEAgtDIO34CThoazfsOf/kQ05FI+vvzpPJbOGcTqpveUCyEW8mAwsre07xbmhdzbSqcS0UAfCTR6Ez7acIpRTisRuaFSpYfJQiErr5KRm2EwWaDSspcB/5NThgBvCTp4i1GuNNDVJVwOB1wuBxknbuGp516Gf4cgJDw0GCf/KcTD/Tu5lCq3gnJplNj//OVP5/HO9HgUlmlRoWL39BhNNR3bBscG46vt551CSnPG94SPuxDRXbwZ5cTN6ZEgnWgJrU2DPB5PPvkktm7dCrVaTR+TyWTo2bMnMToIhHuM2t+AXYUKhseFwmCyoKRKj3PZZdAYzLh+S4nblXoo9SaUKfWIDPOCItSL/iZvF/zaeTAbQj4Pvx9z9oI8PToaX/x4nvG8tTsvIr9IDS+5GF/vuMjIzfD1FCHlYQVdBuyIvfpm9bYL4PF48PeWIqy6Tby+PBufffk9ruZXoQgKxPSKw09/XEWQvztWbDnjNK/JIyPhLuXT4Znaz6ldbqw3mhHoIwEHHEx/IpoxVmqiAvtP5dHXc7lMJdaUBAWShoTDx10ImYiP99efYJQTN6dHwtW6kU60hJaiQR4PHo+HRYsWYcmSJXjooYeQnJyMBx98EDwer/6bCQTCXYXjN+D9J/Pw5Mgol7kHgT4S6AxmWK0UVmyxhWRG10qknJUcQwt2OSZ4bj9wFU8+0g3F5Tq8OKEXPN1FKK3UAaAgl/JhqLQwnmelKFAO3gYhn9kCXixS1CtRvum3yxgRH4ZTf/+Fz957ER0CO2Ltpqdxq1SPX/66jkcGdqKNLLsRIBXbusjm3KqCt7sInnIh3niqL9bsqGl3PyOpB34/foOer5DPg6+7ECkJCqzeZmtqlzwsAh39pNDoTaCsFCPkY2+gV1uJdVCPgBb3SJBOtITWpkGGx/fff4/i4mLs2rULv/zyC2bNmgUfHx88+uijGDNmDKKjo1t6ngQCoZVwFBArrdS7DBVwORzMTI7BldyasEdSXDi98QO2DfKr7Rfw1jP9MDFRAQ4H8PeSoLBUg96RAfCQCFBWqYPWYMbn1dLhjroh9iRQ+/PkEgGEfB6tEeLYAn7X4RyMHRZRp0T5iPgwXDjxBz58Zy6kXh3R/ZG3YTQDh84WAAC83cWMcuD9p/Lw6KDOdHM6R+2RiYmRqFLrodFZsO2PqxgRH4YKlQF8Hhezx/ZEmdKAonId5FI+Siv1tNx80pBw7D+Vh3emx8Nsttj0OKR815t/tYel9vo3m0eCdKIltDINCrUAgL+/P5555hls27YNu3fvRmpqKo4cOYLx48fj8ccfb8k5EgiE5qA6YTSvRPP/7J15eFTl2YfvmcksmSUJ2QMhARIStkAEYpTKIiaiUg0BTQKiYkHBpVhbl1at0latbbV8ta4IKhVZBURFlCDihiIIyCIQ1oQl+zqZffv+mMzJnMwMBAUEOfd1eV3mzJlz3nkn5HnOs/yekxYo+p6AfeH30k0VzBifJUoV3DVhIMMGJOB2e0Rpj1AD3hqabaQne2sSnl+ynQUf7eV/H+7hwLFm3G6Y995ukbOyuLSMvJxU4X6TxvQhNUlPQ7OZqTf0FzpdEmO0IkdhxYYDVDeYSIjWsurzg4LTUZyfwbrN5Xz3xfv89ZG7iYxP4/Kip5CrI5n33m5uG9ufvJxUYY6Lj2CFpEtKy5h8bV+q6s3CVNrKejOLS8v4bVE246/szdNvbuZvr3/Lyg0HuG5YT2KjNML7ffNX9GoFKbE6b9TCA6owOYWj0inKy6BwVDqqMDmtVietZjv33jRItP+CU3Km8CsK9q1HQuJs0ekhcf5ERkYSHR1NfHw8R44cwWg0nul1SUhInElOp2Uy2BOwThn0idgdoRFqHvxTIB2fzqsazHSJVAdEQxaXlnlFtTo4KwadkozuUcwsyiYmUoPd4Y0q7ClvIilGy0OTh1DbbCZKrwoQLVtcWsYfbxsaVKLccqKMuJSBDLnhj4Qp252B6gYTPZIMzH1vl6jAUy4PdKQMOp/B95CSaKB390gajTZGD0mh1eygvtkqpIo6anH4IjcdUxktZgfPtmmZ+O+bbzCfb0Kwx+ORIhISFzyddjxaW1tZu3YtH3zwAZs2bUKlUpGXl8ecOXMYNmzY2VyjhITETyRUy6RPCTOAjkPm3B1+xhs9abU46JlkEGor1m+pYHphVtCBaMnxuqDREKvdJXIeYqM0jB3Wk3+8tUWUerm0fxJ7yptwuNzsP9ZMRkoUr67cyW1j+9JicgidKkkx4VTVmQhXh7Hw471Y7U489hbuKv4V3RNysL+2EYe7PdirVipITYoQ6i78O286qqb61uYvsT6tYAAOp4v5fgPr/BVHfVEOX6SoV5IBvUYs0HWqwXy+CcHC9yU5HRIXMJ1yPO69914+//xzHA4HOTk5PPnkk4wZMwatVnu21ychIXEGOKMFih2iJ0kxWu6eMJD7J16C0+kmJirEQLTI8KDRELPVq/jpS7fk5aQGjYzcP2kwsVEaoZi0YGQaDpcbh9Mt1JiolQruLBxAXFQ4VruL3940iKf/8ke+/aqUCVeu4r0vDjHxmv4BM1PKK1vonRIlOFC+6MSUsX25+6ZBvNQ2UTfY2uau2kXhqPSQiqNqpYKB6bEM65/QHqno4Dh0djCf1OIq8UugU47HwYMHufvuuykoKCApKelsr0lCQuIME8qw/ZgCxY7Rk8p6M0++sZmS/Azkchlvf7w3cFDauAH8b/XuAJ2KSWP6oJDLWLnhAEV5vYmJCBfXjLRhc7iwO1yijhnwtvou/HgfBp2SgiHeKEVto5VWs4N5q3aws/S/HP3hM24omsbqb+uwO91CREMuh+4JBt74YDejh6aw53ADiTE6kc6HB4jSKnl8Wi7NrXasNudJIxP+x3xRjplF2XTtognqcABtaqxw14SBvLx8h8gh6jiYT2pxlfgl0CnHY82aNWfshtXV1fzjH//gq6++wm63k5OTw4MPPkjv3r0B2LNnD08//TQ7d+4kKiqKW265halTpwrvd7vdvPDCCyxbtoyWlhaGDBnCE088QWpqqnDOubiGhMSFxJlsmaw32oIa36Q4PbPb6hTe//KQYNz79Yzh5eXfU1lvprbZKgxKa2q10TVWy+vv72Z4djJReg1VDWZUyuBdHCdqTXRP0Ae0+gYTOLv56l7sWPNPjpV9y4CRt/HbP/yZ/yzZBiBqWS3Ky8BociCXybDZ3TQZrbjd3vkrbreHL7YdY3ROKnNX7cKgU3JHQVbIDh9/gkY5guEXPfK13HZP0NMtVktto3gw31lvcZXmtUicIzrd1XIm8Hg83HHHHVRVVTFv3jzeeecdNBoNU6ZMwWQy0dDQwJQpU0hNTWX58uXcd999PP/88yxdulS4xosvvsiiRYt48sknWbJkCQqFgqlTp2Kz2QDO2TUkJC4o/ApGZ03L5R93Dzs95UtfR0ydCY0qjKQYcZpVrVSIZo34jPvi0jJa2galFV2VweihKVQ3mFCrFPzvwz0cq20lPzeVVZ8f5L/LtrNywwFiIjQBXTS+rhSFwjtGvigvA4BGoyWowNkfH3mc4/s3k5V3Fz2GFBIdEVwkSy6TUZKfQWqijoyUKGK7aOnVLYJwtYIvth+jKL8Pc1ftElqL31lfFrA2n7CY+FgfLBbHKR0F/+iRr+X2+SXbwQNpXQ0//vs6XdocoIdf2siseZt4+MWv2FPRfEal2SUkfPyorpYfS11dHWlpacycOZOePXsCCCmcsrIyNm3ahFKpZNasWYSFhZGWlkZ5eTlz5syhqKgIu93O66+/zgMPPMDIkSMBmD17NldccQVr1qxh3LhxLF269KxfQ0LigsYDyE7DogTpiJkxYSBrvz7MnvImoWhSIQ+MVCTFaImJ1HDzmL5UN5iFoXJ3jBtAUoyW+C7agGFsLy3fyQM3Dw5aJ3LkRAuLS8sEZ2Tz7kqu+1WvgAhMr5wbmTLxBspaEjCaHNgdroA0z9Qb+pMUo0WpUnDoWDPzV38vSnPcOrYvGpVMdO39R5tparWJ1vb+l4dQKuTMLM7maLWRHkkRzH1vF0aTI3Txbhunqr3xnxB8NqMRp118LCHxEzinjkdcXByzZ88Wfq6rq2PevHnEx8eTkZHBiy++yNChQwkLa19Wbm4uL7/8MtXV1VRVVWE2m7nsssuE1/V6Pf369WPLli2MGzeOLVu2nPVrJCQknK0tkpA4OwQpCJ0xfqC3PVN/ckMWzCi9snwHD00eQkWNEYvVhcliJ0KnFymHJsVouemqDGa99k1At8dr7+7i95MGc6zGGNTwllcZUSnlAUWgvpoHXwHn/RMvIVytQK1U0FRfxd6vFpB11Qy6J8VwxYh+DLU70YYrqW0yU7qpvH2arQdWbjjAjPEDsVidROnV3DkuC4vNgcPpjdx4PDJAxq3X9cVqb0/vrP2mnMJR6UIxrO9zvfHBbuqarBTlZQjCZyGLQdscCafbQ0l+Jus2l4vE0kS1HCEmBHfRq9BrVWfECZHmtUicS86p4+HPH//4R1auXIlKpeLll19Gp9NRXV1Nenq66Lz4+HgAKisrqampAQgw/PHx8VRWVgKck2ucjuMRE3NmZ9nExRnO6PUuZKS9aOdUe3G8plUwXLFRGvJzU0VqnPdPHMzlWUnI5YGRkKoDtUGN0v5jTbjdsOrzg5TkZ1BVbyImUk1xfgZdDBqiDSpMVhd3jssiXKNg5YYDLGnT7Xjjg90cqzGSHG8IOUBt/XcVFIxIIyVRT6RezX+WbKOuyUpslIbRQ1JABuHqMCw2B8MzFfzpvj/hsJvJHV3ChNGX8Z8l2/yKWDO5YXgv3vviEMOzk5HLYVpBFh6PmyMnjCKZ9Ulj+rBu82GUCjk3XpUR4PyoVQq+3V3JI1NyqG+2olYpePezA4JYmc8JUCsVJMboiYsT/w1wuz18vbOS2Yu2BjhVRpOD+ycOpmdyF+G78P/ufHv/wrLvKRiRxqrPD3rP7xpBfbOF6IhwkmJ1wns7+2/E7gleVxNs/Rcy0t+Mdn7OvTgtx8Nut7Njxw6qq6u54oorsFgsJCYm/qgbT506lZtvvpmFCxdyzz338Pbbb2O1WlGpxFXbvp9tNhsWi0V0zP8cu90OcE6ucTrU17d6i9XOAHFxBmprJbE2kPbCn87sRV2jWXja75Fo4P0vDrY//QPzV+8msYsm6NOtVh0W1Cgpw7wlYvdPHIwHD/+3aBslV2eQGK3j/S8OkJfbgzl+eh6+eSZHq42MHdaTzB7R1DWaQ85XAZDLZdgdbpxON3GRXsGvjoWkOal2/vLgb1Apw3j0uQWMGHap4HRA+9j6P0/NpSgvk1dW7OiwpvIO5+717g0I6/e9tri0jD/cPJhrh/USTYstzs+g1exg/JXptFocJMVomXxNX1RyD7V1RlGaRC5DcDr8r/vnqbno1QoitErq69sHclbVmYI6fj6V2NmLtgpCY/7CcHGxnf83opITtPhYJff8Yv6dSX8z2jlbeyGXyzr1sN1px2PRokX83//9H83NzchkMt555x3+/e9/A/DCCy8QHh5+Wgv0dbE89dRTfP/997z11ltoNBrB+Pvw/azVatFoNMIxf8fAbrcLmiLn4hoSEhcUMmhstbPq84NCCmT8lb2FoknBcFodQR2PiPAw7i0axAtLvxc6SBJjdGjVCsI1Yfzfom1cfVkqBSPScLk8yOTw6+FpAbUbc1ft4r7iSzhS6a3T+P2kwbz4zg5vK+yINFRKOT27RjJ31U6AgGFzd00YSHOrTWjTBag8spPHZv+NqKguDBj7GN8ckpPSqyWooa5tNPPKip0Ba/Lpbfif63PIgl3nwLFmVn12UCQStqS0jPuKL+H1D7y1HffeNIi+qd5i0I5pkrsmDAw6BM/pdBERpTltjQ//dl7/2oy4Tv1ytCHNa5E4h3Sqq+Xdd9/lL3/5C2PGjOHVV1/F0/ZLXlhYyNatW3nhhRc6dbOamhref/994f0Acrmc9PR0qqurSUxMFFIh/u8BSExMFDREgp3jS3+ci2tISFxItJgdvNAmgAUwPDtZcDqgvV5CLleEnOHSNVbHpDGZlORnsqS0jNff38Xe8iZO1JqZXphFcpyOVZ8fZMFHe/F4wGZ3BRhtg06JNjwMlVJOwcg0aJs06+uAWfDRXhaX7mX6+IHc/uv+AUJdLy/fQc+ukRh0Soqu8na2FF49mLjkTB579m30XboChBxb3yVCE9SRkHf4K9gxXRLsNd+ejR6SIlznRF2roFT6wrLvaTE5gtbHvLx8hzCHxv+6UTpV0Hk6HWfn+BzF9d9VBKzXd48mk/jBqVNI81okzhGdinjMnTuXiRMn8sQTT+Bytf/D/fWvf01VVRWLFi3iwQcfPOV1KisreeCBB0hKSmLo0KEAOBwOfvjhB0aOHElCQgJvv/02TqdTKOz85ptv6NGjB3FxcURGRqLX6/n222/p1asX4JVy/+GHH5g0aRIAOTk5Z/0aEhIXEgGFg36D3PzrJWx2J/uPNtAjKZLoCDX1TVaiIzUcrW7laI0RtxtBrKtjumNawQDhKb66wURat6igUuN/96srmTE+i6QYLZX1ZmFprWYHaqWChmYrBSPTWL+lQii6tDlcmKwOxg7ryYtvrEIX3xuNKozn5yzx1jRsb/Y6GAZVgBhXcZs6qVqpwKBTCp9ZLpPRu3v7Wn01Hu9/eRClQs4d4wbw2rviyNCHfgWuPidNrVSQFKsTPodg/D3BoybdE/Sie84syiZCp2RPefB5Ov7RCJlMxisrdgg1JZLQmMSFRqccj/Lych566KGgr/Xv35/a2tpO3SwrK4vc3Fwef/xx/vrXvxIREcErr7xCU1MTU6ZMQavVMnfuXB555BHuvPNOdu3axZtvvskTTzwBeOssJk+ezOzZs4mNjSU5OZnnnnuOhIQErr76agAmTJhw1q8hIXEhESpUH8yBKM7P4JUVOxh/ZW+WrNtHXk4qKzccoGBkmjAwrWBIGktKy0RqofXNVsYO68n8D/cAUNtkFs1s6Sg1btApqW6wcMt1/ahuMIEH5HKI0GuCdsH4jKw+XMmTz/yb79e9StZVM0gddA2LS8uYdcdlPHzrEPThKpqMVhZ+vE8QMOudHMWarw9zpMrIb4sGUdtoEaVw7iwcwGO352C0OKlvtuB0uhk9NAU88PE3R3j41qFY7U4qqlqFtfj2UK2UU5KfSdc4HWEKObFRGmGt3ghG8KLNbjHagLRGiykwOrLgoz38fuJgTBYHUQY1KXFe5+bhyUOE99Y2hRAak5A4T+mU4xEbG8u+ffsYMWJEwGv79+8nNja2UzeTy+X897//5dlnn+V3v/sdRqORoUOH8vbbb9O9e3cA5s2bx1NPPUVhYSFxcXH84Q9/YPz48cI1Zs6cicvl4vHHH8disTBkyBDmzp0r1GvExMSck2tISFwodFQt/WLbMWaMz6K6wRJ05HvBiDTmrtrFzOJsrDZvymT9lgqmtal2IiNk1KN390jkMhlzVu4iJVHPfcWX4MFDWJhcFP3o+N6S/AycLg+vtEUpOq5n1ecHmVbQn2f+/iTfr3uVhLRckvuPFs77fn8t4eowarAINSC+ug1f18781btRhikCUjhzVu4SFEMXrNkbWESrkBMXr8fucIsM/B0FA1ApZbz4TnsB7W1jva23CdFakMmI0J5EMbaNplY7yGS0Whyie/u6jx579euACIj/wL4IbfDJwRIS5ysyj8dzyl/RZ599lrfffpu//OUvjB49mqFDh7JixQrsdjv33HMP48aN61Sq5WJE6mo5O0h70U6n9sInQOU35v5QZStPvvFtwKlFeRksXVcmtI56PBCpUxNlUGFzuKio8nZc+Aaz+fAa+EuYvWhbwPHHp+by13mbsDlcFF2VIRS6+p9z57gs/rtse8B6fluUjTpMzj2/ncnur98ldcBo+ufdg1zeXvPgc05mFmfzrwXfBVyjJD+DHkmRHKsxsuCjvUE/s1opRyaTCQ5RUoyW6YUDgTatE20YLSbvHirDFFisDv719laRQ9WxIHZmUTZ9UyOF9wmOAcG1ORZ+vFdIPYXap86Kekn/RsRI+9HOBdHVMnPmTPbv389DDz2ErE3x8Oabb8ZqtZKTk8PMmTN/2molJCTODX6qpcowechuCW8aQUGYQi5EAXzD3uK6aFB1eB+0d1cE7wRp5O4bB/HSO9+HrDGJ7aIJup7qejMVR/bxw6YP6Hd5IY//5WmWfdI+jXbSmEzcbg8FI9MIV4cF1I2olQrcbjhWY8TudIectZIYo6Om0czM4myajFb0WjV/n785aLQBGRyqEg+MGz0kJSCa4q/+KTgLHm8BaTBtjkem5Aj6Kr7UVse9lES9JC50OuV4qFQqXn31VTZu3MjXX39NU1MTBoOB3NxcRowYITgjEhIS5yFBlC8fmZLDKyt2BJURX7nhAMX5Gbg9Hj786rBI72P5+v1MK8iiorolqAGP1AevJzFZXKQkKinOz6BrrC5ojUlSjJZpBQNEbb5Feb1Z8/UR8nL6kHf786gikvjom3JBnlwZJkcZJmf+6j3Ce6YXZrHskzKRxkbppnJGDu7O+i0VTBqTKZqcW5KfQUykhgVr9gjvuX/i4ACtDZGEuAdiIzs4SrLOOwqhlEI9Ho+QNtFplKzcEBjxkApHJS50OpVqkfjxSKmWs4O0FwjpE7PdhVYdFlI6u8Xi4OGXNooMmE+0yz/igAcyU6OI0Kr496Kt/PpXPbE53QHFp2qlHLvDjV6rZO6qdtnwaQUDiIvS0Gyys3jtPkEhtGfXSJqMVpRhCrThStZtOkK/XrHYHe6AdE1SjJZ7bsqmxWRj36FqHn9wGt375/HYgzNwOD0s/Hiv4KRMuLI3dc3WoCmf9rkpkaz6bD+XZXUjJlLNf/20SLrG6pDJZJyobWXjzhNckpFAYoyWmkYLYQpZ0JTMrGm5pPi6Vzo4dCX5mUHXEiw10mJ18vCLX5383CAOoy/q0pkaDunfiBhpP9q5IFItndHpuPfeeztzKQkJiR9DxyFh2rCQrZcdjVKwp2t3WzrFf0R8UoyWnL7xmKwOZowfiEwm46k3vg0o9vTVUcRGaSgclU5itBaNOoz5q3dTWW8mt188xfmZonZWb8vnfowmB1Nv6E/pt+Vcc1lPbA6X2PkByk80887a7Xz33pNUl+9i6m9+4009yGQ8fOtQmlttaNRhhKsUGHSqoJGD8iojS9d5h8k99ptLMbV1rMy64zLqmy3IZXIidUqqGto7XCqqWvlt0SAWl+5rq/kIjNwI0Ya27yNSp+TJ6ZdjsjqINqjpHq8PXkja4TvpWPAb9FxJ1EviF0qnIh59+vQJ+ZpOpyM2NpaPP/74jC7sl4IU8Tg7XFR7EWJImH8hIpze03VSjJZJY/oIwmJJMVqK8jIEZU+1UsF9Jdn8863AQs3J1/QRRQMen5rLP/63Rbh+qKJIn0Ko7//lchmfbT1Kfm6qKKpy4/A4/vjbyVSdOMZ1tz6Ow9BPtO7bxvbHZHEQrlEQHaHhiTnfhLwXwH3Fl4hk0meMH0haVwN6TZi3FbjFTn2LlZgIDWqVgo07q1Cr5Og0StEguHtvGkT/1CjgJJEIOhTxnsxR6Fjwe4adiovq30gnkPajnQsi4rF79+6AY62trWzatImnnnqKp5566vRXKCEh0SmCqV/6hoR1lPqua7EFOB7Bnq4njelDbKRaeFrXaZRC26bvWgp58OJTu8Mt+tnm6KBSGqLWwV+GPCFGi9Xm4M7CLJ6Z3+60tBqbmTppKm6Hidzxj3Pn7RNZu+kI+482Exul4ZrLe4iGq00a04ffFg3iv0vbR9r7i3yplQqqG8yiz/XKih384+5hXiPvgRi9ihi9SnDwfOmSpBgt908cjM3hpK7JQheDKmRhaMciUv/voMUSYpx9m1Kof9GphMTFQKccD4VCEXAsMjKSq6++mrq6Ov7xj3+wbNmyM744CQmJ0IWIwaS+NeoO/6Tbnqp14WE8Of1ybA4nIKOi2ohcLsNmdxEXFY7NIe7QiI3S4HA6eeiWodjsTiw2Fy1mGwkxWoytdmKjNBhNDkryM6isaxUckNgoDT0SDSTFaBmenSw4G19sOyaSIW8yWpHJZBw63iy6r1KjJ2Xg1Uy8qYDN5UpBT+RfC75j9JAU0ZwWm8M70K04P4NHpuRw4FgT3eIMzF+9WxDxml6YxcK14lqNgILPtj1qtblEDkVlvZnZi7ZSlNebpev2e52Vk3wfAUWkP7FGQ0Lil8ppTacNRo8ePSgrKzv1iRISEj+KUMqjPZIiRbLbJfkZ3idqH0EM3903DkStlGOzu4QhbmqlgntuGkTf1Cj2lDcBUDgyDaPJQW2jVaRLccu1fVDIZfzm+v5E6FTUNloxaMOYXpjFpl0nuCyrG+9/cTBgCN0dBQP4eNMRoXPG5XLTbHKQkuiVDq88sgtFmIrIhDT6/6qYnulpbC733tdm937uUO2lVruL+mYrb63ZG1AsG6FTCqJf/nvnX6vh26OCkWlBr+9wukX1F6G+j47dJsEiVaLOGAmJi5RODYkLhc1mY/HixdL8EgmJs0iwIWEzi7LRKOUUjkr3DksblU5ynN5bt9BGMMP30js7UCnDsDncFIxMoygvA4NOyYvLvuemvEzyhnbjL3dcRkpiBM0mR4AuxVtr9hKp11DbaGHXwQbe/ngPFdWtxHXRMObynryyYgdZ6fEBQ+heW7WLifl9uK84m4TocJRKBSs3HOD193eTGVnJpuVPsHvDXFRh8oABaDGRGoryMujZNVLYAx8+DY7YqHBRsezSdWWs+vwgMpmcSWMyA/bOJ+LVcY+CXX9IZrwoShHq++goU36yyIiExMVMpyIeI0eODNDqcLlcNDU14XA4ePTRR8/K4iQkJAjd3QBER6gx2VyYLA5iIzWitwUzfCmJeppbbUIdg39NxNFqI4P7JnKksoUuEZqQYmAV1S1ER2hQKeVcf0UvFn68T2hf9dVyBHtf2dFGFpeWidpOD2/6jPlrZpPSM4PnXlpAaveuVFQZGT00BblMRrdYLQs+2kOj0UaUPp1JY/oILbW+KE9CjJZwjZw7xw1gjt9AtzvHDWBx6V4ajTYKR6WTlhxJXIRaVMTpv0frt1Rw29i+tJgcuD0e5DIZaV0jiGmr7Tjl99HJcfaSDofExU6nHI9hw4YFPa7X6xk9ejSXX375GV2UhIREB4IVIsrgaI0pZA1BMMNXOLI3/1myTRSNWFJaRuGodHp3j+J4bSsWmwtLrUkYL9/RcLrdMO+93SKVTavNhUopF0UBgr0vNkpD9wS9d/Lsh0v44MPniO7alz7XPEpsbByVdSaRuNfka/vQaLQxekgK81fvwaBTUpTXmyi9hnC1gi6RGsLkMpxOF3Fdwvlt0SAMOhWNLTb0bXtlNDlIiA4nLUkPbkQOQsc9cjjdIqdsZlF257+PDnSqZVZC4iKkU47HVVddRU5ODpGRkWd7PRISFxYd9TVCiHidjXvh8ZyiuyLQ8IWKYiREa2losTJ31W5hHP34UemC0Fh7F0km7395CJvDhdFvqFmkXond4aQkP4O1m8oDFFGL8zP44VAdRVdl8PyS7VjtDr77cDWDLx1Jv6vvx2KXE6ZQCAqkvnUtWLNXUE61OVzYmrzpHh8P3zKU/334A4Wj0lm54QD5uamiDpe7JgxEpwlDrw3zOh0d8N+jYMWrP6kmQ9LhkJAISqccj4cffpjHH3+cgoKCs70eCYkLh7PdtdDB0ahttPDswvZW0pnF2SfvrvBA93gdhaPSCVPIyEyNRoYnaDSi0WglIVorHDeaHKzYcICxw3ry8K1DaTLaaDRaef/LQ0LHiJz2iEhlvZkFa/Zi0CkZPSQFmcyrn6FQyPAAqzbsp2Bkb/698DtMplaUai2XjH2QrnEGbvv1QGwOFxqVHINOia1JPMclMUaLRq0IOoNFGSZneHYy897bTcGItIBpuy8v30HhqHQu6xcffI/9nIOqRkvnulVOB6llVkIigE45HtHR0UFbaiUkLmbOatdCEKemJD9DMMw2h4uj1a0BTkRSjBadRklFrYkog5pWs92rxHlVBrsP1VFd38qM8VkiobCS/Ay0mjBqGr1zStZvqRAiFvM/3ENSjJbxV3pbSn3vmVYwgMYWC7+fNJg3P9iN0ewQIhL+2iIP3DyYtz/ay21j+3PoWAObP3ye5ppD/Kr47yTERTJmWE8h9dOucOrV4PCf4+IV/sqixWTHZHUil8noYlBjsthRKeUnrS3pnqA/eaShzTkgRGpJqsmQkDizdMrxmD59On/7298oKyujd+/exMbGBpwj1XlIXGx0Ws/hRxDMqVlcWiYSDVu3uZy7JgwUpMl96qM+ITCf2mbf1ChSkwxYbS5SEiP47LsKZt15GS2tdjQqBWqVgvLKFjbuOCE4HB9uPMx9xZcIw+Csdid3jstCFx6GPjyMF9/ZgcPlJi8nlUlj+hATpWHVZweFiAcykMtk6MKVDM9OxmK1MO///sjRXesomHgXUbERjB6SEhChWLupnN/elE1Di5XqBovI0XplxU7uK87GVGXks61Hue5XPXn3swPMGD/wpLUl3WK0gU5HkBRZhDaMe28aJKi5SjUZEhJnh045Ho899hgAc+bMER2XyWR4PB5kMhl79uw586uTkDiPOZtdC6GcGmTtKQi5HFKTDDwx7TKq6k3ERGoEaXDf+S8s+56Hbx0qSJqrlQp+c30/ahrMvPROu4z4lLF9Kb4qk2O1Rh6ZksORymYsNifrNldw3bCeLFgj7iTRa5VcntVVNFn23psGUtck1v24+8aBHKus5f/+8hhbv/2CfiN/Q1jKdYz9VS8UHXQ5YqM05OemCgWr/h03dU1WbA4XR6qMrPrsoPf4V4cZnp2MyeoQTdX1j5IEdRxCpMhUYXIWfry3Tc4d+vaIpnucNmhtyHnFuawzkpA4A3TK8fjf//53ttchIXHBcTa7FkI5NRqVQkhBGHRK1EqFyND7G2poa2OtaBQ5I41GOyvf/0E4ZtApsdpd/Ovt70TXaTHbyMtJDYhKLG4bFOcTIAOvymdtkzXg3Jfe2YF931ts2/IV0373JGOuvwm324Pd4WJQ7zhR3UawCMiS0jKK8npjs7uRyyElwYBBp2RJW/RHLge5TM6nWyq4bWx/6pvNPDHtMuwOZ/BiThnUG+1BU2SFo9KprDeLhub9fuJgTBbH+WvQT1ZnJCFxnhLS8bjqqqt4/vnn6d+/P5deeum5XJOExIXBWexaCBX2T4zR8sjL3hH3BUPSAgS+fAZ5/XcVQlQkJcFAbJRGcEY6draMHpIScJ3STeXcNrYfTpdH6HLxd2as9g7zWSDoMZvDxS3T7qdOkYkzeih4EGpFVm44yIzxWSxdV0ZlvTmkMml0RLhoyJvPuZLLoUdSJPNX72Z4djKzF22lYEQadoezfXR9kEjH0Rpj0Pu4/eZl+qIv/mmr81Hu/GR1RpKso8T5SkjH4/jx49hstnO5FgmJC4+z0bUgh6O1ZmoazdxXnE1tk5keSZF0j9NSUW1qN5ohiinVKnlAYebUG/pjsjpY/dXhQH0OWfCUx+xF2wKMva+jJVwVFhCR8b+uqamK8u8/Ivuq23EooohJHRLUwXllxU5m3XEZ3++vJSXBEDTK03HIm093JKN7FItK2yb0ytrn14RKdfmMdMHItKD3kfuJJAaLvpyPcueSOqrEhchPkkyXkJA4w8hg95Emnn5zM2+t2ct/lmzH5YbFa/dS32LH6fZQkp9JbJRXpTSYxHffnjEBRnPee7ux2d2MHdaTuC4a7prQXpDpcxh8hEp5jB6SIsxdiTIomV6YJSrqjNQpmTF+INamY2xc8ieO7f6EsUMiWLe5HKC9+8QPm8NFVb2ZpFgdb63ZQ3F+huia0wuzhPf7v6dbnI7GViuNRpv3fI/3/H49YwKky334jLSva6ej5Hla14j2PQkRfTnfDLovJeeP1Ikjcb5z0hqPjjLpEhIXHeeqcK/tPnUtNo7XmkTdHEtKy7h/4mD+vWgrw7OTkcvhjoIsSjcdCRD4Ks7P4ERta8hUwuLSMorzM0hNjOD3kwZjd7qoa7QwaUymIJ4Vyugmxmh5Yloub334A1np8ejCFTx6+6UcOtGE1ebGA+z6fgtfL30UrUbNg397k4jYrhi3lhEbpSE5RERDpZQDHm65th/KMBmz7riM+mYLMZHhePAEHfKmDFPwwrLvKRyVjkopp3RTOffeNIistFgaG01Bt9hnpOuarHy48bBQIzIkM94riw5C2kynUbJyw8HzvrX2pHVGEhLnKSd1PO69916UylP/AstkMj799NMztigJifOCczXWPMh9OnZzVDe0kp+bGqBrYXe4eOw3l7L7UD1uNxytamb4Jd2DGvheXSMoGJlGWrdIFq/dS1bveOQyGSs3HCAlUc/M4mysNhexXTRB319Vb0Ymg5z+SaJ13HXjQJqx8cK8paxf9FdiY+PJvv7PbDzg4XBjOdMLs6hptDD/g90BXSczxg+k1WwnMUbH7kMN7DxQw7hRvfF44Pv9dXy3tyrAuZp6Q38ajV6xr7TkSMJVcgb3HkKEVklYWOggrr+Rrmuysurzg8wsyhbNYhHSZjIuDLnzH1tnJHXCSPyMnNTx6N+/PzExMedqLRIS5xXnaqx5sPss8dPsUCsVxEZpRV0kBp2S6gYLcVHhGM121m32Fn/+5Y7LeGXFjgADf9eEgcxf/QOV9WaRhPm1w3pxz41Z1DfbhOsnxWiZPj6LV/1ExorzMyjdVM49Nw2iusFCwcg0wDtY7eV3dvDQLUPI6deNAz1688Q/XqV/n57sPdJI9wQDH3xxkLxLe1BZbxYiDb6x9S0mK6mJESz4aA9hchk35WVSVtGI2wNfbDtGfm4quw/Vcf/EwRypbMbthpUbDlA4Kp2kGC1ROhUmiwNOFZ1tM7SROiVPTr8ck9VxciN9Icmdn26d0blyqCUkQnBSx2PGjBkMHjz4XK1FQuK84mwKhPk/cTrdweenIPNGGu65aRBV9e1FpbFRmoDiUZ/iZ4vJHtTAN7dahbZVn2Pz2NRcXlq2nbxLU4ROE/C2xi5bV8aff5PLrkN1uN1Quqmcydf2obrBLBqiNvWG/ixatQGLzcnehmj6jv0r731Tj9YQw7rNFYwemsKe8iayeptFY+vB+9kKRqRhc7gZNzIdu8Mt0hvxOTuTr+3L7EVbRXs0773dPHzrUP69aKvgTM0syiYmWh90r4MZ2pQ43ckN7S9U7vxcOdQSEqHolI6HhMTFyFkTCOtgCEvyM4PeJzXRQOGodLrH6zGEK4VzghV/Lm7r9IjQq0IaeH9sDhe7D9Zx/fBehKvDAhyfynozjUard7EyDyMHd0cXruT5Jd+L7vvwY0+ya8Mb9Emcx8zifKw2F+EaBe9/ftCrYNp2//VbKph6Q39vkWsHx6J/r2j2HGkRHBrftX1Rn1BtuodPNIucqeeXbictOQpVh+DHKQ3tRZZ2OKsOtYREJ5AcDwmJEJwVgbA2AaujNUZBH2Pd5vKgRaJvfLC7TTvDw3d7q5kxfiCvrNgRso02ITocj9vD9MIsXl3Znia5a8JAlpTuE52vViq8jozdRYvJEdTxOV5r4ru9VW3RCBdhcjkl+RlY7C48Hg/P/eNv7Px8MZeNuIbBucOFVI1vlovT5WL5p+1qoqXflotSJqWbyrnpqgwami0hp+bK5QRt3e3YyeE7v6K6hfiocJHzcFJDq1VedGmHs6m4KyHRGUI6HoWFhUFnskhIXDSc6Tz/SYpIV288zBPTLmPHgVrcbkSaGW437D/aTFOrlYIRafRICtUdouDv87eQlRbNI1NyaDHbiTZo+HRLOdcP7+V1MFRyErrocLhc6MOVlFcZCVPIeGDyEE7UtuL2eEjoosODB4vVwTWX9RA5FCX5GXzy7RG+WPVfDm1bQ5+h1/L0cy/z4js7RRGFuat28ciUHOqarJRu8jocx2qMVNa1olIqiNKruW1sf1Z9tp+JY/pS3WgN+pkyUrpQ22hm8rV9AmTbNSqFIIwWG6UhLycVo8nBoeMtpHWNIK2rATwnN7QXY9rhbCruSkh0hpCOx9///vdzuQ4JifOTM5jnP1kR6arPD6LXKOgWpxeplfocEwCLzcWqzw+SkqjnrhsH8vI7YjXPFpNNqOvYfbiB9VsquOayHmw/UE/3xEg+23qU/NxU/rNkGwadkrEd6kSmjO2L3ekWpsWW5GcGpD8Wl5bRU1fJoW1ryMidwPx5/8VicwaNKJitTn5XcgkGrYq5q3YKtRiTxmSycO1ejCYHBSPS2H+0kQidMiDqc/eNA9n4/TGGX9IdlUpB4ah0r7qoB1ZvPIzR5KBwVDrrNpczdlhP0XtL8jNIiA5Hrw47qaGtqDGFjob8Qh2PC6pwVuIXiZRqkZA4R4QK+cvl3tZNvSaMLnoVBSPSCNco6NU1kgPHmhg9NIX1WypYv6WCKWP7YrW7WLJ2HyX5GfToGoHF5qKxxYpWHcabn+8RjOukMZl0TzCQl5PKwo/3UTAiTXA0gsmtN5scIkcjVPpj4NArGFbyDNFd+3CksgWbwx00omDQqdDjodlo45br+lHdYMJmd6Nsa3kVNEPsbtZ8fYCxw3oKLb16rRKb3cnoS1PRqsJoarWxuEO6CCAuKpzbf91f1PHjc5B6p3RBrw47qaG9aNMOv9DCWYkLA8nxkJA4R4QycoKAlQf0WhVfbD8WdEpr6aZykmJ17C1v4urLUtFplDwzf4voKd+gU2LAO5reYnPicrtJTTIIXTLCvYPUiQRzNHzrdVhb2frhv+l/xUTUyj5k9MvmumE9SYjWopDLeOjWocx9tz2qMWN8Fi63i1eW7xS18K7bXC5EOlZ9fpDM1C7MWbmTuiYr8z/cI9zT9/rM4mz+smQTj0zJCSmnHqrmxWpzth8IYWiltIOExLlHcjwkJM4RwYzcA5MGo1TIqKgxeTsqtGHMGD9QcDqgPSXz0C1DaTDaWLnhAAUj0li8NrCzpSivNzKZTJRCeeiWoSJ5cJvDhUYlP+msFfBqdEwa04fXV3zN18uewFh/lCG9ptA1VsvE/EzmvLtL5PSU5Geg1Sg5eLyFtz/2plL8hdCWtE21La8y0iPJwH0Ts7FY7dyUlyHSDJlWMIC1m460OQ/ejpZXVuxgWsEA5q4S33P1xsOMHpoS1CmJjVB7fzhF10q3WC0PTh5CuDoMQ3gYes0vu6tFQuLnRnI8JCTOFR1C/tEGNUdrTPxjwXeCFHrfHtGolDJsDhexURpvS2pbe6hKKRcMdKin/Ci9hjnvigs93/lkH3+8bSiHjjdz/6TBfLq5nNTEyIA6kQidkklj+rDwY28Rp9HkQONp4ruVf8baUs0fnniROlkq5VWmoLUfhaPS6dcznHWby4VJtv5CaDaHi6PVRpau84qi3TluABE6FW+t2S3SHFnx6X6GZydTUdWK2eaVS6+sN9NqsQvnqZVy1CoFRpOD9VsqAupD/GXDTzY2XhopLyFx7pEcDwmJc4lfyL/F4uCDLw9SOCpdpG9x942D6JsaJZImT4rR0j1BH/BU3/FnXbhYkyM2SsPwS5LZV96E2+Ohsq6V4YOT+edbWyi5OkNs8DccAODR23Ow2l001lUxZeKvaWxq5tJxT7C3OQGwhqz9cHs87D/ayOghKYKGiM9J8q3P7W4/f8673s6X4Zcks35LheCsgHdI26QxfVDIZfTuHsmQPolE6tRYbGbh3KQYraBCGm1Qc0nvWMwOF1qlQkiVtFhCd60A57aj5SLTC5GQCIXkeEhInE1CGRsZNJvtFIzsLVLltDlcvPTO9zx6+6U89ca3GHRKCoak0Ss5kiMnWtqKNpWolXJmjB9IdYNZqJv4zfX9iNCpKMnPwO3xpkrGDuuJze5i5YYDGHRK8nJScTg8FOf3BmDV54GD0ORyOWarjblrjjJg8HDkiVcQ3iVFOKdjSkZ4n0+23E/Ay39yrH+Hju+z7j7cwKrPDopSMr4ps2+t+YGKqlbunziY2Yu2Cuu/eUxfmlqtJMfqiTGoiNG3F4KmpURTW2vslIYHnsCokUGnxGx3Uddi86ZetEr0asVPdxAkmXIJCQHJ8ZC4eDnbT6ChjE1qJHvKm1GEyTlS2RzUMNY3WzDolEy8OhN9uAqHy41aJec31/fDbHWK0gp3jBtAbKSGumYrf5m7SdTVkpYcya6D9ZRcnYFcJhMm0Ppev21sX+avbu+EKcnP4KOPP0EX3ZXCKzPQjPkrMREaXlreXoPhTclkiq7l09UACFN4wxq+6I1WreDxabm80DaczYfPKenYVlycn8HLy79n8rV9eeOD3RypbMagUwbIxM8syg74Hu0eGSrvsFvgFF0rHRyo2CgN11+RJtrDkvwMkuP0gibIj+Vi1AuRkAiFzOPxSP72WaS+vhW3+8xscVycwfs0J/HT9+IcPIG2WBw8/NJGkdFLitFyX8kl7D5UT1q3SA6daGZJ6f4Aw/jEtFwUChknak284ld4+cDNQ3j27e9ENSByOWSlxfLCsu2ChLjvOoWj0llcui9Ak8P3elFeb8IUcnp2jaSuycJn6z/in7NmEt8zh0vGPih0qDQZbbjcHpLjDcxfvRuHy01eTird4nQolQoqa1sFbY37Jw6msr6VhC467E4XJ+pM7NxfQ15uD+asFA+e80U5AH5blE11vZn133lTKSX5GUJRrE/DpOP6/3XvrzhaYwr9PZ7seyZQuj7YHhWOSueyfvE/yUGoqDUxa96mgOOzpuWSEqv70dc9GdLfCzHSfrRztvZCLpcRExNkXlIHpIiHxEXJuXgC7Rjmj43ScP3wXmwvq8Pt8bC3vInkeG1At8b0wiwaWqwcqwks4jx4vElwOvwjACs3HAww5L66CwityRETGY4HeOqNbzn4/Tp2rH2ByIRe9B89XTjnlRU7Kc7PwO5wU1nfyuRr+1JVbyI9OYr/LhNHMQAq61vxeBCEyIRW2k1HeHxqLs0mG1Vtg+x871UrFVTXm0XzZdxuWFxaRnF+Rshi2haL8+Tf4ynEsvxfc7pC164EFRQ7jYjZRasXIiERBMnxkLgoOReDsjoaG/96C1/B6IQre7Pi0/0UjEhDLofe3bug0yp44tVNFIxME2o8fHUTETrvsLhgg+J86Yr131UIkZCUBAOxURogeDGqMkzO80u2s3fTKnZvmEu/QbmkDP8dYapw0b7ERYWLFFWnj89Cpw3DaHKIPrNa6RU+C9YOXDAije8P1LHqs4PcUTAApUIuvGf6+CyWrWt3OnxOlM3hIiFay9Hq1qDrt4ZQTRV9jycTy/Iv9rU6Q9auBDgIpxkxk/RCJCTakRwPiYuSc/EE2tHYJERr+Y+fwubw7GRea4t0+D/pPzIlB5vDRbhaESAFfteEgdxXkk1FlTGowU2K1TKtIIv5H+wWhLtuG9sXj8fDtIL+zF3V3j0z9Yb+tJhsmC0WKnauJTH9Mn7/l5dZ8/WxgH05XmsSORKvrtjJgzcP4c5xA0R6HsX5GRw41hR0bXI5uN3e/3/Nb5ZLs8lGz64R/H7iYL7bVxMwqya+SzjRkRoSY7S8vHyHyHDHRmrO2PcYzDnw1Xh0dBBOO2ImyZRLSAhIjofERclZewLtEH7v2yOSJ6dfTn2LFYVcJjbIIdIHdqe7LdXgYem6/SLj9vLyHdx6XR8GpseyckNgzUNlnVko0PR1kNjsXp0Ng05J4ah0EqO11LdYWLG+jBtH9+L2Gwbx68sXodUb2HGgPkATY3phFgvX7g1Y54HjTYSrw3j09kv54XC94DCEEvTqkRTJ3Pd2Cu/3dbTcNWEgkeFhoIHu8QbRd3JHwQD+vXArlfVmkmK0PDIlB4/H02644cx9j37OQV2LDU3bnJdggmI/KmImyZRLSACS4yFxsXI2nkA7hN+TYrQU5WUIxaF/ui247HdAaB+4ryQbPFAwMg1A0K6wOVxoNSr+u3S7MG6+Y7Gmf2oDEJwIW5OLxaX7UCsV/PpXqXy6/Fl2fiyn2+V3Y3eBWtlASX4GEXoVRXm9sTncyGUy4qPDg6ZU3G6IidRgsXm7bHys31IRsLZpBQNY/mmZqKZjQK9ocvrEExOhgjZ9j+7xOmEYXGqigQVr9ggFs5X1Zp5+c7OofgPE32NijB6V3PPjv8eOzkHbsY5INRsSEj8e+c+9AAmJn402I5MSqxMZsh9Lx/D78OxkwekAOFHXyqQxmUKnxhfbjjGtYIBIzrw4PwOXy43N7uI/S7azdF0Zqz47yHXDehIbpRHmk1S2FWcWjEhjZlE2BSPSAgpLkRE0qmK2WHj+6fs4uH0dRlk8NqdHeM/i0jKaW+28tWYvqz47iEopx2xxMGP8QNE6pxUMoLyyCYvNxeE2fREfdU1WSjeV88iUHIryMijK643T6aKiqpXe3SN5aPJQZhZnowxToNGINTIaWrzD4JauK6O8yijq0vGtsclkF2+83/fYLV5/TiIJvoiZ/574q6VKSEiERop4SEicITqG38M1inZlUECpkLP6q8PCsdREAx98cVCkHlq6qZxbru0nclh8EYzCUenERKpZ0laEWddkZeknZRTlZQRtNcXjbW/zfzJ32Mxsff8Zait2cMtdj9IYniP6DDaHi0idmqK8DGE9w7OT0YUrAmTN75owSBA56xjhuObyntjb7unTFZs1PZfKWrOo2+XOwiziotQ4nB4idCqiO9RsnG5Uwe320GI5B+qgUs2GhMSPRnI8JCTOEP7h99goDTqNUhjk5hvWdnVuqpD6SIrRMv7K3qJW2ilj+2J3uYLWD8RFhdNitgWkPb7YdoypN/QXya7fdeNAdOowtOFKwtVhwvyVbav/Rf2x3Qyf8BBjbpgcVLdCFx5GD7WB2iYzt/26P6s27CcrPV4ogPVR32wRUji+6Asy6NU1AofDxbNvbxUVaba2OtpnzbR9pjkrd/Lo7ZdSUdXE4tIy7powkAcmDebZhVtPPoMlmIGXwdc7KwUl2LOuDirVbEhI/Cgkx0NC4qfQoZjUZzRHD0kRpsj6Ih7HalpYvfGwMKEVD6zddISS/Ay6xulBBgq59+RgT/rVDV5xrY7RhRuG98LhdHFfcTYyuYwInYr6JjMn6sxYbA7Wba4Q1pGb+hAmYzPXXDeWKJ2K2KgBvObXlTJpTB8q67wdLD26RrJqw37ycnuwbtMR0cdWKxXCfzaHS4i+qJVeldK/tql/QnsK5+FbhgZ1qOqaLMRHa4Xi2SdnXC4apHdJ71jh/91uT/sk3w7RjBazI0B+/oxqs0izViQkzgiS4yEhAT/OqPgVk/rmiHRP0PPkjMux2Bxo1IqAAkulQk55lZFVnx0UIiNyuYx/L2x/Sr/3xoGiKbE+efP3vzwk1E/4nJe+PbrQ0GJlzspdwhqSYrXER+tYtHYbwy9J5sTRcv65YQU9sq8DwlEr9QyobuXZ0n0kxWj5/aTBbQPkTCjDZMxf3b7mqTf0551Pypjy6/4cWiiOYKz87EBAROLOwiwOHG0M6mBYHcF1MtQqBVZbu7NQ22ShT3KkyFmI0CoDdDPuvWkQXfQq9FoVEeFhZ1ebRZq1IiFxxpAcDwmJH2lUfMWkweaI/GlKToDA19xVu7h/4mDmr94tRC1GD0kRZp74znvhnR2U5LdPjvUNX/PpWky6OhOj2U5SjBa1UsE7n+wPuobi/AxWffQ5m5Y9gtXupGvmFRgiulCSn8Hqtlbbynoz/164ld9NvASrzRWw5nnveUfWH6sx8vCtQzl0vJnUxAhO1LVySWYCcrmMP03JodVsJ0Kn5uXl3zP8kuSgDkZ9szVApXVawQA++OIgQ/slCufpw1W0Wp3oNWGCM6gLVwboZryw7HthvsvMomy6J+jPWqeJNGtFQuLMITkeEhc9P9ao+J6wC4akBRjsvUcagj59H6sxMjw7GZkM7iu+JKSUucXuEtVU/Om2HO4rzkYfrqS2ySIa7Facn4HH4xHW4JvhsnPbt6x65Q/IwjT8dfb/6JbSk4yULry0/HuRzLnN4cLj8SCXB9cVkcuhZ9dI7E4XyjC5MCvGh1qp4PGpuew8WEdlvTloO21JvrcANi5Sw5+n5lLbaEalVPDBFwe5LKsb7395UHBEFn28h5uv7SeawVKSnxF0bb6uHd/35Ztke0a1WTg3SrcSEhcLkuMhcdHzY42Kr5g0WMuq2xO8TsPucAuS5keqWujfKzroef6GUq1UcPhEC4tL93H7r/thsblE+h5LSsu4c1yW4HRcN6wn//fKQr559+9oI+L4x38XsO2Ig15pClxuT1BNjqp6M5kpXYKuJb1bFC8t/x6jycH0wiwMOiW2pvZzbA4X1Q1m4TPXNVmFYlO5HHokRRBpUNOza4S3+0PnHTXfanVw69j+NBlt3D1hEC6Xm6WflLH/aDMWm3gGS6j99O2T7/u6PCuJxC5nvtNE0u2QkDhzSDoeEhc9ggPhR2eMik/LQd42Xt0fX6eJv87Db4sGkZESxeRr+iKXy1i/pYJXlu/g7hvFGhl3FAzgi+3HhJ/vunEg8V00PDolB4NWxcoNB0T6HgadknCNQjTDpbW5DkN0MpcXPcUnO1q596ZskuP1rNt0JOB+PuGxpev2BbxWkp9BfYsFaJNKX7mTvJzUgL2KidKwc38NxW0TZeuarKz6/CDRERrmr/6B8DB5gF5Ks8lBWUUjJ+paKatoxOVpv55OEyYy8r4oiv/aJo3JJFytoCgvg5L8TKINauRy2RnVZun4XUu6HRISP51zHvFobW3l+eefZ926dTQ2NtKzZ0/uuecerrrqKgD27NnD008/zc6dO4mKiuKWW25h6tSpwvvdbjcvvPACy5Yto6WlhSFDhvDEE0+Qmtr+x/BcXEPil8OPlk9v03LoHq8LmCNydW4qpd+WU5TXm+iIcFpMNuqbrUI9hy+t4HS60Ki8GhlJsVqqGyx8vOkIw7OTQQY6TRh6jRKLzYnD6eHVlYH6HpPGZGLQqri3aBB1NZUYdEpSsvJJ7nclcoXXgO850sCyT/YzvTCLuCgN9xVnc6Sts8YnPFbXZGXSGLWgHIoHYdR9wYg0ln7iTZ0kRmuFp3+f4/LK8h2Mv7I36zeX+0U6Iln12X4mX9O3fS87FOSOHdZTkIX37UmUToU+XBkQYQB44ObBaDVKZDIor2zhTb+UU/d4Paldo87OL8lZUrqVumQkLkbOuePxpz/9iX379vHkk0/SrVs31qxZw7333svrr79OZmYmU6ZMIT8/n1mzZrFjxw5mzZqFwWCgqKgIgBdffJFFixbxzDPPkJCQwHPPPcfUqVNZvXo1arWahoaGc3INiV8QP8WoeECvDmNgry48dvul1DdbaTBa0WrCqKhqZViWjOoGM90T9CxYs0fUXrvi0/3cNrY/J+pa+WL7MUquzmRx6T4AGo02xg7rSbg6jH8t+C5knYNBpyRCp+Zv8zbxw8al7P9mKX9/YSmVhkguyUgQilMVchkGnZKaRgtaTRh6rYovth0TKYOqlQrqmq3CGkTI2s9JjNXy2G8uZfehetFAt7mrdvH41FxqGy10iVDjcLqZPi5LtJf+9TQFQ9KEjhhoL8D9x93D0KsVgjPoc1D8u2fuvWkQ731xKKAuJy05CpWs81/9aXEmdTukLhmJi5hz6njU1taydu1aXn31VYYNGwbAjBkz+Prrr3nnnXfo3bs3SqWSWbNmERYWRlpaGuXl5cyZM4eioiLsdjuvv/46DzzwACNHjgRg9uzZXHHFFaxZs4Zx48axdOnSs34NiV8gP9aotD211rXYsDvcvLzCG/W47bq+QiTi1ZU7Kbk6g/zc1ICuk+ZWC2ndorhtrA6tRklSjBaHy811w3pic7hZXLr7pHUOeTmpvLz8e7Z/8jqHvnuXbn1Gsq9GRcmYXryyoj0Cc+e4Adw1YRBz393J4raptXcWZvHOJ2XCFNu7JgwkXB0WspZCrVQwY3wWVXWtyOVy0XwW8DpBTrcbt8eDRqWge5zWO4PFby9F9TQhhuT5amt8zmCrzcXf5ol1QV5Y9j0l+RlYbC7BKVq/pYIGo4XECE3Q70iILGjDaDH9vJGGUxY0S9EQiV8w57TGIzw8nNdee42hQ4eKjstkMpqbm9myZQtDhw4lLKzdH8rNzeXo0aNUV1ezZ88ezGYzl112mfC6Xq+nX79+bNmyBeCcXENCAhCeWh9+aSOvrNwBeCgYmeaVG5eByeIUUiPxXbQBnS+lm8pRKcN46o1veeZ/W3jqjW8Zf2VvoS22Y8dLsDqH2Eg1mz98nkPfvUvqoOvIvvY+Rg7pITgdvnvNeXcX+yuayM9NJTZKI6iGTr62LyX5GTx8y1Diu2hwutzc1aHOY+oN/QnXKLh/4iU4XW5eXrELXVsqxEdslIaxw3ry9BubeX7pdh6f8w17ypsFp8BHlEHtHZ53VQYJXbSU5GcSG9XuKHjrO5RU1JposTiJ0CpxOgKVXFMS9aQkGpC3/QX7Ytsxxg7rSUxEeMjvaNa8TTz84ld8f7CBfyz4Tvh5T0XgOk/1vbdYHN41Wp2n9942TlbQHGzNp71GCYnzmHMa8dDr9YwYMUJ0bPv27XzzzTc89thjLFmyhPT0dNHr8fHxAFRWVlJTUwNAQkJCwDmVlZUAVFdXn/VrdHyvxMVJRx2P/yxpD5tPvaE/cr8nep8aqK/VFRn0SDTw1po9Igdhxaf7mTF+IAUj0+iRZBAiIL73yGTeOoeDx5vJSo9lzquvcXTXOnrnFpExbCIymSxkW6y7reXWv14DIEKnwu50U3a0kZQEA7jd3Fd8CRa7E41KwbufHaCiqpWHbhnK2k3lQkrEX5MjLyc1IG0iPMFrlcLTe3SkhuL8TFE9jE9XxGhyMGN8Fv9etFWIwswsyqZbnE4UhYmN0nB1bg/++dZ3oujR2k3l5A5IQun3OBUssvDKip2iPTgtPY4zlCI5WZeMpBki8UvnZ22nPXjwIPfeey+DBg2iuLiY+fPno1KJOwl8P9tsNiwWi+iY/zl2u3dipdVqPevXOB1iYvSndf6piIsznNHrXcj8XHvhdntVPqubrRSMTEOtlAcV3vrz1FzBuNidbpJitEHTLb4aidgoDfm5qTz95mbh9XtuHEij0R6gYrpucwXp3SIZd2MJhqhY9hu7Cq/36BoZMl3i077wHbPYHISrw0TaF3eMG8DHXxwgKz0euRxuHJ2B2+1i7qqdDM9OZv/RZirrzURovcPhrHYX8V3Cgzo7VpebYxXN/FfQ48gUzYexObxy6rPuuAyVUsGzC7YIdSc+g/vMvVeI9DnyclIFh8d3ns+hamq1kpUWJ6yh6kBtSP0P/5/NDhdpKdGn/O6P17QGdQr+8/tR3sm4nSTG7QnQHLl/4mB6Jndh96G6oGvu7Br9kf5eiJH2o52fcy9+Nsdj8+bN3HvvvXTt2pVXX30VpVKJRqMRjL8P389arRaNRiMc83cM7HY7Wq0W4Jxc43Sor2/F7T4zydm4OAO1tcYzcq0LnZ9tL4I88c4YPzCooSivbGHG+IEsXbePLnoVdxZm8cz8LUEN5tJPyoRWWP/XT9SZAwz1m+9uwfjD2xy/9AkWflqNQZfKzOL+HK024nbD8vVlAQJePgfHv16jJD+DmMjwgDW99u6uAKM4Y/xAHC63yGmpabJ4pc5loFEpgjo7LqdHcDqAkIJpNrsTm80pKnb1vbZpVyVpXduLfx1Od9BryOUQbQhv/72QeScCd0YnRatUdOr3qaotcgWIolf1zRZUcs9pRT0yuhkCCprr61vRhqiz6ewafUh/L8RI+9HO2doLuVzWqYftn0XH47333uP222+nf//+vPXWW0RFRQGQmJgopEJ8+H5OTEwkKSlJdMz/HF/641xcQ+LiJVgYvKnVGlQHJCYqHLfHxa1j+2K1uzh0vDmkwQSCpkg6GmprawMb3v4jX25Yy7593jRNXZOVNz7YjUqpYNXnB9l/tJnSTeX84ebBPDh5CIWj0vmwLZUxrWAA4Rpv++7qjYfZVx58rorT5eK+kmx6d49sS0/s8Op3+IpMJwzkw68Os/STMpauK+P1D3ZT0qH+5N6bBrG3PFDBNZRmSig9Fbcbnl24FYCUWG8RbrDzMlO7kBCtpcXi4ESDmd3lTfx70daAupgZ47MEnZSkGC2PTMmhyWTvVL2Gb40+obZVnx9k6boy/jpv0+nXYbQVNHfUHJE0QyR+6ZzziMf777/PQw89xPXXX8/TTz+NUtn+jyknJ4e3334bp9MpFHZ+88039OjRg7i4OCIjI9Hr9Xz77bf06tUL8OqC/PDDD0yaNOmcXUPi4qVjUWBslIbkOD3TCvozd1X7WPqS/Awqa1vxALWNNu+k2pFpQZ9kuycYKMrLoGfXSJJitIKGB3h1PHzvMTVVsWn5E9jMzTzwl1dIybiU704cEJyPDzcepnBUOnFR4WjUCua8uxOlQs6M8QOFY298sFsklx5KEbSiqpVVnx9kWsEA4Aj7jzbTLU6HXC6jKK83a7/23mvee97PbDQ56BqrEz3Bt1ocHK1pFV3/pKPuIUBPxRep8e92MWiVAdeYVjCAuC4aNu2uYvaircIMF5vDJVJRHZIZT0yEip6JQ2i1Omg02kWprVPVa/icgqM1rQHRqTNWh3E2NEMkJM4jzqnjUVVVxZ///Gdyc3N58MEHaWpqEl5TKpVMmDCBuXPn8sgjj3DnnXeya9cu3nzzTZ544gnAW2cxefJkZs+eTWxsLMnJyTz33HMkJCRw9dVXA5yTa0hcvPgXBfqeep99eysGnZLCUekkRGtpaLGweuNhRg9NISlGS2W9GZvDJXSllG4qZ3h2MnI59O7ehXc+2Udts5WE6EwmXNmb1/yGqN05bgC/ub4f/3lzLRuXPILH5eRvs9+irMFA9eZyUYGn0eRApZTzzvoyhmcnCw7G/qNN2J1u5DJZgFz6F9uOBQxu8zf2c1ftYmZxNs8v2U6UQc1/lmwTrntZVpJg0Pv2iBbaZwXDK5PxxbZjorSP0eQgJlJDUV5vbA7vmrrH6wSj2jclkienX853+2pEGiH+SrJ6tYLkOL0gdCaXyYjSqXDa3UJ6yL9Vt67JKsy96ZPahRi9Sljj317ffHrOQ5tToFYFipv5O0c/mTOpGSIhcZ5xTh2PtWvXYrFY+Oabbxg+fLjotcGDB7No0SLmzZvHU089RWFhIXFxcfzhD39g/PjxwnkzZ87E5XLx+OOPY7FYGDJkCHPnzhXqNWJiYs7JNSQuEM6wHoLviXfBR3uYfG1fjlYbKRiZxvotFSwu3Yda6U1jGE0OkmLCie+iRd1W/1DXZOXrnSdEkQKfRLrd6aK20RpQzzHn3V0U5fVm/NWDqdkxkN89+Gc27HG2G2O9SjQTZf7qH7jm8h58+f1xiq7KQC6HrnF6ahvNROlVTBrTR1SoOmF0b1wuN4Wj0ukWr+NoVatg7H1rsNm94mXHqo1CTYNcJmNAr1iMZr8ncrd4v6MjNUy+pi8LPtojUjM1We2s+fqIcI8+qVHo1W1/ijwQY1DRPd4QWknWA2ldDcRFaUQRgYoaU0DkJljXiI8fPfjNA7GRGml2i4TEj0Tm8XgkX/osIhWXnh06tRdnSh2yo/OiC2PX4SZeXPa9qH3WZHVgsbnQaRRoVEoi9SqOVBoJU8jonmDgzQ92c92verJgzd4Ag/XIlBx2H25g6TqxKFfjib3cXnw1735RASCkGHyRCZkM5q/eA3jbbLtEaFjw4Q/k9E8SFZfefeNAIrRK6pqtROk1HDzehNsNMZFqlGEKnl+6nYduGcJ/Fm8PWNujt1+K3emkyWjntXd3hd7LIPv956mXsutggyDBvv67CpEEe1KMlt9PHIzJ4hA7hr499zkWOuUpRb9arE4efvErUTRqSYeUjv96/c/3/7ydSpdcAMqj0t8LMdJ+tPNzF5dK02klfrGcET2EIAbmkSk5gtPhu+6893YLdQV33ziQpFgt5ZWtQgRDrVTwh0mX4EEW9CnbYnMSrhZ3hlSWbWTrh/9Gb/kBZdp4b6tsUqRXoMyDkLIBr8HsEqGh1exg4pi+PPXGt6L1vfTODgpHpaNWylm7qZwhfRLpkaRHr1XSanGgVipYueFAQNrlzsIs5AoPbjuC0xFqL/11TQqGeKXhW0x21m0uF9WV+PY1KUZLUV4Gj736dVDjLaQaZLCnPISRR+wUPnTLUP751hbqmqyUbirnkSk5eDyeoHUSP3pGD0h1GBISPwHJ8ZD4xfKjQ+l+BHNe9hwJ7NTwrytYvHYfd4zLYu6qXYIR1moUKBQKjtUYg4bo9VoVPVQKIaKxf9vH7Ch9icx+g4judz16vZbbxvbH7nCiUckp3VTB1bmprG5rkZ1ZPIjKOhOvvbuLgpFpQdfXPUFPVb2J267rj9PlLUj9zxKvo+C779pNR7iv+BI8eIiO0GCy2sEjp7Gl9ZR72dRqF8TUlogKP/vTanGw+qv2eo3s3rEMzozjiTnfnNIxPJkDebzOLHIc7p84mH/d+ysajLZAZ6CjU/BTnQepDkNC4kchOR4Sv1g6qkPGRmnIy0nF6fLQYnV2qt4jmPMSqhPEd628S1Moq2gMaoQnjcnktrF9me83VbU4P4MXl23n5mv6sHrjYVR1n7Nj7Qtk5wznD48/T/euMZitTpGuxl0TBpIYo6FbfBZuDxjClTy/pH2eSbD1Ha1uFepQ7p84WChitTW52LjzBPcVX4LL4yZCr8JssTPrtW9EkY++qVHsKW8SXTPaoKbF4o046LRKrr+ilzCBF3yD33ZTOCqd64b1pHRTOZOv6YvJ7ODgiWYhLeKrHQFotTpEjkcoB7KuxRbgkMxetJV/3D2MlFid98RORC4k50FC4tzys+h4SEicC/z1EHyzRFZuOMCTb3x76vkXbfM4nG6PME8kNkpD0VUZxESouGuCeJ5JcX4G67+rIDZKQ3REOG6Pd4Bbx5bLhR/vw2JzUjDCO9Pl4VuH8uHGw1TWmzlWY6Kuto7lC18lKeNXdB02k8931GLQqoRiVN91Xl6+gxaTk+fe3soz8zez82C72mWwmS4l+Rms21wuvP9IZbPIIbs8qyv/WbKN597eyt/mbeJ4rQmDTimcP2flTiZd01d0zQcmDeZojUmYKfLYK18TqVcL7/Nhc7gIU8hYUlrG7ycOpnu8jmcXbsXt8aZb/PUwVn12kEajXfS9hNL30KjDQkZhJCQkzl+kiIfELxe/UHqwCach6z2C1HVMGtMHZZiM+av3UJTXG6vdRcGINFRKOT27RlJe1cLooSmkdYskLExOQ4uFpFh9UMNoc7hZ+om3QDS1OBuAG69MR6WU8btbhuOwP0dYeDRd4wxMuLJ3yNSOvyCZfxTGX9Oje4KecFUY5dUtovf7nx9MMXWxn6Kq71hdk4X7Jw7meK2RgWmxKMNkPPzixgCHqDg/g/99uEe4l1qpIDnegEGnxGR1YLIgtBdPuyGrvQWW9smz/t/LyWoxpM4SCYkLD8nxkPhl0xZKP516j2A1BQs/3kvhqHRsDhdReg3VjWa+2H6Mq3NTaWixitIpJfkZrPn6CHk5qSFTMr422i0/VFI4ogf33HUn4REJjLrhDv4289ecqG0lJTGCp974NqTwmNvdvmZflMNfLyMxRsuCNXtwuNzk5aRy85i+NBotfLjxCF9sO8aM8Vm8smJnyPH0/lEHtVKBSqlg9qKtPDIlhxiDikNVwes+usbqhfX6okHzV+8mLyfV6xTIZEJ78bEa46m/l2C1GDolB48bA4TE7p84WCrylJA4z5EcD4mLgpNNA+2Iz0npWHugVnkzk+EaBQ1NJu4Yl4Xd4WL2om1BowXrNpcHGMa7bxxEtEFFj64RROpUhCvdFBUXUX3oO4bk/4bh2cmUVXinxJZVNAqRgY6zV+4YN4Dl6/cLa/Z1cdxXfAlWu5Mog5pl6/bhcLkD6kxK8jOIj9bywRcHKRjhnYIbbG/kMpnw/9MKBvDplgoKRqRhtjmpbLSGnM+i1YRRMMLb1YKnXQSse4JeUCh9YNJgDp5ooWuHybMhv5cOtRgtJgfPLvQKt/nuJZfJ6Nk1AiSFAAmJ8xrJ8ZC4KDid1skog1qYJOuvMprWLVIYd5/VO55//G9LyA4SZF5nYPXGwzx861CajDYSY7ScqG3lyTe8rbgyl4VDG56j+vBWht1wH7+bebfIQbh/0mAhMuAv+90jKRJwU5SXwSsrdgrnX52bisPpxGi2Y9Aq2VPeRNFVGUHTKA9OHkJWejzIoLrBHCAsdvdNA0mM1hHfJRy1SsGnWyro1ytWtL5Hbx8a4FiV5Geg04QJcuU+1EoF3WK03r2Wg9XhYuWGA6KOmtNpafU5h7Yml5AOAhjYO4bECM1P/XWRkJA4i0iOh8TFwWm0TkaEh3HPTYMoq2iiKC+T6gYz3+2tQq1UCNEMf8N6sg4Xo8nB3iONfLH9GHfdOIi6ZisFI9NY9+1hVr38IC21h7n3j89x6RXXBDgI8z/YzV0TBvLy8h3UNVmF2SmVda2s3VTOuJHpPPabS6lpsKBRK6hpMPPWR3upa7K2DxkLkUax2J3CZ1ArFdw2ti+P3p7DD4cbcLuhqcXG4o/3cc3lPXh15T4KRqQFrO/l5TuZeHWmSLo8OU5PF70ytJMHHK0180KbDoqtycXqtnqU9ORI4qM0uN0eKmpMJ1WaDRXBijaEI+VZJCTObyTHQ+LiobOtk23RiiUdageCzQHZtq86QHTrjoIBfLzpiFDf8PXOE+TnpvLU69+K6h6O7BqP1a2hYNwEqhtMAQ5CZb0ZtUouMuwOp9dQ1zVZef393Tw+NZc57+4MMMARWhWTxmRisbmCGujjfvLiNoeL+av3cF/xJSwu9UYPivIycLjcKMPkwuC5YOurb/EKg2V0jyI2Qi1Ip4dy8losjoBi2bomK4tL9/Hk9Ms4WmPqlBpoqAhWUqyO+vrWzv0+SEhI/CxIjoeEhD8KKK828/LyHSLD7N9+Cu1RjksyEljx6X5RTcPyT/dzx7gs9h5p5MONh0VdI60Nx6huqmQJMO3221j1+UHC1Qr69ogWBsr536O80qu94X/M121ic7g4cKyJqTf0F81+uevGgXz0zWH69owhOU4nFJH6Xp9WMIAl69qv6fuMJ+rEBjsvJ1XQGynKywjqwFis3lTHrGm5otHuoZy8plZ7SB0UtTKM55d2cmhbiAiWXH46c+klJCR+DiTHQ+LiI9TgODkcqTIJRZ3++BtL/2JPZN4nf/86A4BGo609HdMWIWmqOsC3K/+KQqkmNiUbudw7e2Xue7swmhzcWZjFO5+UeSMdbYqfSzrMbvHvNlErFSRE66isb6VgRBoJMVqq6824XC7694oV6iaSYrTcP3EwVpuTE3UmnC4XeTmp3vkpeDtijCYHTld7WGH9lgpuHtM3QBvEPwrkm2IrKgYNtre0H9NplQETa9VKBffeNAiT1dHpziNAEv+SkLhAkRwPiYuLkwz3qm+xU1bRGPSJ3H98vK+D5I+3DUUhl7Gq7VxfF4xcDjpNmKBQCtBS+QNfv/NXVOERXDbhL2jDNaQkRPD6B7uEOSZzVu7kgZsHY3e6sdpc6LVKlAqxxp9/O25JfgZ2hwM8sOrzgxSOSmfpJ2Xccm0flq7bL6y/st7M7EVbKcrrzfrvKrj+il6iGTIl+RkkxWpRyL3/7/Z4P6/eTyfDXxukR1IERypb+HDjYYwmh6h+I9jeqsLkPLtwq+AEFeVlsHRdmVAs27dHNN3jtLSYnZIuh4TERYA0nfYsI02nPTv82L1osTh4+KWNAcbtyemXU9tkQaGQ02S0olIqROmJO8YNIDZSg8XufZ8qTMHcVTvRa5WMye3B8k/3k5+bGiCP7nZ7+O7rT3jub/ejMcRz6fhZREXHM2N8Fm9/vFc0PM2njOqfNgmMggwgSq/C7nRT02hm7Tfl5OemEqVXowqT8d9lO5h4dQZvrt7T8aN7nQo3AR0nXmcgk1dW7GhP10wYyNc7jpPZIyZwwmtqpHdSbJD6jWB7WzgqXZQuEibSWh3iIt8zMPFV+jfSjrQXYqT9aEeaTishcQ4JJST23b4aYdx8SX4Gm3+oEg1LM1ttlFcZiY/WIpPBsRojeZemEKXXYHc6+W1RNn+ZK1ZGXfjxPgpHpXNw73Yy+/Tj/ideRhkeQWqigeZWK0aTQ7SOvJzUAGn0OSt3cv/ESzhS2UKPpEgaWyw8+/ZWUbqjZ9cIqutNxEbpuLNwAF0MmqCRg6z0WBpbrAGff3h2suB0+O778vIdPDn9cmwOJ09Ov1zsJLhD128E21t3h2ebynozJqsjcJ6KX91GXYsNjTpMiKQEJURaR0JC4vxGmtUi8cumbeZKRa2JFqsz6NyPpBgt3RMMFOVlUDAyjb1H6rl2WC8qqlsorzLy/JJtmK0uNKowahrMeDwQ10WLXC5jUele3vxgD9UNlgCja2xpIjFGi7b3ONLyHqFbUgI799cAoJDLuetG8byXxBhtUMN96EQLi0vLcLvdvNlW7Ol7bUlpGRari1dW7uKpN7YQF6XltXd3BsxqufvGgbywdDsV1a0Bn18uD95ya7I66NpFS4xeRUqsTlw8GoRQM1V8QmT+x06WPjleZ+ZfC77jsVc28uB/vww+U6ctOuKbE+ObvXOmoosSEhJnD+kRQeKXi1/o3qBTkpeTSlq3CO69aZCgI5EUo2X8lb15fsl24ecbr8rgn29tEUUVzFYnbrcHt9vD/7UplaqVCu4cNwCr3YlaJReiDB6Ph/3fLKFi51p+X7Ke6Mhw6lvsLP90PyVXZ4ru5Zt90i3OQF2T+aQS6x6COwi+bhRvLYaFynqzIDjm67RRyGVU1ptZv6WC28b2pcXkEFp0+/XsckZqK0K1uKrC2vfmVAJhweTqg3W2hDovLTkKldTYIiFxXiM5HhK/WHzGqeN4+qQYLY9MyaGu2UpspIan32xv4RyencyclTsDogqP3n4pPxxuEIoyfa/NeXcXhaPSWfnZbkryM1i0di9bS+dyZNsHjBoznmWfVTLhqkwajWUMz07mpXfaUxq+os+CEWnMXrSVkvyMoJ0jpZvKKc7PoLrBFNRB6NU1koduGcLKDQfQqBWC2qmv00atVDCzbRgdgMPpFhWXdjH0F4TKTkc9NAAP9E2N5Mnpl1PfYiUmQkNMhAo8dEq4DUKnazp2toQ6r8FokZRLJSTOcyTHQ+IXi884lQzLQC6XMbM4G6vNRbPJypHKFiw2F03GDjUPIZQ+jWY7bo8nZA1DXZOV97/YT8138ziy7QPGjLuNxOxiqptszHtvt9DBEez9vnta7N5WXf9uD6PZzvDsZD7ceBggwDEpyc/gpRXfYzQ5mFYwgK17qrizMEtwnnwFqh98cRCA0UNSWPjxPpHz9Pr7u5k0JjOwluN0sxYy2FMevDi0s22vnZ2pIymXSkhcuEg1HhK/WHwzV6Ij1LjdHp5fsp3/LtvOktL9yOUyMrpH0Lt7l6B1CcF+lrdNVQ14rc3OfbP2bb785D1uvHUmYT3HUd9iB7zGXS6Hnl0jQ77fVwvhk0ZPiNa1zVxRserzg9Q1WUUtrQ9OHkLhqHRBxdTmcDF31S5GDklBhodHb7+UBycP4dHbL+XbXSfI6Z90Ugl1k9VJs8neqVqOjnUzvvqLUOmPFrPjJBcT40vX+Nen+Lfrnuq8JF/BqoSExHmL1E57lpHaac8OndoLGRytM7PnSKMoRQJeQ/WnKTmUV7Ygl8tYsGavkIa56aoMXvWLGEwak8mX3x/nyiHdsdldAUPRfMbfabfQULGNmXfdHqA2OuuOy6ioakEmk4naZX2plBuv6o3V5sRodtCvZwzVDSbmrtqNQadk7LCeonsW52egkMMbHwS2zD50yxCOVBqRy2T0TY1Cr1W1tQC7UcgVWG1OnvnflqAtrwPSYugadYo0hRx2H2kSamT8oxoVNSZmzdsU8JZZ03LbO1g6g69b5VSpmSDnxcVegP9GQgna/USkvxdipP1oR2qnlZA4W3jA4/GETJH8cLiBVZ8d5LaxfZl8bR90GiUxkRocLrdoPooyTE6j0caKDQcoHJnGI1NyMFmdRGiVHDl6gs+WzyZz+BR0Oj0PPHYP4SpxMeW0ggGYrA4idGqUYTLunziY+mYLPbpG0GS0csu1/bDYHXzw5WHGX9kbu8NFq8XBrdf1IVytJD46nEduz2FP2wC30k3l3FmYFTTVUFHVytJ13rbgxAkD6R6vowtKdh1p4sVl3wedBluSn4FGpQjejiqH+ha7t2YjUoPT7RacDt8++oo/O5sm6cz31qnUzC9BufQMaJdISFxoSI6HxC8TGbRanSjDFEKKxKBTMnpICsh8aRM5Nod3QNqt1/XBoFUSppCz50gDbo9XJryuySqaj/Ll9uMU5WdSUdWC2mPkrt8U0dJYzS233EJ63zSWlO6jOD+TB24ezIk6Ez27RnK0ugW7Q8nr73ul0acXZuF0uZm9aCuAoHb626Js3vrwB/aUN6FWKphemNU2f0TO+5/vJzUpCrkcphVk8fnWowHD6XzRFxBrcZhtTl4MMg02LiqcLhFqjlYbiY0MR6/p8KQth+8PNoiE1O4szCIlUc/+o83Cab7iz5Q4XUBXy703DSJC59X+OC85S9GGztLZLh4JiV8SkuMh8cuj7SnyaE0r4Wo5ETolU8b2xdohTTJpTCaxbamFSL2aYzWtASmND9vSKMi8eh9jLu/JM/O3UF9TwbfLZ4HLytW3PMnWE3q2nvB2kby8fAd/uHkw4eownnrj24Drvbpyp7fVFUTdNis3HKQ4P4PaZm89x6srd/LI7Tk4nS5GDklBpwnjWI2RiuoWNu6s5lityVswa3fRxaDmpeXfi5RQfcJobk97XYdP1t3t8RCuURCuCWNQWkzQdEZ9i11wOnzXm7NyJ/cVX8I/F2wRrpeXk4rT5aHF4qRvr0j+eFsO+8q90ZmFH+9l4pg+RBtU6MNV7Yb9Zzb4wHkRbehsF4+ExC8JyfGQuHDwM1Z2jwyVnJNqQZRcnUFslJaqehN9e0azY389BSO9Bn/9lgoWfryPmcXZVDeYOVZjCmiVXVLqnSey6vOD9E3tQo/ECP6zZBu1Jw7wzfJZ4IGxtz/D76bdQHmVUbhuXZMVt4cAFVLf9ZZ+UoZcjmhqbbBzbA4XjS02UZvrLdf2YeOOE5TkZ7B2UznllUbkcoiLCg8618Xt9u6bL+Lj7+icytDWB1E59XXx+K7Xsf7k4VuH8o8ONSQvLvte2Eef5PrB40YOnmgR0llpXSNI62q4uKINMtCFK89MekpC4gJCcjwkLgxO4+m01eKgJD+DSJ2a55d4dTwidCqRdoUv+nC02ki3eD3V9eagRlYXruCPtw2lospIfBevsqhCqUEbEc+VRQ8x8YYRgiCYf7GoXqMUOTm+zhOfE9A7OYr9x5pCtteC9zxVmNfA25pcGHRKWi1OCkf1RqNScOvYfiIxszvGDWD5+v3CXBffZwRvG67d4Q5wdE5maGMi26XX/QfgRehUlORnkBCt5T9LxIY72GRf/5bh55du5+m7hnGstjVgUF1CdDh69bn7k/SzRhvafp8XfLQnoEX6R2moSEhcQEiOh8QFQain0z9PzUWvCROF8Btb7dgcbqEzpWBIGnNXBUYfCkel43Z7aGi20j3BEPDkmRSjJUKn5pn5WzDolIzqI0cVJoeoJH418Z8U5mUGjVg8fOtQXnxne4ADYDQ5kMtkTCsYwJqvDzN6aMpJlUqL8zN4a80PXDesJ1/vPMHlWV0DNDx8TonN4eK1d3cxszibyjoTfXtE88Ky7ULq5cONh7n91/2DGtq6FpvX0HZIf8REqJgxPoul68oCBuDdNWEguvCwgOsFm+zr33Lsbd11CFES37HFpWWkJUfi9hA87dK2tlaLA7UqzKs3oj/NFE2HzxcdGXymzbmINvj/PvtUZuVyGJIZT4xBJTkdEr9oJB0PiQuCUE+nOw7UCXM6fIblhWXfiztZQmhXJMZo6WJQkZJowGJz8vtJg0mK0QJeA3Tb2P5CjUO4cSe3l1yLwfg1aqUCmUwWUhDsaLWRynqz8POS0jLyclKZVtCffj27sGnXCbbsreX1D3YHzFSZMX4gunBvMeuHGw9TWW9mSWkZ40amBzg5i0vLvMWyfveurDOhkMt4Ydl28nNThWsbTQ50GmVQHRGNOiz47JMjzQxKj+a+kksC7v3y8h1o1YHX27m/hhnjs0SfqTg/g/XfVQg/2+yuoPu261CD6LsUaFvbPxZ8R9mxZh579Wtmzd0U/NxQBPl8R6tbeaDtOy+6KoOS/AwemZLjLYY9y/j/PvtUZheXlmGyOiSnQ+IXjxTxkLggCNWqiac9+vGve3/Fcb+Uif/5QZ9s9SoaW6w8M799Lsv0wiziojQcONbMsRojNoeLI9+vYfX6OXTp2g9Hl6EU/Mo7AyUlSJRErVQQGxUuWrvN4SIuKpxFpXsxmhwUjEhjy95a6pqslG4q58Gbh2BzughXhaFSy/lw46GArhGrLbix9je6aqWCvj2i+eu8TQFP0ikJESiVsqCttBHhYSetd7BanUHvbbI6ArpYbsrL5Gi1kcJR6YQpZCTHG5i/erfQHTSzKJu4qPBTfpf+6R/f2gpGpJ1WqsifUJ/vX/f+iklj+gTVJTmbDsAZaz2WkLgAkRwPiQuCYAPI/GsYbA4XLRYnR9umr67fUsGM8Vm8smIn67dUBBjcaQUDOHSiJcCQvbpyJ4Wj0lEr5chkHg5vWc7uz98i+9JR9LjiXlqsCmEGSlKMlqk39A8QBKtrMovWrlYqqG4wC2mPxBgtRXkZyGUykuO1NJlsvPZue1vsHQUDgCOC86FWKkiI0QY1VL7Jr2qlgntuGoRcIRPVlvjW+sfbckiKDsdsdoo0SpLj9Og1YVTUmDDolBQMSROcmfVbKrziXCcxkilxOtEcliaTnfe/PCQUsfqG8yXH60mO1QoKpKf6Lv3rLIToQIjIVWdqMkJFzFoszpC6JGezziPUQD2ptkPiYkByPCQuDDzQNyWSf9w9jDqjjQNHm9tbXfEaQqvNybrN5UKxnlIhpyQ/g/hoLXaHmz/cPBgZUFFtRKtRUNvUHkXwFU8ig5REPW99uIeByR72blxMSv9RDLz2Aa4f3lvkvIy/sjfrN5eLpsCWbirntrH9RQJi/kZVrVRQ02gRRL7+eNtQ/rt0i8jwvbZql9Cy6otKVDeYmDSmDws/3itcd9KYTNxuD0V5GfTvFY3d5mLWnG8C7ms0OUiM0oAL0roaiIvSBKiCRkdqAjpUSvIziDao0WtObiRFIl4yGUaTQzwdF0iJ13kLR9uM6qm+S/8nf5/j43vtZFECt9tDiyWwTTeU82S1BY/mnPUCU7/f584Mz5OQ+CUhOR4SFw4+I6dV4nR6MJq8M0B8hjA2UiMyelGRamqbLKKuk+mFWfTpEU1zq43+vaKDtpmqwuSUXJ1JaqKB515ZxvBf5dJidtDQbKUorzcOp5ueXSMp3XSEy7K6Cc5AUoyW28b2x+3xOjkutxsZclGqYdKYPrz/pXdgm83hYl95qC4QDw/dMhQ8HqobzCxa65VgLxyVTnyXcKrqzbz/5SHhujl94nn6jc0iB8ZXQNs9Xt9u1EKofbpd7qAFn5f0jg1qJOVyGRU1pgANDv8n+aWflAnfTYA4md93abO5Ar5LfyPsu+YpO0Bk8PXOSmYv2hqQNgkVYYj9GQtMfxHKqxISPwJpVstZRprVcnaIidFz+Fij+GkR2FXeJKh03j0+i3nv/xBgVApHpbO4dJ8wl6Wm0SK0drqcDrZ/NJvumcP499/u55n/baboqgxWfX4w4DqP3J7DkRPeWS9d9GocLrdI5XPSmD707GrAbHXi9kC4SsGLHUS+ivIyWPVZ4LX/PDUXj9vNf5ZuF50P8PtJg4XPqFYquH/iYPQaBY/N+SZgnx69/VLSkvSnVA6tqO3knJXOtDV3dtYKp3G+r6vF6kCtDAs6RbfF4uDhlzYG7KWQNgl2H35+EbGzhfT3Qoy0H+1Is1okJDpDx1ZPgjwtyiA6QsXM4mx8/nSwaIK77bXKejPLPiljyvXeNlOn3cKW956hruJ7orv241iNUbh3sOscOdFCuDpMGHvv75zYHC4WfryXP0/N5XhtK2u+PsLooSnCk72PL7Yd464JA0UiYdMKBvD2mh8YlJHA2GE9BRl0n45GlF5NSX4GNoeLIZnxZKRGc/h4U9An94PHmrHbXfRNjaTFFEQptG1flUpFp578OyW6dbpP8p05v8M5MXpVwLmn1OUIcR8p5SEhcW6RHA+J858gT9n3TxxMRjeDyHhWNljQqBQsWLOH4dnJyOWyk2pKgNf50CgVyJxmvnlnFs3VBxg0Zibp2fk4XR7R+zpex2Rx8v6XhygYkUZCtDao0TOa7chlMkYPTSFc7a3LWPjxPqHoMiFai93h4vFpuTS22DBolZyoa6W22Yrb42FxaRm3tcm9d9TwSOsaSYzBm/Y4WfGtUiEP3rmRGsmecu++BhseF6zYsa7FFvRzClogPyM/ulMkmENyPki6S0j8QpEcD4nznmBP2bMXbeXJ6ZcTE6ESGc+8nFSK8jIBD29/vDegJsB/kBp4DdMPByrZ/t4sWmoPMeT6h0jt+yumF2YRHx3O7ep+fPn98QCjPGN8Fmu/OSJoMNx6XZ+gRq+80ohaKWf9lgqMJgdTxvblrzMuo6LSKIia+dYll8t49u3vhJ99n7VrrJ6/zxfXbywuLeMfdw9rN4ZtdRh/nprLjgN14EEo2Lzl2j5BOzeenHG5sK/+w+PSkyOJjVCLnY42Q6xSyoN+Ts05VBwNRUR4GPdPHBxQ43HaEYzzYIaLhMQvmZ//r4WExCkIFUL/bl8NfXtEC06Hf4FoSX5mQHeFRqUgOkItKmT0RQVieuYyefqf+PV1V3O8tpWFa72aGyX5GdwwvBdJcTrSu+dS22hGo1Lw/hcHGZ2TSlOrHYfLTbgqLKhz0tRqY+035YweksLST8p4c/UeHp+aG6Ckuri0jJnF2aKfi/J6o1YqaAgxMyWg88IDek1YQM1IF4Mm6PsbOkQv6pqsLC7dx6xpuUJqAhAZ4pKrM0JqgfzseODyrCQSu/y0tMnPPsNFQuIXznnw10JC4uSECqGrlQrqm71GuWCIWFxq3eZywUD6uiuK8zP44CvvU31Kop4vNn7HW8tL8YQnk3zJBHbWQv8TERdl3AAAR3JJREFUzajaWjd9DsCkMZk4XfDKivY6jOL8DFZ8up/J1/ZFBry1Zg9X56YK02KbW23ow5W8smKnV500TC5cs8UU3JFyONzin51uivMzaGq1hhRA60iwlEtMiM4NrSbstOs6Vn91mPGj0oNqgZwP0QBv2umndYpIE2MlJM4ukmS6xHmPz5j6azncWTgAvVZFTaPFe7xDAWhdk5XVGw/zyJQc/jBpMIWj0vlw42EqqloJVys4tHcHs/4wmc+W/1soRFUrvdNcl/hJkdscLmKjwgWnw3dsSWkZw7OTOVptxAPk56ayuLSMfy34jjkrdwJQ02AWzu2eGEHv7pGU5GeiDQ8LKl0eHammKC+DorwMkmK0dE8w8OHGw5RuqmBawQDR5y/Jz6DV6gQ5HK9ppaLWRIvVCbQXS86alss/7h5GF4O3GLXj+yO1yoB9FVITPmTQanNRMDKNojxv+mfFhgO43R56dY3gsn7xgVNlZd4OE2FNnZE0P4/w1w3xIamKSkicOaSIh8T5T1v9wpPTL+e7fTWolQq6GDQcqWwhIVrLQ7cM4VhNa8DTu9HkwGRxUtdsoW/PLoAHtxu2bf6SZx67i9j4RLKvfwSZTCZKu9gcLsI1CoquykDe5poHewKWy6F7ggGFXBZ0WJx/6uRodQtX5/Zg7qpdrNscWMg5rWAALy/fIQyWu3PcAN797ICQ7nE6XSKhstUbD3O9vCeNLbagct8+jYwWs4OGFiu9U6Iozs/AaneJohQn7egIUuvg26NVnx9sTz10cDou9PoISVVUQuLsIjkeEhcGHoiJUNG3RzQOh4uGFmvAtNS7J2Tx0vJ2HY07C7N4a80PVNabSYrRMuHK3sz656ts/uBZtFHJjJj0NPdMHM7RaiNud3sxZlKMFp1GyeK17fUiwVISPZIimfveTq69vEdQx6SyziScG2XQCEJm/oWccVHhaNTeThz/wXJz3t3FY7+5lJoGC80mK3anS5A/910zNkrLgjV7RAqhCz7aw8OThxChVQY4APfcNIhogwq9RikS3fLtLzJxaCJYrYO/KJlcLqOiViwidkbqI37ujpJQqqIQVBVVQkLi9JAcD4kLAxlC98rM4mxhtgm0T0u99bo+zCzOxu5wkRCt5a0PfxCMeWW9mXfWl6Fu2Ua//tn0GPUHzK5w3vhgt6go1Rt9yOKfb7XLmPvXi/hHKJZ/WobR5KBX18igjond4RaiBFX1pqCFnLeN7Uu4WsvwS5IB73yUuiZv3Upto4X/LtsuOFZJMVohIlKcn0GT0Rowrr44P4Nmix25XBbgALy47Hv+PDWXCL0SXJwyOhGq1iE9OZIwuYwHX/gq4H2dro8I5VycyYhJ2z3qWmyEq8MwaJXo1YrOXadjiy3neSQn2H5KSJynSL+dEucXIQxSq9XJ0ZpWbrqqNwq5LMC4GXRKusUb2HukAbcHlq4rIz83ldpmK3VNVlwOG1UN8OiTL7Dw4x+4+bpBvLJipzAh9v6Jgzlea6Rvjxhqm8wBTsLqjYd55PYcLFYn4WoFSqWCscN6UdVgZuHavQGOyV0TBtLcaqVgRBqlm8qZVpAV4JwkxWiJ0qv5z5LAVIbR5ECtai9yfXn5Dh77zaXsPlSP2+2dCXPvTdnCJFrfeUtKy7iv+BIaW4wYdEpsTe33szlc7DpYR12TjoQuGsIUiqDRiSenX06MQRWyqNfp8lDbaBau7x/V6JSWxkmcizPWURLkHiX5GSTH6QNrUjrBed3pEmI/Y6JPrSApIfFzIDkeEucPoQxSaiSHKo2CrHnH1EdslHfA2d/f3Cwy4KWbyrlycHf+9tfHqT2yjZGT/o5er2X8Vf3ZfbCWh28dytHqFmKjtByvNdKrayRmi5X6ZkvQehGXy8PyT/ez/2gzt1zbh6Xr9rcVn2oAuK84G4VCzrEaI19uP8YNI9Kpa7Iw+dq+vPPJvgBNkdvG9hc0J0CcyoiN1NDSahMNr3M63UTqVETq1fTu3h8gqHNxoq6VZZ/sF6ThffiKZ19evoOZxdkcrTaGbFPuHm+gb2ok9940SFRDUpyfwfzVu7nl2n5MzO9DdaNZiNI0meykxOkC6iPumjAQuUIu1KeczIifqY6SYPdY3La3cVGa0077VDVazttOl1D7mZYcheoCK+yVuDiQHA+J84ZQf0CfnH65ICkO7amPtZvKGZ6dTI8kgxA18L1vSWkZ99yYxXNPP8KBb5czcNj1/OGWyzlabSQ53kBCtI6Pvz7MZVndREPk7hg3IKgmx6Qxmbz27k6GZyez/2gzDqdbcDquCzLVtX+vWF5e/j23/bo/R040s6e8idpmq1CPkZpo4FhNcMMfFxXOO+vLuO5XPUVpoKQYLeOv7C2KkPgE0fwnu9od3rUlx+spyc9k3eZyjCaHqHjWanfh9gRXZHW7ERyBLnqVqKjVVwdTUd3C4tIykZMXpVOJ6iOO15s5Wt3Kgo/2YDQ5OpWO+dHqoz4H4UAtWnUYTSFalt0eT+edBT9HuGBk2s83TO4UhNrPBqOFxAjNz7QqCYnQSO20EucNof6A1ncQ0KprsrJx5wmK8zNZ9flBjlQFGnCL1cojf7iL1SsXknnZjfzzuedZ8NFe3lqzl38v3EqLycaA9LiANtnX3t1FdGQ4apWCorzeFOVleDUr3B4q682EaxSU5GfSt4d3su3oISkBHS2LS8volRxJZb2Z5evL6N09CrVSIaicLl1XxtHqVpwuT9C2zeoGM5X1ZnQapejaw7OTmbtqV8C98nJShfcW52ew/rsK1EoFFVXeKFFxnlf0y+c0qJUKdBol67dUeDVG/Nppfe/3OQJ6rYpVnx9k6TqvHorv/W53+/ezpLSMGeMHtrfhtqUxnl+yncWl+4SaleeXbqfF7Dhpu2qw1umAFt+OtDkID7+0kUde3sjDL34ldCp1vIdcJuu0s+DvCAfbq1Ou6xwRaj+jDeE/04okJE6OFPGQOG8I9bQbExEogDWkT6IoCtLx9b2fv86hbWvoM/xW0nPG89q7uygYkcbST7yG/JUVO5lZnB3U0QGvVkXHKbJJMVqiIzS89M4O1rXNNrE5XEGvYXe4SYrRcklGAlV1JmaMzxJNro3QKVHIZaLIjVwOPbpGsnx9WZtAmFp87RDD6jJSonhw8hCOVrcK9SH+0Y25q3ZTOCpdcBpK8jOobzYL9S1/ufMytpfVijp7OjoCwVpq/dfg8Xg6PbAtWDrGv131dIe2BYuUvbJiR0CayFfj0dm2WP/PUNdkFVRwe3WLILFL+HnTXhuq/TcpVkd9fevPvTwJiQAkx0PivCHUH9CYCBX33jSIhR/vFQx0SqJBMAq+p1H/+okHH3yIdz/I5uabbxFaRsPV3qdCX92EPlwZ1NFRKeUip8P3pOxfk+Frif3N9QOCXiOuTQzM52wkxWh5+Nah2J0uDh1rYcWGAwBMGJVOUX4mr/hNpy3Jz+DKIQrKq1uCXrvjz11j9ajkHrrFaOmRZODQ8RbBgQBvHUhG9yh+e1M24WoFKz87wCWZCaiVCiZf05f4SDXd4w2ndATqWmxoNUr+u3RbwP50jCKcNGVyKufiNKfbBnNyKuvNdDGohHVr1GFEhIedlsJqx89Q12QNrV/ycxJiP+VyqcBD4vxE5vHJNkqcFerrW3G7z8wWx8UZqK01npFrnbf4ulo6GqQw2HGgUYhylORnCsWm4HUmctJ1fFW6jGtunE6UQR0w0XXqDf0p/bacy7O6sqS0DINOydgg9Rm9ukbw9PwtwrFpBQNoNdtxuT0s+GivaLmxURqKrspg3nvtA9/uvnEgyfF6HnlpY4Dh/fPUXP7m14lSdFUGqz4/GHCeL6rgf21fjYcv3eJzEK7I7iY82bZYnTz84lcBhbcdP2OfntGEh8lFeh5B9z3I99OpttJzKCTW8TP79vAnd5xc4GJoF8Xfi9NA2o92ztZeyOUyYmJO3U0lOR5nGcnxODPUt9p57NWvQxpUp7mO7e//jbqaKoZN/CdP3j+B/yzeFmCMZhZnC8Wkvuvk5aQSFxVObZOFlEQ9+nAlHg9YbE6O17byza5KLslIICFaS22ThXWby0XFnFPG9iVC73V0NCoFLSYbamUYzy/dLtzbF2VJTTIQpVfTaLQil8uwO9z83+JtAZ/3vuJLeGXFDkquzsBidQnFndvKqrkkI0EU7o+L9fu96GAsOzpovjX/JKN8Gk5Kp877qZxNB8HvM+g0Smx2J3qt6oIQD7uY/14EQ9qPdn5ux+NnTbW8+uqrbNiwgUWLFgnH9uzZw9NPP83OnTuJiorilltuYerUqcLrbrebF154gWXLltHS0sKQIUN44oknSE1NPafXkDiHyKCmSdzO6NPWePT2HEo3fMszjz6KyWTi0gl/IS6pF/IQ9RBujyfgOotL9/Hg5CFkpcUQppTxfwu3kXdpCjaHmy+2HQsQ6fJ1kvjG3NudblFnzNQb+hOha0/j+DpfOgp9lW4qZ8qv+wdNSTS0WCgclU6vrpE83dYm7KOiqjV0uL8t7P6ve39FY6udFvNPaE8NIUrVaVXR00yZ/Gj8Ug1mhwutUnHmnBwPRGiVHK8z83e/KNiFFPmQkDjf+Nm6Wt5++21mz54tOtbQ0MCUKVNITU1l+fLl3HfffTz//PMsXbpUOOfFF19k0aJFPPnkkyxZsgSFQsHUqVOx2Wzn9BoSJ+FMDAnzu0a90U6YQh5QuW80Odi29TuefOhWzFYbl930JEmp/Zk0JpMwefCuBl+hasfjAC8s284PBxuYNCaTb3ZV8sW2Y9xZODBo18pvft2forzexEVpWfjxPtHr897bjdONMJgtWOeLb8jcmx/sDhgAd+9Ng8hMieKyfvF0j9MG7fLwyZW3WJ1BI2rl1a08/eZmjla3huwgOdX++zpFZs3bxMMvfsWeimYOnjAGHDsvhsC1OTlZaXFnvP4iVJt3i9lx5m4iIXERcc4jHtXV1TzxxBNs2rSJnj17il5bunQpSqWSWbNmERYWRlpaGuXl5cyZM4eioiLsdjuvv/46DzzwACNHjgRg9uzZXHHFFaxZs4Zx48adk2tInIQzEfYOco3fXN+PuyYMFGo8fFGDirKtxMTGMfvF/6HtkkST0cr7Xx4CCCg4Lc7P4K0Pf+COcQMEyXXf8QVr9pCfm8raTeWMHNydIX0SCVeHYXM4g0YM5HIZDqcbo8UR9PVj1UZ0mjBhHkvQ7hmZtwjSbnfyyJQc6putdI3TER+pBrd3H1pMDiJ1Sp6cfjkmq4MonYraJqtIrvz+iYPJ6NauxtlidgjdHMEKb0UDz0IoxYYytoWj0gOOnRfqnWeRMyVqJiEh4eWcRzx2796NTqfjvffeY9CgQaLXtmzZwtChQwkLa/eHcnNzOXr0KNXV1ezZswez2cxll10mvK7X6+nXrx9btmw5Z9eQCM2ZeDoMdo3X3/+BuOhwnpiWS0l+BsMy1PxwqI6swZczeMK/mFdazZyVO5HJZHQxqBk9JAWFHP46/XL+dFsOd47LAjzUNltZvn4/j96eQ0l+BgUj0vhw42Eq681CFMLt8dA9Qc/7Xx4kUhdcI+FIpZHFpWVU1puCvp6cYCApRsdl/eOJ6xIePMrSJuAVE6Xl6Tc38/zS7Twx5xv2lDeDvD3i8Nicb3js1a8xWbxj759dKFY7nb1oq2h/Q7WBzizK5k+35dA3NVI0FyVYBCOUsXV3KAnzGeBfMifTHZGQkDh9zrnjMXr0aJ577jm6d+8e8Fp1dTWJiYmiY/Hx8QBUVlYKRj8hISHgnMrKynN2DYnQnOzpUKAtjXKiwUx9q52KuraUjNx7vLopuDz1zv117Ctv5LsvVvPQndehbN1DbaOFCINGOGdJaRkTr+6DXC7jy+9PcOhYE4dPtFDdaMbu8HDT6N44XG5qG60sLm0XxfK9Xy4HuUyGQiHHaHKgDw/jrgkDRamOGeOzWLe5HPC28t42ti8l+ZkU5WVQkp/JbWP7Mv+D3dicLpwuD4dPNDH1hv4BQl1fbD/GtIIBzF+9O8BRq2+xB3Xg6lpsp9zfjobS1wZaVW/m7/M302LyOikncxJDGVt5hwm2F4MB/lGiZhISEiE5r3Q8rFYrKpX4j5jvZ5vNhsViER3zP8dut5+za5wOnanwPR3i4gxn9HpnGrtHFrRYMjFGT1ycHrfbw9c7K5m/endA0eaM8QNZ+81hCkb1DrhGUoyW7gkG3lk4j/8+O4u41EF8cUjH1uoD3Da2LxabE5vDK6dZXtXCyg0HeOiWoVS0/b9/Yej4UenotME1PHokRdLcaiNMJmPG+IF0jTVQ02j1qpd6PMhlMmIiNRhN7REGh9MtusekMZnotUpO1Jr498JtQivs/RMHU9XQSmK0DrVKwYwJAzGa7MIEXR82h4vGVhs3XdUbu9Mtmlgbat2+/QWIcXu4f+JgQXPEt6b3vzzk1SBxu7F7ZFQ3WykYmSZc33dvs8NF/56xAde4f+JglGFy4f6+Yz2Tu5xTzQi320NlnYmGFgvREeEkxepE9z8b/0ZiovWkJUfRYLQQbQi85/nK+f734lwj7Uc7P+denFeOh0ajEYy/D9/PWq0WjUYjHPN3DOx2O1qt9pxd43S42NppVXKCioCp5B5qa420WBzMXrSVghFpAQWXr6zwDi+b/8FuJo3JFIo2k2K0FI5KZ8ZvH2LPV4vomnE5g675PYowpXdImt0lDGzzdZV4jzuFdlvfPRaXlvHI7Tng9jD1hv4i/Y27bhxIVISS+mYzVoeLplYrh0408c+3tgQ4QT4l0tFDUgKKSxd+vC+gbbey3szsRVspyuvNkUoj6cmRdNGr0arDgjoSh463sLh0n0jTw2hyoFMpAvb3/omDhf0FQAYKGSJnSRkmF9ZeU2/h8Ve+EdW4+CuWapUK6utbyehmCBT5goBj51Qd8xQ1RGfz34hKRtvsE88FoQh6Ify9OJdI+9HORd1O25HExERqampEx3w/JyYm4pMcqampQa/Xi85JT08/Z9eQOAmnUKVsarVj0ClJTTJQMDINQHjiNuiUaNVhDL8kmcQYHZPGZGKyOunfM5r7//YGe75axPC8cRgG3IJc7g17jx6SEuBczHtvNwUj0rDYgsuZW6xOKutN4IGZxdlY7S6ajFb0mjBajA6SEwwcPt6Mze6msS214T8lFsDucFIwIo2ucbrghaMg+ny+tSZE6zhW08orK3dgNDl4YNLgAEdiyti+mG1OJl/Th66xOmqbzEwryEIB6DVhAfvbM7mLyBC2mB2iOhDwOjOFo9Lp26OL0J4bG6Xh2st7EKVX89uibFwuDy6XG2QyQTckWDuszwFparWDTHZmNC1CFLl25JyOp+/kmiQkJE6P88rxyMnJ4e2338bpdAqFnd988w09evQgLi6OyMhI9Ho93377Lb169QKgtbWVH374gUmTJp2za0icgpPoN0RHeoW//HUvivMz+HrnCYZldeWZ/20RRS6UYTKaW21EJPYld8Ispt5+I+9/cbjdqIbQ6/AaDVvQaIJBq8JodogUQL3zS6yYrE5R+mdawQD6pkaR0z8pQAV1W1k1vZIzgt6jusEMHpDL4Y6CLCxWOy+vaL/fXRMG4na7OVrbSo+uETw+NZf6Fgvx0VqOV7fy5uo9ontV15tIjNZyosGMWhmG2eZAGaZAoZRzvLaVhiYzalUYJqv3uEGnxNYkdpgG9IoGPILTcf0VvYRojW8PtJowXn9/N5Ov6Ru8E6kzXUunq/8R5Jp33ziQXt0i0LUV4fo44x0moZyLIGu696ZB9O8R5e04kpCQ+NGcV9NpJ0yYgMVi4ZFHHuHAgQO8++67vPnmm0yfPh3w1llMnjyZ2bNns27dOvbu3cv9999PQkICV1999Tm7hsSPx96W7uioaVF8VSY2h5uCkWkU5WVg0CmZs3wrf3/8dxwq2+mdf5KazYatx0RTQuUnmUIaE6Hh7hsDC0M9HnfQKa+RenVA+mfFp/u55br+2B0uCkam0bt7JCX5GejDldx4VQbNRit3jBPrcNw5bgA6TRirPj/I4tIy/r1wKw6Xd2aK77ovL99BlF7DktIy/jp3E3+dtwmb3c0Phxp4Z/1+CkZ496FgZBorNxzAYnN5DaTRznf7ajlea2LBmh/Yd6SJv837hrJjzTz26tfMarvWhFHpTL2hPzeP6YtcLmP9lgr+9vq3NBrtJMVog6aIFpeW0Wi0Mzw7ub0TqYMmS6vVGTTiUN9q51B1KzVGG7srmkSdMgdPGEN2z0DwKMZL7+zgeI2ZgyeMIp2QM9phcpKunmBremHZ9xytNZ8fuiUSEhcw51XEIyYmhnnz5vHUU09RWFhIXFwcf/jDHxg/frxwzsyZM3G5XDz++ONYLBaGDBnC3LlzhXqNc3UNiR+BDKoaLAGpi3C1glaLQ1SgOfGqFH53160cP7SD7CGXU3LtTSwuLRMmqt4/cTDHaowo5DJRPYgvQmCyOFi0dh8TRqfz6O2X0mq2E2XQoFLJqGkI3jXjcLlFx2OjNOTnpvKXue31EPfcOJBGo53/LNmOQafkN78eQG2TiZnF2VTWmbA73LRaHAFGfe6q9um4vmNHa1ooGJFGuEZBfBctVfUmUhIMXD+8Fy0mh1Cfcf3wXqJrrPr8IJPG9OHma/uy62A9k6/tK6onMeiUWO0u0XwWXx3HC8u+54+3DWVfeWPQPQhTyEjtFsHM4myqm600mR28umIHDpebvJxUkuP1FOf35sONR0QFqc1GGzanm9Z6B1X1ZiHiYnO4OHiiRSTb3jE9EiqKcaSyGZARF6URohmhBgn+GKXSk6VtQq1pz5EGIrVKSb9DQuIn8LM6Hs8880zAsaysLBYvXhzyPQqFggceeIAHHngg5Dnn4hoSp0+L2cGxmlaSYrSijpaS/ExeXtE+4r6luYFpt96Pse4I9z/6LNnDrmV1mxZFUqyW6gYLc9/bKRg+b8fIJVhtLqoazCz9pAyjycHUG/rz8Tfl7D/aTFFeBquWbOcPNw9GH64Kmh5RyOSi48EUR0/UmVm54QAGnZLrhvXkP0u2iYz7+u8qGD00JajRSojRUpSXwfotFSgVcsLVSj76upz83FTBcXhsyqXY7K6ATpzkeL2QQvIWsO5l0phM1EoF4eowCkamEa5W4HZ7iNJrqG2yiIz/ktIywfGx2Fz07RkddA96do2koqpF5LRMvrYPEVolLy3fGZAeuyQjgZhIFYowOXV1rcRGaVGGyZhWkMXy9WXsP9ocIFPv2w9feiTUJFu3G5B5xGmUDjVE0QY1breHihoTUQY1MadRyH2ytM3J1iQJh0lI/DTOq1SLxC+MjmF6i4N1m8u5bWx/kUH3N0w2cxNfL32UltoKfvfn/3JT0UTC1QqMJgdLPynj7Y/3olLKhXZWtVJBfm4q81f/gM3hJK1bJHk5KRSM8KYoLs/qSlKMFjxtAlhuD59vrQiqq7Hys/2CzDl46zM6GibfWkPJoI8ekhIy/VNdb2bVZwcpzsvkrgkDmffeboZnJ4uu43C7g3biON0eQXQMvFGNKL03QveP/23xFrB6YOm6/fx32XZWbjjAdcN6EhvVrnGCzLuOiioj/126nUlj+oj2YFrBAMr9nA7f+xas2UtlvSXgs0640qtFIpPJmbNyJy43PL9kO2+t2cvshVvJvzSV2ChNyP3wpUciwsO496ZBQXVO5DJZYBqlrYYoJU7H0RqTKFXy9c7KTqdCTpa2kcsI0G/xrUnmK76VkJD4UZxXqRaJXxBt+fMFH+1heHYycjn0SY0mLlLDsRpjgEH3PV0qNQaiEnsz+Jp7GDR0JAePN9G7exdBLt2XannolqGYbQ4UMjnVjSaGZydjtjp5/f3vRNdeUlrG/RMHM/e9nYLiaEZqDB6Pm5nF2ZRXGcGD0E7aaLTxyO05mK1OPB4CnnoFIxqiqFUuh+Q4LXcUDOC1VWJZ9g83HhZSJr+beIkoguHDbAku0W6xOoVrAOTlpFJZbxEiIwVD0oLWzviiHL66F9+Au7omK+9/eZDi/Ay6xelRhsnxALUhxNuCKZYeqWxmeHay0EXU0RGb995uCkelk9Y1Imh6xDdvJsqgpn/PKB6ZksOeIw243VC6qZyrc1NJjtOHTKMES5XMXrS10x0uodI2tU1Wnl24FYNOSeGodBKjtdS3WCjd5I1OvbJiBw9PHiJFPSQkfiSS4yFxVmgxO1jw0Z4AkbC7Jgyk0WgVGfT1Wyq4rJebT3c0I1dHknv974XprcOzkzl8opkeiQZmFmdT12QhLTmK8hPN2JwuYiI0LF7rS9lkBDWax2qMGE0OIT0wpE8ivbpFYNCpWLBmj0jAy2hy0Gp28HxbDcf0wixeXdmeYojQKZk0JhOLzSV8Bl+9ilwOfXtEY7ba+XjTEQpGpJEQo6W63iw4Nr41eTwe0dO0b93NJmuAs6NWKkiI1rKsTWXV93Nlvan9vJN096iVCqYXZhGhVfLKu+0pqromK//7cA+Tr/EqvSbGaAXHquP9gymWdk8wUFlnCupA+e6fnhxJr0Rv27p/C3DHeTMzi7LpmxpJpFZJXYuNgb1jiQgPQ68J3cL6kztcgrR+y+UyYV22JpegpTKzOJvh2cnC9yilWyQkfjxSqkXirNDUag9II/i6OXqnRInC2If3bmfW7yfTunsBt1zbh4IRacLT5Rfbj+F0edBqVYCHKIOav83bxGvv7WZJ6X6cLg+PThlKSX4GKQmGoKHzpFgdBSPS+HrnCS7P6srKDQd4+s3NzJrzDUV5Gd5UDO3h9LomMzaHi7omK1a7g/snDRbmuqzYcID3vzxEuNrrRCXFaLluWE+hg+XpNzdTVW9hWFZXln5SRm2jhVWfHxSMve8+1fVmpt7Qny+2ibt0SjdVcGeHLpm7bxzIgjU/MDw7mZL8DP40JYeYSHVACiPYZ++RaOChW4ZiczixO90ixVXfOXaHm9JN5UToVETqlKJ0k1f1tA8ROqXo2NQb+rNgzR6S/fY82P1jI9Rex8GXHonVAYHzZp5f+v/t3Xdc09f6B/BPEgIhhC3IcCNLkeEAxaqIUuu1FMUqYtVbEbVanFXbqrVexd5q60LEOqq1onXPVmu1vfanUgfWigMHiAiCICgjQgbk+/sj5gsxAVExAfK8Xy/+8CQ5nPPY+n1y5j8oeSqHhSkf7ZqL4GQlgMik9nMz6mWHS7V2WZjy8biGI+kzH5ayx+u/8i4aQggASjzIG2JlbqJ1jYRUXomUO4XYdeIWZn/QBT1bFyFp75cwMrWCmWckbC1NYWbKQy/fFuxwe8vmZsh6WAKAg4S9KWoPrA0HryHtQQm8XGxh8WyE4vl1C4nHUrH799vwc2uu5bTUq5gy3A9Th/tiaoQvLl7PRRtHS7aO/13KhlxeARM+j00gSp/KwTfiwsbCBB8P89Woc+eJ27C3EcKEz0MLOyEmva+5VuC385l4Wi5HL98WMOFz8cW4AIx9twP+PagjTl7IRFhvF4wIccOc0V3xa1IGUjOLsPv329h54jb++8NFWJuboK2jOZsk/JF8XyNhiA7zgrmQj02HrmL9gWvYdiwVH4V30mjL6X+yERLQGtuPpcLaQgAul4OpEb6YOtwXn47pCqGAhyOn77JtmjmyM05cyERuYRm2/nxdawKlttvkOXW6z6cOtN2hMiOy82vdofKiO2pq6xchpG5oqoXUr2dnIIjL5fBorX3nBBjlEeI7dv6ENV/PgYVdG/gPWQCeqSXW7UvBjMjOeFoux6iBnsh/XIbEYzfRp3NLFNbwbVR5d0cZNh26xs7LN7cR4kmpBBUVlex0T03TASlpj7DzxG32kKiW9kJ27t/PrTni96TA3IyPsN4uAEe5zsPeSoi43f8gMsSjhm2pXMwf64+EfVfgbGeGOaO74k7WE7X1C788OwZ90lBvSGRyVCoYVFRUYsTbHpDIKsHjclAulSM1s0ij/sJiCVydLeBoK4R7Gxs8LZfDXMjHfyZ0h7hMDoGJkXKqwtQIn47qArFEDhO+8oCx2Ik9IJVXgMPhIi37CZvkjXrHE24tLOBgbYqipzI42wrBM+JCIqtAn84tn63z4KCwuBxPSpV3FuUWlsHWUoCZkZ0hlVcgdmIPPJXINU6sra6mHSMvPYqgZark+VNcX1ZN6z5a2pvBo7VVrf0ihNQNJR6k/lQ77bGVgwiRb3uwi0JV/4irLiuzMTfCke0bYe3kgW5h88A3UU53SOWVqFQoj4bkcICkqznILSxjFzc+/8BytBXCtaUVUu89Zi88U83Lh/V2gURWiT+S7yOstwvaOJrXvG0TVYdELf04kH2gPSgsY+f7VWdwAMDw/m4oKJLUvCbDSgALIR+fjurCbvu0NW+OghIpLEV82FsLEfm2BwTGPBSLpWyMqtfxxbgAWJppbv11tBXCTMCv2kJqIYBMWgGhiREUlQpIuByIBM/WRyiUR5w/KChD3O6L6msq2ljC2MgWhSUSdPPsDFsLY+X7q506W1Iux+qd/2i0rfqiVVtzk2fvf3YOzrPdNjU9nOvzLI7nT8l97YvbajnyX2RixL6HEPLqKPEg9Ua1oPTDQZ4wNjbC0h+TNUYgjHgcKCor0d+/HfzdNuDkpXxUVPvP0ITPQ1aemE0eosO8YMTNBBjgj0v3ERHixk5tONoKEd7Xlb17pPrukYIiCbhcAOCw18JPi/TF+MFe2HhQc7eJilReiexHT9GhtRUAICtPXOtiy6NJ9zQOMNMYimcABaNMAMTlckjlCny7verW14/CvbWOmlRUVMLJWqD2kHZ8dhbI/PV/qZ3zcf1uAQK8nNSOgVct2CwskWk9KGvuh93UYqdx9DlqnhZRLVp9pYThBff56F0tR/4TQl4fJR6k3ojL5QgJaA1LkYA9WKv6zoD3erXDvM/nwUZQhrHvboDYwgmfe7fHnewiKBjg9OVsdgoCqDrxc95Yf8TtvoyCIgmOJmVgSFB7tHY0B6MA+3tU71dtIT30f+lo62QJHoeDaRF+sDY3wfoDyhM4hwS1R8vmIthbm+JGxmMEd20FQLm7pvSpHNn5T9HcWoinz84dqZ7sqHbmmD27VbagSIJf/7qHuR92A8Mware4arvTxN7GVGNNSN7jMq3JjZERD2JpJVram+GLcQGQyCpgKTRmkw7V53eeuI15Y/2xZMsFrclF6r3HWpOH6uWq9z+/FbWmaRE/dzt087DHU4kcJeUVL3+BWkN4uNMlcIToBSUepN6YGBth14nbmDC4k8aDrlwqww/xC3Dn4kGEjxiLgmIJuFwuliVeqvbNv5PatlNA+UAsLZOxuzFKn8phZmqEcokcAKfGszSiw7ygUFRi76l0jB7oiRsZj9HLrwU7FeNoK8TIAR4al6SZGPOw/1Qa2jiaw8FGiNKncvx1NUd5i620EqYCI7S0N4OZMa/mb+yMcopC2yjDzJGdNdp88mKmxpTUiBA3bP3lOgI7OamdIjo1wldrnwtqOH8j9d5jKLScR1J9iknF3IwPsbRS7UGsbVpk1sjOeFwkqf2iuIauLpfdEULeCEo8SL15KpFDKq+EpUh9XUJlhRypv6/Gvetn4NkzElLH9yCVMzhwSv0+k+/2X8WQoPa4k1XM1mnC54HHVe76KCwuhwnfCHwjDlrYm6PkqfbbZz3b2KCiksGZf7LwdkAbLNmiORXTy7cF4vdc0Rg5GN7fFaVP5bC1EMDC1AizRnZG9iOx2m26k4Z6o52TBSyENX9jr2mKolKh0Ghz6VM52jmaY+nkQBSUSJGWXYxfkjIQ3KWVxqFg+U+0j44IjHk1JhfPT1GptsMeOJXGvreZlfLW4MXfn9d4ED8/LQIAnyYkvXC0pCGr7Z6WxtIHQhor2k5L6o2VyAQBHexhxOPgo3BvjAhxRzMrAVKOr8K962fg3W88XAIiwOFwary/o/mzbaiA8sE5PswLZRIZVu38Gwl7U5D3uAx2lgI42JqhqESqsYV00lBv3Mstwc4TNxHg5axxCy17rHkNW33lFQp8FN5JudCSAeysBBoP/3X7UpB09SHSc0rVjoSvyy2qeYVlGttOp43whULBoEgsg6mJEU5ezFSO+jy3C6eZlaBqZKZ6jAZ74cjpdLbeZlYCjAhxx5ThPjAVKN93NCkDUyN82fNITlxQnpOiqqd/t9Ya/WRvqH3urIv62g6rT02hD4Q0VjTiQeqNhZkRAn2c8d+tyWrfrN2sp6KkcCiulbRTe7+2b+iPS8oxJKg9WtibwcZCgKy8Uuw8eYedftlx/CZ82gciLbuIPda6+jbXdk7mkMrM0NbJAjcytK9tUJ0wqu33+7rZwd7SBHg2DVHTA8qIx0H2IzF7ENbzQ/Xapihihvlgx/GbkFcq2DabCYxQWcmwIwiqxEK1zqV6G4O7tMLWX1I1+uzaygpGPC52nbiFDwd5wt5GiDtZRbifJ8bpy9kYFNgWvyRlKGN5ompnzpNSKcJ6u6CdswWMeNwaH8TPjwDU23ZYPWoKfSCksaIRD1I/OMCDR+XsAV8S8WPcvnQM3x++DhcPH0SOHKU2AqDtwKtx73WEEY+Dds4WkD1bdLlu/1WNNR8Pn0hw8cbDZ2sbJNj9+23sPnkbO0/cwuMSKWxFxlBUMuzahupM+Dx0cbdHSzuhxuFTU4f7wt6iKukAah65cGxmVvMIAaC2c2NhdACWTg5ExzZWGPWOJ3vh3aE/09HOyVLrlE//bq01YqQapXm+z0/L5fB2scbkod4QmBhh2bZL2HlCWX9IQGv8dj4T00d0Rhd3e7W+qHb7OFibopmloM6ngGo7uKuxHarVFPpASGNFIx6kXpSUyVFYIoFUXomnRbk4v28hpGXFaN6uK2wtvXEvt1htnUHpUzlMjHmYH+WP2/efQCpTqB1JPSSoPdxbWWlft1CpqHHBpOpBaWVuwp6mWX1tQ8wwH9iaK8+rqMuWTm0jFxEhbsh/UvbiEYLnd24oAM/Wloid2AMFJRLYWAhqXBTavoUlPFr7wMbcBH6uzVD0VAYzAR8HTqVr9NnG3BQlYhmuZzxhL41T1aPa5aNta+7zD9s6n63R0LfD1kVT6AMhjRQlHqReiJ+dnCkpykLSrgVQVFagx7DFsLS2g7ERD3xzAfKflGFEiBvKZZUAAxw5fRcfhXtj27GbanVJ5crbUPk85W2q1Xd1jAhxQ97jMvyRrLlgsvqD0sLUCKPe8UTir6kI6+3CTq+0tBNWjWjUZUtntQfUg8IyZOWJcTQpA/27tX75oXoOkP6gFOk5JVAwDBgGNS4WbWZhojbFYWHKBzjakwPHZma4fFNc47oZLhfKdr3gYftSD+KGsB32dTWFPhDSCFHiQeqFibERFqxMxLk9C8Dl8NE94is0c2iDCUM6YduxG8gtLGMTB9V5GREhbigtk9V4QNed7GKYGCtHPxQMAy6HA4dmQvz4Syp7pocqqejibq8cyai2pdWzlSV7cij7IFVob3+tVA+olpZwthXCo7UVbMxN0NJe9FKnb4olFch+JGZHJUz4PPx7kKfGAWSThnq/1EgDl8tR3o1Tw82ynm1squqr7WFb/TU644IQ8oZwGIahf07eoMJCMRSK+gmxnZ05Hj0qrZe66tv9gqeImr4Ej67/jFmLN8LOwRmtHcw1rp1XnUWRmVvKXk4GQG3kYuQADzjYmOKHX25AXqlAcJdW7ELKnt4OuP9Q3DDOX1A9nOs4VJ9TJGG3q6qokrFyaSXbx0Cv5lXHc9eBnZ05HhWUIj2nFNmPxGojRDHDfNCxjdXLJVyN+IyLhvz/iK5RLNRRPKq8qVhwuRzY2ope+D4a8SCvraCgAFYiK7j6DcDUSVE4du4BpNduY3h/N7WkA6i6YvzQ/6U/Ow/DHE9KpfgyujvKJHIIn90xIno2VRK3+x/2TpCpw31hZsyDZytLrJ4ZhIeFYv3Ozb/kUL1EWqF1KkQqr1Tro0jwCqMLDODiZI7mNqZwbWUNibRCOV3zCqM8dMYFIeRNosSDvJbExK2YP/8zHDj4M6YO90Xir6ns2gtA+wJQLxdbdPOwZy8lE9k++8/Q0qSq4hcs/nS2F8GY8+wPDfxbuIpq58jz8fBu3wwera1fP4l6dpGZ2mjJK9RV2xkXlHgQQl4Xbaclryw+fjVmzpyC7t17wN3Nk11T4dZSuXPDraUVosO8NA74amFrqrzB9EXfxJ87uKqxJBg10baFM2aYDxysBQ2qjzVtIaYzLggh9YFGPMhLYxgGS5b8B3FxKzB4cDji4zfA2NhYY+rB1twYYisB5kf5o0xSARsLE3Yrq0GqaVdJA4tHvV5bTwghz6HEg7y0Awf2Ii5uBcaMicLSpcvB4/G0v1Hb0H8De8jqXGPYwklnXBBC3iBKPMhLCwsLB4fDweDBQ8HhcF78AdL4NIYEiRDSKNEaD1InZWVlmD79Y2RnZ4HH42HIkPcp6SCEEPLSKPEgL1RcXIThwwdj587tSE6+oO/mEEIIacRoqoXUKj8/HxERQ3D79k1s3PgDQkMH67tJhBBCGjFKPEiNsrOzMHRoKPLyHiIxcTf69u2n7yYRQghp5GiqhdTI3NwcLVq0xJ49hyjpIIQQUi9oxINouHHjOtq2bQdLSyvs3XuYFpESQgipNzTiQdScOfN/GDQoBAsWzAUASjoIIYTUK0o8COvYsV8QGTkULVu2xMyZs/XdHEIIIU0QJR4EALBr1w5ERY2Cl1cnHDp0DI6OTvpuEiGEkCaIEg+CkpJi/Oc/89GzZ2/s2XMY1tY2+m4SIYSQJooWlxowhlGeg21hYYnDh4+jZctWMDExecGnCCGEkFdHIx4GSqFQYN68OVi6dAkAoH17V0o6CCGEvHGUeBgguVyOmJiJ2LRpPcrKytiRD0IIIeRNo6kWA1NeXo4JEz7E8ePH8PnnX2D69Fm0ZZYQQojOUOJhQBiGwahREThz5k8sXboCY8dG67tJhBBCDAwlHgaEw+FgxIiR+OCD0QgPH6bv5hBCCDFAlHgYgAcPsnHz5g306/c2hg0boe/mEEIIMWCUeDRx6el38P77YZBKpbh4MQVmZmb6bhIhhBADRrtamrCrV68gNHQApFIJdu3aT0kHIYQQvaPEo4k6dy4JgwcPgkBgiiNHjqNTJx99N4kQQgihxKOp+u23X+Hg4IAjR47DxcVV380hhBBCAFDi0eSIxWIAwPz5C3H06Ek4O7fQc4sIIYSQKpR4NCGbN29Ez55dkZV1H1wuF5aWVvpuEiGEEKKGEo8mgGEYrFixDJ999gm8vX3QrJmdvptECCGEaEXbaRs5hmHw5Zfz8N138Xj//QisXp0APp+v72YRQgghWtGIRyO3fv1afPddPKKjJyI+fj0lHYQQQho0GvFo5EaN+jeEQjOMHv0hXfZGCCGkwaMRjxooFArExcWhV69e8PHxQVRUFDIzM/XdLACAWFyKBQvmQiwWQyQyx5gxYynpIIQQ0ihQ4lGDtWvX4qeffkJsbCx27doFHo+HcePGQSqV6rVdjx8X4v3338PGjetw4cI5vbaFEEIIeVmUeGghk8mwefNmxMTEoE+fPvDw8MDKlStRUFCAY8eO6a1dOTk5GDz4X7h+/Ro2b05EcHB/vbWFEEIIeRWUeGiRmpqKsrIydO/enS0TiUTo0KEDkpOT9dKmjIy76NmzJ7KysvDTT/swcOAgvbSDEEIIeR2UeGiRl5cHAGjevLlaub29PXJzc/XRJDAMA5FIhAMHfsZbb/XWSxsIIYSQ10W7WrQoLy8HABgbG6uVGxsbQyaTvVRdtraiemmTnZ0vrly5Ai6XckUVOztzfTehwaBYVKFYVKFYqKN4VNFnLCjx0EIgEABQrvWonnzIZDIIhcKXqquwUAyFgqmXdtnZmePRo9J6qauxo1hUoVhUoVhUoVioo3hUeVOx4HI5dfqyTV+ftXB0dAQA5Ofnq5Xn5+drTL8QQgghpO4o8dDCw8MDIpEIFy5cYMvEYjFu3LgBf39/PbaMEEIIadxoqkULY2NjjBo1CitXrkSzZs3QokULLF++HM2bN8fbb7+t7+YRQgghjRYlHjWYOnUqKisrsWDBApSXl6NLly7YtGmTxoJTQgghhNQdJR414PF4mDVrFmbNmqXvphBCCCFNBq3xIIQQQojOUOJBCCGEEJ2hxIMQQgghOkOJByGEEEJ0hhIPQgghhOgMJR6EEEII0RlKPAghhBCiM5R4EEIIIURnKPEghBBCiM5Q4kEIIYQQnaHEgxBCCCE6Q3e1vGFcLqdB19eYUSyqUCyqUCyqUCzUUTyqvIlY1LVODsMwTL3/dkIIIYQQLWiqhRBCCCE6Q4kHIYQQQnSGEg9CCCGE6AwlHoQQQgjRGUo8CCGEEKIzlHgQQgghRGco8SCEEEKIzlDiQQghhBCdocSDEEIIITpDiQchhBBCdIYSjwZOoVAgLi4OvXr1go+PD6KiopCZmanvZr2U9evXIzIyUq0sNTUVo0ePhq+vL4KCgvD999+rvV6XfuuijvogFovx1VdfITg4GH5+fggPD8fvv/+u0340lFjk5eVh5syZCAgIgJ+fHyZMmIA7d+7otB8NJRbVZWRkwM/PD3v27NFpPxpSLO7evQt3d3eNH1VMDC0eBw8exL/+9S906tQJgwYNwrFjx3TajzcaC4Y0aHFxcUz37t2ZU6dOMampqUx0dDTTr18/RiKR6LtpdZKYmMi4u7szI0aMYMsKCwsZf39/Zt68eUxaWhqzf/9+xtvbm9m1axf7nhf1W1d11IeYmBgmJCSEOXv2LHPv3j1m3bp1jIeHB5OUlGRQsVAoFExoaCgTGRnJXL16lUlLS2OmTJnCBAYGMmKx2KBiUZ1MJmPCw8MZNzc3Zvfu3TrtR0OKxdGjR5nOnTsz+fn5aj/l5eUGF4+DBw8ynp6ezA8//MDcu3ePSUhIYDw8PJjk5OQmEQtKPBowqVTK+Pr6MomJiWxZaWkp4+Pjwxw4cEB/DauDhw8fMhMnTmR8fX2Zd955Ry3xWLduHdOzZ09GLpezZStXrmT69evHMEzd+q2LOupDfn4+4+bmxvzvf/9TKx8zZgwzc+ZMg4vF9OnTmbt377JlqampjJubG/P3338bVCyqW758OTN69Gi1xMMQY7Fq1Spm2LBhWl8zpHgoFAqmb9++zJIlS9TKo6KimPj4+CYRC5pqacBSU1NRVlaG7t27s2UikQgdOnRAcnKyHlv2YtevX4eZmRkOHz4MHx8ftdeSk5PRtWtXGBkZsWUBAQHIyspCXl5enfqtizrqg6mpKTZu3IiuXbuqlXM4HBQXFxtULOzs7LBy5Uq0bdsWAFBQUIDvv/8e9vb2cHNzM6hYqFy8eBG7du3C0qVL1coNMRa3bt2Ci4uL1tcMKR53797FgwcP8O6776qVf//99/j444+bRCwo8WjAVH95zZs3Vyu3t7dHbm6uPppUZ8HBwVi+fDlatmyp8VpeXh4cHBzUyuzt7QEAubm5deq3LuqoDyKRCL1794ZIJGLL/vnnH5w7dw5BQUEGFYvqPvvsM/Ts2RO//vor/vvf/8LMzMzgYlFSUoI5c+Zg/vz5cHR0VHvN0GIBALdv30Z+fj5GjBiBwMBAjBw5EmfOnNFZXxpKPO7duwcAkMlkmDBhAnr06IFhw4bhjz/+0Fk/3nQsKPFowMrLywEAxsbGauXGxsaQyWT6aFK9kEgkWvsEAFKptE791kUdb0J6ejpiYmLg4+ODiIgIg43FuHHjsHfvXrz77rv4+OOPce3aNYOLxcKFC+Hr64vQ0FCN1wwtFmVlZcjOzkZpaSlmzJiBDRs2wMvLC9HR0UhKSjKoeIjFYgDAnDlzMGDAAGzevBlvvfUWJk+ejLNnzzaJWBjV+irRK4FAAECZ+Vb/C5bJZBAKhfpq1msTCAQaiZPqz0KhsE791kUd9e3ixYuIiYmBk5MT1q9fDz6fb7CxcHV1BQAsWbIEV65cwbZt2wwqFgcPHkRycjKOHDmi9XVDioWqrkuXLoHP57Nt8fLyQnp6OjZt2mRQ8eDz+QCAsWPHYujQoQAAT09PXLt2DZs3b24SsaARjwZMNfyan5+vVp6fn68xBNaYODg4aO2T6rW69FsXddSnw4cPY+zYsejYsSO2bdsGKysrnfWjocQiPz8fR44cAcMwbBmXy0X79u3ZYVtDicW+fftQWFiIoKAg+Pn5wc/PDwCwaNEiDBo0yKBioWJmZqbxDdrNzQ05OTkGFQ9VPW5ubmrlrq6uyM7ObhKxoMSjAfPw8IBIJMKFCxfYMrFYjBs3bsDf31+PLXs93bp1w6VLl1BRUcGWnTt3Dm3atIGdnV2d+q2LOurLkSNHMGfOHAwcOBDr169XW+9hSLHIzc3FrFmzcOnSJbZMLpfjxo0bcHFxMahYfPvttzh69CgOHjzI/gBATEwMNmzYYFCxAIDLly/Dz88PKSkpauXXrl2Dq6urQcWjQ4cOMDMzw9WrV9XKb9++jVatWjWNWNRtgw/RlxUrVjD+/v7MiRMn2L3Ub7/9NiOVSvXdtDr79NNP1bbTFhQUMN26dWNmz57N3Llzhzlw4ADj7e3N7Nu3j33Pi/qtqzpeV25uLuPj48OMGTOGycvLUzuf4MmTJwYVi8rKSmb06NHMwIEDmYsXLzK3bt1iZsyYwXTp0oW5f/++QcVCm+rbaQ0tFjKZjHn33XeZ9957j0lOTmbS0tKYxYsXMx07dmSuX79ucPFYu3Yt4+fnxxw6dIjJzMxkEhISGHd3dyYpKalJxIISjwauoqKC+eabb5gePXowvr6+zLhx45j79+/ru1kv5fnEg2EYJiUlhYmIiGC8vLyYvn37Mlu3blV7vS791kUdr2vr1q2Mm5ub1h9VTAwlFgzDMEVFRcz8+fOZnj17Mt7e3kxUVBRz8+ZNnfajocTiedUTD131oyHF4uHDh8zs2bOZwMBAxsvLi4mIiGDOnz+v0740pHhs2bKF6devH9OxY0cmNDSU+e2333TajzcZCw7DVJtwJYQQQgh5g2iNByGEEEJ0hhIPQgghhOgMJR6EEEII0RlKPAghhBCiM5R4EEIIIURnKPEghDR4tPmOkKaDEg9CmrjRo0fD3d1d7cfLywvBwcFYuHAhioqK3tjvzs7Ohru7O/bs2QMAOH/+PNzd3ZGUlFTnOvbs2YOvvvqqXtqzZs0auLu7q522+Ca8Sj8JMRR0SRwhBsDNzQ1ffvkl+2fVUeWrVq3CzZs38dNPP4HD4bzxdnTo0AHbt2+Hu7t7nT+zbt06dO7c+Q22ihCiS5R4EGIARCIRunbtqlbWo0cPSCQSxMXF4cqVK/D19X3j7TA3N9doByHEsNBUCyEGzMvLCwCQk5MDQDktM2fOHHzyySfw8/NDREQEAOV1199++y2CgoLg5eWFQYMG4cCBAxr17d27FwMHDoS3tzeGDRuGtLQ0tde1TUFcvXoV0dHR6NKlCwICAjBlyhRkZWUBANzd3fHgwQMcOXJEbZQkLS0NH330ETp37gw/Pz9MnDgRd+/eVftdpaWl+OKLL9C9e3d07twZCxcu1LjG+3njxo1DWFiYRvnnn3+OoKAgKBQKAMrpn/DwcPj6+sLb2xthYWE4evRojfXu378f7u7uyMzMVCuPjIzE6NGj1cr27duH0NBQeHl5oXfv3li+fLlau6VSKWJjY9m/i5CQEMTFxb3x6SNC6gslHoQYsIyMDABAq1at2LKjR49CKpVizZo1mDhxIgBgypQpSExMRGRkJNauXYuuXbvis88+w/bt29nP7dy5E/PmzUPXrl2xZs0a9O7dGzNmzKj199+8eRMjR45EUVERFi9ejEWLFiE9PR1jx45FeXk5tm/fDjs7O7z11lvs78rMzMSIESOQk5ODxYsXIzY2Fnl5eYiMjERubi4A5WLU8ePH4/jx45gyZQqWLVuGrKwsbNmypdb2hIWF4ebNm0hPT2fLZDIZTpw4gdDQUHC5XGzfvh1ffPEF+vTpg4SEBHz99dcwMjLCrFmz8ODBg5eIvqZNmzZh7ty58PPzw9q1azF69Gj8+OOPmD17Nvue2NhY/Pbbb5g2bRo2btyI9957DwkJCdi4ceNr/W5CdIWmWggxENW/ERcXF+PixYtYt24d/Pz80LFjR/Y1hmHw9ddfQyQSAQCSkpJw6tQpLF26FIMHDwYA9OnTBwqFAqtWrcLQoUNhYmKC+Ph4BAcHY/Hixex7eDweVq9eXWObvvvuO4hEImzduhVmZmYAgHbt2mH8+PFISUlBQEAAjI2NYW1tzU7RrFmzBjweDz/++COsrKwAAL1790ZISAjWrVuHRYsW4cyZM7h8+TLi4+MREhICAOjbty8GDRrEJlvahISEwMzMDD///DOmTZsGADh16hRKS0vZvmdmZmLMmDHs64AycRs6dCiSk5Ph7Oz8wr8LbcRiMeLj4xEeHo5FixaxMXRwcMCsWbPYq+OTk5PRp08fDBkyBIByykwkEsHa2vqVfi8hukaJByEG4O+//1ZLLgCAy+UiMDAQsbGxagtLnZyc2KQDAP766y8AQHBwsFry0r9/f+zevRspKSlo1qwZHj16xD7kVUJDQ2tNPJKTk9GrVy826QAAV1dXnDp1qsbPnDt3DgEBARCJRGx7TE1NERgYiDNnzgAALly4AB6Ph759+7Kf4/F4GDhwIBISEmqs29TUFAMGDMAvv/zCJhZHjhyBl5cXXFxcAABz584FoEwUMjIykJmZycboRVM5tbl8+TLKy8vRv39/tTj37dsXXC4XZ8+ehZ+fH3r27Ilt27YhPz8fffr0Qa9evTB27NhX/r2E6BolHoQYAA8PD8TGxgIAOBwOTExM4OTkpPbAV2nWrJnan588eQIA6Natm9a68/LyYGSk/KfExsZG7TV7e/ta2/XkyRPY2trWrRPVPnP8+HGNRAoA+Hw+AKCoqAgWFhZsu+raHgAYPHgw9u/fj5SUFLRt2xZ//vmn2lRHVlYWFi5ciLNnz8LIyAguLi4vtUunJqo4T548WevreXl5AIBPP/0UTk5OOHToEBYtWgSGYeDp6Yn58+fTwl3SKFDiQYgBEAqF6NSp0yt91tzcHAKBAImJiVpfb9GiBYqLiwEAjx49UntN9TCtrW5t7zl9+jRcXFzg5OSk9TMBAQGIjo6usV4bGxsUFxdDLpezyUhd2gMA/v7+cHZ2xrFjx9C+fXsoFAoMGjQIAKBQKDB+/Hjw+Xzs3bsXHh4eMDIyQlpaGg4dOlRjnaoRpcrKSrVysVjMThdZWFgAAJYuXcqOrlSnmkrh8/mIiopCVFQUCgsL8eeffyIhIQGTJ0/GmTNnYGxs/MI+EqJPtLiUEFKrgIAASCQSyOVydOrUif3JzMzEqlWrUF5ejjZt2sDZ2VljZ8fJkydrrbtr1644ffo0JBIJW5aZmYno6GicP38egHJKqDp/f3+kpaXBw8NDrT3btm3Dzz//DAAIDAyEQqHAsWPH1D77+++/v7C/HA4HoaGhOHnyJH799Ve89dZb7EjOkydPkJGRgSFDhsDLy4sdUfnzzz8BgN318jzV1JVq8SugTNKqrzfx8fGBsbExHj58qNYvkUiEpUuXIj09HRKJBAMGDMCmTZsAALa2tggPD0dkZCSKi4shFotf2D9C9I1GPAghterduzf8/f0RExODiRMnwtXVFTdu3EB8fDz8/PzYUYnZs2djxowZ+OSTTxAaGoo7d+6wD8iaTJ48GREREYiKisKHH36IiooKrF27Fu3bt8eAAQMAKEcCbt26hb/++gsBAQGIiYlhP/PBBx/A1NQU+/btw/Hjx7Fs2TIAymQpKCgIX375JQoLC9G2bVvs379fbbdKbQYPHozvvvsODx48wIoVK9hyW1tbODs7Y8eOHXBwcICFhQXOnDnDjgaVl5drra9Hjx4QCoX4+uuvMW3aNMhkMqxfvx7m5ubse6ytrTF+/HjEx8ejpKQEPXr0QGFhIeLj4yGRSODl5QWBQICOHTti7dq14HK58PT0RHZ2NrZs2YLu3btrTHUR0hDRiAchpFZcLhcbNmxAWFgYtmzZggkTJmDHjh2IjIxEfHw8+76BAwdi9erVuHPnDqZMmYLDhw/jm2++qbXuDh06IDExEXw+H3PmzMHixYvh6emJzZs3QygUAgAmTpyIR48eYfLkycjJyYGbmxt27NgBoVCIuXPnYvr06cjJycGqVavUzuCIi4vD8OHDsWnTJkyfPh1cLheTJk2qU5/btm0LX19fmJmZITg4WO21hIQEODo6Yt68efjkk09w9epVNllKTk7WWp9IJMLatWvB5/Mxffp0rFixAhERERp1T506FfPnz8fp06cxadIkLFu2DJ06dcKOHTvYtTCxsbGIiIhAYmIixo8fj9WrV6Nfv36Ii4urU98I0TcOQ7cvEUIIIURHaMSDEEIIITpDiQchhBBCdIYSD0IIIYToDCUehBBCCNEZSjwIIYQQojOUeBBCCCFEZyjxIIQQQojOUOJBCCGEEJ35f3sr+/1m6ee2AAAAAElFTkSuQmCC\n",
      "text/plain": [
       "<Figure size 576x576 with 1 Axes>"
      ]
     },
     "metadata": {},
     "output_type": "display_data"
    }
   ],
   "source": [
    "evaluate_preds(y_train, y_pred)\n"
   ]
  },
  {
   "cell_type": "raw",
   "id": "530a455c",
   "metadata": {},
   "source": [
    "Видно, что модель имеет большое рассеянее  на дорогих квартирах, видимо изза малого количества дорогих примеров. Видно перекос когда на дешевое жилье, модель предсказывает высокую цену. "
   ]
  },
  {
   "cell_type": "code",
<<<<<<< Updated upstream
   "execution_count": 82,
=======
   "execution_count": 130,
>>>>>>> Stashed changes
   "id": "eb177299",
   "metadata": {},
   "outputs": [],
   "source": [
    "f_i = gb_model.feature_importances_"
   ]
  },
  {
   "cell_type": "code",
<<<<<<< Updated upstream
   "execution_count": 83,
=======
   "execution_count": 131,
>>>>>>> Stashed changes
   "id": "7b8b89ff",
   "metadata": {},
   "outputs": [
    {
     "data": {
      "image/png": "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\n",
      "text/plain": [
       "<Figure size 720x720 with 1 Axes>"
      ]
     },
     "metadata": {},
     "output_type": "display_data"
    }
   ],
   "source": [
    "plt.figure(figsize=(10,10))\n",
    "plt.barh(X_train.columns, f_i)\n",
    "plt.show()"
   ]
  },
  {
   "cell_type": "markdown",
   "id": "6fccee13",
   "metadata": {},
   "source": [
    "Манипуляции с DistrictId, Healthcare_1, LifeSquare оправдались, получились сильные признаки."
   ]
  },
  {
   "cell_type": "code",
<<<<<<< Updated upstream
   "execution_count": 84,
=======
   "execution_count": 132,
>>>>>>> Stashed changes
   "id": "105b141a",
   "metadata": {},
   "outputs": [],
   "source": [
    "y_test_pred = gb_model.predict(X_test)"
   ]
  },
  {
   "cell_type": "code",
<<<<<<< Updated upstream
   "execution_count": 85,
=======
   "execution_count": 133,
>>>>>>> Stashed changes
   "id": "fc29b307",
   "metadata": {},
   "outputs": [],
   "source": [
    "IKurkov_predictions[\"Price\"] = y_test_pred"
   ]
  },
  {
   "cell_type": "code",
<<<<<<< Updated upstream
   "execution_count": 86,
=======
   "execution_count": 134,
>>>>>>> Stashed changes
   "id": "301b8bf8",
   "metadata": {},
   "outputs": [
    {
     "data": {
      "text/html": [
       "<div>\n",
       "<style scoped>\n",
       "    .dataframe tbody tr th:only-of-type {\n",
       "        vertical-align: middle;\n",
       "    }\n",
       "\n",
       "    .dataframe tbody tr th {\n",
       "        vertical-align: top;\n",
       "    }\n",
       "\n",
       "    .dataframe thead th {\n",
       "        text-align: right;\n",
       "    }\n",
       "</style>\n",
       "<table border=\"1\" class=\"dataframe\">\n",
       "  <thead>\n",
       "    <tr style=\"text-align: right;\">\n",
       "      <th></th>\n",
       "      <th>Id</th>\n",
       "      <th>Price</th>\n",
       "    </tr>\n",
       "  </thead>\n",
       "  <tbody>\n",
       "    <tr>\n",
       "      <th>0</th>\n",
       "      <td>725</td>\n",
       "      <td>152857.930888</td>\n",
       "    </tr>\n",
       "    <tr>\n",
       "      <th>1</th>\n",
       "      <td>15856</td>\n",
       "      <td>220674.845109</td>\n",
       "    </tr>\n",
       "    <tr>\n",
       "      <th>2</th>\n",
       "      <td>5480</td>\n",
       "      <td>227603.254646</td>\n",
       "    </tr>\n",
       "    <tr>\n",
       "      <th>3</th>\n",
       "      <td>15664</td>\n",
       "      <td>322511.301312</td>\n",
       "    </tr>\n",
       "    <tr>\n",
       "      <th>4</th>\n",
       "      <td>14275</td>\n",
       "      <td>140678.636217</td>\n",
       "    </tr>\n",
       "    <tr>\n",
       "      <th>...</th>\n",
       "      <td>...</td>\n",
       "      <td>...</td>\n",
       "    </tr>\n",
       "    <tr>\n",
       "      <th>4995</th>\n",
       "      <td>8180</td>\n",
       "      <td>243763.903644</td>\n",
       "    </tr>\n",
       "    <tr>\n",
       "      <th>4996</th>\n",
       "      <td>4695</td>\n",
       "      <td>133739.229044</td>\n",
       "    </tr>\n",
       "    <tr>\n",
       "      <th>4997</th>\n",
       "      <td>5783</td>\n",
       "      <td>353031.408339</td>\n",
       "    </tr>\n",
       "    <tr>\n",
       "      <th>4998</th>\n",
       "      <td>4780</td>\n",
       "      <td>177296.002899</td>\n",
       "    </tr>\n",
       "    <tr>\n",
       "      <th>4999</th>\n",
       "      <td>12504</td>\n",
       "      <td>181225.336081</td>\n",
       "    </tr>\n",
       "  </tbody>\n",
       "</table>\n",
       "<p>5000 rows × 2 columns</p>\n",
       "</div>"
      ],
      "text/plain": [
       "         Id          Price\n",
       "0       725  152857.930888\n",
       "1     15856  220674.845109\n",
       "2      5480  227603.254646\n",
       "3     15664  322511.301312\n",
       "4     14275  140678.636217\n",
       "...     ...            ...\n",
       "4995   8180  243763.903644\n",
       "4996   4695  133739.229044\n",
       "4997   5783  353031.408339\n",
       "4998   4780  177296.002899\n",
       "4999  12504  181225.336081\n",
       "\n",
       "[5000 rows x 2 columns]"
      ]
     },
<<<<<<< Updated upstream
     "execution_count": 86,
=======
     "execution_count": 134,
>>>>>>> Stashed changes
     "metadata": {},
     "output_type": "execute_result"
    }
   ],
   "source": [
    "IKurkov_predictions"
   ]
  },
  {
   "cell_type": "raw",
   "id": "54bf5794",
   "metadata": {},
   "source": [
    "IKurkov_predictions.to_csv('IKurkov_predictions.csv', index=False)"
   ]
  },
  {
   "cell_type": "code",
   "execution_count": null,
   "id": "b6df7e72",
   "metadata": {},
   "outputs": [],
   "source": []
  }
 ],
 "metadata": {
  "kernelspec": {
   "display_name": "Python 3",
   "language": "python",
   "name": "python3"
  },
  "language_info": {
   "codemirror_mode": {
    "name": "ipython",
    "version": 3
   },
   "file_extension": ".py",
   "mimetype": "text/x-python",
   "name": "python",
   "nbconvert_exporter": "python",
   "pygments_lexer": "ipython3",
   "version": "3.8.8"
  }
 },
 "nbformat": 4,
 "nbformat_minor": 5
}
