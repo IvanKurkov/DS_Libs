{
 "cells": [
  {
   "cell_type": "markdown",
   "id": "cd6bc169",
   "metadata": {},
   "source": [
    "# Курсовой проект для курса \"Python для Data Science\""
   ]
  },
  {
   "cell_type": "markdown",
   "id": "f947f802",
   "metadata": {},
   "source": [
    "#### Задание:\n",
    "Используя данные из обучающего датасета (train.csv), построить модель для предсказания цен на недвижимость (квартиры).\n",
    "С помощью полученной модели, предсказать цены для квартир из тестового датасета (test.csv).\n",
    "\n",
    "#### Целевая переменная:\n",
    "Price\n",
    "\n",
    "#### Метрика качества:\n",
    "R2 - коэффициент детерминации (sklearn.metrics.r2_score)\n",
    "\n",
    "#### Требования к решению:\n",
    "1. R2 > 0.6\n",
    "2. Тетрадка Jupyter Notebook с кодом Вашего решения, названная по образцу {ФИО}_solution.ipynb, пример SShirkin_solution.ipynb\n",
    "3. Файл CSV с прогнозами целевой переменной для тестового датасета, названный по образцу {ФИО}_predictions.csv, пример SShirkin_predictions.csv \n",
    "Файл должен содержать два поля: Id, Price и в файле должна быть 5001 строка (шапка + 5000 предсказаний).\n",
    "\n",
    "#### Рекомендации для файла с кодом (ipynb):\n",
    "1. Файл должен содержать заголовки и комментарии (markdown)\n",
    "2. Повторяющиеся операции лучше оформлять в виде функций\n",
    "3. Не делать вывод большого количества строк таблиц (5-10 достаточно)\n",
    "4. По возможности добавлять графики, описывающие данные (около 3-5)\n",
    "5. Добавлять только лучшую модель, то есть не включать в код все варианты решения проекта\n",
    "6. Скрипт проекта должен отрабатывать от начала и до конца (от загрузки данных до выгрузки предсказаний)\n",
    "7. Весь проект должен быть в одном скрипте (файл ipynb).\n",
    "8. Допускается применение библиотек Python и моделей машинного обучения,\n",
    "которые были в данном курсе.\n"
   ]
  },
  {
   "cell_type": "markdown",
   "id": "b54884a7",
   "metadata": {},
   "source": [
    "#### Описание датасета:\n",
    "Id - идентификационный номер квартиры\n",
    "\n",
    "DistrictId - идентификационный номер района\n",
    "\n",
    "Rooms - количество комнат\n",
    "\n",
    "Square - площадь\n",
    "\n",
    "LifeSquare - жилая площадь\n",
    "\n",
    "KitchenSquare - площадь кухни\n",
    "\n",
    "Floor - этаж\n",
    "\n",
    "HouseFloor - количество этажей в доме\n",
    "\n",
    "HouseYear - год постройки дома\n",
    "\n",
    "Ecology_1, Ecology_2, Ecology_3 - экологические показатели местности\n",
    "\n",
    "Social_1, Social_2, Social_3 - социальные показатели местности\n",
    "\n",
    "Healthcare_1, Helthcare_2 - показатели местности, связанные с охраной здоровья\n",
    "\n",
    "Shops_1, Shops_2 - показатели, связанные с наличием магазинов, торговых центров\n",
    "\n",
    "Price - цена квартиры"
   ]
  },
  {
   "cell_type": "code",
   "execution_count": 1301,
   "id": "425966f1",
   "metadata": {},
   "outputs": [],
   "source": [
    "import numpy as np\n",
    "import pandas as pd\n",
    "import matplotlib.pyplot as plt\n",
    "import seaborn as sns\n",
    "from scipy import stats\n",
    "import warnings\n",
    "warnings.filterwarnings('ignore')\n",
    "%matplotlib inline\n",
    "from sklearn.model_selection import train_test_split"
   ]
  },
  {
   "cell_type": "code",
   "execution_count": 1302,
   "id": "cbc6f3fe",
   "metadata": {},
   "outputs": [],
   "source": [
    "TEST_DATASET_PATH = \"test.csv\"\n",
    "TRAIN_DATASET_PATH = \"train.csv\""
   ]
  },
  {
   "cell_type": "code",
   "execution_count": 1303,
   "id": "05c07a86",
   "metadata": {
    "scrolled": true
   },
   "outputs": [
    {
     "data": {
      "text/html": [
       "<div>\n",
       "<style scoped>\n",
       "    .dataframe tbody tr th:only-of-type {\n",
       "        vertical-align: middle;\n",
       "    }\n",
       "\n",
       "    .dataframe tbody tr th {\n",
       "        vertical-align: top;\n",
       "    }\n",
       "\n",
       "    .dataframe thead th {\n",
       "        text-align: right;\n",
       "    }\n",
       "</style>\n",
       "<table border=\"1\" class=\"dataframe\">\n",
       "  <thead>\n",
       "    <tr style=\"text-align: right;\">\n",
       "      <th></th>\n",
       "      <th>Id</th>\n",
       "      <th>DistrictId</th>\n",
       "      <th>Rooms</th>\n",
       "      <th>Square</th>\n",
       "      <th>LifeSquare</th>\n",
       "      <th>KitchenSquare</th>\n",
       "      <th>Floor</th>\n",
       "      <th>HouseFloor</th>\n",
       "      <th>HouseYear</th>\n",
       "      <th>Ecology_1</th>\n",
       "      <th>Ecology_2</th>\n",
       "      <th>Ecology_3</th>\n",
       "      <th>Social_1</th>\n",
       "      <th>Social_2</th>\n",
       "      <th>Social_3</th>\n",
       "      <th>Healthcare_1</th>\n",
       "      <th>Helthcare_2</th>\n",
       "      <th>Shops_1</th>\n",
       "      <th>Shops_2</th>\n",
       "      <th>Price</th>\n",
       "    </tr>\n",
       "  </thead>\n",
       "  <tbody>\n",
       "    <tr>\n",
       "      <th>0</th>\n",
       "      <td>14038</td>\n",
       "      <td>35</td>\n",
       "      <td>2.0</td>\n",
       "      <td>47.981561</td>\n",
       "      <td>29.442751</td>\n",
       "      <td>6.0</td>\n",
       "      <td>7</td>\n",
       "      <td>9.0</td>\n",
       "      <td>1969</td>\n",
       "      <td>0.089040</td>\n",
       "      <td>B</td>\n",
       "      <td>B</td>\n",
       "      <td>33</td>\n",
       "      <td>7976</td>\n",
       "      <td>5</td>\n",
       "      <td>NaN</td>\n",
       "      <td>0</td>\n",
       "      <td>11</td>\n",
       "      <td>B</td>\n",
       "      <td>184966.930730</td>\n",
       "    </tr>\n",
       "    <tr>\n",
       "      <th>1</th>\n",
       "      <td>15053</td>\n",
       "      <td>41</td>\n",
       "      <td>3.0</td>\n",
       "      <td>65.683640</td>\n",
       "      <td>40.049543</td>\n",
       "      <td>8.0</td>\n",
       "      <td>7</td>\n",
       "      <td>9.0</td>\n",
       "      <td>1978</td>\n",
       "      <td>0.000070</td>\n",
       "      <td>B</td>\n",
       "      <td>B</td>\n",
       "      <td>46</td>\n",
       "      <td>10309</td>\n",
       "      <td>1</td>\n",
       "      <td>240.0</td>\n",
       "      <td>1</td>\n",
       "      <td>16</td>\n",
       "      <td>B</td>\n",
       "      <td>300009.450063</td>\n",
       "    </tr>\n",
       "    <tr>\n",
       "      <th>2</th>\n",
       "      <td>4765</td>\n",
       "      <td>53</td>\n",
       "      <td>2.0</td>\n",
       "      <td>44.947953</td>\n",
       "      <td>29.197612</td>\n",
       "      <td>0.0</td>\n",
       "      <td>8</td>\n",
       "      <td>12.0</td>\n",
       "      <td>1968</td>\n",
       "      <td>0.049637</td>\n",
       "      <td>B</td>\n",
       "      <td>B</td>\n",
       "      <td>34</td>\n",
       "      <td>7759</td>\n",
       "      <td>0</td>\n",
       "      <td>229.0</td>\n",
       "      <td>1</td>\n",
       "      <td>3</td>\n",
       "      <td>B</td>\n",
       "      <td>220925.908524</td>\n",
       "    </tr>\n",
       "    <tr>\n",
       "      <th>3</th>\n",
       "      <td>5809</td>\n",
       "      <td>58</td>\n",
       "      <td>2.0</td>\n",
       "      <td>53.352981</td>\n",
       "      <td>52.731512</td>\n",
       "      <td>9.0</td>\n",
       "      <td>8</td>\n",
       "      <td>17.0</td>\n",
       "      <td>1977</td>\n",
       "      <td>0.437885</td>\n",
       "      <td>B</td>\n",
       "      <td>B</td>\n",
       "      <td>23</td>\n",
       "      <td>5735</td>\n",
       "      <td>3</td>\n",
       "      <td>1084.0</td>\n",
       "      <td>0</td>\n",
       "      <td>5</td>\n",
       "      <td>B</td>\n",
       "      <td>175616.227217</td>\n",
       "    </tr>\n",
       "    <tr>\n",
       "      <th>4</th>\n",
       "      <td>10783</td>\n",
       "      <td>99</td>\n",
       "      <td>1.0</td>\n",
       "      <td>39.649192</td>\n",
       "      <td>23.776169</td>\n",
       "      <td>7.0</td>\n",
       "      <td>11</td>\n",
       "      <td>12.0</td>\n",
       "      <td>1976</td>\n",
       "      <td>0.012339</td>\n",
       "      <td>B</td>\n",
       "      <td>B</td>\n",
       "      <td>35</td>\n",
       "      <td>5776</td>\n",
       "      <td>1</td>\n",
       "      <td>2078.0</td>\n",
       "      <td>2</td>\n",
       "      <td>4</td>\n",
       "      <td>B</td>\n",
       "      <td>150226.531644</td>\n",
       "    </tr>\n",
       "  </tbody>\n",
       "</table>\n",
       "</div>"
      ],
      "text/plain": [
       "      Id  DistrictId  Rooms     Square  LifeSquare  KitchenSquare  Floor  \\\n",
       "0  14038          35    2.0  47.981561   29.442751            6.0      7   \n",
       "1  15053          41    3.0  65.683640   40.049543            8.0      7   \n",
       "2   4765          53    2.0  44.947953   29.197612            0.0      8   \n",
       "3   5809          58    2.0  53.352981   52.731512            9.0      8   \n",
       "4  10783          99    1.0  39.649192   23.776169            7.0     11   \n",
       "\n",
       "   HouseFloor  HouseYear  Ecology_1 Ecology_2 Ecology_3  Social_1  Social_2  \\\n",
       "0         9.0       1969   0.089040         B         B        33      7976   \n",
       "1         9.0       1978   0.000070         B         B        46     10309   \n",
       "2        12.0       1968   0.049637         B         B        34      7759   \n",
       "3        17.0       1977   0.437885         B         B        23      5735   \n",
       "4        12.0       1976   0.012339         B         B        35      5776   \n",
       "\n",
       "   Social_3  Healthcare_1  Helthcare_2  Shops_1 Shops_2          Price  \n",
       "0         5           NaN            0       11       B  184966.930730  \n",
       "1         1         240.0            1       16       B  300009.450063  \n",
       "2         0         229.0            1        3       B  220925.908524  \n",
       "3         3        1084.0            0        5       B  175616.227217  \n",
       "4         1        2078.0            2        4       B  150226.531644  "
      ]
     },
     "execution_count": 1303,
     "metadata": {},
     "output_type": "execute_result"
    }
   ],
   "source": [
    "df = pd.read_csv(TRAIN_DATASET_PATH)\n",
    "df.head()"
   ]
  },
  {
   "cell_type": "markdown",
   "id": "c40090a2",
   "metadata": {},
   "source": [
    "#### Уменьшаем объем данных"
   ]
  },
  {
   "cell_type": "code",
   "execution_count": 1304,
   "id": "f85fb259",
   "metadata": {},
   "outputs": [
    {
     "name": "stdout",
     "output_type": "stream",
     "text": [
      "Memory usage of dataframe is 1.53 MB\n",
      "Memory usage after optimization is: 0.49 MB\n",
      "Decreased by 68.1%\n"
     ]
    }
   ],
   "source": [
    "def reduce_mem_usage(df):\n",
    "    \"\"\" iterate through all the columns of a dataframe and modify the data type\n",
    "        to reduce memory usage.        \n",
    "    \"\"\"\n",
    "    start_mem = df.memory_usage().sum() / 1024**2\n",
    "    print('Memory usage of dataframe is {:.2f} MB'.format(start_mem))\n",
    "    \n",
    "    for col in df.columns:\n",
    "        col_type = df[col].dtype\n",
    "        \n",
    "        if col_type != object:\n",
    "            c_min = df[col].min()\n",
    "            c_max = df[col].max()\n",
    "            if str(col_type)[:3] == 'int':\n",
    "                if c_min > np.iinfo(np.int8).min and c_max < np.iinfo(np.int8).max:\n",
    "                    df[col] = df[col].astype(np.int8)\n",
    "                elif c_min > np.iinfo(np.int16).min and c_max < np.iinfo(np.int16).max:\n",
    "                    df[col] = df[col].astype(np.int16)\n",
    "                elif c_min > np.iinfo(np.int32).min and c_max < np.iinfo(np.int32).max:\n",
    "                    df[col] = df[col].astype(np.int32)\n",
    "                elif c_min > np.iinfo(np.int64).min and c_max < np.iinfo(np.int64).max:\n",
    "                    df[col] = df[col].astype(np.int64)  \n",
    "            else:\n",
    "                if c_min > np.finfo(np.float32).min and c_max < np.finfo(np.float32).max:\n",
    "                    df[col] = df[col].astype(np.float32)\n",
    "                else:\n",
    "                    df[col] = df[col].astype(np.float64)\n",
    "        else:\n",
    "            df[col] = df[col].astype('category')\n",
    "\n",
    "    end_mem = df.memory_usage().sum() / 1024**2\n",
    "    print('Memory usage after optimization is: {:.2f} MB'.format(end_mem))\n",
    "    print('Decreased by {:.1f}%'.format(100 * (start_mem - end_mem) / start_mem))\n",
    "    \n",
    "    return df\n",
    "df = reduce_mem_usage(df)"
   ]
  },
  {
   "cell_type": "code",
   "execution_count": 1305,
   "id": "053b1439",
   "metadata": {},
   "outputs": [
    {
     "name": "stdout",
     "output_type": "stream",
     "text": [
      "<class 'pandas.core.frame.DataFrame'>\n",
      "RangeIndex: 10000 entries, 0 to 9999\n",
      "Data columns (total 20 columns):\n",
      " #   Column         Non-Null Count  Dtype   \n",
      "---  ------         --------------  -----   \n",
      " 0   Id             10000 non-null  int16   \n",
      " 1   DistrictId     10000 non-null  int16   \n",
      " 2   Rooms          10000 non-null  float32 \n",
      " 3   Square         10000 non-null  float32 \n",
      " 4   LifeSquare     7887 non-null   float32 \n",
      " 5   KitchenSquare  10000 non-null  float32 \n",
      " 6   Floor          10000 non-null  int8    \n",
      " 7   HouseFloor     10000 non-null  float32 \n",
      " 8   HouseYear      10000 non-null  int32   \n",
      " 9   Ecology_1      10000 non-null  float32 \n",
      " 10  Ecology_2      10000 non-null  category\n",
      " 11  Ecology_3      10000 non-null  category\n",
      " 12  Social_1       10000 non-null  int8    \n",
      " 13  Social_2       10000 non-null  int16   \n",
      " 14  Social_3       10000 non-null  int16   \n",
      " 15  Healthcare_1   5202 non-null   float32 \n",
      " 16  Helthcare_2    10000 non-null  int8    \n",
      " 17  Shops_1        10000 non-null  int8    \n",
      " 18  Shops_2        10000 non-null  category\n",
      " 19  Price          10000 non-null  float32 \n",
      "dtypes: category(3), float32(8), int16(4), int32(1), int8(4)\n",
      "memory usage: 498.5 KB\n"
     ]
    }
   ],
   "source": [
    "df.info()"
   ]
  },
  {
   "cell_type": "markdown",
   "id": "7f04663a",
   "metadata": {},
   "source": [
    "#### Разбиваем на тест и трейн"
   ]
  },
  {
   "cell_type": "code",
   "execution_count": 1306,
   "id": "f9dd9254",
   "metadata": {},
   "outputs": [],
   "source": [
    "X_train, X_valid, y_train, y_valid = train_test_split(df.drop(\"Price\", axis = 1), df[\"Price\"], test_size=0.3, random_state=47)"
   ]
  },
  {
   "cell_type": "code",
   "execution_count": 1307,
   "id": "b29740dd",
   "metadata": {},
   "outputs": [
    {
     "data": {
      "text/html": [
       "<div>\n",
       "<style scoped>\n",
       "    .dataframe tbody tr th:only-of-type {\n",
       "        vertical-align: middle;\n",
       "    }\n",
       "\n",
       "    .dataframe tbody tr th {\n",
       "        vertical-align: top;\n",
       "    }\n",
       "\n",
       "    .dataframe thead th {\n",
       "        text-align: right;\n",
       "    }\n",
       "</style>\n",
       "<table border=\"1\" class=\"dataframe\">\n",
       "  <thead>\n",
       "    <tr style=\"text-align: right;\">\n",
       "      <th></th>\n",
       "      <th>Id</th>\n",
       "      <th>DistrictId</th>\n",
       "      <th>Rooms</th>\n",
       "      <th>Square</th>\n",
       "      <th>LifeSquare</th>\n",
       "      <th>KitchenSquare</th>\n",
       "      <th>Floor</th>\n",
       "      <th>HouseFloor</th>\n",
       "      <th>HouseYear</th>\n",
       "      <th>Ecology_1</th>\n",
       "      <th>Social_1</th>\n",
       "      <th>Social_2</th>\n",
       "      <th>Social_3</th>\n",
       "      <th>Healthcare_1</th>\n",
       "      <th>Helthcare_2</th>\n",
       "      <th>Shops_1</th>\n",
       "    </tr>\n",
       "  </thead>\n",
       "  <tbody>\n",
       "    <tr>\n",
       "      <th>count</th>\n",
       "      <td>7000.000000</td>\n",
       "      <td>7000.000000</td>\n",
       "      <td>7000.000000</td>\n",
       "      <td>7000.000000</td>\n",
       "      <td>5514.000000</td>\n",
       "      <td>7000.000000</td>\n",
       "      <td>7000.000000</td>\n",
       "      <td>7000.000000</td>\n",
       "      <td>7.000000e+03</td>\n",
       "      <td>7000.000000</td>\n",
       "      <td>7000.000000</td>\n",
       "      <td>7000.000000</td>\n",
       "      <td>7000.000000</td>\n",
       "      <td>3622.000000</td>\n",
       "      <td>7000.000000</td>\n",
       "      <td>7000.000000</td>\n",
       "    </tr>\n",
       "    <tr>\n",
       "      <th>mean</th>\n",
       "      <td>8355.944429</td>\n",
       "      <td>50.380286</td>\n",
       "      <td>1.890857</td>\n",
       "      <td>56.349125</td>\n",
       "      <td>36.334522</td>\n",
       "      <td>6.431143</td>\n",
       "      <td>8.465857</td>\n",
       "      <td>12.551143</td>\n",
       "      <td>4.849407e+03</td>\n",
       "      <td>0.118864</td>\n",
       "      <td>24.799000</td>\n",
       "      <td>5384.084286</td>\n",
       "      <td>8.007000</td>\n",
       "      <td>1164.085327</td>\n",
       "      <td>1.319286</td>\n",
       "      <td>4.228714</td>\n",
       "    </tr>\n",
       "    <tr>\n",
       "      <th>std</th>\n",
       "      <td>4859.364585</td>\n",
       "      <td>43.750859</td>\n",
       "      <td>0.850480</td>\n",
       "      <td>21.555962</td>\n",
       "      <td>20.853006</td>\n",
       "      <td>33.960041</td>\n",
       "      <td>5.200314</td>\n",
       "      <td>6.739928</td>\n",
       "      <td>2.396436e+05</td>\n",
       "      <td>0.118758</td>\n",
       "      <td>17.631259</td>\n",
       "      <td>4036.855151</td>\n",
       "      <td>23.562797</td>\n",
       "      <td>1037.780518</td>\n",
       "      <td>1.491194</td>\n",
       "      <td>4.780312</td>\n",
       "    </tr>\n",
       "    <tr>\n",
       "      <th>min</th>\n",
       "      <td>0.000000</td>\n",
       "      <td>0.000000</td>\n",
       "      <td>0.000000</td>\n",
       "      <td>1.988943</td>\n",
       "      <td>0.641822</td>\n",
       "      <td>0.000000</td>\n",
       "      <td>1.000000</td>\n",
       "      <td>0.000000</td>\n",
       "      <td>1.910000e+03</td>\n",
       "      <td>0.000000</td>\n",
       "      <td>0.000000</td>\n",
       "      <td>168.000000</td>\n",
       "      <td>0.000000</td>\n",
       "      <td>0.000000</td>\n",
       "      <td>0.000000</td>\n",
       "      <td>0.000000</td>\n",
       "    </tr>\n",
       "    <tr>\n",
       "      <th>25%</th>\n",
       "      <td>4179.750000</td>\n",
       "      <td>20.000000</td>\n",
       "      <td>1.000000</td>\n",
       "      <td>41.784348</td>\n",
       "      <td>22.726414</td>\n",
       "      <td>1.000000</td>\n",
       "      <td>4.000000</td>\n",
       "      <td>9.000000</td>\n",
       "      <td>1.973000e+03</td>\n",
       "      <td>0.019509</td>\n",
       "      <td>6.000000</td>\n",
       "      <td>1564.000000</td>\n",
       "      <td>0.000000</td>\n",
       "      <td>350.000000</td>\n",
       "      <td>0.000000</td>\n",
       "      <td>1.000000</td>\n",
       "    </tr>\n",
       "    <tr>\n",
       "      <th>50%</th>\n",
       "      <td>8344.000000</td>\n",
       "      <td>35.000000</td>\n",
       "      <td>2.000000</td>\n",
       "      <td>52.413246</td>\n",
       "      <td>32.810188</td>\n",
       "      <td>6.000000</td>\n",
       "      <td>7.000000</td>\n",
       "      <td>12.000000</td>\n",
       "      <td>1.977000e+03</td>\n",
       "      <td>0.075424</td>\n",
       "      <td>25.000000</td>\n",
       "      <td>5288.000000</td>\n",
       "      <td>2.000000</td>\n",
       "      <td>990.000000</td>\n",
       "      <td>1.000000</td>\n",
       "      <td>3.000000</td>\n",
       "    </tr>\n",
       "    <tr>\n",
       "      <th>75%</th>\n",
       "      <td>12541.750000</td>\n",
       "      <td>75.000000</td>\n",
       "      <td>2.000000</td>\n",
       "      <td>65.981638</td>\n",
       "      <td>45.099518</td>\n",
       "      <td>9.000000</td>\n",
       "      <td>12.000000</td>\n",
       "      <td>17.000000</td>\n",
       "      <td>2.001000e+03</td>\n",
       "      <td>0.195781</td>\n",
       "      <td>36.000000</td>\n",
       "      <td>7287.000000</td>\n",
       "      <td>5.000000</td>\n",
       "      <td>1548.000000</td>\n",
       "      <td>2.000000</td>\n",
       "      <td>6.000000</td>\n",
       "    </tr>\n",
       "    <tr>\n",
       "      <th>max</th>\n",
       "      <td>16798.000000</td>\n",
       "      <td>209.000000</td>\n",
       "      <td>19.000000</td>\n",
       "      <td>641.065186</td>\n",
       "      <td>638.163208</td>\n",
       "      <td>2014.000000</td>\n",
       "      <td>33.000000</td>\n",
       "      <td>99.000000</td>\n",
       "      <td>2.005201e+07</td>\n",
       "      <td>0.521867</td>\n",
       "      <td>74.000000</td>\n",
       "      <td>19083.000000</td>\n",
       "      <td>141.000000</td>\n",
       "      <td>4849.000000</td>\n",
       "      <td>6.000000</td>\n",
       "      <td>23.000000</td>\n",
       "    </tr>\n",
       "  </tbody>\n",
       "</table>\n",
       "</div>"
      ],
      "text/plain": [
       "                 Id   DistrictId        Rooms       Square   LifeSquare  \\\n",
       "count   7000.000000  7000.000000  7000.000000  7000.000000  5514.000000   \n",
       "mean    8355.944429    50.380286     1.890857    56.349125    36.334522   \n",
       "std     4859.364585    43.750859     0.850480    21.555962    20.853006   \n",
       "min        0.000000     0.000000     0.000000     1.988943     0.641822   \n",
       "25%     4179.750000    20.000000     1.000000    41.784348    22.726414   \n",
       "50%     8344.000000    35.000000     2.000000    52.413246    32.810188   \n",
       "75%    12541.750000    75.000000     2.000000    65.981638    45.099518   \n",
       "max    16798.000000   209.000000    19.000000   641.065186   638.163208   \n",
       "\n",
       "       KitchenSquare        Floor   HouseFloor     HouseYear    Ecology_1  \\\n",
       "count    7000.000000  7000.000000  7000.000000  7.000000e+03  7000.000000   \n",
       "mean        6.431143     8.465857    12.551143  4.849407e+03     0.118864   \n",
       "std        33.960041     5.200314     6.739928  2.396436e+05     0.118758   \n",
       "min         0.000000     1.000000     0.000000  1.910000e+03     0.000000   \n",
       "25%         1.000000     4.000000     9.000000  1.973000e+03     0.019509   \n",
       "50%         6.000000     7.000000    12.000000  1.977000e+03     0.075424   \n",
       "75%         9.000000    12.000000    17.000000  2.001000e+03     0.195781   \n",
       "max      2014.000000    33.000000    99.000000  2.005201e+07     0.521867   \n",
       "\n",
       "          Social_1      Social_2     Social_3  Healthcare_1  Helthcare_2  \\\n",
       "count  7000.000000   7000.000000  7000.000000   3622.000000  7000.000000   \n",
       "mean     24.799000   5384.084286     8.007000   1164.085327     1.319286   \n",
       "std      17.631259   4036.855151    23.562797   1037.780518     1.491194   \n",
       "min       0.000000    168.000000     0.000000      0.000000     0.000000   \n",
       "25%       6.000000   1564.000000     0.000000    350.000000     0.000000   \n",
       "50%      25.000000   5288.000000     2.000000    990.000000     1.000000   \n",
       "75%      36.000000   7287.000000     5.000000   1548.000000     2.000000   \n",
       "max      74.000000  19083.000000   141.000000   4849.000000     6.000000   \n",
       "\n",
       "           Shops_1  \n",
       "count  7000.000000  \n",
       "mean      4.228714  \n",
       "std       4.780312  \n",
       "min       0.000000  \n",
       "25%       1.000000  \n",
       "50%       3.000000  \n",
       "75%       6.000000  \n",
       "max      23.000000  "
      ]
     },
     "execution_count": 1307,
     "metadata": {},
     "output_type": "execute_result"
    }
   ],
   "source": [
    "X_train.describe()"
   ]
  },
  {
   "cell_type": "markdown",
   "id": "cc6f27d5",
   "metadata": {},
   "source": [
    "##### Для начала надо \"причесать\" имеющиеся не НаН значения, далее нужно избавиться от НаН значений.\n",
    "- Id можно исключить из анализа, т.к. он не несет полезной информации, только индекс. Или использовать вместо индекса строк.\n",
    "- District минимальный 0, врядли это верное значение, т.к. это скорее категориальное значение можно заменить модой\n",
    "- Rooms 0 врядли верное значение, даже студия считается минимум 1 комнатой. Можно высчитать среднюю площадь на комнату из имеющихся данных и вставлять в 0 значения Lifesquare / среднее площадь и округлить до целого. Также стоит проверить максимальное значеие комнат. При 0.75 квантиле == 2, скорее всего это выброс.  \n",
    "- Square минимальная и максимальная площадь подозрительны\n",
    "- LifeSquare  также минимальная и максимальное значение подозрительны, вообще максимальная жилая площадь не может быть выше общей.\n",
    "- KitchenSquare таже история с максимальным и минимальным. \n",
    "- Floor вроде все ок, разве что проверить максимальное значение..\n",
    "- HouseFloor 0 этажей не может быть. \n",
    "- HouseYear посмотреть колонку отдельно\n",
    "- Ecology_1\tSocial_1\tSocial_2\tSocial_3\tHealthcare_1\tHelthcare_2\tShops_1 не понятно, что за показатели, так что нужно посмотреть выбросы при помощи правила 3сигм, посмотреть через боксплот, и решить, что делать с выбросами. "
   ]
  },
  {
   "cell_type": "markdown",
   "id": "133659d0",
   "metadata": {},
   "source": [
    "#### Id"
   ]
  },
  {
   "cell_type": "code",
   "execution_count": 1308,
   "id": "bffd8ba0",
   "metadata": {},
   "outputs": [],
   "source": [
    "X_train = X_train.set_index('Id')"
   ]
  },
  {
   "cell_type": "markdown",
   "id": "e819968a",
   "metadata": {},
   "source": [
    "#### DistrictId"
   ]
  },
  {
   "cell_type": "code",
   "execution_count": 1309,
   "id": "8ef074fc",
   "metadata": {},
   "outputs": [
    {
     "data": {
      "text/plain": [
       "27     609\n",
       "1      459\n",
       "23     396\n",
       "6      351\n",
       "9      204\n",
       "      ... \n",
       "181      1\n",
       "117      1\n",
       "196      1\n",
       "112      1\n",
       "207      1\n",
       "Name: DistrictId, Length: 205, dtype: int64"
      ]
     },
     "execution_count": 1309,
     "metadata": {},
     "output_type": "execute_result"
    }
   ],
   "source": [
    "X_train.query(\"DistrictId == 27\").head(10)\n",
    "X_train['DistrictId'].value_counts()"
   ]
  },
  {
   "cell_type": "markdown",
   "id": "b3189fd1",
   "metadata": {},
   "source": [
    "В целом наблюдения похожи, так что скорее всего 0 это не выброс, а счет идет с 0 включительно. Т.к. этот признак номинальный, надо его привести к количественному. Как вариант, нормализовать по доли. Таким образом, мы номер района превратим в индекс популярности."
   ]
  },
  {
   "cell_type": "code",
   "execution_count": 1310,
   "id": "f66a6884",
   "metadata": {},
   "outputs": [],
   "source": [
    "distict_dict = X_train[\"DistrictId\"].value_counts(normalize=True).to_dict()"
   ]
  },
  {
   "cell_type": "code",
   "execution_count": 1311,
   "id": "0b31c5e3",
   "metadata": {},
   "outputs": [],
   "source": [
    "def districtid_to_stat(X):\n",
    "    districtid = X[\"DistrictId\"].to_list()\n",
    "    for i, el in enumerate(districtid):\n",
    "        if el in distict_dict:\n",
    "            districtid[i] = distict_dict[el]\n",
    "        else:\n",
    "            districtid[i] = min(distict_dict.values())\n",
    "    X[\"DistrictId\"] = districtid\n",
    "    return X"
   ]
  },
  {
   "cell_type": "code",
   "execution_count": 1312,
   "id": "6c6cbc56",
   "metadata": {},
   "outputs": [],
   "source": [
    "X_train = districtid_to_stat(X_train)"
   ]
  },
  {
   "cell_type": "markdown",
   "id": "589fca7d",
   "metadata": {},
   "source": [
    "#### Rooms"
   ]
  },
  {
   "cell_type": "code",
   "execution_count": 1313,
   "id": "a661d0af",
   "metadata": {},
   "outputs": [
    {
     "data": {
      "text/plain": [
       "2.0     2724\n",
       "1.0     2590\n",
       "3.0     1555\n",
       "4.0      107\n",
       "5.0       12\n",
       "0.0        8\n",
       "10.0       2\n",
       "6.0        1\n",
       "19.0       1\n",
       "Name: Rooms, dtype: int64"
      ]
     },
     "execution_count": 1313,
     "metadata": {},
     "output_type": "execute_result"
    }
   ],
   "source": [
    "X_train['Rooms'].value_counts()"
   ]
  },
  {
   "cell_type": "code",
   "execution_count": 1314,
   "id": "3e24b801",
   "metadata": {},
   "outputs": [
    {
     "data": {
      "text/plain": [
       "<AxesSubplot:xlabel='Rooms'>"
      ]
     },
     "execution_count": 1314,
     "metadata": {},
     "output_type": "execute_result"
    },
    {
     "data": {
      "image/png": "[encoded data removed]",
      "text/plain": [
       "<Figure size 432x288 with 1 Axes>"
      ]
     },
     "metadata": {
      "needs_background": "light"
     },
     "output_type": "display_data"
    }
   ],
   "source": [
    "sns.boxplot(X_train['Rooms'])"
   ]
  },
  {
   "cell_type": "markdown",
   "id": "4fda8f42",
   "metadata": {},
   "source": [
    "Хоть по статистике и получается, что 4 и более комнат являются выбросами, но после просмотра данных по этим квартирам становится ясно, что 4 комнаты, это просто большие квартиры, а выбросы это  5 и более комнат.\n",
    "По этому обработаем выбросы, заменив на ближайшее нормальное значение, и создадим доп признак для выделения изменения.  "
   ]
  },
  {
   "cell_type": "code",
   "execution_count": 1315,
   "id": "afe02c20",
   "metadata": {},
   "outputs": [],
   "source": [
    "X_train[\"Rooms_outlier\"] = 0\n",
    "X_train.loc[(X_train[\"Rooms\"] >= 5), \"Rooms_outlier\"] = 1\n",
    "X_train.loc[(X_train[\"Rooms\"] >= 5), \"Rooms\"] = 4\n"
   ]
  },
  {
   "cell_type": "markdown",
   "id": "77450a4e",
   "metadata": {},
   "source": [
    "#### Square"
   ]
  },
  {
   "cell_type": "code",
   "execution_count": 1316,
   "id": "f8bf01f8",
   "metadata": {},
   "outputs": [
    {
     "data": {
      "text/plain": [
       "count    7000.000000\n",
       "mean       56.349125\n",
       "std        21.555962\n",
       "min         1.988943\n",
       "25%        41.784348\n",
       "50%        52.413246\n",
       "75%        65.981638\n",
       "max       641.065186\n",
       "Name: Square, dtype: float64"
      ]
     },
     "execution_count": 1316,
     "metadata": {},
     "output_type": "execute_result"
    }
   ],
   "source": [
    "X_train[\"Square\"].describe()"
   ]
  },
  {
   "cell_type": "code",
   "execution_count": 1317,
   "id": "a3cf94f4",
   "metadata": {},
   "outputs": [],
   "source": [
    "\n",
    "max_square = np.quantile(X_train[\"Square\"], q=0.975)\n",
    "min_square = np.quantile(X_train[\"Square\"], q=0.025)\n",
    "outlier_square = (X_train[\"Square\"] > max_square) | (X_train[\"Square\"] < min_square)\n",
    "X_train[\"Square_outlier\"] = 0\n",
    "X_train.loc[outlier_square, \"Square_outlier\"] = 1\n",
    "X_train.loc[X_train[\"Square\"] > max_square, \"Square\"] = max_square\n",
    "X_train.loc[X_train[\"Square\"] < min_square, \"Square\"] = min_square\n"
   ]
  },
  {
   "cell_type": "code",
   "execution_count": 1318,
   "id": "c1469550",
   "metadata": {},
   "outputs": [
    {
     "data": {
      "text/plain": [
       "<AxesSubplot:xlabel='Square', ylabel='Density'>"
      ]
     },
     "execution_count": 1318,
     "metadata": {},
     "output_type": "execute_result"
    },
    {
     "data": {
      "image/png": "[encoded data removed]",
      "text/plain": [
       "<Figure size 432x288 with 1 Axes>"
      ]
     },
     "metadata": {
      "needs_background": "light"
     },
     "output_type": "display_data"
    }
   ],
   "source": [
    "sns.distplot(X_train[\"Square\"] , bins=25)"
   ]
  },
  {
   "cell_type": "markdown",
   "id": "480bb1f1",
   "metadata": {},
   "source": [
    "#### KitchenSquare"
   ]
  },
  {
   "cell_type": "markdown",
   "id": "a3f38839",
   "metadata": {},
   "source": [
    "Очень странное распределение площади кухни, 0 и 1 метр. Однако таких значений очень много..."
   ]
  },
  {
   "cell_type": "code",
   "execution_count": 1319,
   "id": "9a78b9b4",
   "metadata": {},
   "outputs": [
    {
     "data": {
      "text/plain": [
       "1.0     1711\n",
       "8.0      922\n",
       "5.0      840\n",
       "10.0     757\n",
       "6.0      723\n",
       "9.0      584\n",
       "0.0      494\n",
       "7.0      410\n",
       "13.0     176\n",
       "12.0     174\n",
       "11.0     166\n",
       "4.0       22\n",
       "3.0       17\n",
       "2.0        4\n",
       "Name: KitchenSquare, dtype: int64"
      ]
     },
     "execution_count": 1319,
     "metadata": {},
     "output_type": "execute_result"
    }
   ],
   "source": [
    "max_square_k = np.quantile(X_train[\"KitchenSquare\"], q=0.975)\n",
    "min_square_k = np.quantile(X_train[\"KitchenSquare\"], q=0.025)\n",
    "outlier_square_k = (X_train[\"KitchenSquare\"] > max_square_k) | (X_train[\"KitchenSquare\"] < min_square_k)\n",
    "X_train[\"KitchenSquare_outlier\"] = 0\n",
    "X_train.loc[outlier_square_k, \"KitchenSquare_outlier\"] = 1\n",
    "X_train.loc[X_train[\"KitchenSquare\"] > max_square_k, \"KitchenSquare\"] = max_square_k\n",
    "X_train.loc[X_train[\"KitchenSquare\"] < min_square_k, \"KitchenSquare\"] = min_square_k\n",
    "X_train[\"KitchenSquare\"].value_counts()"
   ]
  },
  {
   "cell_type": "code",
   "execution_count": 1320,
   "id": "4803fff3",
   "metadata": {},
   "outputs": [],
   "source": [
    "X_train[\"KitchenSquare_nan\"] = 0\n",
    "X_train.loc[X_train[\"KitchenSquare\"].isnull(), \"KitchenSquare_nan\"] = 1\n",
    "X_train.loc[X_train[\"KitchenSquare\"].isnull(), \"KitchenSquare\"] = X_train[\"KitchenSquare\"].median()"
   ]
  },
  {
   "cell_type": "markdown",
   "id": "c91e25f9",
   "metadata": {},
   "source": [
    "#### LifeSquare"
   ]
  },
  {
   "cell_type": "code",
   "execution_count": 1321,
   "id": "ab63c9dc",
   "metadata": {},
   "outputs": [],
   "source": [
    "max_square_l = np.quantile(X_train.loc[X_train[\"LifeSquare\"].notnull(), \"LifeSquare\" ], q=0.975)\n",
    "min_square_l = np.quantile(X_train.loc[X_train[\"LifeSquare\"].notnull(), \"LifeSquare\" ], q=0.025)\n",
    "outlier_square_l = (X_train[\"LifeSquare\"] > max_square_l) | (X_train[\"LifeSquare\"] < min_square_l)\n",
    "X_train[\"LifeSquare_outlier\"] = 0\n",
    "X_train.loc[outlier_square_l, \"LifeSquare_outlier\"] = 1\n",
    "X_train.loc[X_train[\"LifeSquare\"] > max_square_l, \"LifeSquare\"] = max_square_l\n",
    "X_train.loc[X_train[\"LifeSquare\"] < min_square_l, \"LifeSquare\"] = min_square_l\n"
   ]
  },
  {
   "cell_type": "code",
   "execution_count": 1322,
   "id": "0f520d5e",
   "metadata": {},
   "outputs": [
    {
     "data": {
      "text/plain": [
       "<AxesSubplot:xlabel='LifeSquare', ylabel='Density'>"
      ]
     },
     "execution_count": 1322,
     "metadata": {},
     "output_type": "execute_result"
    },
    {
     "data": {
      "image/png": "[encoded data removed]",
      "text/plain": [
       "<Figure size 432x288 with 1 Axes>"
      ]
     },
     "metadata": {
      "needs_background": "light"
     },
     "output_type": "display_data"
    }
   ],
   "source": [
    "sns.distplot(X_train[\"LifeSquare\"]  , bins=20)"
   ]
  },
  {
   "cell_type": "markdown",
   "id": "67556f47",
   "metadata": {},
   "source": [
    "Заполняя Нан значения средним или медианой по признаку, получается большой перекос, т.к. пропущенных значений слишком много.  Мы можем расчитать средний коэффициент отношения жилой площади к общей площади, и используя его спрогнозировать пропущенные значения."
   ]
  },
  {
   "cell_type": "code",
   "execution_count": 1323,
   "id": "d32e357b",
   "metadata": {},
   "outputs": [],
   "source": [
    "X_train[\"LifeSquare_nan\"] = 0\n",
    "X_train.loc[X_train[\"LifeSquare\"].isnull(), \"LifeSquare_nan\"] = 1"
   ]
  },
  {
   "cell_type": "code",
   "execution_count": 1324,
   "id": "7db1d27c",
   "metadata": {},
   "outputs": [],
   "source": [
    "life_square_coef =  X_train[\"LifeSquare\"].mean() / X_train[\"Square\"].mean()\n",
    "X_train.loc[X_train[\"LifeSquare\"].isnull(), \"LifeSquare\"] = X_train.loc[X_train[\"LifeSquare\"].isnull(), \"Square\"] * life_square_coef"
   ]
  },
  {
   "cell_type": "code",
   "execution_count": 1325,
   "id": "9eb28673",
   "metadata": {},
   "outputs": [
    {
     "data": {
      "text/plain": [
       "<AxesSubplot:xlabel='LifeSquare', ylabel='Density'>"
      ]
     },
     "execution_count": 1325,
     "metadata": {},
     "output_type": "execute_result"
    },
    {
     "data": {
      "image/png": "[encoded data removed]",
      "text/plain": [
       "<Figure size 432x288 with 1 Axes>"
      ]
     },
     "metadata": {
      "needs_background": "light"
     },
     "output_type": "display_data"
    }
   ],
   "source": [
    "sns.distplot(X_train[\"LifeSquare\"]  , bins=20)"
   ]
  },
  {
   "cell_type": "markdown",
   "id": "7195ced6",
   "metadata": {},
   "source": [
    "График даже слегка подровнялся."
   ]
  },
  {
   "cell_type": "code",
   "execution_count": 1326,
   "id": "8145cb93",
   "metadata": {},
   "outputs": [
    {
     "name": "stdout",
     "output_type": "stream",
     "text": [
      "<class 'pandas.core.frame.DataFrame'>\n",
      "Int64Index: 7000 entries, 223 to 12518\n",
      "Data columns (total 24 columns):\n",
      " #   Column                 Non-Null Count  Dtype   \n",
      "---  ------                 --------------  -----   \n",
      " 0   DistrictId             7000 non-null   float64 \n",
      " 1   Rooms                  7000 non-null   float32 \n",
      " 2   Square                 7000 non-null   float32 \n",
      " 3   LifeSquare             7000 non-null   float32 \n",
      " 4   KitchenSquare          7000 non-null   float32 \n",
      " 5   Floor                  7000 non-null   int8    \n",
      " 6   HouseFloor             7000 non-null   float32 \n",
      " 7   HouseYear              7000 non-null   int32   \n",
      " 8   Ecology_1              7000 non-null   float32 \n",
      " 9   Ecology_2              7000 non-null   category\n",
      " 10  Ecology_3              7000 non-null   category\n",
      " 11  Social_1               7000 non-null   int8    \n",
      " 12  Social_2               7000 non-null   int16   \n",
      " 13  Social_3               7000 non-null   int16   \n",
      " 14  Healthcare_1           3622 non-null   float32 \n",
      " 15  Helthcare_2            7000 non-null   int8    \n",
      " 16  Shops_1                7000 non-null   int8    \n",
      " 17  Shops_2                7000 non-null   category\n",
      " 18  Rooms_outlier          7000 non-null   int64   \n",
      " 19  Square_outlier         7000 non-null   int64   \n",
      " 20  KitchenSquare_outlier  7000 non-null   int64   \n",
      " 21  KitchenSquare_nan      7000 non-null   int64   \n",
      " 22  LifeSquare_outlier     7000 non-null   int64   \n",
      " 23  LifeSquare_nan         7000 non-null   int64   \n",
      "dtypes: category(3), float32(7), float64(1), int16(2), int32(1), int64(6), int8(4)\n",
      "memory usage: 731.8 KB\n"
     ]
    }
   ],
   "source": [
    "X_train.info()"
   ]
  },
  {
   "cell_type": "markdown",
   "id": "365ccf78",
   "metadata": {},
   "source": [
    "Исходя из графиков жилье явно делится на 3 кластера."
   ]
  },
  {
   "cell_type": "markdown",
   "id": "8180f6fa",
   "metadata": {},
   "source": [
    "#### Floor"
   ]
  },
  {
   "cell_type": "markdown",
   "id": "66132114",
   "metadata": {},
   "source": [
    "Как правило первый и последний этажи стоят дешевле, можно это пометить.\n"
   ]
  },
  {
   "cell_type": "code",
   "execution_count": 1327,
   "id": "795b3b5c",
   "metadata": {},
   "outputs": [],
   "source": [
    "bad_floor = (X_train[\"Floor\"] == 1) | (X_train[\"Floor\"] == X_train[\"HouseFloor\"])\n",
    "X_train[\"Bad_floor\"] = 0\n",
    "X_train.loc[bad_floor, \"Bad_floor\"] = 1"
   ]
  },
  {
   "cell_type": "raw",
   "id": "9cdcbdbd",
   "metadata": {},
   "source": [
    "max_square_f = np.quantile(X_train.loc[X_train[\"Floor\"].notnull(), \"Floor\" ], q=0.975)\n",
    "min_square_f = np.quantile(X_train.loc[X_train[\"Floor\"].notnull(), \"Floor\" ], q=0.025)\n",
    "outlier_square_f = (X_train[\"Floor\"] > max_square_f) | (X_train[\"Floor\"] < min_square_f)\n",
    "X_train[\"Floor_outlier\"] = 0\n",
    "X_train.loc[outlier_square_f, \"Floor_outlier\"] = 1\n",
    "X_train.loc[outlier_square_f, \"Floor\"] = X_train[\"Floor\"].median()"
   ]
  },
  {
   "cell_type": "code",
   "execution_count": 1328,
   "id": "800f9264",
   "metadata": {},
   "outputs": [
    {
     "data": {
      "text/plain": [
       "4     664\n",
       "5     635\n",
       "3     612\n",
       "6     565\n",
       "7     510\n",
       "8     451\n",
       "2     429\n",
       "9     408\n",
       "10    399\n",
       "11    322\n",
       "12    313\n",
       "13    287\n",
       "14    242\n",
       "16    201\n",
       "15    200\n",
       "17    169\n",
       "1     163\n",
       "18    136\n",
       "19     75\n",
       "21     42\n",
       "20     41\n",
       "22     36\n",
       "24     35\n",
       "25     30\n",
       "26     16\n",
       "23     14\n",
       "27      3\n",
       "28      1\n",
       "33      1\n",
       "Name: Floor, dtype: int64"
      ]
     },
     "execution_count": 1328,
     "metadata": {},
     "output_type": "execute_result"
    }
   ],
   "source": [
    "X_train[\"Floor\"].value_counts()"
   ]
  },
  {
   "cell_type": "code",
   "execution_count": 1329,
   "id": "0aee33f0",
   "metadata": {},
   "outputs": [
    {
     "data": {
      "text/plain": [
       "<AxesSubplot:xlabel='Floor', ylabel='Density'>"
      ]
     },
     "execution_count": 1329,
     "metadata": {},
     "output_type": "execute_result"
    },
    {
     "data": {
      "image/png": "[encoded data removed]",
      "text/plain": [
       "<Figure size 432x288 with 1 Axes>"
      ]
     },
     "metadata": {
      "needs_background": "light"
     },
     "output_type": "display_data"
    }
   ],
   "source": [
    "sns.distplot(X_train[\"Floor\"]  , bins=20)"
   ]
  },
  {
   "cell_type": "markdown",
   "id": "dcb159c1",
   "metadata": {},
   "source": [
    "#### HouseFloor\t"
   ]
  },
  {
   "cell_type": "code",
   "execution_count": 1330,
   "id": "dd749042",
   "metadata": {},
   "outputs": [
    {
     "data": {
      "text/plain": [
       "<AxesSubplot:xlabel='HouseFloor'>"
      ]
     },
     "execution_count": 1330,
     "metadata": {},
     "output_type": "execute_result"
    },
    {
     "data": {
      "image/png": "[encoded data removed]",
      "text/plain": [
       "<Figure size 432x288 with 1 Axes>"
      ]
     },
     "metadata": {
      "needs_background": "light"
     },
     "output_type": "display_data"
    }
   ],
   "source": [
    "sns.boxplot(X_train[\"HouseFloor\"])"
   ]
  },
  {
   "cell_type": "raw",
   "id": "af2157d4",
   "metadata": {},
   "source": [
    "X_train = X_train.loc[X_train[\"HouseFloor\"] <= 40] #удалим небоскребы"
   ]
  },
  {
   "cell_type": "raw",
   "id": "32b087f1",
   "metadata": {},
   "source": [
    "max_square_f = np.quantile(X_train.loc[X_train[\"HouseFloor\"].notnull(), \"HouseFloor\" ], q=0.975)\n",
    "min_square_f = np.quantile(X_train.loc[X_train[\"HouseFloor\"].notnull(), \"HouseFloor\" ], q=0.025)\n",
    "outlier_square_f = (X_train[\"HouseFloor\"] > max_square_f) | (X_train[\"HouseFloor\"] < min_square_f)\n",
    "X_train[\"HouseFloor_outlier\"] = 0\n",
    "X_train.loc[outlier_square_f, \"Floor_outlier\"] = 1\n",
    "X_train.loc[outlier_square_f, \"Floor\"] = X_train[\"Floor\"].median()"
   ]
  },
  {
   "cell_type": "markdown",
   "id": "7120739c",
   "metadata": {},
   "source": [
    "Пометим высотки"
   ]
  },
  {
   "cell_type": "code",
   "execution_count": 1331,
   "id": "e8502ac1",
   "metadata": {},
   "outputs": [],
   "source": [
    "X_train[\"HR_building\"] = 0\n",
    "X_train.loc[X_train[\"HouseFloor\"] > 20, \"HR_building\"] = 1"
   ]
  },
  {
   "cell_type": "code",
   "execution_count": 1332,
   "id": "2bcbf671",
   "metadata": {},
   "outputs": [
    {
     "data": {
      "text/html": [
       "<div>\n",
       "<style scoped>\n",
       "    .dataframe tbody tr th:only-of-type {\n",
       "        vertical-align: middle;\n",
       "    }\n",
       "\n",
       "    .dataframe tbody tr th {\n",
       "        vertical-align: top;\n",
       "    }\n",
       "\n",
       "    .dataframe thead th {\n",
       "        text-align: right;\n",
       "    }\n",
       "</style>\n",
       "<table border=\"1\" class=\"dataframe\">\n",
       "  <thead>\n",
       "    <tr style=\"text-align: right;\">\n",
       "      <th></th>\n",
       "      <th>DistrictId</th>\n",
       "      <th>Rooms</th>\n",
       "      <th>Square</th>\n",
       "      <th>LifeSquare</th>\n",
       "      <th>KitchenSquare</th>\n",
       "      <th>Floor</th>\n",
       "      <th>HouseFloor</th>\n",
       "      <th>HouseYear</th>\n",
       "      <th>Ecology_1</th>\n",
       "      <th>Ecology_2</th>\n",
       "      <th>Ecology_3</th>\n",
       "      <th>Social_1</th>\n",
       "      <th>Social_2</th>\n",
       "      <th>Social_3</th>\n",
       "      <th>Healthcare_1</th>\n",
       "      <th>Helthcare_2</th>\n",
       "      <th>Shops_1</th>\n",
       "      <th>Shops_2</th>\n",
       "      <th>Rooms_outlier</th>\n",
       "      <th>Square_outlier</th>\n",
       "      <th>KitchenSquare_outlier</th>\n",
       "      <th>KitchenSquare_nan</th>\n",
       "      <th>LifeSquare_outlier</th>\n",
       "      <th>LifeSquare_nan</th>\n",
       "      <th>Bad_floor</th>\n",
       "      <th>HR_building</th>\n",
       "    </tr>\n",
       "    <tr>\n",
       "      <th>Id</th>\n",
       "      <th></th>\n",
       "      <th></th>\n",
       "      <th></th>\n",
       "      <th></th>\n",
       "      <th></th>\n",
       "      <th></th>\n",
       "      <th></th>\n",
       "      <th></th>\n",
       "      <th></th>\n",
       "      <th></th>\n",
       "      <th></th>\n",
       "      <th></th>\n",
       "      <th></th>\n",
       "      <th></th>\n",
       "      <th></th>\n",
       "      <th></th>\n",
       "      <th></th>\n",
       "      <th></th>\n",
       "      <th></th>\n",
       "      <th></th>\n",
       "      <th></th>\n",
       "      <th></th>\n",
       "      <th></th>\n",
       "      <th></th>\n",
       "      <th></th>\n",
       "      <th></th>\n",
       "    </tr>\n",
       "  </thead>\n",
       "  <tbody>\n",
       "    <tr>\n",
       "      <th>770</th>\n",
       "      <td>0.008429</td>\n",
       "      <td>0.0</td>\n",
       "      <td>49.483501</td>\n",
       "      <td>31.776789</td>\n",
       "      <td>0.0</td>\n",
       "      <td>16</td>\n",
       "      <td>0.0</td>\n",
       "      <td>2015</td>\n",
       "      <td>0.118537</td>\n",
       "      <td>B</td>\n",
       "      <td>B</td>\n",
       "      <td>30</td>\n",
       "      <td>6207</td>\n",
       "      <td>1</td>\n",
       "      <td>1183.0</td>\n",
       "      <td>1</td>\n",
       "      <td>0</td>\n",
       "      <td>B</td>\n",
       "      <td>0</td>\n",
       "      <td>0</td>\n",
       "      <td>0</td>\n",
       "      <td>0</td>\n",
       "      <td>0</td>\n",
       "      <td>1</td>\n",
       "      <td>0</td>\n",
       "      <td>0</td>\n",
       "    </tr>\n",
       "    <tr>\n",
       "      <th>4579</th>\n",
       "      <td>0.003000</td>\n",
       "      <td>2.0</td>\n",
       "      <td>48.148067</td>\n",
       "      <td>30.919214</td>\n",
       "      <td>0.0</td>\n",
       "      <td>6</td>\n",
       "      <td>0.0</td>\n",
       "      <td>1977</td>\n",
       "      <td>0.236108</td>\n",
       "      <td>B</td>\n",
       "      <td>B</td>\n",
       "      <td>16</td>\n",
       "      <td>3893</td>\n",
       "      <td>27</td>\n",
       "      <td>NaN</td>\n",
       "      <td>3</td>\n",
       "      <td>10</td>\n",
       "      <td>B</td>\n",
       "      <td>0</td>\n",
       "      <td>0</td>\n",
       "      <td>0</td>\n",
       "      <td>0</td>\n",
       "      <td>0</td>\n",
       "      <td>1</td>\n",
       "      <td>0</td>\n",
       "      <td>0</td>\n",
       "    </tr>\n",
       "    <tr>\n",
       "      <th>5383</th>\n",
       "      <td>0.008714</td>\n",
       "      <td>3.0</td>\n",
       "      <td>98.994911</td>\n",
       "      <td>63.571499</td>\n",
       "      <td>0.0</td>\n",
       "      <td>3</td>\n",
       "      <td>0.0</td>\n",
       "      <td>1977</td>\n",
       "      <td>0.041125</td>\n",
       "      <td>B</td>\n",
       "      <td>B</td>\n",
       "      <td>46</td>\n",
       "      <td>9515</td>\n",
       "      <td>5</td>\n",
       "      <td>NaN</td>\n",
       "      <td>1</td>\n",
       "      <td>10</td>\n",
       "      <td>B</td>\n",
       "      <td>0</td>\n",
       "      <td>0</td>\n",
       "      <td>0</td>\n",
       "      <td>0</td>\n",
       "      <td>0</td>\n",
       "      <td>1</td>\n",
       "      <td>0</td>\n",
       "      <td>0</td>\n",
       "    </tr>\n",
       "    <tr>\n",
       "      <th>10414</th>\n",
       "      <td>0.026000</td>\n",
       "      <td>1.0</td>\n",
       "      <td>46.416927</td>\n",
       "      <td>29.807528</td>\n",
       "      <td>0.0</td>\n",
       "      <td>8</td>\n",
       "      <td>0.0</td>\n",
       "      <td>1977</td>\n",
       "      <td>0.072158</td>\n",
       "      <td>B</td>\n",
       "      <td>B</td>\n",
       "      <td>2</td>\n",
       "      <td>629</td>\n",
       "      <td>1</td>\n",
       "      <td>NaN</td>\n",
       "      <td>0</td>\n",
       "      <td>0</td>\n",
       "      <td>A</td>\n",
       "      <td>0</td>\n",
       "      <td>0</td>\n",
       "      <td>0</td>\n",
       "      <td>0</td>\n",
       "      <td>0</td>\n",
       "      <td>1</td>\n",
       "      <td>0</td>\n",
       "      <td>0</td>\n",
       "    </tr>\n",
       "    <tr>\n",
       "      <th>9194</th>\n",
       "      <td>0.087000</td>\n",
       "      <td>1.0</td>\n",
       "      <td>51.018288</td>\n",
       "      <td>22.370991</td>\n",
       "      <td>0.0</td>\n",
       "      <td>4</td>\n",
       "      <td>0.0</td>\n",
       "      <td>2016</td>\n",
       "      <td>0.017647</td>\n",
       "      <td>B</td>\n",
       "      <td>B</td>\n",
       "      <td>2</td>\n",
       "      <td>469</td>\n",
       "      <td>0</td>\n",
       "      <td>NaN</td>\n",
       "      <td>0</td>\n",
       "      <td>0</td>\n",
       "      <td>B</td>\n",
       "      <td>0</td>\n",
       "      <td>0</td>\n",
       "      <td>0</td>\n",
       "      <td>0</td>\n",
       "      <td>0</td>\n",
       "      <td>0</td>\n",
       "      <td>0</td>\n",
       "      <td>0</td>\n",
       "    </tr>\n",
       "  </tbody>\n",
       "</table>\n",
       "</div>"
      ],
      "text/plain": [
       "       DistrictId  Rooms     Square  LifeSquare  KitchenSquare  Floor  \\\n",
       "Id                                                                      \n",
       "770      0.008429    0.0  49.483501   31.776789            0.0     16   \n",
       "4579     0.003000    2.0  48.148067   30.919214            0.0      6   \n",
       "5383     0.008714    3.0  98.994911   63.571499            0.0      3   \n",
       "10414    0.026000    1.0  46.416927   29.807528            0.0      8   \n",
       "9194     0.087000    1.0  51.018288   22.370991            0.0      4   \n",
       "\n",
       "       HouseFloor  HouseYear  Ecology_1 Ecology_2 Ecology_3  Social_1  \\\n",
       "Id                                                                      \n",
       "770           0.0       2015   0.118537         B         B        30   \n",
       "4579          0.0       1977   0.236108         B         B        16   \n",
       "5383          0.0       1977   0.041125         B         B        46   \n",
       "10414         0.0       1977   0.072158         B         B         2   \n",
       "9194          0.0       2016   0.017647         B         B         2   \n",
       "\n",
       "       Social_2  Social_3  Healthcare_1  Helthcare_2  Shops_1 Shops_2  \\\n",
       "Id                                                                      \n",
       "770        6207         1        1183.0            1        0       B   \n",
       "4579       3893        27           NaN            3       10       B   \n",
       "5383       9515         5           NaN            1       10       B   \n",
       "10414       629         1           NaN            0        0       A   \n",
       "9194        469         0           NaN            0        0       B   \n",
       "\n",
       "       Rooms_outlier  Square_outlier  KitchenSquare_outlier  \\\n",
       "Id                                                            \n",
       "770                0               0                      0   \n",
       "4579               0               0                      0   \n",
       "5383               0               0                      0   \n",
       "10414              0               0                      0   \n",
       "9194               0               0                      0   \n",
       "\n",
       "       KitchenSquare_nan  LifeSquare_outlier  LifeSquare_nan  Bad_floor  \\\n",
       "Id                                                                        \n",
       "770                    0                   0               1          0   \n",
       "4579                   0                   0               1          0   \n",
       "5383                   0                   0               1          0   \n",
       "10414                  0                   0               1          0   \n",
       "9194                   0                   0               0          0   \n",
       "\n",
       "       HR_building  \n",
       "Id                  \n",
       "770              0  \n",
       "4579             0  \n",
       "5383             0  \n",
       "10414            0  \n",
       "9194             0  "
      ]
     },
     "execution_count": 1332,
     "metadata": {},
     "output_type": "execute_result"
    }
   ],
   "source": [
    "X_train.loc[X_train[\"HouseFloor\"] == 0].head(5) # 0 этажей явно ошибка"
   ]
  },
  {
   "cell_type": "code",
   "execution_count": 1333,
   "id": "74e33987",
   "metadata": {},
   "outputs": [],
   "source": [
    "X_train[\"HouseFloor_outlier\"] = 0\n",
    "X_train.loc[X_train[\"HouseFloor\"] == 0, \"HouseFloor_outlier\"] = 1\n",
    "X_train.loc[X_train[\"HouseFloor\"] == 0, \"HouseFloor\"] = X_train.loc[X_train[\"HouseFloor\"] == 0, \"Floor\"]"
   ]
  },
  {
   "cell_type": "markdown",
   "id": "2a377896",
   "metadata": {},
   "source": [
    "#### HouseYear"
   ]
  },
  {
   "cell_type": "code",
   "execution_count": 1334,
   "id": "94e527bc",
   "metadata": {},
   "outputs": [
    {
     "data": {
      "text/plain": [
       "44     1846\n",
       "5       226\n",
       "6       216\n",
       "4       211\n",
       "7       145\n",
       "       ... \n",
       "81        1\n",
       "89        1\n",
       "93        1\n",
       "107       1\n",
       "111       1\n",
       "Name: HouseYear, Length: 95, dtype: int64"
      ]
     },
     "execution_count": 1334,
     "metadata": {},
     "output_type": "execute_result"
    }
   ],
   "source": [
    "from datetime import datetime\n",
    "x = datetime.now()\n",
    "X_train.loc[X_train[\"HouseYear\"] > x.year, \"HouseYear\"] = X_train[\"HouseYear\"].median()\n",
    "X_train[\"HouseYear\"] = x.year - X_train[\"HouseYear\"]\n",
    "X_train[\"HouseYear\"].value_counts()"
   ]
  },
  {
   "cell_type": "code",
   "execution_count": 1335,
   "id": "11b3ddbe",
   "metadata": {},
   "outputs": [
    {
     "data": {
      "text/plain": [
       "<AxesSubplot:>"
      ]
     },
     "execution_count": 1335,
     "metadata": {},
     "output_type": "execute_result"
    },
    {
     "data": {
      "image/png": "[encoded data removed]",
      "text/plain": [
       "<Figure size 432x288 with 1 Axes>"
      ]
     },
     "metadata": {
      "needs_background": "light"
     },
     "output_type": "display_data"
    }
   ],
   "source": [
    "X_train[\"HouseYear\"].hist(bins=25)"
   ]
  },
  {
   "cell_type": "markdown",
   "id": "46939260",
   "metadata": {},
   "source": [
    "Было бы логично раскидать по категориям относительно года постройки."
   ]
  },
  {
   "cell_type": "code",
   "execution_count": 1336,
   "id": "8d1c35f6",
   "metadata": {},
   "outputs": [],
   "source": [
    "\n",
    "X_train['New_house'] = 0\n",
    "X_train.loc[X_train['HouseYear'] <= 5, 'New_house'] = 1  \n"
   ]
  },
  {
   "cell_type": "markdown",
   "id": "653ee7ca",
   "metadata": {},
   "source": [
    "#### Healthcare_1 "
   ]
  },
  {
   "cell_type": "markdown",
   "id": "3dad73fc",
   "metadata": {},
   "source": [
    "Слишком много пропусков, выкидываем."
   ]
  },
  {
   "cell_type": "code",
   "execution_count": 1337,
   "id": "b740476e",
   "metadata": {},
   "outputs": [],
   "source": [
    "X_train = X_train.drop('Healthcare_1', axis=1)"
   ]
  },
  {
   "cell_type": "code",
   "execution_count": 1338,
   "id": "a6c0d743",
   "metadata": {},
   "outputs": [],
   "source": [
    "X_train['Ecology_2'] = (X_train['Ecology_2'] == 'A').astype(int)\n",
    "X_train['Ecology_3'] = (X_train['Ecology_3'] == 'A').astype(int)\n",
    "X_train['Shops_2'] = (X_train['Shops_2'] == 'A').astype(int)"
   ]
  },
  {
   "cell_type": "code",
   "execution_count": 1339,
   "id": "e9a4cefb",
   "metadata": {},
   "outputs": [
    {
     "name": "stdout",
     "output_type": "stream",
     "text": [
      "<class 'pandas.core.frame.DataFrame'>\n",
      "Int64Index: 7000 entries, 223 to 12518\n",
      "Data columns (total 27 columns):\n",
      " #   Column                 Non-Null Count  Dtype  \n",
      "---  ------                 --------------  -----  \n",
      " 0   DistrictId             7000 non-null   float64\n",
      " 1   Rooms                  7000 non-null   float32\n",
      " 2   Square                 7000 non-null   float32\n",
      " 3   LifeSquare             7000 non-null   float32\n",
      " 4   KitchenSquare          7000 non-null   float32\n",
      " 5   Floor                  7000 non-null   int8   \n",
      " 6   HouseFloor             7000 non-null   float32\n",
      " 7   HouseYear              7000 non-null   int32  \n",
      " 8   Ecology_1              7000 non-null   float32\n",
      " 9   Ecology_2              7000 non-null   int32  \n",
      " 10  Ecology_3              7000 non-null   int32  \n",
      " 11  Social_1               7000 non-null   int8   \n",
      " 12  Social_2               7000 non-null   int16  \n",
      " 13  Social_3               7000 non-null   int16  \n",
      " 14  Helthcare_2            7000 non-null   int8   \n",
      " 15  Shops_1                7000 non-null   int8   \n",
      " 16  Shops_2                7000 non-null   int32  \n",
      " 17  Rooms_outlier          7000 non-null   int64  \n",
      " 18  Square_outlier         7000 non-null   int64  \n",
      " 19  KitchenSquare_outlier  7000 non-null   int64  \n",
      " 20  KitchenSquare_nan      7000 non-null   int64  \n",
      " 21  LifeSquare_outlier     7000 non-null   int64  \n",
      " 22  LifeSquare_nan         7000 non-null   int64  \n",
      " 23  Bad_floor              7000 non-null   int64  \n",
      " 24  HR_building            7000 non-null   int64  \n",
      " 25  HouseFloor_outlier     7000 non-null   int64  \n",
      " 26  New_house              7000 non-null   int64  \n",
      "dtypes: float32(6), float64(1), int16(2), int32(4), int64(10), int8(4)\n",
      "memory usage: 984.4 KB\n"
     ]
    }
   ],
   "source": [
    "X_train.info()"
   ]
  },
  {
   "cell_type": "markdown",
   "id": "02b083ca",
   "metadata": {},
   "source": [
    "Нужно сделать функцию которая очищает тестовые данные, используя статистики тренеровочного датасета."
   ]
  },
  {
   "cell_type": "code",
   "execution_count": 1340,
   "id": "5d2d6367",
   "metadata": {},
   "outputs": [],
   "source": [
    "min_max = max_square, min_square, max_square_k, min_square_k, max_square_l, min_square_l\n",
    "medians = X_train[\"Square\"].median(), X_train[\"KitchenSquare\"].median(), X_train[\"LifeSquare\"].median(), X_train[\"HouseYear\"].median()"
   ]
  },
  {
   "cell_type": "code",
   "execution_count": 1341,
   "id": "af6ece0b",
   "metadata": {},
   "outputs": [],
   "source": [
    "def x_test_prepare(X_test_prepare, medians):\n",
    "    max_square, min_square, max_square_k, min_square_k, max_square_l, min_square_l = min_max\n",
    "    square, kitchenSquare, lifeSquare, houseyear = medians\n",
    "    \n",
    "    X_test_prepare = X_test_prepare.set_index('Id')\n",
    "    X_test_prepare = districtid_to_stat(X_test_prepare)\n",
    "   \n",
    "    X_test_prepare = X_test_prepare.drop('Healthcare_1', axis=1)\n",
    "    X_test_prepare[\"Rooms_outlier\"] = 0\n",
    "    X_test_prepare.loc[(X_test_prepare[\"Rooms\"] >= 6), \"Rooms_outlier\"] = 1\n",
    "    X_test_prepare.loc[(X_test_prepare[\"Rooms\"] >= 6), \"Rooms\"] = 4\n",
    "    \n",
    "    X_test_prepare[\"Square_outlier\"] = 0\n",
    "    outlier_square = (X_test_prepare[\"Square\"] > max_square) | (X_test_prepare[\"Square\"] < min_square)\n",
    "    X_test_prepare.loc[outlier_square, \"Square_outlier\"] = 1\n",
    "    X_test_prepare.loc[X_test_prepare[\"Square\"] > max_square, \"Square\"] = max_square\n",
    "    X_test_prepare.loc[X_test_prepare[\"Square\"] < min_square, \"Square\"] = min_square\n",
    "    \n",
    "    \n",
    "    X_test_prepare[\"KitchenSquare_outlier\"] = 0\n",
    "    outlier_square_k = (X_test_prepare[\"KitchenSquare\"] > max_square_k) | (X_test_prepare[\"KitchenSquare\"] < min_square_k)\n",
    "    X_test_prepare.loc[outlier_square_k, \"KitchenSquare_outlier\"] = 1\n",
    "    X_test_prepare.loc[X_test_prepare[\"KitchenSquare\"] > max_square_k, \"KitchenSquare\"] = max_square_k\n",
    "    X_test_prepare.loc[X_test_prepare[\"KitchenSquare\"] < min_square_k, \"KitchenSquare\"] = min_square_k\n",
    "    \n",
    "    X_test_prepare[\"KitchenSquare_nan\"] = 0\n",
    "    X_test_prepare.loc[X_test_prepare[\"KitchenSquare\"].isnull(), \"KitchenSquare_nan\"] = 1\n",
    "    X_test_prepare.loc[X_test_prepare[\"KitchenSquare\"].isnull(), \"KitchenSquare\"] = kitchenSquare\n",
    "    \n",
    "    X_test_prepare[\"LifeSquare_outlier\"] = 0\n",
    "    outlier_square_l = (X_test_prepare[\"LifeSquare\"] > max_square_l) | (X_test_prepare[\"LifeSquare\"] < min_square_l)\n",
    "    X_test_prepare.loc[outlier_square_l, \"LifeSquare_outlier\"] = 1\n",
    "    X_test_prepare.loc[X_test_prepare[\"LifeSquare\"] > max_square_l, \"LifeSquare\"] = max_square_l\n",
    "    X_test_prepare.loc[X_test_prepare[\"LifeSquare\"] < min_square_l, \"LifeSquare\"] = min_square_l\n",
    "    \n",
    "    X_test_prepare[\"LifeSquare_nan\"] = 0\n",
    "    X_test_prepare.loc[X_test_prepare[\"LifeSquare\"].isnull(), \"LifeSquare_nan\"] = 1\n",
    "    X_test_prepare.loc[X_test_prepare[\"LifeSquare\"].isnull(), \"LifeSquare\"] = X_test_prepare.loc[X_test_prepare[\"LifeSquare\"].isnull(), \"Square\"] * life_square_coef\n",
    "    \n",
    "    X_test_bad_floor = (X_test_prepare[\"Floor\"] == 1) | (X_test_prepare[\"Floor\"] == X_test_prepare[\"HouseFloor\"])\n",
    "    X_test_prepare[\"Bad_floor\"] = 0\n",
    "    X_test_prepare.loc[X_test_bad_floor, \"Bad_floor\"] = 1\n",
    "    \n",
    "    X_test_prepare[\"HR_building\"] = 0\n",
    "    X_test_prepare.loc[X_test_prepare[\"HouseFloor\"] > 20, \"HR_building\"] = 1\n",
    "    \n",
    "    X_test_prepare[\"HouseFloor_outlier\"] = 0\n",
    "    X_test_prepare.loc[X_test_prepare[\"HouseFloor\"] == 0, \"HouseFloor_outlier\"] = 1\n",
    "    X_test_prepare.loc[X_test_prepare[\"HouseFloor\"] == 0, \"HouseFloor\"] = X_test_prepare.loc[X_test_prepare[\"HouseFloor\"] == 0, \"Floor\"]\n",
    "    \n",
    "    x = datetime.now()\n",
    "    X_test_prepare.loc[X_test_prepare[\"HouseYear\"] > x.year, \"HouseYear\"] = houseyear\n",
    "    X_test_prepare[\"HouseYear\"] = x.year - X_test_prepare[\"HouseYear\"]\n",
    "    \n",
    "    X_test_prepare['New_house'] = 0\n",
    "    X_test_prepare.loc[X_test_prepare['HouseYear'] <= 5, 'New_house'] = 1  \n",
    "    X_test_prepare['Ecology_2'] = (X_test_prepare['Ecology_2'] == 'A').astype(int)\n",
    "    X_test_prepare['Ecology_3'] = (X_test_prepare['Ecology_3'] == 'A').astype(int)\n",
    "    X_test_prepare['Shops_2'] = (X_test_prepare['Shops_2'] == 'A').astype(int) \n",
    "   \n",
    "    return X_test_prepare"
   ]
  },
  {
   "cell_type": "code",
   "execution_count": 1342,
   "id": "74cd0f0b",
   "metadata": {},
   "outputs": [],
   "source": [
    "X_valid = x_test_prepare(X_valid, medians)"
   ]
  },
  {
   "cell_type": "code",
   "execution_count": 1343,
   "id": "7c83f4cd",
   "metadata": {},
   "outputs": [
    {
     "name": "stdout",
     "output_type": "stream",
     "text": [
      "<class 'pandas.core.frame.DataFrame'>\n",
      "Int64Index: 3000 entries, 3614 to 4504\n",
      "Data columns (total 27 columns):\n",
      " #   Column                 Non-Null Count  Dtype  \n",
      "---  ------                 --------------  -----  \n",
      " 0   DistrictId             3000 non-null   float64\n",
      " 1   Rooms                  3000 non-null   float32\n",
      " 2   Square                 3000 non-null   float32\n",
      " 3   LifeSquare             3000 non-null   float32\n",
      " 4   KitchenSquare          3000 non-null   float32\n",
      " 5   Floor                  3000 non-null   int8   \n",
      " 6   HouseFloor             3000 non-null   float32\n",
      " 7   HouseYear              3000 non-null   int32  \n",
      " 8   Ecology_1              3000 non-null   float32\n",
      " 9   Ecology_2              3000 non-null   int32  \n",
      " 10  Ecology_3              3000 non-null   int32  \n",
      " 11  Social_1               3000 non-null   int8   \n",
      " 12  Social_2               3000 non-null   int16  \n",
      " 13  Social_3               3000 non-null   int16  \n",
      " 14  Helthcare_2            3000 non-null   int8   \n",
      " 15  Shops_1                3000 non-null   int8   \n",
      " 16  Shops_2                3000 non-null   int32  \n",
      " 17  Rooms_outlier          3000 non-null   int64  \n",
      " 18  Square_outlier         3000 non-null   int64  \n",
      " 19  KitchenSquare_outlier  3000 non-null   int64  \n",
      " 20  KitchenSquare_nan      3000 non-null   int64  \n",
      " 21  LifeSquare_outlier     3000 non-null   int64  \n",
      " 22  LifeSquare_nan         3000 non-null   int64  \n",
      " 23  Bad_floor              3000 non-null   int64  \n",
      " 24  HR_building            3000 non-null   int64  \n",
      " 25  HouseFloor_outlier     3000 non-null   int64  \n",
      " 26  New_house              3000 non-null   int64  \n",
      "dtypes: float32(6), float64(1), int16(2), int32(4), int64(10), int8(4)\n",
      "memory usage: 421.9 KB\n"
     ]
    }
   ],
   "source": [
    "X_valid.info()"
   ]
  },
  {
   "cell_type": "code",
   "execution_count": 1344,
   "id": "d64b1b5f",
   "metadata": {},
   "outputs": [
    {
     "name": "stdout",
     "output_type": "stream",
     "text": [
      "<class 'pandas.core.frame.DataFrame'>\n",
      "Int64Index: 7000 entries, 223 to 12518\n",
      "Data columns (total 27 columns):\n",
      " #   Column                 Non-Null Count  Dtype  \n",
      "---  ------                 --------------  -----  \n",
      " 0   DistrictId             7000 non-null   float64\n",
      " 1   Rooms                  7000 non-null   float32\n",
      " 2   Square                 7000 non-null   float32\n",
      " 3   LifeSquare             7000 non-null   float32\n",
      " 4   KitchenSquare          7000 non-null   float32\n",
      " 5   Floor                  7000 non-null   int8   \n",
      " 6   HouseFloor             7000 non-null   float32\n",
      " 7   HouseYear              7000 non-null   int32  \n",
      " 8   Ecology_1              7000 non-null   float32\n",
      " 9   Ecology_2              7000 non-null   int32  \n",
      " 10  Ecology_3              7000 non-null   int32  \n",
      " 11  Social_1               7000 non-null   int8   \n",
      " 12  Social_2               7000 non-null   int16  \n",
      " 13  Social_3               7000 non-null   int16  \n",
      " 14  Helthcare_2            7000 non-null   int8   \n",
      " 15  Shops_1                7000 non-null   int8   \n",
      " 16  Shops_2                7000 non-null   int32  \n",
      " 17  Rooms_outlier          7000 non-null   int64  \n",
      " 18  Square_outlier         7000 non-null   int64  \n",
      " 19  KitchenSquare_outlier  7000 non-null   int64  \n",
      " 20  KitchenSquare_nan      7000 non-null   int64  \n",
      " 21  LifeSquare_outlier     7000 non-null   int64  \n",
      " 22  LifeSquare_nan         7000 non-null   int64  \n",
      " 23  Bad_floor              7000 non-null   int64  \n",
      " 24  HR_building            7000 non-null   int64  \n",
      " 25  HouseFloor_outlier     7000 non-null   int64  \n",
      " 26  New_house              7000 non-null   int64  \n",
      "dtypes: float32(6), float64(1), int16(2), int32(4), int64(10), int8(4)\n",
      "memory usage: 984.4 KB\n"
     ]
    }
   ],
   "source": [
    "X_train.info()"
   ]
  },
  {
   "cell_type": "code",
   "execution_count": 1345,
   "id": "fd844e78",
   "metadata": {},
   "outputs": [],
   "source": [
    "from sklearn.ensemble import RandomForestRegressor\n",
    "from sklearn.model_selection import GridSearchCV\n",
    "from sklearn.metrics import r2_score\n",
    "from sklearn.preprocessing import RobustScaler, StandardScaler, MinMaxScaler"
   ]
  },
  {
   "cell_type": "code",
   "execution_count": 1346,
   "id": "a9301d84",
   "metadata": {},
   "outputs": [],
   "source": [
    "parameters = {\n",
    "    'n_estimators': [150, 200, 250],\n",
    "    'max_features': np.arange(5, 9),\n",
    "    'max_depth': np.arange(5, 10),\n",
    "}\n",
    "rfr = GridSearchCV(\n",
    "    estimator=RandomForestRegressor(),\n",
    "    param_grid=parameters,\n",
    "    scoring='r2',\n",
    "    cv=5,\n",
    ")"
   ]
  },
  {
   "cell_type": "raw",
   "id": "0d6cce20",
   "metadata": {},
   "source": [
    "rfr.fit(X_train, y_train)"
   ]
  },
  {
   "cell_type": "raw",
   "id": "55df5d59",
   "metadata": {},
   "source": [
    "rfr.best_params_"
   ]
  },
  {
   "cell_type": "code",
   "execution_count": 1347,
   "id": "ad675dbd",
   "metadata": {},
   "outputs": [],
   "source": [
    "model = RandomForestRegressor(max_depth=9, max_features=8, n_estimators=150, random_state=47)"
   ]
  },
  {
   "cell_type": "code",
   "execution_count": 1348,
   "id": "87418d8c",
   "metadata": {},
   "outputs": [
    {
     "data": {
      "text/plain": [
       "RandomForestRegressor(max_depth=9, max_features=8, n_estimators=150,\n",
       "                      random_state=47)"
      ]
     },
     "execution_count": 1348,
     "metadata": {},
     "output_type": "execute_result"
    }
   ],
   "source": [
    "model.fit(X_train, y_train)"
   ]
  },
  {
   "cell_type": "code",
   "execution_count": 1349,
   "id": "bb8cecf8",
   "metadata": {},
   "outputs": [],
   "source": [
    "y_pred = model.predict(X_valid)"
   ]
  },
  {
   "cell_type": "code",
   "execution_count": 1350,
   "id": "d1670d83",
   "metadata": {},
   "outputs": [
    {
     "data": {
      "text/plain": [
       "0.7262447359527249"
      ]
     },
     "execution_count": 1350,
     "metadata": {},
     "output_type": "execute_result"
    }
   ],
   "source": [
    "r2_score(y_valid, y_pred)\n"
   ]
  },
  {
   "cell_type": "code",
   "execution_count": 1351,
   "id": "854f515d",
   "metadata": {},
   "outputs": [
    {
     "data": {
      "text/plain": [
       "0.7262447359527249"
      ]
     },
     "execution_count": 1351,
     "metadata": {},
     "output_type": "execute_result"
    }
   ],
   "source": [
    "0.7262447359527249"
   ]
  },
  {
   "cell_type": "markdown",
   "id": "c88eb357",
   "metadata": {},
   "source": [
    "Выбросы подогнали под границы."
   ]
  },
  {
   "cell_type": "code",
   "execution_count": 1352,
   "id": "eb177299",
   "metadata": {},
   "outputs": [],
   "source": [
    "f_i = model.feature_importances_"
   ]
  },
  {
   "cell_type": "code",
   "execution_count": 1353,
   "id": "e8421adc",
   "metadata": {},
   "outputs": [
    {
     "data": {
      "text/html": [
       "<div>\n",
       "<style scoped>\n",
       "    .dataframe tbody tr th:only-of-type {\n",
       "        vertical-align: middle;\n",
       "    }\n",
       "\n",
       "    .dataframe tbody tr th {\n",
       "        vertical-align: top;\n",
       "    }\n",
       "\n",
       "    .dataframe thead th {\n",
       "        text-align: right;\n",
       "    }\n",
       "</style>\n",
       "<table border=\"1\" class=\"dataframe\">\n",
       "  <thead>\n",
       "    <tr style=\"text-align: right;\">\n",
       "      <th></th>\n",
       "      <th>DistrictId</th>\n",
       "      <th>Rooms</th>\n",
       "      <th>Square</th>\n",
       "      <th>LifeSquare</th>\n",
       "      <th>KitchenSquare</th>\n",
       "      <th>Floor</th>\n",
       "      <th>HouseFloor</th>\n",
       "      <th>HouseYear</th>\n",
       "      <th>Ecology_1</th>\n",
       "      <th>Ecology_2</th>\n",
       "      <th>Ecology_3</th>\n",
       "      <th>Social_1</th>\n",
       "      <th>Social_2</th>\n",
       "      <th>Social_3</th>\n",
       "      <th>Helthcare_2</th>\n",
       "      <th>Shops_1</th>\n",
       "      <th>Shops_2</th>\n",
       "      <th>Rooms_outlier</th>\n",
       "      <th>Square_outlier</th>\n",
       "      <th>KitchenSquare_outlier</th>\n",
       "      <th>KitchenSquare_nan</th>\n",
       "      <th>LifeSquare_outlier</th>\n",
       "      <th>LifeSquare_nan</th>\n",
       "      <th>Bad_floor</th>\n",
       "      <th>HR_building</th>\n",
       "      <th>HouseFloor_outlier</th>\n",
       "      <th>New_house</th>\n",
       "    </tr>\n",
       "  </thead>\n",
       "  <tbody>\n",
       "    <tr>\n",
       "      <th>count</th>\n",
       "      <td>7000.000000</td>\n",
       "      <td>7000.000000</td>\n",
       "      <td>7000.000000</td>\n",
       "      <td>7000.000000</td>\n",
       "      <td>7000.000000</td>\n",
       "      <td>7000.000000</td>\n",
       "      <td>7000.000000</td>\n",
       "      <td>7000.000000</td>\n",
       "      <td>7000.000000</td>\n",
       "      <td>7000.000000</td>\n",
       "      <td>7000.000000</td>\n",
       "      <td>7000.000000</td>\n",
       "      <td>7000.000000</td>\n",
       "      <td>7000.000000</td>\n",
       "      <td>7000.000000</td>\n",
       "      <td>7000.000000</td>\n",
       "      <td>7000.000000</td>\n",
       "      <td>7000.000000</td>\n",
       "      <td>7000.000000</td>\n",
       "      <td>7000.000000</td>\n",
       "      <td>7000.0</td>\n",
       "      <td>7000.000000</td>\n",
       "      <td>7000.000000</td>\n",
       "      <td>7000.000000</td>\n",
       "      <td>7000.000000</td>\n",
       "      <td>7000.000000</td>\n",
       "      <td>7000.000000</td>\n",
       "    </tr>\n",
       "    <tr>\n",
       "      <th>mean</th>\n",
       "      <td>0.024499</td>\n",
       "      <td>1.885000</td>\n",
       "      <td>55.796722</td>\n",
       "      <td>36.337334</td>\n",
       "      <td>5.667143</td>\n",
       "      <td>8.465857</td>\n",
       "      <td>12.796286</td>\n",
       "      <td>36.310429</td>\n",
       "      <td>0.118864</td>\n",
       "      <td>0.010429</td>\n",
       "      <td>0.027286</td>\n",
       "      <td>24.799000</td>\n",
       "      <td>5384.084286</td>\n",
       "      <td>8.007000</td>\n",
       "      <td>1.319286</td>\n",
       "      <td>4.228714</td>\n",
       "      <td>0.082857</td>\n",
       "      <td>0.002286</td>\n",
       "      <td>0.050000</td>\n",
       "      <td>0.018857</td>\n",
       "      <td>0.0</td>\n",
       "      <td>0.039429</td>\n",
       "      <td>0.212286</td>\n",
       "      <td>0.111714</td>\n",
       "      <td>0.101571</td>\n",
       "      <td>0.028143</td>\n",
       "      <td>0.088429</td>\n",
       "    </tr>\n",
       "    <tr>\n",
       "      <th>std</th>\n",
       "      <td>0.027386</td>\n",
       "      <td>0.808602</td>\n",
       "      <td>17.235500</td>\n",
       "      <td>14.952812</td>\n",
       "      <td>3.806872</td>\n",
       "      <td>5.200314</td>\n",
       "      <td>6.494928</td>\n",
       "      <td>18.556334</td>\n",
       "      <td>0.118758</td>\n",
       "      <td>0.101594</td>\n",
       "      <td>0.162926</td>\n",
       "      <td>17.631259</td>\n",
       "      <td>4036.855151</td>\n",
       "      <td>23.562797</td>\n",
       "      <td>1.491194</td>\n",
       "      <td>4.780312</td>\n",
       "      <td>0.275686</td>\n",
       "      <td>0.047758</td>\n",
       "      <td>0.217961</td>\n",
       "      <td>0.136030</td>\n",
       "      <td>0.0</td>\n",
       "      <td>0.194626</td>\n",
       "      <td>0.408955</td>\n",
       "      <td>0.315037</td>\n",
       "      <td>0.302105</td>\n",
       "      <td>0.165393</td>\n",
       "      <td>0.283937</td>\n",
       "    </tr>\n",
       "    <tr>\n",
       "      <th>min</th>\n",
       "      <td>0.000143</td>\n",
       "      <td>0.000000</td>\n",
       "      <td>32.129406</td>\n",
       "      <td>10.226214</td>\n",
       "      <td>0.000000</td>\n",
       "      <td>1.000000</td>\n",
       "      <td>1.000000</td>\n",
       "      <td>1.000000</td>\n",
       "      <td>0.000000</td>\n",
       "      <td>0.000000</td>\n",
       "      <td>0.000000</td>\n",
       "      <td>0.000000</td>\n",
       "      <td>168.000000</td>\n",
       "      <td>0.000000</td>\n",
       "      <td>0.000000</td>\n",
       "      <td>0.000000</td>\n",
       "      <td>0.000000</td>\n",
       "      <td>0.000000</td>\n",
       "      <td>0.000000</td>\n",
       "      <td>0.000000</td>\n",
       "      <td>0.0</td>\n",
       "      <td>0.000000</td>\n",
       "      <td>0.000000</td>\n",
       "      <td>0.000000</td>\n",
       "      <td>0.000000</td>\n",
       "      <td>0.000000</td>\n",
       "      <td>0.000000</td>\n",
       "    </tr>\n",
       "    <tr>\n",
       "      <th>25%</th>\n",
       "      <td>0.005429</td>\n",
       "      <td>1.000000</td>\n",
       "      <td>41.784348</td>\n",
       "      <td>24.499666</td>\n",
       "      <td>1.000000</td>\n",
       "      <td>4.000000</td>\n",
       "      <td>9.000000</td>\n",
       "      <td>20.000000</td>\n",
       "      <td>0.019509</td>\n",
       "      <td>0.000000</td>\n",
       "      <td>0.000000</td>\n",
       "      <td>6.000000</td>\n",
       "      <td>1564.000000</td>\n",
       "      <td>0.000000</td>\n",
       "      <td>0.000000</td>\n",
       "      <td>1.000000</td>\n",
       "      <td>0.000000</td>\n",
       "      <td>0.000000</td>\n",
       "      <td>0.000000</td>\n",
       "      <td>0.000000</td>\n",
       "      <td>0.0</td>\n",
       "      <td>0.000000</td>\n",
       "      <td>0.000000</td>\n",
       "      <td>0.000000</td>\n",
       "      <td>0.000000</td>\n",
       "      <td>0.000000</td>\n",
       "      <td>0.000000</td>\n",
       "    </tr>\n",
       "    <tr>\n",
       "      <th>50%</th>\n",
       "      <td>0.010286</td>\n",
       "      <td>2.000000</td>\n",
       "      <td>52.413246</td>\n",
       "      <td>33.468109</td>\n",
       "      <td>6.000000</td>\n",
       "      <td>7.000000</td>\n",
       "      <td>13.000000</td>\n",
       "      <td>44.000000</td>\n",
       "      <td>0.075424</td>\n",
       "      <td>0.000000</td>\n",
       "      <td>0.000000</td>\n",
       "      <td>25.000000</td>\n",
       "      <td>5288.000000</td>\n",
       "      <td>2.000000</td>\n",
       "      <td>1.000000</td>\n",
       "      <td>3.000000</td>\n",
       "      <td>0.000000</td>\n",
       "      <td>0.000000</td>\n",
       "      <td>0.000000</td>\n",
       "      <td>0.000000</td>\n",
       "      <td>0.0</td>\n",
       "      <td>0.000000</td>\n",
       "      <td>0.000000</td>\n",
       "      <td>0.000000</td>\n",
       "      <td>0.000000</td>\n",
       "      <td>0.000000</td>\n",
       "      <td>0.000000</td>\n",
       "    </tr>\n",
       "    <tr>\n",
       "      <th>75%</th>\n",
       "      <td>0.050143</td>\n",
       "      <td>2.000000</td>\n",
       "      <td>65.981638</td>\n",
       "      <td>45.039310</td>\n",
       "      <td>9.000000</td>\n",
       "      <td>12.000000</td>\n",
       "      <td>17.000000</td>\n",
       "      <td>48.000000</td>\n",
       "      <td>0.195781</td>\n",
       "      <td>0.000000</td>\n",
       "      <td>0.000000</td>\n",
       "      <td>36.000000</td>\n",
       "      <td>7287.000000</td>\n",
       "      <td>5.000000</td>\n",
       "      <td>2.000000</td>\n",
       "      <td>6.000000</td>\n",
       "      <td>0.000000</td>\n",
       "      <td>0.000000</td>\n",
       "      <td>0.000000</td>\n",
       "      <td>0.000000</td>\n",
       "      <td>0.0</td>\n",
       "      <td>0.000000</td>\n",
       "      <td>0.000000</td>\n",
       "      <td>0.000000</td>\n",
       "      <td>0.000000</td>\n",
       "      <td>0.000000</td>\n",
       "      <td>0.000000</td>\n",
       "    </tr>\n",
       "    <tr>\n",
       "      <th>max</th>\n",
       "      <td>0.087000</td>\n",
       "      <td>4.000000</td>\n",
       "      <td>100.650871</td>\n",
       "      <td>81.134140</td>\n",
       "      <td>13.000000</td>\n",
       "      <td>33.000000</td>\n",
       "      <td>99.000000</td>\n",
       "      <td>111.000000</td>\n",
       "      <td>0.521867</td>\n",
       "      <td>1.000000</td>\n",
       "      <td>1.000000</td>\n",
       "      <td>74.000000</td>\n",
       "      <td>19083.000000</td>\n",
       "      <td>141.000000</td>\n",
       "      <td>6.000000</td>\n",
       "      <td>23.000000</td>\n",
       "      <td>1.000000</td>\n",
       "      <td>1.000000</td>\n",
       "      <td>1.000000</td>\n",
       "      <td>1.000000</td>\n",
       "      <td>0.0</td>\n",
       "      <td>1.000000</td>\n",
       "      <td>1.000000</td>\n",
       "      <td>1.000000</td>\n",
       "      <td>1.000000</td>\n",
       "      <td>1.000000</td>\n",
       "      <td>1.000000</td>\n",
       "    </tr>\n",
       "  </tbody>\n",
       "</table>\n",
       "</div>"
      ],
      "text/plain": [
       "        DistrictId        Rooms       Square   LifeSquare  KitchenSquare  \\\n",
       "count  7000.000000  7000.000000  7000.000000  7000.000000    7000.000000   \n",
       "mean      0.024499     1.885000    55.796722    36.337334       5.667143   \n",
       "std       0.027386     0.808602    17.235500    14.952812       3.806872   \n",
       "min       0.000143     0.000000    32.129406    10.226214       0.000000   \n",
       "25%       0.005429     1.000000    41.784348    24.499666       1.000000   \n",
       "50%       0.010286     2.000000    52.413246    33.468109       6.000000   \n",
       "75%       0.050143     2.000000    65.981638    45.039310       9.000000   \n",
       "max       0.087000     4.000000   100.650871    81.134140      13.000000   \n",
       "\n",
       "             Floor   HouseFloor    HouseYear    Ecology_1    Ecology_2  \\\n",
       "count  7000.000000  7000.000000  7000.000000  7000.000000  7000.000000   \n",
       "mean      8.465857    12.796286    36.310429     0.118864     0.010429   \n",
       "std       5.200314     6.494928    18.556334     0.118758     0.101594   \n",
       "min       1.000000     1.000000     1.000000     0.000000     0.000000   \n",
       "25%       4.000000     9.000000    20.000000     0.019509     0.000000   \n",
       "50%       7.000000    13.000000    44.000000     0.075424     0.000000   \n",
       "75%      12.000000    17.000000    48.000000     0.195781     0.000000   \n",
       "max      33.000000    99.000000   111.000000     0.521867     1.000000   \n",
       "\n",
       "         Ecology_3     Social_1      Social_2     Social_3  Helthcare_2  \\\n",
       "count  7000.000000  7000.000000   7000.000000  7000.000000  7000.000000   \n",
       "mean      0.027286    24.799000   5384.084286     8.007000     1.319286   \n",
       "std       0.162926    17.631259   4036.855151    23.562797     1.491194   \n",
       "min       0.000000     0.000000    168.000000     0.000000     0.000000   \n",
       "25%       0.000000     6.000000   1564.000000     0.000000     0.000000   \n",
       "50%       0.000000    25.000000   5288.000000     2.000000     1.000000   \n",
       "75%       0.000000    36.000000   7287.000000     5.000000     2.000000   \n",
       "max       1.000000    74.000000  19083.000000   141.000000     6.000000   \n",
       "\n",
       "           Shops_1      Shops_2  Rooms_outlier  Square_outlier  \\\n",
       "count  7000.000000  7000.000000    7000.000000     7000.000000   \n",
       "mean      4.228714     0.082857       0.002286        0.050000   \n",
       "std       4.780312     0.275686       0.047758        0.217961   \n",
       "min       0.000000     0.000000       0.000000        0.000000   \n",
       "25%       1.000000     0.000000       0.000000        0.000000   \n",
       "50%       3.000000     0.000000       0.000000        0.000000   \n",
       "75%       6.000000     0.000000       0.000000        0.000000   \n",
       "max      23.000000     1.000000       1.000000        1.000000   \n",
       "\n",
       "       KitchenSquare_outlier  KitchenSquare_nan  LifeSquare_outlier  \\\n",
       "count            7000.000000             7000.0         7000.000000   \n",
       "mean                0.018857                0.0            0.039429   \n",
       "std                 0.136030                0.0            0.194626   \n",
       "min                 0.000000                0.0            0.000000   \n",
       "25%                 0.000000                0.0            0.000000   \n",
       "50%                 0.000000                0.0            0.000000   \n",
       "75%                 0.000000                0.0            0.000000   \n",
       "max                 1.000000                0.0            1.000000   \n",
       "\n",
       "       LifeSquare_nan    Bad_floor  HR_building  HouseFloor_outlier  \\\n",
       "count     7000.000000  7000.000000  7000.000000         7000.000000   \n",
       "mean         0.212286     0.111714     0.101571            0.028143   \n",
       "std          0.408955     0.315037     0.302105            0.165393   \n",
       "min          0.000000     0.000000     0.000000            0.000000   \n",
       "25%          0.000000     0.000000     0.000000            0.000000   \n",
       "50%          0.000000     0.000000     0.000000            0.000000   \n",
       "75%          0.000000     0.000000     0.000000            0.000000   \n",
       "max          1.000000     1.000000     1.000000            1.000000   \n",
       "\n",
       "         New_house  \n",
       "count  7000.000000  \n",
       "mean      0.088429  \n",
       "std       0.283937  \n",
       "min       0.000000  \n",
       "25%       0.000000  \n",
       "50%       0.000000  \n",
       "75%       0.000000  \n",
       "max       1.000000  "
      ]
     },
     "execution_count": 1353,
     "metadata": {},
     "output_type": "execute_result"
    }
   ],
   "source": [
    "pd.options.display.max_columns = 100\n",
    "X_train.describe()"
   ]
  },
  {
   "cell_type": "code",
   "execution_count": 1360,
   "id": "7b8b89ff",
   "metadata": {},
   "outputs": [
    {
     "data": {
      "image/png": "[encoded data removed]",
      "text/plain": [
       "<Figure size 720x720 with 1 Axes>"
      ]
     },
     "metadata": {
      "needs_background": "light"
     },
     "output_type": "display_data"
    }
   ],
   "source": [
    "plt.figure(figsize=(10,10))\n",
    "plt.barh(X_train.columns, f_i)\n",
    "plt.show()"
   ]
  },
  {
   "cell_type": "code",
   "execution_count": null,
   "id": "83d62d5e",
   "metadata": {},
   "outputs": [],
   "source": [
    "def evaluate_preds(true_values, pred_values, save=False):\n",
    "        \n",
    "    print(\"R2:\\t\" + str(round(r2(true_values, pred_values), 3)) + \"\\n\" +\n",
    "          \"RMSE:\\t\" + str(round(np.sqrt(mse(true_values, pred_values)), 3)) + \"\\n\" +\n",
    "          \"MSE:\\t\" + str(round(mse(true_values, pred_values), 3))\n",
    "         )\n",
    "    \n",
    "    plt.figure(figsize=(8,8))\n",
    "    \n",
    "    sns.scatterplot(x=pred_values, y=true_values)\n",
    "    plt.plot([0, 500000], [0, 500000], linestyle='--', color='black')  # диагональ, где true_values = pred_values\n",
    "    \n",
    "    plt.xlabel('Predicted values')\n",
    "    plt.ylabel('True values')\n",
    "    plt.title('True vs Predicted values')\n",
    "    \n",
    "    plt.show()"
   ]
  },
  {
   "cell_type": "code",
   "execution_count": null,
   "id": "39d71140",
   "metadata": {},
   "outputs": [],
   "source": []
  }
 ],
 "metadata": {
  "kernelspec": {
   "display_name": "Python 3",
   "language": "python",
   "name": "python3"
  },
  "language_info": {
   "codemirror_mode": {
    "name": "ipython",
    "version": 3
   },
   "file_extension": ".py",
   "mimetype": "text/x-python",
   "name": "python",
   "nbconvert_exporter": "python",
   "pygments_lexer": "ipython3",
   "version": "3.8.8"
  }
 },
 "nbformat": 4,
 "nbformat_minor": 5
}
