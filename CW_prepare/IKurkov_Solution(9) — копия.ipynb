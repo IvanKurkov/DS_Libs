{
 "cells": [
  {
   "cell_type": "markdown",
   "id": "cd6bc169",
   "metadata": {},
   "source": [
    "# Курсовой проект для курса \"Python для Data Science\""
   ]
  },
  {
   "cell_type": "markdown",
   "id": "f947f802",
   "metadata": {},
   "source": [
    "#### Задание:\n",
    "Используя данные из обучающего датасета (train.csv), построить модель для предсказания цен на недвижимость (квартиры).\n",
    "С помощью полученной модели, предсказать цены для квартир из тестового датасета (test.csv).\n",
    "\n",
    "#### Целевая переменная:\n",
    "Price\n",
    "\n",
    "#### Метрика качества:\n",
    "R2 - коэффициент детерминации (sklearn.metrics.r2_score)\n",
    "\n",
    "#### Требования к решению:\n",
    "1. R2 > 0.6\n",
    "2. Тетрадка Jupyter Notebook с кодом Вашего решения, названная по образцу {ФИО}_solution.ipynb, пример SShirkin_solution.ipynb\n",
    "3. Файл CSV с прогнозами целевой переменной для тестового датасета, названный по образцу {ФИО}_predictions.csv, пример SShirkin_predictions.csv \n",
    "Файл должен содержать два поля: Id, Price и в файле должна быть 5001 строка (шапка + 5000 предсказаний).\n",
    "\n",
    "#### Рекомендации для файла с кодом (ipynb):\n",
    "1. Файл должен содержать заголовки и комментарии (markdown)\n",
    "2. Повторяющиеся операции лучше оформлять в виде функций\n",
    "3. Не делать вывод большого количества строк таблиц (5-10 достаточно)\n",
    "4. По возможности добавлять графики, описывающие данные (около 3-5)\n",
    "5. Добавлять только лучшую модель, то есть не включать в код все варианты решения проекта\n",
    "6. Скрипт проекта должен отрабатывать от начала и до конца (от загрузки данных до выгрузки предсказаний)\n",
    "7. Весь проект должен быть в одном скрипте (файл ipynb).\n",
    "8. Допускается применение библиотек Python и моделей машинного обучения,\n",
    "которые были в данном курсе.\n"
   ]
  },
  {
   "cell_type": "markdown",
   "id": "b54884a7",
   "metadata": {},
   "source": [
    "#### Описание датасета:\n",
    "Id - идентификационный номер квартиры\n",
    "\n",
    "DistrictId - идентификационный номер района\n",
    "\n",
    "Rooms - количество комнат\n",
    "\n",
    "Square - площадь\n",
    "\n",
    "LifeSquare - жилая площадь\n",
    "\n",
    "KitchenSquare - площадь кухни\n",
    "\n",
    "Floor - этаж\n",
    "\n",
    "HouseFloor - количество этажей в доме\n",
    "\n",
    "HouseYear - год постройки дома\n",
    "\n",
    "Ecology_1, Ecology_2, Ecology_3 - экологические показатели местности\n",
    "\n",
    "Social_1, Social_2, Social_3 - социальные показатели местности\n",
    "\n",
    "Healthcare_1, Helthcare_2 - показатели местности, связанные с охраной здоровья\n",
    "\n",
    "Shops_1, Shops_2 - показатели, связанные с наличием магазинов, торговых центров\n",
    "\n",
    "Price - цена квартиры"
   ]
  },
  {
   "cell_type": "code",
   "execution_count": 1,
   "id": "425966f1",
   "metadata": {},
   "outputs": [],
   "source": [
    "import numpy as np\n",
    "import pandas as pd\n",
    "import matplotlib.pyplot as plt\n",
    "import seaborn as sns\n",
    "from scipy import stats\n",
    "import warnings\n",
    "warnings.filterwarnings('ignore')\n",
    "%matplotlib inline\n",
    "from sklearn.model_selection import train_test_split\n",
    "from sklearn.ensemble import GradientBoostingRegressor\n",
    "from sklearn.model_selection import GridSearchCV\n",
    "\n",
    "from datetime import datetime\n",
    "\n",
    "from sklearn.preprocessing import RobustScaler\n",
    "from sklearn.metrics import mean_squared_error as mse, r2_score as r2"
   ]
  },
  {
   "cell_type": "code",
   "execution_count": 2,
   "id": "cbc6f3fe",
   "metadata": {},
   "outputs": [],
   "source": [
    "TEST_DATASET_PATH = \"test.csv\"\n",
    "TRAIN_DATASET_PATH = \"train.csv\""
   ]
  },
  {
   "cell_type": "code",
   "execution_count": 3,
   "id": "05c07a86",
   "metadata": {
    "scrolled": false
   },
   "outputs": [
    {
     "data": {
      "text/html": [
       "<div>\n",
       "<style scoped>\n",
       "    .dataframe tbody tr th:only-of-type {\n",
       "        vertical-align: middle;\n",
       "    }\n",
       "\n",
       "    .dataframe tbody tr th {\n",
       "        vertical-align: top;\n",
       "    }\n",
       "\n",
       "    .dataframe thead th {\n",
       "        text-align: right;\n",
       "    }\n",
       "</style>\n",
       "<table border=\"1\" class=\"dataframe\">\n",
       "  <thead>\n",
       "    <tr style=\"text-align: right;\">\n",
       "      <th></th>\n",
       "      <th>Id</th>\n",
       "      <th>DistrictId</th>\n",
       "      <th>Rooms</th>\n",
       "      <th>Square</th>\n",
       "      <th>LifeSquare</th>\n",
       "      <th>KitchenSquare</th>\n",
       "      <th>Floor</th>\n",
       "      <th>HouseFloor</th>\n",
       "      <th>HouseYear</th>\n",
       "      <th>Ecology_1</th>\n",
       "      <th>Ecology_2</th>\n",
       "      <th>Ecology_3</th>\n",
       "      <th>Social_1</th>\n",
       "      <th>Social_2</th>\n",
       "      <th>Social_3</th>\n",
       "      <th>Healthcare_1</th>\n",
       "      <th>Helthcare_2</th>\n",
       "      <th>Shops_1</th>\n",
       "      <th>Shops_2</th>\n",
       "      <th>Price</th>\n",
       "    </tr>\n",
       "  </thead>\n",
       "  <tbody>\n",
       "    <tr>\n",
       "      <th>0</th>\n",
       "      <td>14038</td>\n",
       "      <td>35</td>\n",
       "      <td>2.0</td>\n",
       "      <td>47.981561</td>\n",
       "      <td>29.442751</td>\n",
       "      <td>6.0</td>\n",
       "      <td>7</td>\n",
       "      <td>9.0</td>\n",
       "      <td>1969</td>\n",
       "      <td>0.089040</td>\n",
       "      <td>B</td>\n",
       "      <td>B</td>\n",
       "      <td>33</td>\n",
       "      <td>7976</td>\n",
       "      <td>5</td>\n",
       "      <td>NaN</td>\n",
       "      <td>0</td>\n",
       "      <td>11</td>\n",
       "      <td>B</td>\n",
       "      <td>184966.930730</td>\n",
       "    </tr>\n",
       "    <tr>\n",
       "      <th>1</th>\n",
       "      <td>15053</td>\n",
       "      <td>41</td>\n",
       "      <td>3.0</td>\n",
       "      <td>65.683640</td>\n",
       "      <td>40.049543</td>\n",
       "      <td>8.0</td>\n",
       "      <td>7</td>\n",
       "      <td>9.0</td>\n",
       "      <td>1978</td>\n",
       "      <td>0.000070</td>\n",
       "      <td>B</td>\n",
       "      <td>B</td>\n",
       "      <td>46</td>\n",
       "      <td>10309</td>\n",
       "      <td>1</td>\n",
       "      <td>240.0</td>\n",
       "      <td>1</td>\n",
       "      <td>16</td>\n",
       "      <td>B</td>\n",
       "      <td>300009.450063</td>\n",
       "    </tr>\n",
       "    <tr>\n",
       "      <th>2</th>\n",
       "      <td>4765</td>\n",
       "      <td>53</td>\n",
       "      <td>2.0</td>\n",
       "      <td>44.947953</td>\n",
       "      <td>29.197612</td>\n",
       "      <td>0.0</td>\n",
       "      <td>8</td>\n",
       "      <td>12.0</td>\n",
       "      <td>1968</td>\n",
       "      <td>0.049637</td>\n",
       "      <td>B</td>\n",
       "      <td>B</td>\n",
       "      <td>34</td>\n",
       "      <td>7759</td>\n",
       "      <td>0</td>\n",
       "      <td>229.0</td>\n",
       "      <td>1</td>\n",
       "      <td>3</td>\n",
       "      <td>B</td>\n",
       "      <td>220925.908524</td>\n",
       "    </tr>\n",
       "    <tr>\n",
       "      <th>3</th>\n",
       "      <td>5809</td>\n",
       "      <td>58</td>\n",
       "      <td>2.0</td>\n",
       "      <td>53.352981</td>\n",
       "      <td>52.731512</td>\n",
       "      <td>9.0</td>\n",
       "      <td>8</td>\n",
       "      <td>17.0</td>\n",
       "      <td>1977</td>\n",
       "      <td>0.437885</td>\n",
       "      <td>B</td>\n",
       "      <td>B</td>\n",
       "      <td>23</td>\n",
       "      <td>5735</td>\n",
       "      <td>3</td>\n",
       "      <td>1084.0</td>\n",
       "      <td>0</td>\n",
       "      <td>5</td>\n",
       "      <td>B</td>\n",
       "      <td>175616.227217</td>\n",
       "    </tr>\n",
       "    <tr>\n",
       "      <th>4</th>\n",
       "      <td>10783</td>\n",
       "      <td>99</td>\n",
       "      <td>1.0</td>\n",
       "      <td>39.649192</td>\n",
       "      <td>23.776169</td>\n",
       "      <td>7.0</td>\n",
       "      <td>11</td>\n",
       "      <td>12.0</td>\n",
       "      <td>1976</td>\n",
       "      <td>0.012339</td>\n",
       "      <td>B</td>\n",
       "      <td>B</td>\n",
       "      <td>35</td>\n",
       "      <td>5776</td>\n",
       "      <td>1</td>\n",
       "      <td>2078.0</td>\n",
       "      <td>2</td>\n",
       "      <td>4</td>\n",
       "      <td>B</td>\n",
       "      <td>150226.531644</td>\n",
       "    </tr>\n",
       "  </tbody>\n",
       "</table>\n",
       "</div>"
      ],
      "text/plain": [
       "      Id  DistrictId  Rooms     Square  LifeSquare  KitchenSquare  Floor  \\\n",
       "0  14038          35    2.0  47.981561   29.442751            6.0      7   \n",
       "1  15053          41    3.0  65.683640   40.049543            8.0      7   \n",
       "2   4765          53    2.0  44.947953   29.197612            0.0      8   \n",
       "3   5809          58    2.0  53.352981   52.731512            9.0      8   \n",
       "4  10783          99    1.0  39.649192   23.776169            7.0     11   \n",
       "\n",
       "   HouseFloor  HouseYear  Ecology_1 Ecology_2 Ecology_3  Social_1  Social_2  \\\n",
       "0         9.0       1969   0.089040         B         B        33      7976   \n",
       "1         9.0       1978   0.000070         B         B        46     10309   \n",
       "2        12.0       1968   0.049637         B         B        34      7759   \n",
       "3        17.0       1977   0.437885         B         B        23      5735   \n",
       "4        12.0       1976   0.012339         B         B        35      5776   \n",
       "\n",
       "   Social_3  Healthcare_1  Helthcare_2  Shops_1 Shops_2          Price  \n",
       "0         5           NaN            0       11       B  184966.930730  \n",
       "1         1         240.0            1       16       B  300009.450063  \n",
       "2         0         229.0            1        3       B  220925.908524  \n",
       "3         3        1084.0            0        5       B  175616.227217  \n",
       "4         1        2078.0            2        4       B  150226.531644  "
      ]
     },
     "execution_count": 3,
     "metadata": {},
     "output_type": "execute_result"
    }
   ],
   "source": [
    "df = pd.read_csv(TRAIN_DATASET_PATH)\n",
    "df.head()"
   ]
  },
  {
   "cell_type": "markdown",
   "id": "c40090a2",
   "metadata": {},
   "source": [
    "#### Уменьшаем объем данных"
   ]
  },
  {
   "cell_type": "code",
   "execution_count": 4,
   "id": "f85fb259",
   "metadata": {},
   "outputs": [
    {
     "name": "stdout",
     "output_type": "stream",
     "text": [
      "Memory usage of dataframe is 1.53 MB\n",
      "Memory usage after optimization is: 0.49 MB\n",
      "Decreased by 68.1%\n"
     ]
    }
   ],
   "source": [
    "def reduce_mem_usage(df):\n",
    "    \"\"\" iterate through all the columns of a dataframe and modify the data type\n",
    "        to reduce memory usage.        \n",
    "    \"\"\"\n",
    "    start_mem = df.memory_usage().sum() / 1024**2\n",
    "    print('Memory usage of dataframe is {:.2f} MB'.format(start_mem))\n",
    "    \n",
    "    for col in df.columns:\n",
    "        col_type = df[col].dtype\n",
    "        \n",
    "        if col_type != object:\n",
    "            c_min = df[col].min()\n",
    "            c_max = df[col].max()\n",
    "            if str(col_type)[:3] == 'int':\n",
    "                if c_min > np.iinfo(np.int8).min and c_max < np.iinfo(np.int8).max:\n",
    "                    df[col] = df[col].astype(np.int8)\n",
    "                elif c_min > np.iinfo(np.int16).min and c_max < np.iinfo(np.int16).max:\n",
    "                    df[col] = df[col].astype(np.int16)\n",
    "                elif c_min > np.iinfo(np.int32).min and c_max < np.iinfo(np.int32).max:\n",
    "                    df[col] = df[col].astype(np.int32)\n",
    "                elif c_min > np.iinfo(np.int64).min and c_max < np.iinfo(np.int64).max:\n",
    "                    df[col] = df[col].astype(np.int64)  \n",
    "            else:\n",
    "                if c_min > np.finfo(np.float32).min and c_max < np.finfo(np.float32).max:\n",
    "                    df[col] = df[col].astype(np.float32)\n",
    "                else:\n",
    "                    df[col] = df[col].astype(np.float64)\n",
    "        else:\n",
    "            df[col] = df[col].astype('category')\n",
    "\n",
    "    end_mem = df.memory_usage().sum() / 1024**2\n",
    "    print('Memory usage after optimization is: {:.2f} MB'.format(end_mem))\n",
    "    print('Decreased by {:.1f}%'.format(100 * (start_mem - end_mem) / start_mem))\n",
    "    \n",
    "    return df\n",
    "df = reduce_mem_usage(df)"
   ]
  },
  {
   "cell_type": "code",
   "execution_count": 5,
   "id": "053b1439",
   "metadata": {},
   "outputs": [
    {
     "name": "stdout",
     "output_type": "stream",
     "text": [
      "<class 'pandas.core.frame.DataFrame'>\n",
      "RangeIndex: 10000 entries, 0 to 9999\n",
      "Data columns (total 20 columns):\n",
      " #   Column         Non-Null Count  Dtype   \n",
      "---  ------         --------------  -----   \n",
      " 0   Id             10000 non-null  int16   \n",
      " 1   DistrictId     10000 non-null  int16   \n",
      " 2   Rooms          10000 non-null  float32 \n",
      " 3   Square         10000 non-null  float32 \n",
      " 4   LifeSquare     7887 non-null   float32 \n",
      " 5   KitchenSquare  10000 non-null  float32 \n",
      " 6   Floor          10000 non-null  int8    \n",
      " 7   HouseFloor     10000 non-null  float32 \n",
      " 8   HouseYear      10000 non-null  int32   \n",
      " 9   Ecology_1      10000 non-null  float32 \n",
      " 10  Ecology_2      10000 non-null  category\n",
      " 11  Ecology_3      10000 non-null  category\n",
      " 12  Social_1       10000 non-null  int8    \n",
      " 13  Social_2       10000 non-null  int16   \n",
      " 14  Social_3       10000 non-null  int16   \n",
      " 15  Healthcare_1   5202 non-null   float32 \n",
      " 16  Helthcare_2    10000 non-null  int8    \n",
      " 17  Shops_1        10000 non-null  int8    \n",
      " 18  Shops_2        10000 non-null  category\n",
      " 19  Price          10000 non-null  float32 \n",
      "dtypes: category(3), float32(8), int16(4), int32(1), int8(4)\n",
      "memory usage: 498.5 KB\n"
     ]
    }
   ],
   "source": [
    "df.info()"
   ]
  },
  {
   "cell_type": "markdown",
   "id": "390bac4f",
   "metadata": {},
   "source": [
    "### Оценим имеющиеся данные"
   ]
  },
  {
   "cell_type": "code",
   "execution_count": 6,
   "id": "dd1151fa",
   "metadata": {},
   "outputs": [
    {
     "data": {
      "image/png": "[encoded data removed]",
      "text/plain": [
       "<Figure size 1152x576 with 1 Axes>"
      ]
     },
     "metadata": {
      "needs_background": "light"
     },
     "output_type": "display_data"
    }
   ],
   "source": [
    "plt.figure(figsize = (16, 8))\n",
    "\n",
    "sns.distplot(df['Price'], bins=25)\n",
    "\n",
    "y = np.linspace(0, 0.000008, 10)\n",
    "plt.plot([df['Price'].mean()] * 10, y, label='mean', linestyle=':', linewidth=4)\n",
    "plt.plot([df['Price'].median()] * 10, y, label='median', linestyle='--', linewidth=4)\n",
    "plt.plot([df['Price'].mode()[0] // 10000 * 10000] * 10, y, label='mode', linestyle='-.', linewidth=4)\n",
    "\n",
    "plt.title('Distribution of Price')\n",
    "plt.legend()\n",
    "plt.show()"
   ]
  },
  {
   "cell_type": "markdown",
   "id": "3fc54181",
   "metadata": {},
   "source": [
    "Среднее значение немного смещено изза ассиметрии в право, однако мода и медиана достаточно близко, и в целом мы видим нормально распределение. Длина хвоста говорит нам, что сильно дорогих кавртир на много больше сильно дешевых."
   ]
  },
  {
   "cell_type": "code",
   "execution_count": 7,
   "id": "2dd37529",
   "metadata": {},
   "outputs": [
    {
     "data": {
      "image/png": "[encoded data removed]",
      "text/plain": [
       "<Figure size 720x504 with 2 Axes>"
      ]
     },
     "metadata": {
      "needs_background": "light"
     },
     "output_type": "display_data"
    }
   ],
   "source": [
    "plt.figure(figsize = (10,7))\n",
    "\n",
    "sns.set(font_scale=1.4)\n",
    "\n",
    "corr_matrix = df.corr()\n",
    "corr_matrix = np.round(corr_matrix, 2)\n",
    "corr_matrix[np.abs(corr_matrix) < 0.3] = 0\n",
    "\n",
    "sns.heatmap(corr_matrix, annot=True, linewidths=.5, cmap='coolwarm')\n",
    "\n",
    "plt.title('Correlation matrix')\n",
    "plt.show()"
   ]
  },
  {
   "cell_type": "markdown",
   "id": "7f04663a",
   "metadata": {},
   "source": [
    "#### Разбиваем на трейн и тест"
   ]
  },
  {
   "cell_type": "code",
   "execution_count": 8,
   "id": "f9dd9254",
   "metadata": {},
   "outputs": [],
   "source": [
    "X_train, y_train = df.drop(\"Price\", axis = 1), df[\"Price\"]"
   ]
  },
  {
   "cell_type": "raw",
   "id": "d94b35b3",
   "metadata": {},
   "source": [
    "X_train, X_valid, y_train, y_valid = train_test_split(X_train, y_train, test_size=0.3, random_state=47)"
   ]
  },
  {
   "cell_type": "code",
   "execution_count": 9,
   "id": "a5c3f0eb",
   "metadata": {},
   "outputs": [],
   "source": [
    "X_test = pd.read_csv(TEST_DATASET_PATH)\n",
    "IKurkov_predictions = pd.DataFrame(X_test['Id']) # для того, чтоб потом можно было получить ID, Price для выгрузки ответов. "
   ]
  },
  {
   "cell_type": "code",
   "execution_count": 10,
   "id": "b29740dd",
   "metadata": {
    "scrolled": true
   },
   "outputs": [
    {
     "data": {
      "text/html": [
       "<div>\n",
       "<style scoped>\n",
       "    .dataframe tbody tr th:only-of-type {\n",
       "        vertical-align: middle;\n",
       "    }\n",
       "\n",
       "    .dataframe tbody tr th {\n",
       "        vertical-align: top;\n",
       "    }\n",
       "\n",
       "    .dataframe thead th {\n",
       "        text-align: right;\n",
       "    }\n",
       "</style>\n",
       "<table border=\"1\" class=\"dataframe\">\n",
       "  <thead>\n",
       "    <tr style=\"text-align: right;\">\n",
       "      <th></th>\n",
       "      <th>Id</th>\n",
       "      <th>DistrictId</th>\n",
       "      <th>Rooms</th>\n",
       "      <th>Square</th>\n",
       "      <th>LifeSquare</th>\n",
       "      <th>KitchenSquare</th>\n",
       "      <th>Floor</th>\n",
       "      <th>HouseFloor</th>\n",
       "      <th>HouseYear</th>\n",
       "      <th>Ecology_1</th>\n",
       "      <th>Social_1</th>\n",
       "      <th>Social_2</th>\n",
       "      <th>Social_3</th>\n",
       "      <th>Healthcare_1</th>\n",
       "      <th>Helthcare_2</th>\n",
       "      <th>Shops_1</th>\n",
       "    </tr>\n",
       "  </thead>\n",
       "  <tbody>\n",
       "    <tr>\n",
       "      <th>count</th>\n",
       "      <td>10000.00000</td>\n",
       "      <td>10000.000000</td>\n",
       "      <td>10000.000000</td>\n",
       "      <td>10000.000000</td>\n",
       "      <td>7887.000000</td>\n",
       "      <td>10000.000000</td>\n",
       "      <td>10000.000000</td>\n",
       "      <td>10000.000000</td>\n",
       "      <td>1.000000e+04</td>\n",
       "      <td>10000.000000</td>\n",
       "      <td>10000.000000</td>\n",
       "      <td>10000.000000</td>\n",
       "      <td>10000.000000</td>\n",
       "      <td>5202.000000</td>\n",
       "      <td>10000.000000</td>\n",
       "      <td>10000.000000</td>\n",
       "    </tr>\n",
       "    <tr>\n",
       "      <th>mean</th>\n",
       "      <td>8383.40770</td>\n",
       "      <td>50.400800</td>\n",
       "      <td>1.890500</td>\n",
       "      <td>56.315712</td>\n",
       "      <td>37.199596</td>\n",
       "      <td>6.273300</td>\n",
       "      <td>8.526700</td>\n",
       "      <td>12.609400</td>\n",
       "      <td>3.990166e+03</td>\n",
       "      <td>0.118858</td>\n",
       "      <td>24.687000</td>\n",
       "      <td>5352.157400</td>\n",
       "      <td>8.039200</td>\n",
       "      <td>1142.904419</td>\n",
       "      <td>1.319500</td>\n",
       "      <td>4.231300</td>\n",
       "    </tr>\n",
       "    <tr>\n",
       "      <th>std</th>\n",
       "      <td>4859.01902</td>\n",
       "      <td>43.587592</td>\n",
       "      <td>0.839523</td>\n",
       "      <td>21.058718</td>\n",
       "      <td>86.241112</td>\n",
       "      <td>28.561113</td>\n",
       "      <td>5.241148</td>\n",
       "      <td>6.776192</td>\n",
       "      <td>2.005003e+05</td>\n",
       "      <td>0.119026</td>\n",
       "      <td>17.532614</td>\n",
       "      <td>4006.799803</td>\n",
       "      <td>23.831875</td>\n",
       "      <td>1021.518982</td>\n",
       "      <td>1.493601</td>\n",
       "      <td>4.806341</td>\n",
       "    </tr>\n",
       "    <tr>\n",
       "      <th>min</th>\n",
       "      <td>0.00000</td>\n",
       "      <td>0.000000</td>\n",
       "      <td>0.000000</td>\n",
       "      <td>1.136859</td>\n",
       "      <td>0.370619</td>\n",
       "      <td>0.000000</td>\n",
       "      <td>1.000000</td>\n",
       "      <td>0.000000</td>\n",
       "      <td>1.910000e+03</td>\n",
       "      <td>0.000000</td>\n",
       "      <td>0.000000</td>\n",
       "      <td>168.000000</td>\n",
       "      <td>0.000000</td>\n",
       "      <td>0.000000</td>\n",
       "      <td>0.000000</td>\n",
       "      <td>0.000000</td>\n",
       "    </tr>\n",
       "    <tr>\n",
       "      <th>25%</th>\n",
       "      <td>4169.50000</td>\n",
       "      <td>20.000000</td>\n",
       "      <td>1.000000</td>\n",
       "      <td>41.774879</td>\n",
       "      <td>22.769833</td>\n",
       "      <td>1.000000</td>\n",
       "      <td>4.000000</td>\n",
       "      <td>9.000000</td>\n",
       "      <td>1.974000e+03</td>\n",
       "      <td>0.017647</td>\n",
       "      <td>6.000000</td>\n",
       "      <td>1564.000000</td>\n",
       "      <td>0.000000</td>\n",
       "      <td>350.000000</td>\n",
       "      <td>0.000000</td>\n",
       "      <td>1.000000</td>\n",
       "    </tr>\n",
       "    <tr>\n",
       "      <th>50%</th>\n",
       "      <td>8394.50000</td>\n",
       "      <td>36.000000</td>\n",
       "      <td>2.000000</td>\n",
       "      <td>52.513309</td>\n",
       "      <td>32.781261</td>\n",
       "      <td>6.000000</td>\n",
       "      <td>7.000000</td>\n",
       "      <td>13.000000</td>\n",
       "      <td>1.977000e+03</td>\n",
       "      <td>0.075424</td>\n",
       "      <td>25.000000</td>\n",
       "      <td>5285.000000</td>\n",
       "      <td>2.000000</td>\n",
       "      <td>900.000000</td>\n",
       "      <td>1.000000</td>\n",
       "      <td>3.000000</td>\n",
       "    </tr>\n",
       "    <tr>\n",
       "      <th>75%</th>\n",
       "      <td>12592.50000</td>\n",
       "      <td>75.000000</td>\n",
       "      <td>2.000000</td>\n",
       "      <td>65.900627</td>\n",
       "      <td>45.128803</td>\n",
       "      <td>9.000000</td>\n",
       "      <td>12.000000</td>\n",
       "      <td>17.000000</td>\n",
       "      <td>2.001000e+03</td>\n",
       "      <td>0.195781</td>\n",
       "      <td>36.000000</td>\n",
       "      <td>7227.000000</td>\n",
       "      <td>5.000000</td>\n",
       "      <td>1548.000000</td>\n",
       "      <td>2.000000</td>\n",
       "      <td>6.000000</td>\n",
       "    </tr>\n",
       "    <tr>\n",
       "      <th>max</th>\n",
       "      <td>16798.00000</td>\n",
       "      <td>209.000000</td>\n",
       "      <td>19.000000</td>\n",
       "      <td>641.065186</td>\n",
       "      <td>7480.592285</td>\n",
       "      <td>2014.000000</td>\n",
       "      <td>42.000000</td>\n",
       "      <td>117.000000</td>\n",
       "      <td>2.005201e+07</td>\n",
       "      <td>0.521867</td>\n",
       "      <td>74.000000</td>\n",
       "      <td>19083.000000</td>\n",
       "      <td>141.000000</td>\n",
       "      <td>4849.000000</td>\n",
       "      <td>6.000000</td>\n",
       "      <td>23.000000</td>\n",
       "    </tr>\n",
       "  </tbody>\n",
       "</table>\n",
       "</div>"
      ],
      "text/plain": [
       "                Id    DistrictId         Rooms        Square   LifeSquare  \\\n",
       "count  10000.00000  10000.000000  10000.000000  10000.000000  7887.000000   \n",
       "mean    8383.40770     50.400800      1.890500     56.315712    37.199596   \n",
       "std     4859.01902     43.587592      0.839523     21.058718    86.241112   \n",
       "min        0.00000      0.000000      0.000000      1.136859     0.370619   \n",
       "25%     4169.50000     20.000000      1.000000     41.774879    22.769833   \n",
       "50%     8394.50000     36.000000      2.000000     52.513309    32.781261   \n",
       "75%    12592.50000     75.000000      2.000000     65.900627    45.128803   \n",
       "max    16798.00000    209.000000     19.000000    641.065186  7480.592285   \n",
       "\n",
       "       KitchenSquare         Floor    HouseFloor     HouseYear     Ecology_1  \\\n",
       "count   10000.000000  10000.000000  10000.000000  1.000000e+04  10000.000000   \n",
       "mean        6.273300      8.526700     12.609400  3.990166e+03      0.118858   \n",
       "std        28.561113      5.241148      6.776192  2.005003e+05      0.119026   \n",
       "min         0.000000      1.000000      0.000000  1.910000e+03      0.000000   \n",
       "25%         1.000000      4.000000      9.000000  1.974000e+03      0.017647   \n",
       "50%         6.000000      7.000000     13.000000  1.977000e+03      0.075424   \n",
       "75%         9.000000     12.000000     17.000000  2.001000e+03      0.195781   \n",
       "max      2014.000000     42.000000    117.000000  2.005201e+07      0.521867   \n",
       "\n",
       "           Social_1      Social_2      Social_3  Healthcare_1   Helthcare_2  \\\n",
       "count  10000.000000  10000.000000  10000.000000   5202.000000  10000.000000   \n",
       "mean      24.687000   5352.157400      8.039200   1142.904419      1.319500   \n",
       "std       17.532614   4006.799803     23.831875   1021.518982      1.493601   \n",
       "min        0.000000    168.000000      0.000000      0.000000      0.000000   \n",
       "25%        6.000000   1564.000000      0.000000    350.000000      0.000000   \n",
       "50%       25.000000   5285.000000      2.000000    900.000000      1.000000   \n",
       "75%       36.000000   7227.000000      5.000000   1548.000000      2.000000   \n",
       "max       74.000000  19083.000000    141.000000   4849.000000      6.000000   \n",
       "\n",
       "            Shops_1  \n",
       "count  10000.000000  \n",
       "mean       4.231300  \n",
       "std        4.806341  \n",
       "min        0.000000  \n",
       "25%        1.000000  \n",
       "50%        3.000000  \n",
       "75%        6.000000  \n",
       "max       23.000000  "
      ]
     },
     "execution_count": 10,
     "metadata": {},
     "output_type": "execute_result"
    }
   ],
   "source": [
    "X_train.describe()"
   ]
  },
  {
   "cell_type": "markdown",
   "id": "e77fa847",
   "metadata": {},
   "source": [
    "##### Первый взгляд на данные.\n",
    "- Id можно исключить из анализа, т.к. он не несет полезной информации, только индекс. Или использовать вместо индекса строк.\n",
    "- District т.к. это скорее категориальное значение можно заменить модой\n",
    "- Rooms 0 врядли верное значение, даже студия считается минимум 1 комнатой. Можно высчитать среднюю площадь на комнату из имеющихся данных и вставлять в 0 значения Lifesquare / среднее площадь и округлить до целого. Также стоит проверить максимальное значеие комнат.\n",
    "- Square минимальная и максимальная площадь подозрительны\n",
    "- LifeSquare  также минимальная и максимальное значение подозрительны.\n",
    "- KitchenSquare таже история с максимальным. \n",
    "- Floor вроде все ок\n",
    "- HouseFloor 0 этажей не может быть. \n",
    "- HouseYear перевести год постройки в возвраст дома.\n",
    "- Ecology_1\tSocial_1\tSocial_2\tSocial_3\tHealthcare_1\tHelthcare_2\tShops_1 не понятно, что за показатели, так что нужно посмотреть в первую очередь, как можно заполнить НаН значения.\n",
    "\n"
   ]
  },
  {
   "cell_type": "markdown",
   "id": "133659d0",
   "metadata": {},
   "source": [
    "#### Id"
   ]
  },
  {
   "cell_type": "code",
   "execution_count": 11,
   "id": "bffd8ba0",
   "metadata": {},
   "outputs": [],
   "source": [
    "X_train = X_train.drop('Id', axis=1)"
   ]
  },
  {
   "cell_type": "markdown",
   "id": "2ee68e91",
   "metadata": {},
   "source": [
    "Уберем признак, т.к. он не информатьивен."
   ]
  },
  {
   "cell_type": "markdown",
   "id": "e819968a",
   "metadata": {},
   "source": [
    "#### DistrictId"
   ]
  },
  {
   "cell_type": "code",
   "execution_count": 12,
   "id": "8ef074fc",
   "metadata": {},
   "outputs": [
    {
     "data": {
      "text/plain": [
       "27     851\n",
       "1      652\n",
       "23     565\n",
       "6      511\n",
       "9      294\n",
       "      ... \n",
       "196      1\n",
       "117      1\n",
       "205      1\n",
       "199      1\n",
       "207      1\n",
       "Name: DistrictId, Length: 205, dtype: int64"
      ]
     },
     "execution_count": 12,
     "metadata": {},
     "output_type": "execute_result"
    }
   ],
   "source": [
    "X_train['DistrictId'].value_counts()"
   ]
  },
  {
   "cell_type": "markdown",
   "id": "b3189fd1",
   "metadata": {},
   "source": [
    "В целом наблюдения похожи, так что скорее всего 0 это не выброс, а счет идет с 0 включительно. Т.к. этот признак номинальный, надо его привести к количественному. Как вариант, нормализовать по доли. Таким образом, мы номер района превратим в индекс популярности."
   ]
  },
  {
   "cell_type": "code",
   "execution_count": 13,
   "id": "f66a6884",
   "metadata": {},
   "outputs": [],
   "source": [
    "distict_dict = X_train[\"DistrictId\"].value_counts(normalize=True).to_dict()"
   ]
  },
  {
   "cell_type": "code",
   "execution_count": 14,
   "id": "42f01e15",
   "metadata": {},
   "outputs": [],
   "source": [
    "X_train.replace({\"DistrictId\": distict_dict}, inplace=True )"
   ]
  },
  {
   "cell_type": "code",
   "execution_count": 15,
   "id": "d3e000f2",
   "metadata": {},
   "outputs": [
    {
     "data": {
      "text/plain": [
       "0.0851    851\n",
       "0.0652    652\n",
       "0.0565    565\n",
       "0.0511    511\n",
       "0.0097    388\n",
       "         ... \n",
       "0.0021     21\n",
       "0.0019     19\n",
       "0.0003     15\n",
       "0.0002     12\n",
       "0.0001      7\n",
       "Name: DistrictId, Length: 90, dtype: int64"
      ]
     },
     "execution_count": 15,
     "metadata": {},
     "output_type": "execute_result"
    }
   ],
   "source": [
    "X_train[\"DistrictId\"].value_counts()"
   ]
  },
  {
   "cell_type": "markdown",
   "id": "589fca7d",
   "metadata": {},
   "source": [
    "#### Rooms"
   ]
  },
  {
   "cell_type": "code",
   "execution_count": 16,
   "id": "a661d0af",
   "metadata": {},
   "outputs": [
    {
     "data": {
      "text/plain": [
       "2.0     3880\n",
       "1.0     3705\n",
       "3.0     2235\n",
       "4.0      150\n",
       "5.0       18\n",
       "0.0        8\n",
       "10.0       2\n",
       "6.0        1\n",
       "19.0       1\n",
       "Name: Rooms, dtype: int64"
      ]
     },
     "execution_count": 16,
     "metadata": {},
     "output_type": "execute_result"
    }
   ],
   "source": [
    "X_train['Rooms'].value_counts()"
   ]
  },
  {
   "cell_type": "markdown",
   "id": "4fda8f42",
   "metadata": {},
   "source": [
    "Хоть по статистике и получается, что 4 и более комнат являются выбросами, но после просмотра данных по этим квартирам становится ясно, что 4 комнаты, это просто большие квартиры, а выбросы это  5 и более комнат.\n",
    "По этому обработаем выбросы, заменив на ближайшее нормальное значение, и создадим доп признак для выделения изменения.  "
   ]
  },
  {
   "cell_type": "code",
   "execution_count": 17,
   "id": "afe02c20",
   "metadata": {},
   "outputs": [],
   "source": [
    "X_train[\"Rooms_outlier\"] = 0\n",
    "X_train.loc[(X_train[\"Rooms\"] >= 5), \"Rooms_outlier\"] = 1\n",
    "X_train.loc[(X_train[\"Rooms\"] >= 5), \"Rooms\"] = 4\n"
   ]
  },
  {
   "cell_type": "markdown",
   "id": "480bb1f1",
   "metadata": {},
   "source": [
    "#### KitchenSquare"
   ]
  },
  {
   "cell_type": "code",
   "execution_count": 18,
   "id": "1bc4f26a",
   "metadata": {},
   "outputs": [],
   "source": [
    "X_train.loc[X_train[\"KitchenSquare\"] > 150, \"KitchenSquare\"] = X_train[\"KitchenSquare\"].median() # отсечем явно ошибочные значения"
   ]
  },
  {
   "cell_type": "markdown",
   "id": "c91e25f9",
   "metadata": {},
   "source": [
    "#### LifeSquare"
   ]
  },
  {
   "cell_type": "markdown",
   "id": "67556f47",
   "metadata": {},
   "source": [
    "Заполняя Нан значения средним или медианой по признаку, получается большой перекос, т.к. пропущенных значений слишком много.  Мы можем расчитать средний коэффициент отношения жилой площади к общей площади, и используя его спрогнозировать пропущенные значения."
   ]
  },
  {
   "cell_type": "code",
   "execution_count": 19,
   "id": "d32e357b",
   "metadata": {},
   "outputs": [],
   "source": [
    "X_train[\"LifeSquare_nan\"] = 0\n",
    "X_train.loc[X_train[\"LifeSquare\"].isnull(), \"LifeSquare_nan\"] = 1"
   ]
  },
  {
   "cell_type": "code",
   "execution_count": 20,
   "id": "7db1d27c",
   "metadata": {},
   "outputs": [],
   "source": [
    "life_square_coef =  X_train[\"LifeSquare\"].mean() / X_train[\"Square\"].mean()\n",
    "X_train.loc[X_train[\"LifeSquare\"].isnull(), \"LifeSquare\"] = X_train.loc[X_train[\"LifeSquare\"].isnull(), \"Square\"] * life_square_coef"
   ]
  },
  {
   "cell_type": "markdown",
   "id": "8180f6fa",
   "metadata": {},
   "source": [
    "#### Floor"
   ]
  },
  {
   "cell_type": "markdown",
   "id": "66132114",
   "metadata": {},
   "source": [
    "Как правило первый и последний этажи стоят дешевле, можно это пометить.\n"
   ]
  },
  {
   "cell_type": "code",
   "execution_count": 21,
   "id": "795b3b5c",
   "metadata": {},
   "outputs": [],
   "source": [
    "bad_floor = (X_train[\"Floor\"] == 1) | (X_train[\"Floor\"] == X_train[\"HouseFloor\"])\n",
    "X_train[\"Bad_floor\"] = 0\n",
    "X_train.loc[bad_floor, \"Bad_floor\"] = 1"
   ]
  },
  {
   "cell_type": "markdown",
   "id": "dcb159c1",
   "metadata": {},
   "source": [
    "#### HouseFloor\t"
   ]
  },
  {
   "cell_type": "code",
   "execution_count": 22,
   "id": "2bcbf671",
   "metadata": {
    "scrolled": true
   },
   "outputs": [
    {
     "data": {
      "text/html": [
       "<div>\n",
       "<style scoped>\n",
       "    .dataframe tbody tr th:only-of-type {\n",
       "        vertical-align: middle;\n",
       "    }\n",
       "\n",
       "    .dataframe tbody tr th {\n",
       "        vertical-align: top;\n",
       "    }\n",
       "\n",
       "    .dataframe thead th {\n",
       "        text-align: right;\n",
       "    }\n",
       "</style>\n",
       "<table border=\"1\" class=\"dataframe\">\n",
       "  <thead>\n",
       "    <tr style=\"text-align: right;\">\n",
       "      <th></th>\n",
       "      <th>DistrictId</th>\n",
       "      <th>Rooms</th>\n",
       "      <th>Square</th>\n",
       "      <th>LifeSquare</th>\n",
       "      <th>KitchenSquare</th>\n",
       "      <th>Floor</th>\n",
       "      <th>HouseFloor</th>\n",
       "      <th>HouseYear</th>\n",
       "      <th>Ecology_1</th>\n",
       "      <th>Ecology_2</th>\n",
       "      <th>...</th>\n",
       "      <th>Social_1</th>\n",
       "      <th>Social_2</th>\n",
       "      <th>Social_3</th>\n",
       "      <th>Healthcare_1</th>\n",
       "      <th>Helthcare_2</th>\n",
       "      <th>Shops_1</th>\n",
       "      <th>Shops_2</th>\n",
       "      <th>Rooms_outlier</th>\n",
       "      <th>LifeSquare_nan</th>\n",
       "      <th>Bad_floor</th>\n",
       "    </tr>\n",
       "  </thead>\n",
       "  <tbody>\n",
       "    <tr>\n",
       "      <th>7</th>\n",
       "      <td>0.0114</td>\n",
       "      <td>2.0</td>\n",
       "      <td>80.312927</td>\n",
       "      <td>53.051064</td>\n",
       "      <td>0.0</td>\n",
       "      <td>14</td>\n",
       "      <td>0.0</td>\n",
       "      <td>1977</td>\n",
       "      <td>0.075779</td>\n",
       "      <td>B</td>\n",
       "      <td>...</td>\n",
       "      <td>6</td>\n",
       "      <td>1437</td>\n",
       "      <td>3</td>\n",
       "      <td>NaN</td>\n",
       "      <td>0</td>\n",
       "      <td>2</td>\n",
       "      <td>B</td>\n",
       "      <td>0</td>\n",
       "      <td>1</td>\n",
       "      <td>0</td>\n",
       "    </tr>\n",
       "    <tr>\n",
       "      <th>23</th>\n",
       "      <td>0.0037</td>\n",
       "      <td>3.0</td>\n",
       "      <td>118.907608</td>\n",
       "      <td>78.544952</td>\n",
       "      <td>0.0</td>\n",
       "      <td>2</td>\n",
       "      <td>0.0</td>\n",
       "      <td>1977</td>\n",
       "      <td>0.006076</td>\n",
       "      <td>B</td>\n",
       "      <td>...</td>\n",
       "      <td>30</td>\n",
       "      <td>5285</td>\n",
       "      <td>0</td>\n",
       "      <td>645.0</td>\n",
       "      <td>6</td>\n",
       "      <td>6</td>\n",
       "      <td>B</td>\n",
       "      <td>0</td>\n",
       "      <td>1</td>\n",
       "      <td>0</td>\n",
       "    </tr>\n",
       "    <tr>\n",
       "      <th>26</th>\n",
       "      <td>0.0851</td>\n",
       "      <td>3.0</td>\n",
       "      <td>106.958870</td>\n",
       "      <td>0.641822</td>\n",
       "      <td>0.0</td>\n",
       "      <td>17</td>\n",
       "      <td>0.0</td>\n",
       "      <td>2018</td>\n",
       "      <td>0.072158</td>\n",
       "      <td>B</td>\n",
       "      <td>...</td>\n",
       "      <td>2</td>\n",
       "      <td>629</td>\n",
       "      <td>1</td>\n",
       "      <td>NaN</td>\n",
       "      <td>0</td>\n",
       "      <td>0</td>\n",
       "      <td>A</td>\n",
       "      <td>0</td>\n",
       "      <td>0</td>\n",
       "      <td>0</td>\n",
       "    </tr>\n",
       "    <tr>\n",
       "      <th>39</th>\n",
       "      <td>0.0565</td>\n",
       "      <td>2.0</td>\n",
       "      <td>60.503250</td>\n",
       "      <td>39.965691</td>\n",
       "      <td>0.0</td>\n",
       "      <td>16</td>\n",
       "      <td>0.0</td>\n",
       "      <td>1977</td>\n",
       "      <td>0.034656</td>\n",
       "      <td>B</td>\n",
       "      <td>...</td>\n",
       "      <td>0</td>\n",
       "      <td>168</td>\n",
       "      <td>0</td>\n",
       "      <td>NaN</td>\n",
       "      <td>0</td>\n",
       "      <td>0</td>\n",
       "      <td>B</td>\n",
       "      <td>0</td>\n",
       "      <td>1</td>\n",
       "      <td>0</td>\n",
       "    </tr>\n",
       "    <tr>\n",
       "      <th>44</th>\n",
       "      <td>0.0036</td>\n",
       "      <td>3.0</td>\n",
       "      <td>104.211395</td>\n",
       "      <td>106.340401</td>\n",
       "      <td>0.0</td>\n",
       "      <td>20</td>\n",
       "      <td>0.0</td>\n",
       "      <td>2017</td>\n",
       "      <td>0.060753</td>\n",
       "      <td>B</td>\n",
       "      <td>...</td>\n",
       "      <td>15</td>\n",
       "      <td>2787</td>\n",
       "      <td>2</td>\n",
       "      <td>520.0</td>\n",
       "      <td>0</td>\n",
       "      <td>7</td>\n",
       "      <td>B</td>\n",
       "      <td>0</td>\n",
       "      <td>0</td>\n",
       "      <td>0</td>\n",
       "    </tr>\n",
       "  </tbody>\n",
       "</table>\n",
       "<p>5 rows × 21 columns</p>\n",
       "</div>"
      ],
      "text/plain": [
       "    DistrictId  Rooms      Square  LifeSquare  KitchenSquare  Floor  \\\n",
       "7       0.0114    2.0   80.312927   53.051064            0.0     14   \n",
       "23      0.0037    3.0  118.907608   78.544952            0.0      2   \n",
       "26      0.0851    3.0  106.958870    0.641822            0.0     17   \n",
       "39      0.0565    2.0   60.503250   39.965691            0.0     16   \n",
       "44      0.0036    3.0  104.211395  106.340401            0.0     20   \n",
       "\n",
       "    HouseFloor  HouseYear  Ecology_1 Ecology_2  ... Social_1  Social_2  \\\n",
       "7          0.0       1977   0.075779         B  ...        6      1437   \n",
       "23         0.0       1977   0.006076         B  ...       30      5285   \n",
       "26         0.0       2018   0.072158         B  ...        2       629   \n",
       "39         0.0       1977   0.034656         B  ...        0       168   \n",
       "44         0.0       2017   0.060753         B  ...       15      2787   \n",
       "\n",
       "    Social_3  Healthcare_1  Helthcare_2  Shops_1  Shops_2 Rooms_outlier  \\\n",
       "7          3           NaN            0        2        B             0   \n",
       "23         0         645.0            6        6        B             0   \n",
       "26         1           NaN            0        0        A             0   \n",
       "39         0           NaN            0        0        B             0   \n",
       "44         2         520.0            0        7        B             0   \n",
       "\n",
       "    LifeSquare_nan  Bad_floor  \n",
       "7                1          0  \n",
       "23               1          0  \n",
       "26               0          0  \n",
       "39               1          0  \n",
       "44               0          0  \n",
       "\n",
       "[5 rows x 21 columns]"
      ]
     },
     "execution_count": 22,
     "metadata": {},
     "output_type": "execute_result"
    }
   ],
   "source": [
    "X_train.loc[X_train[\"HouseFloor\"] == 0].head(5) # 0 этажей явно ошибка"
   ]
  },
  {
   "cell_type": "markdown",
   "id": "10e4a94c",
   "metadata": {},
   "source": [
    "Заменим 0 этажи значением этажа продаваемой квартиры."
   ]
  },
  {
   "cell_type": "code",
   "execution_count": 23,
   "id": "74e33987",
   "metadata": {},
   "outputs": [],
   "source": [
    "X_train[\"HouseFloor_outlier\"] = 0\n",
    "X_train.loc[X_train[\"HouseFloor\"] == 0, \"HouseFloor_outlier\"] = 1\n",
    "X_train.loc[X_train[\"HouseFloor\"] == 0, \"HouseFloor\"] = X_train.loc[X_train[\"HouseFloor\"] == 0, \"Floor\"]"
   ]
  },
  {
   "cell_type": "markdown",
   "id": "2a377896",
   "metadata": {},
   "source": [
    "#### HouseYear"
   ]
  },
  {
   "cell_type": "markdown",
   "id": "de27d27a",
   "metadata": {},
   "source": [
    "Переведем год постройки в возраст дома."
   ]
  },
  {
   "cell_type": "code",
   "execution_count": 24,
   "id": "94e527bc",
   "metadata": {},
   "outputs": [],
   "source": [
    "\n",
    "x = datetime.now()\n",
    "X_train.loc[X_train[\"HouseYear\"] > x.year, \"HouseYear\"] = X_train[\"HouseYear\"].median()\n",
    "X_train[\"HouseYear\"] = x.year - X_train[\"HouseYear\"]\n"
   ]
  },
  {
   "cell_type": "code",
   "execution_count": 25,
   "id": "11b3ddbe",
   "metadata": {},
   "outputs": [
    {
     "data": {
      "text/plain": [
       "<AxesSubplot:>"
      ]
     },
     "execution_count": 25,
     "metadata": {},
     "output_type": "execute_result"
    },
    {
     "data": {
      "image/png": "[encoded data removed]",
      "text/plain": [
       "<Figure size 432x288 with 1 Axes>"
      ]
     },
     "metadata": {},
     "output_type": "display_data"
    }
   ],
   "source": [
    "X_train[\"HouseYear\"].hist(bins=25)"
   ]
  },
  {
   "cell_type": "code",
   "execution_count": 26,
   "id": "d6fe3c84",
   "metadata": {},
   "outputs": [
    {
     "data": {
      "text/plain": [
       "44     2654\n",
       "4       308\n",
       "5       305\n",
       "6       299\n",
       "7       210\n",
       "       ... \n",
       "107       1\n",
       "93        1\n",
       "74        1\n",
       "105       1\n",
       "111       1\n",
       "Name: HouseYear, Length: 95, dtype: int64"
      ]
     },
     "execution_count": 26,
     "metadata": {},
     "output_type": "execute_result"
    }
   ],
   "source": [
    "X_train[\"HouseYear\"].value_counts()"
   ]
  },
  {
   "cell_type": "markdown",
   "id": "5014ba0e",
   "metadata": {},
   "source": [
    "Явно выделяются дома которым 44 года."
   ]
  },
  {
   "cell_type": "code",
   "execution_count": 27,
   "id": "a6c0d743",
   "metadata": {},
   "outputs": [],
   "source": [
    "X_train['Ecology_2'] = (X_train['Ecology_2'] == 'A').astype(int)\n",
    "X_train['Ecology_3'] = (X_train['Ecology_3'] == 'A').astype(int)\n",
    "X_train['Shops_2'] = (X_train['Shops_2'] == 'A').astype(int)"
   ]
  },
  {
   "cell_type": "markdown",
   "id": "653ee7ca",
   "metadata": {},
   "source": [
    "#### Healthcare_1 "
   ]
  },
  {
   "cell_type": "markdown",
   "id": "cf6a5dae",
   "metadata": {},
   "source": [
    "--- Начало Healthcare_1 ---"
   ]
  },
  {
   "cell_type": "markdown",
   "id": "71825762",
   "metadata": {},
   "source": [
    "Спрогнозируем Нан значения через модель."
   ]
  },
  {
   "cell_type": "code",
   "execution_count": 28,
   "id": "544d6030",
   "metadata": {},
   "outputs": [],
   "source": [
    "X_train_H = X_train.loc[X_train['Healthcare_1'].notnull()]\n",
    "y_2 = X_train_H[\"Healthcare_1\"]\n",
    "X_train_H = X_train_H.drop(['Healthcare_1'], axis = 1)"
   ]
  },
  {
   "cell_type": "code",
   "execution_count": 29,
   "id": "0e018045",
   "metadata": {},
   "outputs": [
    {
     "data": {
      "text/plain": [
       "GradientBoostingRegressor(criterion='mse', max_depth=5, max_features=6,\n",
       "                          min_samples_leaf=10, n_estimators=200,\n",
       "                          random_state=42)"
      ]
     },
     "execution_count": 29,
     "metadata": {},
     "output_type": "execute_result"
    }
   ],
   "source": [
    "gb_model2 = GradientBoostingRegressor(criterion='mse', min_samples_leaf=10, random_state=42, max_depth = 5, max_features=6, n_estimators=200)\n",
    "gb_model2.fit(X_train_H, y_2)"
   ]
  },
  {
   "cell_type": "code",
   "execution_count": 30,
   "id": "9cf4ebac",
   "metadata": {},
   "outputs": [],
   "source": [
    "X_nan_healthcare_1 = (X_train.loc[X_train['Healthcare_1'].isnull()]).drop('Healthcare_1', axis = 1)\n",
    "y_pred_healthcare_1 = gb_model2.predict(X_nan_healthcare_1)\n",
    "X_train.loc[X_train['Healthcare_1'].isnull(), 'Healthcare_1'] = y_pred_healthcare_1"
   ]
  },
  {
   "cell_type": "markdown",
   "id": "1d35b2df",
   "metadata": {},
   "source": [
    "--- Конец Healthcare_1 ---"
   ]
  },
  {
   "cell_type": "markdown",
   "id": "6896bccd",
   "metadata": {},
   "source": [
    "Попробуем, снизить размерность логически схожих признаков."
   ]
  },
  {
   "cell_type": "code",
   "execution_count": 31,
   "id": "b0b1e53a",
   "metadata": {},
   "outputs": [],
   "source": [
    "from sklearn.decomposition import PCA"
   ]
  },
  {
   "cell_type": "code",
   "execution_count": 32,
   "id": "43078372",
   "metadata": {},
   "outputs": [],
   "source": [
    "scaler = RobustScaler()"
   ]
  },
  {
   "cell_type": "code",
   "execution_count": 33,
   "id": "692ea987",
   "metadata": {},
   "outputs": [],
   "source": [
    "X_train_scaled = pd.DataFrame(scaler.fit_transform(X_train), columns=X_train.columns)\n"
   ]
  },
  {
   "cell_type": "code",
   "execution_count": 34,
   "id": "4724a651",
   "metadata": {},
   "outputs": [],
   "source": [
    "X_ecology = X_train_scaled[['Ecology_1', 'Ecology_2', 'Ecology_3']]\n",
    "\n",
    "pca_eco = PCA(n_components=1, random_state=42)\n",
    "X_train['Ecology'] = pca_eco.fit_transform(X_ecology)"
   ]
  },
  {
   "cell_type": "code",
   "execution_count": 35,
   "id": "8b304987",
   "metadata": {},
   "outputs": [],
   "source": [
    "X_healthcare = X_train_scaled[['Healthcare_1', 'Helthcare_2']]\n",
    "pca_heal = PCA(n_components=1, random_state=42)\n",
    "X_train['Healthcare'] = pca_heal.fit_transform(X_healthcare)"
   ]
  },
  {
   "cell_type": "code",
   "execution_count": 36,
   "id": "1cdc90a1",
   "metadata": {},
   "outputs": [],
   "source": [
    "X_social = X_train_scaled[['Social_1', 'Social_2', 'Social_3']]\n",
    "pca_social = PCA(n_components=1, random_state=42)\n",
    "X_train['Social'] = pca_social.fit_transform(X_social)"
   ]
  },
  {
   "cell_type": "code",
   "execution_count": 37,
   "id": "498003bb",
   "metadata": {},
   "outputs": [],
   "source": [
    "X_shops = X_train_scaled[['Shops_1', 'Shops_2']]\n",
    "\n",
    "pca_shop = PCA(n_components=1, random_state=42)\n",
    "X_train['Shops'] = pca_shop.fit_transform(X_shops)\n"
   ]
  },
  {
   "cell_type": "code",
   "execution_count": 38,
   "id": "e541b162",
   "metadata": {},
   "outputs": [],
   "source": [
    "X_train = X_train[['DistrictId', 'Rooms', 'Square', 'LifeSquare', 'KitchenSquare', 'Floor',\n",
    "       'HouseFloor', 'HouseYear', 'Rooms_outlier', 'LifeSquare_nan', 'Bad_floor',\n",
    "       'HouseFloor_outlier', 'Ecology', 'Healthcare', 'Social', 'Shops']]"
   ]
  },
  {
   "cell_type": "markdown",
   "id": "581c1922",
   "metadata": {},
   "source": [
    "### Попробуем накидать фичей"
   ]
  },
  {
   "cell_type": "code",
   "execution_count": 39,
   "id": "66315c76",
   "metadata": {},
   "outputs": [],
   "source": [
    "X_train[\"Healthcare2Ecology\"] = X_train[\"Healthcare\"] / X_train[\"Ecology\"]"
   ]
  },
  {
   "cell_type": "code",
   "execution_count": 40,
   "id": "16861c66",
   "metadata": {},
   "outputs": [],
   "source": [
    "X_train[\"Healthcare2Social\"] = X_train[\"Healthcare\"] / X_train[\"Social\"]"
   ]
  },
  {
   "cell_type": "code",
   "execution_count": 41,
   "id": "a4d75182",
   "metadata": {},
   "outputs": [],
   "source": [
    "X_train[\"Shops2Social\"] = X_train[\"Shops\"] /  X_train[\"Social\"]"
   ]
  },
  {
   "cell_type": "code",
   "execution_count": 42,
   "id": "c390193e",
   "metadata": {},
   "outputs": [],
   "source": [
    "X_train[\"Social2HouseFloor\"] = X_train[\"Social\"] / X_train[\"HouseFloor\"]"
   ]
  },
  {
   "cell_type": "code",
   "execution_count": 43,
   "id": "0a0d4630",
   "metadata": {},
   "outputs": [],
   "source": [
    "X_train[\"Square2Social\"] = X_train[\"Square\"] /  X_train[\"Social\"] "
   ]
  },
  {
   "cell_type": "markdown",
   "id": "38e7e296",
   "metadata": {},
   "source": [
    "### Подготавливаем тестовый сет"
   ]
  },
  {
   "cell_type": "code",
   "execution_count": 44,
   "id": "5d2d6367",
   "metadata": {},
   "outputs": [],
   "source": [
    "\n",
    "medians = X_train[\"KitchenSquare\"].median(), X_train[\"HouseYear\"].median()"
   ]
  },
  {
   "cell_type": "code",
   "execution_count": 45,
   "id": "af6ece0b",
   "metadata": {},
   "outputs": [],
   "source": [
    "def x_test_prepare(X_test_prepare, medians):\n",
    "\n",
    "    \n",
    "    kitchenSquare, houseyear = medians\n",
    "    \n",
    "    X_test_prepare = X_test_prepare.drop('Id', axis=1)\n",
    "    X_test_prepare.replace({\"DistrictId\": distict_dict}, inplace=True )\n",
    "   \n",
    "    X_test_prepare[\"Rooms_outlier\"] = 0\n",
    "    X_test_prepare.loc[(X_test_prepare[\"Rooms\"] >= 5), \"Rooms_outlier\"] = 1\n",
    "    X_test_prepare.loc[(X_test_prepare[\"Rooms\"] >= 5), \"Rooms\"] = 4\n",
    "    \n",
    "    X_test_prepare.loc[X_test_prepare[\"KitchenSquare\"] > 150, \"KitchenSquare\"] = kitchenSquare\n",
    "    \n",
    "    \n",
    "    X_test_prepare[\"LifeSquare_nan\"] = 0\n",
    "    X_test_prepare.loc[X_test_prepare[\"LifeSquare\"].isnull(), \"LifeSquare_nan\"] = 1\n",
    "    X_test_prepare.loc[X_test_prepare[\"LifeSquare\"].isnull(), \"LifeSquare\"] = X_test_prepare.loc[X_test_prepare[\"LifeSquare\"].isnull(), \"Square\"] * life_square_coef\n",
    "    \n",
    "    X_test_bad_floor = (X_test_prepare[\"Floor\"] == 1) | (X_test_prepare[\"Floor\"] == X_test_prepare[\"HouseFloor\"])\n",
    "    X_test_prepare[\"Bad_floor\"] = 0\n",
    "    X_test_prepare.loc[X_test_bad_floor, \"Bad_floor\"] = 1\n",
    "    \n",
    "\n",
    "    X_test_prepare[\"HouseFloor_outlier\"] = 0\n",
    "    X_test_prepare.loc[X_test_prepare[\"HouseFloor\"] == 0, \"HouseFloor_outlier\"] = 1\n",
    "    X_test_prepare.loc[X_test_prepare[\"HouseFloor\"] == 0, \"HouseFloor\"] = X_test_prepare.loc[X_test_prepare[\"HouseFloor\"] == 0, \"Floor\"]\n",
    "    \n",
    "    x = datetime.now()\n",
    "    X_test_prepare.loc[X_test_prepare[\"HouseYear\"] > x.year, \"HouseYear\"] = houseyear\n",
    "    X_test_prepare[\"HouseYear\"] = x.year - X_test_prepare[\"HouseYear\"]\n",
    "    \n",
    "    \n",
    "    X_test_prepare['Ecology_2'] = (X_test_prepare['Ecology_2'] == 'A').astype(int)\n",
    "    X_test_prepare['Ecology_3'] = (X_test_prepare['Ecology_3'] == 'A').astype(int)\n",
    "    X_test_prepare['Shops_2'] = (X_test_prepare['Shops_2'] == 'A').astype(int) \n",
    "    \n",
    "    \n",
    "    X_nan_healthcare_1 = (X_test_prepare.loc[X_test_prepare['Healthcare_1'].isnull()]).drop('Healthcare_1', axis = 1)\n",
    "    y_pred_healthcare_1 = gb_model2.predict(X_nan_healthcare_1)\n",
    "    X_test_prepare.loc[X_test_prepare['Healthcare_1'].isnull(), 'Healthcare_1'] = y_pred_healthcare_1\n",
    "    \n",
    "    \n",
    "    X_test_prepare_scaled = pd.DataFrame(scaler.transform(X_test_prepare), columns=X_test_prepare.columns)\n",
    "    \n",
    "    X_test_ecology = X_test_prepare_scaled[['Ecology_1', 'Ecology_2', 'Ecology_3']]\n",
    "    X_test_prepare['Ecology'] = pca_eco.transform(X_test_ecology)\n",
    "    \n",
    "    X_test_healthcare = X_test_prepare_scaled[['Healthcare_1', 'Helthcare_2']]\n",
    "    X_test_prepare['Healthcare'] = pca_heal.transform(X_test_healthcare)\n",
    "    \n",
    "    X_test_social = X_test_prepare_scaled[['Social_1', 'Social_2', 'Social_3']]    \n",
    "    X_test_prepare['Social'] = pca_social.transform(X_test_social) \n",
    "    \n",
    "    X_test_shops = X_test_prepare_scaled[['Shops_1', 'Shops_2']] \n",
    "    X_test_prepare['Shops'] = pca_shop.transform(X_test_shops)\n",
    "    \n",
    "    X_test_prepare = X_test_prepare[['DistrictId', 'Rooms', 'Square', 'LifeSquare', 'KitchenSquare', 'Floor',\n",
    "       'HouseFloor', 'HouseYear', 'Rooms_outlier', 'LifeSquare_nan', 'Bad_floor',\n",
    "       'HouseFloor_outlier', 'Ecology', 'Healthcare', 'Social', 'Shops']]\n",
    "   \n",
    "    return X_test_prepare"
   ]
  },
  {
   "cell_type": "code",
   "execution_count": 46,
   "id": "74cd0f0b",
   "metadata": {},
   "outputs": [],
   "source": [
    "X_test = x_test_prepare(X_test, medians)"
   ]
  },
  {
   "cell_type": "markdown",
   "id": "4077d3c0",
   "metadata": {},
   "source": [
    "### Обучаем модель"
   ]
  },
  {
   "cell_type": "markdown",
   "id": "735d93e7",
   "metadata": {},
   "source": [
    "Подбор гиперпараметров"
   ]
  },
  {
   "cell_type": "raw",
   "id": "d63870ec",
   "metadata": {},
   "source": [
    "gb_model = GradientBoostingRegressor(criterion='mse',\n",
    "                          \n",
    "                          random_state=42,\n",
    "                         )\n",
    "\n",
    "parameters = {\n",
    "    \"min_samples_leaf\": np.arange(7, 10),\n",
    "    'n_estimators': [200, 350],\n",
    "    'max_features': np.arange(2, 10),\n",
    "    'max_depth': np.arange(2, 8),\n",
    "}\n",
    "gs = GridSearchCV(\n",
    "    estimator=gb_model,\n",
    "    param_grid=parameters,\n",
    "    scoring='r2',\n",
    "    cv=5,\n",
    ")\n",
    "gs.fit(X_train, y_train)\n",
    "gs.best_params_"
   ]
  },
  {
   "cell_type": "markdown",
   "id": "190fc1de",
   "metadata": {},
   "source": [
    "{'max_depth': 5, 'max_features': 6, 'min_samples_leaf': 8, 'n_estimators': 350}"
   ]
  },
  {
   "cell_type": "markdown",
   "id": "0babec4e",
   "metadata": {},
   "source": [
    "#### Финальная модель"
   ]
  },
  {
   "cell_type": "code",
   "execution_count": 48,
   "id": "32f0df0d",
   "metadata": {},
   "outputs": [],
   "source": [
    "gb_model = GradientBoostingRegressor(criterion='mse', min_samples_leaf=8, random_state=42, max_depth = 5, max_features=6, n_estimators=350)"
   ]
  },
  {
   "cell_type": "code",
   "execution_count": 49,
   "id": "a00f2103",
   "metadata": {},
   "outputs": [
    {
     "data": {
      "text/plain": [
       "GradientBoostingRegressor(criterion='mse', max_depth=5, max_features=6,\n",
       "                          min_samples_leaf=8, n_estimators=350,\n",
       "                          random_state=42)"
      ]
     },
     "execution_count": 49,
     "metadata": {},
     "output_type": "execute_result"
    }
   ],
   "source": [
    "gb_model.fit(X_train, y_train)"
   ]
  },
  {
   "cell_type": "code",
   "execution_count": 50,
   "id": "bb8cecf8",
   "metadata": {},
   "outputs": [],
   "source": [
    "y_pred = gb_model.predict(X_train)"
   ]
  },
  {
   "cell_type": "code",
   "execution_count": 51,
   "id": "83d62d5e",
   "metadata": {},
   "outputs": [],
   "source": [
    "def evaluate_preds(true_values, pred_values, save=False):\n",
    "        \n",
    "    print(\"R2:\\t\" + str(round(r2(true_values, pred_values), 4)) + \"\\n\" +\n",
    "          \"RMSE:\\t\" + str(round(np.sqrt(mse(true_values, pred_values)), 3)) + \"\\n\" +\n",
    "          \"MSE:\\t\" + str(round(mse(true_values, pred_values), 3))\n",
    "         )\n",
    "    \n",
    "    plt.figure(figsize=(8,8))\n",
    "    \n",
    "    sns.scatterplot(x=pred_values, y=true_values)\n",
    "    plt.plot([0, 500000], [0, 500000], linestyle='--', color='black')  \n",
    "    \n",
    "    plt.xlabel('Predicted values')\n",
    "    plt.ylabel('True values')\n",
    "    plt.title('True vs Predicted values')\n",
    "    \n",
    "    plt.show()"
   ]
  },
  {
   "cell_type": "markdown",
   "id": "7ac305f9",
   "metadata": {},
   "source": [
    "### Итоговый результат"
   ]
  },
  {
   "cell_type": "code",
   "execution_count": 52,
   "id": "d1670d83",
   "metadata": {},
   "outputs": [
    {
     "name": "stdout",
     "output_type": "stream",
     "text": [
      "R2:\t0.8958\n",
      "RMSE:\t29974.965\n",
      "MSE:\t898498515.136\n"
     ]
    },
    {
     "data": {
      "image/png": "[encoded data removed]",
      "text/plain": [
       "<Figure size 576x576 with 1 Axes>"
      ]
     },
     "metadata": {},
     "output_type": "display_data"
    }
   ],
   "source": [
    "evaluate_preds(y_train, y_pred)\n"
   ]
  },
  {
   "cell_type": "raw",
   "id": "530a455c",
   "metadata": {},
   "source": [
    "Видно перекос когда на дешевое жилье, модель предсказывает высокую цену. "
   ]
  },
  {
   "cell_type": "code",
   "execution_count": 53,
   "id": "eb177299",
   "metadata": {},
   "outputs": [],
   "source": [
    "f_i = gb_model.feature_importances_"
   ]
  },
  {
   "cell_type": "code",
   "execution_count": 54,
   "id": "7b8b89ff",
   "metadata": {},
   "outputs": [
    {
     "data": {
      "image/png": "[encoded data removed]",
      "text/plain": [
       "<Figure size 720x720 with 1 Axes>"
      ]
     },
     "metadata": {},
     "output_type": "display_data"
    }
   ],
   "source": [
    "plt.figure(figsize=(10,10))\n",
    "plt.barh(X_train.columns, f_i)\n",
    "plt.show()"
   ]
  },
  {
   "cell_type": "markdown",
   "id": "6fccee13",
   "metadata": {},
   "source": [
    "Манипуляции с DistrictId, Healthcare_1, LifeSquare оправдались, получились сильные признаки."
   ]
  },
  {
   "cell_type": "code",
   "execution_count": null,
   "id": "105b141a",
   "metadata": {},
   "outputs": [],
   "source": [
    "y_test_pred = gb_model.predict(X_test)"
   ]
  },
  {
   "cell_type": "code",
   "execution_count": null,
   "id": "fc29b307",
   "metadata": {},
   "outputs": [],
   "source": [
    "IKurkov_predictions[\"Price\"] = y_test_pred"
   ]
  },
  {
   "cell_type": "code",
   "execution_count": null,
   "id": "301b8bf8",
   "metadata": {},
   "outputs": [],
   "source": [
    "IKurkov_predictions"
   ]
  },
  {
   "cell_type": "raw",
   "id": "6c8fbc81",
   "metadata": {},
   "source": [
    "IKurkov_predictions.to_csv('IKurkov_predictions.csv', index=False)"
   ]
  },
  {
   "cell_type": "code",
   "execution_count": null,
   "id": "b6df7e72",
   "metadata": {},
   "outputs": [],
   "source": []
  }
 ],
 "metadata": {
  "kernelspec": {
   "display_name": "Python 3",
   "language": "python",
   "name": "python3"
  },
  "language_info": {
   "codemirror_mode": {
    "name": "ipython",
    "version": 3
   },
   "file_extension": ".py",
   "mimetype": "text/x-python",
   "name": "python",
   "nbconvert_exporter": "python",
   "pygments_lexer": "ipython3",
   "version": "3.8.8"
  }
 },
 "nbformat": 4,
 "nbformat_minor": 5
}
