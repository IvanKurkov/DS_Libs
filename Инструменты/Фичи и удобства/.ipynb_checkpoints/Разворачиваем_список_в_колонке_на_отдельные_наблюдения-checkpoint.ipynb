{
 "cells": [
  {
   "cell_type": "code",
   "execution_count": null,
   "id": "d1ff9175",
   "metadata": {},
   "outputs": [],
   "source": [
    "\tuser_id\tcandidates\n",
    "0\t2070\t[1105426, 1097350, 879194, 948640, 928263, 944...\n",
    "1\t2021\t[950935, 1119454, 835578, 863762, 1019142, 102..."
   ]
  },
  {
   "cell_type": "code",
   "execution_count": null,
   "id": "8b5a6464",
   "metadata": {},
   "outputs": [],
   "source": [
    "df_items = df_match_candidates.apply(lambda x: pd.Series(x['candidates']), axis=1).stack().reset_index(level=1, drop=True)\n",
    "df_items.name = 'item_id'\n",
    "df_match_candidates = df_match_candidates.drop('candidates', axis=1).join(df_items)"
   ]
  },
  {
   "cell_type": "code",
   "execution_count": null,
   "id": "acbcf99d",
   "metadata": {},
   "outputs": [],
   "source": [
    "\n",
    "user_id\titem_id\n",
    "0\t2070\t1105426\n",
    "0\t2070\t1097350\n",
    "0\t2070\t879194\n",
    "0\t2070\t948640"
   ]
  }
 ],
 "metadata": {
  "kernelspec": {
   "display_name": "Python 3 (ipykernel)",
   "language": "python",
   "name": "python3"
  },
  "language_info": {
   "codemirror_mode": {
    "name": "ipython",
    "version": 3
   },
   "file_extension": ".py",
   "mimetype": "text/x-python",
   "name": "python",
   "nbconvert_exporter": "python",
   "pygments_lexer": "ipython3",
   "version": "3.9.7"
  }
 },
 "nbformat": 4,
 "nbformat_minor": 5
}
