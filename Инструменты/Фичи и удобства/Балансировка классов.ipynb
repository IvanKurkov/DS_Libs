{
 "cells": [
  {
   "cell_type": "code",
   "execution_count": null,
   "id": "536caca6",
   "metadata": {},
   "outputs": [],
   "source": [
    "def oversample_df_by_target(df, target_name):\n",
    "\n",
    "    target_counts = df[target_name].value_counts()\n",
    "\n",
    "    major_class_name = target_counts.argmax()\n",
    "    minor_class_name = target_counts.argmin()\n",
    "\n",
    "    disbalance_coeff = int(target_counts[major_class_name] / target_counts[minor_class_name]) - 1\n",
    "\n",
    "    for i in range(disbalance_coeff):\n",
    "        sample = df[df[target_name] == minor_class_name].sample(target_counts[minor_class_name])\n",
    "        df = df.append(sample, ignore_index=True)\n",
    "\n",
    "    return df.sample(frac=1) "
   ]
  },
  {
   "cell_type": "code",
   "execution_count": null,
   "id": "bebddb3b",
   "metadata": {},
   "outputs": [],
   "source": [
    "def undersample_df_by_target(df, target_name):\n",
    "\n",
    "    num_0 = len(df[df[target_name]==0])\n",
    "    num_1 = len(df[df[target_name]==1])\n",
    "    undersampled_data = pd.concat([df[df[target_name]==0].sample(num_1), df[df[target_name]==1]])\n",
    "    return undersampled_data"
   ]
  },
  {
   "cell_type": "code",
   "execution_count": null,
   "id": "71e66809",
   "metadata": {},
   "outputs": [],
   "source": [
    "train = balance_df_by_target(train, \"Credit Default\")"
   ]
  },
  {
   "cell_type": "markdown",
   "id": "c9fd0441",
   "metadata": {},
   "source": [
    "- Использовать SMOTE - https://habr.com/ru/post/461285/\n",
    "- Включить параметр \"class_weight : ‘balanced’, default=None"
   ]
  }
 ],
 "metadata": {
  "kernelspec": {
   "display_name": "Python 3 (ipykernel)",
   "language": "python",
   "name": "python3"
  },
  "language_info": {
   "codemirror_mode": {
    "name": "ipython",
    "version": 3
   },
   "file_extension": ".py",
   "mimetype": "text/x-python",
   "name": "python",
   "nbconvert_exporter": "python",
   "pygments_lexer": "ipython3",
   "version": "3.9.7"
  }
 },
 "nbformat": 4,
 "nbformat_minor": 5
}
