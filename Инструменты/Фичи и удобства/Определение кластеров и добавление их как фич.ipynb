{
 "cells": [
  {
   "cell_type": "code",
   "execution_count": null,
   "id": "0f6729ac",
   "metadata": {},
   "outputs": [],
   "source": []
  },
  {
   "cell_type": "code",
   "execution_count": null,
   "id": "ba636e86",
   "metadata": {},
   "outputs": [],
   "source": [
    "train = prep_data(train)\n",
    "valid = prep_data(valid)"
   ]
  },
  {
   "cell_type": "code",
   "execution_count": null,
   "id": "82f8ca4c",
   "metadata": {},
   "outputs": [],
   "source": [
    "X_train, y_train = train.drop(\"Credit Default\", axis = 1), train[\"Credit Default\"]\n",
    "\n",
    "X_valid, y_valid = valid.drop(\"Credit Default\", axis = 1), valid[\"Credit Default\"]\n"
   ]
  },
  {
   "cell_type": "code",
   "execution_count": null,
   "id": "ef723f47",
   "metadata": {},
   "outputs": [],
   "source": [
    "from sklearn.cluster import KMeans\n",
    "from sklearn.preprocessing import StandardScaler, RobustScaler\n",
    "\n",
    "\n",
    "scaler= RobustScaler()\n",
    "\n",
    "\n",
    "X_train_scaled = pd.DataFrame(scaler.fit_transform(X_train), columns=X_train.columns)\n",
    "X_valid_scaled = pd.DataFrame(scaler.transform(X_valid), columns=X_valid.columns)\n",
    "\n",
    "\n",
    "kmeans_10 = KMeans(n_clusters=10, random_state=42)\n",
    "labels_clast_10 = kmeans_10.fit_predict(X_train_scaled)\n",
    "labels_clast_10 = pd.Series(labels_clast_10, name='clusters_3')\n",
    "labels_clast_10_valid = kmeans_10.predict(X_valid_scaled)\n",
    "labels_clast_10_valid = pd.Series(labels_clast_10_valid, name='clusters_3')"
   ]
  },
  {
   "cell_type": "code",
   "execution_count": null,
   "id": "28519397",
   "metadata": {},
   "outputs": [],
   "source": [
    "def display_clusters_distribution(unique_labels, labels_counts):\n",
    "    \"\"\"Визуализация распределения классов по кластерам\"\"\"\n",
    "    plt.figure(figsize=(8,5))\n",
    "\n",
    "    plt.bar(unique, counts)\n",
    "\n",
    "    plt.xlabel('Clusters')\n",
    "    plt.xticks(unique)\n",
    "    plt.ylabel('Count')\n",
    "    plt.title('Clusters distribution')\n",
    "    plt.show()"
   ]
  },
  {
   "cell_type": "code",
   "execution_count": null,
   "id": "07ca0aeb",
   "metadata": {},
   "outputs": [],
   "source": [
    "unique, counts = np.unique(labels_clast_10, return_counts=True)\n",
    "display_clusters_distribution(unique, counts)"
   ]
  },
  {
   "cell_type": "code",
   "execution_count": null,
   "id": "504d1867",
   "metadata": {},
   "outputs": [],
   "source": [
    "clusters_10_dummies = pd.get_dummies(labels_clast_10, drop_first=True, prefix='clusters_10')\n",
    "X_train = pd.concat([X_train, clusters_10_dummies], \n",
    "                   axis=1)"
   ]
  },
  {
   "cell_type": "code",
   "execution_count": null,
   "id": "ba189223",
   "metadata": {},
   "outputs": [],
   "source": [
    "clusters_10_dummies_valid = pd.get_dummies(labels_clast_10_valid, drop_first=True, prefix='clusters_10')\n",
    "X_valid = pd.concat([X_valid, clusters_10_dummies_valid], \n",
    "                   axis=1)"
   ]
  }
 ],
 "metadata": {
  "kernelspec": {
   "display_name": "Python 3",
   "language": "python",
   "name": "python3"
  },
  "language_info": {
   "codemirror_mode": {
    "name": "ipython",
    "version": 3
   },
   "file_extension": ".py",
   "mimetype": "text/x-python",
   "name": "python",
   "nbconvert_exporter": "python",
   "pygments_lexer": "ipython3",
   "version": "3.8.8"
  }
 },
 "nbformat": 4,
 "nbformat_minor": 5
}
