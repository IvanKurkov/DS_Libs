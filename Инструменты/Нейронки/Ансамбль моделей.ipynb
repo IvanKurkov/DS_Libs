{
 "cells": [
  {
   "cell_type": "markdown",
   "metadata": {
    "id": "f_dWDPIIuE6e"
   },
   "source": [
    "### **Ансамбль сетей**\n",
    "\n",
    "Использование функционального API для построения сложных сетей\n",
    "\n",
    "https://gb.ru/lessons/268923 - 2:04:00"
   ]
  },
  {
   "cell_type": "code",
   "execution_count": 102,
   "metadata": {
    "executionInfo": {
     "elapsed": 517,
     "status": "ok",
     "timestamp": 1665839422532,
     "user": {
      "displayName": "Mariia Korliakova",
      "userId": "14165537686129864864"
     },
     "user_tz": -180
    },
    "id": "3cJ-0N8Es0gB"
   },
   "outputs": [],
   "source": [
    "input1 = keras.layers.Input(shape=(28, 28))\n",
    "x1= keras.layers.Flatten()(input1)\n",
    "x1 = keras.layers.Dense(128, activation='relu')(x1)\n",
    "x1 =keras.layers.Dense(10, activation='softmax')(x1)\n",
    "\n",
    "model11 =keras.models.Model(inputs=input1,outputs=x1)\n",
    "\n",
    "#input2 = keras.layers.Input(shape=(28, 28))\n",
    "x2= keras.layers.Flatten()(input1)\n",
    "x2 = keras.layers.Dense(256, activation='relu')(x2)\n",
    "x2=keras.layers.Dense(10, activation='softmax')(x2)\n",
    "\n",
    "model22 =keras.models.Model(inputs=input1,outputs=x2)\n",
    "#input3 = keras.layers.Input(shape=(28, 28))\n",
    "x3= keras.layers.Flatten()(input1)\n",
    "x3 = keras.layers.Dense(256, activation='relu')(x3)\n",
    "x3=keras.layers.Dense(10, activation='softmax')(x3)\n",
    "\n",
    "\n",
    "model33 =keras.models.Model(inputs=[input1],outputs=x3)\n",
    "\n",
    "# усредняем выходы сетей\n",
    "out_all = keras.layers.Average()([model11.output,model22.output,model33.output])\n",
    "out_all = keras.layers.Softmax()(out_all)\n",
    "\n",
    "model_all=keras.models.Model(inputs =[input1],outputs =out_all)#, input2,input2,input3\n",
    "model_all.compile(optimizer=tf.keras.optimizers.Adagrad(learning_rate=0.1, epsilon=1e-08, decay=0.0),\n",
    "              loss=tf.keras.losses.SparseCategoricalCrossentropy(from_logits=True),\n",
    "              metrics=['accuracy'])\n",
    "\n",
    "\n",
    "model11.load_weights('model1.h5')\n",
    "model22.load_weights('model2.h5')\n",
    "model33.load_weights('model3.h5')"
   ]
  },
  {
   "cell_type": "code",
   "execution_count": 103,
   "metadata": {
    "colab": {
     "base_uri": "https://localhost:8080/"
    },
    "executionInfo": {
     "elapsed": 13,
     "status": "ok",
     "timestamp": 1665839422532,
     "user": {
      "displayName": "Mariia Korliakova",
      "userId": "14165537686129864864"
     },
     "user_tz": -180
    },
    "id": "zdNzWR6Se6fZ",
    "outputId": "0a7cc93f-06db-44e3-8ff5-b1b2e37a7926"
   },
   "outputs": [
    {
     "data": {
      "text/plain": [
       "<keras.optimizers.optimizer_v2.adam.Adam at 0x7f3074616950>"
      ]
     },
     "execution_count": 103,
     "metadata": {},
     "output_type": "execute_result"
    }
   ],
   "source": [
    "tf.keras.optimizers.Adam()"
   ]
  },
  {
   "cell_type": "code",
   "execution_count": 104,
   "metadata": {
    "colab": {
     "base_uri": "https://localhost:8080/"
    },
    "executionInfo": {
     "elapsed": 11,
     "status": "ok",
     "timestamp": 1665839422532,
     "user": {
      "displayName": "Mariia Korliakova",
      "userId": "14165537686129864864"
     },
     "user_tz": -180
    },
    "id": "uyUsa1Afs6cW",
    "outputId": "b8faae07-54c3-4e03-ef45-74c818be76d7"
   },
   "outputs": [
    {
     "name": "stdout",
     "output_type": "stream",
     "text": [
      "Model: \"model_6\"\n",
      "__________________________________________________________________________________________________\n",
      " Layer (type)                   Output Shape         Param #     Connected to                     \n",
      "==================================================================================================\n",
      " input_3 (InputLayer)           [(None, 28, 28)]     0           []                               \n",
      "                                                                                                  \n",
      " flatten_6 (Flatten)            (None, 784)          0           ['input_3[0][0]']                \n",
      "                                                                                                  \n",
      " flatten_7 (Flatten)            (None, 784)          0           ['input_3[0][0]']                \n",
      "                                                                                                  \n",
      " flatten_8 (Flatten)            (None, 784)          0           ['input_3[0][0]']                \n",
      "                                                                                                  \n",
      " dense_37 (Dense)               (None, 128)          100480      ['flatten_6[0][0]']              \n",
      "                                                                                                  \n",
      " dense_39 (Dense)               (None, 256)          200960      ['flatten_7[0][0]']              \n",
      "                                                                                                  \n",
      " dense_41 (Dense)               (None, 256)          200960      ['flatten_8[0][0]']              \n",
      "                                                                                                  \n",
      " dense_38 (Dense)               (None, 10)           1290        ['dense_37[0][0]']               \n",
      "                                                                                                  \n",
      " dense_40 (Dense)               (None, 10)           2570        ['dense_39[0][0]']               \n",
      "                                                                                                  \n",
      " dense_42 (Dense)               (None, 10)           2570        ['dense_41[0][0]']               \n",
      "                                                                                                  \n",
      " average (Average)              (None, 10)           0           ['dense_38[0][0]',               \n",
      "                                                                  'dense_40[0][0]',               \n",
      "                                                                  'dense_42[0][0]']               \n",
      "                                                                                                  \n",
      " softmax_1 (Softmax)            (None, 10)           0           ['average[0][0]']                \n",
      "                                                                                                  \n",
      "==================================================================================================\n",
      "Total params: 508,830\n",
      "Trainable params: 508,830\n",
      "Non-trainable params: 0\n",
      "__________________________________________________________________________________________________\n"
     ]
    }
   ],
   "source": [
    "model_all.summary()"
   ]
  },
  {
   "cell_type": "code",
   "execution_count": 105,
   "metadata": {
    "executionInfo": {
     "elapsed": 3,
     "status": "ok",
     "timestamp": 1665839422533,
     "user": {
      "displayName": "Mariia Korliakova",
      "userId": "14165537686129864864"
     },
     "user_tz": -180
    },
    "id": "ET_usPF9ejrP"
   },
   "outputs": [],
   "source": [
    "from tensorflow.keras.utils import plot_model"
   ]
  },
  {
   "cell_type": "code",
   "execution_count": 106,
   "metadata": {
    "colab": {
     "base_uri": "https://localhost:8080/",
     "height": 564
    },
    "executionInfo": {
     "elapsed": 534,
     "status": "ok",
     "timestamp": 1665839423064,
     "user": {
      "displayName": "Mariia Korliakova",
      "userId": "14165537686129864864"
     },
     "user_tz": -180
    },
    "id": "T8L3JBiWewft",
    "outputId": "9ee2601b-f569-42e0-ac09-446d6d99e334"
   },
   "outputs": [
    {
     "data": {
      "image/png": "[encoded data removed]",
      "text/plain": [
       "<IPython.core.display.Image object>"
      ]
     },
     "execution_count": 106,
     "metadata": {},
     "output_type": "execute_result"
    }
   ],
   "source": [
    "plot_model(model_all,to_file='new_model-all.png')"
   ]
  },
  {
   "cell_type": "code",
   "execution_count": 107,
   "metadata": {
    "colab": {
     "base_uri": "https://localhost:8080/"
    },
    "executionInfo": {
     "elapsed": 15,
     "status": "ok",
     "timestamp": 1665839423064,
     "user": {
      "displayName": "Mariia Korliakova",
      "userId": "14165537686129864864"
     },
     "user_tz": -180
    },
    "id": "9nqTRLVhts6i",
    "outputId": "c288a15f-ef66-4bba-d8b1-0bb94fa01083"
   },
   "outputs": [
    {
     "name": "stdout",
     "output_type": "stream",
     "text": [
      "1/1 [==============================] - 0s 81ms/step\n",
      "[[0.08882732 0.08808405 0.18171312 0.08818799 0.10097867 0.08806439\n",
      "  0.09884106 0.08806778 0.0891648  0.08807077]]\n"
     ]
    }
   ],
   "source": [
    "predictions_single=model_all.predict([img])#,img,img\n",
    "\n",
    "print(predictions_single)"
   ]
  },
  {
   "cell_type": "code",
   "execution_count": 108,
   "metadata": {
    "colab": {
     "base_uri": "https://localhost:8080/",
     "height": 300
    },
    "executionInfo": {
     "elapsed": 10,
     "status": "ok",
     "timestamp": 1665839423064,
     "user": {
      "displayName": "Mariia Korliakova",
      "userId": "14165537686129864864"
     },
     "user_tz": -180
    },
    "id": "ZRejlxRetwpq",
    "outputId": "ecf3b0b8-4ce9-427f-a97e-74bcd8752626"
   },
   "outputs": [
    {
     "data": {
      "image/png": "[encoded data removed]",
      "text/plain": [
       "<Figure size 432x288 with 1 Axes>"
      ]
     },
     "metadata": {
      "needs_background": "light"
     },
     "output_type": "display_data"
    }
   ],
   "source": [
    "plot_value_array(1, predictions_single[0], test_labels)\n",
    "_ = plt.xticks(range(10), class_names, rotation=45)"
   ]
  },
  {
   "cell_type": "code",
   "execution_count": 109,
   "metadata": {
    "colab": {
     "base_uri": "https://localhost:8080/"
    },
    "executionInfo": {
     "elapsed": 9,
     "status": "ok",
     "timestamp": 1665839423064,
     "user": {
      "displayName": "Mariia Korliakova",
      "userId": "14165537686129864864"
     },
     "user_tz": -180
    },
    "id": "OnUoZIIgt10d",
    "outputId": "229f50a5-1da5-45d5-94e6-fa34c100e7bc"
   },
   "outputs": [
    {
     "name": "stdout",
     "output_type": "stream",
     "text": [
      "1/1 [==============================] - 0s 18ms/step\n"
     ]
    }
   ],
   "source": [
    "y_test_pred= model_all.predict([test_images[:10,:,:]])#,test_images[:10,:,:],test_images[:10,:,:]]) #  test_labels[:10])"
   ]
  },
  {
   "cell_type": "code",
   "execution_count": 110,
   "metadata": {
    "colab": {
     "base_uri": "https://localhost:8080/"
    },
    "executionInfo": {
     "elapsed": 8,
     "status": "ok",
     "timestamp": 1665839423065,
     "user": {
      "displayName": "Mariia Korliakova",
      "userId": "14165537686129864864"
     },
     "user_tz": -180
    },
    "id": "P4Ys6l9qwBir",
    "outputId": "904dec67-5a4a-4ee0-d030-ddfe48d19aa9"
   },
   "outputs": [
    {
     "data": {
      "text/plain": [
       "array([9, 2, 1, 1, 6, 1, 4, 6, 5, 7])"
      ]
     },
     "execution_count": 110,
     "metadata": {},
     "output_type": "execute_result"
    }
   ],
   "source": [
    "np.argmax(y_test_pred,axis=1)"
   ]
  },
  {
   "cell_type": "code",
   "execution_count": 111,
   "metadata": {
    "colab": {
     "base_uri": "https://localhost:8080/"
    },
    "executionInfo": {
     "elapsed": 6,
     "status": "ok",
     "timestamp": 1665839423065,
     "user": {
      "displayName": "Mariia Korliakova",
      "userId": "14165537686129864864"
     },
     "user_tz": -180
    },
    "id": "DDEvC-EpwJ1P",
    "outputId": "e7d118c6-93f6-4291-effd-b511740a3978"
   },
   "outputs": [
    {
     "data": {
      "text/plain": [
       "array([9, 2, 1, 1, 6, 1, 4, 6, 5, 7], dtype=uint8)"
      ]
     },
     "execution_count": 111,
     "metadata": {},
     "output_type": "execute_result"
    }
   ],
   "source": [
    "test_labels[:10]"
   ]
  },
  {
   "cell_type": "code",
   "execution_count": 112,
   "metadata": {
    "executionInfo": {
     "elapsed": 597,
     "status": "ok",
     "timestamp": 1665839423657,
     "user": {
      "displayName": "Mariia Korliakova",
      "userId": "14165537686129864864"
     },
     "user_tz": -180
    },
    "id": "rWwZOIi_1Hgp"
   },
   "outputs": [],
   "source": [
    "model_all.save('model_all.h5')"
   ]
  },
  {
   "cell_type": "code",
   "execution_count": 113,
   "metadata": {
    "colab": {
     "base_uri": "https://localhost:8080/",
     "height": 297
    },
    "executionInfo": {
     "elapsed": 1452,
     "status": "ok",
     "timestamp": 1665839425103,
     "user": {
      "displayName": "Mariia Korliakova",
      "userId": "14165537686129864864"
     },
     "user_tz": -180
    },
    "id": "IkT0L8D-Oi4x",
    "outputId": "08d25658-8483-4512-973d-fcaf40b52044"
   },
   "outputs": [
    {
     "name": "stdout",
     "output_type": "stream",
     "text": [
      "313/313 [==============================] - 1s 2ms/step\n"
     ]
    },
    {
     "data": {
      "image/png": "[encoded data removed]",
      "text/plain": [
       "<Figure size 432x288 with 2 Axes>"
      ]
     },
     "metadata": {
      "needs_background": "light"
     },
     "output_type": "display_data"
    }
   ],
   "source": [
    "y_pred_all = np.argmax(model_all.predict([test_images]), axis=1)#,test_images,test_images]),axis=1)\n",
    "\n",
    "CM_all = confusion_matrix(test_labels,y_pred_all)\n",
    "disp_all = ConfusionMatrixDisplay(confusion_matrix=CM_all, display_labels=np.arange(10))\n",
    "disp_all.plot(  values_format ='.3g')\n",
    "plt.show()"
   ]
  },
  {
   "cell_type": "code",
   "execution_count": 114,
   "metadata": {
    "colab": {
     "base_uri": "https://localhost:8080/"
    },
    "executionInfo": {
     "elapsed": 9,
     "status": "ok",
     "timestamp": 1665839425103,
     "user": {
      "displayName": "Mariia Korliakova",
      "userId": "14165537686129864864"
     },
     "user_tz": -180
    },
    "id": "NtG0lRz1TfO2",
    "outputId": "d8b44e34-2fe2-4c6e-c74f-ae7d2f5a73e0"
   },
   "outputs": [
    {
     "data": {
      "text/plain": [
       "(60000,)"
      ]
     },
     "execution_count": 114,
     "metadata": {},
     "output_type": "execute_result"
    }
   ],
   "source": [
    "train_labels.shape"
   ]
  },
  {
   "cell_type": "code",
   "execution_count": 115,
   "metadata": {
    "colab": {
     "base_uri": "https://localhost:8080/"
    },
    "executionInfo": {
     "elapsed": 1414,
     "status": "ok",
     "timestamp": 1665839426512,
     "user": {
      "displayName": "Mariia Korliakova",
      "userId": "14165537686129864864"
     },
     "user_tz": -180
    },
    "id": "ieChLpxhBicr",
    "outputId": "bcea65b7-82a8-4235-fc1d-98f0071e97ef"
   },
   "outputs": [
    {
     "name": "stdout",
     "output_type": "stream",
     "text": [
      "Epoch 1/5\n",
      "32/32 [==============================] - 1s 4ms/step - loss: 2.2283 - accuracy: 0.1220\n",
      "Epoch 2/5\n",
      "32/32 [==============================] - 0s 4ms/step - loss: 2.2227 - accuracy: 0.1280\n",
      "Epoch 3/5\n",
      "32/32 [==============================] - 0s 4ms/step - loss: 2.2199 - accuracy: 0.1420\n",
      "Epoch 4/5\n",
      "32/32 [==============================] - 0s 4ms/step - loss: 2.2179 - accuracy: 0.1420\n",
      "Epoch 5/5\n",
      "32/32 [==============================] - 0s 4ms/step - loss: 2.2163 - accuracy: 0.1370\n"
     ]
    }
   ],
   "source": [
    "#hist1=model_all.fit( [train_images[:1000,:,:],train_images[:1000,:,:],train_images[:1000,:,:]], train_labels[:1000], epochs=5)\n",
    "hist1=model_all.fit( [train_images[:1000,:,:]], train_labels[:1000], epochs=5)"
   ]
  },
  {
   "cell_type": "code",
   "execution_count": 116,
   "metadata": {
    "colab": {
     "base_uri": "https://localhost:8080/",
     "height": 297
    },
    "executionInfo": {
     "elapsed": 1721,
     "status": "ok",
     "timestamp": 1665839428227,
     "user": {
      "displayName": "Mariia Korliakova",
      "userId": "14165537686129864864"
     },
     "user_tz": -180
    },
    "id": "Z1O8A5dlBfq0",
    "outputId": "7eb53920-b6dc-47ad-a7ba-cb3cf135616c"
   },
   "outputs": [
    {
     "name": "stdout",
     "output_type": "stream",
     "text": [
      "313/313 [==============================] - 1s 2ms/step\n"
     ]
    },
    {
     "data": {
      "image/png": "[encoded data removed]",
      "text/plain": [
       "<Figure size 432x288 with 2 Axes>"
      ]
     },
     "metadata": {
      "needs_background": "light"
     },
     "output_type": "display_data"
    }
   ],
   "source": [
    "y_pred_all = np.argmax(model_all.predict([test_images]),axis=1)\n",
    "#y_pred_all = np.argmax(model_all.predict([test_images,test_images,test_images]),axis=1)\n",
    "\n",
    "CM_all = confusion_matrix(test_labels,y_pred_all)\n",
    "disp_all = ConfusionMatrixDisplay(confusion_matrix=CM_all, display_labels=np.arange(10))\n",
    "disp_all.plot(  values_format ='.3g')\n",
    "plt.show()"
   ]
  },
  {
   "cell_type": "code",
   "execution_count": 117,
   "metadata": {
    "executionInfo": {
     "elapsed": 2,
     "status": "ok",
     "timestamp": 1665839428227,
     "user": {
      "displayName": "Mariia Korliakova",
      "userId": "14165537686129864864"
     },
     "user_tz": -180
    },
    "id": "NBqrv8dfXNyR"
   },
   "outputs": [],
   "source": [
    "from tensorflow.keras.layers import Concatenate "
   ]
  },
  {
   "cell_type": "markdown",
   "metadata": {
    "id": "4ZwrQaKpT9x0"
   },
   "source": [
    "можно отделить плохой класс от остальных новой моделью:\n",
    "- обучаем класс 6 против всех\n",
    "- выход стал бинарным на выходе часть вектора про 6-й класс (выборка разбалансирована) \n",
    "- по итогам такой классификации отделим "
   ]
  },
  {
   "cell_type": "code",
   "execution_count": 118,
   "metadata": {
    "colab": {
     "base_uri": "https://localhost:8080/"
    },
    "executionInfo": {
     "elapsed": 83110,
     "status": "ok",
     "timestamp": 1665839511335,
     "user": {
      "displayName": "Mariia Korliakova",
      "userId": "14165537686129864864"
     },
     "user_tz": -180
    },
    "id": "_v4dFXMxYShj",
    "outputId": "ef12a803-3933-4f8f-c943-33effd8e26d1"
   },
   "outputs": [
    {
     "name": "stdout",
     "output_type": "stream",
     "text": [
      "Epoch 1/10\n",
      "1500/1500 [==============================] - 8s 5ms/step - loss: 0.1944 - recall: 0.3152 - precision: 0.7115 - val_loss: 0.1609 - val_recall: 0.5640 - val_precision: 0.6660\n",
      "Epoch 2/10\n",
      "1500/1500 [==============================] - 6s 4ms/step - loss: 0.1592 - recall: 0.4886 - precision: 0.7557 - val_loss: 0.1443 - val_recall: 0.4265 - val_precision: 0.8319\n",
      "Epoch 3/10\n",
      "1500/1500 [==============================] - 7s 4ms/step - loss: 0.1473 - recall: 0.5422 - precision: 0.7813 - val_loss: 0.1466 - val_recall: 0.4543 - val_precision: 0.8220\n",
      "Epoch 4/10\n",
      "1500/1500 [==============================] - 6s 4ms/step - loss: 0.1404 - recall: 0.5751 - precision: 0.7737 - val_loss: 0.1368 - val_recall: 0.6162 - val_precision: 0.7383\n",
      "Epoch 5/10\n",
      "1500/1500 [==============================] - 11s 8ms/step - loss: 0.1350 - recall: 0.5986 - precision: 0.7847 - val_loss: 0.1395 - val_recall: 0.6719 - val_precision: 0.7031\n",
      "Epoch 6/10\n",
      "1500/1500 [==============================] - 6s 4ms/step - loss: 0.1302 - recall: 0.6217 - precision: 0.7998 - val_loss: 0.1376 - val_recall: 0.5735 - val_precision: 0.7549\n",
      "Epoch 7/10\n",
      "1500/1500 [==============================] - 6s 4ms/step - loss: 0.1264 - recall: 0.6343 - precision: 0.8013 - val_loss: 0.1351 - val_recall: 0.6841 - val_precision: 0.7049\n",
      "Epoch 8/10\n",
      "1500/1500 [==============================] - 6s 4ms/step - loss: 0.1223 - recall: 0.6506 - precision: 0.7998 - val_loss: 0.1312 - val_recall: 0.5735 - val_precision: 0.8027\n",
      "Epoch 9/10\n",
      "1500/1500 [==============================] - 6s 4ms/step - loss: 0.1191 - recall: 0.6642 - precision: 0.8102 - val_loss: 0.1367 - val_recall: 0.6449 - val_precision: 0.7258\n",
      "Epoch 10/10\n",
      "1500/1500 [==============================] - 6s 4ms/step - loss: 0.1146 - recall: 0.6751 - precision: 0.8183 - val_loss: 0.1361 - val_recall: 0.5544 - val_precision: 0.8393\n"
     ]
    },
    {
     "data": {
      "text/plain": [
       "<keras.callbacks.History at 0x7f3050197c90>"
      ]
     },
     "execution_count": 118,
     "metadata": {},
     "output_type": "execute_result"
    }
   ],
   "source": [
    "input6 = keras.layers.Input( shape=(28, 28) )\n",
    "x6= keras.layers.Flatten()(input6)\n",
    "x6 = keras.layers.Dense(256, activation='relu')(x6)\n",
    "x6=keras.layers.Dense(1, activation='sigmoid')(x6)\n",
    "\n",
    "\n",
    "model6 =Model(inputs=input6,outputs=x6)\n",
    "model6.compile(optimizer=tf.keras.optimizers.Adagrad(learning_rate=0.1, epsilon=1e-08, decay=0.0),\n",
    "              loss=tf.keras.losses.BinaryCrossentropy(),\n",
    "              metrics=[tf.keras.metrics.Recall(),tf.keras.metrics.Precision()])\n",
    "\n",
    "model6.fit(train_images,y_train_labels[:,6], epochs = 10, validation_split = 0.2)\n"
   ]
  }
 ],
 "metadata": {
  "accelerator": "GPU",
  "colab": {
   "collapsed_sections": [],
   "provenance": []
  },
  "kernelspec": {
   "display_name": "Python 3 (ipykernel)",
   "language": "python",
   "name": "python3"
  },
  "language_info": {
   "codemirror_mode": {
    "name": "ipython",
    "version": 3
   },
   "file_extension": ".py",
   "mimetype": "text/x-python",
   "name": "python",
   "nbconvert_exporter": "python",
   "pygments_lexer": "ipython3",
   "version": "3.9.12"
  }
 },
 "nbformat": 4,
 "nbformat_minor": 1
}
