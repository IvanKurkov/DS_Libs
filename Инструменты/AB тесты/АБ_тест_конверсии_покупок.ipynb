{
 "cells": [
  {
   "cell_type": "markdown",
   "id": "e26c5b71",
   "metadata": {},
   "source": [
    "### Домашнее задание\n",
    "Взять датасет из google диска: https://drive.google.com/file/d/1MpWBFIbqu4mbiD0BBKYX6YhS-f4mN3Z_. Проверить гипотезу о том, в каком варианте теста (control/personalization) больше конверсия (converted) и значимо ли это отличие статистически."
   ]
  },
  {
   "cell_type": "code",
   "execution_count": 51,
   "id": "743cd861",
   "metadata": {},
   "outputs": [],
   "source": [
    "import pandas as pd\n",
    "import numpy as np\n",
    "from statsmodels.stats import proportion"
   ]
  },
  {
   "cell_type": "code",
   "execution_count": 29,
   "id": "8291620a",
   "metadata": {},
   "outputs": [
    {
     "name": "stdout",
     "output_type": "stream",
     "text": [
      "<class 'pandas.core.frame.DataFrame'>\n",
      "RangeIndex: 10037 entries, 0 to 10036\n",
      "Data columns (total 6 columns):\n",
      " #   Column              Non-Null Count  Dtype \n",
      "---  ------              --------------  ----- \n",
      " 0   user_id             10037 non-null  object\n",
      " 1   date_served         10021 non-null  object\n",
      " 2   marketing_channel   10022 non-null  object\n",
      " 3   variant             10037 non-null  object\n",
      " 4   language_displayed  10037 non-null  object\n",
      " 5   converted           10022 non-null  object\n",
      "dtypes: object(6)\n",
      "memory usage: 470.6+ KB\n"
     ]
    }
   ],
   "source": [
    "marketing_campaign = pd.read_csv('marketing_campaign.csv')\n",
    "marketing_campaign.info()"
   ]
  },
  {
   "cell_type": "code",
   "execution_count": 36,
   "id": "8798e5b4",
   "metadata": {},
   "outputs": [],
   "source": [
    "marketing_campaign.dropna(inplace=True)"
   ]
  },
  {
   "cell_type": "code",
   "execution_count": 41,
   "id": "674eb15f",
   "metadata": {},
   "outputs": [],
   "source": [
    "marketing_campaign = marketing_campaign.astype({'converted': 'int32'})"
   ]
  },
  {
   "cell_type": "markdown",
   "id": "5e114c8e",
   "metadata": {},
   "source": [
    "#### Посмотрим статистики конверсии по группам"
   ]
  },
  {
   "cell_type": "code",
   "execution_count": 44,
   "id": "a210666b",
   "metadata": {},
   "outputs": [
    {
     "data": {
      "text/plain": [
       "0.14256825075834176"
      ]
     },
     "execution_count": 44,
     "metadata": {},
     "output_type": "execute_result"
    }
   ],
   "source": [
    "marketing_campaign.loc[marketing_campaign['variant'] == 'personalization', 'converted'].mean()"
   ]
  },
  {
   "cell_type": "markdown",
   "id": "7392cdf8",
   "metadata": {},
   "source": [
    "- Конверсия в 'personalization' 0.14256825075834176"
   ]
  },
  {
   "cell_type": "code",
   "execution_count": 47,
   "id": "a6ed9970",
   "metadata": {},
   "outputs": [
    {
     "data": {
      "text/plain": [
       "0.0730890464933018"
      ]
     },
     "execution_count": 47,
     "metadata": {},
     "output_type": "execute_result"
    }
   ],
   "source": [
    "marketing_campaign.loc[marketing_campaign['variant'] == 'control', 'converted'].mean()"
   ]
  },
  {
   "cell_type": "markdown",
   "id": "988d3884",
   "metadata": {},
   "source": [
    "- Конверсия в 'control' 0.0730890464933018"
   ]
  },
  {
   "cell_type": "markdown",
   "id": "fcb4fab6",
   "metadata": {},
   "source": [
    "#### Проведем статтест"
   ]
  },
  {
   "cell_type": "code",
   "execution_count": 48,
   "id": "ca3adb7a",
   "metadata": {},
   "outputs": [],
   "source": [
    "k1 = marketing_campaign[marketing_campaign['variant']=='control']['converted'].sum()\n",
    "n1 = marketing_campaign[marketing_campaign['variant']=='control'].shape[0]\n",
    "k2 = marketing_campaign[marketing_campaign['variant']=='personalization']['converted'].sum()\n",
    "n2 = marketing_campaign[marketing_campaign['variant']=='personalization'].shape[0]"
   ]
  },
  {
   "cell_type": "code",
   "execution_count": 52,
   "id": "648a204e",
   "metadata": {},
   "outputs": [
    {
     "name": "stdout",
     "output_type": "stream",
     "text": [
      "Results are z_score=-11.232 pvalue=0.000\n"
     ]
    }
   ],
   "source": [
    "z_score, z_pvalue = proportion.proportions_ztest(np.array([k1, k2]), \n",
    "                                                 np.array([n1, n2]))\n",
    "\n",
    "print(f'Results are z_score={z_score:.3f} pvalue={z_pvalue:.3f}')"
   ]
  },
  {
   "cell_type": "markdown",
   "id": "ec3ea0ca",
   "metadata": {},
   "source": [
    "- pvalue < 5% - Из чего следует, что разница статзначима."
   ]
  },
  {
   "cell_type": "markdown",
   "id": "2da35ce5",
   "metadata": {},
   "source": [
    "Дополнительно глянем Хи-Квадрат Пирсона"
   ]
  },
  {
   "cell_type": "code",
   "execution_count": 53,
   "id": "d067328b",
   "metadata": {},
   "outputs": [
    {
     "name": "stdout",
     "output_type": "stream",
     "text": [
      "Results are chisq=126.158 pvalue=0.000\n"
     ]
    }
   ],
   "source": [
    "chisq, pvalue, table = proportion.proportions_chisquare(np.array([k1, k2]), \n",
    "                                                        np.array([n1, n2]))\n",
    "\n",
    "print(f'Results are chisq={chisq:.3f} pvalue={pvalue:.3f}')"
   ]
  },
  {
   "cell_type": "markdown",
   "id": "5099835c",
   "metadata": {},
   "source": [
    "- pvalue < 5% - Из чего следует, что разница статзначима."
   ]
  },
  {
   "cell_type": "markdown",
   "id": "f43aa9da",
   "metadata": {},
   "source": [
    "*Рисовать не будем, не верь глазам своим, верь статистике... )"
   ]
  },
  {
   "cell_type": "code",
   "execution_count": null,
   "id": "16e5a8a8",
   "metadata": {},
   "outputs": [],
   "source": []
  }
 ],
 "metadata": {
  "kernelspec": {
   "display_name": "Python 3 (ipykernel)",
   "language": "python",
   "name": "python3"
  },
  "language_info": {
   "codemirror_mode": {
    "name": "ipython",
    "version": 3
   },
   "file_extension": ".py",
   "mimetype": "text/x-python",
   "name": "python",
   "nbconvert_exporter": "python",
   "pygments_lexer": "ipython3",
   "version": "3.9.7"
  }
 },
 "nbformat": 4,
 "nbformat_minor": 5
}
