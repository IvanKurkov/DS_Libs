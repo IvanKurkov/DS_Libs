{
  "nbformat": 4,
  "nbformat_minor": 0,
  "metadata": {
    "colab": {
      "name": "Копия блокнота \"Lesson 9_request.ipynb\"",
      "provenance": [],
      "toc_visible": true,
      "collapsed_sections": []
    },
    "kernelspec": {
      "name": "python3",
      "display_name": "Python 3"
    }
  },
  "cells": [
    {
      "cell_type": "markdown",
      "metadata": {
        "id": "mCvG3HpmbRKo"
      },
      "source": [
        "Строим запрос к нашему сервису"
      ]
    },
    {
      "cell_type": "code",
      "metadata": {
        "id": "Cxm28pii80xp"
      },
      "source": [
        "import requests\n",
        "\n",
        "import urllib.request\n",
        "import json \n",
        "\n",
        "import numpy as np"
      ],
      "execution_count": 34,
      "outputs": []
    },
    {
      "cell_type": "code",
      "source": [
        ""
      ],
      "metadata": {
        "id": "gKiBoROrwlZE"
      },
      "execution_count": null,
      "outputs": []
    },
    {
      "cell_type": "code",
      "source": [
        "# Пример данных\n",
        "data = ( \n",
        "    'Rent',\n",
        " 616892.0,\n",
        " '10+ years',\n",
        " 0.0,\n",
        " 6.0,\n",
        " np.nan,\n",
        " 415250.0,\n",
        " 0.0,\n",
        " 47.0,\n",
        " 0.0,\n",
        " np.nan,\n",
        " 'Short Term',\n",
        " 273042.0,\n",
        " 222338.0,\n",
        " 6323.0,\n",
        " 716.0\n",
        ")"
      ],
      "metadata": {
        "id": "EWP3BCM6OBXv"
      },
      "execution_count": 37,
      "outputs": []
    },
    {
      "cell_type": "code",
      "metadata": {
        "id": "J_xtPIQt8toy"
      },
      "source": [
        "# формируем запрос\n",
        "def send_json(x):\n",
        "    (home_ownership, annual_income, years_job, tax_liens, accounts, years_history, max_credit, n_problems, last_delinquent, bankruptcies, purpose, \n",
        "    term, current_loan_amount, current_credit_balance, monthly_debt, credit_score) = x\n",
        "\n",
        "    body = {'Home Ownership' : home_ownership,\n",
        "    'Annual Income' : annual_income,\n",
        "    'Years in current job' : years_job,\n",
        "    'Tax Liens' : tax_liens,\n",
        "    'Number of Open Accounts' : accounts,\n",
        "    'Years of Credit History' : years_history,\n",
        "    'Maximum Open Credit' : max_credit,\n",
        "    'Number of Credit Problems' : n_problems,\n",
        "    'Months since last delinquent' : last_delinquent,\n",
        "    'Bankruptcies' : bankruptcies,\n",
        "    'Purpose' : purpose,\n",
        "    'Term' : term,\n",
        "    'Current Loan Amount' : current_loan_amount ,\n",
        "    'Current Credit Balance' : current_credit_balance,\n",
        "    'Monthly Debt' : monthly_debt,\n",
        "    'Credit Score' : credit_score}\n",
        "    \n",
        "    myurl = 'http://4de7-34-74-84-199.ngrok.io' + '/predict'\n",
        "    headers = {'content-type': 'application/json; charset=utf-8'}\n",
        "    response = requests.post(myurl, json=body, headers=headers)\n",
        "    return response.json()['predictions']"
      ],
      "execution_count": 24,
      "outputs": []
    },
    {
      "cell_type": "code",
      "source": [
        "# обращение к серверу с запросом из одного набора (его построили руками выше - data)\n",
        "response = send_json(data)\n",
        "print('предсказание', response)"
      ],
      "metadata": {
        "id": "OehA49hRN_pU",
        "outputId": "b899e8f0-3dc8-4662-afe4-6fbe9d1c5b7b",
        "colab": {
          "base_uri": "https://localhost:8080/"
        }
      },
      "execution_count": 38,
      "outputs": [
        {
          "output_type": "stream",
          "name": "stdout",
          "text": [
            "предсказание 0.5310269516157635\n"
          ]
        }
      ]
    },
    {
      "cell_type": "markdown",
      "metadata": {
        "id": "0ap3kT0Ndwy8"
      },
      "source": [
        "Сделаем обработку массы запросов:\n",
        "\n"
      ]
    },
    {
      "cell_type": "code",
      "source": [
        "!wget 'https://drive.google.com/uc?export=download&id=1SKz0DxcAld5sMClmL8tMd1v829D2hWd6' -O X_test.csv\n",
        "!wget 'https://drive.google.com/uc?export=download&id=1Ip2RyGsIVBYOXdqD04dIwnOKq4Nubsxy' -O y_test.csv"
      ],
      "metadata": {
        "id": "j58BjnCOM4Sr",
        "colab": {
          "base_uri": "https://localhost:8080/"
        },
        "outputId": "1a6dae45-64c9-4b53-8bcc-a48667dcfaa7"
      },
      "execution_count": 14,
      "outputs": [
        {
          "output_type": "stream",
          "name": "stdout",
          "text": [
            "--2022-06-11 15:31:57--  https://drive.google.com/uc?export=download&id=1SKz0DxcAld5sMClmL8tMd1v829D2hWd6\n",
            "Resolving drive.google.com (drive.google.com)... 108.177.13.139, 108.177.13.113, 108.177.13.101, ...\n",
            "Connecting to drive.google.com (drive.google.com)|108.177.13.139|:443... connected.\n",
            "HTTP request sent, awaiting response... 303 See Other\n",
            "Location: https://doc-00-ak-docs.googleusercontent.com/docs/securesc/ha0ro937gcuc7l7deffksulhg5h7mbp1/bd5mskbb1j5e30pdb6g2mg6ikjhe9rt0/1654961475000/12412789190724481313/*/1SKz0DxcAld5sMClmL8tMd1v829D2hWd6?e=download [following]\n",
            "Warning: wildcards not supported in HTTP.\n",
            "--2022-06-11 15:31:57--  https://doc-00-ak-docs.googleusercontent.com/docs/securesc/ha0ro937gcuc7l7deffksulhg5h7mbp1/bd5mskbb1j5e30pdb6g2mg6ikjhe9rt0/1654961475000/12412789190724481313/*/1SKz0DxcAld5sMClmL8tMd1v829D2hWd6?e=download\n",
            "Resolving doc-00-ak-docs.googleusercontent.com (doc-00-ak-docs.googleusercontent.com)... 173.194.215.132, 2607:f8b0:400c:c0c::84\n",
            "Connecting to doc-00-ak-docs.googleusercontent.com (doc-00-ak-docs.googleusercontent.com)|173.194.215.132|:443... connected.\n",
            "HTTP request sent, awaiting response... 200 OK\n",
            "Length: 105926 (103K) [text/csv]\n",
            "Saving to: ‘X_test.csv’\n",
            "\n",
            "X_test.csv          100%[===================>] 103.44K  --.-KB/s    in 0.001s  \n",
            "\n",
            "2022-06-11 15:31:57 (72.8 MB/s) - ‘X_test.csv’ saved [105926/105926]\n",
            "\n",
            "--2022-06-11 15:31:58--  https://drive.google.com/uc?export=download&id=1Ip2RyGsIVBYOXdqD04dIwnOKq4Nubsxy\n",
            "Resolving drive.google.com (drive.google.com)... 108.177.13.139, 108.177.13.101, 108.177.13.100, ...\n",
            "Connecting to drive.google.com (drive.google.com)|108.177.13.139|:443... connected.\n",
            "HTTP request sent, awaiting response... 303 See Other\n",
            "Location: https://doc-0k-ak-docs.googleusercontent.com/docs/securesc/ha0ro937gcuc7l7deffksulhg5h7mbp1/lhpn65av2o64bnr9v11lr14ve3ardk80/1654961475000/12412789190724481313/*/1Ip2RyGsIVBYOXdqD04dIwnOKq4Nubsxy?e=download [following]\n",
            "Warning: wildcards not supported in HTTP.\n",
            "--2022-06-11 15:31:58--  https://doc-0k-ak-docs.googleusercontent.com/docs/securesc/ha0ro937gcuc7l7deffksulhg5h7mbp1/lhpn65av2o64bnr9v11lr14ve3ardk80/1654961475000/12412789190724481313/*/1Ip2RyGsIVBYOXdqD04dIwnOKq4Nubsxy?e=download\n",
            "Resolving doc-0k-ak-docs.googleusercontent.com (doc-0k-ak-docs.googleusercontent.com)... 173.194.215.132, 2607:f8b0:400c:c0c::84\n",
            "Connecting to doc-0k-ak-docs.googleusercontent.com (doc-0k-ak-docs.googleusercontent.com)|173.194.215.132|:443... connected.\n",
            "HTTP request sent, awaiting response... 200 OK\n",
            "Length: 1723 (1.7K) [text/csv]\n",
            "Saving to: ‘y_test.csv’\n",
            "\n",
            "y_test.csv          100%[===================>]   1.68K  --.-KB/s    in 0s      \n",
            "\n",
            "2022-06-11 15:31:58 (66.0 MB/s) - ‘y_test.csv’ saved [1723/1723]\n",
            "\n"
          ]
        }
      ]
    },
    {
      "cell_type": "code",
      "metadata": {
        "id": "86un8JyLFzIy"
      },
      "source": [
        "import pandas as pd\n",
        "from sklearn.metrics import roc_auc_score, roc_curve, precision_recall_curve\n",
        "from sklearn.metrics import f1_score\n",
        "from urllib import request, parse\n",
        "\n",
        "\n",
        "X_test = pd.read_csv(\"X_test.csv\")\n",
        "y_test = pd.read_csv(\"y_test.csv\")"
      ],
      "execution_count": 15,
      "outputs": []
    },
    {
      "cell_type": "markdown",
      "metadata": {
        "id": "EEI1n7m4d6hl"
      },
      "source": [
        "2. Передаем запрос одиночный из наших данных и посмотрим на ответ"
      ]
    },
    {
      "cell_type": "code",
      "metadata": {
        "id": "6hdMT1q39TuA"
      },
      "source": [
        "response = send_json(X_test[['Home Ownership',\n",
        " 'Annual Income',\n",
        " 'Years in current job',\n",
        " 'Tax Liens',\n",
        " 'Number of Open Accounts',\n",
        " 'Years of Credit History',\n",
        " 'Maximum Open Credit',\n",
        " 'Number of Credit Problems',\n",
        " 'Months since last delinquent',\n",
        " 'Bankruptcies',\n",
        " 'Purpose',\n",
        " 'Term',\n",
        " 'Current Loan Amount',\n",
        " 'Current Credit Balance',\n",
        " 'Monthly Debt',\n",
        " 'Credit Score']].iloc[0,:])"
      ],
      "execution_count": 26,
      "outputs": []
    },
    {
      "cell_type": "code",
      "metadata": {
        "id": "bfMibegjGgKq",
        "colab": {
          "base_uri": "https://localhost:8080/"
        },
        "outputId": "5d7d12e9-d8bf-4839-cb02-e866a5b523d2"
      },
      "source": [
        "response"
      ],
      "execution_count": 27,
      "outputs": [
        {
          "output_type": "execute_result",
          "data": {
            "text/plain": [
              "0.5381713305996818"
            ]
          },
          "metadata": {},
          "execution_count": 27
        }
      ]
    },
    {
      "cell_type": "code",
      "metadata": {
        "id": "ldRkh4v9miMF",
        "colab": {
          "base_uri": "https://localhost:8080/",
          "height": 409
        },
        "outputId": "97b2cde1-30fb-4ff4-ed2c-7ea6165f00b4"
      },
      "source": [
        "X_test[['Home Ownership',\n",
        " 'Annual Income',\n",
        " 'Years in current job',\n",
        " 'Tax Liens',\n",
        " 'Number of Open Accounts',\n",
        " 'Years of Credit History',\n",
        " 'Maximum Open Credit',\n",
        " 'Number of Credit Problems',\n",
        " 'Months since last delinquent',\n",
        " 'Bankruptcies',\n",
        " 'Purpose',\n",
        " 'Term',\n",
        " 'Current Loan Amount',\n",
        " 'Current Credit Balance',\n",
        " 'Monthly Debt',\n",
        " 'Credit Score']].head()"
      ],
      "execution_count": 28,
      "outputs": [
        {
          "output_type": "execute_result",
          "data": {
            "text/plain": [
              "  Home Ownership  Annual Income Years in current job  Tax Liens  \\\n",
              "0           Rent       658217.0            10+ years        0.0   \n",
              "1  Home Mortgage      1028242.0              7 years        0.0   \n",
              "2           Rent      1045323.0            10+ years        0.0   \n",
              "3           Rent       858173.0             < 1 year        0.0   \n",
              "4           Rent      1747772.0              4 years        0.0   \n",
              "\n",
              "   Number of Open Accounts  Years of Credit History  Maximum Open Credit  \\\n",
              "0                      9.0                     10.9             150260.0   \n",
              "1                      6.0                     13.9             123596.0   \n",
              "2                      4.0                     16.3             299090.0   \n",
              "3                      7.0                     10.7             213994.0   \n",
              "4                     13.0                     24.8             189398.0   \n",
              "\n",
              "   Number of Credit Problems  Months since last delinquent  Bankruptcies  \\\n",
              "0                        0.0                           3.0           0.0   \n",
              "1                        0.0                          43.0           0.0   \n",
              "2                        0.0                          33.0           0.0   \n",
              "3                        0.0                          30.0           0.0   \n",
              "4                        0.0                          38.0           0.0   \n",
              "\n",
              "              Purpose        Term  Current Loan Amount  \\\n",
              "0  debt consolidation  Short Term             139370.0   \n",
              "1  debt consolidation  Short Term           99999999.0   \n",
              "2  debt consolidation   Long Term             440132.0   \n",
              "3  debt consolidation  Short Term             237622.0   \n",
              "4  debt consolidation   Long Term             753522.0   \n",
              "\n",
              "   Current Credit Balance  Monthly Debt  Credit Score  \n",
              "0                 53200.0       10970.0         733.0  \n",
              "1                 56791.0        9254.0         734.0  \n",
              "2                181070.0       11847.0         732.0  \n",
              "3                 92226.0        9225.0         721.0  \n",
              "4                161937.0       33499.0         667.0  "
            ],
            "text/html": [
              "\n",
              "  <div id=\"df-f4f22c91-b08d-4ff6-ad00-3f902f4cd9d0\">\n",
              "    <div class=\"colab-df-container\">\n",
              "      <div>\n",
              "<style scoped>\n",
              "    .dataframe tbody tr th:only-of-type {\n",
              "        vertical-align: middle;\n",
              "    }\n",
              "\n",
              "    .dataframe tbody tr th {\n",
              "        vertical-align: top;\n",
              "    }\n",
              "\n",
              "    .dataframe thead th {\n",
              "        text-align: right;\n",
              "    }\n",
              "</style>\n",
              "<table border=\"1\" class=\"dataframe\">\n",
              "  <thead>\n",
              "    <tr style=\"text-align: right;\">\n",
              "      <th></th>\n",
              "      <th>Home Ownership</th>\n",
              "      <th>Annual Income</th>\n",
              "      <th>Years in current job</th>\n",
              "      <th>Tax Liens</th>\n",
              "      <th>Number of Open Accounts</th>\n",
              "      <th>Years of Credit History</th>\n",
              "      <th>Maximum Open Credit</th>\n",
              "      <th>Number of Credit Problems</th>\n",
              "      <th>Months since last delinquent</th>\n",
              "      <th>Bankruptcies</th>\n",
              "      <th>Purpose</th>\n",
              "      <th>Term</th>\n",
              "      <th>Current Loan Amount</th>\n",
              "      <th>Current Credit Balance</th>\n",
              "      <th>Monthly Debt</th>\n",
              "      <th>Credit Score</th>\n",
              "    </tr>\n",
              "  </thead>\n",
              "  <tbody>\n",
              "    <tr>\n",
              "      <th>0</th>\n",
              "      <td>Rent</td>\n",
              "      <td>658217.0</td>\n",
              "      <td>10+ years</td>\n",
              "      <td>0.0</td>\n",
              "      <td>9.0</td>\n",
              "      <td>10.9</td>\n",
              "      <td>150260.0</td>\n",
              "      <td>0.0</td>\n",
              "      <td>3.0</td>\n",
              "      <td>0.0</td>\n",
              "      <td>debt consolidation</td>\n",
              "      <td>Short Term</td>\n",
              "      <td>139370.0</td>\n",
              "      <td>53200.0</td>\n",
              "      <td>10970.0</td>\n",
              "      <td>733.0</td>\n",
              "    </tr>\n",
              "    <tr>\n",
              "      <th>1</th>\n",
              "      <td>Home Mortgage</td>\n",
              "      <td>1028242.0</td>\n",
              "      <td>7 years</td>\n",
              "      <td>0.0</td>\n",
              "      <td>6.0</td>\n",
              "      <td>13.9</td>\n",
              "      <td>123596.0</td>\n",
              "      <td>0.0</td>\n",
              "      <td>43.0</td>\n",
              "      <td>0.0</td>\n",
              "      <td>debt consolidation</td>\n",
              "      <td>Short Term</td>\n",
              "      <td>99999999.0</td>\n",
              "      <td>56791.0</td>\n",
              "      <td>9254.0</td>\n",
              "      <td>734.0</td>\n",
              "    </tr>\n",
              "    <tr>\n",
              "      <th>2</th>\n",
              "      <td>Rent</td>\n",
              "      <td>1045323.0</td>\n",
              "      <td>10+ years</td>\n",
              "      <td>0.0</td>\n",
              "      <td>4.0</td>\n",
              "      <td>16.3</td>\n",
              "      <td>299090.0</td>\n",
              "      <td>0.0</td>\n",
              "      <td>33.0</td>\n",
              "      <td>0.0</td>\n",
              "      <td>debt consolidation</td>\n",
              "      <td>Long Term</td>\n",
              "      <td>440132.0</td>\n",
              "      <td>181070.0</td>\n",
              "      <td>11847.0</td>\n",
              "      <td>732.0</td>\n",
              "    </tr>\n",
              "    <tr>\n",
              "      <th>3</th>\n",
              "      <td>Rent</td>\n",
              "      <td>858173.0</td>\n",
              "      <td>&lt; 1 year</td>\n",
              "      <td>0.0</td>\n",
              "      <td>7.0</td>\n",
              "      <td>10.7</td>\n",
              "      <td>213994.0</td>\n",
              "      <td>0.0</td>\n",
              "      <td>30.0</td>\n",
              "      <td>0.0</td>\n",
              "      <td>debt consolidation</td>\n",
              "      <td>Short Term</td>\n",
              "      <td>237622.0</td>\n",
              "      <td>92226.0</td>\n",
              "      <td>9225.0</td>\n",
              "      <td>721.0</td>\n",
              "    </tr>\n",
              "    <tr>\n",
              "      <th>4</th>\n",
              "      <td>Rent</td>\n",
              "      <td>1747772.0</td>\n",
              "      <td>4 years</td>\n",
              "      <td>0.0</td>\n",
              "      <td>13.0</td>\n",
              "      <td>24.8</td>\n",
              "      <td>189398.0</td>\n",
              "      <td>0.0</td>\n",
              "      <td>38.0</td>\n",
              "      <td>0.0</td>\n",
              "      <td>debt consolidation</td>\n",
              "      <td>Long Term</td>\n",
              "      <td>753522.0</td>\n",
              "      <td>161937.0</td>\n",
              "      <td>33499.0</td>\n",
              "      <td>667.0</td>\n",
              "    </tr>\n",
              "  </tbody>\n",
              "</table>\n",
              "</div>\n",
              "      <button class=\"colab-df-convert\" onclick=\"convertToInteractive('df-f4f22c91-b08d-4ff6-ad00-3f902f4cd9d0')\"\n",
              "              title=\"Convert this dataframe to an interactive table.\"\n",
              "              style=\"display:none;\">\n",
              "        \n",
              "  <svg xmlns=\"http://www.w3.org/2000/svg\" height=\"24px\"viewBox=\"0 0 24 24\"\n",
              "       width=\"24px\">\n",
              "    <path d=\"M0 0h24v24H0V0z\" fill=\"none\"/>\n",
              "    <path d=\"M18.56 5.44l.94 2.06.94-2.06 2.06-.94-2.06-.94-.94-2.06-.94 2.06-2.06.94zm-11 1L8.5 8.5l.94-2.06 2.06-.94-2.06-.94L8.5 2.5l-.94 2.06-2.06.94zm10 10l.94 2.06.94-2.06 2.06-.94-2.06-.94-.94-2.06-.94 2.06-2.06.94z\"/><path d=\"M17.41 7.96l-1.37-1.37c-.4-.4-.92-.59-1.43-.59-.52 0-1.04.2-1.43.59L10.3 9.45l-7.72 7.72c-.78.78-.78 2.05 0 2.83L4 21.41c.39.39.9.59 1.41.59.51 0 1.02-.2 1.41-.59l7.78-7.78 2.81-2.81c.8-.78.8-2.07 0-2.86zM5.41 20L4 18.59l7.72-7.72 1.47 1.35L5.41 20z\"/>\n",
              "  </svg>\n",
              "      </button>\n",
              "      \n",
              "  <style>\n",
              "    .colab-df-container {\n",
              "      display:flex;\n",
              "      flex-wrap:wrap;\n",
              "      gap: 12px;\n",
              "    }\n",
              "\n",
              "    .colab-df-convert {\n",
              "      background-color: #E8F0FE;\n",
              "      border: none;\n",
              "      border-radius: 50%;\n",
              "      cursor: pointer;\n",
              "      display: none;\n",
              "      fill: #1967D2;\n",
              "      height: 32px;\n",
              "      padding: 0 0 0 0;\n",
              "      width: 32px;\n",
              "    }\n",
              "\n",
              "    .colab-df-convert:hover {\n",
              "      background-color: #E2EBFA;\n",
              "      box-shadow: 0px 1px 2px rgba(60, 64, 67, 0.3), 0px 1px 3px 1px rgba(60, 64, 67, 0.15);\n",
              "      fill: #174EA6;\n",
              "    }\n",
              "\n",
              "    [theme=dark] .colab-df-convert {\n",
              "      background-color: #3B4455;\n",
              "      fill: #D2E3FC;\n",
              "    }\n",
              "\n",
              "    [theme=dark] .colab-df-convert:hover {\n",
              "      background-color: #434B5C;\n",
              "      box-shadow: 0px 1px 3px 1px rgba(0, 0, 0, 0.15);\n",
              "      filter: drop-shadow(0px 1px 2px rgba(0, 0, 0, 0.3));\n",
              "      fill: #FFFFFF;\n",
              "    }\n",
              "  </style>\n",
              "\n",
              "      <script>\n",
              "        const buttonEl =\n",
              "          document.querySelector('#df-f4f22c91-b08d-4ff6-ad00-3f902f4cd9d0 button.colab-df-convert');\n",
              "        buttonEl.style.display =\n",
              "          google.colab.kernel.accessAllowed ? 'block' : 'none';\n",
              "\n",
              "        async function convertToInteractive(key) {\n",
              "          const element = document.querySelector('#df-f4f22c91-b08d-4ff6-ad00-3f902f4cd9d0');\n",
              "          const dataTable =\n",
              "            await google.colab.kernel.invokeFunction('convertToInteractive',\n",
              "                                                     [key], {});\n",
              "          if (!dataTable) return;\n",
              "\n",
              "          const docLinkHtml = 'Like what you see? Visit the ' +\n",
              "            '<a target=\"_blank\" href=https://colab.research.google.com/notebooks/data_table.ipynb>data table notebook</a>'\n",
              "            + ' to learn more about interactive tables.';\n",
              "          element.innerHTML = '';\n",
              "          dataTable['output_type'] = 'display_data';\n",
              "          await google.colab.output.renderOutput(dataTable, element);\n",
              "          const docLink = document.createElement('div');\n",
              "          docLink.innerHTML = docLinkHtml;\n",
              "          element.appendChild(docLink);\n",
              "        }\n",
              "      </script>\n",
              "    </div>\n",
              "  </div>\n",
              "  "
            ]
          },
          "metadata": {},
          "execution_count": 28
        }
      ]
    },
    {
      "cell_type": "markdown",
      "metadata": {
        "id": "mPcCXiQ1eMwN"
      },
      "source": [
        "3. Сделаем N запросов и оценим время"
      ]
    },
    {
      "cell_type": "code",
      "metadata": {
        "id": "B8rN18B4qCJV"
      },
      "source": [
        "N = 50"
      ],
      "execution_count": 21,
      "outputs": []
    },
    {
      "cell_type": "code",
      "metadata": {
        "id": "UbD-kDI7j5G_",
        "colab": {
          "base_uri": "https://localhost:8080/"
        },
        "outputId": "ad47c48a-42ec-4ac2-c120-3e38ed829ccf"
      },
      "source": [
        "%%time\n",
        "predictions = X_test[\n",
        "                     ['Home Ownership',\n",
        " 'Annual Income',\n",
        " 'Years in current job',\n",
        " 'Tax Liens',\n",
        " 'Number of Open Accounts',\n",
        " 'Years of Credit History',\n",
        " 'Maximum Open Credit',\n",
        " 'Number of Credit Problems',\n",
        " 'Months since last delinquent',\n",
        " 'Bankruptcies',\n",
        " 'Purpose',\n",
        " 'Term',\n",
        " 'Current Loan Amount',\n",
        " 'Current Credit Balance',\n",
        " 'Monthly Debt',\n",
        " 'Credit Score']\n",
        "                     ].iloc[:N].apply(lambda x: send_json(x), axis=1)"
      ],
      "execution_count": 29,
      "outputs": [
        {
          "output_type": "stream",
          "name": "stdout",
          "text": [
            "CPU times: user 219 ms, sys: 29.1 ms, total: 248 ms\n",
            "Wall time: 10.9 s\n"
          ]
        }
      ]
    },
    {
      "cell_type": "code",
      "metadata": {
        "id": "bMtyzhLNo5b7",
        "colab": {
          "base_uri": "https://localhost:8080/"
        },
        "outputId": "590a5f2e-9802-4aa6-802d-1e608f421e7f"
      },
      "source": [
        "predictions.values[:5]"
      ],
      "execution_count": 30,
      "outputs": [
        {
          "output_type": "execute_result",
          "data": {
            "text/plain": [
              "array([0.53817133, 0.31957969, 0.52387818, 0.5372955 , 0.53307526])"
            ]
          },
          "metadata": {},
          "execution_count": 30
        }
      ]
    },
    {
      "cell_type": "markdown",
      "metadata": {
        "id": "5-Emg5b1eTia"
      },
      "source": [
        "4. Посчитаем метрику"
      ]
    },
    {
      "cell_type": "code",
      "metadata": {
        "id": "qrbuoWWNpDU0",
        "colab": {
          "base_uri": "https://localhost:8080/",
          "height": 206
        },
        "outputId": "cc1c10ae-7204-444c-9a67-6776b6391b1f"
      },
      "source": [
        "y_test.head()"
      ],
      "execution_count": 31,
      "outputs": [
        {
          "output_type": "execute_result",
          "data": {
            "text/plain": [
              "   Credit Default\n",
              "0               1\n",
              "1               0\n",
              "2               0\n",
              "3               0\n",
              "4               1"
            ],
            "text/html": [
              "\n",
              "  <div id=\"df-89c79b95-1a5e-4aff-8a83-27b3badaefd8\">\n",
              "    <div class=\"colab-df-container\">\n",
              "      <div>\n",
              "<style scoped>\n",
              "    .dataframe tbody tr th:only-of-type {\n",
              "        vertical-align: middle;\n",
              "    }\n",
              "\n",
              "    .dataframe tbody tr th {\n",
              "        vertical-align: top;\n",
              "    }\n",
              "\n",
              "    .dataframe thead th {\n",
              "        text-align: right;\n",
              "    }\n",
              "</style>\n",
              "<table border=\"1\" class=\"dataframe\">\n",
              "  <thead>\n",
              "    <tr style=\"text-align: right;\">\n",
              "      <th></th>\n",
              "      <th>Credit Default</th>\n",
              "    </tr>\n",
              "  </thead>\n",
              "  <tbody>\n",
              "    <tr>\n",
              "      <th>0</th>\n",
              "      <td>1</td>\n",
              "    </tr>\n",
              "    <tr>\n",
              "      <th>1</th>\n",
              "      <td>0</td>\n",
              "    </tr>\n",
              "    <tr>\n",
              "      <th>2</th>\n",
              "      <td>0</td>\n",
              "    </tr>\n",
              "    <tr>\n",
              "      <th>3</th>\n",
              "      <td>0</td>\n",
              "    </tr>\n",
              "    <tr>\n",
              "      <th>4</th>\n",
              "      <td>1</td>\n",
              "    </tr>\n",
              "  </tbody>\n",
              "</table>\n",
              "</div>\n",
              "      <button class=\"colab-df-convert\" onclick=\"convertToInteractive('df-89c79b95-1a5e-4aff-8a83-27b3badaefd8')\"\n",
              "              title=\"Convert this dataframe to an interactive table.\"\n",
              "              style=\"display:none;\">\n",
              "        \n",
              "  <svg xmlns=\"http://www.w3.org/2000/svg\" height=\"24px\"viewBox=\"0 0 24 24\"\n",
              "       width=\"24px\">\n",
              "    <path d=\"M0 0h24v24H0V0z\" fill=\"none\"/>\n",
              "    <path d=\"M18.56 5.44l.94 2.06.94-2.06 2.06-.94-2.06-.94-.94-2.06-.94 2.06-2.06.94zm-11 1L8.5 8.5l.94-2.06 2.06-.94-2.06-.94L8.5 2.5l-.94 2.06-2.06.94zm10 10l.94 2.06.94-2.06 2.06-.94-2.06-.94-.94-2.06-.94 2.06-2.06.94z\"/><path d=\"M17.41 7.96l-1.37-1.37c-.4-.4-.92-.59-1.43-.59-.52 0-1.04.2-1.43.59L10.3 9.45l-7.72 7.72c-.78.78-.78 2.05 0 2.83L4 21.41c.39.39.9.59 1.41.59.51 0 1.02-.2 1.41-.59l7.78-7.78 2.81-2.81c.8-.78.8-2.07 0-2.86zM5.41 20L4 18.59l7.72-7.72 1.47 1.35L5.41 20z\"/>\n",
              "  </svg>\n",
              "      </button>\n",
              "      \n",
              "  <style>\n",
              "    .colab-df-container {\n",
              "      display:flex;\n",
              "      flex-wrap:wrap;\n",
              "      gap: 12px;\n",
              "    }\n",
              "\n",
              "    .colab-df-convert {\n",
              "      background-color: #E8F0FE;\n",
              "      border: none;\n",
              "      border-radius: 50%;\n",
              "      cursor: pointer;\n",
              "      display: none;\n",
              "      fill: #1967D2;\n",
              "      height: 32px;\n",
              "      padding: 0 0 0 0;\n",
              "      width: 32px;\n",
              "    }\n",
              "\n",
              "    .colab-df-convert:hover {\n",
              "      background-color: #E2EBFA;\n",
              "      box-shadow: 0px 1px 2px rgba(60, 64, 67, 0.3), 0px 1px 3px 1px rgba(60, 64, 67, 0.15);\n",
              "      fill: #174EA6;\n",
              "    }\n",
              "\n",
              "    [theme=dark] .colab-df-convert {\n",
              "      background-color: #3B4455;\n",
              "      fill: #D2E3FC;\n",
              "    }\n",
              "\n",
              "    [theme=dark] .colab-df-convert:hover {\n",
              "      background-color: #434B5C;\n",
              "      box-shadow: 0px 1px 3px 1px rgba(0, 0, 0, 0.15);\n",
              "      filter: drop-shadow(0px 1px 2px rgba(0, 0, 0, 0.3));\n",
              "      fill: #FFFFFF;\n",
              "    }\n",
              "  </style>\n",
              "\n",
              "      <script>\n",
              "        const buttonEl =\n",
              "          document.querySelector('#df-89c79b95-1a5e-4aff-8a83-27b3badaefd8 button.colab-df-convert');\n",
              "        buttonEl.style.display =\n",
              "          google.colab.kernel.accessAllowed ? 'block' : 'none';\n",
              "\n",
              "        async function convertToInteractive(key) {\n",
              "          const element = document.querySelector('#df-89c79b95-1a5e-4aff-8a83-27b3badaefd8');\n",
              "          const dataTable =\n",
              "            await google.colab.kernel.invokeFunction('convertToInteractive',\n",
              "                                                     [key], {});\n",
              "          if (!dataTable) return;\n",
              "\n",
              "          const docLinkHtml = 'Like what you see? Visit the ' +\n",
              "            '<a target=\"_blank\" href=https://colab.research.google.com/notebooks/data_table.ipynb>data table notebook</a>'\n",
              "            + ' to learn more about interactive tables.';\n",
              "          element.innerHTML = '';\n",
              "          dataTable['output_type'] = 'display_data';\n",
              "          await google.colab.output.renderOutput(dataTable, element);\n",
              "          const docLink = document.createElement('div');\n",
              "          docLink.innerHTML = docLinkHtml;\n",
              "          element.appendChild(docLink);\n",
              "        }\n",
              "      </script>\n",
              "    </div>\n",
              "  </div>\n",
              "  "
            ]
          },
          "metadata": {},
          "execution_count": 31
        }
      ]
    },
    {
      "cell_type": "code",
      "source": [
        "import numpy as np\n",
        "\n",
        "precision, recall, thresholds = precision_recall_curve(y_test[:N], predictions)\n",
        "\n",
        "fscore = (2 * precision * recall) / (precision + recall)\n",
        "# locate the index of the largest f score\n",
        "ix = np.argmax(fscore)\n",
        "print(f'Best Threshold={thresholds[ix]}, F-Score={fscore[ix]:.3f}, Precision={precision[ix]:.3f}, Recall={recall[ix]:.3f}')"
      ],
      "metadata": {
        "id": "PhGNR_vtNbg5",
        "colab": {
          "base_uri": "https://localhost:8080/"
        },
        "outputId": "3ac5ca98-d48d-49fa-83eb-3f32288878eb"
      },
      "execution_count": 32,
      "outputs": [
        {
          "output_type": "stream",
          "name": "stdout",
          "text": [
            "Best Threshold=0.5330752637267538, F-Score=0.625, Precision=0.526, Recall=0.769\n"
          ]
        }
      ]
    },
    {
      "cell_type": "code",
      "metadata": {
        "id": "RNQmFOfXnAky",
        "colab": {
          "base_uri": "https://localhost:8080/"
        },
        "outputId": "e0fcf3ad-9cf4-4aae-8722-2f169367c1c9"
      },
      "source": [
        "roc_auc_score(y_score=predictions.values, y_true=y_test.values[:N])"
      ],
      "execution_count": 33,
      "outputs": [
        {
          "output_type": "execute_result",
          "data": {
            "text/plain": [
              "0.814968814968815"
            ]
          },
          "metadata": {},
          "execution_count": 33
        }
      ]
    }
  ]
}