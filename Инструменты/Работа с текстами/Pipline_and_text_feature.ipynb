{
  "cells": [
    {
      "cell_type": "markdown",
      "metadata": {
        "id": "m2AI4835UWuO"
      },
      "source": [
        "### О чем курс и для кого"
      ]
    },
    {
      "cell_type": "markdown",
      "metadata": {
        "id": "b_5E0LMPUWuS"
      },
      "source": [
        "Данный курс посвящен применению ML в бизнесе. Курс создан с целью ознакомления с прикладными задачами, в которых машинное обучение хорошо работает и приносит пользу в виде увеличения финансовых показателей либо улучшения (автоматизации) процессов в компании. \n",
        "\n",
        "В рамках курса будет рассмотрено несколько **прикладных задач**, таких как:\n",
        "\n",
        "<table>\n",
        "<tr>\n",
        "<td>\n",
        "маршрутизация заявок в helpdesk<br>\n",
        "<img src='https://drive.google.com/uc?export=view&id=1OgNQXmuQK0pj4Gt86YyPWqjcx41AW5zM' width=300>\n",
        "</td>\n",
        "<td>\n",
        "сегментирование аудитории<br>\n",
        "<img src='https://drive.google.com/uc?export=view&id=1T6ksslLY16RLCfqZsdDPInQzvhNwValQ' width=300>\n",
        "</td>\n",
        "</tr>\n",
        "<tr>\n",
        "<td>\n",
        "прогнозирование оттока<br>\n",
        "<img src='https://drive.google.com/uc?export=view&id=1WocZcqMj2-W1TzTx-kkrRpmHmQgDDggO' width=300>\n",
        "</td>\n",
        "<td>\n",
        "uplift-моделирование<br>\n",
        "<img src='https://drive.google.com/uc?export=view&id=1-nRmkyJyKbN279Z5MHaUQF608RgkC7bc' width=300>\n",
        "</td>\n",
        "</tr>\n",
        "<tr>\n",
        "<td colspan=\"2\">\n",
        "look-a-like<br>\n",
        "<img src='https://drive.google.com/uc?export=view&id=1ufkxuhE7bsMamBgXI9O_bj-Epqhir3Ke' width=600>\n",
        "</td>\n",
        "</tr>\n",
        "</table>\n",
        "\n",
        "Также будет затронут вопрос формулирования гипотез, презентации результатов, интеграции и **АБ-тестирования** ML-моделей. \n",
        "\n",
        "Итогом курса будет разработка **Rest API сервиса**, с которым можно взаимодействовать и получать прогнозы для новых данных."
      ]
    },
    {
      "cell_type": "markdown",
      "source": [
        "*4 вопроса, которые будем осбуждать на курсе:*\n",
        "1. Как модели применяем и какие?\n",
        "2. Как проверяем модели?\n",
        "3. Как показываем модели?\n",
        "4. Как взаимодействуем?\n"
      ],
      "metadata": {
        "id": "1bqj3ZU7cQBV"
      }
    },
    {
      "cell_type": "markdown",
      "metadata": {
        "id": "UUrDLarSUWwW"
      },
      "source": [
        "### Что стоит знать для комфортного прохождения курса"
      ]
    },
    {
      "cell_type": "markdown",
      "metadata": {
        "id": "fSoolv5GUWwY"
      },
      "source": [
        "Необходимые навыки и знания для успешного прохождения курса:\n",
        "1. *Машинное обучение* на среднем уровне\n",
        "    1. вспомнить базовые алгоритмы машинного обучения:\n",
        "        - линейные модели\n",
        "        - \"деревянные\"\n",
        "    2. повторить метрики качества в задачах классификации/регрессии. (например, понимать что такое roc auc и как его интерпретировать и т.д)\n",
        "    3. вспомнить из каких этапов состоит решение ML-задачи и уметь объяснить каждый из этапов:\n",
        "        - подготовка данных\n",
        "        - feature engineering\n",
        "        - modelling\n",
        "        - evaluation\n",
        "        - etc\n",
        "    4. кроссвалидация\n",
        "2. *Python*\n",
        "    1. структуры данных: set, list, dict, tuple, etc\n",
        "    2. циклы, условия\n",
        "    3. numpy, pandas, sklearn, matplotlib\n",
        "    4. навыки работы со средствами установки пакетов: pip, Conda\n",
        "    5. (желательно) умение работать с virtualenv и понимание в целом про то как работать с разными окружениями python на одном сервере.\n",
        "4. *ООП*\n",
        "    1. Умение не просто писать код на питоне в «процедурном» стиле, а способность завернуть все это в удобные классы и функции будет очень полезным.\n",
        "5. Теория вероятностей и статистика:\n",
        "    1. Генеральная совокупность и выборка\n",
        "    2. Базовые статистики: среднее, медиана, дисперсия\n",
        "    3. Нулевая и альтернативная гипотезы\n",
        "    4. Статистические тесты\n",
        "\n",
        "Ссылки:\n",
        "\n",
        "1. https://scikit-learn.org/stable/user_guide.html\n",
        "2. https://pandas.pydata.org/docs/user_guide/index.html\n",
        "3. https://docs.conda.io/en/latest/\n",
        "4. Метрики для классификации (видео) - https://youtube.com/playlist?list=PLkJJmZ1EJno6CLyvD4DHc32Fed6cPBHje\n",
        "5. Метрики для регрессии (видео) - https://youtu.be/vh2smjQyhp8\n",
        "6. Roc auc - https://dyakonov.org/2017/07/28/auc-roc-площадь-под-кривой-ошибок/\n",
        "7. Основы статистики: просто о сложных формулах - https://habr.com/ru/company/stepic/blog/250527/\n",
        "8. Теория вероятностей в работе программиста (вебинар) - https://geekbrains.ru/events/129\n",
        "9. Туториал по github - https://guides.github.com/activities/hello-world/\n",
        "10. Этапы МЛ проекта (видео) - https://youtu.be/LXc6gjip_oM"
      ]
    },
    {
      "cell_type": "markdown",
      "metadata": {
        "id": "_atK_P3RUWwZ"
      },
      "source": [
        "### По инструментам (здесь полная свобода выбора)"
      ]
    },
    {
      "cell_type": "markdown",
      "metadata": {
        "id": "Ge6AozH4UWwa"
      },
      "source": [
        "1. pycharm\n",
        "2. github (tutorial - https://guides.github.com/activities/hello-world/)\n",
        "3. jupyter notebook\n",
        "4. virtualenv/pip/conda\n",
        "5. google colab\n",
        "\n",
        "Ссылки:\n",
        "\n",
        "1. https://virtualenv.pypa.io/en/latest/"
      ]
    },
    {
      "cell_type": "markdown",
      "metadata": {
        "id": "3ACXsCd4UWuW"
      },
      "source": [
        "#### Важные уточнения"
      ]
    },
    {
      "cell_type": "markdown",
      "metadata": {
        "id": "RwFZR7HuUWua"
      },
      "source": [
        "Моделирование - лишь малая часть большого процесса по решению реальной задачи"
      ]
    },
    {
      "cell_type": "markdown",
      "metadata": {
        "id": "Z6mPCGYDUWuc"
      },
      "source": [
        "Более того, перед тем как внедрять ML, стоит ответить на ряд вопросов:\n",
        "\n",
        "- какую проблему решаем, и для кого?\n",
        "- как проблема решается сейчас? Чем нам поможет ML?\n",
        "\n",
        "Как вы понимаете, ответы нетривиальны обычно."
      ]
    },
    {
      "cell_type": "markdown",
      "metadata": {
        "id": "HnmT7nAkUWuf"
      },
      "source": [
        "Пример схемы, как может выглядеть решение на базе машинного обучения:"
      ]
    },
    {
      "cell_type": "markdown",
      "metadata": {
        "id": "9-D1I4BtUWuh"
      },
      "source": [
        "[Этапы МЛ проекта](https://youtu.be/LXc6gjip_oM)\n",
        "<img src='https://drive.google.com/uc?export=view&id=182zfyzM0ZvWzBQqhaq4pglS0c0XfyHNp'>"
      ]
    },
    {
      "cell_type": "markdown",
      "metadata": {
        "id": "P8u3dUiMUWuj"
      },
      "source": [
        "Существует проблема общения бизнеса и DS (говорят на каком-то своем языке)"
      ]
    },
    {
      "cell_type": "markdown",
      "metadata": {
        "id": "Qn-5CsdvUWul"
      },
      "source": [
        "## Вебинар 1. Введение. Data-driven подход на примере задачи маршрутизации заявок в helpdesk"
      ]
    },
    {
      "cell_type": "markdown",
      "metadata": {
        "id": "UmmLK0i7UWuw"
      },
      "source": [
        "### Пример 1. Маршрутизация заявок в службе технической поддержки"
      ]
    },
    {
      "cell_type": "markdown",
      "metadata": {
        "id": "efNpaLt0UWu0"
      },
      "source": [
        "**Проблема** - много ручной работы по распределению заявок между командами.\n",
        "\n",
        "**Возможное решение** - передать управление процессом распределения заявок ML-модели."
      ]
    },
    {
      "cell_type": "markdown",
      "metadata": {
        "id": "_hJOh1UDUWux"
      },
      "source": [
        "<img src='https://drive.google.com/uc?export=view&id=1i7KHgVzLeyAMx2mK3XkyIMfozzPVgiY_' width=600>\n",
        "\n",
        "Ссылка - http://www.it-rw.ru/helpdesk2.html"
      ]
    },
    {
      "cell_type": "markdown",
      "metadata": {
        "id": "bInh_1GPUWu1"
      },
      "source": [
        "На схеме выше мы встраиваем модель параллельно с администратором, которая также будет разбирать заявки автоматически. "
      ]
    },
    {
      "cell_type": "markdown",
      "metadata": {
        "id": "v-WhIX8UUWu2"
      },
      "source": [
        "**Как это может выглядеть на практике**"
      ]
    },
    {
      "cell_type": "markdown",
      "metadata": {
        "id": "9OnrvtZtUWu3"
      },
      "source": [
        "Проблема -> Анализ -> Продуктовая гипотеза -> Метрики -> ML решение -> AB-тестирование -> Оценка результатов -> Интеграция с другими командами"
      ]
    },
    {
      "cell_type": "markdown",
      "metadata": {
        "id": "jleaNBkdUWu3"
      },
      "source": [
        "#### 1. Проблема и почему ее стоит решать\n",
        "\n",
        "\n",
        "**Проблема -> Анализ** -> Продуктовая гипотеза -> Метрики -> ML решение -> AB-тестирование -> Оценка результатов -> Интеграция с другими командами\n",
        "\n",
        "<img src='https://drive.google.com/uc?export=view&id=1A-VuQAQNxdO7vpK0AD7hOKciMKsdXZj8' width=600>"
      ]
    },
    {
      "cell_type": "markdown",
      "metadata": {
        "id": "NJ3L2htUUWu4"
      },
      "source": [
        "Сейчас все заявки разбираются вручную операторами первой линии и на это уходит $N$ человекочасов в день. Стоимость одного человекочаса - $K$ рублей.\n",
        "\n",
        "Если хотя бы часть (минимум $x$ процентов) заявок будет распределяться автоматически, то это сэкономит нам $N*x*k$ рублей для компании.\n",
        "\n",
        "Более того, часть заявок не успевают распределять, в результате чего компания получает недовольных клиентов."
      ]
    },
    {
      "cell_type": "markdown",
      "metadata": {
        "id": "YKp6NiF6UWu5"
      },
      "source": [
        "#### 2. Продуктовая гипотеза\n",
        "\n",
        "**Проблема -> Анализ -> Продуктовая гипотеза** -> Метрики -> ML решение -> AB-тестирование -> Оценка результатов -> Интеграция с другими командами\n",
        "\n",
        "<img src='https://drive.google.com/uc?export=view&id=1L1IjDg6Sfcv5c3OcmRT2lRYNdu9_MBvK' width=600>"
      ]
    },
    {
      "cell_type": "markdown",
      "metadata": {
        "id": "2Q3ffouOUWu6"
      },
      "source": [
        "ML-модель может ошибаться и некорректно классифицировать заявки, но она не должна это делать чаще, чем в 10% случаев.\n",
        "\n",
        "Мы предполагаем, что реализовав такую систему распределения заявок, мы сможем заметно снизить нагрузку на людей, которые распределяют заявки вручную.\n"
      ]
    },
    {
      "cell_type": "markdown",
      "metadata": {
        "id": "HYy8_bRIUWu7"
      },
      "source": [
        "Откуда взялись 10 процентов? - это средняя ошибка человека первой линии ТП. Мы хотим, чтобы наша модель ошибалась не чаще и при этом сама парсила содержимое заявок и принимала одно из 2 решений: \n",
        "\n",
        "- передать на второй уровень ТП (выполнить маршрутизацию)\n",
        "- вернуть заявку в общую очередь (пометить, что недостаточно уверена и пусть уже далее заявка разбирается вручную)"
      ]
    },
    {
      "cell_type": "markdown",
      "metadata": {
        "id": "K5CksZS2QN1o"
      },
      "source": [
        "#### 3. Метрики\n",
        "\n",
        "**Проблема -> Анализ -> Продуктовая гипотеза -> Метрики** -> ML решение -> AB-тестирование -> Оценка результатов -> Интеграция с другими командами\n",
        "\n",
        "<img src='https://drive.google.com/uc?export=view&id=1CaKnb0XsAXdhxp5os98WEjtJi7Owv5Cx' width=600>"
      ]
    },
    {
      "cell_type": "markdown",
      "source": [
        "\n",
        "Мы увидим это по <b>увеличению количества заявок</b> , <b>корректно</b> обрабатываемых первой линией ТП и можем измерить ее с помощью метрики <b>доля заявок, корректно переведенных на второй уровень ТП</b>. Мы полагаем, что изменение приведет к хорошим результатам для компании, т.к значимо снизит нагрузку на сотрудников ТП и уменьшит долю заявок, которые не успевают обрабатываться."
      ],
      "metadata": {
        "id": "oHtUXHflQJbD"
      }
    },
    {
      "cell_type": "markdown",
      "metadata": {
        "id": "kPpYCsfPUWu8"
      },
      "source": [
        "#### 4. ML решение\n",
        "\n",
        "\n",
        "**Проблема -> Анализ -> Продуктовая гипотеза -> Метрики -> ML решение** -> AB-тестирование -> Оценка результатов -> Интеграция с другими командами\n",
        "\n",
        "<img src='https://drive.google.com/uc?export=view&id=1HFO8Aee8Hiway2TXwy3oOS_T37uD5NcF' width=600>"
      ]
    },
    {
      "cell_type": "markdown",
      "source": [
        "\n",
        "\n",
        "1. Формулировка задачи и выбор метрики (DS)\n",
        "2. Сбор данных и подготовка датасета\n",
        "3. Построение модели (обучение)\n",
        "4. Оборачивание всего этого в пайплайн обучения (для того, чтобы использовать в production)\n",
        "5. Мониторинг качества, логгирование\n",
        "6. Оценка результатов и проведение экспериментов"
      ],
      "metadata": {
        "id": "EL24MwmLRC6e"
      }
    },
    {
      "cell_type": "markdown",
      "metadata": {
        "id": "cu91SXKoUWu9"
      },
      "source": [
        "#### 5. AB-тестирование\n",
        "\n",
        "\n",
        "**Проблема -> Анализ -> Продуктовая гипотеза -> Метрики -> ML решение -> AB-тестирование** -> Оценка результатов -> Интеграция с другими командами"
      ]
    },
    {
      "cell_type": "markdown",
      "metadata": {
        "id": "HEvjPrtEUWu-"
      },
      "source": [
        "Как АБ-тестирование выглядит в общем случае, когда у нас 2 варианта"
      ]
    },
    {
      "cell_type": "markdown",
      "metadata": {
        "id": "qIkIw9bQUWu-"
      },
      "source": [
        "<img src='https://drive.google.com/uc?export=view&id=1VYQfY0QpbkIMsK1oUUJRQpeL82_FrpMb' width=700>"
      ]
    },
    {
      "cell_type": "markdown",
      "metadata": {
        "id": "lJRl7h7dUWvA"
      },
      "source": [
        "Разбиваем все наши заявки на 2 группы: \n",
        "\n",
        "- A: заявки разбираются вручную как и ранее\n",
        "- B: в обработке заявок участвует модель\n",
        "\n",
        "Далее сравниваем с помощью статистического теста долю правильно обработанных и переданных на второй уровень ТП заявок. \n",
        "\n",
        "*Гипотеза 0* - разницы в конверсии нет и модель никак не увеличивает долю таких заявок.\n",
        "\n",
        "*Гипотеза 1* - модель статистически значимо увеличит показатель конверсии. "
      ]
    },
    {
      "cell_type": "markdown",
      "metadata": {
        "id": "TsE7ClpBUWvC"
      },
      "source": [
        "Теперь важный вопрос: какая доля заявок будет участвовать в эксперименте? Ответ нетривиален.\n",
        "\n",
        "Нам нужно выбрать столько, чтобы нам было достаточно для получения статистически значимых выводов, при том, что сам эксперимент можно провести за относительно небольшое время. "
      ]
    },
    {
      "cell_type": "markdown",
      "metadata": {
        "id": "iaO8CMBiUWvH"
      },
      "source": [
        "#### 6. Оценка результатов и вопрос интеграции\n",
        "\n",
        "\n",
        "\n",
        "**Проблема -> Анализ -> Продуктовая гипотеза -> Метрики -> ML решение -> AB-тестирование -> Оценка результатов -> Интеграция с другими командами**\n",
        "\n",
        "\n",
        "<table>\n",
        "<tr>\n",
        "<td>\n",
        "<img src='https://drive.google.com/uc?export=view&id=1PXG-DxksXajNMNqroYtcwQMoh7_Y7q5X' width=300>\n",
        "</td>\n",
        "<td>\n",
        "<img src='https://drive.google.com/uc?export=view&id=1FU93jEkiAaKVVcCyThd18xXJf0MygQsg' width=300>\n",
        "</td>\n",
        "</tr>\n",
        "</table>"
      ]
    },
    {
      "cell_type": "markdown",
      "metadata": {
        "id": "TB1bNJ6gUWvH"
      },
      "source": [
        "Если будет получена статзначимость и мы успешно пройдем этап АБ-тестирования, то можно будет перейти к этапу интеграции нашего решения в компании. \n",
        "\n",
        "Обычно для доступа к ML-модели поднимается web API, с которым можно настроить интеграцию. Это будет нашим финальным проектом. "
      ]
    },
    {
      "cell_type": "markdown",
      "metadata": {
        "id": "VOJLwTZXUWvJ"
      },
      "source": [
        "В рамках курса каждый этап мы будем разбирать отдельно. "
      ]
    },
    {
      "cell_type": "markdown",
      "metadata": {
        "id": "QNGPtXhTUWvU"
      },
      "source": [
        "## Практика"
      ]
    },
    {
      "cell_type": "code",
      "execution_count": null,
      "metadata": {
        "id": "KLxllTwhUWvV"
      },
      "outputs": [],
      "source": [
        "import pandas as pd\n",
        "import numpy as np\n",
        "from sklearn.pipeline import Pipeline, make_pipeline\n",
        "from sklearn.base import BaseEstimator, TransformerMixin\n",
        "from sklearn.linear_model import LogisticRegression\n",
        "from sklearn.model_selection import train_test_split\n",
        "from sklearn.feature_extraction.text import TfidfVectorizer\n",
        "import itertools\n",
        "\n",
        "import matplotlib.pyplot as plt"
      ]
    },
    {
      "cell_type": "code",
      "source": [
        "!wget 'https://drive.google.com/uc?export=download&id=1noinTA-z864eSQ8t7QKq1BOzSO06ehzM' -O support_data.csv"
      ],
      "metadata": {
        "colab": {
          "base_uri": "https://localhost:8080/"
        },
        "id": "NVpZFWusXxPV",
        "outputId": "6d90bf13-7d5f-435f-b372-c320d30c85e1"
      },
      "execution_count": null,
      "outputs": [
        {
          "output_type": "stream",
          "name": "stdout",
          "text": [
            "--2022-05-13 16:34:43--  https://drive.google.com/uc?export=download&id=1noinTA-z864eSQ8t7QKq1BOzSO06ehzM\n",
            "Resolving drive.google.com (drive.google.com)... 108.177.127.100, 108.177.127.138, 108.177.127.113, ...\n",
            "Connecting to drive.google.com (drive.google.com)|108.177.127.100|:443... connected.\n",
            "HTTP request sent, awaiting response... 303 See Other\n",
            "Location: https://doc-10-c0-docs.googleusercontent.com/docs/securesc/ha0ro937gcuc7l7deffksulhg5h7mbp1/eguk55u591ra784kabr6c8l9olhsa9v7/1652459625000/14904333240138417226/*/1noinTA-z864eSQ8t7QKq1BOzSO06ehzM?e=download [following]\n",
            "Warning: wildcards not supported in HTTP.\n",
            "--2022-05-13 16:34:43--  https://doc-10-c0-docs.googleusercontent.com/docs/securesc/ha0ro937gcuc7l7deffksulhg5h7mbp1/eguk55u591ra784kabr6c8l9olhsa9v7/1652459625000/14904333240138417226/*/1noinTA-z864eSQ8t7QKq1BOzSO06ehzM?e=download\n",
            "Resolving doc-10-c0-docs.googleusercontent.com (doc-10-c0-docs.googleusercontent.com)... 142.250.145.132, 2a00:1450:4013:c14::84\n",
            "Connecting to doc-10-c0-docs.googleusercontent.com (doc-10-c0-docs.googleusercontent.com)|142.250.145.132|:443... connected.\n",
            "HTTP request sent, awaiting response... 200 OK\n",
            "Length: 51215 (50K) [text/csv]\n",
            "Saving to: ‘support_data.csv’\n",
            "\n",
            "support_data.csv    100%[===================>]  50.01K  --.-KB/s    in 0.002s  \n",
            "\n",
            "2022-05-13 16:34:43 (31.6 MB/s) - ‘support_data.csv’ saved [51215/51215]\n",
            "\n"
          ]
        }
      ]
    },
    {
      "cell_type": "code",
      "execution_count": null,
      "metadata": {
        "colab": {
          "base_uri": "https://localhost:8080/",
          "height": 198
        },
        "id": "tpEIx5aEUWvW",
        "outputId": "31cb480b-a460-4895-9b7a-b1103fe38481"
      },
      "outputs": [
        {
          "output_type": "stream",
          "name": "stderr",
          "text": [
            "/usr/local/lib/python3.7/dist-packages/ipykernel_launcher.py:1: FutureWarning: In a future version of pandas all arguments of DataFrame.drop except for the argument 'labels' will be keyword-only\n",
            "  \"\"\"Entry point for launching an IPython kernel.\n"
          ]
        },
        {
          "output_type": "execute_result",
          "data": {
            "text/plain": [
              "                                               Title  \\\n",
              "0                               Need Ethernet access   \n",
              "1  Create new account and share the username and ...   \n",
              "2                     FW: Myspace Login Issue-- Ania   \n",
              "\n",
              "                                          Resolution  class  category  \n",
              "0  Please connect the LAN cable to the red port o...     41         1  \n",
              "1  Go to URL : accountsetup.com, Enter personal d...     35         0  \n",
              "2  Go to URL : password.reset.com, Enter you logi...     36         0  "
            ],
            "text/html": [
              "\n",
              "  <div id=\"df-c3ae7a59-c0e9-4ab1-8ac4-872b260fcda9\">\n",
              "    <div class=\"colab-df-container\">\n",
              "      <div>\n",
              "<style scoped>\n",
              "    .dataframe tbody tr th:only-of-type {\n",
              "        vertical-align: middle;\n",
              "    }\n",
              "\n",
              "    .dataframe tbody tr th {\n",
              "        vertical-align: top;\n",
              "    }\n",
              "\n",
              "    .dataframe thead th {\n",
              "        text-align: right;\n",
              "    }\n",
              "</style>\n",
              "<table border=\"1\" class=\"dataframe\">\n",
              "  <thead>\n",
              "    <tr style=\"text-align: right;\">\n",
              "      <th></th>\n",
              "      <th>Title</th>\n",
              "      <th>Resolution</th>\n",
              "      <th>class</th>\n",
              "      <th>category</th>\n",
              "    </tr>\n",
              "  </thead>\n",
              "  <tbody>\n",
              "    <tr>\n",
              "      <th>0</th>\n",
              "      <td>Need Ethernet access</td>\n",
              "      <td>Please connect the LAN cable to the red port o...</td>\n",
              "      <td>41</td>\n",
              "      <td>1</td>\n",
              "    </tr>\n",
              "    <tr>\n",
              "      <th>1</th>\n",
              "      <td>Create new account and share the username and ...</td>\n",
              "      <td>Go to URL : accountsetup.com, Enter personal d...</td>\n",
              "      <td>35</td>\n",
              "      <td>0</td>\n",
              "    </tr>\n",
              "    <tr>\n",
              "      <th>2</th>\n",
              "      <td>FW: Myspace Login Issue-- Ania</td>\n",
              "      <td>Go to URL : password.reset.com, Enter you logi...</td>\n",
              "      <td>36</td>\n",
              "      <td>0</td>\n",
              "    </tr>\n",
              "  </tbody>\n",
              "</table>\n",
              "</div>\n",
              "      <button class=\"colab-df-convert\" onclick=\"convertToInteractive('df-c3ae7a59-c0e9-4ab1-8ac4-872b260fcda9')\"\n",
              "              title=\"Convert this dataframe to an interactive table.\"\n",
              "              style=\"display:none;\">\n",
              "        \n",
              "  <svg xmlns=\"http://www.w3.org/2000/svg\" height=\"24px\"viewBox=\"0 0 24 24\"\n",
              "       width=\"24px\">\n",
              "    <path d=\"M0 0h24v24H0V0z\" fill=\"none\"/>\n",
              "    <path d=\"M18.56 5.44l.94 2.06.94-2.06 2.06-.94-2.06-.94-.94-2.06-.94 2.06-2.06.94zm-11 1L8.5 8.5l.94-2.06 2.06-.94-2.06-.94L8.5 2.5l-.94 2.06-2.06.94zm10 10l.94 2.06.94-2.06 2.06-.94-2.06-.94-.94-2.06-.94 2.06-2.06.94z\"/><path d=\"M17.41 7.96l-1.37-1.37c-.4-.4-.92-.59-1.43-.59-.52 0-1.04.2-1.43.59L10.3 9.45l-7.72 7.72c-.78.78-.78 2.05 0 2.83L4 21.41c.39.39.9.59 1.41.59.51 0 1.02-.2 1.41-.59l7.78-7.78 2.81-2.81c.8-.78.8-2.07 0-2.86zM5.41 20L4 18.59l7.72-7.72 1.47 1.35L5.41 20z\"/>\n",
              "  </svg>\n",
              "      </button>\n",
              "      \n",
              "  <style>\n",
              "    .colab-df-container {\n",
              "      display:flex;\n",
              "      flex-wrap:wrap;\n",
              "      gap: 12px;\n",
              "    }\n",
              "\n",
              "    .colab-df-convert {\n",
              "      background-color: #E8F0FE;\n",
              "      border: none;\n",
              "      border-radius: 50%;\n",
              "      cursor: pointer;\n",
              "      display: none;\n",
              "      fill: #1967D2;\n",
              "      height: 32px;\n",
              "      padding: 0 0 0 0;\n",
              "      width: 32px;\n",
              "    }\n",
              "\n",
              "    .colab-df-convert:hover {\n",
              "      background-color: #E2EBFA;\n",
              "      box-shadow: 0px 1px 2px rgba(60, 64, 67, 0.3), 0px 1px 3px 1px rgba(60, 64, 67, 0.15);\n",
              "      fill: #174EA6;\n",
              "    }\n",
              "\n",
              "    [theme=dark] .colab-df-convert {\n",
              "      background-color: #3B4455;\n",
              "      fill: #D2E3FC;\n",
              "    }\n",
              "\n",
              "    [theme=dark] .colab-df-convert:hover {\n",
              "      background-color: #434B5C;\n",
              "      box-shadow: 0px 1px 3px 1px rgba(0, 0, 0, 0.15);\n",
              "      filter: drop-shadow(0px 1px 2px rgba(0, 0, 0, 0.3));\n",
              "      fill: #FFFFFF;\n",
              "    }\n",
              "  </style>\n",
              "\n",
              "      <script>\n",
              "        const buttonEl =\n",
              "          document.querySelector('#df-c3ae7a59-c0e9-4ab1-8ac4-872b260fcda9 button.colab-df-convert');\n",
              "        buttonEl.style.display =\n",
              "          google.colab.kernel.accessAllowed ? 'block' : 'none';\n",
              "\n",
              "        async function convertToInteractive(key) {\n",
              "          const element = document.querySelector('#df-c3ae7a59-c0e9-4ab1-8ac4-872b260fcda9');\n",
              "          const dataTable =\n",
              "            await google.colab.kernel.invokeFunction('convertToInteractive',\n",
              "                                                     [key], {});\n",
              "          if (!dataTable) return;\n",
              "\n",
              "          const docLinkHtml = 'Like what you see? Visit the ' +\n",
              "            '<a target=\"_blank\" href=https://colab.research.google.com/notebooks/data_table.ipynb>data table notebook</a>'\n",
              "            + ' to learn more about interactive tables.';\n",
              "          element.innerHTML = '';\n",
              "          dataTable['output_type'] = 'display_data';\n",
              "          await google.colab.output.renderOutput(dataTable, element);\n",
              "          const docLink = document.createElement('div');\n",
              "          docLink.innerHTML = docLinkHtml;\n",
              "          element.appendChild(docLink);\n",
              "        }\n",
              "      </script>\n",
              "    </div>\n",
              "  </div>\n",
              "  "
            ]
          },
          "metadata": {},
          "execution_count": 3
        }
      ],
      "source": [
        "df = pd.read_csv(\"support_data.csv\").drop('Unnamed: 0', 1)\n",
        "df.head(3)"
      ]
    },
    {
      "cell_type": "markdown",
      "metadata": {
        "id": "biDc2S2iUWvY"
      },
      "source": [
        "Посмотрим на распределение классов:"
      ]
    },
    {
      "cell_type": "code",
      "execution_count": null,
      "metadata": {
        "colab": {
          "base_uri": "https://localhost:8080/"
        },
        "id": "DOLUlNBGUWva",
        "outputId": "c35d0f58-43cb-4580-a636-eb9952812139"
      },
      "outputs": [
        {
          "output_type": "execute_result",
          "data": {
            "text/plain": [
              "0    125\n",
              "1     25\n",
              "Name: category, dtype: int64"
            ]
          },
          "metadata": {},
          "execution_count": 4
        }
      ],
      "source": [
        "df['category'].value_counts()"
      ]
    },
    {
      "cell_type": "markdown",
      "metadata": {
        "id": "z04urV0-UWvb"
      },
      "source": [
        "В качестве поля для генерации признаков будем использовать Title. Сразу же будем работать с использованием sklearn pipeline"
      ]
    },
    {
      "cell_type": "markdown",
      "metadata": {
        "id": "11B3SLEWUWvb"
      },
      "source": [
        "### Что такое pipeline?"
      ]
    },
    {
      "cell_type": "markdown",
      "metadata": {
        "id": "QC2fjhjUUWvc"
      },
      "source": [
        "https://scikit-learn.org/stable/modules/generated/sklearn.pipeline.Pipeline.html"
      ]
    },
    {
      "cell_type": "markdown",
      "metadata": {
        "id": "aRQMft38UWve"
      },
      "source": [
        "Схема\n",
        "\n",
        "<img src='https://drive.google.com/uc?export=view&id=1phE-y800MEaZdp6ZNdtndtnaZoW0E4lF' width=1000>"
      ]
    },
    {
      "cell_type": "markdown",
      "metadata": {
        "id": "PCcdrtupUWvd"
      },
      "source": [
        "<img src='https://drive.google.com/uc?export=view&id=10DEKFSCSwUWBJxhy7rEEANlBoapr15Ge' width=600>\n"
      ]
    },
    {
      "cell_type": "code",
      "execution_count": null,
      "metadata": {
        "id": "9_zH-L7BUWve"
      },
      "outputs": [],
      "source": [
        "# разделим данные на train/test\n",
        "X_train, X_test, y_train, y_test = train_test_split(df, df['category'], random_state=0)"
      ]
    },
    {
      "cell_type": "code",
      "execution_count": null,
      "metadata": {
        "colab": {
          "base_uri": "https://localhost:8080/",
          "height": 206
        },
        "id": "-kmxQomuUWvf",
        "outputId": "9d2ab406-734a-444c-aac8-c9607be863b6"
      },
      "outputs": [
        {
          "output_type": "execute_result",
          "data": {
            "text/plain": [
              "                                                 Title  \\\n",
              "61              Blocked account. Impossible to connect   \n",
              "92                       My computer does not turn on?   \n",
              "112                          What is a computer virus?   \n",
              "2                       FW: Myspace Login Issue-- Ania   \n",
              "141  I receive a \"no signal input\" message, what sh...   \n",
              "\n",
              "                                            Resolution  class  category  \n",
              "61   Unlocked the account and new password is sent ...     47         0  \n",
              "92    Check that all the cables are securely plugge...      3         0  \n",
              "112   A computer virus is a software program that h...      0         0  \n",
              "2    Go to URL : password.reset.com, Enter you logi...     36         0  \n",
              "141   Verify that the monitor is properly connected...     27         0  "
            ],
            "text/html": [
              "\n",
              "  <div id=\"df-0f963c7e-10f6-4b7e-a4fe-7e99890401c0\">\n",
              "    <div class=\"colab-df-container\">\n",
              "      <div>\n",
              "<style scoped>\n",
              "    .dataframe tbody tr th:only-of-type {\n",
              "        vertical-align: middle;\n",
              "    }\n",
              "\n",
              "    .dataframe tbody tr th {\n",
              "        vertical-align: top;\n",
              "    }\n",
              "\n",
              "    .dataframe thead th {\n",
              "        text-align: right;\n",
              "    }\n",
              "</style>\n",
              "<table border=\"1\" class=\"dataframe\">\n",
              "  <thead>\n",
              "    <tr style=\"text-align: right;\">\n",
              "      <th></th>\n",
              "      <th>Title</th>\n",
              "      <th>Resolution</th>\n",
              "      <th>class</th>\n",
              "      <th>category</th>\n",
              "    </tr>\n",
              "  </thead>\n",
              "  <tbody>\n",
              "    <tr>\n",
              "      <th>61</th>\n",
              "      <td>Blocked account. Impossible to connect</td>\n",
              "      <td>Unlocked the account and new password is sent ...</td>\n",
              "      <td>47</td>\n",
              "      <td>0</td>\n",
              "    </tr>\n",
              "    <tr>\n",
              "      <th>92</th>\n",
              "      <td>My computer does not turn on?</td>\n",
              "      <td>Check that all the cables are securely plugge...</td>\n",
              "      <td>3</td>\n",
              "      <td>0</td>\n",
              "    </tr>\n",
              "    <tr>\n",
              "      <th>112</th>\n",
              "      <td>What is a computer virus?</td>\n",
              "      <td>A computer virus is a software program that h...</td>\n",
              "      <td>0</td>\n",
              "      <td>0</td>\n",
              "    </tr>\n",
              "    <tr>\n",
              "      <th>2</th>\n",
              "      <td>FW: Myspace Login Issue-- Ania</td>\n",
              "      <td>Go to URL : password.reset.com, Enter you logi...</td>\n",
              "      <td>36</td>\n",
              "      <td>0</td>\n",
              "    </tr>\n",
              "    <tr>\n",
              "      <th>141</th>\n",
              "      <td>I receive a \"no signal input\" message, what sh...</td>\n",
              "      <td>Verify that the monitor is properly connected...</td>\n",
              "      <td>27</td>\n",
              "      <td>0</td>\n",
              "    </tr>\n",
              "  </tbody>\n",
              "</table>\n",
              "</div>\n",
              "      <button class=\"colab-df-convert\" onclick=\"convertToInteractive('df-0f963c7e-10f6-4b7e-a4fe-7e99890401c0')\"\n",
              "              title=\"Convert this dataframe to an interactive table.\"\n",
              "              style=\"display:none;\">\n",
              "        \n",
              "  <svg xmlns=\"http://www.w3.org/2000/svg\" height=\"24px\"viewBox=\"0 0 24 24\"\n",
              "       width=\"24px\">\n",
              "    <path d=\"M0 0h24v24H0V0z\" fill=\"none\"/>\n",
              "    <path d=\"M18.56 5.44l.94 2.06.94-2.06 2.06-.94-2.06-.94-.94-2.06-.94 2.06-2.06.94zm-11 1L8.5 8.5l.94-2.06 2.06-.94-2.06-.94L8.5 2.5l-.94 2.06-2.06.94zm10 10l.94 2.06.94-2.06 2.06-.94-2.06-.94-.94-2.06-.94 2.06-2.06.94z\"/><path d=\"M17.41 7.96l-1.37-1.37c-.4-.4-.92-.59-1.43-.59-.52 0-1.04.2-1.43.59L10.3 9.45l-7.72 7.72c-.78.78-.78 2.05 0 2.83L4 21.41c.39.39.9.59 1.41.59.51 0 1.02-.2 1.41-.59l7.78-7.78 2.81-2.81c.8-.78.8-2.07 0-2.86zM5.41 20L4 18.59l7.72-7.72 1.47 1.35L5.41 20z\"/>\n",
              "  </svg>\n",
              "      </button>\n",
              "      \n",
              "  <style>\n",
              "    .colab-df-container {\n",
              "      display:flex;\n",
              "      flex-wrap:wrap;\n",
              "      gap: 12px;\n",
              "    }\n",
              "\n",
              "    .colab-df-convert {\n",
              "      background-color: #E8F0FE;\n",
              "      border: none;\n",
              "      border-radius: 50%;\n",
              "      cursor: pointer;\n",
              "      display: none;\n",
              "      fill: #1967D2;\n",
              "      height: 32px;\n",
              "      padding: 0 0 0 0;\n",
              "      width: 32px;\n",
              "    }\n",
              "\n",
              "    .colab-df-convert:hover {\n",
              "      background-color: #E2EBFA;\n",
              "      box-shadow: 0px 1px 2px rgba(60, 64, 67, 0.3), 0px 1px 3px 1px rgba(60, 64, 67, 0.15);\n",
              "      fill: #174EA6;\n",
              "    }\n",
              "\n",
              "    [theme=dark] .colab-df-convert {\n",
              "      background-color: #3B4455;\n",
              "      fill: #D2E3FC;\n",
              "    }\n",
              "\n",
              "    [theme=dark] .colab-df-convert:hover {\n",
              "      background-color: #434B5C;\n",
              "      box-shadow: 0px 1px 3px 1px rgba(0, 0, 0, 0.15);\n",
              "      filter: drop-shadow(0px 1px 2px rgba(0, 0, 0, 0.3));\n",
              "      fill: #FFFFFF;\n",
              "    }\n",
              "  </style>\n",
              "\n",
              "      <script>\n",
              "        const buttonEl =\n",
              "          document.querySelector('#df-0f963c7e-10f6-4b7e-a4fe-7e99890401c0 button.colab-df-convert');\n",
              "        buttonEl.style.display =\n",
              "          google.colab.kernel.accessAllowed ? 'block' : 'none';\n",
              "\n",
              "        async function convertToInteractive(key) {\n",
              "          const element = document.querySelector('#df-0f963c7e-10f6-4b7e-a4fe-7e99890401c0');\n",
              "          const dataTable =\n",
              "            await google.colab.kernel.invokeFunction('convertToInteractive',\n",
              "                                                     [key], {});\n",
              "          if (!dataTable) return;\n",
              "\n",
              "          const docLinkHtml = 'Like what you see? Visit the ' +\n",
              "            '<a target=\"_blank\" href=https://colab.research.google.com/notebooks/data_table.ipynb>data table notebook</a>'\n",
              "            + ' to learn more about interactive tables.';\n",
              "          element.innerHTML = '';\n",
              "          dataTable['output_type'] = 'display_data';\n",
              "          await google.colab.output.renderOutput(dataTable, element);\n",
              "          const docLink = document.createElement('div');\n",
              "          docLink.innerHTML = docLinkHtml;\n",
              "          element.appendChild(docLink);\n",
              "        }\n",
              "      </script>\n",
              "    </div>\n",
              "  </div>\n",
              "  "
            ]
          },
          "metadata": {},
          "execution_count": 6
        }
      ],
      "source": [
        "X_train.head()"
      ]
    },
    {
      "cell_type": "code",
      "execution_count": null,
      "metadata": {
        "id": "o8uLehV0UWvh"
      },
      "outputs": [],
      "source": [
        "# соберем наш простой pipeline, но нам понадобится написать класс для выбора нужного поля\n",
        "\n",
        "class FeatureSelector(BaseEstimator, TransformerMixin):\n",
        "    def __init__(self, column):\n",
        "        self.column = column\n",
        "\n",
        "    def fit(self, X, y=None):\n",
        "        return self\n",
        "\n",
        "    def transform(self, X, y=None):\n",
        "        return X[self.column]\n",
        "\n",
        "\n",
        "pipeline = Pipeline([\n",
        "     ('title_selector', FeatureSelector(column='Title')), \n",
        "     ('title_tfidf', TfidfVectorizer(stop_words='english', max_features=1000)), \n",
        "     ('clf', LogisticRegression())\n",
        "],\n",
        "verbose=True)"
      ]
    },
    {
      "cell_type": "markdown",
      "metadata": {
        "id": "8b8iSS9sUWvi"
      },
      "source": [
        "Что есть что"
      ]
    },
    {
      "cell_type": "markdown",
      "metadata": {
        "id": "u08vVbeGUWvi"
      },
      "source": [
        "- FeatureSelector - выбирает столбец Title и передает его значения на следующий шаг\n",
        "- TfidfVectorizer - векторизует текст (поле Title)\n",
        "- LogisticRegression - наш бинарный классификатор, который обучается на результатах предыдущих шагов и разметке (их мы передадим уже при обучении)"
      ]
    },
    {
      "cell_type": "markdown",
      "metadata": {
        "id": "ZMhS2IE1UWvj"
      },
      "source": [
        "### Векторизация текста"
      ]
    },
    {
      "cell_type": "markdown",
      "metadata": {
        "id": "XUxrqvQRUWvk"
      },
      "source": [
        "https://ru.wikipedia.org/wiki/TF-IDF"
      ]
    },
    {
      "cell_type": "markdown",
      "metadata": {
        "id": "1KCVuVQeUWvl"
      },
      "source": [
        "<img src='https://drive.google.com/uc?export=view&id=14nvoZ71VqMfYBY6ff_7_Btx-tVwL_4lB'>"
      ]
    },
    {
      "cell_type": "markdown",
      "source": [
        "Wifi access required<br>\n",
        "My computer does not connect to wifi<br>\n",
        "My Computer freezes<br>\n",
        "What is a computer virus?\n",
        "\n",
        "<table>\n",
        "<tr>\n",
        "<td>#</td><td><b>wifi</b></td><td><b>access</b></td><td><b>require</b></td><td><b>computer</b></td><td><b>freeze</b></td><td><b>virus</b></td>\n",
        "</tr>\n",
        "\n",
        "<tr>\n",
        "<td><b>1</b></td><td>1</td><td>1</td><td>1</td><td>0</td><td>0</td><td>0</td>\n",
        "</tr>\n",
        "\n",
        "<tr>\n",
        "<td><b>2</b></td><td>1</td><td>0</td><td>0</td><td>1</td><td>0</td><td>0</td>\n",
        "</tr>\n",
        "\n",
        "<tr>\n",
        "<td><b>3</b></td><td>0</td><td>0</td><td>0</td><td>1</td><td>1</td><td>0</td>\n",
        "</tr>\n",
        "\n",
        "<tr>\n",
        "<td><b>4</b></td><td>0</td><td>0</td><td>0</td><td>1</td><td>0</td><td>1</td>\n",
        "</tr>\n",
        "\n",
        "</table>"
      ],
      "metadata": {
        "id": "xSzBZdxXj0Al"
      }
    },
    {
      "cell_type": "markdown",
      "metadata": {
        "id": "cwx_09FZUWvl"
      },
      "source": [
        "#### BoW"
      ]
    },
    {
      "cell_type": "code",
      "execution_count": null,
      "metadata": {
        "id": "Ss9Mcp3rUWvn"
      },
      "outputs": [],
      "source": [
        "from sklearn.feature_extraction.text import CountVectorizer "
      ]
    },
    {
      "cell_type": "code",
      "execution_count": null,
      "metadata": {
        "id": "J_x9FDCKUWvn"
      },
      "outputs": [],
      "source": [
        "docs = [\n",
        "    'Wifi access required',\n",
        "    'My computer does not connect to wifi',\n",
        "    'My Computer freezes',\n",
        "    'What is a computer virus?'\n",
        "]"
      ]
    },
    {
      "cell_type": "code",
      "execution_count": null,
      "metadata": {
        "id": "wvdztFpXUWvo"
      },
      "outputs": [],
      "source": [
        "cv = CountVectorizer(max_features=16, stop_words='english') \n",
        " \n",
        "# считаем слова\n",
        "word_ = cv.fit_transform(docs)"
      ]
    },
    {
      "cell_type": "code",
      "execution_count": null,
      "metadata": {
        "colab": {
          "base_uri": "https://localhost:8080/"
        },
        "id": "DEEwucvwUWvo",
        "outputId": "0218beae-86ce-4a08-9cf9-063bc6a15e4d"
      },
      "outputs": [
        {
          "output_type": "stream",
          "name": "stdout",
          "text": [
            "  (0, 7)\t1\n",
            "  (0, 0)\t1\n",
            "  (0, 5)\t1\n"
          ]
        }
      ],
      "source": [
        "print(word_[0])"
      ]
    },
    {
      "cell_type": "code",
      "execution_count": null,
      "metadata": {
        "colab": {
          "base_uri": "https://localhost:8080/"
        },
        "id": "CGNRTciXUWvq",
        "outputId": "5a38ecd6-606c-459b-b433-a50ba3151df3"
      },
      "outputs": [
        {
          "output_type": "execute_result",
          "data": {
            "text/plain": [
              "(4, 8)"
            ]
          },
          "metadata": {},
          "execution_count": 12
        }
      ],
      "source": [
        "word_.shape"
      ]
    },
    {
      "cell_type": "code",
      "execution_count": null,
      "metadata": {
        "colab": {
          "base_uri": "https://localhost:8080/"
        },
        "id": "Hwx5l0I1UWvs",
        "outputId": "d64f7450-1c7e-482f-95df-7969d852a854"
      },
      "outputs": [
        {
          "output_type": "execute_result",
          "data": {
            "text/plain": [
              "['wifi',\n",
              " 'access',\n",
              " 'required',\n",
              " 'computer',\n",
              " 'does',\n",
              " 'connect',\n",
              " 'freezes',\n",
              " 'virus']"
            ]
          },
          "metadata": {},
          "execution_count": 13
        }
      ],
      "source": [
        "vocab = list(cv.vocabulary_.keys())\n",
        "vocab"
      ]
    },
    {
      "cell_type": "code",
      "execution_count": null,
      "metadata": {
        "colab": {
          "base_uri": "https://localhost:8080/"
        },
        "id": "dtN_7WCAUWvt",
        "outputId": "fb8fc995-2fe4-44b0-d51b-5130d9d77caf"
      },
      "outputs": [
        {
          "output_type": "stream",
          "name": "stdout",
          "text": [
            "  (0, 1)\t1\n",
            "  (0, 4)\t1\n"
          ]
        }
      ],
      "source": [
        "print(cv.transform([\"My Computer freezes\"]))"
      ]
    },
    {
      "cell_type": "code",
      "source": [
        "pd.DataFrame.sparse.from_spmatrix(word_, columns=cv.get_feature_names_out())"
      ],
      "metadata": {
        "colab": {
          "base_uri": "https://localhost:8080/",
          "height": 175
        },
        "id": "x4EFiz3Mmv09",
        "outputId": "6f2ca9e9-dc6c-44fd-ba42-844cd72d9c20"
      },
      "execution_count": null,
      "outputs": [
        {
          "output_type": "execute_result",
          "data": {
            "text/plain": [
              "   access  computer  connect  does  freezes  required  virus  wifi\n",
              "0       1         0        0     0        0         1      0     1\n",
              "1       0         1        1     1        0         0      0     1\n",
              "2       0         1        0     0        1         0      0     0\n",
              "3       0         1        0     0        0         0      1     0"
            ],
            "text/html": [
              "\n",
              "  <div id=\"df-f07eb43c-9df1-4c92-b07f-3e1c193101fa\">\n",
              "    <div class=\"colab-df-container\">\n",
              "      <div>\n",
              "<style scoped>\n",
              "    .dataframe tbody tr th:only-of-type {\n",
              "        vertical-align: middle;\n",
              "    }\n",
              "\n",
              "    .dataframe tbody tr th {\n",
              "        vertical-align: top;\n",
              "    }\n",
              "\n",
              "    .dataframe thead th {\n",
              "        text-align: right;\n",
              "    }\n",
              "</style>\n",
              "<table border=\"1\" class=\"dataframe\">\n",
              "  <thead>\n",
              "    <tr style=\"text-align: right;\">\n",
              "      <th></th>\n",
              "      <th>access</th>\n",
              "      <th>computer</th>\n",
              "      <th>connect</th>\n",
              "      <th>does</th>\n",
              "      <th>freezes</th>\n",
              "      <th>required</th>\n",
              "      <th>virus</th>\n",
              "      <th>wifi</th>\n",
              "    </tr>\n",
              "  </thead>\n",
              "  <tbody>\n",
              "    <tr>\n",
              "      <th>0</th>\n",
              "      <td>1</td>\n",
              "      <td>0</td>\n",
              "      <td>0</td>\n",
              "      <td>0</td>\n",
              "      <td>0</td>\n",
              "      <td>1</td>\n",
              "      <td>0</td>\n",
              "      <td>1</td>\n",
              "    </tr>\n",
              "    <tr>\n",
              "      <th>1</th>\n",
              "      <td>0</td>\n",
              "      <td>1</td>\n",
              "      <td>1</td>\n",
              "      <td>1</td>\n",
              "      <td>0</td>\n",
              "      <td>0</td>\n",
              "      <td>0</td>\n",
              "      <td>1</td>\n",
              "    </tr>\n",
              "    <tr>\n",
              "      <th>2</th>\n",
              "      <td>0</td>\n",
              "      <td>1</td>\n",
              "      <td>0</td>\n",
              "      <td>0</td>\n",
              "      <td>1</td>\n",
              "      <td>0</td>\n",
              "      <td>0</td>\n",
              "      <td>0</td>\n",
              "    </tr>\n",
              "    <tr>\n",
              "      <th>3</th>\n",
              "      <td>0</td>\n",
              "      <td>1</td>\n",
              "      <td>0</td>\n",
              "      <td>0</td>\n",
              "      <td>0</td>\n",
              "      <td>0</td>\n",
              "      <td>1</td>\n",
              "      <td>0</td>\n",
              "    </tr>\n",
              "  </tbody>\n",
              "</table>\n",
              "</div>\n",
              "      <button class=\"colab-df-convert\" onclick=\"convertToInteractive('df-f07eb43c-9df1-4c92-b07f-3e1c193101fa')\"\n",
              "              title=\"Convert this dataframe to an interactive table.\"\n",
              "              style=\"display:none;\">\n",
              "        \n",
              "  <svg xmlns=\"http://www.w3.org/2000/svg\" height=\"24px\"viewBox=\"0 0 24 24\"\n",
              "       width=\"24px\">\n",
              "    <path d=\"M0 0h24v24H0V0z\" fill=\"none\"/>\n",
              "    <path d=\"M18.56 5.44l.94 2.06.94-2.06 2.06-.94-2.06-.94-.94-2.06-.94 2.06-2.06.94zm-11 1L8.5 8.5l.94-2.06 2.06-.94-2.06-.94L8.5 2.5l-.94 2.06-2.06.94zm10 10l.94 2.06.94-2.06 2.06-.94-2.06-.94-.94-2.06-.94 2.06-2.06.94z\"/><path d=\"M17.41 7.96l-1.37-1.37c-.4-.4-.92-.59-1.43-.59-.52 0-1.04.2-1.43.59L10.3 9.45l-7.72 7.72c-.78.78-.78 2.05 0 2.83L4 21.41c.39.39.9.59 1.41.59.51 0 1.02-.2 1.41-.59l7.78-7.78 2.81-2.81c.8-.78.8-2.07 0-2.86zM5.41 20L4 18.59l7.72-7.72 1.47 1.35L5.41 20z\"/>\n",
              "  </svg>\n",
              "      </button>\n",
              "      \n",
              "  <style>\n",
              "    .colab-df-container {\n",
              "      display:flex;\n",
              "      flex-wrap:wrap;\n",
              "      gap: 12px;\n",
              "    }\n",
              "\n",
              "    .colab-df-convert {\n",
              "      background-color: #E8F0FE;\n",
              "      border: none;\n",
              "      border-radius: 50%;\n",
              "      cursor: pointer;\n",
              "      display: none;\n",
              "      fill: #1967D2;\n",
              "      height: 32px;\n",
              "      padding: 0 0 0 0;\n",
              "      width: 32px;\n",
              "    }\n",
              "\n",
              "    .colab-df-convert:hover {\n",
              "      background-color: #E2EBFA;\n",
              "      box-shadow: 0px 1px 2px rgba(60, 64, 67, 0.3), 0px 1px 3px 1px rgba(60, 64, 67, 0.15);\n",
              "      fill: #174EA6;\n",
              "    }\n",
              "\n",
              "    [theme=dark] .colab-df-convert {\n",
              "      background-color: #3B4455;\n",
              "      fill: #D2E3FC;\n",
              "    }\n",
              "\n",
              "    [theme=dark] .colab-df-convert:hover {\n",
              "      background-color: #434B5C;\n",
              "      box-shadow: 0px 1px 3px 1px rgba(0, 0, 0, 0.15);\n",
              "      filter: drop-shadow(0px 1px 2px rgba(0, 0, 0, 0.3));\n",
              "      fill: #FFFFFF;\n",
              "    }\n",
              "  </style>\n",
              "\n",
              "      <script>\n",
              "        const buttonEl =\n",
              "          document.querySelector('#df-f07eb43c-9df1-4c92-b07f-3e1c193101fa button.colab-df-convert');\n",
              "        buttonEl.style.display =\n",
              "          google.colab.kernel.accessAllowed ? 'block' : 'none';\n",
              "\n",
              "        async function convertToInteractive(key) {\n",
              "          const element = document.querySelector('#df-f07eb43c-9df1-4c92-b07f-3e1c193101fa');\n",
              "          const dataTable =\n",
              "            await google.colab.kernel.invokeFunction('convertToInteractive',\n",
              "                                                     [key], {});\n",
              "          if (!dataTable) return;\n",
              "\n",
              "          const docLinkHtml = 'Like what you see? Visit the ' +\n",
              "            '<a target=\"_blank\" href=https://colab.research.google.com/notebooks/data_table.ipynb>data table notebook</a>'\n",
              "            + ' to learn more about interactive tables.';\n",
              "          element.innerHTML = '';\n",
              "          dataTable['output_type'] = 'display_data';\n",
              "          await google.colab.output.renderOutput(dataTable, element);\n",
              "          const docLink = document.createElement('div');\n",
              "          docLink.innerHTML = docLinkHtml;\n",
              "          element.appendChild(docLink);\n",
              "        }\n",
              "      </script>\n",
              "    </div>\n",
              "  </div>\n",
              "  "
            ]
          },
          "metadata": {},
          "execution_count": 15
        }
      ]
    },
    {
      "cell_type": "markdown",
      "metadata": {
        "id": "h6MM2h7uUWvu"
      },
      "source": [
        "#### TFiDF"
      ]
    },
    {
      "cell_type": "code",
      "execution_count": null,
      "metadata": {
        "colab": {
          "base_uri": "https://localhost:8080/"
        },
        "id": "q63rnnm4UWvu",
        "outputId": "aad02fad-eb79-4da4-d6b6-2d0a5de1dd62"
      },
      "outputs": [
        {
          "output_type": "execute_result",
          "data": {
            "text/plain": [
              "TfidfVectorizer(max_features=16, stop_words='english')"
            ]
          },
          "metadata": {},
          "execution_count": 16
        }
      ],
      "source": [
        "tf0 = TfidfVectorizer(stop_words='english', max_features=16)\n",
        "tf0.fit(docs)"
      ]
    },
    {
      "cell_type": "code",
      "execution_count": null,
      "metadata": {
        "colab": {
          "base_uri": "https://localhost:8080/"
        },
        "id": "lMgAYj8pUWvv",
        "outputId": "88858a92-677d-42d2-b944-b44895f9502e"
      },
      "outputs": [
        {
          "output_type": "stream",
          "name": "stdout",
          "text": [
            "Wifi access required\n",
            "  (0, 7)\t0.48693426407352264\n",
            "  (0, 5)\t0.6176143709756019\n",
            "  (0, 0)\t0.6176143709756019\n"
          ]
        }
      ],
      "source": [
        "x0 = tf0.transform(docs[:1])\n",
        "print(docs[0])\n",
        "print(x0)"
      ]
    },
    {
      "cell_type": "code",
      "execution_count": null,
      "metadata": {
        "colab": {
          "base_uri": "https://localhost:8080/",
          "height": 300
        },
        "id": "iLHfeaQQUWvw",
        "outputId": "87a1deb6-d385-4905-e48e-222bac497130"
      },
      "outputs": [
        {
          "output_type": "execute_result",
          "data": {
            "text/plain": [
              "          idf_weights\n",
              "computer     1.223144\n",
              "wifi         1.510826\n",
              "access       1.916291\n",
              "connect      1.916291\n",
              "does         1.916291\n",
              "freezes      1.916291\n",
              "required     1.916291\n",
              "virus        1.916291"
            ],
            "text/html": [
              "\n",
              "  <div id=\"df-9df15e50-dfe1-467c-b344-0c7aced31f9b\">\n",
              "    <div class=\"colab-df-container\">\n",
              "      <div>\n",
              "<style scoped>\n",
              "    .dataframe tbody tr th:only-of-type {\n",
              "        vertical-align: middle;\n",
              "    }\n",
              "\n",
              "    .dataframe tbody tr th {\n",
              "        vertical-align: top;\n",
              "    }\n",
              "\n",
              "    .dataframe thead th {\n",
              "        text-align: right;\n",
              "    }\n",
              "</style>\n",
              "<table border=\"1\" class=\"dataframe\">\n",
              "  <thead>\n",
              "    <tr style=\"text-align: right;\">\n",
              "      <th></th>\n",
              "      <th>idf_weights</th>\n",
              "    </tr>\n",
              "  </thead>\n",
              "  <tbody>\n",
              "    <tr>\n",
              "      <th>computer</th>\n",
              "      <td>1.223144</td>\n",
              "    </tr>\n",
              "    <tr>\n",
              "      <th>wifi</th>\n",
              "      <td>1.510826</td>\n",
              "    </tr>\n",
              "    <tr>\n",
              "      <th>access</th>\n",
              "      <td>1.916291</td>\n",
              "    </tr>\n",
              "    <tr>\n",
              "      <th>connect</th>\n",
              "      <td>1.916291</td>\n",
              "    </tr>\n",
              "    <tr>\n",
              "      <th>does</th>\n",
              "      <td>1.916291</td>\n",
              "    </tr>\n",
              "    <tr>\n",
              "      <th>freezes</th>\n",
              "      <td>1.916291</td>\n",
              "    </tr>\n",
              "    <tr>\n",
              "      <th>required</th>\n",
              "      <td>1.916291</td>\n",
              "    </tr>\n",
              "    <tr>\n",
              "      <th>virus</th>\n",
              "      <td>1.916291</td>\n",
              "    </tr>\n",
              "  </tbody>\n",
              "</table>\n",
              "</div>\n",
              "      <button class=\"colab-df-convert\" onclick=\"convertToInteractive('df-9df15e50-dfe1-467c-b344-0c7aced31f9b')\"\n",
              "              title=\"Convert this dataframe to an interactive table.\"\n",
              "              style=\"display:none;\">\n",
              "        \n",
              "  <svg xmlns=\"http://www.w3.org/2000/svg\" height=\"24px\"viewBox=\"0 0 24 24\"\n",
              "       width=\"24px\">\n",
              "    <path d=\"M0 0h24v24H0V0z\" fill=\"none\"/>\n",
              "    <path d=\"M18.56 5.44l.94 2.06.94-2.06 2.06-.94-2.06-.94-.94-2.06-.94 2.06-2.06.94zm-11 1L8.5 8.5l.94-2.06 2.06-.94-2.06-.94L8.5 2.5l-.94 2.06-2.06.94zm10 10l.94 2.06.94-2.06 2.06-.94-2.06-.94-.94-2.06-.94 2.06-2.06.94z\"/><path d=\"M17.41 7.96l-1.37-1.37c-.4-.4-.92-.59-1.43-.59-.52 0-1.04.2-1.43.59L10.3 9.45l-7.72 7.72c-.78.78-.78 2.05 0 2.83L4 21.41c.39.39.9.59 1.41.59.51 0 1.02-.2 1.41-.59l7.78-7.78 2.81-2.81c.8-.78.8-2.07 0-2.86zM5.41 20L4 18.59l7.72-7.72 1.47 1.35L5.41 20z\"/>\n",
              "  </svg>\n",
              "      </button>\n",
              "      \n",
              "  <style>\n",
              "    .colab-df-container {\n",
              "      display:flex;\n",
              "      flex-wrap:wrap;\n",
              "      gap: 12px;\n",
              "    }\n",
              "\n",
              "    .colab-df-convert {\n",
              "      background-color: #E8F0FE;\n",
              "      border: none;\n",
              "      border-radius: 50%;\n",
              "      cursor: pointer;\n",
              "      display: none;\n",
              "      fill: #1967D2;\n",
              "      height: 32px;\n",
              "      padding: 0 0 0 0;\n",
              "      width: 32px;\n",
              "    }\n",
              "\n",
              "    .colab-df-convert:hover {\n",
              "      background-color: #E2EBFA;\n",
              "      box-shadow: 0px 1px 2px rgba(60, 64, 67, 0.3), 0px 1px 3px 1px rgba(60, 64, 67, 0.15);\n",
              "      fill: #174EA6;\n",
              "    }\n",
              "\n",
              "    [theme=dark] .colab-df-convert {\n",
              "      background-color: #3B4455;\n",
              "      fill: #D2E3FC;\n",
              "    }\n",
              "\n",
              "    [theme=dark] .colab-df-convert:hover {\n",
              "      background-color: #434B5C;\n",
              "      box-shadow: 0px 1px 3px 1px rgba(0, 0, 0, 0.15);\n",
              "      filter: drop-shadow(0px 1px 2px rgba(0, 0, 0, 0.3));\n",
              "      fill: #FFFFFF;\n",
              "    }\n",
              "  </style>\n",
              "\n",
              "      <script>\n",
              "        const buttonEl =\n",
              "          document.querySelector('#df-9df15e50-dfe1-467c-b344-0c7aced31f9b button.colab-df-convert');\n",
              "        buttonEl.style.display =\n",
              "          google.colab.kernel.accessAllowed ? 'block' : 'none';\n",
              "\n",
              "        async function convertToInteractive(key) {\n",
              "          const element = document.querySelector('#df-9df15e50-dfe1-467c-b344-0c7aced31f9b');\n",
              "          const dataTable =\n",
              "            await google.colab.kernel.invokeFunction('convertToInteractive',\n",
              "                                                     [key], {});\n",
              "          if (!dataTable) return;\n",
              "\n",
              "          const docLinkHtml = 'Like what you see? Visit the ' +\n",
              "            '<a target=\"_blank\" href=https://colab.research.google.com/notebooks/data_table.ipynb>data table notebook</a>'\n",
              "            + ' to learn more about interactive tables.';\n",
              "          element.innerHTML = '';\n",
              "          dataTable['output_type'] = 'display_data';\n",
              "          await google.colab.output.renderOutput(dataTable, element);\n",
              "          const docLink = document.createElement('div');\n",
              "          docLink.innerHTML = docLinkHtml;\n",
              "          element.appendChild(docLink);\n",
              "        }\n",
              "      </script>\n",
              "    </div>\n",
              "  </div>\n",
              "  "
            ]
          },
          "metadata": {},
          "execution_count": 18
        }
      ],
      "source": [
        "# соберем значения\n",
        "df_idf = pd.DataFrame(tf0.idf_, index=tf0.get_feature_names_out(), columns=[\"idf_weights\"]) \n",
        " \n",
        "# отсортируем по силе\n",
        "df_idf.sort_values(by=['idf_weights'])"
      ]
    },
    {
      "cell_type": "code",
      "source": [
        "pd.DataFrame.sparse.from_spmatrix(tf0.transform(docs), columns=tf0.get_feature_names_out()) "
      ],
      "metadata": {
        "colab": {
          "base_uri": "https://localhost:8080/",
          "height": 175
        },
        "id": "mGVFP9YSnsiW",
        "outputId": "fa8b9ed0-1a91-41a1-d5af-31166240d62a"
      },
      "execution_count": null,
      "outputs": [
        {
          "output_type": "execute_result",
          "data": {
            "text/plain": [
              "     access  computer  connect     does   freezes  required     virus  \\\n",
              "0  0.617614  0.000000  0.00000  0.00000  0.000000  0.617614  0.000000   \n",
              "1  0.000000  0.366747  0.57458  0.57458  0.000000  0.000000  0.000000   \n",
              "2  0.000000  0.538029  0.00000  0.00000  0.842926  0.000000  0.000000   \n",
              "3  0.000000  0.538029  0.00000  0.00000  0.000000  0.000000  0.842926   \n",
              "\n",
              "       wifi  \n",
              "0  0.486934  \n",
              "1  0.453005  \n",
              "2  0.000000  \n",
              "3  0.000000  "
            ],
            "text/html": [
              "\n",
              "  <div id=\"df-768701e5-5e99-44d3-a220-a4cfa897d7bd\">\n",
              "    <div class=\"colab-df-container\">\n",
              "      <div>\n",
              "<style scoped>\n",
              "    .dataframe tbody tr th:only-of-type {\n",
              "        vertical-align: middle;\n",
              "    }\n",
              "\n",
              "    .dataframe tbody tr th {\n",
              "        vertical-align: top;\n",
              "    }\n",
              "\n",
              "    .dataframe thead th {\n",
              "        text-align: right;\n",
              "    }\n",
              "</style>\n",
              "<table border=\"1\" class=\"dataframe\">\n",
              "  <thead>\n",
              "    <tr style=\"text-align: right;\">\n",
              "      <th></th>\n",
              "      <th>access</th>\n",
              "      <th>computer</th>\n",
              "      <th>connect</th>\n",
              "      <th>does</th>\n",
              "      <th>freezes</th>\n",
              "      <th>required</th>\n",
              "      <th>virus</th>\n",
              "      <th>wifi</th>\n",
              "    </tr>\n",
              "  </thead>\n",
              "  <tbody>\n",
              "    <tr>\n",
              "      <th>0</th>\n",
              "      <td>0.617614</td>\n",
              "      <td>0.000000</td>\n",
              "      <td>0.00000</td>\n",
              "      <td>0.00000</td>\n",
              "      <td>0.000000</td>\n",
              "      <td>0.617614</td>\n",
              "      <td>0.000000</td>\n",
              "      <td>0.486934</td>\n",
              "    </tr>\n",
              "    <tr>\n",
              "      <th>1</th>\n",
              "      <td>0.000000</td>\n",
              "      <td>0.366747</td>\n",
              "      <td>0.57458</td>\n",
              "      <td>0.57458</td>\n",
              "      <td>0.000000</td>\n",
              "      <td>0.000000</td>\n",
              "      <td>0.000000</td>\n",
              "      <td>0.453005</td>\n",
              "    </tr>\n",
              "    <tr>\n",
              "      <th>2</th>\n",
              "      <td>0.000000</td>\n",
              "      <td>0.538029</td>\n",
              "      <td>0.00000</td>\n",
              "      <td>0.00000</td>\n",
              "      <td>0.842926</td>\n",
              "      <td>0.000000</td>\n",
              "      <td>0.000000</td>\n",
              "      <td>0.000000</td>\n",
              "    </tr>\n",
              "    <tr>\n",
              "      <th>3</th>\n",
              "      <td>0.000000</td>\n",
              "      <td>0.538029</td>\n",
              "      <td>0.00000</td>\n",
              "      <td>0.00000</td>\n",
              "      <td>0.000000</td>\n",
              "      <td>0.000000</td>\n",
              "      <td>0.842926</td>\n",
              "      <td>0.000000</td>\n",
              "    </tr>\n",
              "  </tbody>\n",
              "</table>\n",
              "</div>\n",
              "      <button class=\"colab-df-convert\" onclick=\"convertToInteractive('df-768701e5-5e99-44d3-a220-a4cfa897d7bd')\"\n",
              "              title=\"Convert this dataframe to an interactive table.\"\n",
              "              style=\"display:none;\">\n",
              "        \n",
              "  <svg xmlns=\"http://www.w3.org/2000/svg\" height=\"24px\"viewBox=\"0 0 24 24\"\n",
              "       width=\"24px\">\n",
              "    <path d=\"M0 0h24v24H0V0z\" fill=\"none\"/>\n",
              "    <path d=\"M18.56 5.44l.94 2.06.94-2.06 2.06-.94-2.06-.94-.94-2.06-.94 2.06-2.06.94zm-11 1L8.5 8.5l.94-2.06 2.06-.94-2.06-.94L8.5 2.5l-.94 2.06-2.06.94zm10 10l.94 2.06.94-2.06 2.06-.94-2.06-.94-.94-2.06-.94 2.06-2.06.94z\"/><path d=\"M17.41 7.96l-1.37-1.37c-.4-.4-.92-.59-1.43-.59-.52 0-1.04.2-1.43.59L10.3 9.45l-7.72 7.72c-.78.78-.78 2.05 0 2.83L4 21.41c.39.39.9.59 1.41.59.51 0 1.02-.2 1.41-.59l7.78-7.78 2.81-2.81c.8-.78.8-2.07 0-2.86zM5.41 20L4 18.59l7.72-7.72 1.47 1.35L5.41 20z\"/>\n",
              "  </svg>\n",
              "      </button>\n",
              "      \n",
              "  <style>\n",
              "    .colab-df-container {\n",
              "      display:flex;\n",
              "      flex-wrap:wrap;\n",
              "      gap: 12px;\n",
              "    }\n",
              "\n",
              "    .colab-df-convert {\n",
              "      background-color: #E8F0FE;\n",
              "      border: none;\n",
              "      border-radius: 50%;\n",
              "      cursor: pointer;\n",
              "      display: none;\n",
              "      fill: #1967D2;\n",
              "      height: 32px;\n",
              "      padding: 0 0 0 0;\n",
              "      width: 32px;\n",
              "    }\n",
              "\n",
              "    .colab-df-convert:hover {\n",
              "      background-color: #E2EBFA;\n",
              "      box-shadow: 0px 1px 2px rgba(60, 64, 67, 0.3), 0px 1px 3px 1px rgba(60, 64, 67, 0.15);\n",
              "      fill: #174EA6;\n",
              "    }\n",
              "\n",
              "    [theme=dark] .colab-df-convert {\n",
              "      background-color: #3B4455;\n",
              "      fill: #D2E3FC;\n",
              "    }\n",
              "\n",
              "    [theme=dark] .colab-df-convert:hover {\n",
              "      background-color: #434B5C;\n",
              "      box-shadow: 0px 1px 3px 1px rgba(0, 0, 0, 0.15);\n",
              "      filter: drop-shadow(0px 1px 2px rgba(0, 0, 0, 0.3));\n",
              "      fill: #FFFFFF;\n",
              "    }\n",
              "  </style>\n",
              "\n",
              "      <script>\n",
              "        const buttonEl =\n",
              "          document.querySelector('#df-768701e5-5e99-44d3-a220-a4cfa897d7bd button.colab-df-convert');\n",
              "        buttonEl.style.display =\n",
              "          google.colab.kernel.accessAllowed ? 'block' : 'none';\n",
              "\n",
              "        async function convertToInteractive(key) {\n",
              "          const element = document.querySelector('#df-768701e5-5e99-44d3-a220-a4cfa897d7bd');\n",
              "          const dataTable =\n",
              "            await google.colab.kernel.invokeFunction('convertToInteractive',\n",
              "                                                     [key], {});\n",
              "          if (!dataTable) return;\n",
              "\n",
              "          const docLinkHtml = 'Like what you see? Visit the ' +\n",
              "            '<a target=\"_blank\" href=https://colab.research.google.com/notebooks/data_table.ipynb>data table notebook</a>'\n",
              "            + ' to learn more about interactive tables.';\n",
              "          element.innerHTML = '';\n",
              "          dataTable['output_type'] = 'display_data';\n",
              "          await google.colab.output.renderOutput(dataTable, element);\n",
              "          const docLink = document.createElement('div');\n",
              "          docLink.innerHTML = docLinkHtml;\n",
              "          element.appendChild(docLink);\n",
              "        }\n",
              "      </script>\n",
              "    </div>\n",
              "  </div>\n",
              "  "
            ]
          },
          "metadata": {},
          "execution_count": 19
        }
      ]
    },
    {
      "cell_type": "markdown",
      "source": [
        "Вернемся к нашим данным"
      ],
      "metadata": {
        "id": "uR7lZABlNxtY"
      }
    },
    {
      "cell_type": "code",
      "execution_count": null,
      "metadata": {
        "colab": {
          "base_uri": "https://localhost:8080/"
        },
        "id": "LtLYuarmUWvx",
        "outputId": "b9eda1c0-9043-4461-fa93-f5aabd3ea583"
      },
      "outputs": [
        {
          "output_type": "stream",
          "name": "stdout",
          "text": [
            "61    Blocked account. Impossible to connect\n",
            "Name: Title, dtype: object\n",
            "  (0, 17)\t0.5610460677085695\n",
            "  (0, 11)\t0.6306430064818508\n",
            "  (0, 1)\t0.5362058450672498\n"
          ]
        }
      ],
      "source": [
        "tf1 = TfidfVectorizer(stop_words='english', max_features=100)\n",
        "tf1.fit(X_train['Title'])\n",
        "\n",
        "x1 = tf1.transform(X_train['Title'].iloc[:1])\n",
        "print(X_train['Title'].iloc[:1])\n",
        "print(x1)"
      ]
    },
    {
      "cell_type": "code",
      "execution_count": null,
      "metadata": {
        "colab": {
          "base_uri": "https://localhost:8080/"
        },
        "id": "i_rVfUpvUWvz",
        "outputId": "39728241-1fe7-4960-9a30-2dc4a045888d"
      },
      "outputs": [
        {
          "output_type": "stream",
          "name": "stdout",
          "text": [
            "['access', 'account', 'addresses', 'allowed', 'ania', 'anymore', 'appears', 'attachments', 'battery', 'behaving', 'bin', 'blocked', 'blue', 'borders', 'come', 'computer', 'configure', 'connect', 'contraseña', 'create', 'credetials', 'damage', 'database', 'delete', 'determine', 'disk', 'display', 'distorted', 'does', 'drive', 'email', 'erase', 'erratically', 'expiry', 'file', 'fix', 'fw', 'hangs', 'hard', 'input', 'install', 'installation', 'internet', 'issue', 'jam', 'la', 'lan', 'laptop', 'login', 'lost', 'macbook', 'machine', 'mail', 'message', 'microsoft', 'middle', 'mode', 'monitor', 'mot', 'mouse', 'myspace', 'need', 'network', 'new', 'outlook', 'pages', 'paper', 'passe', 'password', 'postgres', 'printer', 'problem', 'program', 'protection', 'qa', 'receive', 'recover', 'recycle', 'replace', 'request', 'reset', 'safe', 'screen', 'send', 'share', 'signal', 'space', 'spaces', 'startup', 'strangely', 'turn', 'update', 'username', 'users', 'virus', 'wifi', 'windows', 'work', 'working', 'xwq090']\n"
          ]
        },
        {
          "output_type": "stream",
          "name": "stderr",
          "text": [
            "/usr/local/lib/python3.7/dist-packages/sklearn/utils/deprecation.py:87: FutureWarning: Function get_feature_names is deprecated; get_feature_names is deprecated in 1.0 and will be removed in 1.2. Please use get_feature_names_out instead.\n",
            "  warnings.warn(msg, category=FutureWarning)\n"
          ]
        }
      ],
      "source": [
        "feature_names = tf1.get_feature_names()\n",
        "print(feature_names)"
      ]
    },
    {
      "cell_type": "code",
      "source": [
        "pd.DataFrame.sparse.from_spmatrix(tf1.transform(X_train['Title']), columns=tf1.get_feature_names_out()) "
      ],
      "metadata": {
        "colab": {
          "base_uri": "https://localhost:8080/",
          "height": 488
        },
        "id": "q7d0VkeXORI7",
        "outputId": "b75158c6-e2e5-4d59-83f1-2f09e9591a56"
      },
      "execution_count": null,
      "outputs": [
        {
          "output_type": "execute_result",
          "data": {
            "text/plain": [
              "     access   account  addresses  allowed      ania  anymore  appears  \\\n",
              "0       0.0  0.536206        0.0      0.0  0.000000      0.0      0.0   \n",
              "1       0.0  0.000000        0.0      0.0  0.000000      0.0      0.0   \n",
              "2       0.0  0.000000        0.0      0.0  0.000000      0.0      0.0   \n",
              "3       0.0  0.000000        0.0      0.0  0.464046      0.0      0.0   \n",
              "4       0.0  0.000000        0.0      0.0  0.000000      0.0      0.0   \n",
              "..      ...       ...        ...      ...       ...      ...      ...   \n",
              "107     0.0  0.000000        0.0      0.0  0.000000      0.0      0.0   \n",
              "108     0.0  0.000000        0.0      0.0  0.000000      0.0      0.0   \n",
              "109     0.0  0.000000        0.0      0.0  0.000000      0.0      0.0   \n",
              "110     0.0  0.000000        0.0      0.0  0.000000      0.0      0.0   \n",
              "111     0.0  0.000000        0.0      0.0  0.000000      0.0      0.0   \n",
              "\n",
              "     attachments  battery  behaving  ...      turn  update  username  \\\n",
              "0            0.0      0.0  0.000000  ...  0.000000     0.0       0.0   \n",
              "1            0.0      0.0  0.000000  ...  0.668301     0.0       0.0   \n",
              "2            0.0      0.0  0.000000  ...  0.000000     0.0       0.0   \n",
              "3            0.0      0.0  0.000000  ...  0.000000     0.0       0.0   \n",
              "4            0.0      0.0  0.000000  ...  0.000000     0.0       0.0   \n",
              "..           ...      ...       ...  ...       ...     ...       ...   \n",
              "107          0.0      0.0  0.000000  ...  0.000000     0.0       0.0   \n",
              "108          0.0      0.0  0.000000  ...  0.000000     0.0       0.0   \n",
              "109          0.0      0.0  0.000000  ...  0.000000     0.0       0.0   \n",
              "110          0.0      0.0  0.000000  ...  0.000000     0.0       0.0   \n",
              "111          0.0      0.0  0.649733  ...  0.000000     0.0       0.0   \n",
              "\n",
              "        users     virus  wifi   windows  work  working  xwq090  \n",
              "0    0.000000  0.000000   0.0  0.000000   0.0      0.0     0.0  \n",
              "1    0.000000  0.000000   0.0  0.000000   0.0      0.0     0.0  \n",
              "2    0.000000  0.792414   0.0  0.000000   0.0      0.0     0.0  \n",
              "3    0.000000  0.000000   0.0  0.000000   0.0      0.0     0.0  \n",
              "4    0.000000  0.000000   0.0  0.000000   0.0      0.0     0.0  \n",
              "..        ...       ...   ...       ...   ...      ...     ...  \n",
              "107  0.000000  0.000000   0.0  0.000000   0.0      0.0     0.0  \n",
              "108  0.598528  0.000000   0.0  0.000000   0.0      0.0     0.0  \n",
              "109  0.000000  0.363257   0.0  0.353148   0.0      0.0     0.0  \n",
              "110  0.000000  0.000000   0.0  0.000000   0.0      0.0     0.0  \n",
              "111  0.000000  0.000000   0.0  0.000000   0.0      0.0     0.0  \n",
              "\n",
              "[112 rows x 100 columns]"
            ],
            "text/html": [
              "\n",
              "  <div id=\"df-e87f5784-9842-48b9-b170-b577cd5c26c4\">\n",
              "    <div class=\"colab-df-container\">\n",
              "      <div>\n",
              "<style scoped>\n",
              "    .dataframe tbody tr th:only-of-type {\n",
              "        vertical-align: middle;\n",
              "    }\n",
              "\n",
              "    .dataframe tbody tr th {\n",
              "        vertical-align: top;\n",
              "    }\n",
              "\n",
              "    .dataframe thead th {\n",
              "        text-align: right;\n",
              "    }\n",
              "</style>\n",
              "<table border=\"1\" class=\"dataframe\">\n",
              "  <thead>\n",
              "    <tr style=\"text-align: right;\">\n",
              "      <th></th>\n",
              "      <th>access</th>\n",
              "      <th>account</th>\n",
              "      <th>addresses</th>\n",
              "      <th>allowed</th>\n",
              "      <th>ania</th>\n",
              "      <th>anymore</th>\n",
              "      <th>appears</th>\n",
              "      <th>attachments</th>\n",
              "      <th>battery</th>\n",
              "      <th>behaving</th>\n",
              "      <th>...</th>\n",
              "      <th>turn</th>\n",
              "      <th>update</th>\n",
              "      <th>username</th>\n",
              "      <th>users</th>\n",
              "      <th>virus</th>\n",
              "      <th>wifi</th>\n",
              "      <th>windows</th>\n",
              "      <th>work</th>\n",
              "      <th>working</th>\n",
              "      <th>xwq090</th>\n",
              "    </tr>\n",
              "  </thead>\n",
              "  <tbody>\n",
              "    <tr>\n",
              "      <th>0</th>\n",
              "      <td>0.0</td>\n",
              "      <td>0.536206</td>\n",
              "      <td>0.0</td>\n",
              "      <td>0.0</td>\n",
              "      <td>0.000000</td>\n",
              "      <td>0.0</td>\n",
              "      <td>0.0</td>\n",
              "      <td>0.0</td>\n",
              "      <td>0.0</td>\n",
              "      <td>0.000000</td>\n",
              "      <td>...</td>\n",
              "      <td>0.000000</td>\n",
              "      <td>0.0</td>\n",
              "      <td>0.0</td>\n",
              "      <td>0.000000</td>\n",
              "      <td>0.000000</td>\n",
              "      <td>0.0</td>\n",
              "      <td>0.000000</td>\n",
              "      <td>0.0</td>\n",
              "      <td>0.0</td>\n",
              "      <td>0.0</td>\n",
              "    </tr>\n",
              "    <tr>\n",
              "      <th>1</th>\n",
              "      <td>0.0</td>\n",
              "      <td>0.000000</td>\n",
              "      <td>0.0</td>\n",
              "      <td>0.0</td>\n",
              "      <td>0.000000</td>\n",
              "      <td>0.0</td>\n",
              "      <td>0.0</td>\n",
              "      <td>0.0</td>\n",
              "      <td>0.0</td>\n",
              "      <td>0.000000</td>\n",
              "      <td>...</td>\n",
              "      <td>0.668301</td>\n",
              "      <td>0.0</td>\n",
              "      <td>0.0</td>\n",
              "      <td>0.000000</td>\n",
              "      <td>0.000000</td>\n",
              "      <td>0.0</td>\n",
              "      <td>0.000000</td>\n",
              "      <td>0.0</td>\n",
              "      <td>0.0</td>\n",
              "      <td>0.0</td>\n",
              "    </tr>\n",
              "    <tr>\n",
              "      <th>2</th>\n",
              "      <td>0.0</td>\n",
              "      <td>0.000000</td>\n",
              "      <td>0.0</td>\n",
              "      <td>0.0</td>\n",
              "      <td>0.000000</td>\n",
              "      <td>0.0</td>\n",
              "      <td>0.0</td>\n",
              "      <td>0.0</td>\n",
              "      <td>0.0</td>\n",
              "      <td>0.000000</td>\n",
              "      <td>...</td>\n",
              "      <td>0.000000</td>\n",
              "      <td>0.0</td>\n",
              "      <td>0.0</td>\n",
              "      <td>0.000000</td>\n",
              "      <td>0.792414</td>\n",
              "      <td>0.0</td>\n",
              "      <td>0.000000</td>\n",
              "      <td>0.0</td>\n",
              "      <td>0.0</td>\n",
              "      <td>0.0</td>\n",
              "    </tr>\n",
              "    <tr>\n",
              "      <th>3</th>\n",
              "      <td>0.0</td>\n",
              "      <td>0.000000</td>\n",
              "      <td>0.0</td>\n",
              "      <td>0.0</td>\n",
              "      <td>0.464046</td>\n",
              "      <td>0.0</td>\n",
              "      <td>0.0</td>\n",
              "      <td>0.0</td>\n",
              "      <td>0.0</td>\n",
              "      <td>0.000000</td>\n",
              "      <td>...</td>\n",
              "      <td>0.000000</td>\n",
              "      <td>0.0</td>\n",
              "      <td>0.0</td>\n",
              "      <td>0.000000</td>\n",
              "      <td>0.000000</td>\n",
              "      <td>0.0</td>\n",
              "      <td>0.000000</td>\n",
              "      <td>0.0</td>\n",
              "      <td>0.0</td>\n",
              "      <td>0.0</td>\n",
              "    </tr>\n",
              "    <tr>\n",
              "      <th>4</th>\n",
              "      <td>0.0</td>\n",
              "      <td>0.000000</td>\n",
              "      <td>0.0</td>\n",
              "      <td>0.0</td>\n",
              "      <td>0.000000</td>\n",
              "      <td>0.0</td>\n",
              "      <td>0.0</td>\n",
              "      <td>0.0</td>\n",
              "      <td>0.0</td>\n",
              "      <td>0.000000</td>\n",
              "      <td>...</td>\n",
              "      <td>0.000000</td>\n",
              "      <td>0.0</td>\n",
              "      <td>0.0</td>\n",
              "      <td>0.000000</td>\n",
              "      <td>0.000000</td>\n",
              "      <td>0.0</td>\n",
              "      <td>0.000000</td>\n",
              "      <td>0.0</td>\n",
              "      <td>0.0</td>\n",
              "      <td>0.0</td>\n",
              "    </tr>\n",
              "    <tr>\n",
              "      <th>...</th>\n",
              "      <td>...</td>\n",
              "      <td>...</td>\n",
              "      <td>...</td>\n",
              "      <td>...</td>\n",
              "      <td>...</td>\n",
              "      <td>...</td>\n",
              "      <td>...</td>\n",
              "      <td>...</td>\n",
              "      <td>...</td>\n",
              "      <td>...</td>\n",
              "      <td>...</td>\n",
              "      <td>...</td>\n",
              "      <td>...</td>\n",
              "      <td>...</td>\n",
              "      <td>...</td>\n",
              "      <td>...</td>\n",
              "      <td>...</td>\n",
              "      <td>...</td>\n",
              "      <td>...</td>\n",
              "      <td>...</td>\n",
              "      <td>...</td>\n",
              "    </tr>\n",
              "    <tr>\n",
              "      <th>107</th>\n",
              "      <td>0.0</td>\n",
              "      <td>0.000000</td>\n",
              "      <td>0.0</td>\n",
              "      <td>0.0</td>\n",
              "      <td>0.000000</td>\n",
              "      <td>0.0</td>\n",
              "      <td>0.0</td>\n",
              "      <td>0.0</td>\n",
              "      <td>0.0</td>\n",
              "      <td>0.000000</td>\n",
              "      <td>...</td>\n",
              "      <td>0.000000</td>\n",
              "      <td>0.0</td>\n",
              "      <td>0.0</td>\n",
              "      <td>0.000000</td>\n",
              "      <td>0.000000</td>\n",
              "      <td>0.0</td>\n",
              "      <td>0.000000</td>\n",
              "      <td>0.0</td>\n",
              "      <td>0.0</td>\n",
              "      <td>0.0</td>\n",
              "    </tr>\n",
              "    <tr>\n",
              "      <th>108</th>\n",
              "      <td>0.0</td>\n",
              "      <td>0.000000</td>\n",
              "      <td>0.0</td>\n",
              "      <td>0.0</td>\n",
              "      <td>0.000000</td>\n",
              "      <td>0.0</td>\n",
              "      <td>0.0</td>\n",
              "      <td>0.0</td>\n",
              "      <td>0.0</td>\n",
              "      <td>0.000000</td>\n",
              "      <td>...</td>\n",
              "      <td>0.000000</td>\n",
              "      <td>0.0</td>\n",
              "      <td>0.0</td>\n",
              "      <td>0.598528</td>\n",
              "      <td>0.000000</td>\n",
              "      <td>0.0</td>\n",
              "      <td>0.000000</td>\n",
              "      <td>0.0</td>\n",
              "      <td>0.0</td>\n",
              "      <td>0.0</td>\n",
              "    </tr>\n",
              "    <tr>\n",
              "      <th>109</th>\n",
              "      <td>0.0</td>\n",
              "      <td>0.000000</td>\n",
              "      <td>0.0</td>\n",
              "      <td>0.0</td>\n",
              "      <td>0.000000</td>\n",
              "      <td>0.0</td>\n",
              "      <td>0.0</td>\n",
              "      <td>0.0</td>\n",
              "      <td>0.0</td>\n",
              "      <td>0.000000</td>\n",
              "      <td>...</td>\n",
              "      <td>0.000000</td>\n",
              "      <td>0.0</td>\n",
              "      <td>0.0</td>\n",
              "      <td>0.000000</td>\n",
              "      <td>0.363257</td>\n",
              "      <td>0.0</td>\n",
              "      <td>0.353148</td>\n",
              "      <td>0.0</td>\n",
              "      <td>0.0</td>\n",
              "      <td>0.0</td>\n",
              "    </tr>\n",
              "    <tr>\n",
              "      <th>110</th>\n",
              "      <td>0.0</td>\n",
              "      <td>0.000000</td>\n",
              "      <td>0.0</td>\n",
              "      <td>0.0</td>\n",
              "      <td>0.000000</td>\n",
              "      <td>0.0</td>\n",
              "      <td>0.0</td>\n",
              "      <td>0.0</td>\n",
              "      <td>0.0</td>\n",
              "      <td>0.000000</td>\n",
              "      <td>...</td>\n",
              "      <td>0.000000</td>\n",
              "      <td>0.0</td>\n",
              "      <td>0.0</td>\n",
              "      <td>0.000000</td>\n",
              "      <td>0.000000</td>\n",
              "      <td>0.0</td>\n",
              "      <td>0.000000</td>\n",
              "      <td>0.0</td>\n",
              "      <td>0.0</td>\n",
              "      <td>0.0</td>\n",
              "    </tr>\n",
              "    <tr>\n",
              "      <th>111</th>\n",
              "      <td>0.0</td>\n",
              "      <td>0.000000</td>\n",
              "      <td>0.0</td>\n",
              "      <td>0.0</td>\n",
              "      <td>0.000000</td>\n",
              "      <td>0.0</td>\n",
              "      <td>0.0</td>\n",
              "      <td>0.0</td>\n",
              "      <td>0.0</td>\n",
              "      <td>0.649733</td>\n",
              "      <td>...</td>\n",
              "      <td>0.000000</td>\n",
              "      <td>0.0</td>\n",
              "      <td>0.0</td>\n",
              "      <td>0.000000</td>\n",
              "      <td>0.000000</td>\n",
              "      <td>0.0</td>\n",
              "      <td>0.000000</td>\n",
              "      <td>0.0</td>\n",
              "      <td>0.0</td>\n",
              "      <td>0.0</td>\n",
              "    </tr>\n",
              "  </tbody>\n",
              "</table>\n",
              "<p>112 rows × 100 columns</p>\n",
              "</div>\n",
              "      <button class=\"colab-df-convert\" onclick=\"convertToInteractive('df-e87f5784-9842-48b9-b170-b577cd5c26c4')\"\n",
              "              title=\"Convert this dataframe to an interactive table.\"\n",
              "              style=\"display:none;\">\n",
              "        \n",
              "  <svg xmlns=\"http://www.w3.org/2000/svg\" height=\"24px\"viewBox=\"0 0 24 24\"\n",
              "       width=\"24px\">\n",
              "    <path d=\"M0 0h24v24H0V0z\" fill=\"none\"/>\n",
              "    <path d=\"M18.56 5.44l.94 2.06.94-2.06 2.06-.94-2.06-.94-.94-2.06-.94 2.06-2.06.94zm-11 1L8.5 8.5l.94-2.06 2.06-.94-2.06-.94L8.5 2.5l-.94 2.06-2.06.94zm10 10l.94 2.06.94-2.06 2.06-.94-2.06-.94-.94-2.06-.94 2.06-2.06.94z\"/><path d=\"M17.41 7.96l-1.37-1.37c-.4-.4-.92-.59-1.43-.59-.52 0-1.04.2-1.43.59L10.3 9.45l-7.72 7.72c-.78.78-.78 2.05 0 2.83L4 21.41c.39.39.9.59 1.41.59.51 0 1.02-.2 1.41-.59l7.78-7.78 2.81-2.81c.8-.78.8-2.07 0-2.86zM5.41 20L4 18.59l7.72-7.72 1.47 1.35L5.41 20z\"/>\n",
              "  </svg>\n",
              "      </button>\n",
              "      \n",
              "  <style>\n",
              "    .colab-df-container {\n",
              "      display:flex;\n",
              "      flex-wrap:wrap;\n",
              "      gap: 12px;\n",
              "    }\n",
              "\n",
              "    .colab-df-convert {\n",
              "      background-color: #E8F0FE;\n",
              "      border: none;\n",
              "      border-radius: 50%;\n",
              "      cursor: pointer;\n",
              "      display: none;\n",
              "      fill: #1967D2;\n",
              "      height: 32px;\n",
              "      padding: 0 0 0 0;\n",
              "      width: 32px;\n",
              "    }\n",
              "\n",
              "    .colab-df-convert:hover {\n",
              "      background-color: #E2EBFA;\n",
              "      box-shadow: 0px 1px 2px rgba(60, 64, 67, 0.3), 0px 1px 3px 1px rgba(60, 64, 67, 0.15);\n",
              "      fill: #174EA6;\n",
              "    }\n",
              "\n",
              "    [theme=dark] .colab-df-convert {\n",
              "      background-color: #3B4455;\n",
              "      fill: #D2E3FC;\n",
              "    }\n",
              "\n",
              "    [theme=dark] .colab-df-convert:hover {\n",
              "      background-color: #434B5C;\n",
              "      box-shadow: 0px 1px 3px 1px rgba(0, 0, 0, 0.15);\n",
              "      filter: drop-shadow(0px 1px 2px rgba(0, 0, 0, 0.3));\n",
              "      fill: #FFFFFF;\n",
              "    }\n",
              "  </style>\n",
              "\n",
              "      <script>\n",
              "        const buttonEl =\n",
              "          document.querySelector('#df-e87f5784-9842-48b9-b170-b577cd5c26c4 button.colab-df-convert');\n",
              "        buttonEl.style.display =\n",
              "          google.colab.kernel.accessAllowed ? 'block' : 'none';\n",
              "\n",
              "        async function convertToInteractive(key) {\n",
              "          const element = document.querySelector('#df-e87f5784-9842-48b9-b170-b577cd5c26c4');\n",
              "          const dataTable =\n",
              "            await google.colab.kernel.invokeFunction('convertToInteractive',\n",
              "                                                     [key], {});\n",
              "          if (!dataTable) return;\n",
              "\n",
              "          const docLinkHtml = 'Like what you see? Visit the ' +\n",
              "            '<a target=\"_blank\" href=https://colab.research.google.com/notebooks/data_table.ipynb>data table notebook</a>'\n",
              "            + ' to learn more about interactive tables.';\n",
              "          element.innerHTML = '';\n",
              "          dataTable['output_type'] = 'display_data';\n",
              "          await google.colab.output.renderOutput(dataTable, element);\n",
              "          const docLink = document.createElement('div');\n",
              "          docLink.innerHTML = docLinkHtml;\n",
              "          element.appendChild(docLink);\n",
              "        }\n",
              "      </script>\n",
              "    </div>\n",
              "  </div>\n",
              "  "
            ]
          },
          "metadata": {},
          "execution_count": 22
        }
      ]
    },
    {
      "cell_type": "markdown",
      "source": [
        "Резюмируем:\n",
        "1. Токенизация (перевод в токены, чаще всего это слова)\n",
        "2. Создаем словарь слов из токенов\n",
        "3. Векторизация"
      ],
      "metadata": {
        "id": "fa_jJPwVOeIi"
      }
    },
    {
      "cell_type": "markdown",
      "metadata": {
        "id": "vtIcIZTZUWv0"
      },
      "source": [
        "Назад к пайплайну\n",
        "\n"
      ]
    },
    {
      "cell_type": "code",
      "execution_count": null,
      "metadata": {
        "id": "7zav5jsBUWv1"
      },
      "outputs": [],
      "source": [
        "# соберем наш простой pipeline, но нам понадобится написать класс для выбора нужного поля\n",
        "\n",
        "\n",
        "pipeline = Pipeline([\n",
        "     ('title_selector', FeatureSelector(column='Title')), \n",
        "     ('title_tfidf', TfidfVectorizer(stop_words='english', max_features=100)), \n",
        "     ('clf', LogisticRegression())\n",
        "], verbose=True)"
      ]
    },
    {
      "cell_type": "code",
      "execution_count": null,
      "metadata": {
        "colab": {
          "base_uri": "https://localhost:8080/"
        },
        "id": "Z5YuYvwsUWv1",
        "outputId": "0d5e0d86-5c14-41cc-d61e-2a81599efe8e"
      },
      "outputs": [
        {
          "output_type": "stream",
          "name": "stdout",
          "text": [
            "[Pipeline] .... (step 1 of 3) Processing title_selector, total=   0.0s\n",
            "[Pipeline] ....... (step 2 of 3) Processing title_tfidf, total=   0.0s\n",
            "[Pipeline] ............... (step 3 of 3) Processing clf, total=   0.0s\n"
          ]
        },
        {
          "output_type": "execute_result",
          "data": {
            "text/plain": [
              "Pipeline(steps=[('title_selector', FeatureSelector(column='Title')),\n",
              "                ('title_tfidf',\n",
              "                 TfidfVectorizer(max_features=100, stop_words='english')),\n",
              "                ('clf', LogisticRegression())],\n",
              "         verbose=True)"
            ]
          },
          "metadata": {},
          "execution_count": 24
        }
      ],
      "source": [
        "# обучим наш пайплайн\n",
        "pipeline.fit(X_train, y_train)"
      ]
    },
    {
      "cell_type": "code",
      "execution_count": null,
      "metadata": {
        "colab": {
          "base_uri": "https://localhost:8080/"
        },
        "id": "QnmyyjgtUWv3",
        "outputId": "9e217ea5-bd12-411f-ee2c-404e1964188b"
      },
      "outputs": [
        {
          "output_type": "execute_result",
          "data": {
            "text/plain": [
              "array([0, 1])"
            ]
          },
          "metadata": {},
          "execution_count": 25
        }
      ],
      "source": [
        "pipeline.classes_"
      ]
    },
    {
      "cell_type": "code",
      "execution_count": null,
      "metadata": {
        "colab": {
          "base_uri": "https://localhost:8080/"
        },
        "id": "yBZUitp9UWv2",
        "outputId": "b16685b9-ef1c-49a1-e079-5ccc414050c0"
      },
      "outputs": [
        {
          "output_type": "execute_result",
          "data": {
            "text/plain": [
              "{'clf': LogisticRegression(),\n",
              " 'title_selector': FeatureSelector(column='Title'),\n",
              " 'title_tfidf': TfidfVectorizer(max_features=100, stop_words='english')}"
            ]
          },
          "metadata": {},
          "execution_count": 26
        }
      ],
      "source": [
        "pipeline.named_steps"
      ]
    },
    {
      "cell_type": "code",
      "execution_count": null,
      "metadata": {
        "colab": {
          "base_uri": "https://localhost:8080/"
        },
        "id": "nEaZW_v-UWv5",
        "outputId": "21db22c5-d573-4063-98f2-02732f100a10"
      },
      "outputs": [
        {
          "output_type": "execute_result",
          "data": {
            "text/plain": [
              "LogisticRegression()"
            ]
          },
          "metadata": {},
          "execution_count": 27
        }
      ],
      "source": [
        "pipeline['clf']"
      ]
    },
    {
      "cell_type": "code",
      "execution_count": null,
      "metadata": {
        "colab": {
          "base_uri": "https://localhost:8080/"
        },
        "id": "ImUsi0K-UWv4",
        "outputId": "4d2d766f-f542-4927-e49a-88743301679b"
      },
      "outputs": [
        {
          "output_type": "execute_result",
          "data": {
            "text/plain": [
              "TfidfVectorizer(max_features=100, stop_words='english')"
            ]
          },
          "metadata": {},
          "execution_count": 28
        }
      ],
      "source": [
        "pipeline[1]"
      ]
    },
    {
      "cell_type": "code",
      "execution_count": null,
      "metadata": {
        "colab": {
          "base_uri": "https://localhost:8080/"
        },
        "id": "E3gBtR-tUWv6",
        "outputId": "c6c41d15-93d2-4915-b954-08f68a64102c"
      },
      "outputs": [
        {
          "output_type": "execute_result",
          "data": {
            "text/plain": [
              "<38x100 sparse matrix of type '<class 'numpy.float64'>'\n",
              "\twith 94 stored elements in Compressed Sparse Row format>"
            ]
          },
          "metadata": {},
          "execution_count": 29
        }
      ],
      "source": [
        "pipeline[1].transform(X_test.Title)"
      ]
    },
    {
      "cell_type": "code",
      "execution_count": null,
      "metadata": {
        "colab": {
          "base_uri": "https://localhost:8080/",
          "height": 206
        },
        "id": "W7EfDaVhUWv9",
        "outputId": "f4b2977f-9e3f-4c25-ec72-669aa19a0011"
      },
      "outputs": [
        {
          "output_type": "execute_result",
          "data": {
            "text/plain": [
              "                                     Title  \\\n",
              "114   What to do when my computer crashes?   \n",
              "62   Can a virus damage computer hardware?   \n",
              "33       How do I delete Internet cookies?   \n",
              "107               The office does not work   \n",
              "7                  LAN not working in a VM   \n",
              "\n",
              "                                            Resolution  class  category  \n",
              "114   There are many reasons why a computer may jus...     21         0  \n",
              "62    No. Computer viruses are software code design...     16         0  \n",
              "33    Microsoft Internet Explorer users can go to '...     15         0  \n",
              "107  Please check the Power cables are properly plu...     40         0  \n",
              "7    changed network settings to Bridged and config...     49         1  "
            ],
            "text/html": [
              "\n",
              "  <div id=\"df-21eb79bd-1c78-4ebb-a5e6-aed73a83ca7d\">\n",
              "    <div class=\"colab-df-container\">\n",
              "      <div>\n",
              "<style scoped>\n",
              "    .dataframe tbody tr th:only-of-type {\n",
              "        vertical-align: middle;\n",
              "    }\n",
              "\n",
              "    .dataframe tbody tr th {\n",
              "        vertical-align: top;\n",
              "    }\n",
              "\n",
              "    .dataframe thead th {\n",
              "        text-align: right;\n",
              "    }\n",
              "</style>\n",
              "<table border=\"1\" class=\"dataframe\">\n",
              "  <thead>\n",
              "    <tr style=\"text-align: right;\">\n",
              "      <th></th>\n",
              "      <th>Title</th>\n",
              "      <th>Resolution</th>\n",
              "      <th>class</th>\n",
              "      <th>category</th>\n",
              "    </tr>\n",
              "  </thead>\n",
              "  <tbody>\n",
              "    <tr>\n",
              "      <th>114</th>\n",
              "      <td>What to do when my computer crashes?</td>\n",
              "      <td>There are many reasons why a computer may jus...</td>\n",
              "      <td>21</td>\n",
              "      <td>0</td>\n",
              "    </tr>\n",
              "    <tr>\n",
              "      <th>62</th>\n",
              "      <td>Can a virus damage computer hardware?</td>\n",
              "      <td>No. Computer viruses are software code design...</td>\n",
              "      <td>16</td>\n",
              "      <td>0</td>\n",
              "    </tr>\n",
              "    <tr>\n",
              "      <th>33</th>\n",
              "      <td>How do I delete Internet cookies?</td>\n",
              "      <td>Microsoft Internet Explorer users can go to '...</td>\n",
              "      <td>15</td>\n",
              "      <td>0</td>\n",
              "    </tr>\n",
              "    <tr>\n",
              "      <th>107</th>\n",
              "      <td>The office does not work</td>\n",
              "      <td>Please check the Power cables are properly plu...</td>\n",
              "      <td>40</td>\n",
              "      <td>0</td>\n",
              "    </tr>\n",
              "    <tr>\n",
              "      <th>7</th>\n",
              "      <td>LAN not working in a VM</td>\n",
              "      <td>changed network settings to Bridged and config...</td>\n",
              "      <td>49</td>\n",
              "      <td>1</td>\n",
              "    </tr>\n",
              "  </tbody>\n",
              "</table>\n",
              "</div>\n",
              "      <button class=\"colab-df-convert\" onclick=\"convertToInteractive('df-21eb79bd-1c78-4ebb-a5e6-aed73a83ca7d')\"\n",
              "              title=\"Convert this dataframe to an interactive table.\"\n",
              "              style=\"display:none;\">\n",
              "        \n",
              "  <svg xmlns=\"http://www.w3.org/2000/svg\" height=\"24px\"viewBox=\"0 0 24 24\"\n",
              "       width=\"24px\">\n",
              "    <path d=\"M0 0h24v24H0V0z\" fill=\"none\"/>\n",
              "    <path d=\"M18.56 5.44l.94 2.06.94-2.06 2.06-.94-2.06-.94-.94-2.06-.94 2.06-2.06.94zm-11 1L8.5 8.5l.94-2.06 2.06-.94-2.06-.94L8.5 2.5l-.94 2.06-2.06.94zm10 10l.94 2.06.94-2.06 2.06-.94-2.06-.94-.94-2.06-.94 2.06-2.06.94z\"/><path d=\"M17.41 7.96l-1.37-1.37c-.4-.4-.92-.59-1.43-.59-.52 0-1.04.2-1.43.59L10.3 9.45l-7.72 7.72c-.78.78-.78 2.05 0 2.83L4 21.41c.39.39.9.59 1.41.59.51 0 1.02-.2 1.41-.59l7.78-7.78 2.81-2.81c.8-.78.8-2.07 0-2.86zM5.41 20L4 18.59l7.72-7.72 1.47 1.35L5.41 20z\"/>\n",
              "  </svg>\n",
              "      </button>\n",
              "      \n",
              "  <style>\n",
              "    .colab-df-container {\n",
              "      display:flex;\n",
              "      flex-wrap:wrap;\n",
              "      gap: 12px;\n",
              "    }\n",
              "\n",
              "    .colab-df-convert {\n",
              "      background-color: #E8F0FE;\n",
              "      border: none;\n",
              "      border-radius: 50%;\n",
              "      cursor: pointer;\n",
              "      display: none;\n",
              "      fill: #1967D2;\n",
              "      height: 32px;\n",
              "      padding: 0 0 0 0;\n",
              "      width: 32px;\n",
              "    }\n",
              "\n",
              "    .colab-df-convert:hover {\n",
              "      background-color: #E2EBFA;\n",
              "      box-shadow: 0px 1px 2px rgba(60, 64, 67, 0.3), 0px 1px 3px 1px rgba(60, 64, 67, 0.15);\n",
              "      fill: #174EA6;\n",
              "    }\n",
              "\n",
              "    [theme=dark] .colab-df-convert {\n",
              "      background-color: #3B4455;\n",
              "      fill: #D2E3FC;\n",
              "    }\n",
              "\n",
              "    [theme=dark] .colab-df-convert:hover {\n",
              "      background-color: #434B5C;\n",
              "      box-shadow: 0px 1px 3px 1px rgba(0, 0, 0, 0.15);\n",
              "      filter: drop-shadow(0px 1px 2px rgba(0, 0, 0, 0.3));\n",
              "      fill: #FFFFFF;\n",
              "    }\n",
              "  </style>\n",
              "\n",
              "      <script>\n",
              "        const buttonEl =\n",
              "          document.querySelector('#df-21eb79bd-1c78-4ebb-a5e6-aed73a83ca7d button.colab-df-convert');\n",
              "        buttonEl.style.display =\n",
              "          google.colab.kernel.accessAllowed ? 'block' : 'none';\n",
              "\n",
              "        async function convertToInteractive(key) {\n",
              "          const element = document.querySelector('#df-21eb79bd-1c78-4ebb-a5e6-aed73a83ca7d');\n",
              "          const dataTable =\n",
              "            await google.colab.kernel.invokeFunction('convertToInteractive',\n",
              "                                                     [key], {});\n",
              "          if (!dataTable) return;\n",
              "\n",
              "          const docLinkHtml = 'Like what you see? Visit the ' +\n",
              "            '<a target=\"_blank\" href=https://colab.research.google.com/notebooks/data_table.ipynb>data table notebook</a>'\n",
              "            + ' to learn more about interactive tables.';\n",
              "          element.innerHTML = '';\n",
              "          dataTable['output_type'] = 'display_data';\n",
              "          await google.colab.output.renderOutput(dataTable, element);\n",
              "          const docLink = document.createElement('div');\n",
              "          docLink.innerHTML = docLinkHtml;\n",
              "          element.appendChild(docLink);\n",
              "        }\n",
              "      </script>\n",
              "    </div>\n",
              "  </div>\n",
              "  "
            ]
          },
          "metadata": {},
          "execution_count": 30
        }
      ],
      "source": [
        "X_test.head()"
      ]
    },
    {
      "cell_type": "code",
      "execution_count": null,
      "metadata": {
        "colab": {
          "base_uri": "https://localhost:8080/"
        },
        "id": "XPoU4bszUWv_",
        "outputId": "54f4a109-d49f-4af2-dcc9-15ae914a7ba5"
      },
      "outputs": [
        {
          "output_type": "execute_result",
          "data": {
            "text/plain": [
              "array([[0.94736459, 0.05263541],\n",
              "       [0.93850977, 0.06149023],\n",
              "       [0.67795719, 0.32204281],\n",
              "       [0.77781156, 0.22218844],\n",
              "       [0.79479752, 0.20520248],\n",
              "       [0.9257766 , 0.0742234 ],\n",
              "       [0.90359685, 0.09640315],\n",
              "       [0.90255709, 0.09744291],\n",
              "       [0.67795719, 0.32204281],\n",
              "       [0.8999693 , 0.1000307 ],\n",
              "       [0.69534304, 0.30465696],\n",
              "       [0.89685729, 0.10314271],\n",
              "       [0.91716643, 0.08283357],\n",
              "       [0.87387622, 0.12612378],\n",
              "       [0.59762107, 0.40237893],\n",
              "       [0.69534304, 0.30465696],\n",
              "       [0.69534304, 0.30465696],\n",
              "       [0.59062298, 0.40937702],\n",
              "       [0.94680192, 0.05319808],\n",
              "       [0.92912296, 0.07087704],\n",
              "       [0.59762107, 0.40237893],\n",
              "       [0.92825359, 0.07174641],\n",
              "       [0.91223305, 0.08776695],\n",
              "       [0.63489871, 0.36510129],\n",
              "       [0.52608695, 0.47391305],\n",
              "       [0.92523101, 0.07476899],\n",
              "       [0.90197375, 0.09802625],\n",
              "       [0.75105741, 0.24894259],\n",
              "       [0.93400496, 0.06599504],\n",
              "       [0.92721554, 0.07278446],\n",
              "       [0.92152527, 0.07847473],\n",
              "       [0.92048584, 0.07951416],\n",
              "       [0.91601796, 0.08398204],\n",
              "       [0.8999693 , 0.1000307 ],\n",
              "       [0.91436656, 0.08563344],\n",
              "       [0.91729924, 0.08270076],\n",
              "       [0.59762107, 0.40237893],\n",
              "       [0.91985073, 0.08014927]])"
            ]
          },
          "metadata": {},
          "execution_count": 31
        }
      ],
      "source": [
        "# наши прогнозы для тестовой выборки\n",
        "preds = pipeline.predict_proba(X_test)\n",
        "preds"
      ]
    },
    {
      "cell_type": "code",
      "execution_count": null,
      "metadata": {
        "colab": {
          "base_uri": "https://localhost:8080/",
          "height": 279
        },
        "id": "laHtckDzUWwA",
        "outputId": "a52f66db-9a0a-4be8-d1ee-149eadb07960"
      },
      "outputs": [
        {
          "output_type": "display_data",
          "data": {
            "text/plain": [
              "<Figure size 1152x288 with 1 Axes>"
            ],
            "image/png": "[encoded data removed]"
          },
          "metadata": {
            "needs_background": "light"
          }
        }
      ],
      "source": [
        "plt.figure(figsize=(16, 4))\n",
        "plt.grid(True)\n",
        "plt.xlabel('samples number')\n",
        "plt.ylabel('y_pred, y_true')\n",
        "\n",
        "plt.plot(preds[:, 1], label='y_pred')\n",
        "plt.plot(y_test.values, label='y_true')\n",
        "plt.legend()\n",
        "plt.show()"
      ]
    },
    {
      "cell_type": "markdown",
      "metadata": {
        "id": "8qKXggx-UWwB"
      },
      "source": [
        "Также нам нужно от вероятностей перейти к меткам классов. Для этого нужно подобрать порог, после которого мы считаем, что объект можно отнести к классу 1 (если вероятность больше порога - размечаем объект как класс 1, если нет - класс 0), т.е. берем решение не сырое, а просеяное через сито условия принятия"
      ]
    },
    {
      "cell_type": "code",
      "execution_count": null,
      "metadata": {
        "colab": {
          "base_uri": "https://localhost:8080/",
          "height": 279
        },
        "id": "GDtRR2gIUWwB",
        "outputId": "fab9e09f-7d0b-4dc3-a9d4-e1488499b97a"
      },
      "outputs": [
        {
          "output_type": "display_data",
          "data": {
            "text/plain": [
              "<Figure size 1152x288 with 1 Axes>"
            ],
            "image/png": "[encoded data removed]"
          },
          "metadata": {
            "needs_background": "light"
          }
        }
      ],
      "source": [
        "tresholds = 0.5 \n",
        "\n",
        "plt.figure(figsize=(16,4))\n",
        "plt.grid(True)\n",
        "plt.xlabel('samples number')\n",
        "plt.ylabel('y_pred, y_true')\n",
        "\n",
        "plt.plot(preds[:, 1], label='y_pred')\n",
        "plt.plot(y_test.values, label='y_true')\n",
        "plt.plot([0, 40], [tresholds, tresholds], label='tresholds')\n",
        "\n",
        "plt.legend()\n",
        "plt.show()"
      ]
    },
    {
      "cell_type": "markdown",
      "metadata": {
        "id": "M-ozZSF5UWwC"
      },
      "source": [
        "## Вспоминаем базовые ML-метрики классификации"
      ]
    },
    {
      "cell_type": "markdown",
      "metadata": {
        "id": "ZyLs4i5wUWwC"
      },
      "source": [
        "Матрица ошибок классификации"
      ]
    },
    {
      "cell_type": "markdown",
      "metadata": {
        "id": "f71Qzlo-UWwD"
      },
      "source": [
        "<img src='https://drive.google.com/uc?export=view&id=1f-SQuocCD1irMjhaEgEk-wTKe_HUja2x' width=800>"
      ]
    },
    {
      "cell_type": "markdown",
      "metadata": {
        "id": "YrKCsHkLUWwE"
      },
      "source": [
        "Как это интерпретировать?"
      ]
    },
    {
      "cell_type": "markdown",
      "metadata": {
        "id": "R_sEH7rbUWwF"
      },
      "source": [
        "### Precision, Recall, F_score"
      ]
    },
    {
      "cell_type": "markdown",
      "metadata": {
        "id": "XnN6QbxAUWwG"
      },
      "source": [
        "Допустим, что у нас в тесте 1000 заявок.<br> класс 1 - 200<br>класс 0 - 800\n",
        "\n",
        "Мы обучили модель, сделали прогноз, посчитали порог и выше этого порога у нас 100 заявок.\n",
        "\n",
        "\n",
        "При этом оказывается, что среди этих 100 заявок - 80 действительно класс 1. \n"
      ]
    },
    {
      "cell_type": "markdown",
      "metadata": {
        "id": "gmmucEwTUWwG"
      },
      "source": [
        "<table>\n",
        "<tr>\n",
        "<td></td><td>y=1</td><td>y=0</td>\n",
        "</tr>\n",
        "<tr>\n",
        "<td>y_pred=1</td><td>80</td><td>20</td>\n",
        "</tr>\n",
        "<tr>\n",
        "<td>y_pred=0</td><td>120</td><td>780</td>\n",
        "</tr>\n",
        "</table>\n",
        "\n"
      ]
    },
    {
      "cell_type": "code",
      "source": [
        "#@title\n",
        "TP = 80\n",
        "FP = 20\n",
        "TN = 780\n",
        "FN = 120\n",
        "\n",
        "precision = TP / (TP + FP)\n",
        "recall = TP / (TP + FN)\n",
        "print(f'precision is {precision}, recall is {recall}')"
      ],
      "metadata": {
        "id": "exiZGYfPUWwG",
        "cellView": "form",
        "colab": {
          "base_uri": "https://localhost:8080/"
        },
        "outputId": "6ac50e46-4662-4fe0-9631-c1ed7ea96da9"
      },
      "execution_count": null,
      "outputs": [
        {
          "output_type": "stream",
          "name": "stdout",
          "text": [
            "precision is 0.8, recall is 0.4\n"
          ]
        }
      ]
    },
    {
      "cell_type": "markdown",
      "source": [
        "Precision = $\\frac{TP}{TP+FP} = \\frac{80}{80+20} = 0.8$\n",
        "\n",
        "Recall = $\\frac{TP}{TP+FN} = \\frac{80}{80+120} = 0.4$"
      ],
      "metadata": {
        "id": "QPfnOQriSRlS"
      }
    },
    {
      "cell_type": "code",
      "execution_count": null,
      "metadata": {
        "id": "JBfLmCxiUWwI"
      },
      "outputs": [],
      "source": [
        "from sklearn.metrics import (f1_score, roc_auc_score, precision_score, classification_report,\n",
        "                             precision_recall_curve, confusion_matrix)"
      ]
    },
    {
      "cell_type": "code",
      "execution_count": null,
      "metadata": {
        "id": "o3KYse-bUWwI"
      },
      "outputs": [],
      "source": [
        "precision, recall, thresholds = precision_recall_curve(y_test, preds[:, 1])"
      ]
    },
    {
      "cell_type": "code",
      "execution_count": null,
      "metadata": {
        "colab": {
          "base_uri": "https://localhost:8080/"
        },
        "id": "c3jCzI3-UWwJ",
        "outputId": "f10ad91a-c2a4-457d-9254-60304dc620a4"
      },
      "outputs": [
        {
          "output_type": "execute_result",
          "data": {
            "text/plain": [
              "array([0.20520248, 0.22218844, 0.24894259, 0.30465696, 0.32204281,\n",
              "       0.36510129, 0.40237893, 0.40937702, 0.47391305])"
            ]
          },
          "metadata": {},
          "execution_count": 37
        }
      ],
      "source": [
        "thresholds"
      ]
    },
    {
      "cell_type": "code",
      "source": [
        "precision, recall"
      ],
      "metadata": {
        "id": "jZ_axO9HuHrL",
        "outputId": "2dd954c6-62d8-46aa-b151-72f91a1cd27a",
        "colab": {
          "base_uri": "https://localhost:8080/"
        }
      },
      "execution_count": null,
      "outputs": [
        {
          "output_type": "execute_result",
          "data": {
            "text/plain": [
              "(array([0.85714286, 0.84615385, 0.91666667, 0.90909091, 0.875     ,\n",
              "        1.        , 1.        , 1.        , 1.        , 1.        ]),\n",
              " array([1.        , 0.91666667, 0.91666667, 0.83333333, 0.58333333,\n",
              "        0.5       , 0.41666667, 0.16666667, 0.08333333, 0.        ]))"
            ]
          },
          "metadata": {},
          "execution_count": 38
        }
      ]
    },
    {
      "cell_type": "code",
      "execution_count": null,
      "metadata": {
        "colab": {
          "base_uri": "https://localhost:8080/"
        },
        "id": "aiSNtrKKUWwJ",
        "outputId": "6c397c4d-2c7d-4bc6-c8a6-2a71d445857c"
      },
      "outputs": [
        {
          "output_type": "stream",
          "name": "stdout",
          "text": [
            "Best Threshold=0.21, F-Score=0.923 Precision=0.857, Recall=1.000\n"
          ]
        }
      ],
      "source": [
        "fscore = (2 * precision * recall) / (precision + recall)\n",
        "# locate the index of the largest f score\n",
        "ix = np.argmax(fscore)\n",
        "print(f'Best Threshold={thresholds[ix]:.2f}, F-Score={fscore[ix]:.3f}',\n",
        "      f'Precision={precision[ix]:.3f}, Recall={recall[ix]:.3f}')"
      ]
    },
    {
      "cell_type": "code",
      "execution_count": null,
      "metadata": {
        "colab": {
          "base_uri": "https://localhost:8080/",
          "height": 279
        },
        "id": "XZkxj5J6UWwK",
        "outputId": "9fd1c8af-dfe7-4e3c-d536-ba805b12fa05"
      },
      "outputs": [
        {
          "output_type": "display_data",
          "data": {
            "text/plain": [
              "<Figure size 432x288 with 1 Axes>"
            ],
            "image/png": "[encoded data removed]"
          },
          "metadata": {
            "needs_background": "light"
          }
        }
      ],
      "source": [
        "plt.plot(recall, precision, '-r')\n",
        "plt.grid(True)\n",
        "plt.xlabel('recall')\n",
        "plt.ylabel('precision')\n",
        "plt.show()"
      ]
    },
    {
      "cell_type": "code",
      "execution_count": null,
      "metadata": {
        "colab": {
          "base_uri": "https://localhost:8080/",
          "height": 560
        },
        "id": "caUvC-WHUWwN",
        "outputId": "60a683a0-92bf-4af9-bc14-38762b26f7de"
      },
      "outputs": [
        {
          "output_type": "stream",
          "name": "stdout",
          "text": [
            "              precision    recall  f1-score   support\n",
            "\n",
            "           0       0.68      1.00      0.81        26\n",
            "           1       0.00      0.00      0.00        12\n",
            "\n",
            "    accuracy                           0.68        38\n",
            "   macro avg       0.34      0.50      0.41        38\n",
            "weighted avg       0.47      0.68      0.56        38\n",
            "\n"
          ]
        },
        {
          "output_type": "stream",
          "name": "stderr",
          "text": [
            "/usr/local/lib/python3.7/dist-packages/sklearn/metrics/_classification.py:1318: UndefinedMetricWarning: Precision and F-score are ill-defined and being set to 0.0 in labels with no predicted samples. Use `zero_division` parameter to control this behavior.\n",
            "  _warn_prf(average, modifier, msg_start, len(result))\n",
            "/usr/local/lib/python3.7/dist-packages/sklearn/metrics/_classification.py:1318: UndefinedMetricWarning: Precision and F-score are ill-defined and being set to 0.0 in labels with no predicted samples. Use `zero_division` parameter to control this behavior.\n",
            "  _warn_prf(average, modifier, msg_start, len(result))\n",
            "/usr/local/lib/python3.7/dist-packages/sklearn/metrics/_classification.py:1318: UndefinedMetricWarning: Precision and F-score are ill-defined and being set to 0.0 in labels with no predicted samples. Use `zero_division` parameter to control this behavior.\n",
            "  _warn_prf(average, modifier, msg_start, len(result))\n"
          ]
        },
        {
          "output_type": "display_data",
          "data": {
            "text/plain": [
              "<Figure size 1152x288 with 1 Axes>"
            ],
            "image/png": "[encoded data removed]"
          },
          "metadata": {
            "needs_background": "light"
          }
        }
      ],
      "source": [
        "tresholds = 0.5\n",
        "print(classification_report(y_test, preds[:, 1] >= tresholds))\n",
        "\n",
        "\n",
        "plt.figure(figsize=(16, 4))\n",
        "plt.grid(True)\n",
        "plt.xlabel('samples number')\n",
        "plt.ylabel('y_pred, y_true')\n",
        "\n",
        "plt.plot(preds[:, 1], label='y_pred')\n",
        "plt.plot(y_test.values, label='y_true')\n",
        "plt.plot([0,40], [tresholds, tresholds], label='tresholds')\n",
        "\n",
        "plt.legend()\n",
        "plt.show()"
      ]
    },
    {
      "cell_type": "markdown",
      "metadata": {
        "id": "UdrNWr7wUWwO"
      },
      "source": [
        "Отрисуем матрицу ошибок для нашего примера"
      ]
    },
    {
      "cell_type": "code",
      "execution_count": null,
      "metadata": {
        "id": "XceGkWzcUWwP"
      },
      "outputs": [],
      "source": [
        "def plot_confusion_matrix(cm, classes,\n",
        "                          normalize=False,\n",
        "                          title='Confusion matrix',\n",
        "                          cmap=plt.cm.Blues):\n",
        "    \"\"\"\n",
        "    This function prints and plots the confusion matrix.\n",
        "    Normalization can be applied by setting `normalize=True`.\n",
        "    \"\"\"\n",
        "    plt.imshow(cm, interpolation='nearest', cmap=cmap)\n",
        "    plt.title(title)\n",
        "    plt.colorbar()\n",
        "    tick_marks = np.arange(len(classes))\n",
        "    plt.xticks(tick_marks, classes, rotation=45)\n",
        "    plt.yticks(tick_marks, classes)\n",
        "\n",
        "    if normalize:\n",
        "        cm = cm.astype('float') / cm.sum(axis=1)[:, np.newaxis]\n",
        "        print(\"Normalized confusion matrix\")\n",
        "    else:\n",
        "        print('Confusion matrix, without normalization')\n",
        "\n",
        "    print(cm)\n",
        "\n",
        "    thresh = cm.max() / 2.\n",
        "    for i, j in itertools.product(range(cm.shape[0]), range(cm.shape[1])):\n",
        "        plt.text(j, i, cm[i, j],\n",
        "                 horizontalalignment=\"center\",\n",
        "                 color=\"white\" if cm[i, j] > thresh else \"black\")\n",
        "\n",
        "    plt.tight_layout()\n",
        "    plt.ylabel('True label')\n",
        "    plt.xlabel('Predicted label')"
      ]
    },
    {
      "cell_type": "code",
      "execution_count": null,
      "metadata": {
        "colab": {
          "base_uri": "https://localhost:8080/"
        },
        "id": "zO_xiTfFUWwQ",
        "outputId": "af9b4942-3d4e-4d58-bc25-b825773bf33c"
      },
      "outputs": [
        {
          "output_type": "execute_result",
          "data": {
            "text/plain": [
              "0.20520248036141034"
            ]
          },
          "metadata": {},
          "execution_count": 43
        }
      ],
      "source": [
        "thresholds[ix]"
      ]
    },
    {
      "cell_type": "code",
      "execution_count": null,
      "metadata": {
        "colab": {
          "base_uri": "https://localhost:8080/",
          "height": 645
        },
        "id": "MJAYz7BCUWwR",
        "outputId": "936a05f1-4b63-4a69-ddb7-3df9741694bc"
      },
      "outputs": [
        {
          "output_type": "stream",
          "name": "stdout",
          "text": [
            "Confusion matrix, without normalization\n",
            "[[24  2]\n",
            " [ 0 12]]\n"
          ]
        },
        {
          "output_type": "display_data",
          "data": {
            "text/plain": [
              "<Figure size 720x576 with 2 Axes>"
            ],
            "image/png": "[encoded data removed]"
          },
          "metadata": {
            "needs_background": "light"
          }
        }
      ],
      "source": [
        "#мы уже нашли ранее \"оптимальный\" порог, когда максимизировали f_score\n",
        "font = {'size' : 15}\n",
        "\n",
        "plt.rc('font', **font)\n",
        "\n",
        "cnf_matrix = confusion_matrix(y_test, preds[:, 1] >= thresholds[ix])\n",
        "plt.figure(figsize=(10, 8))\n",
        "plot_confusion_matrix(cnf_matrix, classes=['Non-network', 'Network'], title='Confusion matrix')\n",
        "plt.savefig(\"conf_matrix.png\")\n",
        "plt.show()"
      ]
    },
    {
      "cell_type": "code",
      "source": [
        "print(classification_report(y_test, preds[:, 1] >= thresholds[ix]))\n",
        "\n",
        "\n",
        "plt.figure(figsize=(16, 4))\n",
        "plt.grid(True)\n",
        "plt.xlabel('samples number')\n",
        "plt.ylabel('y_pred, y_true')\n",
        "\n",
        "plt.plot(preds[:, 1], label='y_pred')\n",
        "plt.plot(y_test.values, label='y_true')\n",
        "plt.plot([0,40], [thresholds[ix], thresholds[ix]], label='tresholds')\n",
        "\n",
        "plt.legend()\n",
        "plt.show()"
      ],
      "metadata": {
        "colab": {
          "base_uri": "https://localhost:8080/",
          "height": 445
        },
        "id": "Ul-sCweR8r2c",
        "outputId": "6267f80c-7b02-464b-9648-e51a29a0a675"
      },
      "execution_count": null,
      "outputs": [
        {
          "output_type": "stream",
          "name": "stdout",
          "text": [
            "              precision    recall  f1-score   support\n",
            "\n",
            "           0       1.00      0.92      0.96        26\n",
            "           1       0.86      1.00      0.92        12\n",
            "\n",
            "    accuracy                           0.95        38\n",
            "   macro avg       0.93      0.96      0.94        38\n",
            "weighted avg       0.95      0.95      0.95        38\n",
            "\n"
          ]
        },
        {
          "output_type": "display_data",
          "data": {
            "text/plain": [
              "<Figure size 1152x288 with 1 Axes>"
            ],
            "image/png": "[encoded data removed]"
          },
          "metadata": {
            "needs_background": "light"
          }
        }
      ]
    },
    {
      "cell_type": "markdown",
      "metadata": {
        "id": "Z8mvomHFUWwR"
      },
      "source": [
        "доля неверно классифицированных объектов класса 1 (Network) - $\\frac{0}{12} = 0$. Это меньше заявленных 0.1 (в гипотезе).<br>Для класса 0 ошибка - $\\frac{2}{26} = 0.076$.\n",
        "\n",
        "Общая же ошибка получилась $\\frac{2}{24+11+2+1} = 0.05$."
      ]
    },
    {
      "cell_type": "markdown",
      "metadata": {
        "id": "j1KXqEDYUWwU"
      },
      "source": [
        "### Выводы по этапу ML-решения"
      ]
    },
    {
      "cell_type": "markdown",
      "metadata": {
        "id": "yt56iZQOUWwV"
      },
      "source": [
        "Итак, что же мы сделали на данный момент:\n",
        "\n",
        "1. обдумали проблему \n",
        "2. сформулировали так называемую продуктовую гипотезу, в которой определили:\n",
        "   - какую именно задачу мы решаем (классификация заявок по содержимому)\n",
        "   - какая у нас метрика качества (доля верно классифицированных заявок)\n",
        "   - условия (что ошибка не превышает 10%)\n",
        "3. собрали датасет и обучили модель\n",
        "4. проинтерпретировали результаты моделирования и пришли к выводу, что с такой модели можно начать тестирование\n",
        "________\n",
        "\n",
        "Что мы еще <b>не</b> сделали:\n",
        "1. НЕ спланировали эксперимент (аб-тестирование)\n",
        "2. НЕ продумали интеграцию\n",
        "\n",
        "__________\n",
        "\n",
        "Но мы ко всему этому придем постепенно в рамках курса."
      ]
    },
    {
      "cell_type": "markdown",
      "metadata": {
        "id": "Rh4i00gAUWwc"
      },
      "source": [
        "## Домашнее задание\n",
        "[Ноутбук](https://colab.research.google.com/drive/1ksib4X_RJFPYSCgQMr7foBJqVQGZmTYk) HW1.ipynb."
      ]
    },
    {
      "cell_type": "markdown",
      "metadata": {
        "id": "vhCs-QHSUWwb"
      },
      "source": [
        "## Полезные ссылки\n",
        "\n",
        "1. Метрики качества - https://habr.com/ru/company/ods/blog/328372/\n",
        "2. Метрики для классификации (видео) - https://youtube.com/playlist?list=PLkJJmZ1EJno6CLyvD4DHc32Fed6cPBHje\n",
        "3. Метрики для регрессии (видео) - https://youtu.be/vh2smjQyhp8\n",
        "4. Roc auc - https://dyakonov.org/2017/07/28/auc-roc-площадь-под-кривой-ошибок/\n",
        "5. Основы статистики: просто о сложных формулах - https://habr.com/ru/company/stepic/blog/250527/\n",
        "6. Теория вероятностей в работе программиста (вебинар) - https://geekbrains.ru/events/129\n",
        "7. Туториал по машинному обучению (sklearn) - https://scikit-learn.org/stable/tutorial/basic/tutorial.html\n",
        "8. Туториал по github - https://guides.github.com/activities/hello-world/\n",
        "9. Этапы МЛ проекта (видео) - https://youtu.be/LXc6gjip_oM"
      ]
    }
  ],
  "metadata": {
    "kernelspec": {
      "display_name": "Python 3",
      "language": "python",
      "name": "python3"
    },
    "language_info": {
      "codemirror_mode": {
        "name": "ipython",
        "version": 3
      },
      "file_extension": ".py",
      "mimetype": "text/x-python",
      "name": "python",
      "nbconvert_exporter": "python",
      "pygments_lexer": "ipython3",
      "version": "3.7.1"
    },
    "colab": {
      "name": "Lesson_1.ipynb",
      "provenance": [],
      "collapsed_sections": [],
      "toc_visible": true
    }
  },
  "nbformat": 4,
  "nbformat_minor": 0
}