{
  "cells": [
    {
      "cell_type": "markdown",
      "metadata": {
        "id": "XADT6MVBrOy5"
      },
      "source": [
        "# Урок 2. Профилирование пользователей. Сегментация аудитории: unsupervised learning (clustering, LDA/ARTM), supervised (multi/binary classification)#"
      ]
    },
    {
      "cell_type": "markdown",
      "metadata": {
        "id": "wL1r1HqurOy-"
      },
      "source": [
        "План занятия:\n",
        "\n",
        "1. задача сегментации аудитории\n",
        "2. тематическое моделирование - получаем эмбединги текстов\n",
        "3. решаем задачу профилирования аудитории новостного портала"
      ]
    },
    {
      "cell_type": "markdown",
      "metadata": {
        "id": "d8cUqrCNrOzD"
      },
      "source": [
        "Рассматривать мы все будем в контексте решения конкретной прикладной задачи - задачи оттока"
      ]
    },
    {
      "cell_type": "markdown",
      "metadata": {
        "id": "F_VY1K5erOzG"
      },
      "source": [
        "## Задача сегментации"
      ]
    },
    {
      "cell_type": "markdown",
      "metadata": {
        "id": "FJU8ZrfQrOzL"
      },
      "source": [
        "<img src='https://drive.google.com/uc?export=view&id=1fH4dMvgSLT1u9nGc3DCxOI3YGJIkh5dj' width=600>\n",
        "\n",
        "Разбиваем пользователей на группы, чем-то отличающиеся друг от друга.\n",
        "\n",
        "Или же:\n",
        "\n",
        "Сегментация клиентской базы — это способ повышения эффективности работы с пользователями путем их распределения по отдельным группам, или сегментам, в соответствии с их запросами и/или потребностями."
      ]
    },
    {
      "cell_type": "markdown",
      "metadata": {
        "id": "3ab9nEbwrOzO"
      },
      "source": [
        "## Виды сегментации"
      ]
    },
    {
      "cell_type": "markdown",
      "metadata": {
        "id": "ADpxFZztrOzQ"
      },
      "source": [
        "### **1. когда совершил первую покупку (сколько прошло с момента регистрации до момента покупки)**"
      ]
    },
    {
      "cell_type": "markdown",
      "metadata": {
        "id": "yRp4A5B3rOzS"
      },
      "source": [
        "К примеру, есть сервис по заказу пиццы. Вначале пользователю нужно научиться пользоваться этим ПО, затем нужно сделать первый заказ, а затем пользователь может приходить всё реже и реже, а затем он нас покидает (из-за проблем в сервисе или из-за невкусной пиццы) - это нормальный живой цикл общения.\n",
        "\n",
        "Это наблюдается в любой системе, где есть работа с клиентами.\n",
        "\n",
        "Особенно, это известно маркетингу: сначала сотрудники помогают клиенту разобраться в продукте, затем они его поддерживают на пути пользования продуктом, а затем они общаются с ним, дабы клиент не ушел.\n",
        "\n",
        "\n",
        "<img src='https://drive.google.com/uc?export=view&id=1wf6GFpfQNuxOGJ4xL0n4jb8hvVJjnTGF' width=600>"
      ]
    },
    {
      "cell_type": "markdown",
      "metadata": {
        "id": "LHV9BmIYrOzX"
      },
      "source": [
        "### **2. по психотипам**"
      ]
    },
    {
      "cell_type": "markdown",
      "metadata": {
        "id": "rbE4xoGprOzZ"
      },
      "source": [
        "Есть люди, которые делают покупки импульсивно, а есть те, которые всё тщательно обдумывают. И с ними нужно разговаривать по-разному.\n",
        "\n",
        "<img src='https://drive.google.com/uc?export=view&id=1BRkfhmL1lwxOewbJvw46q8vZnPCAEqAp' width=600>"
      ]
    },
    {
      "cell_type": "markdown",
      "metadata": {
        "id": "uYUCDZ4vrOzb"
      },
      "source": [
        "### **3. по платежам**"
      ]
    },
    {
      "cell_type": "markdown",
      "metadata": {
        "id": "UhInj6rQrOzc"
      },
      "source": [
        "Интерес к покупателям, которые приходят к нам раз в год и платят по три копейки и к покупателям, которые приходят каждую неделю и оставляют по 100р, совершенно разный.\n",
        "\n",
        " <img src='https://drive.google.com/uc?export=view&id=1-ggaCJCNNV-XyFT2_tHfdjlmYefO85i4' width=800>"
      ]
    },
    {
      "cell_type": "markdown",
      "metadata": {
        "id": "TtIORDwMrOzd"
      },
      "source": [
        "### **4. По эффективности взаимодействия (uplift)**"
      ]
    },
    {
      "cell_type": "markdown",
      "metadata": {
        "id": "rLAesnDRrOze"
      },
      "source": [
        "Актуально для телекома. \n",
        "\n",
        "Есть несколько групп клиентов:\n",
        "1. Лояльные - совершают покупку и без нашего взаимодействия и с ним\n",
        "2. Убеждаемые - совершат покупку только после нашего взаимодействия, без него не сделают покупку\n",
        "3. Потерянные - не совершат покупку никогда, хоть мы им позвоним, хоть и не будем звонить\n",
        "4. \"не беспокоить\" - совершат покупку, если мы их не будем тревожить, если потревожим, то потеряем покупателя.\n",
        "\n",
        "\n",
        "<img src='https://drive.google.com/uc?export=view&id=1L0TJ8fK3YxuAzc52lz5SE2bgbwLBoS2J' width=500>"
      ]
    },
    {
      "cell_type": "markdown",
      "metadata": {
        "id": "t5xN_7C2rOzg"
      },
      "source": [
        "### **5. по интересам**"
      ]
    },
    {
      "cell_type": "markdown",
      "metadata": {
        "id": "WIp6gV2jrOzg"
      },
      "source": [
        "Пример: если человек искал, где купить десткое питание, то можем ему порекомендовать купить и памперсы.\n",
        "\n",
        "<img src='https://drive.google.com/uc?export=view&id=1Ud1G7YC8eN8qxbCbidNhgd2e-EoEryfl' width=600>"
      ]
    },
    {
      "cell_type": "markdown",
      "source": [
        "Особенно выгодно профилировать пользователей по социальным сетям. Ведь любое действие и бездействие человека - это данные.\n",
        "- Подписались на страницу\n",
        "- Отписались от страницы\n",
        "- Лайкнули новость\n",
        "- Проигнорировали новость\n",
        "- Добавили в избранное\n",
        "- и т.д.\n",
        "\n",
        "От этого контента зависят рекламные компании, которые настраиваются на определенную группу пользователей и на вас (а если точнее, не на вас самих, а на образ, который вы создаете в сети)."
      ],
      "metadata": {
        "id": "JyVCxFiSJj6p"
      }
    },
    {
      "cell_type": "markdown",
      "metadata": {
        "id": "FbVhKsp7rOzi"
      },
      "source": [
        "И еще куча вариантов сегментирования, которое может быть полезно. \n",
        "\n",
        "Для чего полезно?\n",
        "\n",
        "1. понимание аудитории, способность описать основные группы пользователей и их интересы\n",
        "2. выявление сегментов с максимальной монетизацией\n",
        "3. выбор маркетинговой стратегии\n",
        "4. налаживание эффективного взаимодействия с пользователями"
      ]
    },
    {
      "cell_type": "markdown",
      "metadata": {
        "id": "aGcYzIw9rOzk"
      },
      "source": [
        "## Пример (новостной портал)"
      ]
    },
    {
      "cell_type": "markdown",
      "metadata": {
        "id": "UKaY4yHorOzl"
      },
      "source": [
        "Представим, что мы - компания-агрегатор новостей (новостной портал). И мы хотим построить модель прогнозирования оттока клиентов.\n",
        "\n",
        "У нас есть:\n",
        "\n",
        "1. читатели\n",
        "2. новости\n",
        "\n",
        "Для каждого пользователя мы можем за какой-то период (например, 1 день) достать из базы данных список прочитанных им новостей.\n",
        "\n",
        "Для каждой новости мы можем вытащить текст и метаинформацию.\n"
      ]
    },
    {
      "cell_type": "markdown",
      "source": [
        "<img src='https://drive.google.com/uc?export=view&id=1OLrm1Rx9VjRVHbBW25Gi_mfUjY-WhB3p' width=700>"
      ],
      "metadata": {
        "id": "jn4aB_-tgFCP"
      }
    },
    {
      "cell_type": "markdown",
      "metadata": {
        "id": "jsMPAW2irOzm"
      },
      "source": [
        "Нужно построить модель прогнозирования оттока. \n",
        "\n",
        "\n",
        "Нам нужны:\n",
        "\n",
        "1. векторное представление пользователя\n",
        "2. сегменты, описывающие интересы пользователя\n",
        "\n",
        "p.s. в контексте нашей задачи - это одно и то же"
      ]
    },
    {
      "cell_type": "markdown",
      "metadata": {
        "id": "ZRiIVCEtrOzo"
      },
      "source": [
        "Есть два очевидных варианта как это сделать:\n",
        "\n",
        "1. многоклассовая классификация\n",
        "    - **Проблема:**\n",
        "    для классификации нам нужно сначала разметить новости - привлечение ручного труда\n",
        "2. кластеризация документов с последующей попыткой их (кластера) интерпретировать"
      ]
    },
    {
      "cell_type": "markdown",
      "metadata": {
        "id": "TEzvMqgkrOzq"
      },
      "source": [
        "### Задача тематического моделирования (LDA)\n",
        "\n",
        "LDA - Latent Dirichlet allocation"
      ]
    },
    {
      "cell_type": "markdown",
      "source": [
        "Терминология:\n",
        "\n",
        "1. документ - коллекция слов \n",
        "2. тема - набор токенов (слов), совместно часто встречающихся в документах"
      ],
      "metadata": {
        "id": "EybsiEEupOyS"
      }
    },
    {
      "cell_type": "markdown",
      "metadata": {
        "id": "5T30512VrOzr"
      },
      "source": [
        "- на свете бывают темы (заранее неизвестные), которые отражают то, о чём могут быть части документа;\n",
        "- каждая тема – это распределение вероятностей на словах, т.е. мешок слов, из которого можно с разной вероятностью вытащить разные слова;\n",
        "\n",
        "<img src='https://drive.google.com/uc?export=view&id=10hJ_zkUHDK1-hAYcdxUix5r9Wyaik9TA' width=500>\n",
        "\n",
        "\n",
        "- каждый документ – это смесь тем, т.е. распределение вероятностей на темах, кубик, который можно кинуть *(тема искусства включает в себя не только слова балет и танцы, но и финансы, и кредиты)*; каждая тема в документе будет представлена в разных пропорциях (*если написал руководитель театра, то будет больше про танцы, а если написал министр культуры, то скорее про финансы, но везде говорим про искусство*)\n",
        "\n",
        "<img src='https://drive.google.com/uc?export=view&id=1o7Bvl_2sscs3ldpxo4faqXCDIqTbkO8H' width=500>\n",
        "\n",
        "- процесс порождения каждого слова состоит в том, чтобы сначала выбрать тему по распределению, соответствующему документу, а затем выбрать слово из распределения, соответствующего этой теме."
      ]
    },
    {
      "cell_type": "markdown",
      "source": [
        "Предположим, что у нас есть несколько предложений:\n",
        "\n",
        "1. I like to eat broccoli and bananas.\n",
        "2. I ate a banana and spinach smoothie for breakfast.\n",
        "3. Chinchillas and kittens are cute.\n",
        "4. My sister adopted a kitten yesterday.\n",
        "5. Look at this cute hamster munching on a piece of broccoli.\n",
        "\n",
        "LDA - это метод для автоматического поиска тем, которые есть в предложениях. К примеру, если мы передадим эти предложения в модель и попросим найти 2 темы, то может получить что-то подобное:\n",
        "\n",
        "- Предложения 1 и 2: 100% Topic A\n",
        "- Предложения 3 и 4: 100% Topic B\n",
        "- Предложение 5: 60% Topic A, 40% Topic B\n",
        "\n",
        "<br>\n",
        "\n",
        "- Topic A: 30% broccoli, 15% bananas, 10% breakfast, 10% munching, … (уже сейчас можем понять, что topic A о еде)\n",
        "- Topic B: 20% chinchillas, 20% kittens, 20% cute, 15% hamster, … (topic B о милых животных)\n",
        "\n",
        "Ну и конечно же вопрос, как LDA это делает?"
      ],
      "metadata": {
        "id": "rizKW5tyzyNF"
      }
    },
    {
      "cell_type": "markdown",
      "metadata": {
        "id": "jgt0KD1mrOzt"
      },
      "source": [
        "Вероятностные модели удобно понимать и представлять в виде порождающих процессов (generative processes), когда мы последовательно описываем, как порождается одна единица данных, вводя по ходу дела все вероятностные предположения, которые мы в этой модели делаем. Соответственно, порождающий процесс для LDA должен последовательно описывать, как мы порождаем каждое слово каждого документа. И вот как это происходит:"
      ]
    },
    {
      "cell_type": "markdown",
      "metadata": {
        "id": "YNtuHHHLrOzu"
      },
      "source": [
        "\n",
        "0. Выбрать количество тем N\n",
        "1. Случайно присвоить каждое слово в каждом документе к одной из N тем\n",
        "    * *Заметьте, что это рандомное присвоение уже даёт распределение тем в документах и распределение слов во всех темах (но конечно не самого лучшего качества)*\n",
        "\n",
        "2. Для каждого слова $w$ в документе $d$:\n",
        " * И для каждой темы $t$, посчитать две вероятности:\n",
        "    * *предположить, что все присвоенные темы документы правильные за исключением одной, с которой работаем*\n",
        "    1. $p(t|d)$ - Вероятность слов в документе, которые присвоены к теме\n",
        "    2. $p(w|t)$ - Вероятность принадлежности слов из всех документов к теме $t$\n",
        " * Переопределить тему слова $w$, с помощью вероятности $p(t|d)*p(w|t)$ (опираясь на нашу модель, это вероятность того, что тема $t$ генерирует слово $w$)\n",
        "\n",
        "3. В конечном счете достигнется стабильное состояние, когда присвоения имеют смысл."
      ]
    },
    {
      "cell_type": "markdown",
      "source": [
        "Бросаем кубик, у которого столько сторон, сколько слов в словаре. Но определенные стороны кубика утяжеленные, то есть он будет чаще на них падать.\n",
        "\n",
        "Например, если тема спорт, то слова \"футбол\", \"вратарь\", \"мяч\" будут попадаться гораздо чаще внутри этой темы."
      ],
      "metadata": {
        "id": "tWs1xKLOhZ2y"
      }
    },
    {
      "cell_type": "markdown",
      "metadata": {
        "id": "PdKBkWf3rOzv"
      },
      "source": [
        "<img src='https://drive.google.com/uc?export=view&id=1h4qc01naiyUZA0Q63bcv64ZnC2AKwbgp' width=600>"
      ]
    },
    {
      "cell_type": "markdown",
      "metadata": {
        "id": "BuNe8090rOzw"
      },
      "source": [
        "Таким образом, любой текст порождается из распределений, путем подбрасывания кубиков.\n",
        "\n",
        "  ист. https://habr.com/ru/company/surfingbird/blog/230103/"
      ]
    },
    {
      "cell_type": "markdown",
      "metadata": {
        "id": "1igv07-4rO0E"
      },
      "source": [
        "1. условное распределение на множестве терминов, p(w|t). вероятность того, что слово w принадлежит теме t.\n",
        "2. тематический профиль документа - условное распределение тем p(t|d). вероятность того, что тема t принадлежит документу d.\n",
        "3. условное распределение слов в документах - p(w|d). вероятность, что слово w есть в документе d.\n",
        "\n",
        "\n",
        "Тематическая модель позволяет нам получить p(w|t), p(t|d) по известным p(w|d)"
      ]
    },
    {
      "cell_type": "markdown",
      "metadata": {
        "id": "nUO75KMjrO0E"
      },
      "source": [
        "<img src='https://drive.google.com/uc?export=view&id=1pd-ieIcQCF11xOwXbRt2v5Q1LRE2d1yV' width=600>\n",
        "\n",
        "Когда начинаем решать задачу, то нам известно p(w|d). И нам не известно с какой вероятностью встречаются слова в темах и какие темы находятся в нашем документе и с какой вероятностью.\n",
        "Есть проблема, что мы не знаем, какое количество тем есть в нашей задаче - это гиперпараметр."
      ]
    },
    {
      "cell_type": "markdown",
      "metadata": {
        "id": "_twkt6cTrO0K"
      },
      "source": [
        "### Переходим к практике\n",
        "\n",
        "\n",
        "Вспомним, какие задачи перед нами стоят:\n",
        "Основная - представление характеристик пользователя по списку статей, которые он читал.\n",
        "1. Взять статьи и превратить их в темы.\n",
        "2. Взять темы и превратить их в вектор, описывающий пользователя.\n"
      ]
    },
    {
      "cell_type": "code",
      "execution_count": null,
      "metadata": {
        "id": "ajg1uezArO0K"
      },
      "outputs": [],
      "source": [
        "import pandas as pd"
      ]
    },
    {
      "cell_type": "markdown",
      "metadata": {
        "id": "Bqobr0EsrO0L"
      },
      "source": [
        "Наши новости"
      ]
    },
    {
      "cell_type": "code",
      "source": [
        "!wget --load-cookies /tmp/cookies.txt \"https://docs.google.com/uc?export=download&confirm=$(wget --quiet --save-cookies /tmp/cookies.txt --keep-session-cookies --no-check-certificate 'https://docs.google.com/uc?export=download&id=1zrdSHN2tq_Hj3YdbwlM3jk87Oct42XpR' -O- | sed -rn 's/.*confirm=([0-9A-Za-z_]+).*/\\1\\n/p')&id=1zrdSHN2tq_Hj3YdbwlM3jk87Oct42XpR\" -O articles.csv && rm -rf /tmp/cookies.txt "
      ],
      "metadata": {
        "colab": {
          "base_uri": "https://localhost:8080/"
        },
        "id": "f_CGsD2geSGb",
        "outputId": "cc6fcb00-3a4e-4427-dd82-9a7439b1aa32"
      },
      "execution_count": null,
      "outputs": [
        {
          "output_type": "stream",
          "name": "stdout",
          "text": [
            "--2022-05-17 16:29:28--  https://docs.google.com/uc?export=download&confirm=t&id=1zrdSHN2tq_Hj3YdbwlM3jk87Oct42XpR\n",
            "Resolving docs.google.com (docs.google.com)... 142.250.141.100, 142.250.141.139, 142.250.141.101, ...\n",
            "Connecting to docs.google.com (docs.google.com)|142.250.141.100|:443... connected.\n",
            "HTTP request sent, awaiting response... 303 See Other\n",
            "Location: https://doc-0s-c0-docs.googleusercontent.com/docs/securesc/ha0ro937gcuc7l7deffksulhg5h7mbp1/3rqgtqtp6mjgh7m63upm5jbn0u4m0nef/1652804925000/14904333240138417226/*/1zrdSHN2tq_Hj3YdbwlM3jk87Oct42XpR?e=download [following]\n",
            "Warning: wildcards not supported in HTTP.\n",
            "--2022-05-17 16:29:28--  https://doc-0s-c0-docs.googleusercontent.com/docs/securesc/ha0ro937gcuc7l7deffksulhg5h7mbp1/3rqgtqtp6mjgh7m63upm5jbn0u4m0nef/1652804925000/14904333240138417226/*/1zrdSHN2tq_Hj3YdbwlM3jk87Oct42XpR?e=download\n",
            "Resolving doc-0s-c0-docs.googleusercontent.com (doc-0s-c0-docs.googleusercontent.com)... 142.250.141.132, 2607:f8b0:4023:c0b::84\n",
            "Connecting to doc-0s-c0-docs.googleusercontent.com (doc-0s-c0-docs.googleusercontent.com)|142.250.141.132|:443... connected.\n",
            "HTTP request sent, awaiting response... 200 OK\n",
            "Length: 145159860 (138M) [text/csv]\n",
            "Saving to: ‘articles.csv’\n",
            "\n",
            "articles.csv        100%[===================>] 138.43M   136MB/s    in 1.0s    \n",
            "\n",
            "2022-05-17 16:29:29 (136 MB/s) - ‘articles.csv’ saved [145159860/145159860]\n",
            "\n"
          ]
        }
      ]
    },
    {
      "cell_type": "code",
      "execution_count": null,
      "metadata": {
        "colab": {
          "base_uri": "https://localhost:8080/",
          "height": 161
        },
        "id": "LNFHyPQHrO0M",
        "outputId": "2eacd63f-f96a-4665-a054-c631db80c73a"
      },
      "outputs": [
        {
          "output_type": "stream",
          "name": "stdout",
          "text": [
            "(27000, 2)\n"
          ]
        },
        {
          "output_type": "execute_result",
          "data": {
            "text/plain": [
              "   doc_id                                              title\n",
              "0       6  Заместитель председателяnправительства РФnСерг...\n",
              "1    4896  Матч 1/16 финала Кубка России по футболу был п...\n",
              "2    4897  Форвард «Авангарда» Томаш Заборский прокоммент..."
            ],
            "text/html": [
              "\n",
              "  <div id=\"df-8c830386-f72f-49a2-8d1c-502a2ec31210\">\n",
              "    <div class=\"colab-df-container\">\n",
              "      <div>\n",
              "<style scoped>\n",
              "    .dataframe tbody tr th:only-of-type {\n",
              "        vertical-align: middle;\n",
              "    }\n",
              "\n",
              "    .dataframe tbody tr th {\n",
              "        vertical-align: top;\n",
              "    }\n",
              "\n",
              "    .dataframe thead th {\n",
              "        text-align: right;\n",
              "    }\n",
              "</style>\n",
              "<table border=\"1\" class=\"dataframe\">\n",
              "  <thead>\n",
              "    <tr style=\"text-align: right;\">\n",
              "      <th></th>\n",
              "      <th>doc_id</th>\n",
              "      <th>title</th>\n",
              "    </tr>\n",
              "  </thead>\n",
              "  <tbody>\n",
              "    <tr>\n",
              "      <th>0</th>\n",
              "      <td>6</td>\n",
              "      <td>Заместитель председателяnправительства РФnСерг...</td>\n",
              "    </tr>\n",
              "    <tr>\n",
              "      <th>1</th>\n",
              "      <td>4896</td>\n",
              "      <td>Матч 1/16 финала Кубка России по футболу был п...</td>\n",
              "    </tr>\n",
              "    <tr>\n",
              "      <th>2</th>\n",
              "      <td>4897</td>\n",
              "      <td>Форвард «Авангарда» Томаш Заборский прокоммент...</td>\n",
              "    </tr>\n",
              "  </tbody>\n",
              "</table>\n",
              "</div>\n",
              "      <button class=\"colab-df-convert\" onclick=\"convertToInteractive('df-8c830386-f72f-49a2-8d1c-502a2ec31210')\"\n",
              "              title=\"Convert this dataframe to an interactive table.\"\n",
              "              style=\"display:none;\">\n",
              "        \n",
              "  <svg xmlns=\"http://www.w3.org/2000/svg\" height=\"24px\"viewBox=\"0 0 24 24\"\n",
              "       width=\"24px\">\n",
              "    <path d=\"M0 0h24v24H0V0z\" fill=\"none\"/>\n",
              "    <path d=\"M18.56 5.44l.94 2.06.94-2.06 2.06-.94-2.06-.94-.94-2.06-.94 2.06-2.06.94zm-11 1L8.5 8.5l.94-2.06 2.06-.94-2.06-.94L8.5 2.5l-.94 2.06-2.06.94zm10 10l.94 2.06.94-2.06 2.06-.94-2.06-.94-.94-2.06-.94 2.06-2.06.94z\"/><path d=\"M17.41 7.96l-1.37-1.37c-.4-.4-.92-.59-1.43-.59-.52 0-1.04.2-1.43.59L10.3 9.45l-7.72 7.72c-.78.78-.78 2.05 0 2.83L4 21.41c.39.39.9.59 1.41.59.51 0 1.02-.2 1.41-.59l7.78-7.78 2.81-2.81c.8-.78.8-2.07 0-2.86zM5.41 20L4 18.59l7.72-7.72 1.47 1.35L5.41 20z\"/>\n",
              "  </svg>\n",
              "      </button>\n",
              "      \n",
              "  <style>\n",
              "    .colab-df-container {\n",
              "      display:flex;\n",
              "      flex-wrap:wrap;\n",
              "      gap: 12px;\n",
              "    }\n",
              "\n",
              "    .colab-df-convert {\n",
              "      background-color: #E8F0FE;\n",
              "      border: none;\n",
              "      border-radius: 50%;\n",
              "      cursor: pointer;\n",
              "      display: none;\n",
              "      fill: #1967D2;\n",
              "      height: 32px;\n",
              "      padding: 0 0 0 0;\n",
              "      width: 32px;\n",
              "    }\n",
              "\n",
              "    .colab-df-convert:hover {\n",
              "      background-color: #E2EBFA;\n",
              "      box-shadow: 0px 1px 2px rgba(60, 64, 67, 0.3), 0px 1px 3px 1px rgba(60, 64, 67, 0.15);\n",
              "      fill: #174EA6;\n",
              "    }\n",
              "\n",
              "    [theme=dark] .colab-df-convert {\n",
              "      background-color: #3B4455;\n",
              "      fill: #D2E3FC;\n",
              "    }\n",
              "\n",
              "    [theme=dark] .colab-df-convert:hover {\n",
              "      background-color: #434B5C;\n",
              "      box-shadow: 0px 1px 3px 1px rgba(0, 0, 0, 0.15);\n",
              "      filter: drop-shadow(0px 1px 2px rgba(0, 0, 0, 0.3));\n",
              "      fill: #FFFFFF;\n",
              "    }\n",
              "  </style>\n",
              "\n",
              "      <script>\n",
              "        const buttonEl =\n",
              "          document.querySelector('#df-8c830386-f72f-49a2-8d1c-502a2ec31210 button.colab-df-convert');\n",
              "        buttonEl.style.display =\n",
              "          google.colab.kernel.accessAllowed ? 'block' : 'none';\n",
              "\n",
              "        async function convertToInteractive(key) {\n",
              "          const element = document.querySelector('#df-8c830386-f72f-49a2-8d1c-502a2ec31210');\n",
              "          const dataTable =\n",
              "            await google.colab.kernel.invokeFunction('convertToInteractive',\n",
              "                                                     [key], {});\n",
              "          if (!dataTable) return;\n",
              "\n",
              "          const docLinkHtml = 'Like what you see? Visit the ' +\n",
              "            '<a target=\"_blank\" href=https://colab.research.google.com/notebooks/data_table.ipynb>data table notebook</a>'\n",
              "            + ' to learn more about interactive tables.';\n",
              "          element.innerHTML = '';\n",
              "          dataTable['output_type'] = 'display_data';\n",
              "          await google.colab.output.renderOutput(dataTable, element);\n",
              "          const docLink = document.createElement('div');\n",
              "          docLink.innerHTML = docLinkHtml;\n",
              "          element.appendChild(docLink);\n",
              "        }\n",
              "      </script>\n",
              "    </div>\n",
              "  </div>\n",
              "  "
            ]
          },
          "metadata": {},
          "execution_count": 3
        }
      ],
      "source": [
        "news = pd.read_csv(\"articles.csv\")\n",
        "print(news.shape)\n",
        "news.head(3)"
      ]
    },
    {
      "cell_type": "code",
      "source": [
        "news.iloc[0]['title']"
      ],
      "metadata": {
        "colab": {
          "base_uri": "https://localhost:8080/",
          "height": 125
        },
        "id": "-fHdrCgi8BGd",
        "outputId": "b84d3260-2ffe-44fb-bce9-bd1e028f254d"
      },
      "execution_count": null,
      "outputs": [
        {
          "output_type": "execute_result",
          "data": {
            "text/plain": [
              "'Заместитель председателяnправительства РФnСергейnИвановnизбран председателем советаnПБК ЦСКАn. Как сообщаетnпресс-службаnармейцев, такое решение было единогласно принято на первом заседании совета клуба. Основной функцией этого органа будет обсуждение текущего состояния, планирование и утверждение стратегии развития клуба на ближайшую перспективу.nnВ состав совета вошли:nГеоргий Полтавченкоn(полномочный представитель президента в Центральном федеральном округе),nАлексей Седовn(генерал-полковник, начальник службы по защите конституционного строя и борьбе с терроризмомnФСБ РФn),nАлександр Новакn(заместитель министра финансов РФ),nВячеслав Полтавцевn(заместитель генерального директора, руководитель блока по взаимодействию с органами власти, социальной и корпоративной политикиnГМК «Норильский никель»n),nЛеонид Исаковичn(генеральный директор ООО «УК «Спортивные проекты»),nОльга Плешаковаn(генеральный директорn«Трансаэро»n),nАлександр Провоторовn, (генеральный директорnОАО «Ростелеком»n), Андрей Лопатов (экс-игрок ЦСКА, чемпион мира, трехкратный чемпион Европы по баскетболу, председатель правленияnбанка «Клиентский»n),nАндрей Ватутинn(президент ПБК ЦСКА).'"
            ],
            "application/vnd.google.colaboratory.intrinsic+json": {
              "type": "string"
            }
          },
          "metadata": {},
          "execution_count": 4
        }
      ]
    },
    {
      "cell_type": "code",
      "execution_count": null,
      "metadata": {
        "colab": {
          "base_uri": "https://localhost:8080/"
        },
        "id": "8sRdA47KrO0Q",
        "outputId": "20c7d031-b12e-49b8-c3ee-de871aba325a"
      },
      "outputs": [
        {
          "output_type": "stream",
          "name": "stdout",
          "text": [
            "--2022-05-17 16:29:34--  https://drive.google.com/uc?export=download&id=1Q97K9eGrvpbS4ut5CphZa--gJDRqQp2a\n",
            "Resolving drive.google.com (drive.google.com)... 142.250.141.139, 142.250.141.100, 142.250.141.101, ...\n",
            "Connecting to drive.google.com (drive.google.com)|142.250.141.139|:443... connected.\n",
            "HTTP request sent, awaiting response... 303 See Other\n",
            "Location: https://doc-04-c0-docs.googleusercontent.com/docs/securesc/ha0ro937gcuc7l7deffksulhg5h7mbp1/4ihvcv5gbjg30h8h7qmpr4hm6sus5m9k/1652804925000/14904333240138417226/*/1Q97K9eGrvpbS4ut5CphZa--gJDRqQp2a?e=download [following]\n",
            "Warning: wildcards not supported in HTTP.\n",
            "--2022-05-17 16:29:34--  https://doc-04-c0-docs.googleusercontent.com/docs/securesc/ha0ro937gcuc7l7deffksulhg5h7mbp1/4ihvcv5gbjg30h8h7qmpr4hm6sus5m9k/1652804925000/14904333240138417226/*/1Q97K9eGrvpbS4ut5CphZa--gJDRqQp2a?e=download\n",
            "Resolving doc-04-c0-docs.googleusercontent.com (doc-04-c0-docs.googleusercontent.com)... 142.250.141.132, 2607:f8b0:4023:c0b::84\n",
            "Connecting to doc-04-c0-docs.googleusercontent.com (doc-04-c0-docs.googleusercontent.com)|142.250.141.132|:443... connected.\n",
            "HTTP request sent, awaiting response... 200 OK\n",
            "Length: 434166 (424K) [text/csv]\n",
            "Saving to: ‘users_articles.csv’\n",
            "\n",
            "users_articles.csv  100%[===================>] 423.99K  --.-KB/s    in 0.006s  \n",
            "\n",
            "2022-05-17 16:29:34 (70.2 MB/s) - ‘users_articles.csv’ saved [434166/434166]\n",
            "\n"
          ]
        }
      ],
      "source": [
        "!wget 'https://drive.google.com/uc?export=download&id=1Q97K9eGrvpbS4ut5CphZa--gJDRqQp2a' -O users_articles.csv"
      ]
    },
    {
      "cell_type": "markdown",
      "metadata": {
        "id": "rXqISPsTrO0R"
      },
      "source": [
        "Загрузим пользователей и списки последних прочитанных новостей"
      ]
    },
    {
      "cell_type": "code",
      "execution_count": null,
      "metadata": {
        "colab": {
          "base_uri": "https://localhost:8080/",
          "height": 143
        },
        "id": "B_Wte8vFrO0S",
        "outputId": "a7a35ef9-312b-4285-c615-6bb498bb346c"
      },
      "outputs": [
        {
          "output_type": "execute_result",
          "data": {
            "text/plain": [
              "       uid                                        articles\n",
              "0  u105138  [293672, 293328, 293001, 293622, 293126, 1852]\n",
              "1  u108690          [3405, 1739, 2972, 1158, 1599, 322665]\n",
              "2  u108339          [1845, 2009, 2356, 1424, 2939, 323389]"
            ],
            "text/html": [
              "\n",
              "  <div id=\"df-75127d71-2e10-43d7-9d7b-8b276d0468fd\">\n",
              "    <div class=\"colab-df-container\">\n",
              "      <div>\n",
              "<style scoped>\n",
              "    .dataframe tbody tr th:only-of-type {\n",
              "        vertical-align: middle;\n",
              "    }\n",
              "\n",
              "    .dataframe tbody tr th {\n",
              "        vertical-align: top;\n",
              "    }\n",
              "\n",
              "    .dataframe thead th {\n",
              "        text-align: right;\n",
              "    }\n",
              "</style>\n",
              "<table border=\"1\" class=\"dataframe\">\n",
              "  <thead>\n",
              "    <tr style=\"text-align: right;\">\n",
              "      <th></th>\n",
              "      <th>uid</th>\n",
              "      <th>articles</th>\n",
              "    </tr>\n",
              "  </thead>\n",
              "  <tbody>\n",
              "    <tr>\n",
              "      <th>0</th>\n",
              "      <td>u105138</td>\n",
              "      <td>[293672, 293328, 293001, 293622, 293126, 1852]</td>\n",
              "    </tr>\n",
              "    <tr>\n",
              "      <th>1</th>\n",
              "      <td>u108690</td>\n",
              "      <td>[3405, 1739, 2972, 1158, 1599, 322665]</td>\n",
              "    </tr>\n",
              "    <tr>\n",
              "      <th>2</th>\n",
              "      <td>u108339</td>\n",
              "      <td>[1845, 2009, 2356, 1424, 2939, 323389]</td>\n",
              "    </tr>\n",
              "  </tbody>\n",
              "</table>\n",
              "</div>\n",
              "      <button class=\"colab-df-convert\" onclick=\"convertToInteractive('df-75127d71-2e10-43d7-9d7b-8b276d0468fd')\"\n",
              "              title=\"Convert this dataframe to an interactive table.\"\n",
              "              style=\"display:none;\">\n",
              "        \n",
              "  <svg xmlns=\"http://www.w3.org/2000/svg\" height=\"24px\"viewBox=\"0 0 24 24\"\n",
              "       width=\"24px\">\n",
              "    <path d=\"M0 0h24v24H0V0z\" fill=\"none\"/>\n",
              "    <path d=\"M18.56 5.44l.94 2.06.94-2.06 2.06-.94-2.06-.94-.94-2.06-.94 2.06-2.06.94zm-11 1L8.5 8.5l.94-2.06 2.06-.94-2.06-.94L8.5 2.5l-.94 2.06-2.06.94zm10 10l.94 2.06.94-2.06 2.06-.94-2.06-.94-.94-2.06-.94 2.06-2.06.94z\"/><path d=\"M17.41 7.96l-1.37-1.37c-.4-.4-.92-.59-1.43-.59-.52 0-1.04.2-1.43.59L10.3 9.45l-7.72 7.72c-.78.78-.78 2.05 0 2.83L4 21.41c.39.39.9.59 1.41.59.51 0 1.02-.2 1.41-.59l7.78-7.78 2.81-2.81c.8-.78.8-2.07 0-2.86zM5.41 20L4 18.59l7.72-7.72 1.47 1.35L5.41 20z\"/>\n",
              "  </svg>\n",
              "      </button>\n",
              "      \n",
              "  <style>\n",
              "    .colab-df-container {\n",
              "      display:flex;\n",
              "      flex-wrap:wrap;\n",
              "      gap: 12px;\n",
              "    }\n",
              "\n",
              "    .colab-df-convert {\n",
              "      background-color: #E8F0FE;\n",
              "      border: none;\n",
              "      border-radius: 50%;\n",
              "      cursor: pointer;\n",
              "      display: none;\n",
              "      fill: #1967D2;\n",
              "      height: 32px;\n",
              "      padding: 0 0 0 0;\n",
              "      width: 32px;\n",
              "    }\n",
              "\n",
              "    .colab-df-convert:hover {\n",
              "      background-color: #E2EBFA;\n",
              "      box-shadow: 0px 1px 2px rgba(60, 64, 67, 0.3), 0px 1px 3px 1px rgba(60, 64, 67, 0.15);\n",
              "      fill: #174EA6;\n",
              "    }\n",
              "\n",
              "    [theme=dark] .colab-df-convert {\n",
              "      background-color: #3B4455;\n",
              "      fill: #D2E3FC;\n",
              "    }\n",
              "\n",
              "    [theme=dark] .colab-df-convert:hover {\n",
              "      background-color: #434B5C;\n",
              "      box-shadow: 0px 1px 3px 1px rgba(0, 0, 0, 0.15);\n",
              "      filter: drop-shadow(0px 1px 2px rgba(0, 0, 0, 0.3));\n",
              "      fill: #FFFFFF;\n",
              "    }\n",
              "  </style>\n",
              "\n",
              "      <script>\n",
              "        const buttonEl =\n",
              "          document.querySelector('#df-75127d71-2e10-43d7-9d7b-8b276d0468fd button.colab-df-convert');\n",
              "        buttonEl.style.display =\n",
              "          google.colab.kernel.accessAllowed ? 'block' : 'none';\n",
              "\n",
              "        async function convertToInteractive(key) {\n",
              "          const element = document.querySelector('#df-75127d71-2e10-43d7-9d7b-8b276d0468fd');\n",
              "          const dataTable =\n",
              "            await google.colab.kernel.invokeFunction('convertToInteractive',\n",
              "                                                     [key], {});\n",
              "          if (!dataTable) return;\n",
              "\n",
              "          const docLinkHtml = 'Like what you see? Visit the ' +\n",
              "            '<a target=\"_blank\" href=https://colab.research.google.com/notebooks/data_table.ipynb>data table notebook</a>'\n",
              "            + ' to learn more about interactive tables.';\n",
              "          element.innerHTML = '';\n",
              "          dataTable['output_type'] = 'display_data';\n",
              "          await google.colab.output.renderOutput(dataTable, element);\n",
              "          const docLink = document.createElement('div');\n",
              "          docLink.innerHTML = docLinkHtml;\n",
              "          element.appendChild(docLink);\n",
              "        }\n",
              "      </script>\n",
              "    </div>\n",
              "  </div>\n",
              "  "
            ]
          },
          "metadata": {},
          "execution_count": 6
        }
      ],
      "source": [
        "users = pd.read_csv(\"users_articles.csv\")\n",
        "users.head(3)"
      ]
    },
    {
      "cell_type": "markdown",
      "metadata": {
        "id": "gC2mYbVorO0T"
      },
      "source": [
        "Итак, нам нужно получить векторные представления пользователей на основе прочитанным ими новостей и самих новостей"
      ]
    },
    {
      "cell_type": "markdown",
      "metadata": {
        "id": "yzjqymHOrO0U"
      },
      "source": [
        "### 1. Получаем векторные представления новостей"
      ]
    },
    {
      "cell_type": "markdown",
      "source": [
        "**ПОЗАВТРАКАЛИ**\n",
        "\n",
        "Стемминг (убираем лишнии куски слова):\n",
        "**завтрак**<br>\n",
        "Очень быстро, очень дешево и очень слабо.\n",
        "\n",
        "Лемматизация (перевод в неопределенную форму для гл. и в им.падеж для сущ.):\n",
        "**позавтракать**<br>\n",
        "Небыстро, сложно."
      ],
      "metadata": {
        "id": "6IAvfEF7vwlo"
      }
    },
    {
      "cell_type": "code",
      "source": [
        "!pip install razdel pymorphy2 pyLDAvis"
      ],
      "metadata": {
        "colab": {
          "base_uri": "https://localhost:8080/"
        },
        "id": "IOUvCQhMtEbt",
        "outputId": "3ad1e65d-a576-4e6a-cf5a-eb035ed648e2"
      },
      "execution_count": null,
      "outputs": [
        {
          "output_type": "stream",
          "name": "stdout",
          "text": [
            "Collecting razdel\n",
            "  Downloading razdel-0.5.0-py3-none-any.whl (21 kB)\n",
            "Collecting pymorphy2\n",
            "  Downloading pymorphy2-0.9.1-py3-none-any.whl (55 kB)\n",
            "\u001b[K     |████████████████████████████████| 55 kB 2.8 MB/s \n",
            "\u001b[?25hCollecting pyLDAvis\n",
            "  Downloading pyLDAvis-3.3.1.tar.gz (1.7 MB)\n",
            "\u001b[K     |████████████████████████████████| 1.7 MB 21.4 MB/s \n",
            "\u001b[?25h  Installing build dependencies ... \u001b[?25l\u001b[?25hdone\n",
            "  Getting requirements to build wheel ... \u001b[?25l\u001b[?25hdone\n",
            "  Installing backend dependencies ... \u001b[?25l\u001b[?25hdone\n",
            "    Preparing wheel metadata ... \u001b[?25l\u001b[?25hdone\n",
            "Collecting pymorphy2-dicts-ru<3.0,>=2.4\n",
            "  Downloading pymorphy2_dicts_ru-2.4.417127.4579844-py2.py3-none-any.whl (8.2 MB)\n",
            "\u001b[K     |████████████████████████████████| 8.2 MB 42.8 MB/s \n",
            "\u001b[?25hCollecting dawg-python>=0.7.1\n",
            "  Downloading DAWG_Python-0.7.2-py2.py3-none-any.whl (11 kB)\n",
            "Requirement already satisfied: docopt>=0.6 in /usr/local/lib/python3.7/dist-packages (from pymorphy2) (0.6.2)\n",
            "Requirement already satisfied: scipy in /usr/local/lib/python3.7/dist-packages (from pyLDAvis) (1.4.1)\n",
            "Requirement already satisfied: jinja2 in /usr/local/lib/python3.7/dist-packages (from pyLDAvis) (2.11.3)\n",
            "Requirement already satisfied: pandas>=1.2.0 in /usr/local/lib/python3.7/dist-packages (from pyLDAvis) (1.3.5)\n",
            "Requirement already satisfied: sklearn in /usr/local/lib/python3.7/dist-packages (from pyLDAvis) (0.0)\n",
            "Requirement already satisfied: numpy>=1.20.0 in /usr/local/lib/python3.7/dist-packages (from pyLDAvis) (1.21.6)\n",
            "Requirement already satisfied: scikit-learn in /usr/local/lib/python3.7/dist-packages (from pyLDAvis) (1.0.2)\n",
            "Requirement already satisfied: numexpr in /usr/local/lib/python3.7/dist-packages (from pyLDAvis) (2.8.1)\n",
            "Requirement already satisfied: joblib in /usr/local/lib/python3.7/dist-packages (from pyLDAvis) (1.1.0)\n",
            "Requirement already satisfied: future in /usr/local/lib/python3.7/dist-packages (from pyLDAvis) (0.16.0)\n",
            "Requirement already satisfied: setuptools in /usr/local/lib/python3.7/dist-packages (from pyLDAvis) (57.4.0)\n",
            "Collecting funcy\n",
            "  Downloading funcy-1.17-py2.py3-none-any.whl (33 kB)\n",
            "Requirement already satisfied: gensim in /usr/local/lib/python3.7/dist-packages (from pyLDAvis) (3.6.0)\n",
            "Requirement already satisfied: python-dateutil>=2.7.3 in /usr/local/lib/python3.7/dist-packages (from pandas>=1.2.0->pyLDAvis) (2.8.2)\n",
            "Requirement already satisfied: pytz>=2017.3 in /usr/local/lib/python3.7/dist-packages (from pandas>=1.2.0->pyLDAvis) (2022.1)\n",
            "Requirement already satisfied: six>=1.5 in /usr/local/lib/python3.7/dist-packages (from python-dateutil>=2.7.3->pandas>=1.2.0->pyLDAvis) (1.15.0)\n",
            "Requirement already satisfied: smart-open>=1.2.1 in /usr/local/lib/python3.7/dist-packages (from gensim->pyLDAvis) (6.0.0)\n",
            "Requirement already satisfied: MarkupSafe>=0.23 in /usr/local/lib/python3.7/dist-packages (from jinja2->pyLDAvis) (2.0.1)\n",
            "Requirement already satisfied: packaging in /usr/local/lib/python3.7/dist-packages (from numexpr->pyLDAvis) (21.3)\n",
            "Requirement already satisfied: pyparsing!=3.0.5,>=2.0.2 in /usr/local/lib/python3.7/dist-packages (from packaging->numexpr->pyLDAvis) (3.0.9)\n",
            "Requirement already satisfied: threadpoolctl>=2.0.0 in /usr/local/lib/python3.7/dist-packages (from scikit-learn->pyLDAvis) (3.1.0)\n",
            "Building wheels for collected packages: pyLDAvis\n",
            "  Building wheel for pyLDAvis (PEP 517) ... \u001b[?25l\u001b[?25hdone\n",
            "  Created wheel for pyLDAvis: filename=pyLDAvis-3.3.1-py2.py3-none-any.whl size=136898 sha256=c7a194e2f59e4996075103edbe0dc556520b2e6d1c9298813afc7890e74f5db5\n",
            "  Stored in directory: /root/.cache/pip/wheels/c9/21/f6/17bcf2667e8a68532ba2fbf6d5c72fdf4c7f7d9abfa4852d2f\n",
            "Successfully built pyLDAvis\n",
            "Installing collected packages: pymorphy2-dicts-ru, funcy, dawg-python, razdel, pymorphy2, pyLDAvis\n",
            "Successfully installed dawg-python-0.7.2 funcy-1.17 pyLDAvis-3.3.1 pymorphy2-0.9.1 pymorphy2-dicts-ru-2.4.417127.4579844 razdel-0.5.0\n"
          ]
        }
      ]
    },
    {
      "cell_type": "code",
      "execution_count": null,
      "metadata": {
        "id": "r5aEUfAArO0W"
      },
      "outputs": [],
      "source": [
        "# предобработка текстов\n",
        "import re\n",
        "import numpy as np\n",
        "from gensim.corpora.dictionary import Dictionary\n",
        "from razdel import tokenize  # сегментация русскоязычного текста на токены и предложения https://github.com/natasha/razdel\n",
        "import pymorphy2  # Морфологический анализатор"
      ]
    },
    {
      "cell_type": "markdown",
      "source": [
        "Не все слова равны, не все слова одинаково работают. К примеру, союзы и предлоги в нашей задачи никак не помогут, поэтому можем их выкидывать. (*Но в задачах оценки стиля, к примеру, такие слова будут очень полезны*)"
      ],
      "metadata": {
        "id": "qkL7Aq9owwIz"
      }
    },
    {
      "cell_type": "code",
      "source": [
        "import nltk\n",
        "from nltk.corpus import stopwords\n",
        "nltk.download('stopwords')"
      ],
      "metadata": {
        "colab": {
          "base_uri": "https://localhost:8080/"
        },
        "id": "stfdHK-ivFlT",
        "outputId": "8c1748ab-1fef-4bf5-c375-1207aa8d2bb9"
      },
      "execution_count": null,
      "outputs": [
        {
          "output_type": "stream",
          "name": "stdout",
          "text": [
            "[nltk_data] Downloading package stopwords to /root/nltk_data...\n",
            "[nltk_data]   Unzipping corpora/stopwords.zip.\n"
          ]
        },
        {
          "output_type": "execute_result",
          "data": {
            "text/plain": [
              "True"
            ]
          },
          "metadata": {},
          "execution_count": 9
        }
      ]
    },
    {
      "cell_type": "code",
      "execution_count": null,
      "metadata": {
        "id": "bwgnYaT7rO0X",
        "colab": {
          "base_uri": "https://localhost:8080/"
        },
        "outputId": "5a49f602-6644-40a4-b234-d853304d43a0"
      },
      "outputs": [
        {
          "output_type": "stream",
          "name": "stdout",
          "text": [
            "151\n"
          ]
        }
      ],
      "source": [
        "stopword_ru = stopwords.words('russian')\n",
        "print(len(stopword_ru))"
      ]
    },
    {
      "cell_type": "code",
      "source": [
        "stopword_ru[:10]"
      ],
      "metadata": {
        "colab": {
          "base_uri": "https://localhost:8080/"
        },
        "id": "3VeXs0NIxTIU",
        "outputId": "74d4ab2e-1620-4326-825b-73e1c9aedd89"
      },
      "execution_count": null,
      "outputs": [
        {
          "output_type": "execute_result",
          "data": {
            "text/plain": [
              "['и', 'в', 'во', 'не', 'что', 'он', 'на', 'я', 'с', 'со']"
            ]
          },
          "metadata": {},
          "execution_count": 11
        }
      ]
    },
    {
      "cell_type": "code",
      "source": [
        "!wget 'https://drive.google.com/uc?export=download&id=17wVn5YPpMjHToctGgff_KfSeWcIIlf7c' -O stopwords.txt"
      ],
      "metadata": {
        "colab": {
          "base_uri": "https://localhost:8080/"
        },
        "id": "GnsDhcwLxcwU",
        "outputId": "824543dc-ea28-467c-8843-ded4b62b7ec5"
      },
      "execution_count": null,
      "outputs": [
        {
          "output_type": "stream",
          "name": "stdout",
          "text": [
            "--2022-05-17 16:30:04--  https://drive.google.com/uc?export=download&id=17wVn5YPpMjHToctGgff_KfSeWcIIlf7c\n",
            "Resolving drive.google.com (drive.google.com)... 142.250.141.139, 142.250.141.138, 142.250.141.113, ...\n",
            "Connecting to drive.google.com (drive.google.com)|142.250.141.139|:443... connected.\n",
            "HTTP request sent, awaiting response... 303 See Other\n",
            "Location: https://doc-0s-c0-docs.googleusercontent.com/docs/securesc/ha0ro937gcuc7l7deffksulhg5h7mbp1/k22tddhm1u603u2tvtre3dsqeq341thk/1652805000000/14904333240138417226/*/17wVn5YPpMjHToctGgff_KfSeWcIIlf7c?e=download [following]\n",
            "Warning: wildcards not supported in HTTP.\n",
            "--2022-05-17 16:30:05--  https://doc-0s-c0-docs.googleusercontent.com/docs/securesc/ha0ro937gcuc7l7deffksulhg5h7mbp1/k22tddhm1u603u2tvtre3dsqeq341thk/1652805000000/14904333240138417226/*/17wVn5YPpMjHToctGgff_KfSeWcIIlf7c?e=download\n",
            "Resolving doc-0s-c0-docs.googleusercontent.com (doc-0s-c0-docs.googleusercontent.com)... 142.250.141.132, 2607:f8b0:4023:c0b::84\n",
            "Connecting to doc-0s-c0-docs.googleusercontent.com (doc-0s-c0-docs.googleusercontent.com)|142.250.141.132|:443... connected.\n",
            "HTTP request sent, awaiting response... 200 OK\n",
            "Length: 5368 (5.2K) [text/plain]\n",
            "Saving to: ‘stopwords.txt’\n",
            "\n",
            "stopwords.txt       100%[===================>]   5.24K  --.-KB/s    in 0s      \n",
            "\n",
            "2022-05-17 16:30:05 (10.5 MB/s) - ‘stopwords.txt’ saved [5368/5368]\n",
            "\n"
          ]
        }
      ]
    },
    {
      "cell_type": "code",
      "execution_count": null,
      "metadata": {
        "id": "fw3Nj3qhrO0X",
        "outputId": "4b1d8b18-c532-4104-a1d6-26fc2220cce9",
        "colab": {
          "base_uri": "https://localhost:8080/"
        }
      },
      "outputs": [
        {
          "output_type": "execute_result",
          "data": {
            "text/plain": [
              "776"
            ]
          },
          "metadata": {},
          "execution_count": 13
        }
      ],
      "source": [
        "with open('stopwords.txt') as f:\n",
        "    additional_stopwords = [w.strip() for w in f.readlines() if w]\n",
        "    \n",
        "stopword_ru += additional_stopwords\n",
        "len(stopword_ru)"
      ]
    },
    {
      "cell_type": "code",
      "source": [
        "stopword_ru[200:210]"
      ],
      "metadata": {
        "colab": {
          "base_uri": "https://localhost:8080/"
        },
        "id": "vZV9fxlbxjQQ",
        "outputId": "57bee7fd-6b97-484f-e246-4d6b189f4176"
      },
      "execution_count": null,
      "outputs": [
        {
          "output_type": "execute_result",
          "data": {
            "text/plain": [
              "['ни', 'быть', 'был', 'него', 'до', 'вас', 'нибудь', 'опять', 'уж', 'вам']"
            ]
          },
          "metadata": {},
          "execution_count": 14
        }
      ]
    },
    {
      "cell_type": "code",
      "execution_count": null,
      "metadata": {
        "id": "hdyTS-yDrO0Y"
      },
      "outputs": [],
      "source": [
        "def clean_text(text):\n",
        "    '''\n",
        "    очистка текста\n",
        "    \n",
        "    на выходе очищеный текст\n",
        "    '''\n",
        "    if not isinstance(text, str):\n",
        "        text = str(text)\n",
        "    \n",
        "    text = text.lower()\n",
        "    text = text.strip('\\n').strip('\\r').strip('\\t')\n",
        "    text = re.sub(\"-\\s\\r\\n\\|-\\s\\r\\n|\\r\\n\", '', str(text))\n",
        "\n",
        "    text = re.sub(\"[0-9]|[-—.,:;_%©«»?*!@#№$^•·&()]|[+=]|[[]|[]]|[/]|\", '', text)\n",
        "    text = re.sub(r\"\\r\\n\\t|\\n|\\\\s|\\r\\t|\\\\n\", ' ', text)\n",
        "    text = re.sub(r'[\\xad]|[\\s+]', ' ', text.strip())\n",
        "    text = re.sub('n', ' ', text)\n",
        "    \n",
        "    return text\n",
        "\n",
        "cache = {}\n",
        "morph = pymorphy2.MorphAnalyzer()\n",
        "\n",
        "def lemmatization(text):    \n",
        "    '''\n",
        "    лемматизация\n",
        "        [0] если зашел тип не `str` делаем его `str`\n",
        "        [1] токенизация предложения через razdel\n",
        "        [2] проверка есть ли в начале слова '-'\n",
        "        [3] проверка токена с одного символа\n",
        "        [4] проверка есть ли данное слово в кэше\n",
        "        [5] лемматизация слова\n",
        "        [6] проверка на стоп-слова\n",
        "\n",
        "    на выходе лист лемматизированых токенов\n",
        "    '''\n",
        "\n",
        "    # [0]\n",
        "    if not isinstance(text, str):\n",
        "        text = str(text)\n",
        "    \n",
        "    # [1]\n",
        "    tokens = list(tokenize(text))\n",
        "    words = [_.text for _ in tokens]\n",
        "\n",
        "    words_lem = []\n",
        "    for w in words:\n",
        "        if w[0] == '-': # [2]\n",
        "            w = w[1:]\n",
        "        if len(w) > 1: # [3]\n",
        "            if w in cache: # [4]\n",
        "                words_lem.append(cache[w])\n",
        "            else: # [5]\n",
        "                temp_cach = cache[w] = morph.parse(w)[0].normal_form\n",
        "                words_lem.append(temp_cach)\n",
        "    \n",
        "    words_lem_without_stopwords = [i for i in words_lem if not i in stopword_ru] # [6]\n",
        "    \n",
        "    return words_lem_without_stopwords"
      ]
    },
    {
      "cell_type": "code",
      "source": [
        "morph = pymorphy2.MorphAnalyzer()\n",
        "morph.parse('сбегали')[0].normal_form"
      ],
      "metadata": {
        "colab": {
          "base_uri": "https://localhost:8080/",
          "height": 36
        },
        "id": "3dkl71coyj3S",
        "outputId": "ad86f680-e8bd-40f7-cfde-8a37c73ee9d1"
      },
      "execution_count": null,
      "outputs": [
        {
          "output_type": "execute_result",
          "data": {
            "text/plain": [
              "'сбегать'"
            ],
            "application/vnd.google.colaboratory.intrinsic+json": {
              "type": "string"
            }
          },
          "metadata": {},
          "execution_count": 16
        }
      ]
    },
    {
      "cell_type": "code",
      "source": [
        "news['title'].iloc[:2].apply(lambda x: clean_text(x))"
      ],
      "metadata": {
        "colab": {
          "base_uri": "https://localhost:8080/"
        },
        "id": "C5grR2zdzi-X",
        "outputId": "a03e1cf3-8d4b-4af9-e999-d84e79f74a1e"
      },
      "execution_count": null,
      "outputs": [
        {
          "output_type": "stream",
          "name": "stderr",
          "text": [
            "/usr/local/lib/python3.7/dist-packages/ipykernel_launcher.py:14: FutureWarning: Possible nested set at position 39\n",
            "  \n"
          ]
        },
        {
          "output_type": "execute_result",
          "data": {
            "text/plain": [
              "0    заместитель председателя правительства рф серг...\n",
              "1    матч  финала кубка россии по футболу был приос...\n",
              "Name: title, dtype: object"
            ]
          },
          "metadata": {},
          "execution_count": 17
        }
      ]
    },
    {
      "cell_type": "code",
      "execution_count": null,
      "metadata": {
        "scrolled": true,
        "id": "QB2yF4CsrO0Z",
        "outputId": "35083713-e3a8-4f7c-d8c2-b0d82d147f5c",
        "colab": {
          "base_uri": "https://localhost:8080/"
        }
      },
      "outputs": [
        {
          "output_type": "stream",
          "name": "stderr",
          "text": [
            "100%|██████████| 27000/27000 [00:46<00:00, 575.10it/s] \n"
          ]
        },
        {
          "output_type": "stream",
          "name": "stdout",
          "text": [
            "CPU times: user 36.8 s, sys: 1.54 s, total: 38.3 s\n",
            "Wall time: 47 s\n"
          ]
        }
      ],
      "source": [
        "%%time\n",
        "from tqdm import tqdm\n",
        "tqdm.pandas()\n",
        "\n",
        "# Запускаем очистку текста. Будет долго...\n",
        "news['title'] = news['title'].progress_apply(lambda x: clean_text(x))"
      ]
    },
    {
      "cell_type": "code",
      "source": [
        "news['title'].iloc[:10]"
      ],
      "metadata": {
        "colab": {
          "base_uri": "https://localhost:8080/"
        },
        "id": "XmkV3EefzYf0",
        "outputId": "69ec22f4-1501-46c6-a64b-a018f29e8380"
      },
      "execution_count": null,
      "outputs": [
        {
          "output_type": "execute_result",
          "data": {
            "text/plain": [
              "0    заместитель председателя правительства рф серг...\n",
              "1    матч  финала кубка россии по футболу был приос...\n",
              "2    форвард авангарда томаш заборский прокомментир...\n",
              "3    главный тренер кубани юрий красножан прокоммен...\n",
              "4    решением попечительского совета владивостокско...\n",
              "5    ио главного тренера вячеслав буцаев прокоммент...\n",
              "6    запорожский металлург дома потерпел разгромное...\n",
              "7    сборная сша одержала победу над австрией со сч...\n",
              "8    бывший защитник сборной россии дарюс каспарайт...\n",
              "9    полузащитник цска зоран тошич после победы над...\n",
              "Name: title, dtype: object"
            ]
          },
          "metadata": {},
          "execution_count": 19
        }
      ]
    },
    {
      "cell_type": "code",
      "source": [
        "news['title'].iloc[:2].apply(lambda x: lemmatization(x))"
      ],
      "metadata": {
        "colab": {
          "base_uri": "https://localhost:8080/"
        },
        "id": "Em-afWYY0Ntx",
        "outputId": "a4572058-14e0-4497-c6cc-fac6ad897e91"
      },
      "execution_count": null,
      "outputs": [
        {
          "output_type": "execute_result",
          "data": {
            "text/plain": [
              "0    [заместитель, председатель, правительство, рф,...\n",
              "1    [матч, финал, кубок, россия, футбол, приостано...\n",
              "Name: title, dtype: object"
            ]
          },
          "metadata": {},
          "execution_count": 20
        }
      ]
    },
    {
      "cell_type": "code",
      "execution_count": null,
      "metadata": {
        "id": "ug4Q6n2VrO0b",
        "outputId": "31ad3f50-726a-4f78-aa70-344789b19356",
        "colab": {
          "base_uri": "https://localhost:8080/"
        }
      },
      "outputs": [
        {
          "output_type": "stream",
          "name": "stderr",
          "text": [
            "100%|██████████| 27000/27000 [04:26<00:00, 101.48it/s]"
          ]
        },
        {
          "output_type": "stream",
          "name": "stdout",
          "text": [
            "CPU times: user 4min 22s, sys: 1.95 s, total: 4min 24s\n",
            "Wall time: 4min 26s\n"
          ]
        },
        {
          "output_type": "stream",
          "name": "stderr",
          "text": [
            "\n"
          ]
        }
      ],
      "source": [
        "%%time\n",
        "# Запускаем лемматизацию текста. Будет очень долго...\n",
        "news['title'] = news['title'].progress_apply(lambda x: lemmatization(x))"
      ]
    },
    {
      "cell_type": "markdown",
      "metadata": {
        "id": "pUGOY6a5rO0c"
      },
      "source": [
        "А теперь в 3 строчки обучим нашу модель"
      ]
    },
    {
      "cell_type": "code",
      "execution_count": null,
      "metadata": {
        "id": "TCyJb8-8rO0d"
      },
      "outputs": [],
      "source": [
        "# сформируем список наших текстов\n",
        "texts = list(news['title'].values)\n",
        "\n",
        "# Создадим корпус из списка с текстами\n",
        "common_dictionary = Dictionary(texts)\n",
        "common_corpus = [common_dictionary.doc2bow(text) for text in texts]"
      ]
    },
    {
      "cell_type": "markdown",
      "metadata": {
        "id": "xYRkOOKyrO0e"
      },
      "source": [
        "Что такое common_dictionary и как он выглядит"
      ]
    },
    {
      "cell_type": "code",
      "source": [
        "len(common_dictionary)"
      ],
      "metadata": {
        "colab": {
          "base_uri": "https://localhost:8080/"
        },
        "id": "ozCl_2RI-WVx",
        "outputId": "d1b31437-cbbd-4b82-b414-b350561fc625"
      },
      "execution_count": null,
      "outputs": [
        {
          "output_type": "execute_result",
          "data": {
            "text/plain": [
              "135646"
            ]
          },
          "metadata": {},
          "execution_count": 57
        }
      ]
    },
    {
      "cell_type": "code",
      "execution_count": null,
      "metadata": {
        "id": "LsOVuc1yrO0f",
        "outputId": "2200c19a-e4c0-4513-bd7b-e6681112a9fa",
        "colab": {
          "base_uri": "https://localhost:8080/",
          "height": 36
        }
      },
      "outputs": [
        {
          "output_type": "execute_result",
          "data": {
            "text/plain": [
              "'банк'"
            ],
            "application/vnd.google.colaboratory.intrinsic+json": {
              "type": "string"
            }
          },
          "metadata": {},
          "execution_count": 24
        }
      ],
      "source": [
        "common_dictionary[4]"
      ]
    },
    {
      "cell_type": "code",
      "source": [
        "# common_dictionary.id2token"
      ],
      "metadata": {
        "id": "L9PtOWW97xPr"
      },
      "execution_count": null,
      "outputs": []
    },
    {
      "cell_type": "code",
      "source": [
        "common_dictionary.doc2bow(['коллега', 'пошел', 'пить', 'чай'], allow_update=True)"
      ],
      "metadata": {
        "colab": {
          "base_uri": "https://localhost:8080/"
        },
        "id": "liZN1S1D82Zi",
        "outputId": "5913e9c9-1c40-4f7f-a131-312fdb16c7ff"
      },
      "execution_count": null,
      "outputs": [
        {
          "output_type": "execute_result",
          "data": {
            "text/plain": [
              "[(993, 1), (6129, 1), (12270, 1), (135645, 1)]"
            ]
          },
          "metadata": {},
          "execution_count": 64
        }
      ]
    },
    {
      "cell_type": "markdown",
      "metadata": {
        "id": "g8FQaUKnrO0h"
      },
      "source": [
        "Все просто - это словарь наших слов"
      ]
    },
    {
      "cell_type": "markdown",
      "metadata": {
        "id": "HXPsfhNYrO0i"
      },
      "source": [
        "Запускаем обучение"
      ]
    },
    {
      "cell_type": "code",
      "source": [
        "N_topic = 20"
      ],
      "metadata": {
        "id": "yKtJddFL8UjP"
      },
      "execution_count": null,
      "outputs": []
    },
    {
      "cell_type": "code",
      "execution_count": null,
      "metadata": {
        "id": "M7vErZgurO0j",
        "colab": {
          "base_uri": "https://localhost:8080/"
        },
        "outputId": "ab7a047a-3dc8-461a-80fa-3d28839ae937"
      },
      "outputs": [
        {
          "output_type": "stream",
          "name": "stdout",
          "text": [
            "CPU times: user 44.9 s, sys: 20.4 s, total: 1min 5s\n",
            "Wall time: 42.5 s\n"
          ]
        }
      ],
      "source": [
        "%%time\n",
        "from gensim.models import LdaModel\n",
        "\n",
        "# Обучаем модель на корпусе\n",
        "lda = LdaModel(common_corpus, num_topics=N_topic, id2word=common_dictionary)#, passes=10)"
      ]
    },
    {
      "cell_type": "code",
      "execution_count": null,
      "metadata": {
        "id": "wSqtDjVJrO0j"
      },
      "outputs": [],
      "source": [
        "from gensim.test.utils import datapath\n",
        "\n",
        "# Сохраняем модель на диск\n",
        "temp_file = datapath(\"model.lda\")\n",
        "lda.save(temp_file)"
      ]
    },
    {
      "cell_type": "code",
      "source": [
        "# Загружаем обученную модель с диска\n",
        "lda = LdaModel.load(temp_file)"
      ],
      "metadata": {
        "id": "HdhE3p_KysTd"
      },
      "execution_count": null,
      "outputs": []
    },
    {
      "cell_type": "code",
      "execution_count": null,
      "metadata": {
        "id": "P6AZMJMXrO0l",
        "outputId": "acfbf3bf-9da9-40a8-ab52-9a063cfd36e7",
        "colab": {
          "base_uri": "https://localhost:8080/"
        }
      },
      "outputs": [
        {
          "output_type": "stream",
          "name": "stdout",
          "text": [
            "['форвард', 'авангард', 'томаш', 'заборский', 'прокомментировать', 'игра', 'команда', 'матч', 'чемпионат', 'кхл', 'против', 'атланта', 'плохой', 'матч', 'нижний', 'новгород', 'против', 'торпедо', 'настраиваться', 'первый', 'минута', 'включиться', 'заборский', 'получиться', 'забросить', 'быстрый', 'гол', 'задать', 'хороший', 'темп', 'поединок', 'играть', 'хороший', 'сторона', 'пять', 'очко', 'выезд', 'девять', 'хороший']\n"
          ]
        },
        {
          "output_type": "execute_result",
          "data": {
            "text/plain": [
              "[(0, 0.059624992),\n",
              " (4, 0.12894765),\n",
              " (8, 0.0945728),\n",
              " (10, 0.033893187),\n",
              " (11, 0.23302326),\n",
              " (13, 0.2513201),\n",
              " (15, 0.043855436),\n",
              " (19, 0.13976257)]"
            ]
          },
          "metadata": {},
          "execution_count": 31
        }
      ],
      "source": [
        "# Создаем новый корпус документов, которые раньше не видели\n",
        "other_texts = list(news['title'].iloc[:3])\n",
        "other_corpus = [common_dictionary.doc2bow(text) for text in other_texts]\n",
        "\n",
        "unseen_doc = other_corpus[2]\n",
        "print(other_texts[2])\n",
        "lda[unseen_doc] "
      ]
    },
    {
      "cell_type": "markdown",
      "metadata": {
        "id": "wuxhnNakrO0k"
      },
      "source": [
        "Обучили модель. Теперь 2 вопроса:\n",
        "\n",
        "1. как выглядят наши темы\n",
        "2. как получить для документа вектор значений (вероятности принадлежности каждой теме)"
      ]
    },
    {
      "cell_type": "code",
      "execution_count": null,
      "metadata": {
        "id": "W0Q0uqACrO0m",
        "outputId": "c53c66c5-047d-4b16-9edf-6bd544d39334",
        "colab": {
          "base_uri": "https://localhost:8080/"
        }
      },
      "outputs": [
        {
          "output_type": "stream",
          "name": "stdout",
          "text": [
            "topic_0: газ гражданин научный общество фронт обращение народный\n",
            "topic_1: самолёт сша произойти нефть взрыв экипаж штат\n",
            "topic_2: исследование исследователь тыс рынок земля путин фонд\n",
            "topic_3: ракета век метод астроном солнце следователь станция\n",
            "topic_4: военный всё научный советский операция очень новый\n",
            "topic_5: полёт сша станция км орбита территория вода\n",
            "topic_6: млн рост составить цена доход ставка рубль\n",
            "topic_7: млрд россия эксперт система объём российский руб\n",
            "topic_8: журнал луна клетка мозг болезнь британский американский\n",
            "topic_9: самолёт поверхность проверка войско корабль белый полёт\n",
            "topic_10: население развитие проект технология россия риск первый\n",
            "topic_11: погибнуть восток затмение остров километр вирус сведение\n",
            "topic_12: сша россия санкция американский российский решение против\n",
            "topic_13: египет журнал белоруссия °с медицина польша европа\n",
            "topic_14: женщина мужчина продукция офицер вицепремьер белок мышь\n",
            "topic_15: учёный банк российский снижение россия новый космический\n",
            "topic_16: сотрудник источник статья россия рубль эксперимент москва\n",
            "topic_17: украина украинский крым киев двигатель российский власть\n",
            "topic_18: учёный день тело земля дом ребёнок музей\n",
            "topic_19: температура день сайт фестиваль мероприятие рейс праздник\n"
          ]
        }
      ],
      "source": [
        "x = lda.show_topics(num_topics=N_topic, num_words=7, formatted=False)\n",
        "topics_words = [(tp[0], [wd[0] for wd in tp[1]]) for tp in x]\n",
        "\n",
        "# Печатаем только слова\n",
        "for topic, words in topics_words:\n",
        "    print(f\"topic_{topic}: \" + \" \".join(words))"
      ]
    },
    {
      "cell_type": "markdown",
      "metadata": {
        "id": "54-NWqJlrO0m"
      },
      "source": [
        "Очень неплохо - большинство тем вполне можно описать о чем они"
      ]
    },
    {
      "cell_type": "markdown",
      "metadata": {
        "id": "Ty7ZrvUirO0n"
      },
      "source": [
        "Давайте напишем функцию, которая будет нам возвращать векторное представление новости"
      ]
    },
    {
      "cell_type": "code",
      "execution_count": null,
      "metadata": {
        "id": "KprjS5qLrO0o"
      },
      "outputs": [],
      "source": [
        "def get_lda_vector(lda, text):\n",
        "    unseen_doc = common_dictionary.doc2bow(text)\n",
        "    lda_tuple = lda[unseen_doc]\n",
        "\n",
        "    not_null_topics = dict(zip([i[0] for i in lda_tuple], [i[1] for i in lda_tuple]))\n",
        "\n",
        "    output_vector = []\n",
        "    for i in range(N_topic):\n",
        "        if i not in not_null_topics:\n",
        "            output_vector.append(0)\n",
        "        else:\n",
        "            output_vector.append(not_null_topics[i])\n",
        "    return np.array(output_vector)"
      ]
    },
    {
      "cell_type": "code",
      "source": [
        "get_lda_vector(lda, news['title'].iloc[0])"
      ],
      "metadata": {
        "colab": {
          "base_uri": "https://localhost:8080/"
        },
        "id": "Ior7y34i-Uwo",
        "outputId": "f7b41fe3-1b2a-46ac-a125-6457ac98e046"
      },
      "execution_count": null,
      "outputs": [
        {
          "output_type": "execute_result",
          "data": {
            "text/plain": [
              "array([0.        , 0.        , 0.        , 0.        , 0.02939074,\n",
              "       0.        , 0.        , 0.        , 0.        , 0.        ,\n",
              "       0.        , 0.01038849, 0.        , 0.04574998, 0.        ,\n",
              "       0.78688735, 0.12100451, 0.        , 0.        , 0.        ])"
            ]
          },
          "metadata": {},
          "execution_count": 34
        }
      ]
    },
    {
      "cell_type": "code",
      "execution_count": null,
      "metadata": {
        "id": "VbrPcaB6rO0o",
        "outputId": "0c286edb-917a-4e67-9656-42dbc74e52c0",
        "colab": {
          "base_uri": "https://localhost:8080/"
        }
      },
      "outputs": [
        {
          "output_type": "stream",
          "name": "stdout",
          "text": [
            "CPU times: user 35.6 s, sys: 19.2 s, total: 54.8 s\n",
            "Wall time: 33.1 s\n"
          ]
        }
      ],
      "source": [
        "%%time\n",
        "topic_matrix = pd.DataFrame([get_lda_vector(lda, text) for text in news['title'].values])\n",
        "topic_matrix.columns = [f'topic_{i}' for i in range(N_topic)]\n",
        "topic_matrix['doc_id'] = news['doc_id'].values\n",
        "topic_matrix = topic_matrix[['doc_id']+[f'topic_{i}' for i in range(N_topic)]]\n",
        "topic_matrix.head(5)"
      ]
    },
    {
      "cell_type": "code",
      "source": [
        "topic_matrix.head()"
      ],
      "metadata": {
        "colab": {
          "base_uri": "https://localhost:8080/",
          "height": 300
        },
        "id": "p99gDUJLbJMI",
        "outputId": "81b65093-38ba-45e3-d528-1d562771776d"
      },
      "execution_count": null,
      "outputs": [
        {
          "output_type": "execute_result",
          "data": {
            "text/plain": [
              "   doc_id   topic_0  topic_1   topic_2  topic_3   topic_4  topic_5   topic_6  \\\n",
              "0       6  0.000000  0.00000  0.000000      0.0  0.029391      0.0  0.000000   \n",
              "1    4896  0.000000  0.17385  0.000000      0.0  0.000000      0.0  0.000000   \n",
              "2    4897  0.059587  0.00000  0.000000      0.0  0.135865      0.0  0.000000   \n",
              "3    4898  0.042516  0.00000  0.000000      0.0  0.670645      0.0  0.225587   \n",
              "4    4899  0.000000  0.00000  0.039658      0.0  0.200525      0.0  0.000000   \n",
              "\n",
              "    topic_7  topic_8  ...  topic_10  topic_11  topic_12  topic_13  topic_14  \\\n",
              "0  0.000000  0.00000  ...  0.000000  0.010388       0.0  0.045750       0.0   \n",
              "1  0.136307  0.00000  ...  0.000000  0.205146       0.0  0.268718       0.0   \n",
              "2  0.000000  0.09366  ...  0.031991  0.232760       0.0  0.249670       0.0   \n",
              "3  0.000000  0.00000  ...  0.000000  0.000000       0.0  0.051497       0.0   \n",
              "4  0.000000  0.00000  ...  0.482313  0.000000       0.0  0.000000       0.0   \n",
              "\n",
              "   topic_15  topic_16  topic_17  topic_18  topic_19  \n",
              "0  0.786883  0.121009       0.0       0.0  0.000000  \n",
              "1  0.000000  0.197687       0.0       0.0  0.000000  \n",
              "2  0.042105  0.000000       0.0       0.0  0.139362  \n",
              "3  0.000000  0.000000       0.0       0.0  0.000000  \n",
              "4  0.255883  0.000000       0.0       0.0  0.000000  \n",
              "\n",
              "[5 rows x 21 columns]"
            ],
            "text/html": [
              "\n",
              "  <div id=\"df-1f12a212-4b4c-4ad7-a4ce-dbead54a4f35\">\n",
              "    <div class=\"colab-df-container\">\n",
              "      <div>\n",
              "<style scoped>\n",
              "    .dataframe tbody tr th:only-of-type {\n",
              "        vertical-align: middle;\n",
              "    }\n",
              "\n",
              "    .dataframe tbody tr th {\n",
              "        vertical-align: top;\n",
              "    }\n",
              "\n",
              "    .dataframe thead th {\n",
              "        text-align: right;\n",
              "    }\n",
              "</style>\n",
              "<table border=\"1\" class=\"dataframe\">\n",
              "  <thead>\n",
              "    <tr style=\"text-align: right;\">\n",
              "      <th></th>\n",
              "      <th>doc_id</th>\n",
              "      <th>topic_0</th>\n",
              "      <th>topic_1</th>\n",
              "      <th>topic_2</th>\n",
              "      <th>topic_3</th>\n",
              "      <th>topic_4</th>\n",
              "      <th>topic_5</th>\n",
              "      <th>topic_6</th>\n",
              "      <th>topic_7</th>\n",
              "      <th>topic_8</th>\n",
              "      <th>...</th>\n",
              "      <th>topic_10</th>\n",
              "      <th>topic_11</th>\n",
              "      <th>topic_12</th>\n",
              "      <th>topic_13</th>\n",
              "      <th>topic_14</th>\n",
              "      <th>topic_15</th>\n",
              "      <th>topic_16</th>\n",
              "      <th>topic_17</th>\n",
              "      <th>topic_18</th>\n",
              "      <th>topic_19</th>\n",
              "    </tr>\n",
              "  </thead>\n",
              "  <tbody>\n",
              "    <tr>\n",
              "      <th>0</th>\n",
              "      <td>6</td>\n",
              "      <td>0.000000</td>\n",
              "      <td>0.00000</td>\n",
              "      <td>0.000000</td>\n",
              "      <td>0.0</td>\n",
              "      <td>0.029391</td>\n",
              "      <td>0.0</td>\n",
              "      <td>0.000000</td>\n",
              "      <td>0.000000</td>\n",
              "      <td>0.00000</td>\n",
              "      <td>...</td>\n",
              "      <td>0.000000</td>\n",
              "      <td>0.010388</td>\n",
              "      <td>0.0</td>\n",
              "      <td>0.045750</td>\n",
              "      <td>0.0</td>\n",
              "      <td>0.786883</td>\n",
              "      <td>0.121009</td>\n",
              "      <td>0.0</td>\n",
              "      <td>0.0</td>\n",
              "      <td>0.000000</td>\n",
              "    </tr>\n",
              "    <tr>\n",
              "      <th>1</th>\n",
              "      <td>4896</td>\n",
              "      <td>0.000000</td>\n",
              "      <td>0.17385</td>\n",
              "      <td>0.000000</td>\n",
              "      <td>0.0</td>\n",
              "      <td>0.000000</td>\n",
              "      <td>0.0</td>\n",
              "      <td>0.000000</td>\n",
              "      <td>0.136307</td>\n",
              "      <td>0.00000</td>\n",
              "      <td>...</td>\n",
              "      <td>0.000000</td>\n",
              "      <td>0.205146</td>\n",
              "      <td>0.0</td>\n",
              "      <td>0.268718</td>\n",
              "      <td>0.0</td>\n",
              "      <td>0.000000</td>\n",
              "      <td>0.197687</td>\n",
              "      <td>0.0</td>\n",
              "      <td>0.0</td>\n",
              "      <td>0.000000</td>\n",
              "    </tr>\n",
              "    <tr>\n",
              "      <th>2</th>\n",
              "      <td>4897</td>\n",
              "      <td>0.059587</td>\n",
              "      <td>0.00000</td>\n",
              "      <td>0.000000</td>\n",
              "      <td>0.0</td>\n",
              "      <td>0.135865</td>\n",
              "      <td>0.0</td>\n",
              "      <td>0.000000</td>\n",
              "      <td>0.000000</td>\n",
              "      <td>0.09366</td>\n",
              "      <td>...</td>\n",
              "      <td>0.031991</td>\n",
              "      <td>0.232760</td>\n",
              "      <td>0.0</td>\n",
              "      <td>0.249670</td>\n",
              "      <td>0.0</td>\n",
              "      <td>0.042105</td>\n",
              "      <td>0.000000</td>\n",
              "      <td>0.0</td>\n",
              "      <td>0.0</td>\n",
              "      <td>0.139362</td>\n",
              "    </tr>\n",
              "    <tr>\n",
              "      <th>3</th>\n",
              "      <td>4898</td>\n",
              "      <td>0.042516</td>\n",
              "      <td>0.00000</td>\n",
              "      <td>0.000000</td>\n",
              "      <td>0.0</td>\n",
              "      <td>0.670645</td>\n",
              "      <td>0.0</td>\n",
              "      <td>0.225587</td>\n",
              "      <td>0.000000</td>\n",
              "      <td>0.00000</td>\n",
              "      <td>...</td>\n",
              "      <td>0.000000</td>\n",
              "      <td>0.000000</td>\n",
              "      <td>0.0</td>\n",
              "      <td>0.051497</td>\n",
              "      <td>0.0</td>\n",
              "      <td>0.000000</td>\n",
              "      <td>0.000000</td>\n",
              "      <td>0.0</td>\n",
              "      <td>0.0</td>\n",
              "      <td>0.000000</td>\n",
              "    </tr>\n",
              "    <tr>\n",
              "      <th>4</th>\n",
              "      <td>4899</td>\n",
              "      <td>0.000000</td>\n",
              "      <td>0.00000</td>\n",
              "      <td>0.039658</td>\n",
              "      <td>0.0</td>\n",
              "      <td>0.200525</td>\n",
              "      <td>0.0</td>\n",
              "      <td>0.000000</td>\n",
              "      <td>0.000000</td>\n",
              "      <td>0.00000</td>\n",
              "      <td>...</td>\n",
              "      <td>0.482313</td>\n",
              "      <td>0.000000</td>\n",
              "      <td>0.0</td>\n",
              "      <td>0.000000</td>\n",
              "      <td>0.0</td>\n",
              "      <td>0.255883</td>\n",
              "      <td>0.000000</td>\n",
              "      <td>0.0</td>\n",
              "      <td>0.0</td>\n",
              "      <td>0.000000</td>\n",
              "    </tr>\n",
              "  </tbody>\n",
              "</table>\n",
              "<p>5 rows × 21 columns</p>\n",
              "</div>\n",
              "      <button class=\"colab-df-convert\" onclick=\"convertToInteractive('df-1f12a212-4b4c-4ad7-a4ce-dbead54a4f35')\"\n",
              "              title=\"Convert this dataframe to an interactive table.\"\n",
              "              style=\"display:none;\">\n",
              "        \n",
              "  <svg xmlns=\"http://www.w3.org/2000/svg\" height=\"24px\"viewBox=\"0 0 24 24\"\n",
              "       width=\"24px\">\n",
              "    <path d=\"M0 0h24v24H0V0z\" fill=\"none\"/>\n",
              "    <path d=\"M18.56 5.44l.94 2.06.94-2.06 2.06-.94-2.06-.94-.94-2.06-.94 2.06-2.06.94zm-11 1L8.5 8.5l.94-2.06 2.06-.94-2.06-.94L8.5 2.5l-.94 2.06-2.06.94zm10 10l.94 2.06.94-2.06 2.06-.94-2.06-.94-.94-2.06-.94 2.06-2.06.94z\"/><path d=\"M17.41 7.96l-1.37-1.37c-.4-.4-.92-.59-1.43-.59-.52 0-1.04.2-1.43.59L10.3 9.45l-7.72 7.72c-.78.78-.78 2.05 0 2.83L4 21.41c.39.39.9.59 1.41.59.51 0 1.02-.2 1.41-.59l7.78-7.78 2.81-2.81c.8-.78.8-2.07 0-2.86zM5.41 20L4 18.59l7.72-7.72 1.47 1.35L5.41 20z\"/>\n",
              "  </svg>\n",
              "      </button>\n",
              "      \n",
              "  <style>\n",
              "    .colab-df-container {\n",
              "      display:flex;\n",
              "      flex-wrap:wrap;\n",
              "      gap: 12px;\n",
              "    }\n",
              "\n",
              "    .colab-df-convert {\n",
              "      background-color: #E8F0FE;\n",
              "      border: none;\n",
              "      border-radius: 50%;\n",
              "      cursor: pointer;\n",
              "      display: none;\n",
              "      fill: #1967D2;\n",
              "      height: 32px;\n",
              "      padding: 0 0 0 0;\n",
              "      width: 32px;\n",
              "    }\n",
              "\n",
              "    .colab-df-convert:hover {\n",
              "      background-color: #E2EBFA;\n",
              "      box-shadow: 0px 1px 2px rgba(60, 64, 67, 0.3), 0px 1px 3px 1px rgba(60, 64, 67, 0.15);\n",
              "      fill: #174EA6;\n",
              "    }\n",
              "\n",
              "    [theme=dark] .colab-df-convert {\n",
              "      background-color: #3B4455;\n",
              "      fill: #D2E3FC;\n",
              "    }\n",
              "\n",
              "    [theme=dark] .colab-df-convert:hover {\n",
              "      background-color: #434B5C;\n",
              "      box-shadow: 0px 1px 3px 1px rgba(0, 0, 0, 0.15);\n",
              "      filter: drop-shadow(0px 1px 2px rgba(0, 0, 0, 0.3));\n",
              "      fill: #FFFFFF;\n",
              "    }\n",
              "  </style>\n",
              "\n",
              "      <script>\n",
              "        const buttonEl =\n",
              "          document.querySelector('#df-1f12a212-4b4c-4ad7-a4ce-dbead54a4f35 button.colab-df-convert');\n",
              "        buttonEl.style.display =\n",
              "          google.colab.kernel.accessAllowed ? 'block' : 'none';\n",
              "\n",
              "        async function convertToInteractive(key) {\n",
              "          const element = document.querySelector('#df-1f12a212-4b4c-4ad7-a4ce-dbead54a4f35');\n",
              "          const dataTable =\n",
              "            await google.colab.kernel.invokeFunction('convertToInteractive',\n",
              "                                                     [key], {});\n",
              "          if (!dataTable) return;\n",
              "\n",
              "          const docLinkHtml = 'Like what you see? Visit the ' +\n",
              "            '<a target=\"_blank\" href=https://colab.research.google.com/notebooks/data_table.ipynb>data table notebook</a>'\n",
              "            + ' to learn more about interactive tables.';\n",
              "          element.innerHTML = '';\n",
              "          dataTable['output_type'] = 'display_data';\n",
              "          await google.colab.output.renderOutput(dataTable, element);\n",
              "          const docLink = document.createElement('div');\n",
              "          docLink.innerHTML = docLinkHtml;\n",
              "          element.appendChild(docLink);\n",
              "        }\n",
              "      </script>\n",
              "    </div>\n",
              "  </div>\n",
              "  "
            ]
          },
          "metadata": {},
          "execution_count": 36
        }
      ]
    },
    {
      "cell_type": "markdown",
      "metadata": {
        "id": "VUA1PoYtrO0p"
      },
      "source": [
        "Прекрасно, мы получили вектора наших новостей! И даже умеем интерпретировать получившиеся темы.\n",
        "\n",
        "Можно двигаться далее"
      ]
    },
    {
      "cell_type": "markdown",
      "metadata": {
        "id": "IuomDk2XrO0q"
      },
      "source": [
        "### Следующий шаг - векторные представления пользователей"
      ]
    },
    {
      "cell_type": "code",
      "execution_count": null,
      "metadata": {
        "scrolled": true,
        "id": "qoGsZWbFrO0r",
        "outputId": "d6bfa4fe-e0e5-491c-e17e-95c296cfd5bf",
        "colab": {
          "base_uri": "https://localhost:8080/",
          "height": 143
        }
      },
      "outputs": [
        {
          "output_type": "execute_result",
          "data": {
            "text/plain": [
              "       uid                                        articles\n",
              "0  u105138  [293672, 293328, 293001, 293622, 293126, 1852]\n",
              "1  u108690          [3405, 1739, 2972, 1158, 1599, 322665]\n",
              "2  u108339          [1845, 2009, 2356, 1424, 2939, 323389]"
            ],
            "text/html": [
              "\n",
              "  <div id=\"df-81f4a147-eb36-4342-aee6-16bf06465270\">\n",
              "    <div class=\"colab-df-container\">\n",
              "      <div>\n",
              "<style scoped>\n",
              "    .dataframe tbody tr th:only-of-type {\n",
              "        vertical-align: middle;\n",
              "    }\n",
              "\n",
              "    .dataframe tbody tr th {\n",
              "        vertical-align: top;\n",
              "    }\n",
              "\n",
              "    .dataframe thead th {\n",
              "        text-align: right;\n",
              "    }\n",
              "</style>\n",
              "<table border=\"1\" class=\"dataframe\">\n",
              "  <thead>\n",
              "    <tr style=\"text-align: right;\">\n",
              "      <th></th>\n",
              "      <th>uid</th>\n",
              "      <th>articles</th>\n",
              "    </tr>\n",
              "  </thead>\n",
              "  <tbody>\n",
              "    <tr>\n",
              "      <th>0</th>\n",
              "      <td>u105138</td>\n",
              "      <td>[293672, 293328, 293001, 293622, 293126, 1852]</td>\n",
              "    </tr>\n",
              "    <tr>\n",
              "      <th>1</th>\n",
              "      <td>u108690</td>\n",
              "      <td>[3405, 1739, 2972, 1158, 1599, 322665]</td>\n",
              "    </tr>\n",
              "    <tr>\n",
              "      <th>2</th>\n",
              "      <td>u108339</td>\n",
              "      <td>[1845, 2009, 2356, 1424, 2939, 323389]</td>\n",
              "    </tr>\n",
              "  </tbody>\n",
              "</table>\n",
              "</div>\n",
              "      <button class=\"colab-df-convert\" onclick=\"convertToInteractive('df-81f4a147-eb36-4342-aee6-16bf06465270')\"\n",
              "              title=\"Convert this dataframe to an interactive table.\"\n",
              "              style=\"display:none;\">\n",
              "        \n",
              "  <svg xmlns=\"http://www.w3.org/2000/svg\" height=\"24px\"viewBox=\"0 0 24 24\"\n",
              "       width=\"24px\">\n",
              "    <path d=\"M0 0h24v24H0V0z\" fill=\"none\"/>\n",
              "    <path d=\"M18.56 5.44l.94 2.06.94-2.06 2.06-.94-2.06-.94-.94-2.06-.94 2.06-2.06.94zm-11 1L8.5 8.5l.94-2.06 2.06-.94-2.06-.94L8.5 2.5l-.94 2.06-2.06.94zm10 10l.94 2.06.94-2.06 2.06-.94-2.06-.94-.94-2.06-.94 2.06-2.06.94z\"/><path d=\"M17.41 7.96l-1.37-1.37c-.4-.4-.92-.59-1.43-.59-.52 0-1.04.2-1.43.59L10.3 9.45l-7.72 7.72c-.78.78-.78 2.05 0 2.83L4 21.41c.39.39.9.59 1.41.59.51 0 1.02-.2 1.41-.59l7.78-7.78 2.81-2.81c.8-.78.8-2.07 0-2.86zM5.41 20L4 18.59l7.72-7.72 1.47 1.35L5.41 20z\"/>\n",
              "  </svg>\n",
              "      </button>\n",
              "      \n",
              "  <style>\n",
              "    .colab-df-container {\n",
              "      display:flex;\n",
              "      flex-wrap:wrap;\n",
              "      gap: 12px;\n",
              "    }\n",
              "\n",
              "    .colab-df-convert {\n",
              "      background-color: #E8F0FE;\n",
              "      border: none;\n",
              "      border-radius: 50%;\n",
              "      cursor: pointer;\n",
              "      display: none;\n",
              "      fill: #1967D2;\n",
              "      height: 32px;\n",
              "      padding: 0 0 0 0;\n",
              "      width: 32px;\n",
              "    }\n",
              "\n",
              "    .colab-df-convert:hover {\n",
              "      background-color: #E2EBFA;\n",
              "      box-shadow: 0px 1px 2px rgba(60, 64, 67, 0.3), 0px 1px 3px 1px rgba(60, 64, 67, 0.15);\n",
              "      fill: #174EA6;\n",
              "    }\n",
              "\n",
              "    [theme=dark] .colab-df-convert {\n",
              "      background-color: #3B4455;\n",
              "      fill: #D2E3FC;\n",
              "    }\n",
              "\n",
              "    [theme=dark] .colab-df-convert:hover {\n",
              "      background-color: #434B5C;\n",
              "      box-shadow: 0px 1px 3px 1px rgba(0, 0, 0, 0.15);\n",
              "      filter: drop-shadow(0px 1px 2px rgba(0, 0, 0, 0.3));\n",
              "      fill: #FFFFFF;\n",
              "    }\n",
              "  </style>\n",
              "\n",
              "      <script>\n",
              "        const buttonEl =\n",
              "          document.querySelector('#df-81f4a147-eb36-4342-aee6-16bf06465270 button.colab-df-convert');\n",
              "        buttonEl.style.display =\n",
              "          google.colab.kernel.accessAllowed ? 'block' : 'none';\n",
              "\n",
              "        async function convertToInteractive(key) {\n",
              "          const element = document.querySelector('#df-81f4a147-eb36-4342-aee6-16bf06465270');\n",
              "          const dataTable =\n",
              "            await google.colab.kernel.invokeFunction('convertToInteractive',\n",
              "                                                     [key], {});\n",
              "          if (!dataTable) return;\n",
              "\n",
              "          const docLinkHtml = 'Like what you see? Visit the ' +\n",
              "            '<a target=\"_blank\" href=https://colab.research.google.com/notebooks/data_table.ipynb>data table notebook</a>'\n",
              "            + ' to learn more about interactive tables.';\n",
              "          element.innerHTML = '';\n",
              "          dataTable['output_type'] = 'display_data';\n",
              "          await google.colab.output.renderOutput(dataTable, element);\n",
              "          const docLink = document.createElement('div');\n",
              "          docLink.innerHTML = docLinkHtml;\n",
              "          element.appendChild(docLink);\n",
              "        }\n",
              "      </script>\n",
              "    </div>\n",
              "  </div>\n",
              "  "
            ]
          },
          "metadata": {},
          "execution_count": 37
        }
      ],
      "source": [
        "users.head(3)"
      ]
    },
    {
      "cell_type": "code",
      "execution_count": null,
      "metadata": {
        "id": "yHXCN3VsrO0s"
      },
      "outputs": [],
      "source": [
        "doc_dict = dict(zip(topic_matrix['doc_id'].values, topic_matrix[[f'topic_{i}' for i in range(N_topic)]].values))"
      ]
    },
    {
      "cell_type": "code",
      "execution_count": null,
      "metadata": {
        "id": "XjdvHAB2rO0t",
        "outputId": "6324fb6c-e501-4d18-9fc4-5124d27c1b20",
        "colab": {
          "base_uri": "https://localhost:8080/"
        }
      },
      "outputs": [
        {
          "output_type": "execute_result",
          "data": {
            "text/plain": [
              "array([0.        , 0.        , 0.06297348, 0.        , 0.        ,\n",
              "       0.        , 0.09638987, 0.20467763, 0.05119617, 0.        ,\n",
              "       0.        , 0.        , 0.        , 0.02411617, 0.        ,\n",
              "       0.        , 0.26930398, 0.        , 0.        , 0.27834266])"
            ]
          },
          "metadata": {},
          "execution_count": 39
        }
      ],
      "source": [
        "doc_dict[293672]"
      ]
    },
    {
      "cell_type": "code",
      "execution_count": null,
      "metadata": {
        "id": "x_M9N6AQrO0u"
      },
      "outputs": [],
      "source": [
        "def get_user_embedding(user_articles_list, doc_dict):\n",
        "    user_articles_list = eval(user_articles_list)\n",
        "    user_vector = np.array([doc_dict[doc_id] for doc_id in user_articles_list])\n",
        "    # print(user_vector)\n",
        "    user_vector = np.mean(user_vector, 0)  # можно не среднее\n",
        "    return user_vector"
      ]
    },
    {
      "cell_type": "code",
      "execution_count": null,
      "metadata": {
        "id": "vflnQMlirO0v",
        "outputId": "9ef546d4-def1-413c-9c4d-c0c1f9289e4c",
        "colab": {
          "base_uri": "https://localhost:8080/"
        }
      },
      "outputs": [
        {
          "output_type": "execute_result",
          "data": {
            "text/plain": [
              "array([0.00839704, 0.03363492, 0.12655146, 0.02276696, 0.05084555,\n",
              "       0.04140265, 0.02769613, 0.07952709, 0.        , 0.03781746,\n",
              "       0.11936136, 0.00871514, 0.17524007, 0.        , 0.        ,\n",
              "       0.04450765, 0.16665564, 0.03296928, 0.01127196, 0.        ])"
            ]
          },
          "metadata": {},
          "execution_count": 68
        }
      ],
      "source": [
        "user_articles_list = users['articles'].iloc[33]\n",
        "\n",
        "get_user_embedding(user_articles_list, doc_dict)"
      ]
    },
    {
      "cell_type": "markdown",
      "metadata": {
        "id": "jYRrogoNrO0z"
      },
      "source": [
        "Теперь получим эмбединги для всех пользователей и проверим их качество на конкретной downstream-задаче"
      ]
    },
    {
      "cell_type": "code",
      "execution_count": null,
      "metadata": {
        "id": "D4TX-H1trO00",
        "outputId": "71b8dc78-9a1d-4985-9edb-8764739fc444",
        "colab": {
          "base_uri": "https://localhost:8080/"
        }
      },
      "outputs": [
        {
          "output_type": "stream",
          "name": "stdout",
          "text": [
            "CPU times: user 367 ms, sys: 7.07 ms, total: 374 ms\n",
            "Wall time: 376 ms\n"
          ]
        }
      ],
      "source": [
        "%%time\n",
        "user_embeddings = pd.DataFrame([i for i in users['articles'].apply(lambda x: get_user_embedding(x, doc_dict))])\n",
        "user_embeddings.columns = [f'topic_{i}' for i in range(N_topic)]\n",
        "user_embeddings['uid'] = users['uid'].values\n",
        "user_embeddings = user_embeddings[['uid']+[f'topic_{i}' for i in range(N_topic)]]\n",
        "user_embeddings.head(3)"
      ]
    },
    {
      "cell_type": "code",
      "source": [
        "user_embeddings.head()"
      ],
      "metadata": {
        "colab": {
          "base_uri": "https://localhost:8080/",
          "height": 300
        },
        "id": "f2j0Ze11b9lK",
        "outputId": "56155400-eebb-4145-a1d9-217544f0278b"
      },
      "execution_count": null,
      "outputs": [
        {
          "output_type": "execute_result",
          "data": {
            "text/plain": [
              "       uid   topic_0   topic_1   topic_2   topic_3   topic_4   topic_5  \\\n",
              "0  u105138  0.078194  0.041530  0.088182  0.033760  0.025025  0.011799   \n",
              "1  u108690  0.042996  0.021384  0.107959  0.014265  0.061713  0.017758   \n",
              "2  u108339  0.029091  0.053858  0.136195  0.017013  0.028197  0.022332   \n",
              "3  u101138  0.013934  0.021576  0.105204  0.105327  0.196960  0.040997   \n",
              "4  u108248  0.044178  0.036983  0.070137  0.017845  0.069270  0.002728   \n",
              "\n",
              "    topic_6   topic_7   topic_8  ...  topic_10  topic_11  topic_12  topic_13  \\\n",
              "0  0.040048  0.061401  0.070379  ...  0.010691  0.002029  0.065283  0.006149   \n",
              "1  0.031442  0.082301  0.008870  ...  0.068501  0.012900  0.112823  0.000000   \n",
              "2  0.000000  0.093738  0.014070  ...  0.059251  0.047359  0.095186  0.001793   \n",
              "3  0.000000  0.008140  0.004475  ...  0.000000  0.003167  0.006978  0.342165   \n",
              "4  0.021364  0.038199  0.073473  ...  0.074324  0.000000  0.022530  0.011154   \n",
              "\n",
              "   topic_14  topic_15  topic_16  topic_17  topic_18  topic_19  \n",
              "0  0.028419  0.012240  0.136621  0.078466  0.120043  0.075860  \n",
              "1  0.015990  0.040165  0.152291  0.133182  0.047141  0.014968  \n",
              "2  0.003184  0.019350  0.233897  0.046065  0.054548  0.027031  \n",
              "3  0.082546  0.029882  0.000000  0.012748  0.000000  0.008179  \n",
              "4  0.038364  0.056308  0.088928  0.131661  0.090157  0.087053  \n",
              "\n",
              "[5 rows x 21 columns]"
            ],
            "text/html": [
              "\n",
              "  <div id=\"df-5b7b8272-fcaa-4598-8b77-1da7962df3a9\">\n",
              "    <div class=\"colab-df-container\">\n",
              "      <div>\n",
              "<style scoped>\n",
              "    .dataframe tbody tr th:only-of-type {\n",
              "        vertical-align: middle;\n",
              "    }\n",
              "\n",
              "    .dataframe tbody tr th {\n",
              "        vertical-align: top;\n",
              "    }\n",
              "\n",
              "    .dataframe thead th {\n",
              "        text-align: right;\n",
              "    }\n",
              "</style>\n",
              "<table border=\"1\" class=\"dataframe\">\n",
              "  <thead>\n",
              "    <tr style=\"text-align: right;\">\n",
              "      <th></th>\n",
              "      <th>uid</th>\n",
              "      <th>topic_0</th>\n",
              "      <th>topic_1</th>\n",
              "      <th>topic_2</th>\n",
              "      <th>topic_3</th>\n",
              "      <th>topic_4</th>\n",
              "      <th>topic_5</th>\n",
              "      <th>topic_6</th>\n",
              "      <th>topic_7</th>\n",
              "      <th>topic_8</th>\n",
              "      <th>...</th>\n",
              "      <th>topic_10</th>\n",
              "      <th>topic_11</th>\n",
              "      <th>topic_12</th>\n",
              "      <th>topic_13</th>\n",
              "      <th>topic_14</th>\n",
              "      <th>topic_15</th>\n",
              "      <th>topic_16</th>\n",
              "      <th>topic_17</th>\n",
              "      <th>topic_18</th>\n",
              "      <th>topic_19</th>\n",
              "    </tr>\n",
              "  </thead>\n",
              "  <tbody>\n",
              "    <tr>\n",
              "      <th>0</th>\n",
              "      <td>u105138</td>\n",
              "      <td>0.078194</td>\n",
              "      <td>0.041530</td>\n",
              "      <td>0.088182</td>\n",
              "      <td>0.033760</td>\n",
              "      <td>0.025025</td>\n",
              "      <td>0.011799</td>\n",
              "      <td>0.040048</td>\n",
              "      <td>0.061401</td>\n",
              "      <td>0.070379</td>\n",
              "      <td>...</td>\n",
              "      <td>0.010691</td>\n",
              "      <td>0.002029</td>\n",
              "      <td>0.065283</td>\n",
              "      <td>0.006149</td>\n",
              "      <td>0.028419</td>\n",
              "      <td>0.012240</td>\n",
              "      <td>0.136621</td>\n",
              "      <td>0.078466</td>\n",
              "      <td>0.120043</td>\n",
              "      <td>0.075860</td>\n",
              "    </tr>\n",
              "    <tr>\n",
              "      <th>1</th>\n",
              "      <td>u108690</td>\n",
              "      <td>0.042996</td>\n",
              "      <td>0.021384</td>\n",
              "      <td>0.107959</td>\n",
              "      <td>0.014265</td>\n",
              "      <td>0.061713</td>\n",
              "      <td>0.017758</td>\n",
              "      <td>0.031442</td>\n",
              "      <td>0.082301</td>\n",
              "      <td>0.008870</td>\n",
              "      <td>...</td>\n",
              "      <td>0.068501</td>\n",
              "      <td>0.012900</td>\n",
              "      <td>0.112823</td>\n",
              "      <td>0.000000</td>\n",
              "      <td>0.015990</td>\n",
              "      <td>0.040165</td>\n",
              "      <td>0.152291</td>\n",
              "      <td>0.133182</td>\n",
              "      <td>0.047141</td>\n",
              "      <td>0.014968</td>\n",
              "    </tr>\n",
              "    <tr>\n",
              "      <th>2</th>\n",
              "      <td>u108339</td>\n",
              "      <td>0.029091</td>\n",
              "      <td>0.053858</td>\n",
              "      <td>0.136195</td>\n",
              "      <td>0.017013</td>\n",
              "      <td>0.028197</td>\n",
              "      <td>0.022332</td>\n",
              "      <td>0.000000</td>\n",
              "      <td>0.093738</td>\n",
              "      <td>0.014070</td>\n",
              "      <td>...</td>\n",
              "      <td>0.059251</td>\n",
              "      <td>0.047359</td>\n",
              "      <td>0.095186</td>\n",
              "      <td>0.001793</td>\n",
              "      <td>0.003184</td>\n",
              "      <td>0.019350</td>\n",
              "      <td>0.233897</td>\n",
              "      <td>0.046065</td>\n",
              "      <td>0.054548</td>\n",
              "      <td>0.027031</td>\n",
              "    </tr>\n",
              "    <tr>\n",
              "      <th>3</th>\n",
              "      <td>u101138</td>\n",
              "      <td>0.013934</td>\n",
              "      <td>0.021576</td>\n",
              "      <td>0.105204</td>\n",
              "      <td>0.105327</td>\n",
              "      <td>0.196960</td>\n",
              "      <td>0.040997</td>\n",
              "      <td>0.000000</td>\n",
              "      <td>0.008140</td>\n",
              "      <td>0.004475</td>\n",
              "      <td>...</td>\n",
              "      <td>0.000000</td>\n",
              "      <td>0.003167</td>\n",
              "      <td>0.006978</td>\n",
              "      <td>0.342165</td>\n",
              "      <td>0.082546</td>\n",
              "      <td>0.029882</td>\n",
              "      <td>0.000000</td>\n",
              "      <td>0.012748</td>\n",
              "      <td>0.000000</td>\n",
              "      <td>0.008179</td>\n",
              "    </tr>\n",
              "    <tr>\n",
              "      <th>4</th>\n",
              "      <td>u108248</td>\n",
              "      <td>0.044178</td>\n",
              "      <td>0.036983</td>\n",
              "      <td>0.070137</td>\n",
              "      <td>0.017845</td>\n",
              "      <td>0.069270</td>\n",
              "      <td>0.002728</td>\n",
              "      <td>0.021364</td>\n",
              "      <td>0.038199</td>\n",
              "      <td>0.073473</td>\n",
              "      <td>...</td>\n",
              "      <td>0.074324</td>\n",
              "      <td>0.000000</td>\n",
              "      <td>0.022530</td>\n",
              "      <td>0.011154</td>\n",
              "      <td>0.038364</td>\n",
              "      <td>0.056308</td>\n",
              "      <td>0.088928</td>\n",
              "      <td>0.131661</td>\n",
              "      <td>0.090157</td>\n",
              "      <td>0.087053</td>\n",
              "    </tr>\n",
              "  </tbody>\n",
              "</table>\n",
              "<p>5 rows × 21 columns</p>\n",
              "</div>\n",
              "      <button class=\"colab-df-convert\" onclick=\"convertToInteractive('df-5b7b8272-fcaa-4598-8b77-1da7962df3a9')\"\n",
              "              title=\"Convert this dataframe to an interactive table.\"\n",
              "              style=\"display:none;\">\n",
              "        \n",
              "  <svg xmlns=\"http://www.w3.org/2000/svg\" height=\"24px\"viewBox=\"0 0 24 24\"\n",
              "       width=\"24px\">\n",
              "    <path d=\"M0 0h24v24H0V0z\" fill=\"none\"/>\n",
              "    <path d=\"M18.56 5.44l.94 2.06.94-2.06 2.06-.94-2.06-.94-.94-2.06-.94 2.06-2.06.94zm-11 1L8.5 8.5l.94-2.06 2.06-.94-2.06-.94L8.5 2.5l-.94 2.06-2.06.94zm10 10l.94 2.06.94-2.06 2.06-.94-2.06-.94-.94-2.06-.94 2.06-2.06.94z\"/><path d=\"M17.41 7.96l-1.37-1.37c-.4-.4-.92-.59-1.43-.59-.52 0-1.04.2-1.43.59L10.3 9.45l-7.72 7.72c-.78.78-.78 2.05 0 2.83L4 21.41c.39.39.9.59 1.41.59.51 0 1.02-.2 1.41-.59l7.78-7.78 2.81-2.81c.8-.78.8-2.07 0-2.86zM5.41 20L4 18.59l7.72-7.72 1.47 1.35L5.41 20z\"/>\n",
              "  </svg>\n",
              "      </button>\n",
              "      \n",
              "  <style>\n",
              "    .colab-df-container {\n",
              "      display:flex;\n",
              "      flex-wrap:wrap;\n",
              "      gap: 12px;\n",
              "    }\n",
              "\n",
              "    .colab-df-convert {\n",
              "      background-color: #E8F0FE;\n",
              "      border: none;\n",
              "      border-radius: 50%;\n",
              "      cursor: pointer;\n",
              "      display: none;\n",
              "      fill: #1967D2;\n",
              "      height: 32px;\n",
              "      padding: 0 0 0 0;\n",
              "      width: 32px;\n",
              "    }\n",
              "\n",
              "    .colab-df-convert:hover {\n",
              "      background-color: #E2EBFA;\n",
              "      box-shadow: 0px 1px 2px rgba(60, 64, 67, 0.3), 0px 1px 3px 1px rgba(60, 64, 67, 0.15);\n",
              "      fill: #174EA6;\n",
              "    }\n",
              "\n",
              "    [theme=dark] .colab-df-convert {\n",
              "      background-color: #3B4455;\n",
              "      fill: #D2E3FC;\n",
              "    }\n",
              "\n",
              "    [theme=dark] .colab-df-convert:hover {\n",
              "      background-color: #434B5C;\n",
              "      box-shadow: 0px 1px 3px 1px rgba(0, 0, 0, 0.15);\n",
              "      filter: drop-shadow(0px 1px 2px rgba(0, 0, 0, 0.3));\n",
              "      fill: #FFFFFF;\n",
              "    }\n",
              "  </style>\n",
              "\n",
              "      <script>\n",
              "        const buttonEl =\n",
              "          document.querySelector('#df-5b7b8272-fcaa-4598-8b77-1da7962df3a9 button.colab-df-convert');\n",
              "        buttonEl.style.display =\n",
              "          google.colab.kernel.accessAllowed ? 'block' : 'none';\n",
              "\n",
              "        async function convertToInteractive(key) {\n",
              "          const element = document.querySelector('#df-5b7b8272-fcaa-4598-8b77-1da7962df3a9');\n",
              "          const dataTable =\n",
              "            await google.colab.kernel.invokeFunction('convertToInteractive',\n",
              "                                                     [key], {});\n",
              "          if (!dataTable) return;\n",
              "\n",
              "          const docLinkHtml = 'Like what you see? Visit the ' +\n",
              "            '<a target=\"_blank\" href=https://colab.research.google.com/notebooks/data_table.ipynb>data table notebook</a>'\n",
              "            + ' to learn more about interactive tables.';\n",
              "          element.innerHTML = '';\n",
              "          dataTable['output_type'] = 'display_data';\n",
              "          await google.colab.output.renderOutput(dataTable, element);\n",
              "          const docLink = document.createElement('div');\n",
              "          docLink.innerHTML = docLinkHtml;\n",
              "          element.appendChild(docLink);\n",
              "        }\n",
              "      </script>\n",
              "    </div>\n",
              "  </div>\n",
              "  "
            ]
          },
          "metadata": {},
          "execution_count": 43
        }
      ]
    },
    {
      "cell_type": "markdown",
      "metadata": {
        "id": "sNz_0xHmrO01"
      },
      "source": [
        "Датасет готов - можно попробовать обучить модель. Загрузим нашу разметку"
      ]
    },
    {
      "cell_type": "code",
      "source": [
        "!wget 'https://drive.google.com/uc?export=download&id=1nWKteQgEr9Rl8CwTRY7N2f7igevNH7oK' -O users_churn.csv"
      ],
      "metadata": {
        "colab": {
          "base_uri": "https://localhost:8080/"
        },
        "id": "MT74Vkzu_9Rx",
        "outputId": "c53e8bdb-0284-4dee-f461-1744ed9ce4e0"
      },
      "execution_count": null,
      "outputs": [
        {
          "output_type": "stream",
          "name": "stdout",
          "text": [
            "--2022-05-17 16:36:50--  https://drive.google.com/uc?export=download&id=1nWKteQgEr9Rl8CwTRY7N2f7igevNH7oK\n",
            "Resolving drive.google.com (drive.google.com)... 142.250.141.102, 142.250.141.113, 142.250.141.101, ...\n",
            "Connecting to drive.google.com (drive.google.com)|142.250.141.102|:443... connected.\n",
            "HTTP request sent, awaiting response... 303 See Other\n",
            "Location: https://doc-0k-c0-docs.googleusercontent.com/docs/securesc/ha0ro937gcuc7l7deffksulhg5h7mbp1/pdvucklavd8mgn4llskt54d8guhpq5hj/1652805375000/14904333240138417226/*/1nWKteQgEr9Rl8CwTRY7N2f7igevNH7oK?e=download [following]\n",
            "Warning: wildcards not supported in HTTP.\n",
            "--2022-05-17 16:36:50--  https://doc-0k-c0-docs.googleusercontent.com/docs/securesc/ha0ro937gcuc7l7deffksulhg5h7mbp1/pdvucklavd8mgn4llskt54d8guhpq5hj/1652805375000/14904333240138417226/*/1nWKteQgEr9Rl8CwTRY7N2f7igevNH7oK?e=download\n",
            "Resolving doc-0k-c0-docs.googleusercontent.com (doc-0k-c0-docs.googleusercontent.com)... 142.250.141.132, 2607:f8b0:4023:c0b::84\n",
            "Connecting to doc-0k-c0-docs.googleusercontent.com (doc-0k-c0-docs.googleusercontent.com)|142.250.141.132|:443... connected.\n",
            "HTTP request sent, awaiting response... 200 OK\n",
            "Length: 80010 (78K) [text/csv]\n",
            "Saving to: ‘users_churn.csv’\n",
            "\n",
            "users_churn.csv     100%[===================>]  78.13K  --.-KB/s    in 0.001s  \n",
            "\n",
            "2022-05-17 16:36:51 (60.5 MB/s) - ‘users_churn.csv’ saved [80010/80010]\n",
            "\n"
          ]
        }
      ]
    },
    {
      "cell_type": "code",
      "execution_count": null,
      "metadata": {
        "id": "D9jwMilJrO01",
        "outputId": "811bfada-c6f1-4b78-da45-945d42071a36",
        "colab": {
          "base_uri": "https://localhost:8080/",
          "height": 143
        }
      },
      "outputs": [
        {
          "output_type": "execute_result",
          "data": {
            "text/plain": [
              "       uid  churn\n",
              "0  u107120      0\n",
              "1  u102277      0\n",
              "2  u102444      0"
            ],
            "text/html": [
              "\n",
              "  <div id=\"df-4ab9813b-d7a2-480e-b275-9d69c6c20236\">\n",
              "    <div class=\"colab-df-container\">\n",
              "      <div>\n",
              "<style scoped>\n",
              "    .dataframe tbody tr th:only-of-type {\n",
              "        vertical-align: middle;\n",
              "    }\n",
              "\n",
              "    .dataframe tbody tr th {\n",
              "        vertical-align: top;\n",
              "    }\n",
              "\n",
              "    .dataframe thead th {\n",
              "        text-align: right;\n",
              "    }\n",
              "</style>\n",
              "<table border=\"1\" class=\"dataframe\">\n",
              "  <thead>\n",
              "    <tr style=\"text-align: right;\">\n",
              "      <th></th>\n",
              "      <th>uid</th>\n",
              "      <th>churn</th>\n",
              "    </tr>\n",
              "  </thead>\n",
              "  <tbody>\n",
              "    <tr>\n",
              "      <th>0</th>\n",
              "      <td>u107120</td>\n",
              "      <td>0</td>\n",
              "    </tr>\n",
              "    <tr>\n",
              "      <th>1</th>\n",
              "      <td>u102277</td>\n",
              "      <td>0</td>\n",
              "    </tr>\n",
              "    <tr>\n",
              "      <th>2</th>\n",
              "      <td>u102444</td>\n",
              "      <td>0</td>\n",
              "    </tr>\n",
              "  </tbody>\n",
              "</table>\n",
              "</div>\n",
              "      <button class=\"colab-df-convert\" onclick=\"convertToInteractive('df-4ab9813b-d7a2-480e-b275-9d69c6c20236')\"\n",
              "              title=\"Convert this dataframe to an interactive table.\"\n",
              "              style=\"display:none;\">\n",
              "        \n",
              "  <svg xmlns=\"http://www.w3.org/2000/svg\" height=\"24px\"viewBox=\"0 0 24 24\"\n",
              "       width=\"24px\">\n",
              "    <path d=\"M0 0h24v24H0V0z\" fill=\"none\"/>\n",
              "    <path d=\"M18.56 5.44l.94 2.06.94-2.06 2.06-.94-2.06-.94-.94-2.06-.94 2.06-2.06.94zm-11 1L8.5 8.5l.94-2.06 2.06-.94-2.06-.94L8.5 2.5l-.94 2.06-2.06.94zm10 10l.94 2.06.94-2.06 2.06-.94-2.06-.94-.94-2.06-.94 2.06-2.06.94z\"/><path d=\"M17.41 7.96l-1.37-1.37c-.4-.4-.92-.59-1.43-.59-.52 0-1.04.2-1.43.59L10.3 9.45l-7.72 7.72c-.78.78-.78 2.05 0 2.83L4 21.41c.39.39.9.59 1.41.59.51 0 1.02-.2 1.41-.59l7.78-7.78 2.81-2.81c.8-.78.8-2.07 0-2.86zM5.41 20L4 18.59l7.72-7.72 1.47 1.35L5.41 20z\"/>\n",
              "  </svg>\n",
              "      </button>\n",
              "      \n",
              "  <style>\n",
              "    .colab-df-container {\n",
              "      display:flex;\n",
              "      flex-wrap:wrap;\n",
              "      gap: 12px;\n",
              "    }\n",
              "\n",
              "    .colab-df-convert {\n",
              "      background-color: #E8F0FE;\n",
              "      border: none;\n",
              "      border-radius: 50%;\n",
              "      cursor: pointer;\n",
              "      display: none;\n",
              "      fill: #1967D2;\n",
              "      height: 32px;\n",
              "      padding: 0 0 0 0;\n",
              "      width: 32px;\n",
              "    }\n",
              "\n",
              "    .colab-df-convert:hover {\n",
              "      background-color: #E2EBFA;\n",
              "      box-shadow: 0px 1px 2px rgba(60, 64, 67, 0.3), 0px 1px 3px 1px rgba(60, 64, 67, 0.15);\n",
              "      fill: #174EA6;\n",
              "    }\n",
              "\n",
              "    [theme=dark] .colab-df-convert {\n",
              "      background-color: #3B4455;\n",
              "      fill: #D2E3FC;\n",
              "    }\n",
              "\n",
              "    [theme=dark] .colab-df-convert:hover {\n",
              "      background-color: #434B5C;\n",
              "      box-shadow: 0px 1px 3px 1px rgba(0, 0, 0, 0.15);\n",
              "      filter: drop-shadow(0px 1px 2px rgba(0, 0, 0, 0.3));\n",
              "      fill: #FFFFFF;\n",
              "    }\n",
              "  </style>\n",
              "\n",
              "      <script>\n",
              "        const buttonEl =\n",
              "          document.querySelector('#df-4ab9813b-d7a2-480e-b275-9d69c6c20236 button.colab-df-convert');\n",
              "        buttonEl.style.display =\n",
              "          google.colab.kernel.accessAllowed ? 'block' : 'none';\n",
              "\n",
              "        async function convertToInteractive(key) {\n",
              "          const element = document.querySelector('#df-4ab9813b-d7a2-480e-b275-9d69c6c20236');\n",
              "          const dataTable =\n",
              "            await google.colab.kernel.invokeFunction('convertToInteractive',\n",
              "                                                     [key], {});\n",
              "          if (!dataTable) return;\n",
              "\n",
              "          const docLinkHtml = 'Like what you see? Visit the ' +\n",
              "            '<a target=\"_blank\" href=https://colab.research.google.com/notebooks/data_table.ipynb>data table notebook</a>'\n",
              "            + ' to learn more about interactive tables.';\n",
              "          element.innerHTML = '';\n",
              "          dataTable['output_type'] = 'display_data';\n",
              "          await google.colab.output.renderOutput(dataTable, element);\n",
              "          const docLink = document.createElement('div');\n",
              "          docLink.innerHTML = docLinkHtml;\n",
              "          element.appendChild(docLink);\n",
              "        }\n",
              "      </script>\n",
              "    </div>\n",
              "  </div>\n",
              "  "
            ]
          },
          "metadata": {},
          "execution_count": 45
        }
      ],
      "source": [
        "target = pd.read_csv(\"users_churn.csv\")\n",
        "target.head(3)"
      ]
    },
    {
      "cell_type": "code",
      "execution_count": null,
      "metadata": {
        "id": "8QbVcdI4rO02",
        "outputId": "e775e10d-ef27-464b-87e8-ffd74e8748bb",
        "colab": {
          "base_uri": "https://localhost:8080/",
          "height": 237
        }
      },
      "outputs": [
        {
          "output_type": "execute_result",
          "data": {
            "text/plain": [
              "       uid   topic_0   topic_1   topic_2   topic_3   topic_4   topic_5  \\\n",
              "0  u105138  0.078194  0.041530  0.088182  0.033760  0.025025  0.011799   \n",
              "1  u108690  0.042996  0.021384  0.107959  0.014265  0.061713  0.017758   \n",
              "2  u108339  0.029091  0.053858  0.136195  0.017013  0.028197  0.022332   \n",
              "\n",
              "    topic_6   topic_7   topic_8  ...  topic_11  topic_12  topic_13  topic_14  \\\n",
              "0  0.040048  0.061401  0.070379  ...  0.002029  0.065283  0.006149  0.028419   \n",
              "1  0.031442  0.082301  0.008870  ...  0.012900  0.112823  0.000000  0.015990   \n",
              "2  0.000000  0.093738  0.014070  ...  0.047359  0.095186  0.001793  0.003184   \n",
              "\n",
              "   topic_15  topic_16  topic_17  topic_18  topic_19  churn  \n",
              "0  0.012240  0.136621  0.078466  0.120043  0.075860      0  \n",
              "1  0.040165  0.152291  0.133182  0.047141  0.014968      1  \n",
              "2  0.019350  0.233897  0.046065  0.054548  0.027031      1  \n",
              "\n",
              "[3 rows x 22 columns]"
            ],
            "text/html": [
              "\n",
              "  <div id=\"df-2cf45678-0806-4744-b3b5-e265b1afaa17\">\n",
              "    <div class=\"colab-df-container\">\n",
              "      <div>\n",
              "<style scoped>\n",
              "    .dataframe tbody tr th:only-of-type {\n",
              "        vertical-align: middle;\n",
              "    }\n",
              "\n",
              "    .dataframe tbody tr th {\n",
              "        vertical-align: top;\n",
              "    }\n",
              "\n",
              "    .dataframe thead th {\n",
              "        text-align: right;\n",
              "    }\n",
              "</style>\n",
              "<table border=\"1\" class=\"dataframe\">\n",
              "  <thead>\n",
              "    <tr style=\"text-align: right;\">\n",
              "      <th></th>\n",
              "      <th>uid</th>\n",
              "      <th>topic_0</th>\n",
              "      <th>topic_1</th>\n",
              "      <th>topic_2</th>\n",
              "      <th>topic_3</th>\n",
              "      <th>topic_4</th>\n",
              "      <th>topic_5</th>\n",
              "      <th>topic_6</th>\n",
              "      <th>topic_7</th>\n",
              "      <th>topic_8</th>\n",
              "      <th>...</th>\n",
              "      <th>topic_11</th>\n",
              "      <th>topic_12</th>\n",
              "      <th>topic_13</th>\n",
              "      <th>topic_14</th>\n",
              "      <th>topic_15</th>\n",
              "      <th>topic_16</th>\n",
              "      <th>topic_17</th>\n",
              "      <th>topic_18</th>\n",
              "      <th>topic_19</th>\n",
              "      <th>churn</th>\n",
              "    </tr>\n",
              "  </thead>\n",
              "  <tbody>\n",
              "    <tr>\n",
              "      <th>0</th>\n",
              "      <td>u105138</td>\n",
              "      <td>0.078194</td>\n",
              "      <td>0.041530</td>\n",
              "      <td>0.088182</td>\n",
              "      <td>0.033760</td>\n",
              "      <td>0.025025</td>\n",
              "      <td>0.011799</td>\n",
              "      <td>0.040048</td>\n",
              "      <td>0.061401</td>\n",
              "      <td>0.070379</td>\n",
              "      <td>...</td>\n",
              "      <td>0.002029</td>\n",
              "      <td>0.065283</td>\n",
              "      <td>0.006149</td>\n",
              "      <td>0.028419</td>\n",
              "      <td>0.012240</td>\n",
              "      <td>0.136621</td>\n",
              "      <td>0.078466</td>\n",
              "      <td>0.120043</td>\n",
              "      <td>0.075860</td>\n",
              "      <td>0</td>\n",
              "    </tr>\n",
              "    <tr>\n",
              "      <th>1</th>\n",
              "      <td>u108690</td>\n",
              "      <td>0.042996</td>\n",
              "      <td>0.021384</td>\n",
              "      <td>0.107959</td>\n",
              "      <td>0.014265</td>\n",
              "      <td>0.061713</td>\n",
              "      <td>0.017758</td>\n",
              "      <td>0.031442</td>\n",
              "      <td>0.082301</td>\n",
              "      <td>0.008870</td>\n",
              "      <td>...</td>\n",
              "      <td>0.012900</td>\n",
              "      <td>0.112823</td>\n",
              "      <td>0.000000</td>\n",
              "      <td>0.015990</td>\n",
              "      <td>0.040165</td>\n",
              "      <td>0.152291</td>\n",
              "      <td>0.133182</td>\n",
              "      <td>0.047141</td>\n",
              "      <td>0.014968</td>\n",
              "      <td>1</td>\n",
              "    </tr>\n",
              "    <tr>\n",
              "      <th>2</th>\n",
              "      <td>u108339</td>\n",
              "      <td>0.029091</td>\n",
              "      <td>0.053858</td>\n",
              "      <td>0.136195</td>\n",
              "      <td>0.017013</td>\n",
              "      <td>0.028197</td>\n",
              "      <td>0.022332</td>\n",
              "      <td>0.000000</td>\n",
              "      <td>0.093738</td>\n",
              "      <td>0.014070</td>\n",
              "      <td>...</td>\n",
              "      <td>0.047359</td>\n",
              "      <td>0.095186</td>\n",
              "      <td>0.001793</td>\n",
              "      <td>0.003184</td>\n",
              "      <td>0.019350</td>\n",
              "      <td>0.233897</td>\n",
              "      <td>0.046065</td>\n",
              "      <td>0.054548</td>\n",
              "      <td>0.027031</td>\n",
              "      <td>1</td>\n",
              "    </tr>\n",
              "  </tbody>\n",
              "</table>\n",
              "<p>3 rows × 22 columns</p>\n",
              "</div>\n",
              "      <button class=\"colab-df-convert\" onclick=\"convertToInteractive('df-2cf45678-0806-4744-b3b5-e265b1afaa17')\"\n",
              "              title=\"Convert this dataframe to an interactive table.\"\n",
              "              style=\"display:none;\">\n",
              "        \n",
              "  <svg xmlns=\"http://www.w3.org/2000/svg\" height=\"24px\"viewBox=\"0 0 24 24\"\n",
              "       width=\"24px\">\n",
              "    <path d=\"M0 0h24v24H0V0z\" fill=\"none\"/>\n",
              "    <path d=\"M18.56 5.44l.94 2.06.94-2.06 2.06-.94-2.06-.94-.94-2.06-.94 2.06-2.06.94zm-11 1L8.5 8.5l.94-2.06 2.06-.94-2.06-.94L8.5 2.5l-.94 2.06-2.06.94zm10 10l.94 2.06.94-2.06 2.06-.94-2.06-.94-.94-2.06-.94 2.06-2.06.94z\"/><path d=\"M17.41 7.96l-1.37-1.37c-.4-.4-.92-.59-1.43-.59-.52 0-1.04.2-1.43.59L10.3 9.45l-7.72 7.72c-.78.78-.78 2.05 0 2.83L4 21.41c.39.39.9.59 1.41.59.51 0 1.02-.2 1.41-.59l7.78-7.78 2.81-2.81c.8-.78.8-2.07 0-2.86zM5.41 20L4 18.59l7.72-7.72 1.47 1.35L5.41 20z\"/>\n",
              "  </svg>\n",
              "      </button>\n",
              "      \n",
              "  <style>\n",
              "    .colab-df-container {\n",
              "      display:flex;\n",
              "      flex-wrap:wrap;\n",
              "      gap: 12px;\n",
              "    }\n",
              "\n",
              "    .colab-df-convert {\n",
              "      background-color: #E8F0FE;\n",
              "      border: none;\n",
              "      border-radius: 50%;\n",
              "      cursor: pointer;\n",
              "      display: none;\n",
              "      fill: #1967D2;\n",
              "      height: 32px;\n",
              "      padding: 0 0 0 0;\n",
              "      width: 32px;\n",
              "    }\n",
              "\n",
              "    .colab-df-convert:hover {\n",
              "      background-color: #E2EBFA;\n",
              "      box-shadow: 0px 1px 2px rgba(60, 64, 67, 0.3), 0px 1px 3px 1px rgba(60, 64, 67, 0.15);\n",
              "      fill: #174EA6;\n",
              "    }\n",
              "\n",
              "    [theme=dark] .colab-df-convert {\n",
              "      background-color: #3B4455;\n",
              "      fill: #D2E3FC;\n",
              "    }\n",
              "\n",
              "    [theme=dark] .colab-df-convert:hover {\n",
              "      background-color: #434B5C;\n",
              "      box-shadow: 0px 1px 3px 1px rgba(0, 0, 0, 0.15);\n",
              "      filter: drop-shadow(0px 1px 2px rgba(0, 0, 0, 0.3));\n",
              "      fill: #FFFFFF;\n",
              "    }\n",
              "  </style>\n",
              "\n",
              "      <script>\n",
              "        const buttonEl =\n",
              "          document.querySelector('#df-2cf45678-0806-4744-b3b5-e265b1afaa17 button.colab-df-convert');\n",
              "        buttonEl.style.display =\n",
              "          google.colab.kernel.accessAllowed ? 'block' : 'none';\n",
              "\n",
              "        async function convertToInteractive(key) {\n",
              "          const element = document.querySelector('#df-2cf45678-0806-4744-b3b5-e265b1afaa17');\n",
              "          const dataTable =\n",
              "            await google.colab.kernel.invokeFunction('convertToInteractive',\n",
              "                                                     [key], {});\n",
              "          if (!dataTable) return;\n",
              "\n",
              "          const docLinkHtml = 'Like what you see? Visit the ' +\n",
              "            '<a target=\"_blank\" href=https://colab.research.google.com/notebooks/data_table.ipynb>data table notebook</a>'\n",
              "            + ' to learn more about interactive tables.';\n",
              "          element.innerHTML = '';\n",
              "          dataTable['output_type'] = 'display_data';\n",
              "          await google.colab.output.renderOutput(dataTable, element);\n",
              "          const docLink = document.createElement('div');\n",
              "          docLink.innerHTML = docLinkHtml;\n",
              "          element.appendChild(docLink);\n",
              "        }\n",
              "      </script>\n",
              "    </div>\n",
              "  </div>\n",
              "  "
            ]
          },
          "metadata": {},
          "execution_count": 46
        }
      ],
      "source": [
        "X = pd.merge(user_embeddings, target, 'left')\n",
        "X.head(3)"
      ]
    },
    {
      "cell_type": "code",
      "execution_count": null,
      "metadata": {
        "id": "U6c1-0YIrO02"
      },
      "outputs": [],
      "source": [
        "from sklearn.linear_model import LogisticRegression\n",
        "from sklearn.model_selection import train_test_split\n",
        "\n",
        "import matplotlib.pyplot as plt"
      ]
    },
    {
      "cell_type": "code",
      "execution_count": null,
      "metadata": {
        "id": "aKNKOn9srO03"
      },
      "outputs": [],
      "source": [
        "# разделим данные на train/test\n",
        "X_train, X_test, y_train, y_test = train_test_split(X[[f'topic_{i}' for i in range(N_topic)]], \n",
        "                                                    X['churn'], random_state=0)"
      ]
    },
    {
      "cell_type": "code",
      "execution_count": null,
      "metadata": {
        "id": "8TujsSGprO04",
        "outputId": "c84d9bb5-c257-4c4f-cb36-6ef0ad21fc77",
        "colab": {
          "base_uri": "https://localhost:8080/"
        }
      },
      "outputs": [
        {
          "output_type": "execute_result",
          "data": {
            "text/plain": [
              "LogisticRegression()"
            ]
          },
          "metadata": {},
          "execution_count": 49
        }
      ],
      "source": [
        "logreg = LogisticRegression()\n",
        "# обучим \n",
        "logreg.fit(X_train, y_train)"
      ]
    },
    {
      "cell_type": "code",
      "execution_count": null,
      "metadata": {
        "id": "cB9Y-S0mrO06",
        "outputId": "b3840189-d6e2-43cd-863b-72e7d1e0f060",
        "colab": {
          "base_uri": "https://localhost:8080/"
        }
      },
      "outputs": [
        {
          "output_type": "execute_result",
          "data": {
            "text/plain": [
              "array([0.17037946, 0.0252609 , 0.28576002, 0.51688766, 0.09346887,\n",
              "       0.04857319, 0.08321961, 0.03298561, 0.06483211, 0.22315477])"
            ]
          },
          "metadata": {},
          "execution_count": 50
        }
      ],
      "source": [
        "# наши прогнозы для тестовой выборки\n",
        "preds = logreg.predict_proba(X_test)[:, 1]\n",
        "preds[:10]"
      ]
    },
    {
      "cell_type": "markdown",
      "metadata": {
        "id": "HZ9S0UIGrO0-"
      },
      "source": [
        "### Рассчитаем Precision, Recall, F_score"
      ]
    },
    {
      "cell_type": "code",
      "source": [
        "from sklearn.metrics import (f1_score, roc_auc_score, precision_score,\n",
        "                             classification_report, precision_recall_curve, confusion_matrix)"
      ],
      "metadata": {
        "id": "29MnGc_B5bTY"
      },
      "execution_count": null,
      "outputs": []
    },
    {
      "cell_type": "code",
      "source": [
        "n = 50\n",
        "plt.figure(figsize=(10, 6))\n",
        "plt.plot(preds[:n], label='predict')\n",
        "plt.plot(y_test.values[:n], label='true')\n",
        "plt.title('ответ модели')\n",
        "plt.xlabel('№ примера')\n",
        "plt.ylabel('выход')\n",
        "plt.legend()\n",
        "plt.grid('On')\n",
        "plt.show()"
      ],
      "metadata": {
        "id": "62YZTfa1AhsW",
        "colab": {
          "base_uri": "https://localhost:8080/",
          "height": 404
        },
        "outputId": "f1d90f1c-69d9-4a64-bea2-7e2b81f62407"
      },
      "execution_count": null,
      "outputs": [
        {
          "output_type": "display_data",
          "data": {
            "text/plain": [
              "<Figure size 720x432 with 1 Axes>"
            ],
            "image/png": "[encoded data removed]"
          },
          "metadata": {
            "needs_background": "light"
          }
        }
      ]
    },
    {
      "cell_type": "code",
      "execution_count": null,
      "metadata": {
        "id": "nOw4lCrhrO0_",
        "outputId": "698ef796-a68d-4030-c912-82da565976d6",
        "colab": {
          "base_uri": "https://localhost:8080/"
        }
      },
      "outputs": [
        {
          "output_type": "stream",
          "name": "stdout",
          "text": [
            "Best Threshold=0.22846022096294097, F-Score=0.605, Precision=0.504, Recall=0.755\n"
          ]
        }
      ],
      "source": [
        "precision, recall, thresholds = precision_recall_curve(y_test, preds)\n",
        "fscore = (2 * precision * recall) / (precision + recall)\n",
        "# locate the index of the largest f score\n",
        "ix = np.argmax(fscore)\n",
        "print(f'Best Threshold={thresholds[ix]}, F-Score={fscore[ix]:.3f}, Precision={precision[ix]:.3f}, Recall={recall[ix]:.3f}')                                                                        "
      ]
    },
    {
      "cell_type": "code",
      "execution_count": null,
      "metadata": {
        "id": "4_7clnabrO1A"
      },
      "outputs": [],
      "source": [
        "def plot_confusion_matrix(cm, classes,\n",
        "                          normalize=False,\n",
        "                          title='Confusion matrix',\n",
        "                          cmap=plt.cm.Blues):\n",
        "    \"\"\"\n",
        "    This function prints and plots the confusion matrix.\n",
        "    Normalization can be applied by setting `normalize=True`.\n",
        "    \"\"\"\n",
        "    plt.imshow(cm, interpolation='nearest', cmap=cmap)\n",
        "    plt.title(title)\n",
        "    plt.colorbar()\n",
        "    tick_marks = np.arange(len(classes))\n",
        "    plt.xticks(tick_marks, classes, rotation=45)\n",
        "    plt.yticks(tick_marks, classes)\n",
        "\n",
        "    if normalize:\n",
        "        cm = cm.astype('float') / cm.sum(axis=1)[:, np.newaxis]\n",
        "        print(\"Normalized confusion matrix\")\n",
        "    else:\n",
        "        print('Confusion matrix, without normalization')\n",
        "\n",
        "    print(cm)\n",
        "\n",
        "    thresh = cm.max() / 2.\n",
        "    for i, j in itertools.product(range(cm.shape[0]), range(cm.shape[1])):\n",
        "        plt.text(j, i, cm[i, j],\n",
        "                 horizontalalignment=\"center\",\n",
        "                 color=\"white\" if cm[i, j] > thresh else \"black\")\n",
        "\n",
        "    plt.tight_layout()\n",
        "    plt.ylabel('True label')\n",
        "    plt.xlabel('Predicted label')"
      ]
    },
    {
      "cell_type": "code",
      "execution_count": null,
      "metadata": {
        "id": "XmsG89_srO1B",
        "outputId": "da9ada3f-c9ab-45d4-b369-5c5063a7500b",
        "colab": {
          "base_uri": "https://localhost:8080/",
          "height": 645
        }
      },
      "outputs": [
        {
          "output_type": "stream",
          "name": "stdout",
          "text": [
            "Confusion matrix, without normalization\n",
            "[[1573  182]\n",
            " [  61  184]]\n"
          ]
        },
        {
          "output_type": "display_data",
          "data": {
            "text/plain": [
              "<Figure size 720x576 with 2 Axes>"
            ],
            "image/png": "[encoded data removed]"
          },
          "metadata": {
            "needs_background": "light"
          }
        }
      ],
      "source": [
        "import itertools\n",
        "# мы уже нашли ранее \"оптимальный\" порог, когда максимизировали f_score\n",
        "font = {'size' : 15}\n",
        "\n",
        "plt.rc('font', **font)\n",
        "\n",
        "cnf_matrix = confusion_matrix(y_test, preds > thresholds[ix])\n",
        "\n",
        "plt.figure(figsize=(10, 8))\n",
        "plot_confusion_matrix(cnf_matrix, classes=['Non-Churn', 'churn'],\n",
        "                      title='Confusion matrix')\n",
        "plt.savefig(\"conf_matrix.png\")\n",
        "plt.show()"
      ]
    },
    {
      "cell_type": "code",
      "execution_count": null,
      "metadata": {
        "id": "q8RA79RJrO1C",
        "outputId": "86eea6c5-dd18-4c71-8628-135d10e3b3fa",
        "colab": {
          "base_uri": "https://localhost:8080/"
        }
      },
      "outputs": [
        {
          "output_type": "execute_result",
          "data": {
            "text/plain": [
              "0.9172742601314029"
            ]
          },
          "metadata": {},
          "execution_count": 56
        }
      ],
      "source": [
        "roc_auc_score(y_test, preds)"
      ]
    },
    {
      "cell_type": "markdown",
      "metadata": {
        "id": "zIAPv0qyrO1E"
      },
      "source": [
        "## Домашнее задание\n",
        "\n",
        "1. *Самостоятельно повторить tfidf (документация https://scikit-learn.org/stable/modules/generated/sklearn.feature_extraction.text.TfidfVectorizer.html)\n",
        "2. Модифицировать код функции get_user_embedding таким образом, чтобы считалось не среднее (как в примере np.mean), а медиана. Применить такое преобразование к данным, обучить модель прогнозирования оттока и посчитать метрики качества и сохранить их: roc auc, precision/recall/f_score (для 3 последних - подобрать оптимальный порог)\n",
        "3. Повторить п.2, но используя уже не медиану, а max\n",
        "4. *Воспользовавшись полученными знаниями из п.1, повторить пункт 2, но уже взвешивая новости по tfidf (взяв список новостей пользователя)\n",
        "    - подсказка 1: нужно получить веса-коэффициенты для каждого документа. Не все документы одинаково информативны и несут какой-то положительный сигнал\n",
        "    - подсказка 2: нужен именно idf, как вес.\n",
        "5. Сформировать на выходе единую таблицу, сравнивающую качество 2/3 разных метода получения эмбедингов пользователей: median, max, idf_mean по метрикам roc_auc, precision, recall, f_score\n",
        "6. Сделать самостоятельные выводы и предположения о том, почему тот или ной способ оказался эффективнее остальных"
      ]
    },
    {
      "cell_type": "markdown",
      "metadata": {
        "id": "6SG3_MJ7rO1F"
      },
      "source": [
        "## Дополнительные ссылки"
      ]
    },
    {
      "cell_type": "markdown",
      "metadata": {
        "id": "YMKShzIirO1G"
      },
      "source": [
        "1. http://www.machinelearning.ru/wiki/images/d/d5/Voron17survey-artm.pdf\n",
        "2. https://en.wikipedia.org/wiki/Latent_Dirichlet_allocation\n",
        "3. http://blog.echen.me/2011/08/22/introduction-to-latent-dirichlet-allocation/"
      ]
    }
  ],
  "metadata": {
    "kernelspec": {
      "display_name": "Python 3",
      "language": "python",
      "name": "python3"
    },
    "language_info": {
      "codemirror_mode": {
        "name": "ipython",
        "version": 3
      },
      "file_extension": ".py",
      "mimetype": "text/x-python",
      "name": "python",
      "nbconvert_exporter": "python",
      "pygments_lexer": "ipython3",
      "version": "3.7.3"
    },
    "colab": {
      "name": "Lesson_2.ipynb",
      "provenance": [],
      "collapsed_sections": [],
      "toc_visible": true
    }
  },
  "nbformat": 4,
  "nbformat_minor": 0
}