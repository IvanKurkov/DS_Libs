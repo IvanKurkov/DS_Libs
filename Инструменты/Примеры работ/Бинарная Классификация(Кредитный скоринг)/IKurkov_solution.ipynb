{
 "cells": [
  {
   "cell_type": "markdown",
   "id": "7be39117",
   "metadata": {},
   "source": [
    "#                                      Курсовой проект"
   ]
  },
  {
   "cell_type": "markdown",
   "id": "ef796e97",
   "metadata": {},
   "source": [
    "### Задача\n",
    "\n",
    "Требуется, на основании имеющихся данных о клиентах банка, построить модель, используя обучающий датасет, для прогнозирования невыполнения долговых обязательств по текущему кредиту. Выполнить прогноз для примеров из тестового датасета.\n",
    "\n",
    "#### Наименование файлов с данными\n",
    "\n",
    "course_project_train.csv - обучающий датасет\n",
    "course_project_test.csv - тестовый датасет\n",
    "\n",
    "#### Целевая переменная\n",
    "\n",
    "Credit Default - факт невыполнения кредитных обязательств\n",
    "\n",
    "#### Метрика качества\n",
    "\n",
    "F1-score (sklearn.metrics.f1_score)\n",
    "\n",
    "#### Требования к решению\n",
    "\n",
    "Целевая метрика\n",
    "\n",
    "F1 > 0.5\n",
    "Метрика оценивается по качеству прогноза для главного класса (1 - просрочка по кредиту)\n",
    "Решение должно содержать"
   ]
  },
  {
   "cell_type": "markdown",
   "id": "a47a7c63",
   "metadata": {},
   "source": [
    "### Описание датасета\n",
    "\n",
    "Home Ownership - домовладение\n",
    "\n",
    "Annual Income - годовой доход\n",
    "\n",
    "Years in current job - количество лет на текущем месте работы\n",
    "\n",
    "Tax Liens - налоговые обременения\n",
    "\n",
    "Number of Open Accounts - количество открытых счетов\n",
    "\n",
    "Years of Credit History - количество лет кредитной истории\n",
    "\n",
    "Maximum Open Credit - наибольший открытый кредит\n",
    "\n",
    "Number of Credit Problems - количество проблем с кредитом\n",
    "\n",
    "Months since last delinquent - количество месяцев с последней просрочки платежа\n",
    "\n",
    "Bankruptcies - банкротства\n",
    "\n",
    "Purpose - цель кредита\n",
    "\n",
    "Term - срок кредита\n",
    "\n",
    "Current Loan Amount - текущая сумма кредита\n",
    "\n",
    "Current Credit Balance - текущий кредитный баланс\n",
    "\n",
    "Monthly Debt - ежемесячный долг\n",
    "\n",
    "Credit Default - факт невыполнения кредитных обязательств (0 - погашен вовремя, 1 - просрочка)"
   ]
  },
  {
   "cell_type": "code",
   "execution_count": 366,
   "id": "8626d01c",
   "metadata": {},
   "outputs": [],
   "source": [
    "import numpy as np\n",
    "import pandas as pd\n",
    "import seaborn as sns\n",
    "import warnings\n",
    "import matplotlib.pyplot as plt\n",
    "warnings.filterwarnings('ignore')\n",
    "\n",
    "\n",
    "from sklearn.model_selection import GridSearchCV\n",
    "from sklearn.preprocessing import RobustScaler\n",
    "from sklearn.model_selection import train_test_split\n",
    "\n",
    "from scipy.stats import shapiro\n",
    "from scipy.stats import probplot\n",
    "from scipy.stats import ttest_ind, mannwhitneyu\n",
    "from scipy.stats import chi2_contingency\n",
    "from statsmodels.stats.weightstats import zconfint\n",
    "\n",
    "from sklearn.ensemble import GradientBoostingClassifier\n",
    "\n",
    "from sklearn.metrics import classification_report, f1_score, precision_score, recall_score, mean_squared_error as mse"
   ]
  },
  {
   "cell_type": "markdown",
   "id": "46d6a770",
   "metadata": {},
   "source": [
    "### Пути к директориям и файлам"
   ]
  },
  {
   "cell_type": "code",
   "execution_count": 367,
   "id": "c430477a",
   "metadata": {},
   "outputs": [],
   "source": [
    "TRAIN_DATASET_PATH = 'course_project_train.csv'\n",
    "TEST_DATASET_PATH = 'course_project_test.csv'"
   ]
  },
  {
   "cell_type": "code",
   "execution_count": 368,
   "id": "63c861aa",
   "metadata": {},
   "outputs": [],
   "source": [
    "df_train = pd.read_csv(TRAIN_DATASET_PATH)"
   ]
  },
  {
   "cell_type": "code",
   "execution_count": 369,
   "id": "fecdb145",
   "metadata": {},
   "outputs": [],
   "source": [
    "df_test = pd.read_csv(TEST_DATASET_PATH)"
   ]
  },
  {
   "cell_type": "code",
   "execution_count": 370,
   "id": "994c7929",
   "metadata": {},
   "outputs": [
    {
     "data": {
      "text/html": [
       "<div>\n",
       "<style scoped>\n",
       "    .dataframe tbody tr th:only-of-type {\n",
       "        vertical-align: middle;\n",
       "    }\n",
       "\n",
       "    .dataframe tbody tr th {\n",
       "        vertical-align: top;\n",
       "    }\n",
       "\n",
       "    .dataframe thead th {\n",
       "        text-align: right;\n",
       "    }\n",
       "</style>\n",
       "<table border=\"1\" class=\"dataframe\">\n",
       "  <thead>\n",
       "    <tr style=\"text-align: right;\">\n",
       "      <th></th>\n",
       "      <th>Home Ownership</th>\n",
       "      <th>Annual Income</th>\n",
       "      <th>Years in current job</th>\n",
       "      <th>Tax Liens</th>\n",
       "      <th>Number of Open Accounts</th>\n",
       "      <th>Years of Credit History</th>\n",
       "      <th>Maximum Open Credit</th>\n",
       "      <th>Number of Credit Problems</th>\n",
       "      <th>Months since last delinquent</th>\n",
       "      <th>Bankruptcies</th>\n",
       "      <th>Purpose</th>\n",
       "      <th>Term</th>\n",
       "      <th>Current Loan Amount</th>\n",
       "      <th>Current Credit Balance</th>\n",
       "      <th>Monthly Debt</th>\n",
       "      <th>Credit Score</th>\n",
       "      <th>Credit Default</th>\n",
       "    </tr>\n",
       "  </thead>\n",
       "  <tbody>\n",
       "    <tr>\n",
       "      <th>0</th>\n",
       "      <td>Own Home</td>\n",
       "      <td>482087.00000</td>\n",
       "      <td>NaN</td>\n",
       "      <td>0.00000</td>\n",
       "      <td>11.00000</td>\n",
       "      <td>26.30000</td>\n",
       "      <td>685960.00000</td>\n",
       "      <td>1.00000</td>\n",
       "      <td>NaN</td>\n",
       "      <td>1.00000</td>\n",
       "      <td>debt consolidation</td>\n",
       "      <td>Short Term</td>\n",
       "      <td>99999999.00000</td>\n",
       "      <td>47386.00000</td>\n",
       "      <td>7914.00000</td>\n",
       "      <td>749.00000</td>\n",
       "      <td>0</td>\n",
       "    </tr>\n",
       "    <tr>\n",
       "      <th>1</th>\n",
       "      <td>Own Home</td>\n",
       "      <td>1025487.00000</td>\n",
       "      <td>10+ years</td>\n",
       "      <td>0.00000</td>\n",
       "      <td>15.00000</td>\n",
       "      <td>15.30000</td>\n",
       "      <td>1181730.00000</td>\n",
       "      <td>0.00000</td>\n",
       "      <td>NaN</td>\n",
       "      <td>0.00000</td>\n",
       "      <td>debt consolidation</td>\n",
       "      <td>Long Term</td>\n",
       "      <td>264968.00000</td>\n",
       "      <td>394972.00000</td>\n",
       "      <td>18373.00000</td>\n",
       "      <td>737.00000</td>\n",
       "      <td>1</td>\n",
       "    </tr>\n",
       "    <tr>\n",
       "      <th>2</th>\n",
       "      <td>Home Mortgage</td>\n",
       "      <td>751412.00000</td>\n",
       "      <td>8 years</td>\n",
       "      <td>0.00000</td>\n",
       "      <td>11.00000</td>\n",
       "      <td>35.00000</td>\n",
       "      <td>1182434.00000</td>\n",
       "      <td>0.00000</td>\n",
       "      <td>NaN</td>\n",
       "      <td>0.00000</td>\n",
       "      <td>debt consolidation</td>\n",
       "      <td>Short Term</td>\n",
       "      <td>99999999.00000</td>\n",
       "      <td>308389.00000</td>\n",
       "      <td>13651.00000</td>\n",
       "      <td>742.00000</td>\n",
       "      <td>0</td>\n",
       "    </tr>\n",
       "    <tr>\n",
       "      <th>3</th>\n",
       "      <td>Own Home</td>\n",
       "      <td>805068.00000</td>\n",
       "      <td>6 years</td>\n",
       "      <td>0.00000</td>\n",
       "      <td>8.00000</td>\n",
       "      <td>22.50000</td>\n",
       "      <td>147400.00000</td>\n",
       "      <td>1.00000</td>\n",
       "      <td>NaN</td>\n",
       "      <td>1.00000</td>\n",
       "      <td>debt consolidation</td>\n",
       "      <td>Short Term</td>\n",
       "      <td>121396.00000</td>\n",
       "      <td>95855.00000</td>\n",
       "      <td>11338.00000</td>\n",
       "      <td>694.00000</td>\n",
       "      <td>0</td>\n",
       "    </tr>\n",
       "    <tr>\n",
       "      <th>4</th>\n",
       "      <td>Rent</td>\n",
       "      <td>776264.00000</td>\n",
       "      <td>8 years</td>\n",
       "      <td>0.00000</td>\n",
       "      <td>13.00000</td>\n",
       "      <td>13.60000</td>\n",
       "      <td>385836.00000</td>\n",
       "      <td>1.00000</td>\n",
       "      <td>NaN</td>\n",
       "      <td>0.00000</td>\n",
       "      <td>debt consolidation</td>\n",
       "      <td>Short Term</td>\n",
       "      <td>125840.00000</td>\n",
       "      <td>93309.00000</td>\n",
       "      <td>7180.00000</td>\n",
       "      <td>719.00000</td>\n",
       "      <td>0</td>\n",
       "    </tr>\n",
       "  </tbody>\n",
       "</table>\n",
       "</div>"
      ],
      "text/plain": [
       "  Home Ownership  Annual Income Years in current job  Tax Liens  \\\n",
       "0       Own Home   482087.00000                  NaN    0.00000   \n",
       "1       Own Home  1025487.00000            10+ years    0.00000   \n",
       "2  Home Mortgage   751412.00000              8 years    0.00000   \n",
       "3       Own Home   805068.00000              6 years    0.00000   \n",
       "4           Rent   776264.00000              8 years    0.00000   \n",
       "\n",
       "   Number of Open Accounts  Years of Credit History  Maximum Open Credit  \\\n",
       "0                 11.00000                 26.30000         685960.00000   \n",
       "1                 15.00000                 15.30000        1181730.00000   \n",
       "2                 11.00000                 35.00000        1182434.00000   \n",
       "3                  8.00000                 22.50000         147400.00000   \n",
       "4                 13.00000                 13.60000         385836.00000   \n",
       "\n",
       "   Number of Credit Problems  Months since last delinquent  Bankruptcies  \\\n",
       "0                    1.00000                           NaN       1.00000   \n",
       "1                    0.00000                           NaN       0.00000   \n",
       "2                    0.00000                           NaN       0.00000   \n",
       "3                    1.00000                           NaN       1.00000   \n",
       "4                    1.00000                           NaN       0.00000   \n",
       "\n",
       "              Purpose        Term  Current Loan Amount  \\\n",
       "0  debt consolidation  Short Term       99999999.00000   \n",
       "1  debt consolidation   Long Term         264968.00000   \n",
       "2  debt consolidation  Short Term       99999999.00000   \n",
       "3  debt consolidation  Short Term         121396.00000   \n",
       "4  debt consolidation  Short Term         125840.00000   \n",
       "\n",
       "   Current Credit Balance  Monthly Debt  Credit Score  Credit Default  \n",
       "0             47386.00000    7914.00000     749.00000               0  \n",
       "1            394972.00000   18373.00000     737.00000               1  \n",
       "2            308389.00000   13651.00000     742.00000               0  \n",
       "3             95855.00000   11338.00000     694.00000               0  \n",
       "4             93309.00000    7180.00000     719.00000               0  "
      ]
     },
     "execution_count": 370,
     "metadata": {},
     "output_type": "execute_result"
    }
   ],
   "source": [
    "df_train.head(5)"
   ]
  },
  {
   "cell_type": "code",
   "execution_count": 371,
   "id": "02f1bfa8",
   "metadata": {},
   "outputs": [
    {
     "name": "stdout",
     "output_type": "stream",
     "text": [
      "<class 'pandas.core.frame.DataFrame'>\n",
      "RangeIndex: 7500 entries, 0 to 7499\n",
      "Data columns (total 17 columns):\n",
      " #   Column                        Non-Null Count  Dtype  \n",
      "---  ------                        --------------  -----  \n",
      " 0   Home Ownership                7500 non-null   object \n",
      " 1   Annual Income                 5943 non-null   float64\n",
      " 2   Years in current job          7129 non-null   object \n",
      " 3   Tax Liens                     7500 non-null   float64\n",
      " 4   Number of Open Accounts       7500 non-null   float64\n",
      " 5   Years of Credit History       7500 non-null   float64\n",
      " 6   Maximum Open Credit           7500 non-null   float64\n",
      " 7   Number of Credit Problems     7500 non-null   float64\n",
      " 8   Months since last delinquent  3419 non-null   float64\n",
      " 9   Bankruptcies                  7486 non-null   float64\n",
      " 10  Purpose                       7500 non-null   object \n",
      " 11  Term                          7500 non-null   object \n",
      " 12  Current Loan Amount           7500 non-null   float64\n",
      " 13  Current Credit Balance        7500 non-null   float64\n",
      " 14  Monthly Debt                  7500 non-null   float64\n",
      " 15  Credit Score                  5943 non-null   float64\n",
      " 16  Credit Default                7500 non-null   int64  \n",
      "dtypes: float64(12), int64(1), object(4)\n",
      "memory usage: 996.2+ KB\n"
     ]
    }
   ],
   "source": [
    "df_train.info()"
   ]
  },
  {
   "cell_type": "markdown",
   "id": "074dd618",
   "metadata": {},
   "source": [
    "Оценка баланска классов"
   ]
  },
  {
   "cell_type": "code",
   "execution_count": 372,
   "id": "1aefa855",
   "metadata": {},
   "outputs": [
    {
     "data": {
      "text/plain": [
       "0   0.71827\n",
       "1   0.28173\n",
       "Name: Credit Default, dtype: float64"
      ]
     },
     "execution_count": 372,
     "metadata": {},
     "output_type": "execute_result"
    }
   ],
   "source": [
    "df_train['Credit Default'].value_counts(normalize=True)"
   ]
  },
  {
   "cell_type": "markdown",
   "id": "d7160d0b",
   "metadata": {},
   "source": [
    "Баланс достаточно сильно смещен в пользу 0 класса"
   ]
  },
  {
   "cell_type": "code",
   "execution_count": 373,
   "id": "e808bc61",
   "metadata": {},
   "outputs": [
    {
     "data": {
      "text/html": [
       "<div>\n",
       "<style scoped>\n",
       "    .dataframe tbody tr th:only-of-type {\n",
       "        vertical-align: middle;\n",
       "    }\n",
       "\n",
       "    .dataframe tbody tr th {\n",
       "        vertical-align: top;\n",
       "    }\n",
       "\n",
       "    .dataframe thead th {\n",
       "        text-align: right;\n",
       "    }\n",
       "</style>\n",
       "<table border=\"1\" class=\"dataframe\">\n",
       "  <thead>\n",
       "    <tr style=\"text-align: right;\">\n",
       "      <th></th>\n",
       "      <th>Annual Income</th>\n",
       "      <th>Tax Liens</th>\n",
       "      <th>Number of Open Accounts</th>\n",
       "      <th>Years of Credit History</th>\n",
       "      <th>Maximum Open Credit</th>\n",
       "      <th>Number of Credit Problems</th>\n",
       "      <th>Months since last delinquent</th>\n",
       "      <th>Bankruptcies</th>\n",
       "      <th>Current Loan Amount</th>\n",
       "      <th>Current Credit Balance</th>\n",
       "      <th>Monthly Debt</th>\n",
       "      <th>Credit Score</th>\n",
       "      <th>Credit Default</th>\n",
       "    </tr>\n",
       "  </thead>\n",
       "  <tbody>\n",
       "    <tr>\n",
       "      <th>count</th>\n",
       "      <td>5943.00000</td>\n",
       "      <td>7500.00000</td>\n",
       "      <td>7500.00000</td>\n",
       "      <td>7500.00000</td>\n",
       "      <td>7500.00000</td>\n",
       "      <td>7500.00000</td>\n",
       "      <td>3419.00000</td>\n",
       "      <td>7486.00000</td>\n",
       "      <td>7500.00000</td>\n",
       "      <td>7500.00000</td>\n",
       "      <td>7500.00000</td>\n",
       "      <td>5943.00000</td>\n",
       "      <td>7500.00000</td>\n",
       "    </tr>\n",
       "    <tr>\n",
       "      <th>mean</th>\n",
       "      <td>1366391.72017</td>\n",
       "      <td>0.03013</td>\n",
       "      <td>11.13093</td>\n",
       "      <td>18.31747</td>\n",
       "      <td>945153.72747</td>\n",
       "      <td>0.17000</td>\n",
       "      <td>34.69260</td>\n",
       "      <td>0.11715</td>\n",
       "      <td>11873177.44507</td>\n",
       "      <td>289833.23520</td>\n",
       "      <td>18314.45413</td>\n",
       "      <td>1151.08750</td>\n",
       "      <td>0.28173</td>\n",
       "    </tr>\n",
       "    <tr>\n",
       "      <th>std</th>\n",
       "      <td>845339.19963</td>\n",
       "      <td>0.27160</td>\n",
       "      <td>4.90892</td>\n",
       "      <td>7.04195</td>\n",
       "      <td>16026216.67085</td>\n",
       "      <td>0.49860</td>\n",
       "      <td>21.68881</td>\n",
       "      <td>0.34719</td>\n",
       "      <td>31926122.97473</td>\n",
       "      <td>317871.38238</td>\n",
       "      <td>11926.76467</td>\n",
       "      <td>1604.45142</td>\n",
       "      <td>0.44987</td>\n",
       "    </tr>\n",
       "    <tr>\n",
       "      <th>min</th>\n",
       "      <td>164597.00000</td>\n",
       "      <td>0.00000</td>\n",
       "      <td>2.00000</td>\n",
       "      <td>4.00000</td>\n",
       "      <td>0.00000</td>\n",
       "      <td>0.00000</td>\n",
       "      <td>0.00000</td>\n",
       "      <td>0.00000</td>\n",
       "      <td>11242.00000</td>\n",
       "      <td>0.00000</td>\n",
       "      <td>0.00000</td>\n",
       "      <td>585.00000</td>\n",
       "      <td>0.00000</td>\n",
       "    </tr>\n",
       "    <tr>\n",
       "      <th>25%</th>\n",
       "      <td>844341.00000</td>\n",
       "      <td>0.00000</td>\n",
       "      <td>8.00000</td>\n",
       "      <td>13.50000</td>\n",
       "      <td>279229.50000</td>\n",
       "      <td>0.00000</td>\n",
       "      <td>16.00000</td>\n",
       "      <td>0.00000</td>\n",
       "      <td>180169.00000</td>\n",
       "      <td>114256.50000</td>\n",
       "      <td>10067.50000</td>\n",
       "      <td>711.00000</td>\n",
       "      <td>0.00000</td>\n",
       "    </tr>\n",
       "    <tr>\n",
       "      <th>50%</th>\n",
       "      <td>1168386.00000</td>\n",
       "      <td>0.00000</td>\n",
       "      <td>10.00000</td>\n",
       "      <td>17.00000</td>\n",
       "      <td>478159.00000</td>\n",
       "      <td>0.00000</td>\n",
       "      <td>32.00000</td>\n",
       "      <td>0.00000</td>\n",
       "      <td>309573.00000</td>\n",
       "      <td>209323.00000</td>\n",
       "      <td>16076.50000</td>\n",
       "      <td>731.00000</td>\n",
       "      <td>0.00000</td>\n",
       "    </tr>\n",
       "    <tr>\n",
       "      <th>75%</th>\n",
       "      <td>1640137.00000</td>\n",
       "      <td>0.00000</td>\n",
       "      <td>14.00000</td>\n",
       "      <td>21.80000</td>\n",
       "      <td>793501.50000</td>\n",
       "      <td>0.00000</td>\n",
       "      <td>50.00000</td>\n",
       "      <td>0.00000</td>\n",
       "      <td>519882.00000</td>\n",
       "      <td>360406.25000</td>\n",
       "      <td>23818.00000</td>\n",
       "      <td>743.00000</td>\n",
       "      <td>1.00000</td>\n",
       "    </tr>\n",
       "    <tr>\n",
       "      <th>max</th>\n",
       "      <td>10149344.00000</td>\n",
       "      <td>7.00000</td>\n",
       "      <td>43.00000</td>\n",
       "      <td>57.70000</td>\n",
       "      <td>1304726170.00000</td>\n",
       "      <td>7.00000</td>\n",
       "      <td>118.00000</td>\n",
       "      <td>4.00000</td>\n",
       "      <td>99999999.00000</td>\n",
       "      <td>6506797.00000</td>\n",
       "      <td>136679.00000</td>\n",
       "      <td>7510.00000</td>\n",
       "      <td>1.00000</td>\n",
       "    </tr>\n",
       "  </tbody>\n",
       "</table>\n",
       "</div>"
      ],
      "text/plain": [
       "       Annual Income  Tax Liens  Number of Open Accounts  \\\n",
       "count     5943.00000 7500.00000               7500.00000   \n",
       "mean   1366391.72017    0.03013                 11.13093   \n",
       "std     845339.19963    0.27160                  4.90892   \n",
       "min     164597.00000    0.00000                  2.00000   \n",
       "25%     844341.00000    0.00000                  8.00000   \n",
       "50%    1168386.00000    0.00000                 10.00000   \n",
       "75%    1640137.00000    0.00000                 14.00000   \n",
       "max   10149344.00000    7.00000                 43.00000   \n",
       "\n",
       "       Years of Credit History  Maximum Open Credit  \\\n",
       "count               7500.00000           7500.00000   \n",
       "mean                  18.31747         945153.72747   \n",
       "std                    7.04195       16026216.67085   \n",
       "min                    4.00000              0.00000   \n",
       "25%                   13.50000         279229.50000   \n",
       "50%                   17.00000         478159.00000   \n",
       "75%                   21.80000         793501.50000   \n",
       "max                   57.70000     1304726170.00000   \n",
       "\n",
       "       Number of Credit Problems  Months since last delinquent  Bankruptcies  \\\n",
       "count                 7500.00000                    3419.00000    7486.00000   \n",
       "mean                     0.17000                      34.69260       0.11715   \n",
       "std                      0.49860                      21.68881       0.34719   \n",
       "min                      0.00000                       0.00000       0.00000   \n",
       "25%                      0.00000                      16.00000       0.00000   \n",
       "50%                      0.00000                      32.00000       0.00000   \n",
       "75%                      0.00000                      50.00000       0.00000   \n",
       "max                      7.00000                     118.00000       4.00000   \n",
       "\n",
       "       Current Loan Amount  Current Credit Balance  Monthly Debt  \\\n",
       "count           7500.00000              7500.00000    7500.00000   \n",
       "mean        11873177.44507            289833.23520   18314.45413   \n",
       "std         31926122.97473            317871.38238   11926.76467   \n",
       "min            11242.00000                 0.00000       0.00000   \n",
       "25%           180169.00000            114256.50000   10067.50000   \n",
       "50%           309573.00000            209323.00000   16076.50000   \n",
       "75%           519882.00000            360406.25000   23818.00000   \n",
       "max         99999999.00000           6506797.00000  136679.00000   \n",
       "\n",
       "       Credit Score  Credit Default  \n",
       "count    5943.00000      7500.00000  \n",
       "mean     1151.08750         0.28173  \n",
       "std      1604.45142         0.44987  \n",
       "min       585.00000         0.00000  \n",
       "25%       711.00000         0.00000  \n",
       "50%       731.00000         0.00000  \n",
       "75%       743.00000         1.00000  \n",
       "max      7510.00000         1.00000  "
      ]
     },
     "execution_count": 373,
     "metadata": {},
     "output_type": "execute_result"
    }
   ],
   "source": [
    "pd.set_option('display.float_format', lambda x: '%.5f' % x)\n",
    "df_train.describe()"
   ]
  },
  {
   "cell_type": "markdown",
   "id": "df0dc9ba",
   "metadata": {},
   "source": [
    "- Maximum Open Credit проверить на выбросы\n",
    "- Current Loan Amount подозрительное макс значение\n",
    "- Current Credit Balance - посмотреть выброс или нет.\n",
    "- Credit score -  посмотреть частоту значений, возможно верхняя граница это просто ошибка лишей цифры.\n",
    "- Current Credit Balance, Monthly Debt - посмотреть 0 значения."
   ]
  },
  {
   "cell_type": "markdown",
   "id": "ca014903",
   "metadata": {},
   "source": [
    "### Выбросы"
   ]
  },
  {
   "cell_type": "markdown",
   "id": "085629d2",
   "metadata": {},
   "source": [
    "#### Maximum Open Credit"
   ]
  },
  {
   "cell_type": "code",
   "execution_count": 374,
   "id": "45b3c103",
   "metadata": {},
   "outputs": [
    {
     "data": {
      "text/plain": [
       "<AxesSubplot:xlabel='Maximum Open Credit'>"
      ]
     },
     "execution_count": 374,
     "metadata": {},
     "output_type": "execute_result"
    },
    {
     "data": {
      "image/png": "[encoded data removed]",
      "text/plain": [
       "<Figure size 432x288 with 1 Axes>"
      ]
     },
     "metadata": {
      "needs_background": "light"
     },
     "output_type": "display_data"
    }
   ],
   "source": [
    "sns.boxplot(df_train['Maximum Open Credit'])"
   ]
  },
  {
   "cell_type": "markdown",
   "id": "e13c2c46",
   "metadata": {},
   "source": [
    "Значения совсем фантастические. Заменим все что выше q=0.995 медианой."
   ]
  },
  {
   "cell_type": "code",
   "execution_count": 375,
   "id": "4404cfb7",
   "metadata": {},
   "outputs": [],
   "source": [
    "max_open_credit = np.quantile(df_train['Maximum Open Credit'], q=0.995)\n",
    "max_open_credit_median = df_train['Maximum Open Credit'].median()\n",
    "df_train.loc[df_train['Maximum Open Credit'] > max_open_credit, 'Maximum Open Credit'] = max_open_credit_median"
   ]
  },
  {
   "cell_type": "code",
   "execution_count": 376,
   "id": "1e7a95c1",
   "metadata": {},
   "outputs": [
    {
     "data": {
      "text/plain": [
       "<AxesSubplot:xlabel='Maximum Open Credit', ylabel='Density'>"
      ]
     },
     "execution_count": 376,
     "metadata": {},
     "output_type": "execute_result"
    },
    {
     "data": {
      "image/png": "[encoded data removed]",
      "text/plain": [
       "<Figure size 432x288 with 1 Axes>"
      ]
     },
     "metadata": {
      "needs_background": "light"
     },
     "output_type": "display_data"
    }
   ],
   "source": [
    "sns.distplot(df_train['Maximum Open Credit'])"
   ]
  },
  {
   "cell_type": "code",
   "execution_count": 377,
   "id": "a3726f41",
   "metadata": {},
   "outputs": [
    {
     "data": {
      "text/plain": [
       "<AxesSubplot:xlabel='Maximum Open Credit'>"
      ]
     },
     "execution_count": 377,
     "metadata": {},
     "output_type": "execute_result"
    },
    {
     "data": {
      "image/png": "[encoded data removed]",
      "text/plain": [
       "<Figure size 432x288 with 1 Axes>"
      ]
     },
     "metadata": {
      "needs_background": "light"
     },
     "output_type": "display_data"
    }
   ],
   "source": [
    "sns.boxplot(df_train['Maximum Open Credit'])"
   ]
  },
  {
   "cell_type": "code",
   "execution_count": 378,
   "id": "3f593509",
   "metadata": {},
   "outputs": [
    {
     "data": {
      "text/plain": [
       "count      7500.00000\n",
       "mean     624807.57680\n",
       "std      566664.65146\n",
       "min           0.00000\n",
       "25%      279229.50000\n",
       "50%      478153.50000\n",
       "75%      786098.50000\n",
       "max     6183782.00000\n",
       "Name: Maximum Open Credit, dtype: float64"
      ]
     },
     "execution_count": 378,
     "metadata": {},
     "output_type": "execute_result"
    }
   ],
   "source": [
    "df_train['Maximum Open Credit'].describe()"
   ]
  },
  {
   "cell_type": "markdown",
   "id": "50855467",
   "metadata": {},
   "source": [
    "#### Current Loan Amount"
   ]
  },
  {
   "cell_type": "code",
   "execution_count": 379,
   "id": "c7154ec4",
   "metadata": {},
   "outputs": [
    {
     "data": {
      "text/plain": [
       "99999999.00000    870\n",
       "218064.00000        6\n",
       "89298.00000         6\n",
       "216106.00000        5\n",
       "265826.00000        5\n",
       "                 ... \n",
       "104324.00000        1\n",
       "201080.00000        1\n",
       "427812.00000        1\n",
       "665544.00000        1\n",
       "191136.00000        1\n",
       "Name: Current Loan Amount, Length: 5386, dtype: int64"
      ]
     },
     "execution_count": 379,
     "metadata": {},
     "output_type": "execute_result"
    }
   ],
   "source": [
    "df_train['Current Loan Amount'].value_counts()"
   ]
  },
  {
   "cell_type": "code",
   "execution_count": 380,
   "id": "eb151d73",
   "metadata": {},
   "outputs": [
    {
     "data": {
      "text/plain": [
       "<AxesSubplot:>"
      ]
     },
     "execution_count": 380,
     "metadata": {},
     "output_type": "execute_result"
    },
    {
     "data": {
      "image/png": "[encoded data removed]",
      "text/plain": [
       "<Figure size 432x288 with 1 Axes>"
      ]
     },
     "metadata": {
      "needs_background": "light"
     },
     "output_type": "display_data"
    }
   ],
   "source": [
    "df_train['Current Loan Amount'].hist(bins=25)"
   ]
  },
  {
   "cell_type": "markdown",
   "id": "58bd8409",
   "metadata": {},
   "source": [
    "Я так подозреваю значение 99999999 это правое скопление, явно не являющееся нормальным. Дальнейшее изучение этого значения показало, что выброс является своего рода меткой, т.к. все наблюдения с таким значением относятся к 0 классу."
   ]
  },
  {
   "cell_type": "code",
   "execution_count": 381,
   "id": "1123adeb",
   "metadata": {},
   "outputs": [
    {
     "data": {
      "text/plain": [
       "0    870\n",
       "Name: Credit Default, dtype: int64"
      ]
     },
     "execution_count": 381,
     "metadata": {},
     "output_type": "execute_result"
    }
   ],
   "source": [
    "df_train.loc[df_train['Current Loan Amount'] == 99999999, 'Credit Default'].value_counts()"
   ]
  },
  {
   "cell_type": "markdown",
   "id": "81cec0c3",
   "metadata": {},
   "source": [
    "#### Current Credit Balance"
   ]
  },
  {
   "cell_type": "code",
   "execution_count": 382,
   "id": "cec2f5aa",
   "metadata": {},
   "outputs": [
    {
     "data": {
      "text/plain": [
       "<AxesSubplot:xlabel='Current Credit Balance', ylabel='Density'>"
      ]
     },
     "execution_count": 382,
     "metadata": {},
     "output_type": "execute_result"
    },
    {
     "data": {
      "image/png": "[encoded data removed]",
      "text/plain": [
       "<Figure size 432x288 with 1 Axes>"
      ]
     },
     "metadata": {
      "needs_background": "light"
     },
     "output_type": "display_data"
    }
   ],
   "source": [
    "sns.distplot(df_train['Current Credit Balance'])"
   ]
  },
  {
   "cell_type": "markdown",
   "id": "f76653ba",
   "metadata": {},
   "source": [
    "Верхняя граница достаточно большая, но и не чтоб супербольшая. Хотя не известно, включается ли тут деньги лежащие на дебетовом счете в общую сумму. По идее можно было посмотреть  людей у которых кредитный счет выше чем сумма кредита. По идее, если на счету денег больше, чем сумма кредита, то что мешает человеку не пропустить выплату??"
   ]
  },
  {
   "cell_type": "code",
   "execution_count": 383,
   "id": "19827b2e",
   "metadata": {},
   "outputs": [
    {
     "data": {
      "text/plain": [
       "0   0.69661\n",
       "1   0.30339\n",
       "Name: Credit Default, dtype: float64"
      ]
     },
     "execution_count": 383,
     "metadata": {},
     "output_type": "execute_result"
    }
   ],
   "source": [
    "df_train.loc[df_train['Current Credit Balance'] > df_train['Current Loan Amount'], 'Credit Default'].value_counts(normalize=True)"
   ]
  },
  {
   "cell_type": "markdown",
   "id": "2e93b266",
   "metadata": {},
   "source": [
    "Практически не отличается от изначального распределения классов. Теория не подтвердилась."
   ]
  },
  {
   "cell_type": "markdown",
   "id": "45e85f6c",
   "metadata": {},
   "source": [
    "#### Monthly Debt"
   ]
  },
  {
   "cell_type": "markdown",
   "id": "b566cde4",
   "metadata": {},
   "source": [
    "Теперь нужно посмотреть нули."
   ]
  },
  {
   "cell_type": "code",
   "execution_count": 384,
   "id": "f6ce49f0",
   "metadata": {},
   "outputs": [
    {
     "data": {
      "text/plain": [
       "<AxesSubplot:xlabel='Monthly Debt', ylabel='Density'>"
      ]
     },
     "execution_count": 384,
     "metadata": {},
     "output_type": "execute_result"
    },
    {
     "data": {
      "image/png": "[encoded data removed]",
      "text/plain": [
       "<Figure size 432x288 with 1 Axes>"
      ]
     },
     "metadata": {
      "needs_background": "light"
     },
     "output_type": "display_data"
    }
   ],
   "source": [
    "sns.distplot(df_train['Monthly Debt'])"
   ]
  },
  {
   "cell_type": "code",
   "execution_count": 385,
   "id": "cf06d47a",
   "metadata": {},
   "outputs": [
    {
     "data": {
      "text/html": [
       "<div>\n",
       "<style scoped>\n",
       "    .dataframe tbody tr th:only-of-type {\n",
       "        vertical-align: middle;\n",
       "    }\n",
       "\n",
       "    .dataframe tbody tr th {\n",
       "        vertical-align: top;\n",
       "    }\n",
       "\n",
       "    .dataframe thead th {\n",
       "        text-align: right;\n",
       "    }\n",
       "</style>\n",
       "<table border=\"1\" class=\"dataframe\">\n",
       "  <thead>\n",
       "    <tr style=\"text-align: right;\">\n",
       "      <th></th>\n",
       "      <th>Home Ownership</th>\n",
       "      <th>Annual Income</th>\n",
       "      <th>Years in current job</th>\n",
       "      <th>Tax Liens</th>\n",
       "      <th>Number of Open Accounts</th>\n",
       "      <th>Years of Credit History</th>\n",
       "      <th>Maximum Open Credit</th>\n",
       "      <th>Number of Credit Problems</th>\n",
       "      <th>Months since last delinquent</th>\n",
       "      <th>Bankruptcies</th>\n",
       "      <th>Purpose</th>\n",
       "      <th>Term</th>\n",
       "      <th>Current Loan Amount</th>\n",
       "      <th>Current Credit Balance</th>\n",
       "      <th>Monthly Debt</th>\n",
       "      <th>Credit Score</th>\n",
       "      <th>Credit Default</th>\n",
       "    </tr>\n",
       "  </thead>\n",
       "  <tbody>\n",
       "    <tr>\n",
       "      <th>780</th>\n",
       "      <td>Home Mortgage</td>\n",
       "      <td>867749.00000</td>\n",
       "      <td>10+ years</td>\n",
       "      <td>0.00000</td>\n",
       "      <td>2.00000</td>\n",
       "      <td>16.50000</td>\n",
       "      <td>0.00000</td>\n",
       "      <td>0.00000</td>\n",
       "      <td>66.00000</td>\n",
       "      <td>0.00000</td>\n",
       "      <td>home improvements</td>\n",
       "      <td>Short Term</td>\n",
       "      <td>75350.00000</td>\n",
       "      <td>0.00000</td>\n",
       "      <td>0.00000</td>\n",
       "      <td>704.00000</td>\n",
       "      <td>0</td>\n",
       "    </tr>\n",
       "    <tr>\n",
       "      <th>1643</th>\n",
       "      <td>Rent</td>\n",
       "      <td>NaN</td>\n",
       "      <td>9 years</td>\n",
       "      <td>0.00000</td>\n",
       "      <td>3.00000</td>\n",
       "      <td>10.00000</td>\n",
       "      <td>0.00000</td>\n",
       "      <td>0.00000</td>\n",
       "      <td>NaN</td>\n",
       "      <td>0.00000</td>\n",
       "      <td>other</td>\n",
       "      <td>Short Term</td>\n",
       "      <td>332156.00000</td>\n",
       "      <td>0.00000</td>\n",
       "      <td>0.00000</td>\n",
       "      <td>NaN</td>\n",
       "      <td>1</td>\n",
       "    </tr>\n",
       "    <tr>\n",
       "      <th>3219</th>\n",
       "      <td>Home Mortgage</td>\n",
       "      <td>NaN</td>\n",
       "      <td>10+ years</td>\n",
       "      <td>0.00000</td>\n",
       "      <td>3.00000</td>\n",
       "      <td>18.50000</td>\n",
       "      <td>0.00000</td>\n",
       "      <td>0.00000</td>\n",
       "      <td>NaN</td>\n",
       "      <td>0.00000</td>\n",
       "      <td>debt consolidation</td>\n",
       "      <td>Short Term</td>\n",
       "      <td>79200.00000</td>\n",
       "      <td>0.00000</td>\n",
       "      <td>0.00000</td>\n",
       "      <td>NaN</td>\n",
       "      <td>0</td>\n",
       "    </tr>\n",
       "    <tr>\n",
       "      <th>3496</th>\n",
       "      <td>Rent</td>\n",
       "      <td>233567.00000</td>\n",
       "      <td>1 year</td>\n",
       "      <td>0.00000</td>\n",
       "      <td>7.00000</td>\n",
       "      <td>11.70000</td>\n",
       "      <td>0.00000</td>\n",
       "      <td>0.00000</td>\n",
       "      <td>0.00000</td>\n",
       "      <td>NaN</td>\n",
       "      <td>educational expenses</td>\n",
       "      <td>Short Term</td>\n",
       "      <td>210166.00000</td>\n",
       "      <td>0.00000</td>\n",
       "      <td>0.00000</td>\n",
       "      <td>746.00000</td>\n",
       "      <td>0</td>\n",
       "    </tr>\n",
       "    <tr>\n",
       "      <th>4165</th>\n",
       "      <td>Rent</td>\n",
       "      <td>1254513.00000</td>\n",
       "      <td>10+ years</td>\n",
       "      <td>0.00000</td>\n",
       "      <td>6.00000</td>\n",
       "      <td>23.40000</td>\n",
       "      <td>0.00000</td>\n",
       "      <td>0.00000</td>\n",
       "      <td>60.00000</td>\n",
       "      <td>0.00000</td>\n",
       "      <td>take a trip</td>\n",
       "      <td>Short Term</td>\n",
       "      <td>99999999.00000</td>\n",
       "      <td>0.00000</td>\n",
       "      <td>0.00000</td>\n",
       "      <td>748.00000</td>\n",
       "      <td>0</td>\n",
       "    </tr>\n",
       "    <tr>\n",
       "      <th>7124</th>\n",
       "      <td>Rent</td>\n",
       "      <td>NaN</td>\n",
       "      <td>1 year</td>\n",
       "      <td>0.00000</td>\n",
       "      <td>4.00000</td>\n",
       "      <td>11.00000</td>\n",
       "      <td>0.00000</td>\n",
       "      <td>0.00000</td>\n",
       "      <td>50.00000</td>\n",
       "      <td>0.00000</td>\n",
       "      <td>debt consolidation</td>\n",
       "      <td>Short Term</td>\n",
       "      <td>134024.00000</td>\n",
       "      <td>0.00000</td>\n",
       "      <td>0.00000</td>\n",
       "      <td>NaN</td>\n",
       "      <td>0</td>\n",
       "    </tr>\n",
       "  </tbody>\n",
       "</table>\n",
       "</div>"
      ],
      "text/plain": [
       "     Home Ownership  Annual Income Years in current job  Tax Liens  \\\n",
       "780   Home Mortgage   867749.00000            10+ years    0.00000   \n",
       "1643           Rent            NaN              9 years    0.00000   \n",
       "3219  Home Mortgage            NaN            10+ years    0.00000   \n",
       "3496           Rent   233567.00000               1 year    0.00000   \n",
       "4165           Rent  1254513.00000            10+ years    0.00000   \n",
       "7124           Rent            NaN               1 year    0.00000   \n",
       "\n",
       "      Number of Open Accounts  Years of Credit History  Maximum Open Credit  \\\n",
       "780                   2.00000                 16.50000              0.00000   \n",
       "1643                  3.00000                 10.00000              0.00000   \n",
       "3219                  3.00000                 18.50000              0.00000   \n",
       "3496                  7.00000                 11.70000              0.00000   \n",
       "4165                  6.00000                 23.40000              0.00000   \n",
       "7124                  4.00000                 11.00000              0.00000   \n",
       "\n",
       "      Number of Credit Problems  Months since last delinquent  Bankruptcies  \\\n",
       "780                     0.00000                      66.00000       0.00000   \n",
       "1643                    0.00000                           NaN       0.00000   \n",
       "3219                    0.00000                           NaN       0.00000   \n",
       "3496                    0.00000                       0.00000           NaN   \n",
       "4165                    0.00000                      60.00000       0.00000   \n",
       "7124                    0.00000                      50.00000       0.00000   \n",
       "\n",
       "                   Purpose        Term  Current Loan Amount  \\\n",
       "780      home improvements  Short Term          75350.00000   \n",
       "1643                 other  Short Term         332156.00000   \n",
       "3219    debt consolidation  Short Term          79200.00000   \n",
       "3496  educational expenses  Short Term         210166.00000   \n",
       "4165           take a trip  Short Term       99999999.00000   \n",
       "7124    debt consolidation  Short Term         134024.00000   \n",
       "\n",
       "      Current Credit Balance  Monthly Debt  Credit Score  Credit Default  \n",
       "780                  0.00000       0.00000     704.00000               0  \n",
       "1643                 0.00000       0.00000           NaN               1  \n",
       "3219                 0.00000       0.00000           NaN               0  \n",
       "3496                 0.00000       0.00000     746.00000               0  \n",
       "4165                 0.00000       0.00000     748.00000               0  \n",
       "7124                 0.00000       0.00000           NaN               0  "
      ]
     },
     "execution_count": 385,
     "metadata": {},
     "output_type": "execute_result"
    }
   ],
   "source": [
    "df_train.loc[df_train['Monthly Debt'] == 0]"
   ]
  },
  {
   "cell_type": "markdown",
   "id": "117b0847",
   "metadata": {},
   "source": [
    "Вообще ерунда, кредитная история много лет, максимальный кредит 0, при этом просрочка кредита у некторых имеется. В тоже время имеется взятый кредит, но выплата 0 в месяц. "
   ]
  },
  {
   "cell_type": "markdown",
   "id": "f580560e",
   "metadata": {},
   "source": [
    "Вообще нижняя планка меня удивляет, куча наблюдений, в которых короткое время кредита, при этом ежемесячный платеж  0.1% - 0.5%  от суммы. С другой стороны, конечно, если мне, грубо говоря, надо отдавать 100руб в месяц за кредит, то вероятность, что я отдам очень высока."
   ]
  },
  {
   "cell_type": "markdown",
   "id": "eb30f96c",
   "metadata": {},
   "source": [
    "#### Credit Score"
   ]
  },
  {
   "cell_type": "code",
   "execution_count": 386,
   "id": "0925ab05",
   "metadata": {},
   "outputs": [
    {
     "data": {
      "text/plain": [
       "<AxesSubplot:>"
      ]
     },
     "execution_count": 386,
     "metadata": {},
     "output_type": "execute_result"
    },
    {
     "data": {
      "image/png": "[encoded data removed]",
      "text/plain": [
       "<Figure size 432x288 with 1 Axes>"
      ]
     },
     "metadata": {
      "needs_background": "light"
     },
     "output_type": "display_data"
    }
   ],
   "source": [
    "df_train[\"Credit Score\"].hist(bins=25)"
   ]
  },
  {
   "cell_type": "code",
   "execution_count": 387,
   "id": "003e5ed2",
   "metadata": {},
   "outputs": [
    {
     "data": {
      "text/plain": [
       "1    400\n",
       "Name: Credit Default, dtype: int64"
      ]
     },
     "execution_count": 387,
     "metadata": {},
     "output_type": "execute_result"
    }
   ],
   "source": [
    "df_train.loc[df_train['Credit Score'] > 1000, 'Credit Default'].value_counts()"
   ]
  },
  {
   "cell_type": "markdown",
   "id": "f95e24cd",
   "metadata": {},
   "source": [
    "В признаке имеются наблюдения в которых значение умножено на 10, и все наблюдения с такими признакам относятся к 1 классу. Вероятнее всего это специально помеченные данные."
   ]
  },
  {
   "cell_type": "markdown",
   "id": "b3bc198a",
   "metadata": {},
   "source": [
    "### Пропуски"
   ]
  },
  {
   "cell_type": "markdown",
   "id": "6d555f38",
   "metadata": {},
   "source": [
    "#### Annual Income "
   ]
  },
  {
   "cell_type": "markdown",
   "id": "6ab53bb0",
   "metadata": {},
   "source": [
    "Подумаем, чем можно заполнить пропуски. Значений довольно много, просто какойто средней или медианой заполнять получится перекос. Либо делаем так и создаем признак, и отмечаем, что было пропущено значение, либо выбрать метод заполнения по хитрее. "
   ]
  },
  {
   "cell_type": "code",
   "execution_count": 388,
   "id": "47653e22",
   "metadata": {},
   "outputs": [
    {
     "data": {
      "text/plain": [
       "<AxesSubplot:xlabel='Annual Income', ylabel='Density'>"
      ]
     },
     "execution_count": 388,
     "metadata": {},
     "output_type": "execute_result"
    },
    {
     "data": {
      "image/png": "[encoded data removed]",
      "text/plain": [
       "<Figure size 432x288 with 1 Axes>"
      ]
     },
     "metadata": {
      "needs_background": "light"
     },
     "output_type": "display_data"
    }
   ],
   "source": [
    "sns.distplot(df_train[\"Annual Income\"])"
   ]
  },
  {
   "cell_type": "markdown",
   "id": "7b950f69",
   "metadata": {},
   "source": [
    "Можно посмотреть, как разделяется среднее по стажу работы."
   ]
  },
  {
   "cell_type": "code",
   "execution_count": 389,
   "id": "b498a0c9",
   "metadata": {},
   "outputs": [
    {
     "data": {
      "text/plain": [
       "Years in current job\n",
       "1 year      1268811.12060\n",
       "10+ years   1510598.04572\n",
       "2 years     1324516.68157\n",
       "3 years     1396487.28163\n",
       "4 years     1371733.44865\n",
       "5 years     1330785.57323\n",
       "6 years     1311730.11966\n",
       "7 years     1341805.04545\n",
       "8 years     1390800.27143\n",
       "9 years     1444429.35979\n",
       "< 1 year    1204723.05369\n",
       "Name: Annual Income, dtype: float64"
      ]
     },
     "execution_count": 389,
     "metadata": {},
     "output_type": "execute_result"
    }
   ],
   "source": [
    "df_train.groupby(by=\"Years in current job\")[\"Annual Income\"].mean()"
   ]
  },
  {
   "cell_type": "markdown",
   "id": "bf1e41a6",
   "metadata": {},
   "source": [
    "Не особо сильно, но явно виден рост зп со стажем, что стоило ожидать.\n",
    "В теории, ежемесячный платеж должен быть завязан на ЗП, можно посмотреть по матрице корреляции данный признак."
   ]
  },
  {
   "cell_type": "code",
   "execution_count": 390,
   "id": "89310eb4",
   "metadata": {},
   "outputs": [
    {
     "data": {
      "text/plain": [
       "Annual Income                   1.00000\n",
       "Tax Liens                       0.06624\n",
       "Number of Open Accounts         0.18852\n",
       "Years of Credit History         0.18653\n",
       "Maximum Open Credit             0.32666\n",
       "Number of Credit Problems      -0.01541\n",
       "Months since last delinquent   -0.10179\n",
       "Bankruptcies                   -0.06688\n",
       "Current Loan Amount             0.03208\n",
       "Current Credit Balance          0.38648\n",
       "Monthly Debt                    0.58482\n",
       "Credit Score                   -0.03783\n",
       "Credit Default                 -0.10138\n",
       "Name: Annual Income, dtype: float64"
      ]
     },
     "execution_count": 390,
     "metadata": {},
     "output_type": "execute_result"
    }
   ],
   "source": [
    "corr_matrix = df_train.corr()\n",
    "corr_matrix[\"Annual Income\"]"
   ]
  },
  {
   "cell_type": "markdown",
   "id": "2114646b",
   "metadata": {},
   "source": [
    "Я был прав, самая большая корреляция с Ежемесячным платежом. Можно например узнать соотношение средней ЗП по всем к средней Ежемесячных платежей, далее предсказывать пропущенные ЗП домножая на коэффициент."
   ]
  },
  {
   "cell_type": "code",
   "execution_count": 391,
   "id": "f68803bb",
   "metadata": {},
   "outputs": [],
   "source": [
    "annual_incom_coef = df_train[\"Annual Income\"].mean() / df_train['Monthly Debt'].mean()"
   ]
  },
  {
   "cell_type": "code",
   "execution_count": 392,
   "id": "b2d2bf1c",
   "metadata": {},
   "outputs": [],
   "source": [
    "df_train.loc[df_train[\"Annual Income\"].isnull(), \"Annual Income\"] = df_train[\"Monthly Debt\"] * annual_incom_coef"
   ]
  },
  {
   "cell_type": "code",
   "execution_count": 393,
   "id": "c6205dc5",
   "metadata": {},
   "outputs": [
    {
     "data": {
      "text/plain": [
       "<AxesSubplot:xlabel='Annual Income', ylabel='Density'>"
      ]
     },
     "execution_count": 393,
     "metadata": {},
     "output_type": "execute_result"
    },
    {
     "data": {
      "image/png": "[encoded data removed]",
      "text/plain": [
       "<Figure size 432x288 with 1 Axes>"
      ]
     },
     "metadata": {
      "needs_background": "light"
     },
     "output_type": "display_data"
    }
   ],
   "source": [
    "sns.distplot(df_train[\"Annual Income\"])"
   ]
  },
  {
   "cell_type": "markdown",
   "id": "11cbb0e9",
   "metadata": {},
   "source": [
    "Распределение значений более честное, на мой взгляд."
   ]
  },
  {
   "cell_type": "markdown",
   "id": "d25074fe",
   "metadata": {},
   "source": [
    "#### Years in current job"
   ]
  },
  {
   "cell_type": "markdown",
   "id": "61a53e49",
   "metadata": {},
   "source": [
    "Ну тут значений не много, заменим модой"
   ]
  },
  {
   "cell_type": "code",
   "execution_count": 394,
   "id": "a1aea119",
   "metadata": {},
   "outputs": [],
   "source": [
    "current_job_mode = df_train['Years in current job'].mode()[0]"
   ]
  },
  {
   "cell_type": "code",
   "execution_count": 395,
   "id": "935ddcd8",
   "metadata": {},
   "outputs": [],
   "source": [
    "df_train.loc[df_train['Years in current job'].isnull(), 'Years in current job'] = current_job_mode"
   ]
  },
  {
   "cell_type": "markdown",
   "id": "b8981bf1",
   "metadata": {},
   "source": [
    "#### Months since last delinquent"
   ]
  },
  {
   "cell_type": "markdown",
   "id": "6a12ca99",
   "metadata": {},
   "source": [
    "Признак не простой, вероятнее всего пропущенные значения, это клиенты которые никогда не просрачивали кредит, и важно это правильно объяснить модели т.к. это весомый довод выдать кредит. Мы не можем написать 0, т.к. это значит, что просрока была в это м месяце. Нужно большое число. Можно взять максимальное число из признака и также создать доп признак."
   ]
  },
  {
   "cell_type": "code",
   "execution_count": 396,
   "id": "a41f59b1",
   "metadata": {},
   "outputs": [
    {
     "data": {
      "text/plain": [
       "0   0.71249\n",
       "1   0.28751\n",
       "Name: Credit Default, dtype: float64"
      ]
     },
     "execution_count": 396,
     "metadata": {},
     "output_type": "execute_result"
    }
   ],
   "source": [
    "df_train.loc[df_train['Months since last delinquent'].notnull()]['Credit Default'].value_counts(normalize=True)"
   ]
  },
  {
   "cell_type": "code",
   "execution_count": 397,
   "id": "dd1e3908",
   "metadata": {},
   "outputs": [
    {
     "data": {
      "text/plain": [
       "0   0.72311\n",
       "1   0.27689\n",
       "Name: Credit Default, dtype: float64"
      ]
     },
     "execution_count": 397,
     "metadata": {},
     "output_type": "execute_result"
    }
   ],
   "source": [
    "df_train.loc[df_train['Months since last delinquent'].isnull()]['Credit Default'].value_counts(normalize=True)"
   ]
  },
  {
   "cell_type": "markdown",
   "id": "3e549507",
   "metadata": {},
   "source": [
    "Хотя даже такие ребята, которые не имели просрочки, имеют не сильное различие в целевом признаке.\n",
    "\n",
    "Попробуем следующий шаг: Предположим, что это всетаки люди, которые не просрачивали кредит. По этому заполним пропущенные значения года кредитной истории*12, и посмотрим,как это повлияет на качество."
   ]
  },
  {
   "cell_type": "code",
   "execution_count": 398,
   "id": "a65f1e07",
   "metadata": {},
   "outputs": [],
   "source": [
    "df_train['Delinquent'] = 1\n",
    "df_train.loc[df_train['Months since last delinquent'].isnull(), 'Delinquent'] = 0\n",
    "\n",
    "df_train.loc[df_train['Months since last delinquent'].isnull(), 'Months since last delinquent'] = df_train['Years of Credit History'] * 12"
   ]
  },
  {
   "cell_type": "code",
   "execution_count": 399,
   "id": "a1017001",
   "metadata": {},
   "outputs": [
    {
     "data": {
      "text/plain": [
       "<AxesSubplot:>"
      ]
     },
     "execution_count": 399,
     "metadata": {},
     "output_type": "execute_result"
    },
    {
     "data": {
      "image/png": "[encoded data removed]",
      "text/plain": [
       "<Figure size 432x288 with 1 Axes>"
      ]
     },
     "metadata": {
      "needs_background": "light"
     },
     "output_type": "display_data"
    }
   ],
   "source": [
    "df_train['Months since last delinquent'].hist(bins=50)"
   ]
  },
  {
   "cell_type": "markdown",
   "id": "ee0791ce",
   "metadata": {},
   "source": [
    "Рисковая практика, получился целый доп кластер. Попробуем пока оставить. С одной стороны информация то полезная, когда был послений прокол.. И доп признак, Были просрочки \\ Не было. \n"
   ]
  },
  {
   "cell_type": "markdown",
   "id": "e49aca77",
   "metadata": {},
   "source": [
    "#### Bankruptcies"
   ]
  },
  {
   "cell_type": "markdown",
   "id": "4307a3f7",
   "metadata": {},
   "source": [
    "Тут пропусков не много, можно заменить медианой."
   ]
  },
  {
   "cell_type": "code",
   "execution_count": 400,
   "id": "9bf5bb1a",
   "metadata": {},
   "outputs": [],
   "source": [
    "bankruptcies_median = df_train['Bankruptcies'].median()"
   ]
  },
  {
   "cell_type": "code",
   "execution_count": 401,
   "id": "4dc9c35b",
   "metadata": {},
   "outputs": [],
   "source": [
    "df_train.loc[df_train['Bankruptcies'].isnull(), 'Bankruptcies'] = bankruptcies_median"
   ]
  },
  {
   "cell_type": "markdown",
   "id": "9ca6bd60",
   "metadata": {},
   "source": [
    "#### Credit Score"
   ]
  },
  {
   "cell_type": "code",
   "execution_count": 402,
   "id": "88f51259",
   "metadata": {},
   "outputs": [
    {
     "data": {
      "text/plain": [
       "Annual Income                  -0.03783\n",
       "Tax Liens                       0.01058\n",
       "Number of Open Accounts         0.01610\n",
       "Years of Credit History        -0.01568\n",
       "Maximum Open Credit            -0.02496\n",
       "Number of Credit Problems      -0.01847\n",
       "Months since last delinquent   -0.01281\n",
       "Bankruptcies                   -0.02789\n",
       "Current Loan Amount            -0.10855\n",
       "Current Credit Balance         -0.00616\n",
       "Monthly Debt                    0.00023\n",
       "Credit Score                    1.00000\n",
       "Credit Default                  0.44205\n",
       "Delinquent                     -0.00108\n",
       "Name: Credit Score, dtype: float64"
      ]
     },
     "execution_count": 402,
     "metadata": {},
     "output_type": "execute_result"
    }
   ],
   "source": [
    "corr_matrix = df_train.corr()\n",
    "corr_matrix[\"Credit Score\"]"
   ]
  },
  {
   "cell_type": "markdown",
   "id": "0d47521d",
   "metadata": {},
   "source": [
    "Для более точного предсказания хорошо бы знать формулу расчета рейтинга, т.к. корреляции слабые, для нормальних предсказаний, заполним медианой."
   ]
  },
  {
   "cell_type": "code",
   "execution_count": 403,
   "id": "fa3651b0",
   "metadata": {},
   "outputs": [],
   "source": [
    "credit_score_median = df_train['Credit Score'].median()"
   ]
  },
  {
   "cell_type": "code",
   "execution_count": 404,
   "id": "ce6a830e",
   "metadata": {},
   "outputs": [],
   "source": [
    "df_train.loc[df_train['Credit Score'].isnull(), 'Credit Score'] = credit_score_median"
   ]
  },
  {
   "cell_type": "markdown",
   "id": "4dab9ade",
   "metadata": {},
   "source": [
    "### Обработка не числовых значений."
   ]
  },
  {
   "cell_type": "markdown",
   "id": "4d2b3304",
   "metadata": {},
   "source": [
    "#### Home Ownership"
   ]
  },
  {
   "cell_type": "code",
   "execution_count": 405,
   "id": "6dc3baea",
   "metadata": {},
   "outputs": [
    {
     "data": {
      "text/plain": [
       "Home Mortgage    3637\n",
       "Rent             3204\n",
       "Own Home          647\n",
       "Have Mortgage      12\n",
       "Name: Home Ownership, dtype: int64"
      ]
     },
     "execution_count": 405,
     "metadata": {},
     "output_type": "execute_result"
    }
   ],
   "source": [
    "df_train['Home Ownership'].value_counts()"
   ]
  },
  {
   "cell_type": "code",
   "execution_count": 406,
   "id": "818c4eb3",
   "metadata": {},
   "outputs": [
    {
     "data": {
      "text/plain": [
       "Home Ownership\n",
       "Have Mortgage   0.16667\n",
       "Home Mortgage   0.25186\n",
       "Own Home        0.29675\n",
       "Rent            0.31305\n",
       "Name: Credit Default, dtype: float64"
      ]
     },
     "execution_count": 406,
     "metadata": {},
     "output_type": "execute_result"
    }
   ],
   "source": [
    "df_train.groupby(by='Home Ownership')['Credit Default'].mean()"
   ]
  },
  {
   "cell_type": "markdown",
   "id": "688273d8",
   "metadata": {},
   "source": [
    "Чем больше среднее, тем больше наблюдений 1 класса. Интересно, что у тех, кто арендует дома\\квартиру, не погашен кредит чаще всего. Можно заменить тип домовладения, соответствующей статистикой."
   ]
  },
  {
   "cell_type": "code",
   "execution_count": 407,
   "id": "08ab265e",
   "metadata": {},
   "outputs": [],
   "source": [
    "home_ownership_credit_default_stat = df_train.groupby(by='Home Ownership')['Credit Default'].mean().to_dict()"
   ]
  },
  {
   "cell_type": "code",
   "execution_count": 408,
   "id": "958e75f5",
   "metadata": {},
   "outputs": [
    {
     "data": {
      "text/plain": [
       "{'Have Mortgage': 0.16666666666666666,\n",
       " 'Home Mortgage': 0.2518559252130877,\n",
       " 'Own Home': 0.29675425038639874,\n",
       " 'Rent': 0.3130461922596754}"
      ]
     },
     "execution_count": 408,
     "metadata": {},
     "output_type": "execute_result"
    }
   ],
   "source": [
    "home_ownership_credit_default_stat"
   ]
  },
  {
   "cell_type": "code",
   "execution_count": 409,
   "id": "679cb679",
   "metadata": {},
   "outputs": [],
   "source": [
    "df_train.replace({\"Home Ownership\": home_ownership_credit_default_stat}, inplace=True )"
   ]
  },
  {
   "cell_type": "markdown",
   "id": "d027fb52",
   "metadata": {},
   "source": [
    "#### Years in current job"
   ]
  },
  {
   "cell_type": "code",
   "execution_count": 410,
   "id": "047ae8cd",
   "metadata": {},
   "outputs": [
    {
     "data": {
      "text/plain": [
       "10+ years    2703\n",
       "2 years       705\n",
       "3 years       620\n",
       "< 1 year      563\n",
       "5 years       516\n",
       "1 year        504\n",
       "4 years       469\n",
       "6 years       426\n",
       "7 years       396\n",
       "8 years       339\n",
       "9 years       259\n",
       "Name: Years in current job, dtype: int64"
      ]
     },
     "execution_count": 410,
     "metadata": {},
     "output_type": "execute_result"
    }
   ],
   "source": [
    "df_train['Years in current job'].value_counts()"
   ]
  },
  {
   "cell_type": "markdown",
   "id": "4879cc77",
   "metadata": {},
   "source": [
    "Тут можно просто, перевести в непрерывный тип, т.к. по сути признак таким и является. "
   ]
  },
  {
   "cell_type": "code",
   "execution_count": 411,
   "id": "4fb4e58d",
   "metadata": {},
   "outputs": [],
   "source": [
    "years_in_current_job_dict = {'10+ years': 10, '2 years': 2, '3 years': 3, '< 1 year': 0, '5 years': 5, '1 year': 1, '4 years': 4, '6 years': 6, '7 years': 7, '8 years': 8, '9 years': 9}"
   ]
  },
  {
   "cell_type": "code",
   "execution_count": 412,
   "id": "b4c0f8f0",
   "metadata": {},
   "outputs": [],
   "source": [
    "df_train.replace({'Years in current job': years_in_current_job_dict}, inplace=True)"
   ]
  },
  {
   "cell_type": "markdown",
   "id": "395ee42a",
   "metadata": {},
   "source": [
    "#### Purpose"
   ]
  },
  {
   "cell_type": "code",
   "execution_count": 413,
   "id": "8814ba12",
   "metadata": {},
   "outputs": [
    {
     "data": {
      "text/plain": [
       "debt consolidation      5944\n",
       "other                    665\n",
       "home improvements        412\n",
       "business loan            129\n",
       "buy a car                 96\n",
       "medical bills             71\n",
       "major purchase            40\n",
       "take a trip               37\n",
       "buy house                 34\n",
       "small business            26\n",
       "wedding                   15\n",
       "moving                    11\n",
       "educational expenses      10\n",
       "vacation                   8\n",
       "renewable energy           2\n",
       "Name: Purpose, dtype: int64"
      ]
     },
     "execution_count": 413,
     "metadata": {},
     "output_type": "execute_result"
    }
   ],
   "source": [
    "df_train['Purpose'].value_counts()"
   ]
  },
  {
   "cell_type": "markdown",
   "id": "2bb5a30d",
   "metadata": {},
   "source": [
    "Много значений. Можно перевести их в доли популярности. "
   ]
  },
  {
   "cell_type": "code",
   "execution_count": 414,
   "id": "5af0c356",
   "metadata": {},
   "outputs": [],
   "source": [
    "purpose_stat = df_train['Purpose'].value_counts(normalize=True).to_dict()"
   ]
  },
  {
   "cell_type": "code",
   "execution_count": 415,
   "id": "052e5ec7",
   "metadata": {},
   "outputs": [],
   "source": [
    "df_train.replace({'Purpose': purpose_stat}, inplace=True)"
   ]
  },
  {
   "cell_type": "markdown",
   "id": "32259a7d",
   "metadata": {},
   "source": [
    "####  Term"
   ]
  },
  {
   "cell_type": "code",
   "execution_count": 416,
   "id": "92753641",
   "metadata": {},
   "outputs": [
    {
     "data": {
      "text/plain": [
       "Short Term    5556\n",
       "Long Term     1944\n",
       "Name: Term, dtype: int64"
      ]
     },
     "execution_count": 416,
     "metadata": {},
     "output_type": "execute_result"
    }
   ],
   "source": [
    "df_train['Term'].value_counts()"
   ]
  },
  {
   "cell_type": "markdown",
   "id": "89009d31",
   "metadata": {},
   "source": [
    "Просто переведем в бинарный признак."
   ]
  },
  {
   "cell_type": "code",
   "execution_count": 417,
   "id": "9e32fb6d",
   "metadata": {},
   "outputs": [],
   "source": [
    "df_train['Term'] = (df_train['Term'] == 'Short Term').astype(int)"
   ]
  },
  {
   "cell_type": "markdown",
   "id": "d62f5fcb",
   "metadata": {},
   "source": [
    "### Доп фичи"
   ]
  },
  {
   "cell_type": "markdown",
   "id": "217f58b7",
   "metadata": {},
   "source": [
    "1) Попробуем посмотреть на сколько сильно влияет на классы коэффициент использования кредита."
   ]
  },
  {
   "cell_type": "code",
   "execution_count": null,
   "id": "d9ceca39",
   "metadata": {},
   "outputs": [],
   "source": [
    " df['Use coef'] = (df['Current Credit Balance'] / df['Current Loan Amount'])"
   ]
  },
  {
   "cell_type": "code",
   "execution_count": 418,
   "id": "0fb2fd29",
   "metadata": {},
   "outputs": [],
   "source": [
    "df_train['Use coef'] = df_train['Current Credit Balance'] / df_train['Current Loan Amount']"
   ]
  },
  {
   "cell_type": "markdown",
   "id": "38a7bf2e",
   "metadata": {},
   "source": [
    "Возьмем для анализа только не помеченные данные."
   ]
  },
  {
   "cell_type": "code",
   "execution_count": 419,
   "id": "227356bc",
   "metadata": {},
   "outputs": [],
   "source": [
    "df_1 = df_train.loc[df_train['Current Loan Amount']!= 99999999]"
   ]
  },
  {
   "cell_type": "code",
   "execution_count": 445,
   "id": "6ba49bc9",
   "metadata": {},
   "outputs": [
    {
     "data": {
      "text/plain": [
       "Term\n",
       "0   0.75771\n",
       "1   1.11430\n",
       "Name: Use coef, dtype: float64"
      ]
     },
     "execution_count": 445,
     "metadata": {},
     "output_type": "execute_result"
    }
   ],
   "source": [
    "df_1.groupby(by='Term')['Use coef'].mean()"
   ]
  },
  {
   "cell_type": "markdown",
   "id": "c84dec9e",
   "metadata": {},
   "source": [
    "Люди с долгосрочным кредитом тратят примерно на 60% меньше денег с кредитного счета."
   ]
  },
  {
   "cell_type": "code",
   "execution_count": 443,
   "id": "96800676",
   "metadata": {},
   "outputs": [
    {
     "data": {
      "text/plain": [
       "<AxesSubplot:xlabel='Use coef', ylabel='Density'>"
      ]
     },
     "execution_count": 443,
     "metadata": {},
     "output_type": "execute_result"
    },
    {
     "data": {
      "image/png": "[encoded data removed]",
      "text/plain": [
       "<Figure size 432x288 with 1 Axes>"
      ]
     },
     "metadata": {
      "needs_background": "light"
     },
     "output_type": "display_data"
    }
   ],
   "source": [
    "incom_spread = df_1[['Use coef', 'Credit Default']]\n",
    "incom_1 = incom_spread.loc[incom_spread['Credit Default'] == 1, 'Use coef']\n",
    "incom_0 = incom_spread.loc[incom_spread['Credit Default'] == 0, 'Use coef']\n",
    "sns.kdeplot(incom_0, shade=True,  color='g')\n",
    "sns.kdeplot(incom_1, shade=True,  color='r')\n"
   ]
  },
  {
   "cell_type": "code",
   "execution_count": 444,
   "id": "e13a7002",
   "metadata": {},
   "outputs": [
    {
     "data": {
      "text/plain": [
       "MannwhitneyuResult(statistic=5031450.0, pvalue=2.5706431399771105e-15)"
      ]
     },
     "execution_count": 444,
     "metadata": {},
     "output_type": "execute_result"
    }
   ],
   "source": [
    "mannwhitneyu(incom_0, incom_1)"
   ]
  },
  {
   "cell_type": "markdown",
   "id": "02390da2",
   "metadata": {},
   "source": [
    "pvalue достаточно мало, чтобы сказать, что признак статважен."
   ]
  },
  {
   "cell_type": "code",
   "execution_count": null,
   "id": "d752d8d5",
   "metadata": {},
   "outputs": [],
   "source": []
  },
  {
   "cell_type": "markdown",
   "id": "0b9c0c88",
   "metadata": {},
   "source": [
    "2) Получим предположительную длительность кредита"
   ]
  },
  {
   "cell_type": "code",
   "execution_count": 442,
   "id": "a3a31bce",
   "metadata": {},
   "outputs": [],
   "source": [
    "df_train['Time coef'] = df_train['Current Loan Amount'] / (df_train['Monthly Debt']+1)"
   ]
  },
  {
   "cell_type": "markdown",
   "id": "8dd49548",
   "metadata": {},
   "source": [
    "Возьмем для анализа только не помеченные данные."
   ]
  },
  {
   "cell_type": "code",
   "execution_count": 447,
   "id": "5e16f88a",
   "metadata": {},
   "outputs": [],
   "source": [
    "df_1 = df_train.loc[df_train['Current Loan Amount']!= 99999999]"
   ]
  },
  {
   "cell_type": "code",
   "execution_count": 453,
   "id": "5a73dcbf",
   "metadata": {},
   "outputs": [
    {
     "data": {
      "text/plain": [
       "<AxesSubplot:xlabel='Time coef', ylabel='Density'>"
      ]
     },
     "execution_count": 453,
     "metadata": {},
     "output_type": "execute_result"
    },
    {
     "data": {
      "image/png": "[encoded data removed]",
      "text/plain": [
       "<Figure size 432x288 with 1 Axes>"
      ]
     },
     "metadata": {
      "needs_background": "light"
     },
     "output_type": "display_data"
    }
   ],
   "source": [
    "incom_spread = df_1[['Time coef', 'Credit Default']]\n",
    "incom_1 = incom_spread.loc[incom_spread['Credit Default'] == 1, 'Time coef']\n",
    "incom_0 = incom_spread.loc[incom_spread['Credit Default'] == 0, 'Time coef']\n",
    "sns.kdeplot(incom_0, shade=True,  color='g')\n",
    "sns.kdeplot(incom_1, shade=True,  color='r')"
   ]
  },
  {
   "cell_type": "code",
   "execution_count": 454,
   "id": "446b37d3",
   "metadata": {},
   "outputs": [
    {
     "data": {
      "text/plain": [
       "MannwhitneyuResult(statistic=4536514.0, pvalue=0.0005862703071256868)"
      ]
     },
     "execution_count": 454,
     "metadata": {},
     "output_type": "execute_result"
    }
   ],
   "source": [
    "mannwhitneyu(incom_0, incom_1)"
   ]
  },
  {
   "cell_type": "code",
   "execution_count": null,
   "id": "ae399269",
   "metadata": {},
   "outputs": [],
   "source": [
    "pvalue достаточно мало, чтобы сказать, что признак статважен."
   ]
  },
  {
   "cell_type": "code",
   "execution_count": null,
   "id": "154f136b",
   "metadata": {},
   "outputs": [],
   "source": []
  },
  {
   "cell_type": "code",
   "execution_count": null,
   "id": "feb41986",
   "metadata": {},
   "outputs": [],
   "source": []
  },
  {
   "cell_type": "code",
   "execution_count": null,
   "id": "ad63cfbd",
   "metadata": {},
   "outputs": [],
   "source": []
  },
  {
   "cell_type": "markdown",
   "id": "2c6f5fae",
   "metadata": {},
   "source": [
    "Заново загрузим трейн дата сет, разобьем на трейн и валид, и еще раз проделаем все наши манипуляции."
   ]
  },
  {
   "cell_type": "code",
   "execution_count": 421,
   "id": "7ce1efaf",
   "metadata": {},
   "outputs": [],
   "source": [
    "train = pd.read_csv(TRAIN_DATASET_PATH)"
   ]
  },
  {
   "cell_type": "code",
   "execution_count": 422,
   "id": "8e370cab",
   "metadata": {},
   "outputs": [],
   "source": [
    "valid = train.iloc[5000:]\n",
    "train = train.iloc[:5000]\n",
    "\n"
   ]
  },
  {
   "cell_type": "markdown",
   "id": "0fc94fac",
   "metadata": {},
   "source": [
    "Заново переопределим переменные"
   ]
  },
  {
   "cell_type": "markdown",
   "id": "e6721ae8",
   "metadata": {},
   "source": [
    "#### Переменные"
   ]
  },
  {
   "cell_type": "code",
   "execution_count": 423,
   "id": "2c32381c",
   "metadata": {},
   "outputs": [],
   "source": [
    "\n",
    "credit_balance_median = train['Current Credit Balance'].median()\n",
    "annual_incom_coef = train[\"Annual Income\"].mean() / train['Monthly Debt'].mean()\n",
    "current_job_mode = train['Years in current job'].mode()[0]\n",
    "bankruptcies_median = train['Bankruptcies'].median()\n",
    "credit_score_median = train['Credit Score'].median()\n",
    "home_ownership_credit_default_stat = train.groupby(by='Home Ownership')['Credit Default'].mean().to_dict()\n",
    "years_in_current_job_dict = {'10+ years': 10, '2 years': 2, '3 years': 3, '< 1 year': 0, '5 years': 5, '1 year': 1, '4 years': 4, '6 years': 6, '7 years': 7, '8 years': 8, '9 years': 9}\n",
    "purpose_stat = train['Purpose'].value_counts(normalize=True).to_dict()\n",
    "max_delinquent = train['Months since last delinquent'].max()\n"
   ]
  },
  {
   "cell_type": "markdown",
   "id": "bf8267b3",
   "metadata": {},
   "source": [
    "#### Функция предобработки данных"
   ]
  },
  {
   "cell_type": "code",
   "execution_count": 424,
   "id": "af85b1df",
   "metadata": {},
   "outputs": [],
   "source": [
    "def get_classification_report(y_train_true, y_train_pred, y_test_true, y_test_pred):\n",
    "    print('TRAIN\\n\\n' + classification_report(y_train_true, y_train_pred))\n",
    "    print('TEST\\n\\n' + classification_report(y_test_true, y_test_pred))\n",
    "    print('CONFUSION MATRIX\\n')\n",
    "    print(pd.crosstab(y_test_true, y_test_pred))"
   ]
  },
  {
   "cell_type": "code",
   "execution_count": 425,
   "id": "7d6e3c1c",
   "metadata": {},
   "outputs": [],
   "source": [
    "def balance_df_by_target(df, target_name):\n",
    "\n",
    "    target_counts = df[target_name].value_counts()\n",
    "\n",
    "    major_class_name = target_counts.argmax()\n",
    "    minor_class_name = target_counts.argmin()\n",
    "\n",
    "    disbalance_coeff = int(target_counts[major_class_name] / target_counts[minor_class_name]) - 1\n",
    "\n",
    "    for i in range(disbalance_coeff):\n",
    "        sample = df[df[target_name] == minor_class_name].sample(target_counts[minor_class_name])\n",
    "        df = df.append(sample, ignore_index=True)\n",
    "\n",
    "    return df.sample(frac=1) "
   ]
  },
  {
   "cell_type": "code",
   "execution_count": 426,
   "id": "a10a10ee",
   "metadata": {},
   "outputs": [],
   "source": [
    "def prep_data(df):\n",
    "    \n",
    "\n",
    "    df.loc[df[\"Annual Income\"].isnull(), \"Annual Income\"] = df[\"Monthly Debt\"] * annual_incom_coef\n",
    "    \n",
    "    df.loc[df['Years in current job'].isnull(), 'Years in current job'] = current_job_mode\n",
    "    \n",
    "    df['Delinquent'] = 1\n",
    "    df.loc[df['Months since last delinquent'].isnull(), 'Delinquent'] = 0\n",
    "    \n",
    "    df.loc[df['Months since last delinquent'].isnull(), 'Months since last delinquent'] = df['Years of Credit History'] * 12\n",
    "\n",
    "    df.loc[df['Bankruptcies'].isnull(), 'Bankruptcies'] = bankruptcies_median\n",
    "\n",
    "    df.loc[df['Credit Score'].isnull(), 'Credit Score'] = credit_score_median\n",
    "    \n",
    "\n",
    "    #Фичи\n",
    "\n",
    "    \n",
    "    df.replace({\"Home Ownership\": home_ownership_credit_default_stat}, inplace=True )\n",
    "        \n",
    "    df.replace({'Years in current job': years_in_current_job_dict}, inplace=True)\n",
    "    \n",
    "    df.replace({'Purpose': purpose_stat}, inplace=True)\n",
    "    \n",
    "    df['Term'] = (df['Term'] == 'Short Term').astype(int)\n",
    "    \n",
    "    df['Use coef'] = (df['Current Credit Balance'] / df['Current Loan Amount']) \n",
    "    \n",
    "    df['Acc coef'] =  df['Number of Open Accounts'] / df['Years of Credit History'] \n",
    "    \n",
    "    df['Time coef'] = df['Current Loan Amount'] / (df['Monthly Debt']+1)\n",
    "  \n",
    "    \n",
    "   \n",
    "    \n",
    "    return df"
   ]
  },
  {
   "cell_type": "code",
   "execution_count": null,
   "id": "a3cad77f",
   "metadata": {},
   "outputs": [],
   "source": []
  },
  {
   "cell_type": "code",
   "execution_count": 427,
   "id": "be0f2b82",
   "metadata": {},
   "outputs": [],
   "source": [
    "train = prep_data(train)\n",
    "valid = prep_data(valid)"
   ]
  },
  {
   "cell_type": "code",
   "execution_count": 428,
   "id": "d4b7fcbc",
   "metadata": {},
   "outputs": [],
   "source": [
    "train = balance_df_by_target(train, \"Credit Default\")"
   ]
  },
  {
   "cell_type": "code",
   "execution_count": 429,
   "id": "49b5ce27",
   "metadata": {},
   "outputs": [],
   "source": [
    "X_train, y_train = train.drop(\"Credit Default\", axis = 1), train[\"Credit Default\"]\n",
    "\n",
    "X_valid, y_valid = valid.drop(\"Credit Default\", axis = 1), valid[\"Credit Default\"]\n"
   ]
  },
  {
   "cell_type": "code",
   "execution_count": 430,
   "id": "1f5bcc62",
   "metadata": {},
   "outputs": [],
   "source": [
    "gbc = GradientBoostingClassifier(criterion='mse', learning_rate =  0.1 , min_samples_leaf = 50, n_estimators = 1600, max_features =8, max_depth = 1, random_state = 42)"
   ]
  },
  {
   "cell_type": "code",
   "execution_count": 431,
   "id": "75c68742",
   "metadata": {},
   "outputs": [
    {
     "data": {
      "text/plain": [
       "GradientBoostingClassifier(criterion='mse', max_depth=1, max_features=8,\n",
       "                           min_samples_leaf=50, n_estimators=1600,\n",
       "                           random_state=42)"
      ]
     },
     "execution_count": 431,
     "metadata": {},
     "output_type": "execute_result"
    }
   ],
   "source": [
    "gbc.fit(X_train, y_train)"
   ]
  },
  {
   "cell_type": "code",
   "execution_count": 432,
   "id": "e50a845c",
   "metadata": {},
   "outputs": [],
   "source": [
    "y_train_pred = gbc.predict(X_train)\n",
    "y_test_pred = gbc.predict(X_valid)\n",
    "\n"
   ]
  },
  {
   "cell_type": "markdown",
   "id": "46740c57",
   "metadata": {},
   "source": [
    "Предпологаемая точность модели на валидационных данных."
   ]
  },
  {
   "cell_type": "code",
   "execution_count": 433,
   "id": "1597cceb",
   "metadata": {},
   "outputs": [
    {
     "name": "stdout",
     "output_type": "stream",
     "text": [
      "TRAIN\n",
      "\n",
      "              precision    recall  f1-score   support\n",
      "\n",
      "           0       0.74      0.83      0.78      3617\n",
      "           1       0.73      0.61      0.67      2766\n",
      "\n",
      "    accuracy                           0.74      6383\n",
      "   macro avg       0.74      0.72      0.72      6383\n",
      "weighted avg       0.74      0.74      0.73      6383\n",
      "\n",
      "TEST\n",
      "\n",
      "              precision    recall  f1-score   support\n",
      "\n",
      "           0       0.82      0.81      0.81      1770\n",
      "           1       0.55      0.57      0.56       730\n",
      "\n",
      "    accuracy                           0.74      2500\n",
      "   macro avg       0.68      0.69      0.69      2500\n",
      "weighted avg       0.74      0.74      0.74      2500\n",
      "\n",
      "CONFUSION MATRIX\n",
      "\n",
      "col_0              0    1\n",
      "Credit Default           \n",
      "0               1432  338\n",
      "1                317  413\n"
     ]
    }
   ],
   "source": [
    "get_classification_report(y_train, y_train_pred, y_valid, y_test_pred)"
   ]
  },
  {
   "cell_type": "code",
   "execution_count": 434,
   "id": "0988f612",
   "metadata": {},
   "outputs": [
    {
     "data": {
      "text/plain": [
       "0.5577312626603645"
      ]
     },
     "execution_count": 434,
     "metadata": {},
     "output_type": "execute_result"
    }
   ],
   "source": [
    "f1_score(y_valid, y_test_pred)"
   ]
  },
  {
   "cell_type": "code",
   "execution_count": null,
   "id": "d15da940",
   "metadata": {},
   "outputs": [],
   "source": []
  },
  {
   "cell_type": "code",
   "execution_count": 435,
   "id": "979ccc8b",
   "metadata": {
    "scrolled": true
   },
   "outputs": [
    {
     "data": {
      "image/png": "[encoded data removed]",
      "text/plain": [
       "<Figure size 720x720 with 1 Axes>"
      ]
     },
     "metadata": {
      "needs_background": "light"
     },
     "output_type": "display_data"
    }
   ],
   "source": [
    "f_i = gbc.feature_importances_\n",
    "plt.figure(figsize=(10,10))\n",
    "plt.barh(X_train.columns, f_i)\n",
    "plt.show()"
   ]
  },
  {
   "cell_type": "markdown",
   "id": "84b8162f",
   "metadata": {},
   "source": [
    "Time coef - Оказался неплохим признаком при этом не имеющим колиенарности с другими признаками.\n",
    "Use coef - Тоже имеет небольшой вклад."
   ]
  },
  {
   "cell_type": "code",
   "execution_count": 436,
   "id": "eafb82f8",
   "metadata": {
    "scrolled": true
   },
   "outputs": [],
   "source": [
    "feature = pd.DataFrame([f_i], columns=X_train.columns)"
   ]
  },
  {
   "cell_type": "code",
   "execution_count": 437,
   "id": "ca5f6e59",
   "metadata": {},
   "outputs": [
    {
     "data": {
      "text/html": [
       "<div>\n",
       "<style scoped>\n",
       "    .dataframe tbody tr th:only-of-type {\n",
       "        vertical-align: middle;\n",
       "    }\n",
       "\n",
       "    .dataframe tbody tr th {\n",
       "        vertical-align: top;\n",
       "    }\n",
       "\n",
       "    .dataframe thead th {\n",
       "        text-align: right;\n",
       "    }\n",
       "</style>\n",
       "<table border=\"1\" class=\"dataframe\">\n",
       "  <thead>\n",
       "    <tr style=\"text-align: right;\">\n",
       "      <th></th>\n",
       "      <th>Home Ownership</th>\n",
       "      <th>Annual Income</th>\n",
       "      <th>Years in current job</th>\n",
       "      <th>Tax Liens</th>\n",
       "      <th>Number of Open Accounts</th>\n",
       "      <th>Years of Credit History</th>\n",
       "      <th>Maximum Open Credit</th>\n",
       "      <th>Number of Credit Problems</th>\n",
       "      <th>Months since last delinquent</th>\n",
       "      <th>Bankruptcies</th>\n",
       "      <th>Purpose</th>\n",
       "      <th>Term</th>\n",
       "      <th>Current Loan Amount</th>\n",
       "      <th>Current Credit Balance</th>\n",
       "      <th>Monthly Debt</th>\n",
       "      <th>Credit Score</th>\n",
       "      <th>Delinquent</th>\n",
       "      <th>Use coef</th>\n",
       "      <th>Acc coef</th>\n",
       "      <th>Time coef</th>\n",
       "    </tr>\n",
       "  </thead>\n",
       "  <tbody>\n",
       "    <tr>\n",
       "      <th>0</th>\n",
       "      <td>0.01604</td>\n",
       "      <td>0.04929</td>\n",
       "      <td>0.00271</td>\n",
       "      <td>0.00018</td>\n",
       "      <td>0.00653</td>\n",
       "      <td>0.01328</td>\n",
       "      <td>0.04077</td>\n",
       "      <td>0.00122</td>\n",
       "      <td>0.00881</td>\n",
       "      <td>0.00000</td>\n",
       "      <td>0.00483</td>\n",
       "      <td>0.11206</td>\n",
       "      <td>0.10798</td>\n",
       "      <td>0.00676</td>\n",
       "      <td>0.02877</td>\n",
       "      <td>0.38388</td>\n",
       "      <td>0.00000</td>\n",
       "      <td>0.04146</td>\n",
       "      <td>0.01820</td>\n",
       "      <td>0.15725</td>\n",
       "    </tr>\n",
       "  </tbody>\n",
       "</table>\n",
       "</div>"
      ],
      "text/plain": [
       "   Home Ownership  Annual Income  Years in current job  Tax Liens  \\\n",
       "0         0.01604        0.04929               0.00271    0.00018   \n",
       "\n",
       "   Number of Open Accounts  Years of Credit History  Maximum Open Credit  \\\n",
       "0                  0.00653                  0.01328              0.04077   \n",
       "\n",
       "   Number of Credit Problems  Months since last delinquent  Bankruptcies  \\\n",
       "0                    0.00122                       0.00881       0.00000   \n",
       "\n",
       "   Purpose    Term  Current Loan Amount  Current Credit Balance  Monthly Debt  \\\n",
       "0  0.00483 0.11206              0.10798                 0.00676       0.02877   \n",
       "\n",
       "   Credit Score  Delinquent  Use coef  Acc coef  Time coef  \n",
       "0       0.38388     0.00000   0.04146   0.01820    0.15725  "
      ]
     },
     "execution_count": 437,
     "metadata": {},
     "output_type": "execute_result"
    }
   ],
   "source": [
    "feature"
   ]
  },
  {
   "cell_type": "code",
   "execution_count": null,
   "id": "4820ac0c",
   "metadata": {},
   "outputs": [],
   "source": []
  },
  {
   "cell_type": "markdown",
   "id": "34b83f10",
   "metadata": {},
   "source": [
    "### Заново обучим модель на всех трейн данных, и предскажем тестовую выборку. "
   ]
  },
  {
   "cell_type": "code",
   "execution_count": 456,
   "id": "6cd85f20",
   "metadata": {},
   "outputs": [],
   "source": [
    "train = pd.read_csv(TRAIN_DATASET_PATH)\n",
    "test = pd.read_csv(TEST_DATASET_PATH)"
   ]
  },
  {
   "cell_type": "code",
   "execution_count": 457,
   "id": "c812f342",
   "metadata": {},
   "outputs": [],
   "source": [
    "credit_balance_median = train['Current Credit Balance'].median()\n",
    "annual_incom_coef = train[\"Annual Income\"].mean() / train['Monthly Debt'].mean()\n",
    "current_job_mode = train['Years in current job'].mode()[0]\n",
    "bankruptcies_median = train['Bankruptcies'].median()\n",
    "credit_score_median = train['Credit Score'].median()\n",
    "home_ownership_credit_default_stat = train.groupby(by='Home Ownership')['Credit Default'].mean().to_dict()\n",
    "years_in_current_job_dict = {'10+ years': 10, '2 years': 2, '3 years': 3, '< 1 year': 0, '5 years': 5, '1 year': 1, '4 years': 4, '6 years': 6, '7 years': 7, '8 years': 8, '9 years': 9}\n",
    "purpose_stat = train['Purpose'].value_counts(normalize=True).to_dict()\n",
    "max_delinquent = train['Months since last delinquent'].max()"
   ]
  },
  {
   "cell_type": "code",
   "execution_count": 458,
   "id": "a954f77a",
   "metadata": {},
   "outputs": [],
   "source": [
    "train = prep_data(train)\n",
    "test = prep_data(test)"
   ]
  },
  {
   "cell_type": "code",
   "execution_count": 459,
   "id": "c5ea3a2b",
   "metadata": {},
   "outputs": [],
   "source": [
    "train = balance_df_by_target(train, \"Credit Default\")"
   ]
  },
  {
   "cell_type": "code",
   "execution_count": 460,
   "id": "effcee6f",
   "metadata": {},
   "outputs": [],
   "source": [
    "X_train, y_train = train.drop(\"Credit Default\", axis = 1), train[\"Credit Default\"]\n",
    "\n",
    "X_test = test"
   ]
  },
  {
   "cell_type": "code",
   "execution_count": 462,
   "id": "e27ef941",
   "metadata": {},
   "outputs": [],
   "source": [
    "gbc = GradientBoostingClassifier(criterion='mse', learning_rate =  0.1 , min_samples_leaf = 50, n_estimators = 1600, max_features =8, max_depth = 1, random_state = 42)"
   ]
  },
  {
   "cell_type": "code",
   "execution_count": 463,
   "id": "eab60a51",
   "metadata": {},
   "outputs": [
    {
     "data": {
      "text/plain": [
       "GradientBoostingClassifier(criterion='mse', max_depth=1, max_features=8,\n",
       "                           min_samples_leaf=50, n_estimators=1600,\n",
       "                           random_state=42)"
      ]
     },
     "execution_count": 463,
     "metadata": {},
     "output_type": "execute_result"
    }
   ],
   "source": [
    "gbc.fit(X_train, y_train)"
   ]
  },
  {
   "cell_type": "code",
   "execution_count": 464,
   "id": "3d585cab",
   "metadata": {},
   "outputs": [],
   "source": [
    "y_test_pred = gbc.predict(X_test)"
   ]
  },
  {
   "cell_type": "code",
   "execution_count": 465,
   "id": "4a8cccd7",
   "metadata": {},
   "outputs": [],
   "source": [
    "y_test_pred = pd.DataFrame(y_test_pred, columns=['Credit Default'])"
   ]
  },
  {
   "cell_type": "code",
   "execution_count": 467,
   "id": "c5a1ebf7",
   "metadata": {},
   "outputs": [],
   "source": [
    "y_test_pred.to_csv('IKurkov_predictions.csv', index=False)"
   ]
  },
  {
   "cell_type": "markdown",
   "id": "204cbe1d",
   "metadata": {},
   "source": [
    "### Заключение"
   ]
  },
  {
   "cell_type": "markdown",
   "id": "1b31d85a",
   "metadata": {},
   "source": [
    "Что я почерпнул из этой работы:\n",
    "- Я убедился, что алгоритмы на основе деревьев очень хорошо вычисляют меченные данные. Так например наш алгоритм безошибочно определил меченные данные в признаках Current Loan Amount и Credit score. \n",
    "- Это вторая моя модель за все время, и второй раз я вижу, что какие либо обработки выбросов приводят к ухудшению модели на основе деревьев. Может это учебные данные такие, или я все не правильно делаю, но это то, что я увидел ( Хотелось бы получить комментарии преподователя на этот счет).\n",
    "- Надо не забывать следить за переобучением. По началу я не обратил на это внимание, но увидев f1 на тестовых данных 98-99% я начал играться с глубиной деревьев и количеством\\скоростью обучения. В итоге сравняв точность тестовой и валидационных выборок удалось повысить и  f1 валидационной выборки на несколько процентов. \n",
    "- При использовании алгоритма градиентного бустинга(может и на других алгоритмах с деревьями), почемуто удаление признаков с практически 0 весом всеравно ведет к ухудшению точности. (  Хотелось бы получить комментарии преподователя на этот счет, т.к. на предыдущем курсе с регрессией учили удалять маловажные признаки)"
   ]
  },
  {
   "cell_type": "code",
   "execution_count": null,
   "id": "96f77873",
   "metadata": {},
   "outputs": [],
   "source": []
  }
 ],
 "metadata": {
  "kernelspec": {
   "display_name": "Python 3",
   "language": "python",
   "name": "python3"
  },
  "language_info": {
   "codemirror_mode": {
    "name": "ipython",
    "version": 3
   },
   "file_extension": ".py",
   "mimetype": "text/x-python",
   "name": "python",
   "nbconvert_exporter": "python",
   "pygments_lexer": "ipython3",
   "version": "3.8.8"
  }
 },
 "nbformat": 4,
 "nbformat_minor": 5
}
