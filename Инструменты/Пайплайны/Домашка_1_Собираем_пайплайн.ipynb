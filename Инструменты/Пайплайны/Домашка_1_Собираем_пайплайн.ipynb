{
 "cells": [
  {
   "cell_type": "markdown",
   "metadata": {
    "id": "ROvu3ZBCKKDu"
   },
   "source": [
    "Автор материала: Зраев Артем.\n",
    "\n",
    "Можно использовать в каких угодно целях."
   ]
  },
  {
   "cell_type": "markdown",
   "metadata": {
    "id": "I7eFBJOFKKDw"
   },
   "source": [
    "<b> В задании нужно загрузить датасет с данными оттока и ответить на несколько вопросов (написать код). При этом сам датасет уже есть и его необязательно качать с репозитория</b>"
   ]
  },
  {
   "cell_type": "markdown",
   "metadata": {
    "id": "hHAgJ97XKKDw"
   },
   "source": [
    "Цель задания: проверить базовые навыки работы студентов с Pandas, умение проводить такой же базовый EDA (exploratory data analysis), делать feature engineering и обучать и валидировать модель."
   ]
  },
  {
   "cell_type": "markdown",
   "metadata": {
    "id": "6nueN1F6KKDw"
   },
   "source": [
    "Список столбцов с типами данных в датасете:\n",
    "\n",
    "- customerID           object\n",
    "- gender               object\n",
    "- SeniorCitizen         int64\n",
    "- Partner              object\n",
    "- Dependents           object\n",
    "- tenure                int64\n",
    "- PhoneService         object\n",
    "- MultipleLines        object\n",
    "- InternetService      object\n",
    "- OnlineSecurity       object\n",
    "- OnlineBackup         object\n",
    "- DeviceProtection     object\n",
    "- TechSupport          object\n",
    "- StreamingTV          object\n",
    "- StreamingMovies      object\n",
    "- Contract             object\n",
    "- PaperlessBilling     object\n",
    "- PaymentMethod        object\n",
    "- MonthlyCharges      float64\n",
    "- TotalCharges         object\n",
    "- Churn                object"
   ]
  },
  {
   "cell_type": "code",
   "execution_count": 1,
   "metadata": {
    "id": "53l3ktS6KKDx"
   },
   "outputs": [],
   "source": [
    "import pandas as pd\n",
    "import numpy as np\n",
    "\n"
   ]
  },
  {
   "cell_type": "code",
   "execution_count": 2,
   "metadata": {},
   "outputs": [
    {
     "data": {
      "text/html": [
       "<div>\n",
       "<style scoped>\n",
       "    .dataframe tbody tr th:only-of-type {\n",
       "        vertical-align: middle;\n",
       "    }\n",
       "\n",
       "    .dataframe tbody tr th {\n",
       "        vertical-align: top;\n",
       "    }\n",
       "\n",
       "    .dataframe thead th {\n",
       "        text-align: right;\n",
       "    }\n",
       "</style>\n",
       "<table border=\"1\" class=\"dataframe\">\n",
       "  <thead>\n",
       "    <tr style=\"text-align: right;\">\n",
       "      <th></th>\n",
       "      <th>customerID</th>\n",
       "      <th>gender</th>\n",
       "      <th>SeniorCitizen</th>\n",
       "      <th>Partner</th>\n",
       "      <th>Dependents</th>\n",
       "      <th>tenure</th>\n",
       "      <th>PhoneService</th>\n",
       "      <th>MultipleLines</th>\n",
       "      <th>InternetService</th>\n",
       "      <th>OnlineSecurity</th>\n",
       "      <th>...</th>\n",
       "      <th>DeviceProtection</th>\n",
       "      <th>TechSupport</th>\n",
       "      <th>StreamingTV</th>\n",
       "      <th>StreamingMovies</th>\n",
       "      <th>Contract</th>\n",
       "      <th>PaperlessBilling</th>\n",
       "      <th>PaymentMethod</th>\n",
       "      <th>MonthlyCharges</th>\n",
       "      <th>TotalCharges</th>\n",
       "      <th>Churn</th>\n",
       "    </tr>\n",
       "  </thead>\n",
       "  <tbody>\n",
       "    <tr>\n",
       "      <th>0</th>\n",
       "      <td>7590-VHVEG</td>\n",
       "      <td>Female</td>\n",
       "      <td>0</td>\n",
       "      <td>Yes</td>\n",
       "      <td>No</td>\n",
       "      <td>1</td>\n",
       "      <td>No</td>\n",
       "      <td>No phone service</td>\n",
       "      <td>DSL</td>\n",
       "      <td>No</td>\n",
       "      <td>...</td>\n",
       "      <td>No</td>\n",
       "      <td>No</td>\n",
       "      <td>No</td>\n",
       "      <td>No</td>\n",
       "      <td>Month-to-month</td>\n",
       "      <td>Yes</td>\n",
       "      <td>Electronic check</td>\n",
       "      <td>29.85</td>\n",
       "      <td>29.85</td>\n",
       "      <td>No</td>\n",
       "    </tr>\n",
       "    <tr>\n",
       "      <th>1</th>\n",
       "      <td>5575-GNVDE</td>\n",
       "      <td>Male</td>\n",
       "      <td>0</td>\n",
       "      <td>No</td>\n",
       "      <td>No</td>\n",
       "      <td>34</td>\n",
       "      <td>Yes</td>\n",
       "      <td>No</td>\n",
       "      <td>DSL</td>\n",
       "      <td>Yes</td>\n",
       "      <td>...</td>\n",
       "      <td>Yes</td>\n",
       "      <td>No</td>\n",
       "      <td>No</td>\n",
       "      <td>No</td>\n",
       "      <td>One year</td>\n",
       "      <td>No</td>\n",
       "      <td>Mailed check</td>\n",
       "      <td>56.95</td>\n",
       "      <td>1889.5</td>\n",
       "      <td>No</td>\n",
       "    </tr>\n",
       "    <tr>\n",
       "      <th>2</th>\n",
       "      <td>3668-QPYBK</td>\n",
       "      <td>Male</td>\n",
       "      <td>0</td>\n",
       "      <td>No</td>\n",
       "      <td>No</td>\n",
       "      <td>2</td>\n",
       "      <td>Yes</td>\n",
       "      <td>No</td>\n",
       "      <td>DSL</td>\n",
       "      <td>Yes</td>\n",
       "      <td>...</td>\n",
       "      <td>No</td>\n",
       "      <td>No</td>\n",
       "      <td>No</td>\n",
       "      <td>No</td>\n",
       "      <td>Month-to-month</td>\n",
       "      <td>Yes</td>\n",
       "      <td>Mailed check</td>\n",
       "      <td>53.85</td>\n",
       "      <td>108.15</td>\n",
       "      <td>Yes</td>\n",
       "    </tr>\n",
       "  </tbody>\n",
       "</table>\n",
       "<p>3 rows × 21 columns</p>\n",
       "</div>"
      ],
      "text/plain": [
       "   customerID  gender  SeniorCitizen Partner Dependents  tenure PhoneService  \\\n",
       "0  7590-VHVEG  Female              0     Yes         No       1           No   \n",
       "1  5575-GNVDE    Male              0      No         No      34          Yes   \n",
       "2  3668-QPYBK    Male              0      No         No       2          Yes   \n",
       "\n",
       "      MultipleLines InternetService OnlineSecurity  ... DeviceProtection  \\\n",
       "0  No phone service             DSL             No  ...               No   \n",
       "1                No             DSL            Yes  ...              Yes   \n",
       "2                No             DSL            Yes  ...               No   \n",
       "\n",
       "  TechSupport StreamingTV StreamingMovies        Contract PaperlessBilling  \\\n",
       "0          No          No              No  Month-to-month              Yes   \n",
       "1          No          No              No        One year               No   \n",
       "2          No          No              No  Month-to-month              Yes   \n",
       "\n",
       "      PaymentMethod MonthlyCharges  TotalCharges Churn  \n",
       "0  Electronic check          29.85         29.85    No  \n",
       "1      Mailed check          56.95        1889.5    No  \n",
       "2      Mailed check          53.85        108.15   Yes  \n",
       "\n",
       "[3 rows x 21 columns]"
      ]
     },
     "execution_count": 2,
     "metadata": {},
     "output_type": "execute_result"
    }
   ],
   "source": [
    "df = pd.read_csv(\"./WA_Fn-UseC_-Telco-Customer-Churn.csv\")\n",
    "df.head(3)"
   ]
  },
  {
   "cell_type": "markdown",
   "metadata": {
    "id": "fipO4NHLKKDx"
   },
   "source": [
    "##### 1. Какое соотношение мужчин и женщин в представленном наборе данных?"
   ]
  },
  {
   "cell_type": "code",
   "execution_count": 3,
   "metadata": {
    "id": "XmlWN5zkKKDy"
   },
   "outputs": [
    {
     "data": {
      "text/plain": [
       "Male      3555\n",
       "Female    3488\n",
       "Name: gender, dtype: int64"
      ]
     },
     "execution_count": 3,
     "metadata": {},
     "output_type": "execute_result"
    }
   ],
   "source": [
    "df['gender'].value_counts()"
   ]
  },
  {
   "cell_type": "code",
   "execution_count": 4,
   "metadata": {},
   "outputs": [
    {
     "data": {
      "text/plain": [
       "Male      0.504756\n",
       "Female    0.495244\n",
       "Name: gender, dtype: float64"
      ]
     },
     "execution_count": 4,
     "metadata": {},
     "output_type": "execute_result"
    }
   ],
   "source": [
    "df['gender'].value_counts(normalize = True)"
   ]
  },
  {
   "cell_type": "markdown",
   "metadata": {
    "id": "GGc6WT1yKKDy"
   },
   "source": [
    "##### 2. Какое количество уникальных значений у поля InternetService?"
   ]
  },
  {
   "cell_type": "code",
   "execution_count": 5,
   "metadata": {
    "id": "FjTlUki-KKDy"
   },
   "outputs": [
    {
     "data": {
      "text/plain": [
       "3"
      ]
     },
     "execution_count": 5,
     "metadata": {},
     "output_type": "execute_result"
    }
   ],
   "source": [
    "len(df['InternetService'].unique())"
   ]
  },
  {
   "cell_type": "markdown",
   "metadata": {
    "id": "NW2KOQxAKKDz"
   },
   "source": [
    "##### 3. Выведите статистики по полю TotalCharges (median, mean, std)."
   ]
  },
  {
   "cell_type": "code",
   "execution_count": 6,
   "metadata": {
    "id": "n8-wlixbKKDz"
   },
   "outputs": [],
   "source": [
    "df['TotalCharges'] = pd.to_numeric(df['TotalCharges'], errors='coerce')"
   ]
  },
  {
   "cell_type": "code",
   "execution_count": 7,
   "metadata": {},
   "outputs": [
    {
     "data": {
      "text/plain": [
       "count    7032.000000\n",
       "mean     2283.300441\n",
       "std      2266.771362\n",
       "min        18.800000\n",
       "25%       401.450000\n",
       "50%      1397.475000\n",
       "75%      3794.737500\n",
       "max      8684.800000\n",
       "Name: TotalCharges, dtype: float64"
      ]
     },
     "execution_count": 7,
     "metadata": {},
     "output_type": "execute_result"
    }
   ],
   "source": [
    "df['TotalCharges'].describe()"
   ]
  },
  {
   "cell_type": "markdown",
   "metadata": {
    "id": "YGKVp_8IKKDz"
   },
   "source": [
    "В чем странность того, что вы получили? (подсказка: смотреть нужно на тип данных)"
   ]
  },
  {
   "cell_type": "markdown",
   "metadata": {},
   "source": [
    "В столбце не корректные данные, которые определяются, как object."
   ]
  },
  {
   "cell_type": "markdown",
   "metadata": {
    "id": "QgoeSWrjKKDz"
   },
   "source": [
    "##### 4. Сделайте замену значений поля PhoneService  на числовые (Yes->1, No->0)"
   ]
  },
  {
   "cell_type": "code",
   "execution_count": 8,
   "metadata": {
    "id": "wi0_etJYKKDz"
   },
   "outputs": [],
   "source": [
    "df['PhoneService'] = (df['PhoneService'] == 'Yes').astype(int)"
   ]
  },
  {
   "cell_type": "markdown",
   "metadata": {
    "id": "p0q3BWg2KKD0"
   },
   "source": [
    "##### 5. Сделайте замену пробелов в поле TotalCharges на np.nan и приведите поле к типу данных float32. Затем заполните оставшиеся пропуски значением 0 с помощью метода fillna у столбца. Снова выведите статистики и сравните с тем, что вы видели в вопросе 3"
   ]
  },
  {
   "cell_type": "code",
   "execution_count": 9,
   "metadata": {
    "id": "OJJw4iKaKKD0"
   },
   "outputs": [
    {
     "data": {
      "text/plain": [
       "count    7043.000000\n",
       "mean     2279.732178\n",
       "std      2266.794434\n",
       "min         0.000000\n",
       "25%       398.549988\n",
       "50%      1394.550049\n",
       "75%      3786.599976\n",
       "max      8684.799805\n",
       "Name: TotalCharges, dtype: float64"
      ]
     },
     "execution_count": 9,
     "metadata": {},
     "output_type": "execute_result"
    }
   ],
   "source": [
    "df['TotalCharges'] = df['TotalCharges'].astype('float32')\n",
    "df.loc[df['TotalCharges'].isnull(), 'TotalCharges'] = 0\n",
    "df['TotalCharges'].describe()"
   ]
  },
  {
   "cell_type": "markdown",
   "metadata": {},
   "source": [
    "Статистики изменились, т.к. не корректные значения тоже учавствуют в подсчете."
   ]
  },
  {
   "cell_type": "markdown",
   "metadata": {
    "id": "7y1HK1KEKKD0"
   },
   "source": [
    "##### 6. Сделайте замену значений поля Churn на числовые (Yes -> 1, No - 0)"
   ]
  },
  {
   "cell_type": "code",
   "execution_count": 10,
   "metadata": {
    "id": "W4iyHn01KKD0"
   },
   "outputs": [],
   "source": [
    "df['Churn'] = (df['Churn'] == 'Yes').astype(int)"
   ]
  },
  {
   "cell_type": "markdown",
   "metadata": {
    "id": "EWbnTL51KKD0"
   },
   "source": [
    "##### 7. Сделайте замену значений полей StreamingMovies, StreamingTV, TechSupport  на числовые (Yes -> 1, No -> 0, No internet service->0)"
   ]
  },
  {
   "cell_type": "code",
   "execution_count": 11,
   "metadata": {
    "id": "ngfFaO2hKKD0"
   },
   "outputs": [],
   "source": [
    "for_binary = ['StreamingMovies', 'StreamingTV', 'TechSupport']\n",
    "for col in for_binary:\n",
    "    df[col] = (df[col] == 'Yes').astype(int)"
   ]
  },
  {
   "cell_type": "markdown",
   "metadata": {
    "id": "QcBUDijFKKD0"
   },
   "source": [
    "##### 8. Заполните пропуски в поле PhoneService значением 0"
   ]
  },
  {
   "cell_type": "code",
   "execution_count": 12,
   "metadata": {
    "id": "xy8nGi1LKKD0"
   },
   "outputs": [],
   "source": [
    "df.loc[df['PhoneService'].isnull(), 'PhoneService'] = 0"
   ]
  },
  {
   "cell_type": "markdown",
   "metadata": {
    "id": "AgFrbTWyKKD0"
   },
   "source": [
    "#### 8. Для нашего датасета оставьте только указанный ниже список полей, удалив все другие и выведите верхние 3 строки"
   ]
  },
  {
   "cell_type": "code",
   "execution_count": 13,
   "metadata": {
    "id": "mp8ifbMPKKD1"
   },
   "outputs": [
    {
     "data": {
      "text/html": [
       "<div>\n",
       "<style scoped>\n",
       "    .dataframe tbody tr th:only-of-type {\n",
       "        vertical-align: middle;\n",
       "    }\n",
       "\n",
       "    .dataframe tbody tr th {\n",
       "        vertical-align: top;\n",
       "    }\n",
       "\n",
       "    .dataframe thead th {\n",
       "        text-align: right;\n",
       "    }\n",
       "</style>\n",
       "<table border=\"1\" class=\"dataframe\">\n",
       "  <thead>\n",
       "    <tr style=\"text-align: right;\">\n",
       "      <th></th>\n",
       "      <th>gender</th>\n",
       "      <th>tenure</th>\n",
       "      <th>PhoneService</th>\n",
       "      <th>TotalCharges</th>\n",
       "      <th>StreamingMovies</th>\n",
       "      <th>StreamingTV</th>\n",
       "      <th>TechSupport</th>\n",
       "      <th>Churn</th>\n",
       "    </tr>\n",
       "  </thead>\n",
       "  <tbody>\n",
       "    <tr>\n",
       "      <th>0</th>\n",
       "      <td>Female</td>\n",
       "      <td>1</td>\n",
       "      <td>0</td>\n",
       "      <td>29.850000</td>\n",
       "      <td>0</td>\n",
       "      <td>0</td>\n",
       "      <td>0</td>\n",
       "      <td>0</td>\n",
       "    </tr>\n",
       "    <tr>\n",
       "      <th>1</th>\n",
       "      <td>Male</td>\n",
       "      <td>34</td>\n",
       "      <td>1</td>\n",
       "      <td>1889.500000</td>\n",
       "      <td>0</td>\n",
       "      <td>0</td>\n",
       "      <td>0</td>\n",
       "      <td>0</td>\n",
       "    </tr>\n",
       "    <tr>\n",
       "      <th>2</th>\n",
       "      <td>Male</td>\n",
       "      <td>2</td>\n",
       "      <td>1</td>\n",
       "      <td>108.150002</td>\n",
       "      <td>0</td>\n",
       "      <td>0</td>\n",
       "      <td>0</td>\n",
       "      <td>1</td>\n",
       "    </tr>\n",
       "  </tbody>\n",
       "</table>\n",
       "</div>"
      ],
      "text/plain": [
       "   gender  tenure  PhoneService  TotalCharges  StreamingMovies  StreamingTV  \\\n",
       "0  Female       1             0     29.850000                0            0   \n",
       "1    Male      34             1   1889.500000                0            0   \n",
       "2    Male       2             1    108.150002                0            0   \n",
       "\n",
       "   TechSupport  Churn  \n",
       "0            0      0  \n",
       "1            0      0  \n",
       "2            0      1  "
      ]
     },
     "execution_count": 13,
     "metadata": {},
     "output_type": "execute_result"
    }
   ],
   "source": [
    "columns = ['gender', 'tenure', 'PhoneService', 'TotalCharges', \n",
    "           'StreamingMovies', 'StreamingTV', 'TechSupport', 'Churn']\n",
    "#Ваш код здесь\n",
    "\n",
    "df = df[columns]\n",
    "df.head(3)"
   ]
  },
  {
   "cell_type": "markdown",
   "metadata": {
    "id": "CRfxKYeQKKD1"
   },
   "source": [
    "##### 9. Разделите датасет на тренировочную и тестовую выборку (подсказка - воспользуйтесь train_test_split из sklearn.model_selection. Ссылка - https://scikit-learn.org/stable/modules/generated/sklearn.model_selection.train_test_split.html)"
   ]
  },
  {
   "cell_type": "code",
   "execution_count": 14,
   "metadata": {
    "id": "pExNd5r0KKD1"
   },
   "outputs": [],
   "source": [
    "from sklearn.model_selection import train_test_split\n",
    "\n",
    "features = ['gender', 'tenure', 'PhoneService', 'TotalCharges', 'StreamingMovies', 'StreamingTV', 'TechSupport']\n",
    "target = 'Churn'\n",
    "#Ваш код здесь\n",
    "X_train, X_test, y_train, y_test = train_test_split(df[features], df[target], random_state=0)"
   ]
  },
  {
   "cell_type": "markdown",
   "metadata": {
    "id": "tL44KWnSKKD1"
   },
   "source": [
    "##### 10. соберите pipeline для поля gender (нужно разобраться и изучить https://scikit-learn.org/stable/modules/generated/sklearn.pipeline.Pipeline.html ) из классов ColumnSelector и OHEEncoder, которые уже написаны ниже заранее"
   ]
  },
  {
   "cell_type": "code",
   "execution_count": 15,
   "metadata": {
    "id": "76kb9W3XKKD1"
   },
   "outputs": [],
   "source": [
    "from sklearn.base import BaseEstimator, TransformerMixin\n",
    "from sklearn.pipeline import Pipeline\n",
    "\n",
    "class ColumnSelector(BaseEstimator, TransformerMixin):\n",
    "    \"\"\"\n",
    "    Transformer to select a single column from the data frame to perform additional transformations on\n",
    "    \"\"\"\n",
    "    def __init__(self, key):\n",
    "        self.key = key\n",
    "\n",
    "    def fit(self, X, y=None):\n",
    "        return self\n",
    "\n",
    "    def transform(self, X):\n",
    "        return X[self.key]\n",
    "    \n",
    "class NumberSelector(BaseEstimator, TransformerMixin):\n",
    "    \"\"\"\n",
    "    Transformer to select a single column from the data frame to perform additional transformations on\n",
    "    Use on numeric columns in the data\n",
    "    \"\"\"\n",
    "    def __init__(self, key):\n",
    "        self.key = key\n",
    "\n",
    "    def fit(self, X, y=None):\n",
    "        return self\n",
    "\n",
    "    def transform(self, X):\n",
    "        return X[[self.key]]\n",
    "    \n",
    "class OHEEncoder(BaseEstimator, TransformerMixin):\n",
    "    def __init__(self, key):\n",
    "        self.key = key\n",
    "        self.columns = []\n",
    "\n",
    "    def fit(self, X, y=None):\n",
    "        self.columns = [col for col in pd.get_dummies(X, prefix=self.key).columns]\n",
    "        return self\n",
    "\n",
    "    def transform(self, X):\n",
    "        X = pd.get_dummies(X, prefix=self.key)\n",
    "        test_columns = [col for col in X.columns]\n",
    "        for col_ in test_columns:\n",
    "            if col_ not in self.columns:\n",
    "                X[col_] = 0\n",
    "        return X[self.columns]\n",
    "\n",
    "gender = Pipeline([\n",
    "                ('selector', ColumnSelector(key='gender')),\n",
    "                ('ohe', OHEEncoder(key='gender'))\n",
    "            ])"
   ]
  },
  {
   "cell_type": "markdown",
   "metadata": {
    "id": "PFk68hUUKKD1"
   },
   "source": [
    "##### 11. Вызовите метод fit_transform у пайплайна gender и передайте туда нашу тренировочную выборку (пример по ссылке из документации https://scikit-learn.org/stable/modules/generated/sklearn.pipeline.Pipeline.html#sklearn.pipeline.Pipeline.fit)"
   ]
  },
  {
   "cell_type": "code",
   "execution_count": 16,
   "metadata": {
    "id": "b-BZwFLGKKD1"
   },
   "outputs": [
    {
     "data": {
      "text/html": [
       "<div>\n",
       "<style scoped>\n",
       "    .dataframe tbody tr th:only-of-type {\n",
       "        vertical-align: middle;\n",
       "    }\n",
       "\n",
       "    .dataframe tbody tr th {\n",
       "        vertical-align: top;\n",
       "    }\n",
       "\n",
       "    .dataframe thead th {\n",
       "        text-align: right;\n",
       "    }\n",
       "</style>\n",
       "<table border=\"1\" class=\"dataframe\">\n",
       "  <thead>\n",
       "    <tr style=\"text-align: right;\">\n",
       "      <th></th>\n",
       "      <th>gender_Female</th>\n",
       "      <th>gender_Male</th>\n",
       "    </tr>\n",
       "  </thead>\n",
       "  <tbody>\n",
       "    <tr>\n",
       "      <th>3296</th>\n",
       "      <td>1</td>\n",
       "      <td>0</td>\n",
       "    </tr>\n",
       "    <tr>\n",
       "      <th>6397</th>\n",
       "      <td>0</td>\n",
       "      <td>1</td>\n",
       "    </tr>\n",
       "    <tr>\n",
       "      <th>6043</th>\n",
       "      <td>0</td>\n",
       "      <td>1</td>\n",
       "    </tr>\n",
       "    <tr>\n",
       "      <th>5309</th>\n",
       "      <td>1</td>\n",
       "      <td>0</td>\n",
       "    </tr>\n",
       "    <tr>\n",
       "      <th>3000</th>\n",
       "      <td>0</td>\n",
       "      <td>1</td>\n",
       "    </tr>\n",
       "    <tr>\n",
       "      <th>...</th>\n",
       "      <td>...</td>\n",
       "      <td>...</td>\n",
       "    </tr>\n",
       "    <tr>\n",
       "      <th>4931</th>\n",
       "      <td>0</td>\n",
       "      <td>1</td>\n",
       "    </tr>\n",
       "    <tr>\n",
       "      <th>3264</th>\n",
       "      <td>1</td>\n",
       "      <td>0</td>\n",
       "    </tr>\n",
       "    <tr>\n",
       "      <th>1653</th>\n",
       "      <td>0</td>\n",
       "      <td>1</td>\n",
       "    </tr>\n",
       "    <tr>\n",
       "      <th>2607</th>\n",
       "      <td>0</td>\n",
       "      <td>1</td>\n",
       "    </tr>\n",
       "    <tr>\n",
       "      <th>2732</th>\n",
       "      <td>1</td>\n",
       "      <td>0</td>\n",
       "    </tr>\n",
       "  </tbody>\n",
       "</table>\n",
       "<p>5282 rows × 2 columns</p>\n",
       "</div>"
      ],
      "text/plain": [
       "      gender_Female  gender_Male\n",
       "3296              1            0\n",
       "6397              0            1\n",
       "6043              0            1\n",
       "5309              1            0\n",
       "3000              0            1\n",
       "...             ...          ...\n",
       "4931              0            1\n",
       "3264              1            0\n",
       "1653              0            1\n",
       "2607              0            1\n",
       "2732              1            0\n",
       "\n",
       "[5282 rows x 2 columns]"
      ]
     },
     "execution_count": 16,
     "metadata": {},
     "output_type": "execute_result"
    }
   ],
   "source": [
    "#Ваш код здесь\n",
    "gender.fit_transform(X_train)"
   ]
  },
  {
   "cell_type": "markdown",
   "metadata": {
    "id": "Kr-FXWD2KKD1"
   },
   "source": [
    "##### 12. Здесь код писать уже не нужно (все сделано за вас). К полю tenure применяем StandardScaler (нормируем и центрируем). Ссылка - https://scikit-learn.org/stable/modules/generated/sklearn.preprocessing.StandardScaler.html\n",
    "Вопрос - в каких случаях это может быть полезно?"
   ]
  },
  {
   "cell_type": "code",
   "execution_count": 18,
   "metadata": {
    "id": "dL18IoGVKKD2"
   },
   "outputs": [],
   "source": [
    "from sklearn.preprocessing import StandardScaler\n",
    "\n",
    "tenure =  Pipeline([\n",
    "                ('selector', NumberSelector(key='tenure')),\n",
    "                ('standard', StandardScaler())\n",
    "            ])"
   ]
  },
  {
   "cell_type": "markdown",
   "metadata": {},
   "source": [
    "Все линейные алгоритмы работают лучше на нормированных\\стандартизированных данных."
   ]
  },
  {
   "cell_type": "markdown",
   "metadata": {
    "id": "RYveM6ZDKKD2"
   },
   "source": [
    "##### 13. Напишите аналогичный (как для tenure) преобразователь поля TotalCharges"
   ]
  },
  {
   "cell_type": "code",
   "execution_count": 23,
   "metadata": {
    "id": "hDcqCDNTKKD2"
   },
   "outputs": [],
   "source": [
    "#Ваш код здесь\n",
    "TotalCharges =  Pipeline([\n",
    "                ('selector', NumberSelector(key='TotalCharges')),\n",
    "                ('standard', StandardScaler())\n",
    "            ])"
   ]
  },
  {
   "cell_type": "markdown",
   "metadata": {
    "id": "-5wRfzU7KKD2"
   },
   "source": [
    "Объединение всех \"кубиков\" очень легко сделать таким образом"
   ]
  },
  {
   "cell_type": "code",
   "execution_count": 21,
   "metadata": {
    "id": "1UpLRJfuKKD2"
   },
   "outputs": [],
   "source": [
    "from sklearn.pipeline import FeatureUnion\n",
    "\n",
    "number_features = Pipeline([\n",
    "                ('selector', ColumnSelector(key=['PhoneService',\n",
    "                                                 'StreamingMovies', 'StreamingTV', \n",
    "                                                 'TechSupport']))\n",
    "            ])"
   ]
  },
  {
   "cell_type": "code",
   "execution_count": 24,
   "metadata": {
    "id": "ZpiN7jWBKKD2"
   },
   "outputs": [],
   "source": [
    "feats = FeatureUnion([('tenure', tenure),\n",
    "                      ('TotalCharges', TotalCharges),\n",
    "                      ('continuos_features', number_features),\n",
    "                      ('gender', gender)])\n",
    "feature_processing = Pipeline([('feats', feats)])"
   ]
  },
  {
   "cell_type": "markdown",
   "metadata": {
    "id": "sdFD8mC5KKD2"
   },
   "source": [
    "На этом этапе что мы сделали:\n",
    "1. написали преобразователь поля gender, который делает OHE кодирование\n",
    "2. написали преобразователь для поля tenure, который нормирует и центрирует его \n",
    "3. повторили п. 2 для поля TotalCharges\n",
    "3. для всех остальных просто взяли признаки как они есть, без изменений"
   ]
  },
  {
   "cell_type": "markdown",
   "metadata": {
    "id": "i322800wKKD4"
   },
   "source": [
    "У нас уже готов наш пайплайн, который преобразовывает признаки. Давайте обучим модель поверх него. В качестве модели возьмем RandomForestClassifier"
   ]
  },
  {
   "cell_type": "code",
   "execution_count": 25,
   "metadata": {
    "id": "wvA88DPmKKD4"
   },
   "outputs": [
    {
     "data": {
      "text/plain": [
       "Pipeline(steps=[('features',\n",
       "                 FeatureUnion(transformer_list=[('tenure',\n",
       "                                                 Pipeline(steps=[('selector',\n",
       "                                                                  NumberSelector(key='tenure')),\n",
       "                                                                 ('standard',\n",
       "                                                                  StandardScaler())])),\n",
       "                                                ('TotalCharges',\n",
       "                                                 Pipeline(steps=[('selector',\n",
       "                                                                  NumberSelector(key='TotalCharges')),\n",
       "                                                                 ('standard',\n",
       "                                                                  StandardScaler())])),\n",
       "                                                ('continuos_features',\n",
       "                                                 Pipeline(steps=[('selector',\n",
       "                                                                  ColumnSelector(key=['PhoneService',\n",
       "                                                                                      'StreamingMovies',\n",
       "                                                                                      'StreamingTV',\n",
       "                                                                                      'TechSupport']))])),\n",
       "                                                ('gender',\n",
       "                                                 Pipeline(steps=[('selector',\n",
       "                                                                  ColumnSelector(key='gender')),\n",
       "                                                                 ('ohe',\n",
       "                                                                  OHEEncoder(key='gender'))]))])),\n",
       "                ('classifier', RandomForestClassifier(random_state=42))])"
      ]
     },
     "execution_count": 25,
     "metadata": {},
     "output_type": "execute_result"
    }
   ],
   "source": [
    "from sklearn.ensemble import RandomForestClassifier\n",
    "\n",
    "pipeline = Pipeline([\n",
    "    ('features',feats),\n",
    "    ('classifier', RandomForestClassifier(random_state = 42)),\n",
    "])\n",
    "\n",
    "pipeline.fit(X_train, y_train)"
   ]
  },
  {
   "cell_type": "markdown",
   "metadata": {
    "id": "voq3IQWdKKD4"
   },
   "source": [
    "##### 14. Сделайте прогноз вероятности оттока для X_test с помощью нашего предобученного на предыдущем шаге пайплайна и убедитесь что вам возвращаются вероятности для 2 классов"
   ]
  },
  {
   "cell_type": "code",
   "execution_count": 34,
   "metadata": {
    "id": "r6y_t7dLKKD4"
   },
   "outputs": [],
   "source": [
    "#Ваш код здесь\n",
    "pred_proba = pipeline.predict_proba(X_test)\n"
   ]
  },
  {
   "cell_type": "code",
   "execution_count": 30,
   "metadata": {},
   "outputs": [
    {
     "data": {
      "text/plain": [
       "array([[0.78, 0.22],\n",
       "       [0.87, 0.13],\n",
       "       [0.75, 0.25],\n",
       "       ...,\n",
       "       [1.  , 0.  ],\n",
       "       [0.98, 0.02],\n",
       "       [1.  , 0.  ]])"
      ]
     },
     "execution_count": 30,
     "metadata": {},
     "output_type": "execute_result"
    }
   ],
   "source": [
    "pred_proba"
   ]
  },
  {
   "cell_type": "markdown",
   "metadata": {
    "id": "OiBJb-5LKKD4"
   },
   "source": [
    "##### 15. Посчитайте метрики качества получившейся модели (roc_auc, logloss)"
   ]
  },
  {
   "cell_type": "code",
   "execution_count": 33,
   "metadata": {
    "id": "6gPB0WWEKKD4"
   },
   "outputs": [
    {
     "data": {
      "text/plain": [
       "0.7787583156675664"
      ]
     },
     "execution_count": 33,
     "metadata": {},
     "output_type": "execute_result"
    }
   ],
   "source": [
    "from sklearn.metrics import roc_auc_score, log_loss\n",
    "roc = roc_auc_score(y_test, pred_proba[:, 1] )\n",
    "roc\n",
    "#Ваш код здесь\n"
   ]
  },
  {
   "cell_type": "code",
   "execution_count": 37,
   "metadata": {},
   "outputs": [
    {
     "data": {
      "text/plain": [
       "0.8050990950740847"
      ]
     },
     "execution_count": 37,
     "metadata": {},
     "output_type": "execute_result"
    }
   ],
   "source": [
    "llos = log_loss(y_test, pred_proba)\n",
    "llos"
   ]
  },
  {
   "cell_type": "markdown",
   "metadata": {
    "id": "nxIENPzcKKD5"
   },
   "source": [
    "### Сохраним наш пайплайн"
   ]
  },
  {
   "cell_type": "code",
   "execution_count": 39,
   "metadata": {},
   "outputs": [
    {
     "name": "stdout",
     "output_type": "stream",
     "text": [
      "Collecting dill\n",
      "  Downloading dill-0.3.4-py2.py3-none-any.whl (86 kB)\n",
      "Installing collected packages: dill\n",
      "Successfully installed dill-0.3.4\n"
     ]
    }
   ],
   "source": [
    "!pip install dill"
   ]
  },
  {
   "cell_type": "code",
   "execution_count": 40,
   "metadata": {
    "id": "9VdYyTplKKD5"
   },
   "outputs": [],
   "source": [
    "import dill\n",
    "with open(\"model_RF.dill\", \"wb\") as f:\n",
    "    dill.dump(pipeline, f)"
   ]
  },
  {
   "cell_type": "code",
   "execution_count": null,
   "metadata": {
    "id": "OB4RTd-aKKD5"
   },
   "outputs": [],
   "source": []
  }
 ],
 "metadata": {
  "colab": {
   "name": "HW1.ipynb",
   "provenance": []
  },
  "kernelspec": {
   "display_name": "Python 3",
   "language": "python",
   "name": "python3"
  },
  "language_info": {
   "codemirror_mode": {
    "name": "ipython",
    "version": 3
   },
   "file_extension": ".py",
   "mimetype": "text/x-python",
   "name": "python",
   "nbconvert_exporter": "python",
   "pygments_lexer": "ipython3",
   "version": "3.8.8"
  }
 },
 "nbformat": 4,
 "nbformat_minor": 1
}
