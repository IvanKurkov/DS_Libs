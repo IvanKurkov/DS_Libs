{
 "cells": [
  {
   "cell_type": "markdown",
   "id": "6b7b7457",
   "metadata": {},
   "source": [
    "В scipy имеется готовая реализация однофакторного дисперсионного анализа: в функцию scipy.stats.f_oneway нужно поочерёдно передать каждую из выборок для теста. Возвращает такая функция, как обычно, значение статистики и P-значение."
   ]
  },
  {
   "cell_type": "markdown",
   "id": "9768b7b7",
   "metadata": {},
   "source": [
    "Если p > alpha, то категориальная переменная не оказывает влияния."
   ]
  },
  {
   "cell_type": "markdown",
   "id": "50125008",
   "metadata": {},
   "source": [
    "stats.f_oneway(y1, y2, y3) - где y1, y2, y3 это выборки целевой переменной определенных категорий."
   ]
  },
  {
   "cell_type": "markdown",
   "id": "95342e80",
   "metadata": {},
   "source": [
    "С помощью теста, мы можем определить значимость категориальных переменных. В данном случае , мы используем дисперсии целевой переменной в подкатегориях."
   ]
  },
  {
   "cell_type": "markdown",
   "id": "6a44900d",
   "metadata": {},
   "source": [
    "Пример 1\n",
    "\n",
    "Среди людей, проживающих в одном городе, выделены три группы по профессии: бухгалтеры, юристы, программисты. Имеются данные по зарплатам в этих трёх группах:\n",
    "\n",
    "y1 = [70, 50, 65, 60, 75]\n",
    "y2 = [80, 75, 90, 70, 75, 65, 85, 100]\n",
    "y3 = [130, 100, 140, 150, 160, 170, 200]\n",
    "Требуется проверить гипотезу у равенстве средней зарплаты по каждой группе. Для проверки этой гипотезы воспользуемся однофакторным дисперсионным анализом."
   ]
  },
  {
   "cell_type": "code",
   "execution_count": null,
   "id": "bd26eb96",
   "metadata": {},
   "outputs": [],
   "source": [
    "us = [df[df[\"country\"] == i][\"bmi\"] for i in df[\"country\"].unique()]\n",
    "stats.f_oneway(*us)"
   ]
  }
 ],
 "metadata": {
  "kernelspec": {
   "display_name": "Python 3",
   "language": "python",
   "name": "python3"
  },
  "language_info": {
   "codemirror_mode": {
    "name": "ipython",
    "version": 3
   },
   "file_extension": ".py",
   "mimetype": "text/x-python",
   "name": "python",
   "nbconvert_exporter": "python",
   "pygments_lexer": "ipython3",
   "version": "3.8.8"
  }
 },
 "nbformat": 4,
 "nbformat_minor": 5
}
