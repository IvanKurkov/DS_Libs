{
 "cells": [
  {
   "cell_type": "code",
   "execution_count": null,
   "id": "81b2a0c2",
   "metadata": {},
   "outputs": [],
   "source": [
    "def evaluate_preds(true_values, pred_values, save=False):\n",
    "        \n",
    "    print(\"R2:\\t\" + str(round(r2(true_values, pred_values), 4)) + \"\\n\" +\n",
    "          \"RMSE:\\t\" + str(round(np.sqrt(mse(true_values, pred_values)), 3)) + \"\\n\" +\n",
    "          \"MSE:\\t\" + str(round(mse(true_values, pred_values), 3))\n",
    "         )\n",
    "    \n",
    "    plt.figure(figsize=(8,8))\n",
    "    \n",
    "    sns.scatterplot(x=pred_values, y=true_values)\n",
    "    plt.plot([0, 500000], [0, 500000], linestyle='--', color='black')  \n",
    "    \n",
    "    plt.xlabel('Predicted values')\n",
    "    plt.ylabel('True values')\n",
    "    plt.title('True vs Predicted values')\n",
    "    \n",
    "    plt.show()"
   ]
  },
  {
   "cell_type": "code",
   "execution_count": null,
   "id": "bd05fb4d",
   "metadata": {},
   "outputs": [],
   "source": [
    "evaluate_preds(y_train, y_pred)\n"
   ]
  }
 ],
 "metadata": {
  "kernelspec": {
   "display_name": "Python 3",
   "language": "python",
   "name": "python3"
  },
  "language_info": {
   "codemirror_mode": {
    "name": "ipython",
    "version": 3
   },
   "file_extension": ".py",
   "mimetype": "text/x-python",
   "name": "python",
   "nbconvert_exporter": "python",
   "pygments_lexer": "ipython3",
   "version": "3.8.8"
  }
 },
 "nbformat": 4,
 "nbformat_minor": 5
}
