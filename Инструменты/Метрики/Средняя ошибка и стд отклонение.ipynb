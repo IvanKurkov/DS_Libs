{
 "cells": [
  {
   "cell_type": "markdown",
   "id": "9328da48",
   "metadata": {},
   "source": [
    "Средняя ошиба и стандартное отклонение"
   ]
  },
  {
   "cell_type": "code",
   "execution_count": null,
   "id": "88432cf8",
   "metadata": {},
   "outputs": [],
   "source": [
    "residuals = (df_weekly['Weekly_Sales'] - pred_ext_df[0]) / df_weekly['Weekly_Sales']"
   ]
  },
  {
   "cell_type": "code",
   "execution_count": null,
   "id": "b07cfae1",
   "metadata": {},
   "outputs": [],
   "source": [
    "print('Model Residuals: среднее %.4f, стандартное отклонение %.4f' % (residuals.mean(), residuals.std()))"
   ]
  }
 ],
 "metadata": {
  "kernelspec": {
   "display_name": "Python 3",
   "language": "python",
   "name": "python3"
  },
  "language_info": {
   "codemirror_mode": {
    "name": "ipython",
    "version": 3
   },
   "file_extension": ".py",
   "mimetype": "text/x-python",
   "name": "python",
   "nbconvert_exporter": "python",
   "pygments_lexer": "ipython3",
   "version": "3.8.8"
  }
 },
 "nbformat": 4,
 "nbformat_minor": 5
}
