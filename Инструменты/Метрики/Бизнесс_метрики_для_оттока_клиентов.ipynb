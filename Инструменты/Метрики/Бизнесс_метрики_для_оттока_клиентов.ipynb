{
 "cells": [
  {
   "cell_type": "markdown",
   "metadata": {
    "id": "utlLj-Vhsf4O"
   },
   "source": [
    "# Урок 5. Задача оттока: варианты постановки, возможные способы решения##"
   ]
  },
  {
   "cell_type": "markdown",
   "metadata": {
    "id": "4wQKxC8psf4e"
   },
   "source": [
    "План занятия:\n",
    "\n",
    "1. что такое \"отток\"?\n",
    "2. задача оттока как часть процесса под названием customer relationship management\n",
    "3. для чего его (отток) прогнозировать?\n",
    "4. удержание пользователей\n",
    "5. анализ аудитории\n",
    "6. метрики удержания\n",
    "7. области применения\n",
    "8. Как оценить эффективность удержания аудитории"
   ]
  },
  {
   "cell_type": "markdown",
   "metadata": {
    "id": "Pnvk5wiQsf4t"
   },
   "source": [
    "### Что такое \"отток\"?"
   ]
  },
  {
   "cell_type": "markdown",
   "metadata": {
    "id": "G_VD-6ynsf40"
   },
   "source": [
    "Одно из определений:\n",
    "\n",
    "- отказ пользователя от некоторого продукта или услуги (сервиса)"
   ]
  },
  {
   "cell_type": "markdown",
   "metadata": {
    "id": "qXhsKaAcsf5C"
   },
   "source": [
    "<img src='https://drive.google.com/uc?export=view&id=1YakQRMiP5AK2SC3s_6k1QeDXRu9Axgg8' width=500>"
   ]
  },
  {
   "cell_type": "markdown",
   "metadata": {
    "id": "4jbPoqsNsf5I"
   },
   "source": [
    "\"Интуитивно\" понятие оттока понятно - был пользователь, который пользовался нашим сервисом, а потом вдруг перестал это делать. *Примеры: перешел в другой банк, в другую телекоммуникационную компанию, стал пользоваться другим сервисом и т.д (в зависимости от того, какая у нас сфера)*"
   ]
  },
  {
   "cell_type": "markdown",
   "metadata": {
    "id": "GeYEhE3Zsf5w"
   },
   "source": [
    "### Для чего прогнозировать отток?"
   ]
  },
  {
   "cell_type": "markdown",
   "metadata": {
    "id": "sPY6gA8isf52"
   },
   "source": [
    "- Чем больше у нас пользователей, тем выше прибыль (особенно, если большая доля выручки - это рекламная монетизация)\n",
    "- Больше пользователей = привлечение новых + удержание существующих (уменьшение оттока уже существующих)\n",
    "- У привлечения новых и удержания \"старых\" разная экономическая эффективность"
   ]
  },
  {
   "cell_type": "markdown",
   "metadata": {
    "id": "fewVd4eysf7w"
   },
   "source": [
    "## Области применения\n",
    "\n",
    "\n",
    "- банки\n",
    "- телеком\n",
    "- страховые компании\n",
    "- e-commerce, ритейл\n",
    "- мобильные сервисы\n",
    "- прочее"
   ]
  },
  {
   "cell_type": "markdown",
   "metadata": {
    "id": "q3zTqCRasf6p"
   },
   "source": [
    "**Удержание стоит денег!**"
   ]
  },
  {
   "cell_type": "markdown",
   "metadata": {
    "id": "gdOz8_Xvsf64"
   },
   "source": [
    "Здесь вопрос уже в том, насколько \"дешево\" привлекать новых и \"дорого\" - удерживать старых\n",
    "\n",
    "Еще один момент - разные пользователи приносят нам разную прибыль.\n",
    "\n",
    "Очень может быть, что попробовать удержать \"китов\" будет гораздо выгоднее привлечения новых пользователей"
   ]
  },
  {
   "cell_type": "markdown",
   "metadata": {
    "id": "50yJvXUtsf65"
   },
   "source": [
    "<img src='https://drive.google.com/uc?export=view&id=1-3abzdg7YlncIsbZiSe22JVPL3zYXg89' width=600>"
   ]
  },
  {
   "cell_type": "markdown",
   "metadata": {
    "id": "g22MqXRGsf7B"
   },
   "source": [
    "### Удержание"
   ]
  },
  {
   "cell_type": "markdown",
   "metadata": {
    "id": "TQm8_I8usf7G"
   },
   "source": [
    "<table>\n",
    "<tr>\n",
    "<td>\n",
    "<img src='https://drive.google.com/uc?export=view&id=1hYOkwKiHoaj9VScbqHMvfHJ0fDOHPsC1' width=200>\n",
    "</td>\n",
    "<td>\n",
    "<img src='https://drive.google.com/uc?export=view&id=1pPM0F4nCaHYe1XvWy68Hp6tTONTvSVRV'>\n",
    "</td>\n",
    "</tr>\n",
    "</table>"
   ]
  },
  {
   "cell_type": "markdown",
   "metadata": {
    "id": "V4yrYB1fsf7L"
   },
   "source": [
    "**А что если удерживать всех пользователей?**\n",
    "\n",
    "Это будет очень дорого и неэффективно!"
   ]
  },
  {
   "cell_type": "markdown",
   "metadata": {
    "id": "YMrcqUB0sf7M"
   },
   "source": [
    "Особенности процесса удержания:\n",
    "\n",
    "- удержание происходит не всегда быстро (это занимает некоторое время + нужно оценить результаты)\n",
    "\n"
   ]
  },
  {
   "cell_type": "markdown",
   "metadata": {
    "id": "RHtXM6B0sf7S"
   },
   "source": [
    "## Этапы удержания\n",
    "1. определить сегмент, кого удерживать (это как раз наша часть)\n",
    "2. определить, что предлагать (вебинар 2)\n",
    "3. сделать предложение\n",
    "4. дождаться реакции\n",
    "5. оценить результаты\n",
    "\n",
    "\n",
    "При этом прогноз должен быть сделан немного раньше, чем когда пользователь уже уйдет, чтобы клиентский отдел успел придумать, чего бы такого выгодного и интересного предложить пользователю.\n",
    "\n",
    "Но чем мы раньше делаем предсказание, тем чаще оно будет некачественное (можно вспомнить временные ряды и его предсказание на следующий день, либо на сотый день)."
   ]
  },
  {
   "cell_type": "markdown",
   "metadata": {
    "id": "TRdL-hKjsf7e"
   },
   "source": [
    "## Метрики удержания"
   ]
  },
  {
   "cell_type": "markdown",
   "metadata": {
    "id": "Pnn6g6PQsf7h"
   },
   "source": [
    "- return rate (конверсия возврата)\n",
    "- churn rate (конверсия оттока)\n",
    "- N-day retention (удержание на день N, какая доля пользователей остается с нами на N-й день после установки (первой сессии))"
   ]
  },
  {
   "cell_type": "markdown",
   "metadata": {
    "id": "NS5aqmYBsf7l"
   },
   "source": [
    "$$return\\space rate = \\frac{текущее\\spaceкол-во\\space активных\\space пользователей\\space из\\spaceдатасета}{общее\\space кол-во\\space пользователей\\space из\\spaceдатасета}*100$$"
   ]
  },
  {
   "cell_type": "markdown",
   "metadata": {
    "id": "FiJ8vjT1sf7n"
   },
   "source": [
    "$$churn \\space rate = \\frac{кол-во\\space пользователей\\space из\\space датасета, ушедших\\space в\\space отток}{общее\\space кол-во\\space пользователей\\space из\\space набора\\space данных}*100$$"
   ]
  },
  {
   "cell_type": "markdown",
   "metadata": {
    "id": "5LNGkOzJ0GaG"
   },
   "source": [
    "<img src='https://drive.google.com/uc?export=view&id=1MmDXO34b7ICBSPN8NMH-B81BgxYS3rhh' width=400>"
   ]
  },
  {
   "cell_type": "markdown",
   "metadata": {
    "id": "iooax_ZDsf70"
   },
   "source": [
    "### Как оценить эффективность удержания аудитории"
   ]
  },
  {
   "cell_type": "markdown",
   "metadata": {
    "id": "Gix6cV9Nsf72"
   },
   "source": [
    "Можно выделить несколько шагов:\n",
    "\n",
    "1. провести анализ аудитории: сегментация, ключевые показатели и т.д\n",
    "2. формализовать постановку задачи и построить модель\n",
    "3. запустить компанию по удержанию (с учетом прогнозов п.2) и оценить результаты"
   ]
  },
  {
   "cell_type": "markdown",
   "metadata": {
    "id": "xYHThcRPsf74"
   },
   "source": [
    "Анализ пользователей делается с целью ответить на следующие вопросы:\n",
    "\n",
    "1. существует ли проблема оттока в принципе\n",
    "2. доля пользователей, уходящих в отток\n",
    "3. сколько мы из-за этого теряем"
   ]
  },
  {
   "cell_type": "markdown",
   "metadata": {
    "id": "gOU9bhMFsf75"
   },
   "source": [
    "Неплохо еще построить экономическую модель, которая будет давать оценку в денежном выражении.\n",
    "\n",
    "Например: если у меня уходит X пользователей в сутки и я смогу удерживать Y из них, потратив N денег, то смогу ли я заработать больше N на их удержании?"
   ]
  },
  {
   "cell_type": "markdown",
   "metadata": {
    "id": "XQYSCp8lsf79"
   },
   "source": [
    "### Постановка задачи"
   ]
  },
  {
   "cell_type": "markdown",
   "metadata": {
    "id": "NiSlsflxsf79"
   },
   "source": [
    "1. Анализ аудитории (описание через вектор)\n",
    "2. Определяем что мы считаем оттоком\n",
    "3. Выбираем тип задачи (бинарная/многоклассовая классификация, регрессия и т.д)\n",
    "4. Определяем горизонт прогнозирования (с учетом времени на удержание)\n",
    "5. Решаем, как именно мы будем оценивать качество нашей будущей модели (метрики)\n",
    "6. Планируем дизайн эксперимента"
   ]
  },
  {
   "cell_type": "markdown",
   "metadata": {
    "id": "UkfAw-6csf8C"
   },
   "source": [
    "Необходимо спланировать, как будет выглядеть кампания по удержанию\n",
    "\n",
    "- какие у нас каналы взаимодействия с пользователем\n",
    "- какое время взаимодействия\n",
    "- что мы предлагаем"
   ]
  },
  {
   "cell_type": "markdown",
   "metadata": {
    "id": "JcQ3vb-hsf8E"
   },
   "source": [
    "Пример формулировки продуктовой гипотезы:"
   ]
  },
  {
   "cell_type": "markdown",
   "metadata": {
    "id": "bEMAhR6Xsf8F"
   },
   "source": [
    "\"Базируясь на предположении, что модель машинного обучения сможет сегментировать пользователей на тех, кто уходит в отток и нет, <b>не превышая ошибку в X%</b>, мы предполагаем, что реализовав такую систему прогнозирования вероятности оттока, основанную на ML, мы сможем выделить сегмент пользователей, которые собираются уйти в отток и провести кампанию по удержанию, что приведет к тому, что большинство таких пользователей останутся с нами в будущем. Мы увидим это по <b>увеличению доли пользователей, оставшихся с нами на день N</b> ,и можем измерить ее с помощью метрики <b>удержание N-го дня</b>. Мы полагаем, что изменение приведет к хорошим результатам для компании, т.к увеличит удержание пользователей и, как следствие, увеличение выручки для компании\""
   ]
  },
  {
   "cell_type": "markdown",
   "metadata": {
    "id": "CEO2HUr8sf8H"
   },
   "source": [
    "* ML-модель может ошибаться и в итоге в кампанию по удержанию попадут в том числе и те клиенты, которые не собирались от нас уходить. Как следствие, на их удержание будут потрачены деньги (им будет сделано более выгодное предложение, хотя этого можно было и не делать)"
   ]
  },
  {
   "cell_type": "markdown",
   "metadata": {
    "id": "4yxGP29ysf8L"
   },
   "source": [
    "### Планирование эксперимента"
   ]
  },
  {
   "cell_type": "markdown",
   "metadata": {
    "id": "vXuO4RsJsf8M"
   },
   "source": [
    "При наличии модели с приемлемым качеством мы уже можем спланировать и провести эксперимент\n",
    "\n",
    "1. скорим всю нашу аудиторию модель прогнозирования оттока и получаем вероятности оттока для каждого пользователя\n",
    "2. сортируем пользователей по убыванию вероятности и берем топ Y%\n",
    "3. проводим кампанию по удержанию полученной выборки\n",
    "4. оцениваем результаты (превышает ли выручка от удержания расходы на это самое удержание)"
   ]
  },
  {
   "cell_type": "markdown",
   "metadata": {
    "id": "1YUgayeAsf8P"
   },
   "source": [
    "## Практика\n"
   ]
  },
  {
   "cell_type": "markdown",
   "metadata": {
    "id": "derFQjHcW6pu"
   },
   "source": [
    "\n",
    "### Case 1"
   ]
  },
  {
   "cell_type": "markdown",
   "metadata": {
    "id": "otOJPSW3sf8Q"
   },
   "source": [
    "Давайте поработаем с набором данных с платформы kaggle https://www.kaggle.com/adammaus/predicting-churn-for-bank-customers по оттоку клиентов банка"
   ]
  },
  {
   "cell_type": "code",
   "execution_count": null,
   "metadata": {
    "id": "_yJFfTXBsf8R"
   },
   "outputs": [],
   "source": [
    "import pandas as pd\n",
    "import numpy as np\n",
    "from sklearn.pipeline import Pipeline, make_pipeline\n",
    "from sklearn.base import BaseEstimator, TransformerMixin\n",
    "from sklearn.linear_model import LogisticRegression\n",
    "from sklearn.model_selection import train_test_split\n",
    "#from sklearn.feature_extraction.text import TfidfVectorizer\n",
    "import itertools\n",
    "\n",
    "import matplotlib.pyplot as plt\n",
    "\n",
    "%matplotlib inline"
   ]
  },
  {
   "cell_type": "markdown",
   "metadata": {
    "id": "0mMl3U1uqKxM"
   },
   "source": [
    "Ссылка на google drive: https://drive.google.com/file/d/1yIIxDfW7Wfq-wPlbsa0dFrSlD3r-Ai91"
   ]
  },
  {
   "cell_type": "code",
   "execution_count": null,
   "metadata": {
    "colab": {
     "base_uri": "https://localhost:8080/"
    },
    "id": "qeL_iX6Stp7V",
    "outputId": "67ec2273-6b60-45ab-cc76-7bf290bff10a"
   },
   "outputs": [
    {
     "name": "stdout",
     "output_type": "stream",
     "text": [
      "--2022-05-27 16:46:30--  https://drive.google.com/uc?export=download&id=1yIIxDfW7Wfq-wPlbsa0dFrSlD3r-Ai91\n",
      "Resolving drive.google.com (drive.google.com)... 74.125.26.102, 74.125.26.113, 74.125.26.139, ...\n",
      "Connecting to drive.google.com (drive.google.com)|74.125.26.102|:443... connected.\n",
      "HTTP request sent, awaiting response... 303 See Other\n",
      "Location: https://doc-14-c0-docs.googleusercontent.com/docs/securesc/ha0ro937gcuc7l7deffksulhg5h7mbp1/17vjbeibp6pdjnf12df6nnsoqfnviqt8/1653669975000/14904333240138417226/*/1yIIxDfW7Wfq-wPlbsa0dFrSlD3r-Ai91?e=download [following]\n",
      "Warning: wildcards not supported in HTTP.\n",
      "--2022-05-27 16:46:30--  https://doc-14-c0-docs.googleusercontent.com/docs/securesc/ha0ro937gcuc7l7deffksulhg5h7mbp1/17vjbeibp6pdjnf12df6nnsoqfnviqt8/1653669975000/14904333240138417226/*/1yIIxDfW7Wfq-wPlbsa0dFrSlD3r-Ai91?e=download\n",
      "Resolving doc-14-c0-docs.googleusercontent.com (doc-14-c0-docs.googleusercontent.com)... 172.217.204.132, 2607:f8b0:400c:c15::84\n",
      "Connecting to doc-14-c0-docs.googleusercontent.com (doc-14-c0-docs.googleusercontent.com)|172.217.204.132|:443... connected.\n",
      "HTTP request sent, awaiting response... 200 OK\n",
      "Length: 674856 (659K) [text/csv]\n",
      "Saving to: ‘churn_data.csv’\n",
      "\n",
      "churn_data.csv      100%[===================>] 659.04K  --.-KB/s    in 0.005s  \n",
      "\n",
      "2022-05-27 16:46:31 (135 MB/s) - ‘churn_data.csv’ saved [674856/674856]\n",
      "\n"
     ]
    }
   ],
   "source": [
    "!wget 'https://drive.google.com/uc?export=download&id=1yIIxDfW7Wfq-wPlbsa0dFrSlD3r-Ai91' -O churn_data.csv"
   ]
  },
  {
   "cell_type": "code",
   "execution_count": null,
   "metadata": {
    "colab": {
     "base_uri": "https://localhost:8080/",
     "height": 143
    },
    "id": "LDKU90Nbsf8U",
    "outputId": "d169f96c-4043-48b1-87b8-278cbb0bc509"
   },
   "outputs": [
    {
     "data": {
      "text/html": [
       "\n",
       "  <div id=\"df-aeeaf90b-36d1-4afb-8a53-cb3d7bdaf973\">\n",
       "    <div class=\"colab-df-container\">\n",
       "      <div>\n",
       "<style scoped>\n",
       "    .dataframe tbody tr th:only-of-type {\n",
       "        vertical-align: middle;\n",
       "    }\n",
       "\n",
       "    .dataframe tbody tr th {\n",
       "        vertical-align: top;\n",
       "    }\n",
       "\n",
       "    .dataframe thead th {\n",
       "        text-align: right;\n",
       "    }\n",
       "</style>\n",
       "<table border=\"1\" class=\"dataframe\">\n",
       "  <thead>\n",
       "    <tr style=\"text-align: right;\">\n",
       "      <th></th>\n",
       "      <th>RowNumber</th>\n",
       "      <th>CustomerId</th>\n",
       "      <th>Surname</th>\n",
       "      <th>CreditScore</th>\n",
       "      <th>Geography</th>\n",
       "      <th>Gender</th>\n",
       "      <th>Age</th>\n",
       "      <th>Tenure</th>\n",
       "      <th>Balance</th>\n",
       "      <th>NumOfProducts</th>\n",
       "      <th>HasCrCard</th>\n",
       "      <th>IsActiveMember</th>\n",
       "      <th>EstimatedSalary</th>\n",
       "      <th>Exited</th>\n",
       "    </tr>\n",
       "  </thead>\n",
       "  <tbody>\n",
       "    <tr>\n",
       "      <th>0</th>\n",
       "      <td>1</td>\n",
       "      <td>15634602</td>\n",
       "      <td>Hargrave</td>\n",
       "      <td>619</td>\n",
       "      <td>France</td>\n",
       "      <td>Female</td>\n",
       "      <td>42</td>\n",
       "      <td>2</td>\n",
       "      <td>0.00</td>\n",
       "      <td>1</td>\n",
       "      <td>1</td>\n",
       "      <td>1</td>\n",
       "      <td>101348.88</td>\n",
       "      <td>1</td>\n",
       "    </tr>\n",
       "    <tr>\n",
       "      <th>1</th>\n",
       "      <td>2</td>\n",
       "      <td>15647311</td>\n",
       "      <td>Hill</td>\n",
       "      <td>608</td>\n",
       "      <td>Spain</td>\n",
       "      <td>Female</td>\n",
       "      <td>41</td>\n",
       "      <td>1</td>\n",
       "      <td>83807.86</td>\n",
       "      <td>1</td>\n",
       "      <td>0</td>\n",
       "      <td>1</td>\n",
       "      <td>112542.58</td>\n",
       "      <td>0</td>\n",
       "    </tr>\n",
       "    <tr>\n",
       "      <th>2</th>\n",
       "      <td>3</td>\n",
       "      <td>15619304</td>\n",
       "      <td>Onio</td>\n",
       "      <td>502</td>\n",
       "      <td>France</td>\n",
       "      <td>Female</td>\n",
       "      <td>42</td>\n",
       "      <td>8</td>\n",
       "      <td>159660.80</td>\n",
       "      <td>3</td>\n",
       "      <td>1</td>\n",
       "      <td>0</td>\n",
       "      <td>113931.57</td>\n",
       "      <td>1</td>\n",
       "    </tr>\n",
       "  </tbody>\n",
       "</table>\n",
       "</div>\n",
       "      <button class=\"colab-df-convert\" onclick=\"convertToInteractive('df-aeeaf90b-36d1-4afb-8a53-cb3d7bdaf973')\"\n",
       "              title=\"Convert this dataframe to an interactive table.\"\n",
       "              style=\"display:none;\">\n",
       "        \n",
       "  <svg xmlns=\"http://www.w3.org/2000/svg\" height=\"24px\"viewBox=\"0 0 24 24\"\n",
       "       width=\"24px\">\n",
       "    <path d=\"M0 0h24v24H0V0z\" fill=\"none\"/>\n",
       "    <path d=\"M18.56 5.44l.94 2.06.94-2.06 2.06-.94-2.06-.94-.94-2.06-.94 2.06-2.06.94zm-11 1L8.5 8.5l.94-2.06 2.06-.94-2.06-.94L8.5 2.5l-.94 2.06-2.06.94zm10 10l.94 2.06.94-2.06 2.06-.94-2.06-.94-.94-2.06-.94 2.06-2.06.94z\"/><path d=\"M17.41 7.96l-1.37-1.37c-.4-.4-.92-.59-1.43-.59-.52 0-1.04.2-1.43.59L10.3 9.45l-7.72 7.72c-.78.78-.78 2.05 0 2.83L4 21.41c.39.39.9.59 1.41.59.51 0 1.02-.2 1.41-.59l7.78-7.78 2.81-2.81c.8-.78.8-2.07 0-2.86zM5.41 20L4 18.59l7.72-7.72 1.47 1.35L5.41 20z\"/>\n",
       "  </svg>\n",
       "      </button>\n",
       "      \n",
       "  <style>\n",
       "    .colab-df-container {\n",
       "      display:flex;\n",
       "      flex-wrap:wrap;\n",
       "      gap: 12px;\n",
       "    }\n",
       "\n",
       "    .colab-df-convert {\n",
       "      background-color: #E8F0FE;\n",
       "      border: none;\n",
       "      border-radius: 50%;\n",
       "      cursor: pointer;\n",
       "      display: none;\n",
       "      fill: #1967D2;\n",
       "      height: 32px;\n",
       "      padding: 0 0 0 0;\n",
       "      width: 32px;\n",
       "    }\n",
       "\n",
       "    .colab-df-convert:hover {\n",
       "      background-color: #E2EBFA;\n",
       "      box-shadow: 0px 1px 2px rgba(60, 64, 67, 0.3), 0px 1px 3px 1px rgba(60, 64, 67, 0.15);\n",
       "      fill: #174EA6;\n",
       "    }\n",
       "\n",
       "    [theme=dark] .colab-df-convert {\n",
       "      background-color: #3B4455;\n",
       "      fill: #D2E3FC;\n",
       "    }\n",
       "\n",
       "    [theme=dark] .colab-df-convert:hover {\n",
       "      background-color: #434B5C;\n",
       "      box-shadow: 0px 1px 3px 1px rgba(0, 0, 0, 0.15);\n",
       "      filter: drop-shadow(0px 1px 2px rgba(0, 0, 0, 0.3));\n",
       "      fill: #FFFFFF;\n",
       "    }\n",
       "  </style>\n",
       "\n",
       "      <script>\n",
       "        const buttonEl =\n",
       "          document.querySelector('#df-aeeaf90b-36d1-4afb-8a53-cb3d7bdaf973 button.colab-df-convert');\n",
       "        buttonEl.style.display =\n",
       "          google.colab.kernel.accessAllowed ? 'block' : 'none';\n",
       "\n",
       "        async function convertToInteractive(key) {\n",
       "          const element = document.querySelector('#df-aeeaf90b-36d1-4afb-8a53-cb3d7bdaf973');\n",
       "          const dataTable =\n",
       "            await google.colab.kernel.invokeFunction('convertToInteractive',\n",
       "                                                     [key], {});\n",
       "          if (!dataTable) return;\n",
       "\n",
       "          const docLinkHtml = 'Like what you see? Visit the ' +\n",
       "            '<a target=\"_blank\" href=https://colab.research.google.com/notebooks/data_table.ipynb>data table notebook</a>'\n",
       "            + ' to learn more about interactive tables.';\n",
       "          element.innerHTML = '';\n",
       "          dataTable['output_type'] = 'display_data';\n",
       "          await google.colab.output.renderOutput(dataTable, element);\n",
       "          const docLink = document.createElement('div');\n",
       "          docLink.innerHTML = docLinkHtml;\n",
       "          element.appendChild(docLink);\n",
       "        }\n",
       "      </script>\n",
       "    </div>\n",
       "  </div>\n",
       "  "
      ],
      "text/plain": [
       "   RowNumber  CustomerId   Surname  CreditScore Geography  Gender  Age  \\\n",
       "0          1    15634602  Hargrave          619    France  Female   42   \n",
       "1          2    15647311      Hill          608     Spain  Female   41   \n",
       "2          3    15619304      Onio          502    France  Female   42   \n",
       "\n",
       "   Tenure    Balance  NumOfProducts  HasCrCard  IsActiveMember  \\\n",
       "0       2       0.00              1          1               1   \n",
       "1       1   83807.86              1          0               1   \n",
       "2       8  159660.80              3          1               0   \n",
       "\n",
       "   EstimatedSalary  Exited  \n",
       "0        101348.88       1  \n",
       "1        112542.58       0  \n",
       "2        113931.57       1  "
      ]
     },
     "execution_count": 3,
     "metadata": {},
     "output_type": "execute_result"
    }
   ],
   "source": [
    "df = pd.read_csv(\"churn_data.csv\")\n",
    "df.head(3)"
   ]
  },
  {
   "cell_type": "markdown",
   "metadata": {
    "id": "fxErVfH_sf8W"
   },
   "source": [
    "Есть как категориальные, так и вещественные признаки. Поле CustomerId нужно будет удалить. \n",
    "\n",
    "Посмотрим на распределение классов:"
   ]
  },
  {
   "cell_type": "code",
   "execution_count": null,
   "metadata": {
    "colab": {
     "base_uri": "https://localhost:8080/"
    },
    "id": "m76pJ_spsf8X",
    "outputId": "69326dbb-0aa0-496e-9cbf-c8f644084b19"
   },
   "outputs": [
    {
     "data": {
      "text/plain": [
       "0    7963\n",
       "1    2037\n",
       "Name: Exited, dtype: int64"
      ]
     },
     "execution_count": 4,
     "metadata": {},
     "output_type": "execute_result"
    }
   ],
   "source": [
    "df['Exited'].value_counts()"
   ]
  },
  {
   "cell_type": "markdown",
   "metadata": {
    "id": "gHHHgjRmsf8a"
   },
   "source": [
    "Не самое плохое распределение (1 к 4)"
   ]
  },
  {
   "cell_type": "markdown",
   "metadata": {
    "id": "C0UTBvAisf8b"
   },
   "source": [
    "Давайте построим модель. Сразу же будем работать с использованием sklearn pipeline"
   ]
  },
  {
   "cell_type": "code",
   "execution_count": null,
   "metadata": {
    "id": "mBAkHjXXsf8c"
   },
   "outputs": [],
   "source": [
    "#разделим данные на train/test\n",
    "X_train, X_test, y_train, y_test = train_test_split(df, df['Exited'], random_state=0)"
   ]
  },
  {
   "cell_type": "markdown",
   "metadata": {
    "id": "HJuFLXj3sf8e"
   },
   "source": [
    "- Категориальные признаки закодируем с помощью OneHotEncoding\n",
    "- Вещественные оставим пока как есть"
   ]
  },
  {
   "cell_type": "code",
   "execution_count": null,
   "metadata": {
    "id": "OfErCKdzsf8f"
   },
   "outputs": [],
   "source": [
    "#соберем наш простой pipeline, но нам понадобится написать класс для выбора нужного поля\n",
    "class FeatureSelector(BaseEstimator, TransformerMixin):\n",
    "    def __init__(self, column):\n",
    "        self.column = column\n",
    "\n",
    "    def fit(self, X, y=None):\n",
    "        return self\n",
    "\n",
    "    def transform(self, X, y=None):\n",
    "        return X[self.column]\n",
    "    \n",
    "\n",
    "class NumberSelector(BaseEstimator, TransformerMixin):\n",
    "    \"\"\"\n",
    "    Transformer to select a single column from the data frame to perform additional transformations on\n",
    "    Use on numeric columns in the data\n",
    "    \"\"\"\n",
    "    def __init__(self, key):\n",
    "        self.key = key\n",
    "\n",
    "    def fit(self, X, y=None):\n",
    "        return self\n",
    "\n",
    "    def transform(self, X):\n",
    "        return X[[self.key]]\n",
    "    \n",
    "    \n",
    "class OHEEncoder(BaseEstimator, TransformerMixin):\n",
    "    def __init__(self, key):\n",
    "        self.key = key\n",
    "        self.columns = []\n",
    "\n",
    "    def fit(self, X, y=None):\n",
    "        self.columns = [col for col in pd.get_dummies(X, prefix=self.key).columns]\n",
    "        return self\n",
    "\n",
    "    def transform(self, X):\n",
    "        X = pd.get_dummies(X, prefix=self.key)\n",
    "        test_columns = [col for col in X.columns]\n",
    "        \n",
    "        for col_ in self.columns:\n",
    "            if col_ not in test_columns:\n",
    "                X[col_] = 0\n",
    "        return X[self.columns]"
   ]
  },
  {
   "cell_type": "code",
   "execution_count": null,
   "metadata": {
    "colab": {
     "base_uri": "https://localhost:8080/",
     "height": 143
    },
    "id": "CDJDAsM-sf8h",
    "outputId": "826475dd-a08c-47ac-9888-7647c3929d7e"
   },
   "outputs": [
    {
     "data": {
      "text/html": [
       "\n",
       "  <div id=\"df-e5ff7c24-77cd-42eb-93c9-d6a384e3d35a\">\n",
       "    <div class=\"colab-df-container\">\n",
       "      <div>\n",
       "<style scoped>\n",
       "    .dataframe tbody tr th:only-of-type {\n",
       "        vertical-align: middle;\n",
       "    }\n",
       "\n",
       "    .dataframe tbody tr th {\n",
       "        vertical-align: top;\n",
       "    }\n",
       "\n",
       "    .dataframe thead th {\n",
       "        text-align: right;\n",
       "    }\n",
       "</style>\n",
       "<table border=\"1\" class=\"dataframe\">\n",
       "  <thead>\n",
       "    <tr style=\"text-align: right;\">\n",
       "      <th></th>\n",
       "      <th>RowNumber</th>\n",
       "      <th>CustomerId</th>\n",
       "      <th>Surname</th>\n",
       "      <th>CreditScore</th>\n",
       "      <th>Geography</th>\n",
       "      <th>Gender</th>\n",
       "      <th>Age</th>\n",
       "      <th>Tenure</th>\n",
       "      <th>Balance</th>\n",
       "      <th>NumOfProducts</th>\n",
       "      <th>HasCrCard</th>\n",
       "      <th>IsActiveMember</th>\n",
       "      <th>EstimatedSalary</th>\n",
       "      <th>Exited</th>\n",
       "    </tr>\n",
       "  </thead>\n",
       "  <tbody>\n",
       "    <tr>\n",
       "      <th>0</th>\n",
       "      <td>1</td>\n",
       "      <td>15634602</td>\n",
       "      <td>Hargrave</td>\n",
       "      <td>619</td>\n",
       "      <td>France</td>\n",
       "      <td>Female</td>\n",
       "      <td>42</td>\n",
       "      <td>2</td>\n",
       "      <td>0.00</td>\n",
       "      <td>1</td>\n",
       "      <td>1</td>\n",
       "      <td>1</td>\n",
       "      <td>101348.88</td>\n",
       "      <td>1</td>\n",
       "    </tr>\n",
       "    <tr>\n",
       "      <th>1</th>\n",
       "      <td>2</td>\n",
       "      <td>15647311</td>\n",
       "      <td>Hill</td>\n",
       "      <td>608</td>\n",
       "      <td>Spain</td>\n",
       "      <td>Female</td>\n",
       "      <td>41</td>\n",
       "      <td>1</td>\n",
       "      <td>83807.86</td>\n",
       "      <td>1</td>\n",
       "      <td>0</td>\n",
       "      <td>1</td>\n",
       "      <td>112542.58</td>\n",
       "      <td>0</td>\n",
       "    </tr>\n",
       "    <tr>\n",
       "      <th>2</th>\n",
       "      <td>3</td>\n",
       "      <td>15619304</td>\n",
       "      <td>Onio</td>\n",
       "      <td>502</td>\n",
       "      <td>France</td>\n",
       "      <td>Female</td>\n",
       "      <td>42</td>\n",
       "      <td>8</td>\n",
       "      <td>159660.80</td>\n",
       "      <td>3</td>\n",
       "      <td>1</td>\n",
       "      <td>0</td>\n",
       "      <td>113931.57</td>\n",
       "      <td>1</td>\n",
       "    </tr>\n",
       "  </tbody>\n",
       "</table>\n",
       "</div>\n",
       "      <button class=\"colab-df-convert\" onclick=\"convertToInteractive('df-e5ff7c24-77cd-42eb-93c9-d6a384e3d35a')\"\n",
       "              title=\"Convert this dataframe to an interactive table.\"\n",
       "              style=\"display:none;\">\n",
       "        \n",
       "  <svg xmlns=\"http://www.w3.org/2000/svg\" height=\"24px\"viewBox=\"0 0 24 24\"\n",
       "       width=\"24px\">\n",
       "    <path d=\"M0 0h24v24H0V0z\" fill=\"none\"/>\n",
       "    <path d=\"M18.56 5.44l.94 2.06.94-2.06 2.06-.94-2.06-.94-.94-2.06-.94 2.06-2.06.94zm-11 1L8.5 8.5l.94-2.06 2.06-.94-2.06-.94L8.5 2.5l-.94 2.06-2.06.94zm10 10l.94 2.06.94-2.06 2.06-.94-2.06-.94-.94-2.06-.94 2.06-2.06.94z\"/><path d=\"M17.41 7.96l-1.37-1.37c-.4-.4-.92-.59-1.43-.59-.52 0-1.04.2-1.43.59L10.3 9.45l-7.72 7.72c-.78.78-.78 2.05 0 2.83L4 21.41c.39.39.9.59 1.41.59.51 0 1.02-.2 1.41-.59l7.78-7.78 2.81-2.81c.8-.78.8-2.07 0-2.86zM5.41 20L4 18.59l7.72-7.72 1.47 1.35L5.41 20z\"/>\n",
       "  </svg>\n",
       "      </button>\n",
       "      \n",
       "  <style>\n",
       "    .colab-df-container {\n",
       "      display:flex;\n",
       "      flex-wrap:wrap;\n",
       "      gap: 12px;\n",
       "    }\n",
       "\n",
       "    .colab-df-convert {\n",
       "      background-color: #E8F0FE;\n",
       "      border: none;\n",
       "      border-radius: 50%;\n",
       "      cursor: pointer;\n",
       "      display: none;\n",
       "      fill: #1967D2;\n",
       "      height: 32px;\n",
       "      padding: 0 0 0 0;\n",
       "      width: 32px;\n",
       "    }\n",
       "\n",
       "    .colab-df-convert:hover {\n",
       "      background-color: #E2EBFA;\n",
       "      box-shadow: 0px 1px 2px rgba(60, 64, 67, 0.3), 0px 1px 3px 1px rgba(60, 64, 67, 0.15);\n",
       "      fill: #174EA6;\n",
       "    }\n",
       "\n",
       "    [theme=dark] .colab-df-convert {\n",
       "      background-color: #3B4455;\n",
       "      fill: #D2E3FC;\n",
       "    }\n",
       "\n",
       "    [theme=dark] .colab-df-convert:hover {\n",
       "      background-color: #434B5C;\n",
       "      box-shadow: 0px 1px 3px 1px rgba(0, 0, 0, 0.15);\n",
       "      filter: drop-shadow(0px 1px 2px rgba(0, 0, 0, 0.3));\n",
       "      fill: #FFFFFF;\n",
       "    }\n",
       "  </style>\n",
       "\n",
       "      <script>\n",
       "        const buttonEl =\n",
       "          document.querySelector('#df-e5ff7c24-77cd-42eb-93c9-d6a384e3d35a button.colab-df-convert');\n",
       "        buttonEl.style.display =\n",
       "          google.colab.kernel.accessAllowed ? 'block' : 'none';\n",
       "\n",
       "        async function convertToInteractive(key) {\n",
       "          const element = document.querySelector('#df-e5ff7c24-77cd-42eb-93c9-d6a384e3d35a');\n",
       "          const dataTable =\n",
       "            await google.colab.kernel.invokeFunction('convertToInteractive',\n",
       "                                                     [key], {});\n",
       "          if (!dataTable) return;\n",
       "\n",
       "          const docLinkHtml = 'Like what you see? Visit the ' +\n",
       "            '<a target=\"_blank\" href=https://colab.research.google.com/notebooks/data_table.ipynb>data table notebook</a>'\n",
       "            + ' to learn more about interactive tables.';\n",
       "          element.innerHTML = '';\n",
       "          dataTable['output_type'] = 'display_data';\n",
       "          await google.colab.output.renderOutput(dataTable, element);\n",
       "          const docLink = document.createElement('div');\n",
       "          docLink.innerHTML = docLinkHtml;\n",
       "          element.appendChild(docLink);\n",
       "        }\n",
       "      </script>\n",
       "    </div>\n",
       "  </div>\n",
       "  "
      ],
      "text/plain": [
       "   RowNumber  CustomerId   Surname  CreditScore Geography  Gender  Age  \\\n",
       "0          1    15634602  Hargrave          619    France  Female   42   \n",
       "1          2    15647311      Hill          608     Spain  Female   41   \n",
       "2          3    15619304      Onio          502    France  Female   42   \n",
       "\n",
       "   Tenure    Balance  NumOfProducts  HasCrCard  IsActiveMember  \\\n",
       "0       2       0.00              1          1               1   \n",
       "1       1   83807.86              1          0               1   \n",
       "2       8  159660.80              3          1               0   \n",
       "\n",
       "   EstimatedSalary  Exited  \n",
       "0        101348.88       1  \n",
       "1        112542.58       0  \n",
       "2        113931.57       1  "
      ]
     },
     "execution_count": 7,
     "metadata": {},
     "output_type": "execute_result"
    }
   ],
   "source": [
    "df.head(3)"
   ]
  },
  {
   "cell_type": "markdown",
   "metadata": {
    "id": "efYT8DsQsf8j"
   },
   "source": [
    "Зададим списки признаков"
   ]
  },
  {
   "cell_type": "code",
   "execution_count": null,
   "metadata": {
    "id": "HfpW0u5dsf8k"
   },
   "outputs": [],
   "source": [
    "categorical_columns = ['Geography', 'Gender', 'Tenure', 'HasCrCard', 'IsActiveMember']\n",
    "continuous_columns = ['CreditScore', 'Age', 'Balance', 'NumOfProducts', 'EstimatedSalary']"
   ]
  },
  {
   "cell_type": "markdown",
   "metadata": {
    "id": "gEpR3Pxusf8m"
   },
   "source": [
    "Посмотрим как это работает на примере отдельного категориального признака - Gender"
   ]
  },
  {
   "cell_type": "code",
   "execution_count": null,
   "metadata": {
    "colab": {
     "base_uri": "https://localhost:8080/",
     "height": 143
    },
    "id": "YTXMT6gesf8m",
    "outputId": "91ae986a-295b-452e-fece-c2eebb49cfb2"
   },
   "outputs": [
    {
     "data": {
      "text/html": [
       "\n",
       "  <div id=\"df-e0cf3bf3-05eb-4368-9be4-e8842751c02a\">\n",
       "    <div class=\"colab-df-container\">\n",
       "      <div>\n",
       "<style scoped>\n",
       "    .dataframe tbody tr th:only-of-type {\n",
       "        vertical-align: middle;\n",
       "    }\n",
       "\n",
       "    .dataframe tbody tr th {\n",
       "        vertical-align: top;\n",
       "    }\n",
       "\n",
       "    .dataframe thead th {\n",
       "        text-align: right;\n",
       "    }\n",
       "</style>\n",
       "<table border=\"1\" class=\"dataframe\">\n",
       "  <thead>\n",
       "    <tr style=\"text-align: right;\">\n",
       "      <th></th>\n",
       "      <th>Gender_Female</th>\n",
       "      <th>Gender_Male</th>\n",
       "    </tr>\n",
       "  </thead>\n",
       "  <tbody>\n",
       "    <tr>\n",
       "      <th>9394</th>\n",
       "      <td>1</td>\n",
       "      <td>0</td>\n",
       "    </tr>\n",
       "    <tr>\n",
       "      <th>898</th>\n",
       "      <td>1</td>\n",
       "      <td>0</td>\n",
       "    </tr>\n",
       "    <tr>\n",
       "      <th>2398</th>\n",
       "      <td>1</td>\n",
       "      <td>0</td>\n",
       "    </tr>\n",
       "  </tbody>\n",
       "</table>\n",
       "</div>\n",
       "      <button class=\"colab-df-convert\" onclick=\"convertToInteractive('df-e0cf3bf3-05eb-4368-9be4-e8842751c02a')\"\n",
       "              title=\"Convert this dataframe to an interactive table.\"\n",
       "              style=\"display:none;\">\n",
       "        \n",
       "  <svg xmlns=\"http://www.w3.org/2000/svg\" height=\"24px\"viewBox=\"0 0 24 24\"\n",
       "       width=\"24px\">\n",
       "    <path d=\"M0 0h24v24H0V0z\" fill=\"none\"/>\n",
       "    <path d=\"M18.56 5.44l.94 2.06.94-2.06 2.06-.94-2.06-.94-.94-2.06-.94 2.06-2.06.94zm-11 1L8.5 8.5l.94-2.06 2.06-.94-2.06-.94L8.5 2.5l-.94 2.06-2.06.94zm10 10l.94 2.06.94-2.06 2.06-.94-2.06-.94-.94-2.06-.94 2.06-2.06.94z\"/><path d=\"M17.41 7.96l-1.37-1.37c-.4-.4-.92-.59-1.43-.59-.52 0-1.04.2-1.43.59L10.3 9.45l-7.72 7.72c-.78.78-.78 2.05 0 2.83L4 21.41c.39.39.9.59 1.41.59.51 0 1.02-.2 1.41-.59l7.78-7.78 2.81-2.81c.8-.78.8-2.07 0-2.86zM5.41 20L4 18.59l7.72-7.72 1.47 1.35L5.41 20z\"/>\n",
       "  </svg>\n",
       "      </button>\n",
       "      \n",
       "  <style>\n",
       "    .colab-df-container {\n",
       "      display:flex;\n",
       "      flex-wrap:wrap;\n",
       "      gap: 12px;\n",
       "    }\n",
       "\n",
       "    .colab-df-convert {\n",
       "      background-color: #E8F0FE;\n",
       "      border: none;\n",
       "      border-radius: 50%;\n",
       "      cursor: pointer;\n",
       "      display: none;\n",
       "      fill: #1967D2;\n",
       "      height: 32px;\n",
       "      padding: 0 0 0 0;\n",
       "      width: 32px;\n",
       "    }\n",
       "\n",
       "    .colab-df-convert:hover {\n",
       "      background-color: #E2EBFA;\n",
       "      box-shadow: 0px 1px 2px rgba(60, 64, 67, 0.3), 0px 1px 3px 1px rgba(60, 64, 67, 0.15);\n",
       "      fill: #174EA6;\n",
       "    }\n",
       "\n",
       "    [theme=dark] .colab-df-convert {\n",
       "      background-color: #3B4455;\n",
       "      fill: #D2E3FC;\n",
       "    }\n",
       "\n",
       "    [theme=dark] .colab-df-convert:hover {\n",
       "      background-color: #434B5C;\n",
       "      box-shadow: 0px 1px 3px 1px rgba(0, 0, 0, 0.15);\n",
       "      filter: drop-shadow(0px 1px 2px rgba(0, 0, 0, 0.3));\n",
       "      fill: #FFFFFF;\n",
       "    }\n",
       "  </style>\n",
       "\n",
       "      <script>\n",
       "        const buttonEl =\n",
       "          document.querySelector('#df-e0cf3bf3-05eb-4368-9be4-e8842751c02a button.colab-df-convert');\n",
       "        buttonEl.style.display =\n",
       "          google.colab.kernel.accessAllowed ? 'block' : 'none';\n",
       "\n",
       "        async function convertToInteractive(key) {\n",
       "          const element = document.querySelector('#df-e0cf3bf3-05eb-4368-9be4-e8842751c02a');\n",
       "          const dataTable =\n",
       "            await google.colab.kernel.invokeFunction('convertToInteractive',\n",
       "                                                     [key], {});\n",
       "          if (!dataTable) return;\n",
       "\n",
       "          const docLinkHtml = 'Like what you see? Visit the ' +\n",
       "            '<a target=\"_blank\" href=https://colab.research.google.com/notebooks/data_table.ipynb>data table notebook</a>'\n",
       "            + ' to learn more about interactive tables.';\n",
       "          element.innerHTML = '';\n",
       "          dataTable['output_type'] = 'display_data';\n",
       "          await google.colab.output.renderOutput(dataTable, element);\n",
       "          const docLink = document.createElement('div');\n",
       "          docLink.innerHTML = docLinkHtml;\n",
       "          element.appendChild(docLink);\n",
       "        }\n",
       "      </script>\n",
       "    </div>\n",
       "  </div>\n",
       "  "
      ],
      "text/plain": [
       "      Gender_Female  Gender_Male\n",
       "9394              1            0\n",
       "898               1            0\n",
       "2398              1            0"
      ]
     },
     "execution_count": 9,
     "metadata": {},
     "output_type": "execute_result"
    }
   ],
   "source": [
    "from sklearn.pipeline import Pipeline\n",
    "from sklearn.pipeline import FeatureUnion\n",
    "\n",
    "gender = Pipeline([\n",
    "                ('selector', FeatureSelector(column='Gender')),\n",
    "                ('ohe', OHEEncoder(key='Gender'))\n",
    "            ])\n",
    "\n",
    "gender.fit(X_train)\n",
    "gender.transform(X_test).head(3)"
   ]
  },
  {
   "cell_type": "markdown",
   "metadata": {
    "id": "TCm3vj5Qsf8p"
   },
   "source": [
    "Аналогичный пример для вещественного признака (здесь мы не применяем какое-либо преобразование, а просто столбец как есть)"
   ]
  },
  {
   "cell_type": "code",
   "execution_count": null,
   "metadata": {
    "colab": {
     "base_uri": "https://localhost:8080/",
     "height": 143
    },
    "id": "T_bmg_M1sf8q",
    "outputId": "5fb58556-14e5-4715-a9cc-ea0138b8966d"
   },
   "outputs": [
    {
     "data": {
      "text/html": [
       "\n",
       "  <div id=\"df-cb047a01-9215-45c0-8a17-07a3e44b3113\">\n",
       "    <div class=\"colab-df-container\">\n",
       "      <div>\n",
       "<style scoped>\n",
       "    .dataframe tbody tr th:only-of-type {\n",
       "        vertical-align: middle;\n",
       "    }\n",
       "\n",
       "    .dataframe tbody tr th {\n",
       "        vertical-align: top;\n",
       "    }\n",
       "\n",
       "    .dataframe thead th {\n",
       "        text-align: right;\n",
       "    }\n",
       "</style>\n",
       "<table border=\"1\" class=\"dataframe\">\n",
       "  <thead>\n",
       "    <tr style=\"text-align: right;\">\n",
       "      <th></th>\n",
       "      <th>CreditScore</th>\n",
       "    </tr>\n",
       "  </thead>\n",
       "  <tbody>\n",
       "    <tr>\n",
       "      <th>9394</th>\n",
       "      <td>597</td>\n",
       "    </tr>\n",
       "    <tr>\n",
       "      <th>898</th>\n",
       "      <td>523</td>\n",
       "    </tr>\n",
       "    <tr>\n",
       "      <th>2398</th>\n",
       "      <td>706</td>\n",
       "    </tr>\n",
       "  </tbody>\n",
       "</table>\n",
       "</div>\n",
       "      <button class=\"colab-df-convert\" onclick=\"convertToInteractive('df-cb047a01-9215-45c0-8a17-07a3e44b3113')\"\n",
       "              title=\"Convert this dataframe to an interactive table.\"\n",
       "              style=\"display:none;\">\n",
       "        \n",
       "  <svg xmlns=\"http://www.w3.org/2000/svg\" height=\"24px\"viewBox=\"0 0 24 24\"\n",
       "       width=\"24px\">\n",
       "    <path d=\"M0 0h24v24H0V0z\" fill=\"none\"/>\n",
       "    <path d=\"M18.56 5.44l.94 2.06.94-2.06 2.06-.94-2.06-.94-.94-2.06-.94 2.06-2.06.94zm-11 1L8.5 8.5l.94-2.06 2.06-.94-2.06-.94L8.5 2.5l-.94 2.06-2.06.94zm10 10l.94 2.06.94-2.06 2.06-.94-2.06-.94-.94-2.06-.94 2.06-2.06.94z\"/><path d=\"M17.41 7.96l-1.37-1.37c-.4-.4-.92-.59-1.43-.59-.52 0-1.04.2-1.43.59L10.3 9.45l-7.72 7.72c-.78.78-.78 2.05 0 2.83L4 21.41c.39.39.9.59 1.41.59.51 0 1.02-.2 1.41-.59l7.78-7.78 2.81-2.81c.8-.78.8-2.07 0-2.86zM5.41 20L4 18.59l7.72-7.72 1.47 1.35L5.41 20z\"/>\n",
       "  </svg>\n",
       "      </button>\n",
       "      \n",
       "  <style>\n",
       "    .colab-df-container {\n",
       "      display:flex;\n",
       "      flex-wrap:wrap;\n",
       "      gap: 12px;\n",
       "    }\n",
       "\n",
       "    .colab-df-convert {\n",
       "      background-color: #E8F0FE;\n",
       "      border: none;\n",
       "      border-radius: 50%;\n",
       "      cursor: pointer;\n",
       "      display: none;\n",
       "      fill: #1967D2;\n",
       "      height: 32px;\n",
       "      padding: 0 0 0 0;\n",
       "      width: 32px;\n",
       "    }\n",
       "\n",
       "    .colab-df-convert:hover {\n",
       "      background-color: #E2EBFA;\n",
       "      box-shadow: 0px 1px 2px rgba(60, 64, 67, 0.3), 0px 1px 3px 1px rgba(60, 64, 67, 0.15);\n",
       "      fill: #174EA6;\n",
       "    }\n",
       "\n",
       "    [theme=dark] .colab-df-convert {\n",
       "      background-color: #3B4455;\n",
       "      fill: #D2E3FC;\n",
       "    }\n",
       "\n",
       "    [theme=dark] .colab-df-convert:hover {\n",
       "      background-color: #434B5C;\n",
       "      box-shadow: 0px 1px 3px 1px rgba(0, 0, 0, 0.15);\n",
       "      filter: drop-shadow(0px 1px 2px rgba(0, 0, 0, 0.3));\n",
       "      fill: #FFFFFF;\n",
       "    }\n",
       "  </style>\n",
       "\n",
       "      <script>\n",
       "        const buttonEl =\n",
       "          document.querySelector('#df-cb047a01-9215-45c0-8a17-07a3e44b3113 button.colab-df-convert');\n",
       "        buttonEl.style.display =\n",
       "          google.colab.kernel.accessAllowed ? 'block' : 'none';\n",
       "\n",
       "        async function convertToInteractive(key) {\n",
       "          const element = document.querySelector('#df-cb047a01-9215-45c0-8a17-07a3e44b3113');\n",
       "          const dataTable =\n",
       "            await google.colab.kernel.invokeFunction('convertToInteractive',\n",
       "                                                     [key], {});\n",
       "          if (!dataTable) return;\n",
       "\n",
       "          const docLinkHtml = 'Like what you see? Visit the ' +\n",
       "            '<a target=\"_blank\" href=https://colab.research.google.com/notebooks/data_table.ipynb>data table notebook</a>'\n",
       "            + ' to learn more about interactive tables.';\n",
       "          element.innerHTML = '';\n",
       "          dataTable['output_type'] = 'display_data';\n",
       "          await google.colab.output.renderOutput(dataTable, element);\n",
       "          const docLink = document.createElement('div');\n",
       "          docLink.innerHTML = docLinkHtml;\n",
       "          element.appendChild(docLink);\n",
       "        }\n",
       "      </script>\n",
       "    </div>\n",
       "  </div>\n",
       "  "
      ],
      "text/plain": [
       "      CreditScore\n",
       "9394          597\n",
       "898           523\n",
       "2398          706"
      ]
     },
     "execution_count": 10,
     "metadata": {},
     "output_type": "execute_result"
    }
   ],
   "source": [
    "numr = Pipeline([\n",
    "                ('selector', NumberSelector(key='CreditScore')),            \n",
    "            ])\n",
    "\n",
    "numr.fit(X_train)\n",
    "numr.transform(X_test).head(3)"
   ]
  },
  {
   "cell_type": "markdown",
   "metadata": {
    "id": "l7Zzhsdpsf8r"
   },
   "source": [
    "Теперь нам нужно под каждый признак создать трансформер и объединить их в список."
   ]
  },
  {
   "cell_type": "code",
   "execution_count": null,
   "metadata": {
    "id": "KJpjpxK5sf8t"
   },
   "outputs": [],
   "source": [
    "final_transformers = list()\n",
    "\n",
    "for cat_col in categorical_columns:\n",
    "    cat_transformer = Pipeline([\n",
    "                ('selector', FeatureSelector(column=cat_col)),\n",
    "                ('ohe', OHEEncoder(key=cat_col))\n",
    "            ])\n",
    "    \n",
    "    final_transformers.append((cat_col, cat_transformer))\n",
    "    \n",
    "for cont_col in continuous_columns:\n",
    "    cont_transformer = Pipeline([\n",
    "                ('selector', NumberSelector(key=cont_col))\n",
    "            ])\n",
    "    \n",
    "    final_transformers.append((cont_col, cont_transformer))"
   ]
  },
  {
   "cell_type": "markdown",
   "metadata": {
    "id": "YIxP275bsf8v"
   },
   "source": [
    "Объединим все это в единый пайплайн"
   ]
  },
  {
   "cell_type": "code",
   "execution_count": null,
   "metadata": {
    "id": "kz3PW5uisf8w"
   },
   "outputs": [],
   "source": [
    "feats = FeatureUnion(final_transformers)\n",
    "\n",
    "feature_processing = Pipeline([('feats', feats)])"
   ]
  },
  {
   "cell_type": "markdown",
   "metadata": {
    "id": "2O_oqbKBsf8x"
   },
   "source": [
    "Теперь у нас есть пайплайн, который готовит признаки для моделирования.\n",
    "\n",
    "Добавим модель"
   ]
  },
  {
   "cell_type": "code",
   "execution_count": null,
   "metadata": {
    "id": "JV_NZ7nSsf8y"
   },
   "outputs": [],
   "source": [
    "from sklearn.ensemble import RandomForestClassifier\n",
    "\n",
    "pipeline = Pipeline([\n",
    "    ('features', feats),\n",
    "    ('classifier', RandomForestClassifier(random_state=42)),\n",
    "])"
   ]
  },
  {
   "cell_type": "markdown",
   "metadata": {
    "id": "wG61QI_osf80"
   },
   "source": [
    "Обучим модель"
   ]
  },
  {
   "cell_type": "code",
   "execution_count": null,
   "metadata": {
    "colab": {
     "base_uri": "https://localhost:8080/"
    },
    "id": "k1p2QSdnsf81",
    "outputId": "63957149-88bd-457a-992c-a8ce16146002",
    "scrolled": false
   },
   "outputs": [
    {
     "data": {
      "text/plain": [
       "Pipeline(steps=[('features',\n",
       "                 FeatureUnion(transformer_list=[('Geography',\n",
       "                                                 Pipeline(steps=[('selector',\n",
       "                                                                  FeatureSelector(column='Geography')),\n",
       "                                                                 ('ohe',\n",
       "                                                                  OHEEncoder(key='Geography'))])),\n",
       "                                                ('Gender',\n",
       "                                                 Pipeline(steps=[('selector',\n",
       "                                                                  FeatureSelector(column='Gender')),\n",
       "                                                                 ('ohe',\n",
       "                                                                  OHEEncoder(key='Gender'))])),\n",
       "                                                ('Tenure',\n",
       "                                                 Pipeline(steps=[('selector',\n",
       "                                                                  FeatureSelector(column='Tenu...\n",
       "                                                 Pipeline(steps=[('selector',\n",
       "                                                                  NumberSelector(key='Age'))])),\n",
       "                                                ('Balance',\n",
       "                                                 Pipeline(steps=[('selector',\n",
       "                                                                  NumberSelector(key='Balance'))])),\n",
       "                                                ('NumOfProducts',\n",
       "                                                 Pipeline(steps=[('selector',\n",
       "                                                                  NumberSelector(key='NumOfProducts'))])),\n",
       "                                                ('EstimatedSalary',\n",
       "                                                 Pipeline(steps=[('selector',\n",
       "                                                                  NumberSelector(key='EstimatedSalary'))]))])),\n",
       "                ('classifier', RandomForestClassifier(random_state=42))])"
      ]
     },
     "execution_count": 14,
     "metadata": {},
     "output_type": "execute_result"
    }
   ],
   "source": [
    "# обучим наш пайплайн\n",
    "pipeline.fit(X_train, y_train)"
   ]
  },
  {
   "cell_type": "code",
   "execution_count": null,
   "metadata": {
    "colab": {
     "base_uri": "https://localhost:8080/"
    },
    "id": "slMACCiJsf83",
    "outputId": "ffb817bb-ea7d-4b10-a133-9d5a99374ae7"
   },
   "outputs": [
    {
     "data": {
      "text/plain": [
       "array([0.37, 0.26, 0.16, 0.02, 0.02, 0.67, 0.04, 0.12, 0.15, 0.75])"
      ]
     },
     "execution_count": 15,
     "metadata": {},
     "output_type": "execute_result"
    }
   ],
   "source": [
    "# наши прогнозы для тестовой выборки\n",
    "preds = pipeline.predict_proba(X_test)[:, 1]\n",
    "preds[:10]"
   ]
  },
  {
   "cell_type": "markdown",
   "metadata": {
    "id": "hSNd-Drssf85"
   },
   "source": [
    "Также нам нужно от вероятностей перейти к меткам классов. Для этого нужно подобрать порог, после которого мы считаем, что объект можно отнести к классу 1 (если вероятность больше порога - размечаем объект как класс 1, если нет - класс 0)"
   ]
  },
  {
   "cell_type": "code",
   "execution_count": null,
   "metadata": {
    "id": "DEOAaK4Gsf87"
   },
   "outputs": [],
   "source": [
    "from sklearn.metrics import f1_score, roc_auc_score, precision_score, classification_report, precision_recall_curve, confusion_matrix"
   ]
  },
  {
   "cell_type": "code",
   "execution_count": null,
   "metadata": {
    "colab": {
     "base_uri": "https://localhost:8080/"
    },
    "id": "AakONIjnsf88",
    "outputId": "37bb2b4b-1579-4d03-a78b-8f780dc3d066"
   },
   "outputs": [
    {
     "name": "stdout",
     "output_type": "stream",
     "text": [
      "Best Threshold=0.38, F-Score=0.641, Precision=0.653, Recall=0.629\n"
     ]
    }
   ],
   "source": [
    "precision, recall, thresholds = precision_recall_curve(y_test, preds)\n",
    "\n",
    "fscore = (2 * precision * recall) / (precision + recall)\n",
    "# locate the index of the largest f score\n",
    "ix = np.argmax(fscore)\n",
    "print(f'Best Threshold={thresholds[ix]}, F-Score={fscore[ix]:.3f}, Precision={precision[ix]:.3f}, Recall={recall[ix]:.3f}')"
   ]
  },
  {
   "cell_type": "markdown",
   "metadata": {
    "id": "fS5AX9qHsf9B"
   },
   "source": [
    "Отрисуем матрицу ошибок"
   ]
  },
  {
   "cell_type": "code",
   "execution_count": null,
   "metadata": {
    "id": "Do7jvfgTsf9D"
   },
   "outputs": [],
   "source": [
    "def plot_confusion_matrix(cm, classes,\n",
    "                          normalize=False,\n",
    "                          title='Confusion matrix',\n",
    "                          cmap=plt.cm.Blues):\n",
    "    \"\"\"\n",
    "    This function prints and plots the confusion matrix.\n",
    "    Normalization can be applied by setting `normalize=True`.\n",
    "    \"\"\"\n",
    "    plt.imshow(cm, interpolation='nearest', cmap=cmap)\n",
    "    plt.title(title)\n",
    "    plt.colorbar()\n",
    "    tick_marks = np.arange(len(classes))\n",
    "    plt.xticks(tick_marks, classes, rotation=45)\n",
    "    plt.yticks(tick_marks, classes)\n",
    "\n",
    "    if normalize:\n",
    "        cm = cm.astype('float') / cm.sum(axis=1)[:, np.newaxis]\n",
    "        print(\"Normalized confusion matrix\")\n",
    "    else:\n",
    "        print('Confusion matrix, without normalization')\n",
    "\n",
    "    print(cm)\n",
    "\n",
    "    thresh = cm.max() / 2.\n",
    "    for i, j in itertools.product(range(cm.shape[0]), range(cm.shape[1])):\n",
    "        plt.text(j, i, cm[i, j],\n",
    "                 horizontalalignment=\"center\",\n",
    "                 color=\"white\" if cm[i, j] > thresh else \"black\")\n",
    "\n",
    "    plt.tight_layout()\n",
    "    plt.ylabel('True label')\n",
    "    plt.xlabel('Predicted label')"
   ]
  },
  {
   "cell_type": "code",
   "execution_count": null,
   "metadata": {
    "colab": {
     "base_uri": "https://localhost:8080/",
     "height": 358
    },
    "id": "4V7DvIMRsf9F",
    "outputId": "9595f0ce-7c12-4059-e026-db763a8de6a7"
   },
   "outputs": [
    {
     "name": "stdout",
     "output_type": "stream",
     "text": [
      "Confusion matrix, without normalization\n",
      "[[1832  159]\n",
      " [ 195  314]]\n"
     ]
    },
    {
     "data": {
      "image/png": "[encoded data removed]",
      "text/plain": [
       "<Figure size 432x288 with 2 Axes>"
      ]
     },
     "metadata": {
      "needs_background": "light"
     },
     "output_type": "display_data"
    }
   ],
   "source": [
    "# мы уже нашли ранее \"оптимальный\" порог, когда максимизировали f_score\n",
    "font = {'size' : 15}\n",
    "\n",
    "plt.rc('font', **font)\n",
    "\n",
    "cnf_matrix = confusion_matrix(y_test, preds > thresholds[ix])\n",
    "plt.figure(figsize=(6, 4))\n",
    "plot_confusion_matrix(cnf_matrix, classes=['NonChurn', 'Churn'],\n",
    "                      title='Confusion matrix')\n",
    "plt.savefig(\"conf_matrix.png\")\n",
    "plt.show()"
   ]
  },
  {
   "cell_type": "markdown",
   "metadata": {
    "id": "n1J5Q6oXsf9I"
   },
   "source": [
    "Можно заметить, что мы очень сильно ошибаемся в сторону False Negatives, т.е у нас много тех, кто ушел в отток на самом деле, но при выбранном нами пороге в 0.38 мы не считаем их таковыми. "
   ]
  },
  {
   "cell_type": "markdown",
   "metadata": {
    "id": "WuJIWBnssf9J"
   },
   "source": [
    "<b>Вопрос 2: предположим, что на удержание одного пользователя у нас уйдет 1 доллар. При этом средняя ожидаемая прибыль с каждого TP (true positive) - 2 доллара. Оцените качество модели выше с учетом этих данных и ответьте на вопрос, является ли она потенциально экономически целесообразной?</b>"
   ]
  },
  {
   "cell_type": "code",
   "execution_count": null,
   "metadata": {
    "colab": {
     "base_uri": "https://localhost:8080/"
    },
    "id": "Vqqs8u65sf9M",
    "outputId": "0c32ffce-d608-4495-d379-12537cfbc601"
   },
   "outputs": [
    {
     "data": {
      "text/plain": [
       "155"
      ]
     },
     "execution_count": 20,
     "metadata": {},
     "output_type": "execute_result"
    }
   ],
   "source": [
    "TN = cnf_matrix[0][0]\n",
    "FP = cnf_matrix[0][1]\n",
    "FN = cnf_matrix[1][0]\n",
    "TP = cnf_matrix[1][1]\n",
    "\n",
    "\n",
    "retain_sum = (FP + TP) * 1\n",
    "income = TP * 2\n",
    "\n",
    "income - retain_sum"
   ]
  },
  {
   "cell_type": "markdown",
   "metadata": {
    "id": "nJs1S7W2sf9M"
   },
   "source": [
    "#### Пример с перебором параметров с помощью GridSearch"
   ]
  },
  {
   "cell_type": "markdown",
   "metadata": {
    "id": "y07lkWQMsf9O"
   },
   "source": [
    "Сетка с параметрами"
   ]
  },
  {
   "cell_type": "code",
   "execution_count": null,
   "metadata": {
    "id": "Quyx8Uepsf9Q"
   },
   "outputs": [],
   "source": [
    "from sklearn.model_selection import GridSearchCV\n",
    "\n",
    "params = {\n",
    "    'classifier__max_depth':[1, 2, 3],\n",
    "    'classifier__n_estimators':[100, 400, 600],\n",
    "    'classifier__class_weight':[{0:1, 1:4}, 'balanced_subsample']\n",
    "}"
   ]
  },
  {
   "cell_type": "markdown",
   "metadata": {
    "id": "-aNH8l5qsf9R"
   },
   "source": [
    "Запускаем перебор"
   ]
  },
  {
   "cell_type": "code",
   "execution_count": null,
   "metadata": {
    "colab": {
     "base_uri": "https://localhost:8080/"
    },
    "id": "QTxTHTzJsf9S",
    "outputId": "a0a208de-2627-4f1b-8cf0-9c4ffe5705d6",
    "scrolled": true
   },
   "outputs": [
    {
     "name": "stdout",
     "output_type": "stream",
     "text": [
      "CPU times: user 2min 38s, sys: 431 ms, total: 2min 39s\n",
      "Wall time: 2min 48s\n"
     ]
    }
   ],
   "source": [
    "%%time\n",
    "grid = GridSearchCV(pipeline,\n",
    "                    param_grid=params,\n",
    "                    cv=6,\n",
    "                    refit=False)\n",
    "\n",
    "search = grid.fit(X_train, y_train)\n",
    "search.best_params_"
   ]
  },
  {
   "cell_type": "code",
   "execution_count": null,
   "metadata": {
    "colab": {
     "base_uri": "https://localhost:8080/"
    },
    "id": "rvNJ5DG1YhmD",
    "outputId": "27576347-d396-447d-c186-b42b51c53690"
   },
   "outputs": [
    {
     "data": {
      "text/plain": [
       "{'classifier__class_weight': {0: 1, 1: 4},\n",
       " 'classifier__max_features': 0.3,\n",
       " 'classifier__min_samples_leaf': 1}"
      ]
     },
     "execution_count": 23,
     "metadata": {},
     "output_type": "execute_result"
    }
   ],
   "source": [
    "search.best_params_"
   ]
  },
  {
   "cell_type": "markdown",
   "metadata": {
    "id": "UV9mkpowsf9T"
   },
   "source": [
    "Обучаем модель уже сновыми параметрами"
   ]
  },
  {
   "cell_type": "code",
   "execution_count": null,
   "metadata": {
    "colab": {
     "base_uri": "https://localhost:8080/"
    },
    "id": "Fln53iUssf9U",
    "outputId": "04bd7163-9913-471c-9866-fb7d9067d103"
   },
   "outputs": [
    {
     "data": {
      "text/plain": [
       "Pipeline(steps=[('features',\n",
       "                 FeatureUnion(transformer_list=[('Geography',\n",
       "                                                 Pipeline(steps=[('selector',\n",
       "                                                                  FeatureSelector(column='Geography')),\n",
       "                                                                 ('ohe',\n",
       "                                                                  OHEEncoder(key='Geography'))])),\n",
       "                                                ('Gender',\n",
       "                                                 Pipeline(steps=[('selector',\n",
       "                                                                  FeatureSelector(column='Gender')),\n",
       "                                                                 ('ohe',\n",
       "                                                                  OHEEncoder(key='Gender'))])),\n",
       "                                                ('Tenure',\n",
       "                                                 Pipeline(steps=[('selector',\n",
       "                                                                  FeatureSelector(column='Tenu...\n",
       "                                                                  NumberSelector(key='Age'))])),\n",
       "                                                ('Balance',\n",
       "                                                 Pipeline(steps=[('selector',\n",
       "                                                                  NumberSelector(key='Balance'))])),\n",
       "                                                ('NumOfProducts',\n",
       "                                                 Pipeline(steps=[('selector',\n",
       "                                                                  NumberSelector(key='NumOfProducts'))])),\n",
       "                                                ('EstimatedSalary',\n",
       "                                                 Pipeline(steps=[('selector',\n",
       "                                                                  NumberSelector(key='EstimatedSalary'))]))])),\n",
       "                ('classifier',\n",
       "                 RandomForestClassifier(class_weight={0: 1, 1: 4},\n",
       "                                        max_features=0.3, random_state=42))])"
      ]
     },
     "execution_count": 24,
     "metadata": {},
     "output_type": "execute_result"
    }
   ],
   "source": [
    "pipeline = Pipeline([\n",
    "    ('features', feats),\n",
    "    ('classifier', RandomForestClassifier(max_features=0.3, \n",
    "                                          min_samples_leaf=1, random_state=42,\n",
    "                                          class_weight={0:1, 1:4})),\n",
    "])\n",
    "pipeline.fit(X_train, y_train)"
   ]
  },
  {
   "cell_type": "code",
   "execution_count": null,
   "metadata": {
    "colab": {
     "base_uri": "https://localhost:8080/",
     "height": 375
    },
    "id": "Xa5-4YHosf9V",
    "outputId": "bd9e91f6-eec8-4858-eb6b-50309b2dc26c"
   },
   "outputs": [
    {
     "name": "stdout",
     "output_type": "stream",
     "text": [
      "Best Threshold=0.43, F-Score=0.644, Precision=0.714, Recall=0.587\n",
      "Confusion matrix, without normalization\n",
      "[[1876  115]\n",
      " [ 216  293]]\n"
     ]
    },
    {
     "data": {
      "image/png": "[encoded data removed]",
      "text/plain": [
       "<Figure size 432x288 with 2 Axes>"
      ]
     },
     "metadata": {
      "needs_background": "light"
     },
     "output_type": "display_data"
    }
   ],
   "source": [
    "preds = pipeline.predict_proba(X_test)[:, 1]\n",
    "precision, recall, thresholds = precision_recall_curve(y_test, preds)\n",
    "\n",
    "fscore = (2 * precision * recall) / (precision + recall)\n",
    "# locate the index of the largest f score\n",
    "ix = np.argmax(fscore)\n",
    "print(f'Best Threshold={thresholds[ix]}, F-Score={fscore[ix]:.3f}, Precision={precision[ix]:.3f}, Recall={recall[ix]:.3f}')\n",
    "\n",
    "#мы уже нашли ранее \"оптимальный\" порог, когда максимизировали f_score\n",
    "font = {'size' : 15}\n",
    "\n",
    "plt.rc('font', **font)\n",
    "\n",
    "cnf_matrix = confusion_matrix(y_test, preds>thresholds[ix])\n",
    "plt.figure(figsize=(6, 4))\n",
    "plot_confusion_matrix(cnf_matrix, classes=['NonChurn', 'Churn'],\n",
    "                      title='Confusion matrix')\n",
    "plt.savefig(\"conf_matrix.png\")\n",
    "plt.show()"
   ]
  },
  {
   "cell_type": "code",
   "execution_count": null,
   "metadata": {
    "colab": {
     "base_uri": "https://localhost:8080/"
    },
    "id": "o66n12m-fJrs",
    "outputId": "f7ac3761-d6fa-4600-e1b9-e48c1023f82a"
   },
   "outputs": [
    {
     "data": {
      "text/plain": [
       "178"
      ]
     },
     "execution_count": 26,
     "metadata": {},
     "output_type": "execute_result"
    }
   ],
   "source": [
    "TN = cnf_matrix[0][0]\n",
    "FP = cnf_matrix[0][1]\n",
    "FN = cnf_matrix[1][0]\n",
    "TP = cnf_matrix[1][1]\n",
    "\n",
    "\n",
    "retain_sum = (FP + TP) * 1\n",
    "income = TP * 2\n",
    "\n",
    "income - retain_sum"
   ]
  },
  {
   "cell_type": "markdown",
   "metadata": {
    "id": "M4JGiXv7sf9X"
   },
   "source": [
    "Метрики немного стали выше"
   ]
  },
  {
   "cell_type": "markdown",
   "metadata": {
    "id": "3NLmVAqxsf9a"
   },
   "source": [
    "### Case 2. Отток пользователей в онлайн-игре\n",
    "\n",
    "https://mlbootcamp.ru/ru/round/10/sandbox/"
   ]
  },
  {
   "cell_type": "markdown",
   "metadata": {
    "id": "SdxPGkt7sf9a"
   },
   "source": [
    "В этой задаче необходимо научиться предсказывать, остается ли участник в он-лайн игре или уходит из нее. Уходом считается отсутствие его в игре в течение недели.\n",
    "\n",
    " \n",
    "\n",
    "Всего используется 12 признаков, вычисленных за 2 предыдущие недели:\n",
    "\n",
    "- maxPlayerLevel - максимальный уровень игры, который прошел игрок\n",
    "- numberOfAttemptedLevels - количество уровней, которые попытался пройти игрок\n",
    "- attemptsOnTheHighestLevel - число попыток, сделанных на самом высоком уровне\n",
    "- totalNumOfAttempts - общее число попыток\n",
    "- averageNumOfTurnsPerCompletedLevel - среднее количество ходов, выполненных на успешно пройденных уровнях\n",
    "- doReturnOnLowerLevels - делал ли игрок возвраты к игре на уже пройденных уровнях\n",
    "- numberOfBoostersUsed - количество использованных бустеров\n",
    "- fractionOfUsefullBoosters - количество бустеров, использованных во время успешных попыток (игрок прошел уровнь)\n",
    "- totalScore - общее количество набранных очков\n",
    "- totalBonusScore - общее количество набранных бонусных очков\n",
    "- totalStarsCount - общее количество набранных звезд\n",
    "- numberOfDaysActuallyPlayed - количество дней, когда пользователь играл в игру\n",
    "\n",
    "Все предоставленные для задачи данные разбиты на две части: обучающую (x_train.csv и y_train.csv) и тестовую (x_test.csv). Каждая строка файлов x_train.csv и x_test.csv соответствует одному пользователю. Данные в строке разделены точкой с запятой. Первая строка содержит имена признаков. Файл y_train.csv содержит значения 1 или 0 в зависимости от того, остался пользователь в игре или вышел из нее соответственно.\n",
    "\n",
    "Как обучающая (x_train.csv и y_train.csv), так и тестовая (x_test.csv) выборки содержат информацию о 25289 пользователях."
   ]
  },
  {
   "cell_type": "markdown",
   "metadata": {
    "id": "MTH4WsT5sf9b"
   },
   "source": [
    "Решение победителя https://habr.com/ru/post/324916/ (немного адаптированное)"
   ]
  },
  {
   "cell_type": "code",
   "execution_count": null,
   "metadata": {
    "id": "Ssax7xLYsf9e"
   },
   "outputs": [],
   "source": [
    "# -*- coding: utf-8 -*-\n",
    "import pandas as pd\n",
    "import numpy as np\n",
    "import xgboost as xgb\n",
    "from sklearn.metrics import log_loss\n",
    "from sklearn.linear_model import LogisticRegression\n",
    "from datetime import datetime as dt\n",
    "from sklearn.preprocessing import MinMaxScaler\n",
    "from sklearn.ensemble import GradientBoostingClassifier\n",
    "import random\n",
    "\n",
    "random.seed(666)\n",
    "import warnings\n",
    "\n",
    "warnings.filterwarnings(\"ignore\", category=DeprecationWarning)"
   ]
  },
  {
   "cell_type": "markdown",
   "metadata": {
    "id": "POfwapfSqr6J"
   },
   "source": [
    "Ссылки на google drive:\n",
    "1. https://drive.google.com/file/d/1LfYcW-_9eHg7JIKmR8K9xjmU-npjMXTN\n",
    "2. https://drive.google.com/file/d/1OZqSfha02EAs33ZdV6ZdZH5T7qF8J9mz"
   ]
  },
  {
   "cell_type": "code",
   "execution_count": null,
   "metadata": {
    "colab": {
     "base_uri": "https://localhost:8080/"
    },
    "id": "WfVzzmjPt0SV",
    "outputId": "5b642e17-d7b9-4b8c-e7e3-02216e8d031d"
   },
   "outputs": [
    {
     "name": "stdout",
     "output_type": "stream",
     "text": [
      "--2022-05-27 16:49:23--  https://drive.google.com/uc?export=download&id=1OZqSfha02EAs33ZdV6ZdZH5T7qF8J9mz\n",
      "Resolving drive.google.com (drive.google.com)... 74.125.26.139, 74.125.26.138, 74.125.26.113, ...\n",
      "Connecting to drive.google.com (drive.google.com)|74.125.26.139|:443... connected.\n",
      "HTTP request sent, awaiting response... 303 See Other\n",
      "Location: https://doc-0s-c0-docs.googleusercontent.com/docs/securesc/ha0ro937gcuc7l7deffksulhg5h7mbp1/0teniaesra2949p69rpt8v9rf1ufo9a9/1653670125000/14904333240138417226/*/1OZqSfha02EAs33ZdV6ZdZH5T7qF8J9mz?e=download [following]\n",
      "Warning: wildcards not supported in HTTP.\n",
      "--2022-05-27 16:49:23--  https://doc-0s-c0-docs.googleusercontent.com/docs/securesc/ha0ro937gcuc7l7deffksulhg5h7mbp1/0teniaesra2949p69rpt8v9rf1ufo9a9/1653670125000/14904333240138417226/*/1OZqSfha02EAs33ZdV6ZdZH5T7qF8J9mz?e=download\n",
      "Resolving doc-0s-c0-docs.googleusercontent.com (doc-0s-c0-docs.googleusercontent.com)... 172.217.204.132, 2607:f8b0:400c:c15::84\n",
      "Connecting to doc-0s-c0-docs.googleusercontent.com (doc-0s-c0-docs.googleusercontent.com)|172.217.204.132|:443... connected.\n",
      "HTTP request sent, awaiting response... 200 OK\n",
      "Length: 1164788 (1.1M) [text/csv]\n",
      "Saving to: ‘x_train.csv’\n",
      "\n",
      "x_train.csv         100%[===================>]   1.11M  --.-KB/s    in 0.008s  \n",
      "\n",
      "2022-05-27 16:49:24 (146 MB/s) - ‘x_train.csv’ saved [1164788/1164788]\n",
      "\n",
      "--2022-05-27 16:49:24--  https://drive.google.com/uc?export=download&id=1LfYcW-_9eHg7JIKmR8K9xjmU-npjMXTN\n",
      "Resolving drive.google.com (drive.google.com)... 74.125.26.101, 74.125.26.139, 74.125.26.102, ...\n",
      "Connecting to drive.google.com (drive.google.com)|74.125.26.101|:443... connected.\n",
      "HTTP request sent, awaiting response... 303 See Other\n",
      "Location: https://doc-0o-c0-docs.googleusercontent.com/docs/securesc/ha0ro937gcuc7l7deffksulhg5h7mbp1/4mjmul1dega8efti0vg0kbobk3m1l0bq/1653670125000/14904333240138417226/*/1LfYcW-_9eHg7JIKmR8K9xjmU-npjMXTN?e=download [following]\n",
      "Warning: wildcards not supported in HTTP.\n",
      "--2022-05-27 16:49:24--  https://doc-0o-c0-docs.googleusercontent.com/docs/securesc/ha0ro937gcuc7l7deffksulhg5h7mbp1/4mjmul1dega8efti0vg0kbobk3m1l0bq/1653670125000/14904333240138417226/*/1LfYcW-_9eHg7JIKmR8K9xjmU-npjMXTN?e=download\n",
      "Resolving doc-0o-c0-docs.googleusercontent.com (doc-0o-c0-docs.googleusercontent.com)... 172.217.204.132, 2607:f8b0:400c:c15::84\n",
      "Connecting to doc-0o-c0-docs.googleusercontent.com (doc-0o-c0-docs.googleusercontent.com)|172.217.204.132|:443... connected.\n",
      "HTTP request sent, awaiting response... 200 OK\n",
      "Length: 101156 (99K) [text/csv]\n",
      "Saving to: ‘y_train.csv’\n",
      "\n",
      "y_train.csv         100%[===================>]  98.79K  --.-KB/s    in 0.001s  \n",
      "\n",
      "2022-05-27 16:49:24 (123 MB/s) - ‘y_train.csv’ saved [101156/101156]\n",
      "\n"
     ]
    }
   ],
   "source": [
    "!wget 'https://drive.google.com/uc?export=download&id=1OZqSfha02EAs33ZdV6ZdZH5T7qF8J9mz' -O x_train.csv\n",
    "!wget 'https://drive.google.com/uc?export=download&id=1LfYcW-_9eHg7JIKmR8K9xjmU-npjMXTN' -O y_train.csv"
   ]
  },
  {
   "cell_type": "code",
   "execution_count": null,
   "metadata": {
    "id": "00WsjJupsf9f"
   },
   "outputs": [],
   "source": [
    "all_train = pd.read_csv('x_train.csv', sep=';')\n",
    "all_target = pd.read_csv('y_train.csv', sep=';', names=['TARGET'])\n",
    "all_train['TARGET'] = all_target['TARGET']"
   ]
  },
  {
   "cell_type": "code",
   "execution_count": null,
   "metadata": {
    "id": "nOB_Ky8ggEci"
   },
   "outputs": [],
   "source": [
    "all_train = all_train.drop_duplicates()"
   ]
  },
  {
   "cell_type": "code",
   "execution_count": null,
   "metadata": {
    "colab": {
     "base_uri": "https://localhost:8080/",
     "height": 488
    },
    "id": "xtEV-6CC08VD",
    "outputId": "b2180807-cc21-4aa4-bb7f-df51db231f8c"
   },
   "outputs": [
    {
     "data": {
      "text/html": [
       "\n",
       "  <div id=\"df-e8adc190-6d05-4562-8c63-1cabf0bd9ceb\">\n",
       "    <div class=\"colab-df-container\">\n",
       "      <div>\n",
       "<style scoped>\n",
       "    .dataframe tbody tr th:only-of-type {\n",
       "        vertical-align: middle;\n",
       "    }\n",
       "\n",
       "    .dataframe tbody tr th {\n",
       "        vertical-align: top;\n",
       "    }\n",
       "\n",
       "    .dataframe thead th {\n",
       "        text-align: right;\n",
       "    }\n",
       "</style>\n",
       "<table border=\"1\" class=\"dataframe\">\n",
       "  <thead>\n",
       "    <tr style=\"text-align: right;\">\n",
       "      <th></th>\n",
       "      <th>maxPlayerLevel</th>\n",
       "      <th>numberOfAttemptedLevels</th>\n",
       "      <th>attemptsOnTheHighestLevel</th>\n",
       "      <th>totalNumOfAttempts</th>\n",
       "      <th>averageNumOfTurnsPerCompletedLevel</th>\n",
       "      <th>doReturnOnLowerLevels</th>\n",
       "      <th>numberOfBoostersUsed</th>\n",
       "      <th>fractionOfUsefullBoosters</th>\n",
       "      <th>totalScore</th>\n",
       "      <th>totalBonusScore</th>\n",
       "      <th>totalStarsCount</th>\n",
       "      <th>numberOfDaysActuallyPlayed</th>\n",
       "      <th>TARGET</th>\n",
       "    </tr>\n",
       "  </thead>\n",
       "  <tbody>\n",
       "    <tr>\n",
       "      <th>0</th>\n",
       "      <td>39</td>\n",
       "      <td>10</td>\n",
       "      <td>3</td>\n",
       "      <td>17</td>\n",
       "      <td>24.444444</td>\n",
       "      <td>1</td>\n",
       "      <td>5</td>\n",
       "      <td>0.400000</td>\n",
       "      <td>2650000</td>\n",
       "      <td>1375</td>\n",
       "      <td>21</td>\n",
       "      <td>2</td>\n",
       "      <td>0</td>\n",
       "    </tr>\n",
       "    <tr>\n",
       "      <th>1</th>\n",
       "      <td>21</td>\n",
       "      <td>22</td>\n",
       "      <td>19</td>\n",
       "      <td>55</td>\n",
       "      <td>17.045455</td>\n",
       "      <td>1</td>\n",
       "      <td>6</td>\n",
       "      <td>0.333333</td>\n",
       "      <td>5614000</td>\n",
       "      <td>3825</td>\n",
       "      <td>51</td>\n",
       "      <td>4</td>\n",
       "      <td>1</td>\n",
       "    </tr>\n",
       "    <tr>\n",
       "      <th>2</th>\n",
       "      <td>5</td>\n",
       "      <td>6</td>\n",
       "      <td>1</td>\n",
       "      <td>6</td>\n",
       "      <td>8.400000</td>\n",
       "      <td>0</td>\n",
       "      <td>1</td>\n",
       "      <td>1.000000</td>\n",
       "      <td>857000</td>\n",
       "      <td>1150</td>\n",
       "      <td>14</td>\n",
       "      <td>1</td>\n",
       "      <td>1</td>\n",
       "    </tr>\n",
       "    <tr>\n",
       "      <th>3</th>\n",
       "      <td>21</td>\n",
       "      <td>2</td>\n",
       "      <td>5</td>\n",
       "      <td>6</td>\n",
       "      <td>19.000000</td>\n",
       "      <td>0</td>\n",
       "      <td>1</td>\n",
       "      <td>0.000000</td>\n",
       "      <td>120000</td>\n",
       "      <td>0</td>\n",
       "      <td>1</td>\n",
       "      <td>1</td>\n",
       "      <td>1</td>\n",
       "    </tr>\n",
       "    <tr>\n",
       "      <th>4</th>\n",
       "      <td>4</td>\n",
       "      <td>5</td>\n",
       "      <td>1</td>\n",
       "      <td>5</td>\n",
       "      <td>9.600000</td>\n",
       "      <td>0</td>\n",
       "      <td>1</td>\n",
       "      <td>1.000000</td>\n",
       "      <td>857000</td>\n",
       "      <td>1075</td>\n",
       "      <td>12</td>\n",
       "      <td>1</td>\n",
       "      <td>0</td>\n",
       "    </tr>\n",
       "    <tr>\n",
       "      <th>...</th>\n",
       "      <td>...</td>\n",
       "      <td>...</td>\n",
       "      <td>...</td>\n",
       "      <td>...</td>\n",
       "      <td>...</td>\n",
       "      <td>...</td>\n",
       "      <td>...</td>\n",
       "      <td>...</td>\n",
       "      <td>...</td>\n",
       "      <td>...</td>\n",
       "      <td>...</td>\n",
       "      <td>...</td>\n",
       "      <td>...</td>\n",
       "    </tr>\n",
       "    <tr>\n",
       "      <th>25283</th>\n",
       "      <td>12</td>\n",
       "      <td>13</td>\n",
       "      <td>1</td>\n",
       "      <td>14</td>\n",
       "      <td>15.416667</td>\n",
       "      <td>0</td>\n",
       "      <td>3</td>\n",
       "      <td>0.666667</td>\n",
       "      <td>3470000</td>\n",
       "      <td>2475</td>\n",
       "      <td>32</td>\n",
       "      <td>1</td>\n",
       "      <td>0</td>\n",
       "    </tr>\n",
       "    <tr>\n",
       "      <th>25284</th>\n",
       "      <td>3</td>\n",
       "      <td>4</td>\n",
       "      <td>1</td>\n",
       "      <td>4</td>\n",
       "      <td>7.000000</td>\n",
       "      <td>0</td>\n",
       "      <td>0</td>\n",
       "      <td>0.000000</td>\n",
       "      <td>800000</td>\n",
       "      <td>1000</td>\n",
       "      <td>9</td>\n",
       "      <td>1</td>\n",
       "      <td>0</td>\n",
       "    </tr>\n",
       "    <tr>\n",
       "      <th>25285</th>\n",
       "      <td>8</td>\n",
       "      <td>9</td>\n",
       "      <td>1</td>\n",
       "      <td>9</td>\n",
       "      <td>14.000000</td>\n",
       "      <td>0</td>\n",
       "      <td>3</td>\n",
       "      <td>1.000000</td>\n",
       "      <td>1833000</td>\n",
       "      <td>1775</td>\n",
       "      <td>19</td>\n",
       "      <td>1</td>\n",
       "      <td>0</td>\n",
       "    </tr>\n",
       "    <tr>\n",
       "      <th>25286</th>\n",
       "      <td>6</td>\n",
       "      <td>7</td>\n",
       "      <td>2</td>\n",
       "      <td>9</td>\n",
       "      <td>10.571429</td>\n",
       "      <td>0</td>\n",
       "      <td>2</td>\n",
       "      <td>0.500000</td>\n",
       "      <td>1483000</td>\n",
       "      <td>1375</td>\n",
       "      <td>16</td>\n",
       "      <td>1</td>\n",
       "      <td>1</td>\n",
       "    </tr>\n",
       "    <tr>\n",
       "      <th>25287</th>\n",
       "      <td>55</td>\n",
       "      <td>1</td>\n",
       "      <td>1</td>\n",
       "      <td>1</td>\n",
       "      <td>17.000000</td>\n",
       "      <td>1</td>\n",
       "      <td>1</td>\n",
       "      <td>1.000000</td>\n",
       "      <td>101000</td>\n",
       "      <td>0</td>\n",
       "      <td>1</td>\n",
       "      <td>1</td>\n",
       "      <td>0</td>\n",
       "    </tr>\n",
       "  </tbody>\n",
       "</table>\n",
       "<p>21749 rows × 13 columns</p>\n",
       "</div>\n",
       "      <button class=\"colab-df-convert\" onclick=\"convertToInteractive('df-e8adc190-6d05-4562-8c63-1cabf0bd9ceb')\"\n",
       "              title=\"Convert this dataframe to an interactive table.\"\n",
       "              style=\"display:none;\">\n",
       "        \n",
       "  <svg xmlns=\"http://www.w3.org/2000/svg\" height=\"24px\"viewBox=\"0 0 24 24\"\n",
       "       width=\"24px\">\n",
       "    <path d=\"M0 0h24v24H0V0z\" fill=\"none\"/>\n",
       "    <path d=\"M18.56 5.44l.94 2.06.94-2.06 2.06-.94-2.06-.94-.94-2.06-.94 2.06-2.06.94zm-11 1L8.5 8.5l.94-2.06 2.06-.94-2.06-.94L8.5 2.5l-.94 2.06-2.06.94zm10 10l.94 2.06.94-2.06 2.06-.94-2.06-.94-.94-2.06-.94 2.06-2.06.94z\"/><path d=\"M17.41 7.96l-1.37-1.37c-.4-.4-.92-.59-1.43-.59-.52 0-1.04.2-1.43.59L10.3 9.45l-7.72 7.72c-.78.78-.78 2.05 0 2.83L4 21.41c.39.39.9.59 1.41.59.51 0 1.02-.2 1.41-.59l7.78-7.78 2.81-2.81c.8-.78.8-2.07 0-2.86zM5.41 20L4 18.59l7.72-7.72 1.47 1.35L5.41 20z\"/>\n",
       "  </svg>\n",
       "      </button>\n",
       "      \n",
       "  <style>\n",
       "    .colab-df-container {\n",
       "      display:flex;\n",
       "      flex-wrap:wrap;\n",
       "      gap: 12px;\n",
       "    }\n",
       "\n",
       "    .colab-df-convert {\n",
       "      background-color: #E8F0FE;\n",
       "      border: none;\n",
       "      border-radius: 50%;\n",
       "      cursor: pointer;\n",
       "      display: none;\n",
       "      fill: #1967D2;\n",
       "      height: 32px;\n",
       "      padding: 0 0 0 0;\n",
       "      width: 32px;\n",
       "    }\n",
       "\n",
       "    .colab-df-convert:hover {\n",
       "      background-color: #E2EBFA;\n",
       "      box-shadow: 0px 1px 2px rgba(60, 64, 67, 0.3), 0px 1px 3px 1px rgba(60, 64, 67, 0.15);\n",
       "      fill: #174EA6;\n",
       "    }\n",
       "\n",
       "    [theme=dark] .colab-df-convert {\n",
       "      background-color: #3B4455;\n",
       "      fill: #D2E3FC;\n",
       "    }\n",
       "\n",
       "    [theme=dark] .colab-df-convert:hover {\n",
       "      background-color: #434B5C;\n",
       "      box-shadow: 0px 1px 3px 1px rgba(0, 0, 0, 0.15);\n",
       "      filter: drop-shadow(0px 1px 2px rgba(0, 0, 0, 0.3));\n",
       "      fill: #FFFFFF;\n",
       "    }\n",
       "  </style>\n",
       "\n",
       "      <script>\n",
       "        const buttonEl =\n",
       "          document.querySelector('#df-e8adc190-6d05-4562-8c63-1cabf0bd9ceb button.colab-df-convert');\n",
       "        buttonEl.style.display =\n",
       "          google.colab.kernel.accessAllowed ? 'block' : 'none';\n",
       "\n",
       "        async function convertToInteractive(key) {\n",
       "          const element = document.querySelector('#df-e8adc190-6d05-4562-8c63-1cabf0bd9ceb');\n",
       "          const dataTable =\n",
       "            await google.colab.kernel.invokeFunction('convertToInteractive',\n",
       "                                                     [key], {});\n",
       "          if (!dataTable) return;\n",
       "\n",
       "          const docLinkHtml = 'Like what you see? Visit the ' +\n",
       "            '<a target=\"_blank\" href=https://colab.research.google.com/notebooks/data_table.ipynb>data table notebook</a>'\n",
       "            + ' to learn more about interactive tables.';\n",
       "          element.innerHTML = '';\n",
       "          dataTable['output_type'] = 'display_data';\n",
       "          await google.colab.output.renderOutput(dataTable, element);\n",
       "          const docLink = document.createElement('div');\n",
       "          docLink.innerHTML = docLinkHtml;\n",
       "          element.appendChild(docLink);\n",
       "        }\n",
       "      </script>\n",
       "    </div>\n",
       "  </div>\n",
       "  "
      ],
      "text/plain": [
       "       maxPlayerLevel  numberOfAttemptedLevels  attemptsOnTheHighestLevel  \\\n",
       "0                  39                       10                          3   \n",
       "1                  21                       22                         19   \n",
       "2                   5                        6                          1   \n",
       "3                  21                        2                          5   \n",
       "4                   4                        5                          1   \n",
       "...               ...                      ...                        ...   \n",
       "25283              12                       13                          1   \n",
       "25284               3                        4                          1   \n",
       "25285               8                        9                          1   \n",
       "25286               6                        7                          2   \n",
       "25287              55                        1                          1   \n",
       "\n",
       "       totalNumOfAttempts  averageNumOfTurnsPerCompletedLevel  \\\n",
       "0                      17                           24.444444   \n",
       "1                      55                           17.045455   \n",
       "2                       6                            8.400000   \n",
       "3                       6                           19.000000   \n",
       "4                       5                            9.600000   \n",
       "...                   ...                                 ...   \n",
       "25283                  14                           15.416667   \n",
       "25284                   4                            7.000000   \n",
       "25285                   9                           14.000000   \n",
       "25286                   9                           10.571429   \n",
       "25287                   1                           17.000000   \n",
       "\n",
       "       doReturnOnLowerLevels  numberOfBoostersUsed  fractionOfUsefullBoosters  \\\n",
       "0                          1                     5                   0.400000   \n",
       "1                          1                     6                   0.333333   \n",
       "2                          0                     1                   1.000000   \n",
       "3                          0                     1                   0.000000   \n",
       "4                          0                     1                   1.000000   \n",
       "...                      ...                   ...                        ...   \n",
       "25283                      0                     3                   0.666667   \n",
       "25284                      0                     0                   0.000000   \n",
       "25285                      0                     3                   1.000000   \n",
       "25286                      0                     2                   0.500000   \n",
       "25287                      1                     1                   1.000000   \n",
       "\n",
       "       totalScore  totalBonusScore  totalStarsCount  \\\n",
       "0         2650000             1375               21   \n",
       "1         5614000             3825               51   \n",
       "2          857000             1150               14   \n",
       "3          120000                0                1   \n",
       "4          857000             1075               12   \n",
       "...           ...              ...              ...   \n",
       "25283     3470000             2475               32   \n",
       "25284      800000             1000                9   \n",
       "25285     1833000             1775               19   \n",
       "25286     1483000             1375               16   \n",
       "25287      101000                0                1   \n",
       "\n",
       "       numberOfDaysActuallyPlayed  TARGET  \n",
       "0                               2       0  \n",
       "1                               4       1  \n",
       "2                               1       1  \n",
       "3                               1       1  \n",
       "4                               1       0  \n",
       "...                           ...     ...  \n",
       "25283                           1       0  \n",
       "25284                           1       0  \n",
       "25285                           1       0  \n",
       "25286                           1       1  \n",
       "25287                           1       0  \n",
       "\n",
       "[21749 rows x 13 columns]"
      ]
     },
     "execution_count": 31,
     "metadata": {},
     "output_type": "execute_result"
    }
   ],
   "source": [
    "all_train"
   ]
  },
  {
   "cell_type": "code",
   "execution_count": null,
   "metadata": {
    "id": "V50lE0xcsf9f"
   },
   "outputs": [],
   "source": [
    "#разделим данные на train/test\n",
    "X_train, X_test, y_train, y_test = train_test_split(all_train, all_train['TARGET'], random_state=0)"
   ]
  },
  {
   "cell_type": "code",
   "execution_count": null,
   "metadata": {
    "id": "rbX_sF0hsf9g"
   },
   "outputs": [],
   "source": [
    "cols_to_drop = ['ID', 'TARGET']\n",
    "cols = list(set(all_train.columns) - set(cols_to_drop))\n",
    "base_cols = cols"
   ]
  },
  {
   "cell_type": "markdown",
   "metadata": {
    "id": "XSAD3sA9sf9i"
   },
   "source": [
    "Строим признаки все которые можем"
   ]
  },
  {
   "cell_type": "code",
   "execution_count": null,
   "metadata": {
    "colab": {
     "base_uri": "https://localhost:8080/"
    },
    "id": "NulJvUHbsf9j",
    "outputId": "4281b568-7d60-4ada-9f1a-7e693ed42f28",
    "scrolled": true
   },
   "outputs": [
    {
     "name": "stderr",
     "output_type": "stream",
     "text": [
      "/usr/local/lib/python3.7/dist-packages/ipykernel_launcher.py:7: PerformanceWarning: DataFrame is highly fragmented.  This is usually the result of calling `frame.insert` many times, which has poor performance.  Consider joining all columns at once using pd.concat(axis=1) instead.  To get a de-fragmented frame, use `newframe = frame.copy()`\n",
      "  import sys\n",
      "/usr/local/lib/python3.7/dist-packages/ipykernel_launcher.py:8: PerformanceWarning: DataFrame is highly fragmented.  This is usually the result of calling `frame.insert` many times, which has poor performance.  Consider joining all columns at once using pd.concat(axis=1) instead.  To get a de-fragmented frame, use `newframe = frame.copy()`\n",
      "  \n",
      "/usr/local/lib/python3.7/dist-packages/ipykernel_launcher.py:9: PerformanceWarning: DataFrame is highly fragmented.  This is usually the result of calling `frame.insert` many times, which has poor performance.  Consider joining all columns at once using pd.concat(axis=1) instead.  To get a de-fragmented frame, use `newframe = frame.copy()`\n",
      "  if __name__ == '__main__':\n",
      "/usr/local/lib/python3.7/dist-packages/ipykernel_launcher.py:10: PerformanceWarning: DataFrame is highly fragmented.  This is usually the result of calling `frame.insert` many times, which has poor performance.  Consider joining all columns at once using pd.concat(axis=1) instead.  To get a de-fragmented frame, use `newframe = frame.copy()`\n",
      "  # Remove the CWD from sys.path while we load stuff.\n",
      "/usr/local/lib/python3.7/dist-packages/ipykernel_launcher.py:12: PerformanceWarning: DataFrame is highly fragmented.  This is usually the result of calling `frame.insert` many times, which has poor performance.  Consider joining all columns at once using pd.concat(axis=1) instead.  To get a de-fragmented frame, use `newframe = frame.copy()`\n",
      "  if sys.path[0] == '':\n",
      "/usr/local/lib/python3.7/dist-packages/ipykernel_launcher.py:13: PerformanceWarning: DataFrame is highly fragmented.  This is usually the result of calling `frame.insert` many times, which has poor performance.  Consider joining all columns at once using pd.concat(axis=1) instead.  To get a de-fragmented frame, use `newframe = frame.copy()`\n",
      "  del sys.path[0]\n",
      "/usr/local/lib/python3.7/dist-packages/ipykernel_launcher.py:14: PerformanceWarning: DataFrame is highly fragmented.  This is usually the result of calling `frame.insert` many times, which has poor performance.  Consider joining all columns at once using pd.concat(axis=1) instead.  To get a de-fragmented frame, use `newframe = frame.copy()`\n",
      "  \n",
      "/usr/local/lib/python3.7/dist-packages/ipykernel_launcher.py:15: PerformanceWarning: DataFrame is highly fragmented.  This is usually the result of calling `frame.insert` many times, which has poor performance.  Consider joining all columns at once using pd.concat(axis=1) instead.  To get a de-fragmented frame, use `newframe = frame.copy()`\n",
      "  from ipykernel import kernelapp as app\n",
      "/usr/local/lib/python3.7/dist-packages/ipykernel_launcher.py:4: PerformanceWarning: DataFrame is highly fragmented.  This is usually the result of calling `frame.insert` many times, which has poor performance.  Consider joining all columns at once using pd.concat(axis=1) instead.  To get a de-fragmented frame, use `newframe = frame.copy()`\n",
      "  after removing the cwd from sys.path.\n"
     ]
    }
   ],
   "source": [
    "# генерируем признаки\n",
    "def transform_data(data):\n",
    "    for i1, col1 in enumerate(base_cols):\n",
    "        data[col1 + '_log'] = np.log(data[col1] + 1.1)\n",
    "\n",
    "        for i2, col2 in enumerate(base_cols):\n",
    "            data[f'{col1}_{col2}_1'] = data[col1] - data[col2]\n",
    "            data[f'{col1}_{col2}_2'] = data[col1] + data[col2]\n",
    "            data[f'{col1}_{col2}_3'] = data[col1] / (data[col2] + 0.1)\n",
    "            data[f'{col1}_{col2}_4'] = data[col1] * data[col2]\n",
    "\n",
    "            data[f'{col1}_{col2}_11'] = data[col1] - np.log(data[col2] + 1)\n",
    "            data[f'{col1}_{col2}_22'] = data[col1] + np.log(data[col2] + 1)\n",
    "            data[f'{col1}_{col2}_33'] = data[col1] / (np.log(data[col2] + 1) + 0.1)\n",
    "            data[f'{col1}_{col2}_44'] = data[col1] * np.log(data[col2] + 1)\n",
    "\n",
    "    return data\n",
    "\n",
    "\n",
    "X_train_tr = transform_data(X_train)\n",
    "X_test_tr = transform_data(X_test)"
   ]
  },
  {
   "cell_type": "code",
   "execution_count": null,
   "metadata": {
    "colab": {
     "base_uri": "https://localhost:8080/"
    },
    "id": "HSJ1j8Lqsf9k",
    "outputId": "d4398128-b408-43c7-a8fc-ae9dd5b30d22"
   },
   "outputs": [
    {
     "name": "stderr",
     "output_type": "stream",
     "text": [
      "/usr/local/lib/python3.7/dist-packages/ipykernel_launcher.py:1: FutureWarning: In a future version of pandas all arguments of DataFrame.drop except for the argument 'labels' will be keyword-only\n",
      "  \"\"\"Entry point for launching an IPython kernel.\n"
     ]
    }
   ],
   "source": [
    "cols = [col for col in X_train_tr.drop(['TARGET'], 1).columns]"
   ]
  },
  {
   "cell_type": "code",
   "execution_count": null,
   "metadata": {
    "colab": {
     "base_uri": "https://localhost:8080/"
    },
    "id": "mMjavOz1sf9l",
    "outputId": "d694ab15-7574-43f3-f6b1-a3eeeb385703"
   },
   "outputs": [
    {
     "data": {
      "text/plain": [
       "1176"
      ]
     },
     "execution_count": 36,
     "metadata": {},
     "output_type": "execute_result"
    }
   ],
   "source": [
    "len(cols)"
   ]
  },
  {
   "cell_type": "code",
   "execution_count": null,
   "metadata": {
    "id": "_bCMTPcDsf9m"
   },
   "outputs": [],
   "source": [
    "from sklearn.preprocessing import MinMaxScaler\n",
    "\n",
    "# выборки для разных моделей\n",
    "X_train_gb = X_train[cols].values\n",
    "\n",
    "scaler_reg = MinMaxScaler((-1, 1))\n",
    "scaler_reg.fit(X_train_tr[cols])\n",
    "X_train_reg = scaler_reg.transform(X_train_tr[cols])\n",
    "X_test_reg = scaler_reg.transform(X_test_tr[cols])"
   ]
  },
  {
   "cell_type": "code",
   "execution_count": null,
   "metadata": {
    "colab": {
     "base_uri": "https://localhost:8080/"
    },
    "id": "G0QMDwOUsf9n",
    "outputId": "32f9d9e4-5cd7-434f-87ec-1e6738b68d85",
    "scrolled": true
   },
   "outputs": [
    {
     "name": "stdout",
     "output_type": "stream",
     "text": [
      "CPU times: user 1min 27s, sys: 401 ms, total: 1min 28s\n",
      "Wall time: 1min 28s\n"
     ]
    }
   ],
   "source": [
    "%%time\n",
    "\n",
    "import xgboost as xgb\n",
    "# ------------------------------------------------------------------\n",
    "params = {\n",
    "    'silent': 1,\n",
    "    'max_depth': 4,\n",
    "    'eta': 0.01,\n",
    "    'subsample': 0.4,\n",
    "    'min_child_weight': 7,\n",
    "    'n': 580,\n",
    "    'verbose': 1\n",
    "}\n",
    "\n",
    "dtrain = xgb.DMatrix(X_train_tr[cols], label=y_train, missing=np.NaN)\n",
    "\n",
    "\n",
    "bst1 = xgb.XGBClassifier(boosting_type='gbdt', **params)\n",
    "bst1.fit(X_train_tr[cols], y_train)"
   ]
  },
  {
   "cell_type": "code",
   "execution_count": null,
   "metadata": {
    "colab": {
     "base_uri": "https://localhost:8080/"
    },
    "id": "nTUAFT6wec7f",
    "outputId": "e335dc9d-83f7-4b36-f83b-a09583553fb4"
   },
   "outputs": [
    {
     "name": "stdout",
     "output_type": "stream",
     "text": [
      "      Iter       Train Loss      OOB Improve   Remaining Time \n",
      "         1           0.9186           0.0270           35.27s\n",
      "         2           0.8922           0.0246           36.05s\n",
      "         3           0.8699           0.0212           35.62s\n",
      "         4           0.8521           0.0191           35.38s\n",
      "         5           0.8342           0.0177           35.38s\n",
      "         6           0.8183           0.0154           35.28s\n",
      "         7           0.8018           0.0136           35.31s\n",
      "         8           0.7938           0.0122           35.40s\n",
      "         9           0.7794           0.0103           35.20s\n",
      "        10           0.7698           0.0093           34.92s\n",
      "        20           0.7193           0.0021           33.22s\n",
      "        30           0.7043           0.0007           31.61s\n",
      "        40           0.7065           0.0002           30.50s\n",
      "        50           0.6946          -0.0000           29.18s\n",
      "        60           0.6946          -0.0001           28.05s\n",
      "        70           0.6897          -0.0001           26.85s\n",
      "        80           0.6879          -0.0001           25.63s\n",
      "        90           0.6888          -0.0002           24.38s\n",
      "       100           0.6843          -0.0001           23.19s\n",
      "       200           0.6686          -0.0002           11.52s\n",
      "       300           0.6646          -0.0003            0.00s\n",
      "CPU times: user 34.8 s, sys: 78 ms, total: 34.9 s\n",
      "Wall time: 34.7 s\n"
     ]
    }
   ],
   "source": [
    "%%time\n",
    "from sklearn.ensemble import GradientBoostingClassifier\n",
    "# ------------------------------------------------------------------\n",
    "params_est = {\n",
    "    'n_estimators': 300,\n",
    "    'loss': 'exponential',\n",
    "    'learning_rate': 0.08,\n",
    "    'subsample': 0.691,\n",
    "    'min_samples_leaf': 340,\n",
    "    'max_features': 53,\n",
    "    'random_state': 1,\n",
    "    'verbose': 1\n",
    "}\n",
    "bst2 = GradientBoostingClassifier(**params_est)\n",
    "bst2.fit(X_train_tr[cols], y_train)"
   ]
  },
  {
   "cell_type": "code",
   "execution_count": null,
   "metadata": {
    "colab": {
     "base_uri": "https://localhost:8080/"
    },
    "id": "enji4kTIsf9o",
    "outputId": "d8b4882a-afec-49e3-a8c2-7566a8714bcf",
    "scrolled": true
   },
   "outputs": [
    {
     "name": "stderr",
     "output_type": "stream",
     "text": [
      "/usr/local/lib/python3.7/dist-packages/sklearn/linear_model/_logistic.py:818: ConvergenceWarning: lbfgs failed to converge (status=1):\n",
      "STOP: TOTAL NO. of ITERATIONS REACHED LIMIT.\n",
      "\n",
      "Increase the number of iterations (max_iter) or scale the data as shown in:\n",
      "    https://scikit-learn.org/stable/modules/preprocessing.html\n",
      "Please also refer to the documentation for alternative solver options:\n",
      "    https://scikit-learn.org/stable/modules/linear_model.html#logistic-regression\n",
      "  extra_warning_msg=_LOGISTIC_SOLVER_CONVERGENCE_MSG,\n"
     ]
    },
    {
     "data": {
      "text/plain": [
       "LogisticRegression()"
      ]
     },
     "execution_count": 40,
     "metadata": {},
     "output_type": "execute_result"
    }
   ],
   "source": [
    "# обычная логистическая регрессия\n",
    "bst3 = LogisticRegression()\n",
    "bst3.fit(X_train_reg, y_train)"
   ]
  },
  {
   "cell_type": "markdown",
   "metadata": {
    "id": "5NkfkKZ2sf9o"
   },
   "source": [
    "Посчитаем скоры"
   ]
  },
  {
   "cell_type": "code",
   "execution_count": null,
   "metadata": {
    "colab": {
     "base_uri": "https://localhost:8080/"
    },
    "id": "bc47KPsQsf9p",
    "outputId": "d9eadf3c-2066-4774-c4c9-4f7e3b1b09f8"
   },
   "outputs": [
    {
     "name": "stderr",
     "output_type": "stream",
     "text": [
      "/usr/local/lib/python3.7/dist-packages/sklearn/base.py:451: UserWarning: X does not have valid feature names, but GradientBoostingClassifier was fitted with feature names\n",
      "  \"X does not have valid feature names, but\"\n"
     ]
    }
   ],
   "source": [
    "t1 = bst1.predict_proba(X_test_tr[cols])[:, 1]\n",
    "t2 = bst2.predict_proba(X_test_tr[cols].values)[:, 1]\n",
    "t3 = bst3.predict_proba(X_test_reg)[:, 1]"
   ]
  },
  {
   "cell_type": "markdown",
   "metadata": {
    "id": "mD7u8JvRsf9q"
   },
   "source": [
    "Объединим все"
   ]
  },
  {
   "cell_type": "code",
   "execution_count": null,
   "metadata": {
    "colab": {
     "base_uri": "https://localhost:8080/",
     "height": 424
    },
    "id": "PJ2K04ILsf9q",
    "outputId": "d546a21e-aef9-49d7-9905-d1c86a005b8a"
   },
   "outputs": [
    {
     "data": {
      "text/html": [
       "\n",
       "  <div id=\"df-16ab6982-62c9-45d1-b7ed-8c5038e92d1f\">\n",
       "    <div class=\"colab-df-container\">\n",
       "      <div>\n",
       "<style scoped>\n",
       "    .dataframe tbody tr th:only-of-type {\n",
       "        vertical-align: middle;\n",
       "    }\n",
       "\n",
       "    .dataframe tbody tr th {\n",
       "        vertical-align: top;\n",
       "    }\n",
       "\n",
       "    .dataframe thead th {\n",
       "        text-align: right;\n",
       "    }\n",
       "</style>\n",
       "<table border=\"1\" class=\"dataframe\">\n",
       "  <thead>\n",
       "    <tr style=\"text-align: right;\">\n",
       "      <th></th>\n",
       "      <th>y_true</th>\n",
       "      <th>XGB</th>\n",
       "      <th>GBM</th>\n",
       "      <th>LR</th>\n",
       "      <th>AVG_xgb_gbm_lr</th>\n",
       "      <th>AVG_xgb_gbm</th>\n",
       "      <th>AVG_xgb_lr</th>\n",
       "    </tr>\n",
       "  </thead>\n",
       "  <tbody>\n",
       "    <tr>\n",
       "      <th>1623</th>\n",
       "      <td>0</td>\n",
       "      <td>0.176821</td>\n",
       "      <td>0.139735</td>\n",
       "      <td>0.190849</td>\n",
       "      <td>0.169135</td>\n",
       "      <td>0.158278</td>\n",
       "      <td>0.183835</td>\n",
       "    </tr>\n",
       "    <tr>\n",
       "      <th>478</th>\n",
       "      <td>0</td>\n",
       "      <td>0.343067</td>\n",
       "      <td>0.386502</td>\n",
       "      <td>0.478921</td>\n",
       "      <td>0.402830</td>\n",
       "      <td>0.364784</td>\n",
       "      <td>0.410994</td>\n",
       "    </tr>\n",
       "    <tr>\n",
       "      <th>13580</th>\n",
       "      <td>1</td>\n",
       "      <td>0.967076</td>\n",
       "      <td>0.956813</td>\n",
       "      <td>0.919687</td>\n",
       "      <td>0.947859</td>\n",
       "      <td>0.961944</td>\n",
       "      <td>0.943382</td>\n",
       "    </tr>\n",
       "    <tr>\n",
       "      <th>8654</th>\n",
       "      <td>0</td>\n",
       "      <td>0.073945</td>\n",
       "      <td>0.072203</td>\n",
       "      <td>0.040824</td>\n",
       "      <td>0.062324</td>\n",
       "      <td>0.073074</td>\n",
       "      <td>0.057384</td>\n",
       "    </tr>\n",
       "    <tr>\n",
       "      <th>1606</th>\n",
       "      <td>1</td>\n",
       "      <td>0.040841</td>\n",
       "      <td>0.045356</td>\n",
       "      <td>0.057109</td>\n",
       "      <td>0.047769</td>\n",
       "      <td>0.043098</td>\n",
       "      <td>0.048975</td>\n",
       "    </tr>\n",
       "    <tr>\n",
       "      <th>...</th>\n",
       "      <td>...</td>\n",
       "      <td>...</td>\n",
       "      <td>...</td>\n",
       "      <td>...</td>\n",
       "      <td>...</td>\n",
       "      <td>...</td>\n",
       "      <td>...</td>\n",
       "    </tr>\n",
       "    <tr>\n",
       "      <th>18119</th>\n",
       "      <td>1</td>\n",
       "      <td>0.566254</td>\n",
       "      <td>0.343622</td>\n",
       "      <td>0.530962</td>\n",
       "      <td>0.480279</td>\n",
       "      <td>0.454938</td>\n",
       "      <td>0.548608</td>\n",
       "    </tr>\n",
       "    <tr>\n",
       "      <th>14331</th>\n",
       "      <td>0</td>\n",
       "      <td>0.359256</td>\n",
       "      <td>0.345006</td>\n",
       "      <td>0.353530</td>\n",
       "      <td>0.352598</td>\n",
       "      <td>0.352131</td>\n",
       "      <td>0.356393</td>\n",
       "    </tr>\n",
       "    <tr>\n",
       "      <th>11648</th>\n",
       "      <td>1</td>\n",
       "      <td>0.806987</td>\n",
       "      <td>0.824687</td>\n",
       "      <td>0.755895</td>\n",
       "      <td>0.795856</td>\n",
       "      <td>0.815837</td>\n",
       "      <td>0.781441</td>\n",
       "    </tr>\n",
       "    <tr>\n",
       "      <th>7504</th>\n",
       "      <td>0</td>\n",
       "      <td>0.658460</td>\n",
       "      <td>0.673268</td>\n",
       "      <td>0.798712</td>\n",
       "      <td>0.710147</td>\n",
       "      <td>0.665864</td>\n",
       "      <td>0.728586</td>\n",
       "    </tr>\n",
       "    <tr>\n",
       "      <th>24999</th>\n",
       "      <td>1</td>\n",
       "      <td>0.773804</td>\n",
       "      <td>0.744553</td>\n",
       "      <td>0.835219</td>\n",
       "      <td>0.784525</td>\n",
       "      <td>0.759178</td>\n",
       "      <td>0.804512</td>\n",
       "    </tr>\n",
       "  </tbody>\n",
       "</table>\n",
       "<p>5438 rows × 7 columns</p>\n",
       "</div>\n",
       "      <button class=\"colab-df-convert\" onclick=\"convertToInteractive('df-16ab6982-62c9-45d1-b7ed-8c5038e92d1f')\"\n",
       "              title=\"Convert this dataframe to an interactive table.\"\n",
       "              style=\"display:none;\">\n",
       "        \n",
       "  <svg xmlns=\"http://www.w3.org/2000/svg\" height=\"24px\"viewBox=\"0 0 24 24\"\n",
       "       width=\"24px\">\n",
       "    <path d=\"M0 0h24v24H0V0z\" fill=\"none\"/>\n",
       "    <path d=\"M18.56 5.44l.94 2.06.94-2.06 2.06-.94-2.06-.94-.94-2.06-.94 2.06-2.06.94zm-11 1L8.5 8.5l.94-2.06 2.06-.94-2.06-.94L8.5 2.5l-.94 2.06-2.06.94zm10 10l.94 2.06.94-2.06 2.06-.94-2.06-.94-.94-2.06-.94 2.06-2.06.94z\"/><path d=\"M17.41 7.96l-1.37-1.37c-.4-.4-.92-.59-1.43-.59-.52 0-1.04.2-1.43.59L10.3 9.45l-7.72 7.72c-.78.78-.78 2.05 0 2.83L4 21.41c.39.39.9.59 1.41.59.51 0 1.02-.2 1.41-.59l7.78-7.78 2.81-2.81c.8-.78.8-2.07 0-2.86zM5.41 20L4 18.59l7.72-7.72 1.47 1.35L5.41 20z\"/>\n",
       "  </svg>\n",
       "      </button>\n",
       "      \n",
       "  <style>\n",
       "    .colab-df-container {\n",
       "      display:flex;\n",
       "      flex-wrap:wrap;\n",
       "      gap: 12px;\n",
       "    }\n",
       "\n",
       "    .colab-df-convert {\n",
       "      background-color: #E8F0FE;\n",
       "      border: none;\n",
       "      border-radius: 50%;\n",
       "      cursor: pointer;\n",
       "      display: none;\n",
       "      fill: #1967D2;\n",
       "      height: 32px;\n",
       "      padding: 0 0 0 0;\n",
       "      width: 32px;\n",
       "    }\n",
       "\n",
       "    .colab-df-convert:hover {\n",
       "      background-color: #E2EBFA;\n",
       "      box-shadow: 0px 1px 2px rgba(60, 64, 67, 0.3), 0px 1px 3px 1px rgba(60, 64, 67, 0.15);\n",
       "      fill: #174EA6;\n",
       "    }\n",
       "\n",
       "    [theme=dark] .colab-df-convert {\n",
       "      background-color: #3B4455;\n",
       "      fill: #D2E3FC;\n",
       "    }\n",
       "\n",
       "    [theme=dark] .colab-df-convert:hover {\n",
       "      background-color: #434B5C;\n",
       "      box-shadow: 0px 1px 3px 1px rgba(0, 0, 0, 0.15);\n",
       "      filter: drop-shadow(0px 1px 2px rgba(0, 0, 0, 0.3));\n",
       "      fill: #FFFFFF;\n",
       "    }\n",
       "  </style>\n",
       "\n",
       "      <script>\n",
       "        const buttonEl =\n",
       "          document.querySelector('#df-16ab6982-62c9-45d1-b7ed-8c5038e92d1f button.colab-df-convert');\n",
       "        buttonEl.style.display =\n",
       "          google.colab.kernel.accessAllowed ? 'block' : 'none';\n",
       "\n",
       "        async function convertToInteractive(key) {\n",
       "          const element = document.querySelector('#df-16ab6982-62c9-45d1-b7ed-8c5038e92d1f');\n",
       "          const dataTable =\n",
       "            await google.colab.kernel.invokeFunction('convertToInteractive',\n",
       "                                                     [key], {});\n",
       "          if (!dataTable) return;\n",
       "\n",
       "          const docLinkHtml = 'Like what you see? Visit the ' +\n",
       "            '<a target=\"_blank\" href=https://colab.research.google.com/notebooks/data_table.ipynb>data table notebook</a>'\n",
       "            + ' to learn more about interactive tables.';\n",
       "          element.innerHTML = '';\n",
       "          dataTable['output_type'] = 'display_data';\n",
       "          await google.colab.output.renderOutput(dataTable, element);\n",
       "          const docLink = document.createElement('div');\n",
       "          docLink.innerHTML = docLinkHtml;\n",
       "          element.appendChild(docLink);\n",
       "        }\n",
       "      </script>\n",
       "    </div>\n",
       "  </div>\n",
       "  "
      ],
      "text/plain": [
       "       y_true       XGB       GBM        LR  AVG_xgb_gbm_lr  AVG_xgb_gbm  \\\n",
       "1623        0  0.176821  0.139735  0.190849        0.169135     0.158278   \n",
       "478         0  0.343067  0.386502  0.478921        0.402830     0.364784   \n",
       "13580       1  0.967076  0.956813  0.919687        0.947859     0.961944   \n",
       "8654        0  0.073945  0.072203  0.040824        0.062324     0.073074   \n",
       "1606        1  0.040841  0.045356  0.057109        0.047769     0.043098   \n",
       "...       ...       ...       ...       ...             ...          ...   \n",
       "18119       1  0.566254  0.343622  0.530962        0.480279     0.454938   \n",
       "14331       0  0.359256  0.345006  0.353530        0.352598     0.352131   \n",
       "11648       1  0.806987  0.824687  0.755895        0.795856     0.815837   \n",
       "7504        0  0.658460  0.673268  0.798712        0.710147     0.665864   \n",
       "24999       1  0.773804  0.744553  0.835219        0.784525     0.759178   \n",
       "\n",
       "       AVG_xgb_lr  \n",
       "1623     0.183835  \n",
       "478      0.410994  \n",
       "13580    0.943382  \n",
       "8654     0.057384  \n",
       "1606     0.048975  \n",
       "...           ...  \n",
       "18119    0.548608  \n",
       "14331    0.356393  \n",
       "11648    0.781441  \n",
       "7504     0.728586  \n",
       "24999    0.804512  \n",
       "\n",
       "[5438 rows x 7 columns]"
      ]
     },
     "execution_count": 42,
     "metadata": {},
     "output_type": "execute_result"
    }
   ],
   "source": [
    "results = pd.DataFrame({\n",
    "    'y_true': y_test,\n",
    "    'XGB': t1,\n",
    "    'GBM': t2,\n",
    "    'LR': t3\n",
    "})\n",
    "results['AVG_xgb_gbm_lr'] = results[['XGB', 'GBM', 'LR']].mean(axis=1)\n",
    "results['AVG_xgb_gbm'] = results[['XGB', 'GBM']].mean(axis=1)\n",
    "results['AVG_xgb_lr'] = results[['XGB', 'LR']].mean(axis=1)\n",
    "results"
   ]
  },
  {
   "cell_type": "markdown",
   "metadata": {
    "id": "2Qtqxmc3sf9r"
   },
   "source": [
    "Посчитаем метрики"
   ]
  },
  {
   "cell_type": "code",
   "execution_count": null,
   "metadata": {
    "id": "5760kyFCsf9s"
   },
   "outputs": [],
   "source": [
    "def get_metrics(probs):\n",
    "    precision, recall, thresholds = precision_recall_curve(y_test, probs)\n",
    "\n",
    "    fscore = (2 * precision * recall) / (precision + recall)\n",
    "    # locate the index of the largest f score\n",
    "    ix = np.argmax(fscore)\n",
    "    \n",
    "    print(f'Best Threshold={thresholds[ix]}, F-Score={fscore[ix]:.3f}, Precision={precision[ix]:.3f}, Recall={recall[ix]:.3f}')\n",
    "    \n",
    "    return thresholds[ix]"
   ]
  },
  {
   "cell_type": "code",
   "execution_count": null,
   "metadata": {
    "colab": {
     "base_uri": "https://localhost:8080/"
    },
    "id": "cm7eYvLtsf9u",
    "outputId": "11046dfd-03a3-47af-c1e8-a66f61e8d7c6"
   },
   "outputs": [
    {
     "name": "stdout",
     "output_type": "stream",
     "text": [
      "Best Threshold=0.34818047285079956, F-Score=0.703, Precision=0.634, Recall=0.789\n",
      "Best Threshold=0.3336511910615493, F-Score=0.710, Precision=0.640, Recall=0.799\n",
      "Best Threshold=0.35451832400282746, F-Score=0.713, Precision=0.647, Recall=0.793\n",
      "Best Threshold=0.3545788254248672, F-Score=0.711, Precision=0.646, Recall=0.790\n",
      "Best Threshold=0.3416441842515415, F-Score=0.708, Precision=0.637, Recall=0.796\n",
      "Best Threshold=0.3412635015380045, F-Score=0.709, Precision=0.636, Recall=0.801\n"
     ]
    }
   ],
   "source": [
    "xgb_th = get_metrics(results['XGB'])\n",
    "gbm_th = get_metrics(results['GBM'])\n",
    "lr_th = get_metrics(results['LR'])\n",
    "blending_th = get_metrics(results['AVG_xgb_gbm_lr'])\n",
    "blending1_th = get_metrics(results['AVG_xgb_gbm'])\n",
    "blending2_th = get_metrics(results['AVG_xgb_lr'])"
   ]
  },
  {
   "cell_type": "markdown",
   "metadata": {
    "id": "IxRvoOK8sf9v"
   },
   "source": [
    "Ничего особенного блендинг нам не дает, но вполне возможно, что при большем количестве моделей результат может быть иным. "
   ]
  },
  {
   "cell_type": "markdown",
   "metadata": {
    "id": "e8LVADTOfPmL"
   },
   "source": [
    "Обработка экономики процесса: Удержание одного пользователя у нас уйдет 1 рубль. При этом средняя ожидаемая прибыль с каждого TP (true positive) - 2 рубля."
   ]
  },
  {
   "cell_type": "code",
   "execution_count": null,
   "metadata": {
    "colab": {
     "base_uri": "https://localhost:8080/"
    },
    "id": "Xlbnae9VfR0W",
    "outputId": "2bd65183-2f88-48f9-ec29-ab7305280579"
   },
   "outputs": [
    {
     "data": {
      "text/plain": [
       "array([[2934,  757],\n",
       "       [ 362, 1385]])"
      ]
     },
     "execution_count": 45,
     "metadata": {},
     "output_type": "execute_result"
    }
   ],
   "source": [
    "cnf_matrix = confusion_matrix(y_test, results['LR'] > lr_th)\n",
    "cnf_matrix"
   ]
  },
  {
   "cell_type": "code",
   "execution_count": null,
   "metadata": {
    "id": "VwLoxeC2iHLj"
   },
   "outputs": [],
   "source": [
    "TN = cnf_matrix[0][0]\n",
    "FP = cnf_matrix[0][1]\n",
    "FN = cnf_matrix[1][0]\n",
    "TP = cnf_matrix[1][1]"
   ]
  },
  {
   "cell_type": "code",
   "execution_count": null,
   "metadata": {
    "colab": {
     "base_uri": "https://localhost:8080/"
    },
    "id": "1EORf-MAfTYm",
    "outputId": "276ac2d3-b762-41a8-9da8-dc4fd4f13bca"
   },
   "outputs": [
    {
     "name": "stdout",
     "output_type": "stream",
     "text": [
      "дополнительный доход:  628\n"
     ]
    }
   ],
   "source": [
    "add_summ = TP * 2 - np.sum(cnf_matrix[:, 1]) * 1\n",
    "print('дополнительный доход: ', add_summ )"
   ]
  },
  {
   "cell_type": "markdown",
   "metadata": {
    "id": "_zLGzII6fU2o"
   },
   "source": [
    "\n",
    "\n",
    "У нас все хорошо, Мы в \"+\". В этот момент главный вопрос, сколько стоит привлечение. Возможно оно дешевле удержания.\n",
    "\n",
    "Модель нужно откалибровать по сумме add_summ (максимизация )\n"
   ]
  },
  {
   "cell_type": "code",
   "execution_count": null,
   "metadata": {
    "colab": {
     "base_uri": "https://localhost:8080/"
    },
    "id": "u6yOXcP-fW5J",
    "outputId": "3ca85dde-7c7e-4216-bebc-795ea47d312f"
   },
   "outputs": [
    {
     "name": "stdout",
     "output_type": "stream",
     "text": [
      "Best Threshold=0.485, summ=705.000\n"
     ]
    }
   ],
   "source": [
    "def get_rubles(y_test,probs):\n",
    "    \n",
    "    add_summ = []\n",
    "    thresholds = np.linspace(0, 1, 100)\n",
    "    for i in thresholds:\n",
    "        cnf_matrix = confusion_matrix(y_test, probs > i)\n",
    "        add_summ.append(cnf_matrix[1,1]*2 - np.sum(cnf_matrix[:,1])*1)\n",
    "        \n",
    "    # locate the index of the largest f score\n",
    "    ix = np.argmax(add_summ)\n",
    "    print('Best Threshold=%.3f, summ=%.3f'%(thresholds[ix], add_summ[ix]))\n",
    "    return thresholds[ix]\n",
    "\n",
    "\n",
    "tr = get_rubles(y_test, results['LR'])"
   ]
  },
  {
   "cell_type": "markdown",
   "metadata": {
    "id": "Pwfd4Oc9hOeg"
   },
   "source": [
    "## Неконтрактный отток"
   ]
  },
  {
   "cell_type": "markdown",
   "metadata": {
    "id": "lnfPDX0Rgosd"
   },
   "source": [
    "То, что посмотрели выше - это всё примеры контрактного оттока, а есть еще неконтрактный отток (новостные порталы, бесплатные сервисы, сервисы доставки, интернет магазины).\n",
    "\n",
    "Здесь мы смотрим не на прошлый опыт клиента, а больше на его поведение.\n",
    "\n",
    "Из метрик используется Life Time value\n",
    "\n",
    "$$Life\\space Time\\space value = \\frac{Средний\\space доход\\space с\\space клиента}{Churn\\space rate}$$"
   ]
  },
  {
   "cell_type": "markdown",
   "metadata": {
    "id": "BL0MvG2_iJKY"
   },
   "source": [
    "### Beta-Geometric / Non Binary Distribution (BG/NBD)\n",
    "\n",
    "- Отношения с клиентом делятся на две фазы \n",
    "    - \"живые\" \n",
    "    - \"мертвые\"\n",
    "- В живом состоянии  количество транзакций, совершенных клиентом, соответствуют распределению Пуассона с лямбда коэффициентом скорости транзакции.\n",
    "- После любой транзакции покупатель умирает с вероятностью p\n",
    "- Лямбда и p зависят от клиента "
   ]
  },
  {
   "cell_type": "markdown",
   "metadata": {
    "id": "aZ1cPcGQjOK6"
   },
   "source": [
    "![изображение.png](data:image/png;base64,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)"
   ]
  },
  {
   "cell_type": "markdown",
   "metadata": {
    "id": "y4xGWc2wjjpo"
   },
   "source": [
    "### Mодель оттока для жизненного цикла клиента (Client LifeTime Value)\n",
    "\n",
    "https://github.com/collindching/Olist-Customer-Churn\n",
    "\n",
    "Модель оттока клиентов на основе данных бразильского сайта электронной коммерции Olist (для выявления клиентов с высоким риском оттока) https://www.kaggle.com/olistbr/brazilian-ecommerce (все *.cvs брать отсюда).\n",
    "\n",
    "С электронной коммерцией есть одна сложность. Хотя для контрактного (основанного на подписке) бизнеса измерить отток несложно, отток явно не наблюдается в неконтрактных предприятиях (электронная коммерция). В этих сценариях вероятностные модели пригодятся для оценки времени ухода клиента. Вероятностная модель, это модель BG / NBD из пакета Lifetimes.\n"
   ]
  },
  {
   "cell_type": "code",
   "execution_count": null,
   "metadata": {
    "colab": {
     "base_uri": "https://localhost:8080/"
    },
    "id": "sd2gM8CKjqyZ",
    "outputId": "68a18670-6cbd-4906-e794-d493f8302258"
   },
   "outputs": [
    {
     "name": "stdout",
     "output_type": "stream",
     "text": [
      "Looking in indexes: https://pypi.org/simple, https://us-python.pkg.dev/colab-wheels/public/simple/\n",
      "Collecting lifetimes\n",
      "  Downloading Lifetimes-0.11.3-py3-none-any.whl (584 kB)\n",
      "\u001b[K     |████████████████████████████████| 584 kB 5.3 MB/s \n",
      "\u001b[?25hRequirement already satisfied: scipy>=1.0.0 in /usr/local/lib/python3.7/dist-packages (from lifetimes) (1.4.1)\n",
      "Requirement already satisfied: autograd>=1.2.0 in /usr/local/lib/python3.7/dist-packages (from lifetimes) (1.4)\n",
      "Requirement already satisfied: numpy>=1.10.0 in /usr/local/lib/python3.7/dist-packages (from lifetimes) (1.21.6)\n",
      "Requirement already satisfied: dill>=0.2.6 in /usr/local/lib/python3.7/dist-packages (from lifetimes) (0.3.5.1)\n",
      "Requirement already satisfied: pandas>=0.24.0 in /usr/local/lib/python3.7/dist-packages (from lifetimes) (1.3.5)\n",
      "Requirement already satisfied: future>=0.15.2 in /usr/local/lib/python3.7/dist-packages (from autograd>=1.2.0->lifetimes) (0.16.0)\n",
      "Requirement already satisfied: python-dateutil>=2.7.3 in /usr/local/lib/python3.7/dist-packages (from pandas>=0.24.0->lifetimes) (2.8.2)\n",
      "Requirement already satisfied: pytz>=2017.3 in /usr/local/lib/python3.7/dist-packages (from pandas>=0.24.0->lifetimes) (2022.1)\n",
      "Requirement already satisfied: six>=1.5 in /usr/local/lib/python3.7/dist-packages (from python-dateutil>=2.7.3->pandas>=0.24.0->lifetimes) (1.15.0)\n",
      "Installing collected packages: lifetimes\n",
      "Successfully installed lifetimes-0.11.3\n"
     ]
    }
   ],
   "source": [
    "!pip install lifetimes"
   ]
  },
  {
   "cell_type": "markdown",
   "metadata": {
    "id": "Inwm6tsWjscV"
   },
   "source": [
    "\n",
    "Загрузка данных\n",
    "\n",
    "Ссылка на google drive:\n",
    "https://drive.google.com/file/d/1Yx_5I2NoaXEhZaoSIhSbjKVz-PV-mBSQ"
   ]
  },
  {
   "cell_type": "code",
   "execution_count": null,
   "metadata": {
    "colab": {
     "base_uri": "https://localhost:8080/"
    },
    "id": "9Yy9XPGbkdCP",
    "outputId": "13f4b449-a576-4aaa-ed5d-78190d3f5ff8"
   },
   "outputs": [
    {
     "name": "stdout",
     "output_type": "stream",
     "text": [
      "--2022-05-27 16:51:39--  https://drive.google.com/uc?export=download&id=1Yx_5I2NoaXEhZaoSIhSbjKVz-PV-mBSQ\n",
      "Resolving drive.google.com (drive.google.com)... 74.125.26.139, 74.125.26.102, 74.125.26.138, ...\n",
      "Connecting to drive.google.com (drive.google.com)|74.125.26.139|:443... connected.\n",
      "HTTP request sent, awaiting response... 303 See Other\n",
      "Location: https://doc-0o-c0-docs.googleusercontent.com/docs/securesc/ha0ro937gcuc7l7deffksulhg5h7mbp1/6cglrtkip3qpni9oqvo52dm3umvskppd/1653670275000/14904333240138417226/*/1Yx_5I2NoaXEhZaoSIhSbjKVz-PV-mBSQ?e=download [following]\n",
      "Warning: wildcards not supported in HTTP.\n",
      "--2022-05-27 16:51:44--  https://doc-0o-c0-docs.googleusercontent.com/docs/securesc/ha0ro937gcuc7l7deffksulhg5h7mbp1/6cglrtkip3qpni9oqvo52dm3umvskppd/1653670275000/14904333240138417226/*/1Yx_5I2NoaXEhZaoSIhSbjKVz-PV-mBSQ?e=download\n",
      "Resolving doc-0o-c0-docs.googleusercontent.com (doc-0o-c0-docs.googleusercontent.com)... 172.217.204.132, 2607:f8b0:400c:c15::84\n",
      "Connecting to doc-0o-c0-docs.googleusercontent.com (doc-0o-c0-docs.googleusercontent.com)|172.217.204.132|:443... connected.\n",
      "HTTP request sent, awaiting response... 200 OK\n",
      "Length: 17412759 (17M) [application/zip]\n",
      "Saving to: ‘olist_data.zip’\n",
      "\n",
      "olist_data.zip      100%[===================>]  16.61M  74.4MB/s    in 0.2s    \n",
      "\n",
      "2022-05-27 16:51:44 (74.4 MB/s) - ‘olist_data.zip’ saved [17412759/17412759]\n",
      "\n"
     ]
    }
   ],
   "source": [
    "!wget 'https://drive.google.com/uc?export=download&id=1Yx_5I2NoaXEhZaoSIhSbjKVz-PV-mBSQ' -O olist_data.zip"
   ]
  },
  {
   "cell_type": "code",
   "execution_count": null,
   "metadata": {
    "colab": {
     "base_uri": "https://localhost:8080/"
    },
    "id": "MmACOuuLkh8r",
    "outputId": "5622e5a8-6de5-4764-8601-e315bbd8941a"
   },
   "outputs": [
    {
     "name": "stdout",
     "output_type": "stream",
     "text": [
      "Archive:  olist_data.zip\n",
      "  inflating: olist_customers_dataset.csv  \n",
      "  inflating: olist_order_items_dataset.csv  \n",
      "  inflating: olist_orders_dataset.csv  \n"
     ]
    }
   ],
   "source": [
    "!unzip olist_data.zip"
   ]
  },
  {
   "cell_type": "code",
   "execution_count": null,
   "metadata": {
    "id": "-27qmPsUjuC2"
   },
   "outputs": [],
   "source": [
    "import pandas as pd\n",
    "import numpy as np\n",
    "import datetime as dt\n",
    "import seaborn as sns\n",
    "import matplotlib.pyplot as plt\n",
    "\n",
    "from lifetimes.utils import *\n",
    "from lifetimes import BetaGeoFitter,GammaGammaFitter\n",
    "from lifetimes.plotting import plot_probability_alive_matrix, plot_period_transactions, plot_cumulative_transactions, plot_incremental_transactions\n",
    "from lifetimes.generate_data import beta_geometric_nbd_model\n",
    "from lifetimes.plotting import plot_calibration_purchases_vs_holdout_purchases, plot_period_transactions,plot_history_alive\n",
    "\n",
    "orders = pd.read_csv('olist_orders_dataset.csv')\n",
    "items = pd.read_csv('olist_order_items_dataset.csv')\n",
    "cust = pd.read_csv('olist_customers_dataset.csv')"
   ]
  },
  {
   "cell_type": "markdown",
   "metadata": {
    "id": "8vxa6xhVkofU"
   },
   "source": [
    "\n",
    "\n",
    "Пакет Lifetimes опирается на анализ частоты и денежной массы (RFM) для моделирования оттока клиентов и общей ценности клиента (CLV). Для создания моделей нам понадобится таблица:recency(давность), frequency(частота), monetary( денежного эквивалента)\n",
    "\n",
    "- Давность: время между первой покупкой и самой последней.\n",
    "- Частота: количество повторных покупок, сделанных покупателем (всего покупок - 1).\n",
    "- Денежный эквивалент: среднее значение суммы, потраченной на покупки.\n",
    "\n",
    "Информация об ID клиента поступает от cust. Дата заказа будет исходить из orders. Цена будет исходить из items.\n"
   ]
  },
  {
   "cell_type": "code",
   "execution_count": null,
   "metadata": {
    "colab": {
     "base_uri": "https://localhost:8080/"
    },
    "id": "hz232TwBktxC",
    "outputId": "7a8f81bb-0d8f-465d-85ed-a6ff5ed1fedb"
   },
   "outputs": [
    {
     "name": "stdout",
     "output_type": "stream",
     "text": [
      "Index(['customer_id', 'customer_unique_id', 'customer_zip_code_prefix',\n",
      "       'customer_city', 'customer_state'],\n",
      "      dtype='object')\n"
     ]
    }
   ],
   "source": [
    "print(cust.columns)"
   ]
  },
  {
   "cell_type": "markdown",
   "metadata": {
    "id": "021lZD41kuJ-"
   },
   "source": [
    "\n",
    "\n",
    "customer_id - это токен идентификатора клиента, который генерируется для каждого заказа.\n",
    "\n",
    "Если один и тот же клиент делает несколько заказов, у него есть несколько идентификаторов customer_id.\n",
    "\n",
    "Для анализа используем customer_unique_id, который уникален для каждого покупателя и может использоваться для отслеживания его покупок с течением времени.\n",
    "\n",
    "Вот распределение покупок, сделанных покупателями\n"
   ]
  },
  {
   "cell_type": "code",
   "execution_count": null,
   "metadata": {
    "colab": {
     "base_uri": "https://localhost:8080/"
    },
    "id": "Mf5HW3ybkxbQ",
    "outputId": "6e4d4e48-c13f-48c4-ebaa-13fa53ca7528"
   },
   "outputs": [
    {
     "data": {
      "text/plain": [
       "1     93099\n",
       "2      2745\n",
       "3       203\n",
       "4        30\n",
       "5         8\n",
       "6         6\n",
       "7         3\n",
       "9         1\n",
       "17        1\n",
       "dtype: int64"
      ]
     },
     "execution_count": 54,
     "metadata": {},
     "output_type": "execute_result"
    }
   ],
   "source": [
    "cust.groupby('customer_unique_id').size().value_counts()"
   ]
  },
  {
   "cell_type": "code",
   "execution_count": null,
   "metadata": {
    "colab": {
     "base_uri": "https://localhost:8080/",
     "height": 270
    },
    "id": "hT-WW8dTkyrI",
    "outputId": "a6167253-1b4b-4037-d08e-fde001e04493"
   },
   "outputs": [
    {
     "data": {
      "text/html": [
       "\n",
       "  <div id=\"df-32dd41e6-5ef3-4676-afb4-57940e233ecb\">\n",
       "    <div class=\"colab-df-container\">\n",
       "      <div>\n",
       "<style scoped>\n",
       "    .dataframe tbody tr th:only-of-type {\n",
       "        vertical-align: middle;\n",
       "    }\n",
       "\n",
       "    .dataframe tbody tr th {\n",
       "        vertical-align: top;\n",
       "    }\n",
       "\n",
       "    .dataframe thead th {\n",
       "        text-align: right;\n",
       "    }\n",
       "</style>\n",
       "<table border=\"1\" class=\"dataframe\">\n",
       "  <thead>\n",
       "    <tr style=\"text-align: right;\">\n",
       "      <th></th>\n",
       "      <th>order_id</th>\n",
       "      <th>customer_id</th>\n",
       "      <th>order_status</th>\n",
       "      <th>order_purchase_timestamp</th>\n",
       "      <th>order_approved_at</th>\n",
       "      <th>order_delivered_carrier_date</th>\n",
       "      <th>order_delivered_customer_date</th>\n",
       "      <th>order_estimated_delivery_date</th>\n",
       "      <th>customer_unique_id</th>\n",
       "    </tr>\n",
       "  </thead>\n",
       "  <tbody>\n",
       "    <tr>\n",
       "      <th>0</th>\n",
       "      <td>e481f51cbdc54678b7cc49136f2d6af7</td>\n",
       "      <td>9ef432eb6251297304e76186b10a928d</td>\n",
       "      <td>delivered</td>\n",
       "      <td>2017-10-02 10:56:33</td>\n",
       "      <td>2017-10-02 11:07:15</td>\n",
       "      <td>2017-10-04 19:55:00</td>\n",
       "      <td>2017-10-10 21:25:13</td>\n",
       "      <td>2017-10-18 00:00:00</td>\n",
       "      <td>7c396fd4830fd04220f754e42b4e5bff</td>\n",
       "    </tr>\n",
       "    <tr>\n",
       "      <th>1</th>\n",
       "      <td>53cdb2fc8bc7dce0b6741e2150273451</td>\n",
       "      <td>b0830fb4747a6c6d20dea0b8c802d7ef</td>\n",
       "      <td>delivered</td>\n",
       "      <td>2018-07-24 20:41:37</td>\n",
       "      <td>2018-07-26 03:24:27</td>\n",
       "      <td>2018-07-26 14:31:00</td>\n",
       "      <td>2018-08-07 15:27:45</td>\n",
       "      <td>2018-08-13 00:00:00</td>\n",
       "      <td>af07308b275d755c9edb36a90c618231</td>\n",
       "    </tr>\n",
       "    <tr>\n",
       "      <th>2</th>\n",
       "      <td>47770eb9100c2d0c44946d9cf07ec65d</td>\n",
       "      <td>41ce2a54c0b03bf3443c3d931a367089</td>\n",
       "      <td>delivered</td>\n",
       "      <td>2018-08-08 08:38:49</td>\n",
       "      <td>2018-08-08 08:55:23</td>\n",
       "      <td>2018-08-08 13:50:00</td>\n",
       "      <td>2018-08-17 18:06:29</td>\n",
       "      <td>2018-09-04 00:00:00</td>\n",
       "      <td>3a653a41f6f9fc3d2a113cf8398680e8</td>\n",
       "    </tr>\n",
       "    <tr>\n",
       "      <th>3</th>\n",
       "      <td>949d5b44dbf5de918fe9c16f97b45f8a</td>\n",
       "      <td>f88197465ea7920adcdbec7375364d82</td>\n",
       "      <td>delivered</td>\n",
       "      <td>2017-11-18 19:28:06</td>\n",
       "      <td>2017-11-18 19:45:59</td>\n",
       "      <td>2017-11-22 13:39:59</td>\n",
       "      <td>2017-12-02 00:28:42</td>\n",
       "      <td>2017-12-15 00:00:00</td>\n",
       "      <td>7c142cf63193a1473d2e66489a9ae977</td>\n",
       "    </tr>\n",
       "    <tr>\n",
       "      <th>4</th>\n",
       "      <td>ad21c59c0840e6cb83a9ceb5573f8159</td>\n",
       "      <td>8ab97904e6daea8866dbdbc4fb7aad2c</td>\n",
       "      <td>delivered</td>\n",
       "      <td>2018-02-13 21:18:39</td>\n",
       "      <td>2018-02-13 22:20:29</td>\n",
       "      <td>2018-02-14 19:46:34</td>\n",
       "      <td>2018-02-16 18:17:02</td>\n",
       "      <td>2018-02-26 00:00:00</td>\n",
       "      <td>72632f0f9dd73dfee390c9b22eb56dd6</td>\n",
       "    </tr>\n",
       "  </tbody>\n",
       "</table>\n",
       "</div>\n",
       "      <button class=\"colab-df-convert\" onclick=\"convertToInteractive('df-32dd41e6-5ef3-4676-afb4-57940e233ecb')\"\n",
       "              title=\"Convert this dataframe to an interactive table.\"\n",
       "              style=\"display:none;\">\n",
       "        \n",
       "  <svg xmlns=\"http://www.w3.org/2000/svg\" height=\"24px\"viewBox=\"0 0 24 24\"\n",
       "       width=\"24px\">\n",
       "    <path d=\"M0 0h24v24H0V0z\" fill=\"none\"/>\n",
       "    <path d=\"M18.56 5.44l.94 2.06.94-2.06 2.06-.94-2.06-.94-.94-2.06-.94 2.06-2.06.94zm-11 1L8.5 8.5l.94-2.06 2.06-.94-2.06-.94L8.5 2.5l-.94 2.06-2.06.94zm10 10l.94 2.06.94-2.06 2.06-.94-2.06-.94-.94-2.06-.94 2.06-2.06.94z\"/><path d=\"M17.41 7.96l-1.37-1.37c-.4-.4-.92-.59-1.43-.59-.52 0-1.04.2-1.43.59L10.3 9.45l-7.72 7.72c-.78.78-.78 2.05 0 2.83L4 21.41c.39.39.9.59 1.41.59.51 0 1.02-.2 1.41-.59l7.78-7.78 2.81-2.81c.8-.78.8-2.07 0-2.86zM5.41 20L4 18.59l7.72-7.72 1.47 1.35L5.41 20z\"/>\n",
       "  </svg>\n",
       "      </button>\n",
       "      \n",
       "  <style>\n",
       "    .colab-df-container {\n",
       "      display:flex;\n",
       "      flex-wrap:wrap;\n",
       "      gap: 12px;\n",
       "    }\n",
       "\n",
       "    .colab-df-convert {\n",
       "      background-color: #E8F0FE;\n",
       "      border: none;\n",
       "      border-radius: 50%;\n",
       "      cursor: pointer;\n",
       "      display: none;\n",
       "      fill: #1967D2;\n",
       "      height: 32px;\n",
       "      padding: 0 0 0 0;\n",
       "      width: 32px;\n",
       "    }\n",
       "\n",
       "    .colab-df-convert:hover {\n",
       "      background-color: #E2EBFA;\n",
       "      box-shadow: 0px 1px 2px rgba(60, 64, 67, 0.3), 0px 1px 3px 1px rgba(60, 64, 67, 0.15);\n",
       "      fill: #174EA6;\n",
       "    }\n",
       "\n",
       "    [theme=dark] .colab-df-convert {\n",
       "      background-color: #3B4455;\n",
       "      fill: #D2E3FC;\n",
       "    }\n",
       "\n",
       "    [theme=dark] .colab-df-convert:hover {\n",
       "      background-color: #434B5C;\n",
       "      box-shadow: 0px 1px 3px 1px rgba(0, 0, 0, 0.15);\n",
       "      filter: drop-shadow(0px 1px 2px rgba(0, 0, 0, 0.3));\n",
       "      fill: #FFFFFF;\n",
       "    }\n",
       "  </style>\n",
       "\n",
       "      <script>\n",
       "        const buttonEl =\n",
       "          document.querySelector('#df-32dd41e6-5ef3-4676-afb4-57940e233ecb button.colab-df-convert');\n",
       "        buttonEl.style.display =\n",
       "          google.colab.kernel.accessAllowed ? 'block' : 'none';\n",
       "\n",
       "        async function convertToInteractive(key) {\n",
       "          const element = document.querySelector('#df-32dd41e6-5ef3-4676-afb4-57940e233ecb');\n",
       "          const dataTable =\n",
       "            await google.colab.kernel.invokeFunction('convertToInteractive',\n",
       "                                                     [key], {});\n",
       "          if (!dataTable) return;\n",
       "\n",
       "          const docLinkHtml = 'Like what you see? Visit the ' +\n",
       "            '<a target=\"_blank\" href=https://colab.research.google.com/notebooks/data_table.ipynb>data table notebook</a>'\n",
       "            + ' to learn more about interactive tables.';\n",
       "          element.innerHTML = '';\n",
       "          dataTable['output_type'] = 'display_data';\n",
       "          await google.colab.output.renderOutput(dataTable, element);\n",
       "          const docLink = document.createElement('div');\n",
       "          docLink.innerHTML = docLinkHtml;\n",
       "          element.appendChild(docLink);\n",
       "        }\n",
       "      </script>\n",
       "    </div>\n",
       "  </div>\n",
       "  "
      ],
      "text/plain": [
       "                           order_id                       customer_id  \\\n",
       "0  e481f51cbdc54678b7cc49136f2d6af7  9ef432eb6251297304e76186b10a928d   \n",
       "1  53cdb2fc8bc7dce0b6741e2150273451  b0830fb4747a6c6d20dea0b8c802d7ef   \n",
       "2  47770eb9100c2d0c44946d9cf07ec65d  41ce2a54c0b03bf3443c3d931a367089   \n",
       "3  949d5b44dbf5de918fe9c16f97b45f8a  f88197465ea7920adcdbec7375364d82   \n",
       "4  ad21c59c0840e6cb83a9ceb5573f8159  8ab97904e6daea8866dbdbc4fb7aad2c   \n",
       "\n",
       "  order_status order_purchase_timestamp    order_approved_at  \\\n",
       "0    delivered      2017-10-02 10:56:33  2017-10-02 11:07:15   \n",
       "1    delivered      2018-07-24 20:41:37  2018-07-26 03:24:27   \n",
       "2    delivered      2018-08-08 08:38:49  2018-08-08 08:55:23   \n",
       "3    delivered      2017-11-18 19:28:06  2017-11-18 19:45:59   \n",
       "4    delivered      2018-02-13 21:18:39  2018-02-13 22:20:29   \n",
       "\n",
       "  order_delivered_carrier_date order_delivered_customer_date  \\\n",
       "0          2017-10-04 19:55:00           2017-10-10 21:25:13   \n",
       "1          2018-07-26 14:31:00           2018-08-07 15:27:45   \n",
       "2          2018-08-08 13:50:00           2018-08-17 18:06:29   \n",
       "3          2017-11-22 13:39:59           2017-12-02 00:28:42   \n",
       "4          2018-02-14 19:46:34           2018-02-16 18:17:02   \n",
       "\n",
       "  order_estimated_delivery_date                customer_unique_id  \n",
       "0           2017-10-18 00:00:00  7c396fd4830fd04220f754e42b4e5bff  \n",
       "1           2018-08-13 00:00:00  af07308b275d755c9edb36a90c618231  \n",
       "2           2018-09-04 00:00:00  3a653a41f6f9fc3d2a113cf8398680e8  \n",
       "3           2017-12-15 00:00:00  7c142cf63193a1473d2e66489a9ae977  \n",
       "4           2018-02-26 00:00:00  72632f0f9dd73dfee390c9b22eb56dd6  "
      ]
     },
     "execution_count": 55,
     "metadata": {},
     "output_type": "execute_result"
    }
   ],
   "source": [
    "orders = pd.merge(orders, cust[['customer_id', 'customer_unique_id']], on='customer_id')\n",
    "orders.head()"
   ]
  },
  {
   "cell_type": "markdown",
   "metadata": {
    "id": "iEH6xmr4k0oj"
   },
   "source": [
    "\n",
    "\n",
    "В items каждый элемент в заказе получает свою отдельную строку.\n",
    "\n",
    "В столбце price указывается совокупная сумма заказа, а не цена отдельного товара(сохраним первую позицию из каждого заказа).\n"
   ]
  },
  {
   "cell_type": "code",
   "execution_count": null,
   "metadata": {
    "colab": {
     "base_uri": "https://localhost:8080/"
    },
    "id": "ciM-MPZsk2Ue",
    "outputId": "3727be34-e36e-44a8-ed11-07c71f49f26a"
   },
   "outputs": [
    {
     "name": "stdout",
     "output_type": "stream",
     "text": [
      "Index(['order_id', 'order_item_id', 'product_id', 'seller_id',\n",
      "       'shipping_limit_date', 'price', 'freight_value'],\n",
      "      dtype='object')\n"
     ]
    }
   ],
   "source": [
    "print(items.columns)\n",
    "items.drop_duplicates('order_id', keep='first', inplace=True)"
   ]
  },
  {
   "cell_type": "markdown",
   "metadata": {
    "id": "YwJdk1Mbk3iF"
   },
   "source": [
    "\n",
    "\n",
    "Добавим информацию о цене\n"
   ]
  },
  {
   "cell_type": "code",
   "execution_count": null,
   "metadata": {
    "colab": {
     "base_uri": "https://localhost:8080/",
     "height": 206
    },
    "id": "5l5xW7HUk4MG",
    "outputId": "d88467d1-41f9-4f0e-cdd0-7ff101a3984d"
   },
   "outputs": [
    {
     "data": {
      "text/html": [
       "\n",
       "  <div id=\"df-75ee7f56-ac22-4224-9e3f-dd3e8a13a017\">\n",
       "    <div class=\"colab-df-container\">\n",
       "      <div>\n",
       "<style scoped>\n",
       "    .dataframe tbody tr th:only-of-type {\n",
       "        vertical-align: middle;\n",
       "    }\n",
       "\n",
       "    .dataframe tbody tr th {\n",
       "        vertical-align: top;\n",
       "    }\n",
       "\n",
       "    .dataframe thead th {\n",
       "        text-align: right;\n",
       "    }\n",
       "</style>\n",
       "<table border=\"1\" class=\"dataframe\">\n",
       "  <thead>\n",
       "    <tr style=\"text-align: right;\">\n",
       "      <th></th>\n",
       "      <th>customer_unique_id</th>\n",
       "      <th>price</th>\n",
       "      <th>date</th>\n",
       "    </tr>\n",
       "  </thead>\n",
       "  <tbody>\n",
       "    <tr>\n",
       "      <th>0</th>\n",
       "      <td>7c396fd4830fd04220f754e42b4e5bff</td>\n",
       "      <td>29.99</td>\n",
       "      <td>2017-10-02</td>\n",
       "    </tr>\n",
       "    <tr>\n",
       "      <th>1</th>\n",
       "      <td>af07308b275d755c9edb36a90c618231</td>\n",
       "      <td>118.70</td>\n",
       "      <td>2018-07-24</td>\n",
       "    </tr>\n",
       "    <tr>\n",
       "      <th>2</th>\n",
       "      <td>3a653a41f6f9fc3d2a113cf8398680e8</td>\n",
       "      <td>159.90</td>\n",
       "      <td>2018-08-08</td>\n",
       "    </tr>\n",
       "    <tr>\n",
       "      <th>3</th>\n",
       "      <td>7c142cf63193a1473d2e66489a9ae977</td>\n",
       "      <td>45.00</td>\n",
       "      <td>2017-11-18</td>\n",
       "    </tr>\n",
       "    <tr>\n",
       "      <th>4</th>\n",
       "      <td>72632f0f9dd73dfee390c9b22eb56dd6</td>\n",
       "      <td>19.90</td>\n",
       "      <td>2018-02-13</td>\n",
       "    </tr>\n",
       "  </tbody>\n",
       "</table>\n",
       "</div>\n",
       "      <button class=\"colab-df-convert\" onclick=\"convertToInteractive('df-75ee7f56-ac22-4224-9e3f-dd3e8a13a017')\"\n",
       "              title=\"Convert this dataframe to an interactive table.\"\n",
       "              style=\"display:none;\">\n",
       "        \n",
       "  <svg xmlns=\"http://www.w3.org/2000/svg\" height=\"24px\"viewBox=\"0 0 24 24\"\n",
       "       width=\"24px\">\n",
       "    <path d=\"M0 0h24v24H0V0z\" fill=\"none\"/>\n",
       "    <path d=\"M18.56 5.44l.94 2.06.94-2.06 2.06-.94-2.06-.94-.94-2.06-.94 2.06-2.06.94zm-11 1L8.5 8.5l.94-2.06 2.06-.94-2.06-.94L8.5 2.5l-.94 2.06-2.06.94zm10 10l.94 2.06.94-2.06 2.06-.94-2.06-.94-.94-2.06-.94 2.06-2.06.94z\"/><path d=\"M17.41 7.96l-1.37-1.37c-.4-.4-.92-.59-1.43-.59-.52 0-1.04.2-1.43.59L10.3 9.45l-7.72 7.72c-.78.78-.78 2.05 0 2.83L4 21.41c.39.39.9.59 1.41.59.51 0 1.02-.2 1.41-.59l7.78-7.78 2.81-2.81c.8-.78.8-2.07 0-2.86zM5.41 20L4 18.59l7.72-7.72 1.47 1.35L5.41 20z\"/>\n",
       "  </svg>\n",
       "      </button>\n",
       "      \n",
       "  <style>\n",
       "    .colab-df-container {\n",
       "      display:flex;\n",
       "      flex-wrap:wrap;\n",
       "      gap: 12px;\n",
       "    }\n",
       "\n",
       "    .colab-df-convert {\n",
       "      background-color: #E8F0FE;\n",
       "      border: none;\n",
       "      border-radius: 50%;\n",
       "      cursor: pointer;\n",
       "      display: none;\n",
       "      fill: #1967D2;\n",
       "      height: 32px;\n",
       "      padding: 0 0 0 0;\n",
       "      width: 32px;\n",
       "    }\n",
       "\n",
       "    .colab-df-convert:hover {\n",
       "      background-color: #E2EBFA;\n",
       "      box-shadow: 0px 1px 2px rgba(60, 64, 67, 0.3), 0px 1px 3px 1px rgba(60, 64, 67, 0.15);\n",
       "      fill: #174EA6;\n",
       "    }\n",
       "\n",
       "    [theme=dark] .colab-df-convert {\n",
       "      background-color: #3B4455;\n",
       "      fill: #D2E3FC;\n",
       "    }\n",
       "\n",
       "    [theme=dark] .colab-df-convert:hover {\n",
       "      background-color: #434B5C;\n",
       "      box-shadow: 0px 1px 3px 1px rgba(0, 0, 0, 0.15);\n",
       "      filter: drop-shadow(0px 1px 2px rgba(0, 0, 0, 0.3));\n",
       "      fill: #FFFFFF;\n",
       "    }\n",
       "  </style>\n",
       "\n",
       "      <script>\n",
       "        const buttonEl =\n",
       "          document.querySelector('#df-75ee7f56-ac22-4224-9e3f-dd3e8a13a017 button.colab-df-convert');\n",
       "        buttonEl.style.display =\n",
       "          google.colab.kernel.accessAllowed ? 'block' : 'none';\n",
       "\n",
       "        async function convertToInteractive(key) {\n",
       "          const element = document.querySelector('#df-75ee7f56-ac22-4224-9e3f-dd3e8a13a017');\n",
       "          const dataTable =\n",
       "            await google.colab.kernel.invokeFunction('convertToInteractive',\n",
       "                                                     [key], {});\n",
       "          if (!dataTable) return;\n",
       "\n",
       "          const docLinkHtml = 'Like what you see? Visit the ' +\n",
       "            '<a target=\"_blank\" href=https://colab.research.google.com/notebooks/data_table.ipynb>data table notebook</a>'\n",
       "            + ' to learn more about interactive tables.';\n",
       "          element.innerHTML = '';\n",
       "          dataTable['output_type'] = 'display_data';\n",
       "          await google.colab.output.renderOutput(dataTable, element);\n",
       "          const docLink = document.createElement('div');\n",
       "          docLink.innerHTML = docLinkHtml;\n",
       "          element.appendChild(docLink);\n",
       "        }\n",
       "      </script>\n",
       "    </div>\n",
       "  </div>\n",
       "  "
      ],
      "text/plain": [
       "                 customer_unique_id   price        date\n",
       "0  7c396fd4830fd04220f754e42b4e5bff   29.99  2017-10-02\n",
       "1  af07308b275d755c9edb36a90c618231  118.70  2018-07-24\n",
       "2  3a653a41f6f9fc3d2a113cf8398680e8  159.90  2018-08-08\n",
       "3  7c142cf63193a1473d2e66489a9ae977   45.00  2017-11-18\n",
       "4  72632f0f9dd73dfee390c9b22eb56dd6   19.90  2018-02-13"
      ]
     },
     "execution_count": 57,
     "metadata": {},
     "output_type": "execute_result"
    }
   ],
   "source": [
    "transaction_data = pd.merge(orders, items, 'inner', 'order_id')\n",
    "transaction_data = transaction_data[['customer_unique_id', 'order_purchase_timestamp', 'price']]\n",
    "\n",
    "# convert timestamp to date; only need the day\n",
    "transaction_data['date'] = pd.to_datetime(transaction_data['order_purchase_timestamp']).dt.date\n",
    "transaction_data = transaction_data.drop('order_purchase_timestamp', axis=1)\n",
    "transaction_data.head()"
   ]
  },
  {
   "cell_type": "markdown",
   "metadata": {
    "id": "PIM95rj_k6kl"
   },
   "source": [
    "Преобразовать в таблицу с помощью summary_data_from_transaction_data в RFM (в Lifetimes функция преобразования данных транзакции в RFM DataFrame)."
   ]
  },
  {
   "cell_type": "markdown",
   "metadata": {
    "id": "zvzcBQMu9eLs"
   },
   "source": [
    "- recency - давность (время между первой покупкой и самой последней)\n",
    "- frequency - частота (количество повторных покупок, сделанных покупателем)\n",
    "- monetary_value - денежный эквивалент (среднее всех покупок пользователя)"
   ]
  },
  {
   "cell_type": "code",
   "execution_count": null,
   "metadata": {
    "colab": {
     "base_uri": "https://localhost:8080/",
     "height": 455
    },
    "id": "2HI9YeYok8Ql",
    "outputId": "43459179-b9dd-4299-dcc1-c45cfafef77b"
   },
   "outputs": [
    {
     "data": {
      "text/html": [
       "\n",
       "  <div id=\"df-40c0e3f9-e4ef-486d-8bed-5642f4ac65a2\">\n",
       "    <div class=\"colab-df-container\">\n",
       "      <div>\n",
       "<style scoped>\n",
       "    .dataframe tbody tr th:only-of-type {\n",
       "        vertical-align: middle;\n",
       "    }\n",
       "\n",
       "    .dataframe tbody tr th {\n",
       "        vertical-align: top;\n",
       "    }\n",
       "\n",
       "    .dataframe thead th {\n",
       "        text-align: right;\n",
       "    }\n",
       "</style>\n",
       "<table border=\"1\" class=\"dataframe\">\n",
       "  <thead>\n",
       "    <tr style=\"text-align: right;\">\n",
       "      <th></th>\n",
       "      <th>frequency</th>\n",
       "      <th>recency</th>\n",
       "      <th>T</th>\n",
       "      <th>monetary_value</th>\n",
       "    </tr>\n",
       "    <tr>\n",
       "      <th>customer_unique_id</th>\n",
       "      <th></th>\n",
       "      <th></th>\n",
       "      <th></th>\n",
       "      <th></th>\n",
       "    </tr>\n",
       "  </thead>\n",
       "  <tbody>\n",
       "    <tr>\n",
       "      <th>0000366f3b9a7992bf8c76cfdf3221e2</th>\n",
       "      <td>0.0</td>\n",
       "      <td>0.0</td>\n",
       "      <td>116.0</td>\n",
       "      <td>0.0</td>\n",
       "    </tr>\n",
       "    <tr>\n",
       "      <th>0000b849f77a49e4a4ce2b2a4ca5be3f</th>\n",
       "      <td>0.0</td>\n",
       "      <td>0.0</td>\n",
       "      <td>119.0</td>\n",
       "      <td>0.0</td>\n",
       "    </tr>\n",
       "    <tr>\n",
       "      <th>0000f46a3911fa3c0805444483337064</th>\n",
       "      <td>0.0</td>\n",
       "      <td>0.0</td>\n",
       "      <td>542.0</td>\n",
       "      <td>0.0</td>\n",
       "    </tr>\n",
       "    <tr>\n",
       "      <th>0000f6ccb0745a6a4b88665a16c9f078</th>\n",
       "      <td>0.0</td>\n",
       "      <td>0.0</td>\n",
       "      <td>326.0</td>\n",
       "      <td>0.0</td>\n",
       "    </tr>\n",
       "    <tr>\n",
       "      <th>0004aac84e0df4da2b147fca70cf8255</th>\n",
       "      <td>0.0</td>\n",
       "      <td>0.0</td>\n",
       "      <td>293.0</td>\n",
       "      <td>0.0</td>\n",
       "    </tr>\n",
       "    <tr>\n",
       "      <th>...</th>\n",
       "      <td>...</td>\n",
       "      <td>...</td>\n",
       "      <td>...</td>\n",
       "      <td>...</td>\n",
       "    </tr>\n",
       "    <tr>\n",
       "      <th>fffcf5a5ff07b0908bd4e2dbc735a684</th>\n",
       "      <td>0.0</td>\n",
       "      <td>0.0</td>\n",
       "      <td>452.0</td>\n",
       "      <td>0.0</td>\n",
       "    </tr>\n",
       "    <tr>\n",
       "      <th>fffea47cd6d3cc0a88bd621562a9d061</th>\n",
       "      <td>0.0</td>\n",
       "      <td>0.0</td>\n",
       "      <td>267.0</td>\n",
       "      <td>0.0</td>\n",
       "    </tr>\n",
       "    <tr>\n",
       "      <th>ffff371b4d645b6ecea244b27531430a</th>\n",
       "      <td>0.0</td>\n",
       "      <td>0.0</td>\n",
       "      <td>573.0</td>\n",
       "      <td>0.0</td>\n",
       "    </tr>\n",
       "    <tr>\n",
       "      <th>ffff5962728ec6157033ef9805bacc48</th>\n",
       "      <td>0.0</td>\n",
       "      <td>0.0</td>\n",
       "      <td>124.0</td>\n",
       "      <td>0.0</td>\n",
       "    </tr>\n",
       "    <tr>\n",
       "      <th>ffffd2657e2aad2907e67c3e9daecbeb</th>\n",
       "      <td>0.0</td>\n",
       "      <td>0.0</td>\n",
       "      <td>489.0</td>\n",
       "      <td>0.0</td>\n",
       "    </tr>\n",
       "  </tbody>\n",
       "</table>\n",
       "<p>95420 rows × 4 columns</p>\n",
       "</div>\n",
       "      <button class=\"colab-df-convert\" onclick=\"convertToInteractive('df-40c0e3f9-e4ef-486d-8bed-5642f4ac65a2')\"\n",
       "              title=\"Convert this dataframe to an interactive table.\"\n",
       "              style=\"display:none;\">\n",
       "        \n",
       "  <svg xmlns=\"http://www.w3.org/2000/svg\" height=\"24px\"viewBox=\"0 0 24 24\"\n",
       "       width=\"24px\">\n",
       "    <path d=\"M0 0h24v24H0V0z\" fill=\"none\"/>\n",
       "    <path d=\"M18.56 5.44l.94 2.06.94-2.06 2.06-.94-2.06-.94-.94-2.06-.94 2.06-2.06.94zm-11 1L8.5 8.5l.94-2.06 2.06-.94-2.06-.94L8.5 2.5l-.94 2.06-2.06.94zm10 10l.94 2.06.94-2.06 2.06-.94-2.06-.94-.94-2.06-.94 2.06-2.06.94z\"/><path d=\"M17.41 7.96l-1.37-1.37c-.4-.4-.92-.59-1.43-.59-.52 0-1.04.2-1.43.59L10.3 9.45l-7.72 7.72c-.78.78-.78 2.05 0 2.83L4 21.41c.39.39.9.59 1.41.59.51 0 1.02-.2 1.41-.59l7.78-7.78 2.81-2.81c.8-.78.8-2.07 0-2.86zM5.41 20L4 18.59l7.72-7.72 1.47 1.35L5.41 20z\"/>\n",
       "  </svg>\n",
       "      </button>\n",
       "      \n",
       "  <style>\n",
       "    .colab-df-container {\n",
       "      display:flex;\n",
       "      flex-wrap:wrap;\n",
       "      gap: 12px;\n",
       "    }\n",
       "\n",
       "    .colab-df-convert {\n",
       "      background-color: #E8F0FE;\n",
       "      border: none;\n",
       "      border-radius: 50%;\n",
       "      cursor: pointer;\n",
       "      display: none;\n",
       "      fill: #1967D2;\n",
       "      height: 32px;\n",
       "      padding: 0 0 0 0;\n",
       "      width: 32px;\n",
       "    }\n",
       "\n",
       "    .colab-df-convert:hover {\n",
       "      background-color: #E2EBFA;\n",
       "      box-shadow: 0px 1px 2px rgba(60, 64, 67, 0.3), 0px 1px 3px 1px rgba(60, 64, 67, 0.15);\n",
       "      fill: #174EA6;\n",
       "    }\n",
       "\n",
       "    [theme=dark] .colab-df-convert {\n",
       "      background-color: #3B4455;\n",
       "      fill: #D2E3FC;\n",
       "    }\n",
       "\n",
       "    [theme=dark] .colab-df-convert:hover {\n",
       "      background-color: #434B5C;\n",
       "      box-shadow: 0px 1px 3px 1px rgba(0, 0, 0, 0.15);\n",
       "      filter: drop-shadow(0px 1px 2px rgba(0, 0, 0, 0.3));\n",
       "      fill: #FFFFFF;\n",
       "    }\n",
       "  </style>\n",
       "\n",
       "      <script>\n",
       "        const buttonEl =\n",
       "          document.querySelector('#df-40c0e3f9-e4ef-486d-8bed-5642f4ac65a2 button.colab-df-convert');\n",
       "        buttonEl.style.display =\n",
       "          google.colab.kernel.accessAllowed ? 'block' : 'none';\n",
       "\n",
       "        async function convertToInteractive(key) {\n",
       "          const element = document.querySelector('#df-40c0e3f9-e4ef-486d-8bed-5642f4ac65a2');\n",
       "          const dataTable =\n",
       "            await google.colab.kernel.invokeFunction('convertToInteractive',\n",
       "                                                     [key], {});\n",
       "          if (!dataTable) return;\n",
       "\n",
       "          const docLinkHtml = 'Like what you see? Visit the ' +\n",
       "            '<a target=\"_blank\" href=https://colab.research.google.com/notebooks/data_table.ipynb>data table notebook</a>'\n",
       "            + ' to learn more about interactive tables.';\n",
       "          element.innerHTML = '';\n",
       "          dataTable['output_type'] = 'display_data';\n",
       "          await google.colab.output.renderOutput(dataTable, element);\n",
       "          const docLink = document.createElement('div');\n",
       "          docLink.innerHTML = docLinkHtml;\n",
       "          element.appendChild(docLink);\n",
       "        }\n",
       "      </script>\n",
       "    </div>\n",
       "  </div>\n",
       "  "
      ],
      "text/plain": [
       "                                  frequency  recency      T  monetary_value\n",
       "customer_unique_id                                                         \n",
       "0000366f3b9a7992bf8c76cfdf3221e2        0.0      0.0  116.0             0.0\n",
       "0000b849f77a49e4a4ce2b2a4ca5be3f        0.0      0.0  119.0             0.0\n",
       "0000f46a3911fa3c0805444483337064        0.0      0.0  542.0             0.0\n",
       "0000f6ccb0745a6a4b88665a16c9f078        0.0      0.0  326.0             0.0\n",
       "0004aac84e0df4da2b147fca70cf8255        0.0      0.0  293.0             0.0\n",
       "...                                     ...      ...    ...             ...\n",
       "fffcf5a5ff07b0908bd4e2dbc735a684        0.0      0.0  452.0             0.0\n",
       "fffea47cd6d3cc0a88bd621562a9d061        0.0      0.0  267.0             0.0\n",
       "ffff371b4d645b6ecea244b27531430a        0.0      0.0  573.0             0.0\n",
       "ffff5962728ec6157033ef9805bacc48        0.0      0.0  124.0             0.0\n",
       "ffffd2657e2aad2907e67c3e9daecbeb        0.0      0.0  489.0             0.0\n",
       "\n",
       "[95420 rows x 4 columns]"
      ]
     },
     "execution_count": 58,
     "metadata": {},
     "output_type": "execute_result"
    }
   ],
   "source": [
    "summary = summary_data_from_transaction_data(\n",
    "    transaction_data, 'customer_unique_id', 'date',\n",
    "    monetary_value_col='price',\n",
    "    # include_first_transaction=True\n",
    ")\n",
    "summary"
   ]
  },
  {
   "cell_type": "code",
   "execution_count": null,
   "metadata": {
    "colab": {
     "base_uri": "https://localhost:8080/",
     "height": 300
    },
    "id": "tSMq7K_fbIej",
    "outputId": "da817000-1268-4a17-ddf8-8cafff39c94d"
   },
   "outputs": [
    {
     "data": {
      "text/html": [
       "\n",
       "  <div id=\"df-0ffa5828-ff6e-425e-a8f7-6556606eb3f0\">\n",
       "    <div class=\"colab-df-container\">\n",
       "      <div>\n",
       "<style scoped>\n",
       "    .dataframe tbody tr th:only-of-type {\n",
       "        vertical-align: middle;\n",
       "    }\n",
       "\n",
       "    .dataframe tbody tr th {\n",
       "        vertical-align: top;\n",
       "    }\n",
       "\n",
       "    .dataframe thead th {\n",
       "        text-align: right;\n",
       "    }\n",
       "</style>\n",
       "<table border=\"1\" class=\"dataframe\">\n",
       "  <thead>\n",
       "    <tr style=\"text-align: right;\">\n",
       "      <th></th>\n",
       "      <th>frequency</th>\n",
       "      <th>recency</th>\n",
       "      <th>T</th>\n",
       "      <th>monetary_value</th>\n",
       "    </tr>\n",
       "  </thead>\n",
       "  <tbody>\n",
       "    <tr>\n",
       "      <th>count</th>\n",
       "      <td>95420.000000</td>\n",
       "      <td>95420.000000</td>\n",
       "      <td>95420.000000</td>\n",
       "      <td>95420.000000</td>\n",
       "    </tr>\n",
       "    <tr>\n",
       "      <th>mean</th>\n",
       "      <td>0.024198</td>\n",
       "      <td>2.683389</td>\n",
       "      <td>246.184846</td>\n",
       "      <td>2.474897</td>\n",
       "    </tr>\n",
       "    <tr>\n",
       "      <th>std</th>\n",
       "      <td>0.178936</td>\n",
       "      <td>25.263074</td>\n",
       "      <td>153.656402</td>\n",
       "      <td>26.579606</td>\n",
       "    </tr>\n",
       "    <tr>\n",
       "      <th>min</th>\n",
       "      <td>0.000000</td>\n",
       "      <td>0.000000</td>\n",
       "      <td>5.000000</td>\n",
       "      <td>0.000000</td>\n",
       "    </tr>\n",
       "    <tr>\n",
       "      <th>25%</th>\n",
       "      <td>0.000000</td>\n",
       "      <td>0.000000</td>\n",
       "      <td>122.000000</td>\n",
       "      <td>0.000000</td>\n",
       "    </tr>\n",
       "    <tr>\n",
       "      <th>50%</th>\n",
       "      <td>0.000000</td>\n",
       "      <td>0.000000</td>\n",
       "      <td>227.000000</td>\n",
       "      <td>0.000000</td>\n",
       "    </tr>\n",
       "    <tr>\n",
       "      <th>75%</th>\n",
       "      <td>0.000000</td>\n",
       "      <td>0.000000</td>\n",
       "      <td>356.000000</td>\n",
       "      <td>0.000000</td>\n",
       "    </tr>\n",
       "    <tr>\n",
       "      <th>max</th>\n",
       "      <td>15.000000</td>\n",
       "      <td>633.000000</td>\n",
       "      <td>729.000000</td>\n",
       "      <td>1999.990000</td>\n",
       "    </tr>\n",
       "  </tbody>\n",
       "</table>\n",
       "</div>\n",
       "      <button class=\"colab-df-convert\" onclick=\"convertToInteractive('df-0ffa5828-ff6e-425e-a8f7-6556606eb3f0')\"\n",
       "              title=\"Convert this dataframe to an interactive table.\"\n",
       "              style=\"display:none;\">\n",
       "        \n",
       "  <svg xmlns=\"http://www.w3.org/2000/svg\" height=\"24px\"viewBox=\"0 0 24 24\"\n",
       "       width=\"24px\">\n",
       "    <path d=\"M0 0h24v24H0V0z\" fill=\"none\"/>\n",
       "    <path d=\"M18.56 5.44l.94 2.06.94-2.06 2.06-.94-2.06-.94-.94-2.06-.94 2.06-2.06.94zm-11 1L8.5 8.5l.94-2.06 2.06-.94-2.06-.94L8.5 2.5l-.94 2.06-2.06.94zm10 10l.94 2.06.94-2.06 2.06-.94-2.06-.94-.94-2.06-.94 2.06-2.06.94z\"/><path d=\"M17.41 7.96l-1.37-1.37c-.4-.4-.92-.59-1.43-.59-.52 0-1.04.2-1.43.59L10.3 9.45l-7.72 7.72c-.78.78-.78 2.05 0 2.83L4 21.41c.39.39.9.59 1.41.59.51 0 1.02-.2 1.41-.59l7.78-7.78 2.81-2.81c.8-.78.8-2.07 0-2.86zM5.41 20L4 18.59l7.72-7.72 1.47 1.35L5.41 20z\"/>\n",
       "  </svg>\n",
       "      </button>\n",
       "      \n",
       "  <style>\n",
       "    .colab-df-container {\n",
       "      display:flex;\n",
       "      flex-wrap:wrap;\n",
       "      gap: 12px;\n",
       "    }\n",
       "\n",
       "    .colab-df-convert {\n",
       "      background-color: #E8F0FE;\n",
       "      border: none;\n",
       "      border-radius: 50%;\n",
       "      cursor: pointer;\n",
       "      display: none;\n",
       "      fill: #1967D2;\n",
       "      height: 32px;\n",
       "      padding: 0 0 0 0;\n",
       "      width: 32px;\n",
       "    }\n",
       "\n",
       "    .colab-df-convert:hover {\n",
       "      background-color: #E2EBFA;\n",
       "      box-shadow: 0px 1px 2px rgba(60, 64, 67, 0.3), 0px 1px 3px 1px rgba(60, 64, 67, 0.15);\n",
       "      fill: #174EA6;\n",
       "    }\n",
       "\n",
       "    [theme=dark] .colab-df-convert {\n",
       "      background-color: #3B4455;\n",
       "      fill: #D2E3FC;\n",
       "    }\n",
       "\n",
       "    [theme=dark] .colab-df-convert:hover {\n",
       "      background-color: #434B5C;\n",
       "      box-shadow: 0px 1px 3px 1px rgba(0, 0, 0, 0.15);\n",
       "      filter: drop-shadow(0px 1px 2px rgba(0, 0, 0, 0.3));\n",
       "      fill: #FFFFFF;\n",
       "    }\n",
       "  </style>\n",
       "\n",
       "      <script>\n",
       "        const buttonEl =\n",
       "          document.querySelector('#df-0ffa5828-ff6e-425e-a8f7-6556606eb3f0 button.colab-df-convert');\n",
       "        buttonEl.style.display =\n",
       "          google.colab.kernel.accessAllowed ? 'block' : 'none';\n",
       "\n",
       "        async function convertToInteractive(key) {\n",
       "          const element = document.querySelector('#df-0ffa5828-ff6e-425e-a8f7-6556606eb3f0');\n",
       "          const dataTable =\n",
       "            await google.colab.kernel.invokeFunction('convertToInteractive',\n",
       "                                                     [key], {});\n",
       "          if (!dataTable) return;\n",
       "\n",
       "          const docLinkHtml = 'Like what you see? Visit the ' +\n",
       "            '<a target=\"_blank\" href=https://colab.research.google.com/notebooks/data_table.ipynb>data table notebook</a>'\n",
       "            + ' to learn more about interactive tables.';\n",
       "          element.innerHTML = '';\n",
       "          dataTable['output_type'] = 'display_data';\n",
       "          await google.colab.output.renderOutput(dataTable, element);\n",
       "          const docLink = document.createElement('div');\n",
       "          docLink.innerHTML = docLinkHtml;\n",
       "          element.appendChild(docLink);\n",
       "        }\n",
       "      </script>\n",
       "    </div>\n",
       "  </div>\n",
       "  "
      ],
      "text/plain": [
       "          frequency       recency             T  monetary_value\n",
       "count  95420.000000  95420.000000  95420.000000    95420.000000\n",
       "mean       0.024198      2.683389    246.184846        2.474897\n",
       "std        0.178936     25.263074    153.656402       26.579606\n",
       "min        0.000000      0.000000      5.000000        0.000000\n",
       "25%        0.000000      0.000000    122.000000        0.000000\n",
       "50%        0.000000      0.000000    227.000000        0.000000\n",
       "75%        0.000000      0.000000    356.000000        0.000000\n",
       "max       15.000000    633.000000    729.000000     1999.990000"
      ]
     },
     "execution_count": 59,
     "metadata": {},
     "output_type": "execute_result"
    }
   ],
   "source": [
    "summary.describe()"
   ]
  },
  {
   "cell_type": "code",
   "execution_count": null,
   "metadata": {
    "colab": {
     "base_uri": "https://localhost:8080/",
     "height": 255
    },
    "id": "RFZknwQwk99i",
    "outputId": "03dc47e3-016d-4ba8-ab78-e22f38aa181d"
   },
   "outputs": [
    {
     "name": "stdout",
     "output_type": "stream",
     "text": [
      "(95420, 4)\n"
     ]
    },
    {
     "data": {
      "text/html": [
       "\n",
       "  <div id=\"df-7d7c2d64-cd63-473c-9d9b-24d391887d3c\">\n",
       "    <div class=\"colab-df-container\">\n",
       "      <div>\n",
       "<style scoped>\n",
       "    .dataframe tbody tr th:only-of-type {\n",
       "        vertical-align: middle;\n",
       "    }\n",
       "\n",
       "    .dataframe tbody tr th {\n",
       "        vertical-align: top;\n",
       "    }\n",
       "\n",
       "    .dataframe thead th {\n",
       "        text-align: right;\n",
       "    }\n",
       "</style>\n",
       "<table border=\"1\" class=\"dataframe\">\n",
       "  <thead>\n",
       "    <tr style=\"text-align: right;\">\n",
       "      <th></th>\n",
       "      <th>frequency</th>\n",
       "      <th>recency</th>\n",
       "      <th>T</th>\n",
       "      <th>monetary_value</th>\n",
       "    </tr>\n",
       "    <tr>\n",
       "      <th>customer_unique_id</th>\n",
       "      <th></th>\n",
       "      <th></th>\n",
       "      <th></th>\n",
       "      <th></th>\n",
       "    </tr>\n",
       "  </thead>\n",
       "  <tbody>\n",
       "    <tr>\n",
       "      <th>0000366f3b9a7992bf8c76cfdf3221e2</th>\n",
       "      <td>0.0</td>\n",
       "      <td>0.0</td>\n",
       "      <td>116.0</td>\n",
       "      <td>0.0</td>\n",
       "    </tr>\n",
       "    <tr>\n",
       "      <th>0000b849f77a49e4a4ce2b2a4ca5be3f</th>\n",
       "      <td>0.0</td>\n",
       "      <td>0.0</td>\n",
       "      <td>119.0</td>\n",
       "      <td>0.0</td>\n",
       "    </tr>\n",
       "    <tr>\n",
       "      <th>0000f46a3911fa3c0805444483337064</th>\n",
       "      <td>0.0</td>\n",
       "      <td>0.0</td>\n",
       "      <td>542.0</td>\n",
       "      <td>0.0</td>\n",
       "    </tr>\n",
       "    <tr>\n",
       "      <th>0000f6ccb0745a6a4b88665a16c9f078</th>\n",
       "      <td>0.0</td>\n",
       "      <td>0.0</td>\n",
       "      <td>326.0</td>\n",
       "      <td>0.0</td>\n",
       "    </tr>\n",
       "    <tr>\n",
       "      <th>0004aac84e0df4da2b147fca70cf8255</th>\n",
       "      <td>0.0</td>\n",
       "      <td>0.0</td>\n",
       "      <td>293.0</td>\n",
       "      <td>0.0</td>\n",
       "    </tr>\n",
       "  </tbody>\n",
       "</table>\n",
       "</div>\n",
       "      <button class=\"colab-df-convert\" onclick=\"convertToInteractive('df-7d7c2d64-cd63-473c-9d9b-24d391887d3c')\"\n",
       "              title=\"Convert this dataframe to an interactive table.\"\n",
       "              style=\"display:none;\">\n",
       "        \n",
       "  <svg xmlns=\"http://www.w3.org/2000/svg\" height=\"24px\"viewBox=\"0 0 24 24\"\n",
       "       width=\"24px\">\n",
       "    <path d=\"M0 0h24v24H0V0z\" fill=\"none\"/>\n",
       "    <path d=\"M18.56 5.44l.94 2.06.94-2.06 2.06-.94-2.06-.94-.94-2.06-.94 2.06-2.06.94zm-11 1L8.5 8.5l.94-2.06 2.06-.94-2.06-.94L8.5 2.5l-.94 2.06-2.06.94zm10 10l.94 2.06.94-2.06 2.06-.94-2.06-.94-.94-2.06-.94 2.06-2.06.94z\"/><path d=\"M17.41 7.96l-1.37-1.37c-.4-.4-.92-.59-1.43-.59-.52 0-1.04.2-1.43.59L10.3 9.45l-7.72 7.72c-.78.78-.78 2.05 0 2.83L4 21.41c.39.39.9.59 1.41.59.51 0 1.02-.2 1.41-.59l7.78-7.78 2.81-2.81c.8-.78.8-2.07 0-2.86zM5.41 20L4 18.59l7.72-7.72 1.47 1.35L5.41 20z\"/>\n",
       "  </svg>\n",
       "      </button>\n",
       "      \n",
       "  <style>\n",
       "    .colab-df-container {\n",
       "      display:flex;\n",
       "      flex-wrap:wrap;\n",
       "      gap: 12px;\n",
       "    }\n",
       "\n",
       "    .colab-df-convert {\n",
       "      background-color: #E8F0FE;\n",
       "      border: none;\n",
       "      border-radius: 50%;\n",
       "      cursor: pointer;\n",
       "      display: none;\n",
       "      fill: #1967D2;\n",
       "      height: 32px;\n",
       "      padding: 0 0 0 0;\n",
       "      width: 32px;\n",
       "    }\n",
       "\n",
       "    .colab-df-convert:hover {\n",
       "      background-color: #E2EBFA;\n",
       "      box-shadow: 0px 1px 2px rgba(60, 64, 67, 0.3), 0px 1px 3px 1px rgba(60, 64, 67, 0.15);\n",
       "      fill: #174EA6;\n",
       "    }\n",
       "\n",
       "    [theme=dark] .colab-df-convert {\n",
       "      background-color: #3B4455;\n",
       "      fill: #D2E3FC;\n",
       "    }\n",
       "\n",
       "    [theme=dark] .colab-df-convert:hover {\n",
       "      background-color: #434B5C;\n",
       "      box-shadow: 0px 1px 3px 1px rgba(0, 0, 0, 0.15);\n",
       "      filter: drop-shadow(0px 1px 2px rgba(0, 0, 0, 0.3));\n",
       "      fill: #FFFFFF;\n",
       "    }\n",
       "  </style>\n",
       "\n",
       "      <script>\n",
       "        const buttonEl =\n",
       "          document.querySelector('#df-7d7c2d64-cd63-473c-9d9b-24d391887d3c button.colab-df-convert');\n",
       "        buttonEl.style.display =\n",
       "          google.colab.kernel.accessAllowed ? 'block' : 'none';\n",
       "\n",
       "        async function convertToInteractive(key) {\n",
       "          const element = document.querySelector('#df-7d7c2d64-cd63-473c-9d9b-24d391887d3c');\n",
       "          const dataTable =\n",
       "            await google.colab.kernel.invokeFunction('convertToInteractive',\n",
       "                                                     [key], {});\n",
       "          if (!dataTable) return;\n",
       "\n",
       "          const docLinkHtml = 'Like what you see? Visit the ' +\n",
       "            '<a target=\"_blank\" href=https://colab.research.google.com/notebooks/data_table.ipynb>data table notebook</a>'\n",
       "            + ' to learn more about interactive tables.';\n",
       "          element.innerHTML = '';\n",
       "          dataTable['output_type'] = 'display_data';\n",
       "          await google.colab.output.renderOutput(dataTable, element);\n",
       "          const docLink = document.createElement('div');\n",
       "          docLink.innerHTML = docLinkHtml;\n",
       "          element.appendChild(docLink);\n",
       "        }\n",
       "      </script>\n",
       "    </div>\n",
       "  </div>\n",
       "  "
      ],
      "text/plain": [
       "                                  frequency  recency      T  monetary_value\n",
       "customer_unique_id                                                         \n",
       "0000366f3b9a7992bf8c76cfdf3221e2        0.0      0.0  116.0             0.0\n",
       "0000b849f77a49e4a4ce2b2a4ca5be3f        0.0      0.0  119.0             0.0\n",
       "0000f46a3911fa3c0805444483337064        0.0      0.0  542.0             0.0\n",
       "0000f6ccb0745a6a4b88665a16c9f078        0.0      0.0  326.0             0.0\n",
       "0004aac84e0df4da2b147fca70cf8255        0.0      0.0  293.0             0.0"
      ]
     },
     "execution_count": 60,
     "metadata": {},
     "output_type": "execute_result"
    }
   ],
   "source": [
    "print(summary.shape)\n",
    "summary.head()"
   ]
  },
  {
   "cell_type": "markdown",
   "metadata": {
    "id": "vJhJHGflk_hm"
   },
   "source": [
    "\n",
    "\n",
    "Преобразовали транзакции клиентов в агрегированную таблицу. У многих клиентов частота, давность и денежная масса = 0, например, customer 0000366f3b9a7992bf8c76cfdf3221e2 ( Lifetimes учитывает только тех клиентов, которые совершили повторные покупки).\n",
    "\n",
    "Используя дни как периоды времени (также могут быть определены как недели или месяцы), переменные определяются следующим образом для модели Lifetimes:\n",
    "\n",
    "- frequency: количество повторных покупок, сделанных покупателем.\n",
    "- T: возраст клиента в днях.\n",
    "- recency: возраст покупателя в днях на момент последней покупки.\n",
    "- monetary_value: среднее значение покупок клиента, исключая 1-ю покупку.\n",
    "\n",
    "\n",
    "частота исключает первую покупку покупателя, потому что это считается днем ​​рождения покупателя. После этого вы можете начать сомневаться, жив ли этот покупатель.\n"
   ]
  },
  {
   "cell_type": "code",
   "execution_count": null,
   "metadata": {
    "colab": {
     "base_uri": "https://localhost:8080/",
     "height": 238
    },
    "id": "bKhiYmEnlFa3",
    "outputId": "ec33ee30-f8a5-4566-e4c4-b9c7d7f69f45"
   },
   "outputs": [
    {
     "data": {
      "text/html": [
       "\n",
       "  <div id=\"df-86ff7019-f46a-4a66-9fee-a7787725fcb7\">\n",
       "    <div class=\"colab-df-container\">\n",
       "      <div>\n",
       "<style scoped>\n",
       "    .dataframe tbody tr th:only-of-type {\n",
       "        vertical-align: middle;\n",
       "    }\n",
       "\n",
       "    .dataframe tbody tr th {\n",
       "        vertical-align: top;\n",
       "    }\n",
       "\n",
       "    .dataframe thead th {\n",
       "        text-align: right;\n",
       "    }\n",
       "</style>\n",
       "<table border=\"1\" class=\"dataframe\">\n",
       "  <thead>\n",
       "    <tr style=\"text-align: right;\">\n",
       "      <th></th>\n",
       "      <th>frequency</th>\n",
       "      <th>recency</th>\n",
       "      <th>T</th>\n",
       "      <th>monetary_value</th>\n",
       "    </tr>\n",
       "    <tr>\n",
       "      <th>customer_unique_id</th>\n",
       "      <th></th>\n",
       "      <th></th>\n",
       "      <th></th>\n",
       "      <th></th>\n",
       "    </tr>\n",
       "  </thead>\n",
       "  <tbody>\n",
       "    <tr>\n",
       "      <th>083ca1aa470c280236380973a48f77c6</th>\n",
       "      <td>3.0</td>\n",
       "      <td>381.0</td>\n",
       "      <td>402.0</td>\n",
       "      <td>66.326667</td>\n",
       "    </tr>\n",
       "    <tr>\n",
       "      <th>12d8b5ed661190a3a08183644dfc504d</th>\n",
       "      <td>3.0</td>\n",
       "      <td>402.0</td>\n",
       "      <td>526.0</td>\n",
       "      <td>146.566667</td>\n",
       "    </tr>\n",
       "    <tr>\n",
       "      <th>1b6c7548a2a1f9037c1fd3ddfed95f33</th>\n",
       "      <td>6.0</td>\n",
       "      <td>93.0</td>\n",
       "      <td>294.0</td>\n",
       "      <td>97.831667</td>\n",
       "    </tr>\n",
       "    <tr>\n",
       "      <th>2ddc001b620bd90d0f4378cfde1db887</th>\n",
       "      <td>3.0</td>\n",
       "      <td>186.0</td>\n",
       "      <td>338.0</td>\n",
       "      <td>117.116667</td>\n",
       "    </tr>\n",
       "    <tr>\n",
       "      <th>35ecdf6858edc6427223b64804cf028e</th>\n",
       "      <td>3.0</td>\n",
       "      <td>238.0</td>\n",
       "      <td>394.0</td>\n",
       "      <td>81.630000</td>\n",
       "    </tr>\n",
       "  </tbody>\n",
       "</table>\n",
       "</div>\n",
       "      <button class=\"colab-df-convert\" onclick=\"convertToInteractive('df-86ff7019-f46a-4a66-9fee-a7787725fcb7')\"\n",
       "              title=\"Convert this dataframe to an interactive table.\"\n",
       "              style=\"display:none;\">\n",
       "        \n",
       "  <svg xmlns=\"http://www.w3.org/2000/svg\" height=\"24px\"viewBox=\"0 0 24 24\"\n",
       "       width=\"24px\">\n",
       "    <path d=\"M0 0h24v24H0V0z\" fill=\"none\"/>\n",
       "    <path d=\"M18.56 5.44l.94 2.06.94-2.06 2.06-.94-2.06-.94-.94-2.06-.94 2.06-2.06.94zm-11 1L8.5 8.5l.94-2.06 2.06-.94-2.06-.94L8.5 2.5l-.94 2.06-2.06.94zm10 10l.94 2.06.94-2.06 2.06-.94-2.06-.94-.94-2.06-.94 2.06-2.06.94z\"/><path d=\"M17.41 7.96l-1.37-1.37c-.4-.4-.92-.59-1.43-.59-.52 0-1.04.2-1.43.59L10.3 9.45l-7.72 7.72c-.78.78-.78 2.05 0 2.83L4 21.41c.39.39.9.59 1.41.59.51 0 1.02-.2 1.41-.59l7.78-7.78 2.81-2.81c.8-.78.8-2.07 0-2.86zM5.41 20L4 18.59l7.72-7.72 1.47 1.35L5.41 20z\"/>\n",
       "  </svg>\n",
       "      </button>\n",
       "      \n",
       "  <style>\n",
       "    .colab-df-container {\n",
       "      display:flex;\n",
       "      flex-wrap:wrap;\n",
       "      gap: 12px;\n",
       "    }\n",
       "\n",
       "    .colab-df-convert {\n",
       "      background-color: #E8F0FE;\n",
       "      border: none;\n",
       "      border-radius: 50%;\n",
       "      cursor: pointer;\n",
       "      display: none;\n",
       "      fill: #1967D2;\n",
       "      height: 32px;\n",
       "      padding: 0 0 0 0;\n",
       "      width: 32px;\n",
       "    }\n",
       "\n",
       "    .colab-df-convert:hover {\n",
       "      background-color: #E2EBFA;\n",
       "      box-shadow: 0px 1px 2px rgba(60, 64, 67, 0.3), 0px 1px 3px 1px rgba(60, 64, 67, 0.15);\n",
       "      fill: #174EA6;\n",
       "    }\n",
       "\n",
       "    [theme=dark] .colab-df-convert {\n",
       "      background-color: #3B4455;\n",
       "      fill: #D2E3FC;\n",
       "    }\n",
       "\n",
       "    [theme=dark] .colab-df-convert:hover {\n",
       "      background-color: #434B5C;\n",
       "      box-shadow: 0px 1px 3px 1px rgba(0, 0, 0, 0.15);\n",
       "      filter: drop-shadow(0px 1px 2px rgba(0, 0, 0, 0.3));\n",
       "      fill: #FFFFFF;\n",
       "    }\n",
       "  </style>\n",
       "\n",
       "      <script>\n",
       "        const buttonEl =\n",
       "          document.querySelector('#df-86ff7019-f46a-4a66-9fee-a7787725fcb7 button.colab-df-convert');\n",
       "        buttonEl.style.display =\n",
       "          google.colab.kernel.accessAllowed ? 'block' : 'none';\n",
       "\n",
       "        async function convertToInteractive(key) {\n",
       "          const element = document.querySelector('#df-86ff7019-f46a-4a66-9fee-a7787725fcb7');\n",
       "          const dataTable =\n",
       "            await google.colab.kernel.invokeFunction('convertToInteractive',\n",
       "                                                     [key], {});\n",
       "          if (!dataTable) return;\n",
       "\n",
       "          const docLinkHtml = 'Like what you see? Visit the ' +\n",
       "            '<a target=\"_blank\" href=https://colab.research.google.com/notebooks/data_table.ipynb>data table notebook</a>'\n",
       "            + ' to learn more about interactive tables.';\n",
       "          element.innerHTML = '';\n",
       "          dataTable['output_type'] = 'display_data';\n",
       "          await google.colab.output.renderOutput(dataTable, element);\n",
       "          const docLink = document.createElement('div');\n",
       "          docLink.innerHTML = docLinkHtml;\n",
       "          element.appendChild(docLink);\n",
       "        }\n",
       "      </script>\n",
       "    </div>\n",
       "  </div>\n",
       "  "
      ],
      "text/plain": [
       "                                  frequency  recency      T  monetary_value\n",
       "customer_unique_id                                                         \n",
       "083ca1aa470c280236380973a48f77c6        3.0    381.0  402.0       66.326667\n",
       "12d8b5ed661190a3a08183644dfc504d        3.0    402.0  526.0      146.566667\n",
       "1b6c7548a2a1f9037c1fd3ddfed95f33        6.0     93.0  294.0       97.831667\n",
       "2ddc001b620bd90d0f4378cfde1db887        3.0    186.0  338.0      117.116667\n",
       "35ecdf6858edc6427223b64804cf028e        3.0    238.0  394.0       81.630000"
      ]
     },
     "execution_count": 79,
     "metadata": {},
     "output_type": "execute_result"
    }
   ],
   "source": [
    "summary[summary['frequency'] > 2].head()"
   ]
  },
  {
   "cell_type": "code",
   "execution_count": null,
   "metadata": {
    "colab": {
     "base_uri": "https://localhost:8080/",
     "height": 175
    },
    "id": "Ai1QArcJlFPX",
    "outputId": "60f737b8-6c36-4918-f71a-ba17dd1ed3c9"
   },
   "outputs": [
    {
     "data": {
      "text/html": [
       "\n",
       "  <div id=\"df-216f7952-4814-4193-9233-500bca447ca6\">\n",
       "    <div class=\"colab-df-container\">\n",
       "      <div>\n",
       "<style scoped>\n",
       "    .dataframe tbody tr th:only-of-type {\n",
       "        vertical-align: middle;\n",
       "    }\n",
       "\n",
       "    .dataframe tbody tr th {\n",
       "        vertical-align: top;\n",
       "    }\n",
       "\n",
       "    .dataframe thead th {\n",
       "        text-align: right;\n",
       "    }\n",
       "</style>\n",
       "<table border=\"1\" class=\"dataframe\">\n",
       "  <thead>\n",
       "    <tr style=\"text-align: right;\">\n",
       "      <th></th>\n",
       "      <th>customer_unique_id</th>\n",
       "      <th>price</th>\n",
       "      <th>date</th>\n",
       "    </tr>\n",
       "  </thead>\n",
       "  <tbody>\n",
       "    <tr>\n",
       "      <th>30398</th>\n",
       "      <td>083ca1aa470c280236380973a48f77c6</td>\n",
       "      <td>56.99</td>\n",
       "      <td>2017-08-05</td>\n",
       "    </tr>\n",
       "    <tr>\n",
       "      <th>32832</th>\n",
       "      <td>083ca1aa470c280236380973a48f77c6</td>\n",
       "      <td>19.90</td>\n",
       "      <td>2017-07-28</td>\n",
       "    </tr>\n",
       "    <tr>\n",
       "      <th>46124</th>\n",
       "      <td>083ca1aa470c280236380973a48f77c6</td>\n",
       "      <td>82.00</td>\n",
       "      <td>2018-08-13</td>\n",
       "    </tr>\n",
       "    <tr>\n",
       "      <th>81115</th>\n",
       "      <td>083ca1aa470c280236380973a48f77c6</td>\n",
       "      <td>59.99</td>\n",
       "      <td>2017-08-16</td>\n",
       "    </tr>\n",
       "  </tbody>\n",
       "</table>\n",
       "</div>\n",
       "      <button class=\"colab-df-convert\" onclick=\"convertToInteractive('df-216f7952-4814-4193-9233-500bca447ca6')\"\n",
       "              title=\"Convert this dataframe to an interactive table.\"\n",
       "              style=\"display:none;\">\n",
       "        \n",
       "  <svg xmlns=\"http://www.w3.org/2000/svg\" height=\"24px\"viewBox=\"0 0 24 24\"\n",
       "       width=\"24px\">\n",
       "    <path d=\"M0 0h24v24H0V0z\" fill=\"none\"/>\n",
       "    <path d=\"M18.56 5.44l.94 2.06.94-2.06 2.06-.94-2.06-.94-.94-2.06-.94 2.06-2.06.94zm-11 1L8.5 8.5l.94-2.06 2.06-.94-2.06-.94L8.5 2.5l-.94 2.06-2.06.94zm10 10l.94 2.06.94-2.06 2.06-.94-2.06-.94-.94-2.06-.94 2.06-2.06.94z\"/><path d=\"M17.41 7.96l-1.37-1.37c-.4-.4-.92-.59-1.43-.59-.52 0-1.04.2-1.43.59L10.3 9.45l-7.72 7.72c-.78.78-.78 2.05 0 2.83L4 21.41c.39.39.9.59 1.41.59.51 0 1.02-.2 1.41-.59l7.78-7.78 2.81-2.81c.8-.78.8-2.07 0-2.86zM5.41 20L4 18.59l7.72-7.72 1.47 1.35L5.41 20z\"/>\n",
       "  </svg>\n",
       "      </button>\n",
       "      \n",
       "  <style>\n",
       "    .colab-df-container {\n",
       "      display:flex;\n",
       "      flex-wrap:wrap;\n",
       "      gap: 12px;\n",
       "    }\n",
       "\n",
       "    .colab-df-convert {\n",
       "      background-color: #E8F0FE;\n",
       "      border: none;\n",
       "      border-radius: 50%;\n",
       "      cursor: pointer;\n",
       "      display: none;\n",
       "      fill: #1967D2;\n",
       "      height: 32px;\n",
       "      padding: 0 0 0 0;\n",
       "      width: 32px;\n",
       "    }\n",
       "\n",
       "    .colab-df-convert:hover {\n",
       "      background-color: #E2EBFA;\n",
       "      box-shadow: 0px 1px 2px rgba(60, 64, 67, 0.3), 0px 1px 3px 1px rgba(60, 64, 67, 0.15);\n",
       "      fill: #174EA6;\n",
       "    }\n",
       "\n",
       "    [theme=dark] .colab-df-convert {\n",
       "      background-color: #3B4455;\n",
       "      fill: #D2E3FC;\n",
       "    }\n",
       "\n",
       "    [theme=dark] .colab-df-convert:hover {\n",
       "      background-color: #434B5C;\n",
       "      box-shadow: 0px 1px 3px 1px rgba(0, 0, 0, 0.15);\n",
       "      filter: drop-shadow(0px 1px 2px rgba(0, 0, 0, 0.3));\n",
       "      fill: #FFFFFF;\n",
       "    }\n",
       "  </style>\n",
       "\n",
       "      <script>\n",
       "        const buttonEl =\n",
       "          document.querySelector('#df-216f7952-4814-4193-9233-500bca447ca6 button.colab-df-convert');\n",
       "        buttonEl.style.display =\n",
       "          google.colab.kernel.accessAllowed ? 'block' : 'none';\n",
       "\n",
       "        async function convertToInteractive(key) {\n",
       "          const element = document.querySelector('#df-216f7952-4814-4193-9233-500bca447ca6');\n",
       "          const dataTable =\n",
       "            await google.colab.kernel.invokeFunction('convertToInteractive',\n",
       "                                                     [key], {});\n",
       "          if (!dataTable) return;\n",
       "\n",
       "          const docLinkHtml = 'Like what you see? Visit the ' +\n",
       "            '<a target=\"_blank\" href=https://colab.research.google.com/notebooks/data_table.ipynb>data table notebook</a>'\n",
       "            + ' to learn more about interactive tables.';\n",
       "          element.innerHTML = '';\n",
       "          dataTable['output_type'] = 'display_data';\n",
       "          await google.colab.output.renderOutput(dataTable, element);\n",
       "          const docLink = document.createElement('div');\n",
       "          docLink.innerHTML = docLinkHtml;\n",
       "          element.appendChild(docLink);\n",
       "        }\n",
       "      </script>\n",
       "    </div>\n",
       "  </div>\n",
       "  "
      ],
      "text/plain": [
       "                     customer_unique_id  price        date\n",
       "30398  083ca1aa470c280236380973a48f77c6  56.99  2017-08-05\n",
       "32832  083ca1aa470c280236380973a48f77c6  19.90  2017-07-28\n",
       "46124  083ca1aa470c280236380973a48f77c6  82.00  2018-08-13\n",
       "81115  083ca1aa470c280236380973a48f77c6  59.99  2017-08-16"
      ]
     },
     "execution_count": 80,
     "metadata": {},
     "output_type": "execute_result"
    }
   ],
   "source": [
    "transaction_data[transaction_data['customer_unique_id'] == '083ca1aa470c280236380973a48f77c6']"
   ]
  },
  {
   "cell_type": "markdown",
   "metadata": {
    "id": "t5jBkDaGlFDh"
   },
   "source": [
    "клиент 004288347e5e88a27ded2bb23747066c сделал две покупки с Olist, но его частота равна 1, а значение monetary_value равно 87,90 долларов США в зависимости от того, как определены частота и monetary_value"
   ]
  },
  {
   "cell_type": "code",
   "execution_count": null,
   "metadata": {
    "colab": {
     "base_uri": "https://localhost:8080/"
    },
    "id": "1dIwVFfElEzg",
    "outputId": "852d2f4b-a815-4033-abeb-dbfdc82d4b81"
   },
   "outputs": [
    {
     "data": {
      "text/plain": [
       "0.0     93335\n",
       "1.0      1927\n",
       "2.0       126\n",
       "3.0        18\n",
       "4.0         6\n",
       "5.0         5\n",
       "6.0         2\n",
       "15.0        1\n",
       "Name: frequency, dtype: int64"
      ]
     },
     "execution_count": 63,
     "metadata": {},
     "output_type": "execute_result"
    }
   ],
   "source": [
    "summary['frequency'].value_counts()"
   ]
  },
  {
   "cell_type": "markdown",
   "metadata": {
    "id": "_NUFJsZWlD6q"
   },
   "source": [
    "\n",
    "\n",
    "Наблюдаемые частоты - экспоненциальное распределение\n"
   ]
  },
  {
   "cell_type": "code",
   "execution_count": null,
   "metadata": {
    "colab": {
     "base_uri": "https://localhost:8080/",
     "height": 270
    },
    "id": "NmdOc5d9lNtS",
    "outputId": "4ea08c95-a69c-489f-b4fd-64b5a25f51ad"
   },
   "outputs": [
    {
     "data": {
      "image/png": "[encoded data removed]",
      "text/plain": [
       "<Figure size 432x288 with 1 Axes>"
      ]
     },
     "metadata": {
      "needs_background": "light"
     },
     "output_type": "display_data"
    }
   ],
   "source": [
    "summary['frequency'].value_counts().plot()\n",
    "plt.show()"
   ]
  },
  {
   "cell_type": "markdown",
   "metadata": {
    "id": "Y2a6x-FqlQjc"
   },
   "source": [
    "\n",
    "\n",
    "Модель Beta-Geometric / NBD (BG / NBD) для оттока клиентов.\n",
    "\n",
    "Описывают модели повторных покупок в компаниях, где оборот покупателей не отслеживается.\n",
    "\n",
    "Предположения модели BG / NBD:\n",
    "\n",
    "- Отношения с клиентом делятся на две фазы: «живые» в течение ненаблюдаемого периода времени, затем «мертвые».\n",
    "- В живом состоянии количество транзакций, совершенных клиентом, соответствует распределению Пуассона с лямбда-коэффициентом скорости транзакции.\n",
    "- После любой транзакции покупатель умирает с вероятностью p;\n",
    "- Лямбда и p зависят от клиента.\n",
    "\n",
    "Дополнительную информацию о модели BG / NBD можно найти тут http://brucehardie.com/papers/bgnbd_2004-04-20.pdf) и тут (https://medium.com/data) .\n"
   ]
  },
  {
   "cell_type": "code",
   "execution_count": null,
   "metadata": {
    "colab": {
     "base_uri": "https://localhost:8080/"
    },
    "id": "ngSo9D0IlXuS",
    "outputId": "83e9c951-7299-40fb-ee20-ef998d052736"
   },
   "outputs": [
    {
     "data": {
      "text/plain": [
       "<lifetimes.BetaGeoFitter: fitted with 95420 subjects, a: 2.07, alpha: 65.86, b: 0.35, r: 0.02>"
      ]
     },
     "execution_count": 65,
     "metadata": {},
     "output_type": "execute_result"
    }
   ],
   "source": [
    "bgf = BetaGeoFitter()\n",
    "bgf.fit(summary['frequency'], summary['recency'], summary['T'])"
   ]
  },
  {
   "cell_type": "code",
   "execution_count": null,
   "metadata": {
    "colab": {
     "base_uri": "https://localhost:8080/",
     "height": 330
    },
    "id": "EkwfhqC4lZ9s",
    "outputId": "2b5918c9-e92e-454f-fbfe-29455c680fd1"
   },
   "outputs": [
    {
     "data": {
      "image/png": "[encoded data removed]",
      "text/plain": [
       "<Figure size 432x288 with 2 Axes>"
      ]
     },
     "metadata": {
      "needs_background": "light"
     },
     "output_type": "display_data"
    }
   ],
   "source": [
    "plot_probability_alive_matrix(bgf);"
   ]
  },
  {
   "cell_type": "markdown",
   "metadata": {
    "id": "UBV9yQaZlbuJ"
   },
   "source": [
    "\n",
    "#### Обучение и оценка\n",
    "\n",
    "Как будет работать в будущем.\n",
    "\n",
    "Делим данные на период обучения (калибровки) и период ожидания (наблюдения), обучим модель BG / NBD и оценим производительность с помощью четырех графиков:\n",
    "\n",
    "1) Гистограмма периода калибровки: соответствует ли модель обучающим данным.\n",
    "\n",
    "2) График совокупных транзакций: хорошо ли модель предсказывает совокупные продажи.\n",
    "\n",
    "3) График инкрементных транзакций: отражает ли модель общую тенденцию транзакций.\n",
    "\n",
    "4) График условных ожиданий: может ли модель предсказать количество покупок, которые совершит покупатель, на основе данных обучения.\n"
   ]
  },
  {
   "cell_type": "markdown",
   "metadata": {
    "id": "83jjVriAleq3"
   },
   "source": [
    "\n",
    "\n",
    "**1) Гистограмма периода калибровки**"
   ]
  },
  {
   "cell_type": "code",
   "execution_count": null,
   "metadata": {
    "colab": {
     "base_uri": "https://localhost:8080/",
     "height": 328
    },
    "id": "pj_RS4Ehlhqp",
    "outputId": "d7bfe98c-8204-4318-b9f7-1791e688c5ee"
   },
   "outputs": [
    {
     "data": {
      "image/png": "[encoded data removed]",
      "text/plain": [
       "<Figure size 432x288 with 1 Axes>"
      ]
     },
     "metadata": {
      "needs_background": "light"
     },
     "output_type": "display_data"
    }
   ],
   "source": [
    "plot_period_transactions(bgf).set_yscale('log');"
   ]
  },
  {
   "cell_type": "markdown",
   "metadata": {
    "id": "ndodOocCli07"
   },
   "source": [
    "**2) График совокупных транзакций**"
   ]
  },
  {
   "cell_type": "code",
   "execution_count": null,
   "metadata": {
    "colab": {
     "base_uri": "https://localhost:8080/",
     "height": 309
    },
    "id": "o3_9RJ2sll4u",
    "outputId": "6d758338-2318-4f4a-cb12-47be3d1500a1"
   },
   "outputs": [
    {
     "data": {
      "image/png": "[encoded data removed]",
      "text/plain": [
       "<Figure size 432x288 with 1 Axes>"
      ]
     },
     "metadata": {
      "needs_background": "light"
     },
     "output_type": "display_data"
    }
   ],
   "source": [
    "summary_cal_holdout = calibration_and_holdout_data(transaction_data, 'customer_unique_id', 'date',\n",
    "                                        calibration_period_end='2017-09-03',\n",
    "                                        observation_period_end='2018-09-03' )\n",
    "\n",
    "bgf.fit(summary_cal_holdout['frequency_cal'], summary_cal_holdout['recency_cal'], summary_cal_holdout['T_cal'])\n",
    "plot_cumulative_transactions(bgf, transaction_data, 'date', 'customer_unique_id', 730, 365);"
   ]
  },
  {
   "cell_type": "markdown",
   "metadata": {
    "id": "MSuLnQTHln7Y"
   },
   "source": [
    "Красная линия представляет границу между периодом калибровки слева и периодом анализа справа.Модель BG / NBD отлично справляется с прогнозированием совокупных транзакций"
   ]
  },
  {
   "cell_type": "markdown",
   "metadata": {
    "id": "ZbHqsWQDlpXf"
   },
   "source": [
    "**3)График инкрементных транзакций**"
   ]
  },
  {
   "cell_type": "code",
   "execution_count": null,
   "metadata": {
    "colab": {
     "base_uri": "https://localhost:8080/",
     "height": 309
    },
    "id": "esZUYOwDluOE",
    "outputId": "5509dae1-c69a-4030-f925-4a14f28a2a65"
   },
   "outputs": [
    {
     "data": {
      "image/png": "[encoded data removed]",
      "text/plain": [
       "<Figure size 432x288 with 1 Axes>"
      ]
     },
     "metadata": {
      "needs_background": "light"
     },
     "output_type": "display_data"
    }
   ],
   "source": [
    "plot_incremental_transactions(bgf, transaction_data, 'date', 'customer_unique_id', 730, 365);"
   ]
  },
  {
   "cell_type": "markdown",
   "metadata": {
    "id": "dIHnyqd1lvhH"
   },
   "source": [
    "\n",
    "\n",
    "модель неплохо справляется с отображением общих тенденций в данных\n"
   ]
  },
  {
   "cell_type": "markdown",
   "metadata": {
    "id": "DozSZttSlw6i"
   },
   "source": [
    "**4) График условных ожиданий**"
   ]
  },
  {
   "cell_type": "code",
   "execution_count": null,
   "metadata": {
    "colab": {
     "base_uri": "https://localhost:8080/",
     "height": 329
    },
    "id": "MGV0HLO5l0FX",
    "outputId": "d5835216-74d4-466b-c0b0-14a448f2909f"
   },
   "outputs": [
    {
     "data": {
      "image/png": "[encoded data removed]",
      "text/plain": [
       "<Figure size 432x288 with 1 Axes>"
      ]
     },
     "metadata": {
      "needs_background": "light"
     },
     "output_type": "display_data"
    }
   ],
   "source": [
    "plot_calibration_purchases_vs_holdout_purchases(bgf, summary_cal_holdout);"
   ]
  },
  {
   "cell_type": "markdown",
   "metadata": {
    "id": "Ca5Oiz2yl1pM"
   },
   "source": [
    "Модель хорошо работает до трех покупок периода калибровки, но отличается от данных удержания из-за распределения данных (нужно больше примеров для большого числа покупок)."
   ]
  },
  {
   "cell_type": "code",
   "execution_count": null,
   "metadata": {
    "colab": {
     "base_uri": "https://localhost:8080/"
    },
    "id": "JBrIiHs9l2KO",
    "outputId": "385aadca-48f6-41b0-cb9e-5d49ca6a5a65"
   },
   "outputs": [
    {
     "data": {
      "text/plain": [
       "1     93099\n",
       "2      2745\n",
       "3       203\n",
       "4        30\n",
       "5         8\n",
       "6         6\n",
       "7         3\n",
       "9         1\n",
       "17        1\n",
       "dtype: int64"
      ]
     },
     "execution_count": 71,
     "metadata": {},
     "output_type": "execute_result"
    }
   ],
   "source": [
    "cust.groupby('customer_unique_id').size().value_counts()"
   ]
  },
  {
   "cell_type": "markdown",
   "metadata": {
    "id": "llieiHrvl4N_"
   },
   "source": [
    "Менее 1% клиентов совершили четыре или более покупок, поэтому для модели BG / NBD не так много данных, чтобы узнать о клиентах, которые совершили много повторных транзакций."
   ]
  },
  {
   "cell_type": "markdown",
   "metadata": {
    "id": "qYv32vrhl6sh"
   },
   "source": [
    "\n",
    "#### Модель риска оттока\n",
    "\n",
    "Модель BG / NBD предполагает, что смерть может наступить только после повторной покупки, поскольку уход клиента происходит во время покупки, а первая покупка зарезервирована, чтобы сигнализировать о рождении клиента.\n",
    "\n",
    "Из-за этого клиенты с только одной транзакцией будут иметь 100% вероятность того, что они живы, что является подозрительным. Чтобы учесть это ограничение, мы будем прогнозировать риск оттока только тех клиентов, которые совершили хотя бы одну повторную транзакцию\n"
   ]
  },
  {
   "cell_type": "code",
   "execution_count": null,
   "metadata": {
    "colab": {
     "base_uri": "https://localhost:8080/",
     "height": 291
    },
    "id": "V05IxIrdl9h8",
    "outputId": "60220193-eca3-4c94-e59d-a909dcc9afc7"
   },
   "outputs": [
    {
     "data": {
      "image/png": "[encoded data removed]",
      "text/plain": [
       "<Figure size 432x288 with 1 Axes>"
      ]
     },
     "metadata": {
      "needs_background": "light"
     },
     "output_type": "display_data"
    }
   ],
   "source": [
    "df = summary[summary['frequency'] > 0]\n",
    "df['prob_alive'] = bgf.conditional_probability_alive(df['frequency'], df['recency'], df['T'])\n",
    "sns.distplot(df['prob_alive']);"
   ]
  },
  {
   "cell_type": "markdown",
   "metadata": {
    "id": "vW2TZV3imAHI"
   },
   "source": [
    "можем визуализировать клиентов на основе вероятности того, что они «живы». Используя знание предметной области, мы могли бы установить порог для клиентов, которые, вероятно, уже ушли, а также идентифицировать клиентов, которые подвержены риску ухода, но еще не исчезли."
   ]
  },
  {
   "cell_type": "code",
   "execution_count": null,
   "metadata": {
    "colab": {
     "base_uri": "https://localhost:8080/",
     "height": 293
    },
    "id": "77PEhpa6mByK",
    "outputId": "67239461-be8f-4465-cc04-068d297fdb18"
   },
   "outputs": [
    {
     "data": {
      "image/png": "[encoded data removed]",
      "text/plain": [
       "<Figure size 432x288 with 1 Axes>"
      ]
     },
     "metadata": {
      "needs_background": "light"
     },
     "output_type": "display_data"
    }
   ],
   "source": [
    "df['churn'] = ['churned' if p < .1 else 'not churned' for p in df['prob_alive']]\n",
    "sns.countplot(df['churn']);"
   ]
  },
  {
   "cell_type": "markdown",
   "metadata": {
    "id": "gZTduYTlmDU7"
   },
   "source": [
    "\n",
    "\n",
    "Немногим более 92% клиентов ушли, а это означает, что есть много возможностей для улучшения удержания.\n",
    "\n",
    "Можно предположить, что клиенты, которые ушли, уже потеряны. И можно найти тех, кто подвержен высокому риску оттока, но еще не отток. Посмотрим на графике, кого следует отнести к этой группе.\n"
   ]
  },
  {
   "cell_type": "code",
   "execution_count": null,
   "metadata": {
    "colab": {
     "base_uri": "https://localhost:8080/",
     "height": 311
    },
    "id": "RyvFGegcmFWg",
    "outputId": "435aaab8-eb65-4cb4-906f-01b8fc92e937"
   },
   "outputs": [
    {
     "data": {
      "image/png": "[encoded data removed]",
      "text/plain": [
       "<Figure size 432x288 with 1 Axes>"
      ]
     },
     "metadata": {
      "needs_background": "light"
     },
     "output_type": "display_data"
    }
   ],
   "source": [
    "sns.distplot(df[df['churn'] == 'not churned']['prob_alive']).set_title('Probability alive, not churned');"
   ]
  },
  {
   "cell_type": "markdown",
   "metadata": {
    "id": "6XUne2-vmG8G"
   },
   "source": [
    "\n",
    "\n",
    "Кажется разумным отделить клиентов риском оттока 80% или более. Будем считать это высоким риском оттока. Больше 90% отток. До 80% не отток.\n"
   ]
  },
  {
   "cell_type": "code",
   "execution_count": null,
   "metadata": {
    "colab": {
     "base_uri": "https://localhost:8080/"
    },
    "id": "Hf1zWp_5mIIa",
    "outputId": "5e766b1a-ba0c-4fe1-bc7c-86cd2b994ae0"
   },
   "outputs": [
    {
     "data": {
      "text/plain": [
       "churned        1928\n",
       "high risk        84\n",
       "not churned      73\n",
       "Name: churn, dtype: int64"
      ]
     },
     "execution_count": 75,
     "metadata": {},
     "output_type": "execute_result"
    }
   ],
   "source": [
    "df['churn'][(df['prob_alive'] >= .1) & (df['prob_alive'] < .2)] = \"high risk\"\n",
    "df['churn'].value_counts()"
   ]
  },
  {
   "cell_type": "markdown",
   "metadata": {
    "id": "SB0ssDdZmJia"
   },
   "source": [
    "\n",
    "\n",
    "применять к этим группам специальные меры.\n",
    "\n",
    "Нарисуем кривую снижения уверенности в \"жизни\" для клиентов (возьмем тех, у кого много транзакций, так виднее и интересней)\n"
   ]
  },
  {
   "cell_type": "code",
   "execution_count": null,
   "metadata": {
    "id": "A9Qe1mLkmK6_"
   },
   "outputs": [],
   "source": [
    "transaction_data.date = pd.to_datetime(transaction_data.date).dt.date  "
   ]
  },
  {
   "cell_type": "markdown",
   "metadata": {
    "id": "BjpcHqiHmMR5"
   },
   "source": [
    "\n",
    "\n",
    "Покажем список клиентов , которые делали много покупок (больше 3)\n"
   ]
  },
  {
   "cell_type": "code",
   "execution_count": null,
   "metadata": {
    "colab": {
     "base_uri": "https://localhost:8080/",
     "height": 238
    },
    "id": "cSysourmmNTM",
    "outputId": "eeb478db-410d-4e7e-dd3f-d41fd053e8e3"
   },
   "outputs": [
    {
     "data": {
      "text/html": [
       "\n",
       "  <div id=\"df-de04f0f5-5e0b-467b-b0d4-ddf2e3ae042c\">\n",
       "    <div class=\"colab-df-container\">\n",
       "      <div>\n",
       "<style scoped>\n",
       "    .dataframe tbody tr th:only-of-type {\n",
       "        vertical-align: middle;\n",
       "    }\n",
       "\n",
       "    .dataframe tbody tr th {\n",
       "        vertical-align: top;\n",
       "    }\n",
       "\n",
       "    .dataframe thead th {\n",
       "        text-align: right;\n",
       "    }\n",
       "</style>\n",
       "<table border=\"1\" class=\"dataframe\">\n",
       "  <thead>\n",
       "    <tr style=\"text-align: right;\">\n",
       "      <th></th>\n",
       "      <th>frequency</th>\n",
       "      <th>recency</th>\n",
       "      <th>T</th>\n",
       "      <th>monetary_value</th>\n",
       "    </tr>\n",
       "    <tr>\n",
       "      <th>customer_unique_id</th>\n",
       "      <th></th>\n",
       "      <th></th>\n",
       "      <th></th>\n",
       "      <th></th>\n",
       "    </tr>\n",
       "  </thead>\n",
       "  <tbody>\n",
       "    <tr>\n",
       "      <th>1b6c7548a2a1f9037c1fd3ddfed95f33</th>\n",
       "      <td>6.0</td>\n",
       "      <td>93.0</td>\n",
       "      <td>294.0</td>\n",
       "      <td>97.831667</td>\n",
       "    </tr>\n",
       "    <tr>\n",
       "      <th>394ac4de8f3acb14253c177f0e15bc58</th>\n",
       "      <td>4.0</td>\n",
       "      <td>236.0</td>\n",
       "      <td>255.0</td>\n",
       "      <td>106.150000</td>\n",
       "    </tr>\n",
       "    <tr>\n",
       "      <th>3e43e6105506432c953e165fb2acf44c</th>\n",
       "      <td>5.0</td>\n",
       "      <td>162.0</td>\n",
       "      <td>350.0</td>\n",
       "      <td>156.650000</td>\n",
       "    </tr>\n",
       "    <tr>\n",
       "      <th>47c1a3033b8b77b3ab6e109eb4d5fdf3</th>\n",
       "      <td>4.0</td>\n",
       "      <td>170.0</td>\n",
       "      <td>392.0</td>\n",
       "      <td>172.200000</td>\n",
       "    </tr>\n",
       "    <tr>\n",
       "      <th>4e65032f1f574189fb793bac5a867bbc</th>\n",
       "      <td>4.0</td>\n",
       "      <td>445.0</td>\n",
       "      <td>526.0</td>\n",
       "      <td>94.795000</td>\n",
       "    </tr>\n",
       "  </tbody>\n",
       "</table>\n",
       "</div>\n",
       "      <button class=\"colab-df-convert\" onclick=\"convertToInteractive('df-de04f0f5-5e0b-467b-b0d4-ddf2e3ae042c')\"\n",
       "              title=\"Convert this dataframe to an interactive table.\"\n",
       "              style=\"display:none;\">\n",
       "        \n",
       "  <svg xmlns=\"http://www.w3.org/2000/svg\" height=\"24px\"viewBox=\"0 0 24 24\"\n",
       "       width=\"24px\">\n",
       "    <path d=\"M0 0h24v24H0V0z\" fill=\"none\"/>\n",
       "    <path d=\"M18.56 5.44l.94 2.06.94-2.06 2.06-.94-2.06-.94-.94-2.06-.94 2.06-2.06.94zm-11 1L8.5 8.5l.94-2.06 2.06-.94-2.06-.94L8.5 2.5l-.94 2.06-2.06.94zm10 10l.94 2.06.94-2.06 2.06-.94-2.06-.94-.94-2.06-.94 2.06-2.06.94z\"/><path d=\"M17.41 7.96l-1.37-1.37c-.4-.4-.92-.59-1.43-.59-.52 0-1.04.2-1.43.59L10.3 9.45l-7.72 7.72c-.78.78-.78 2.05 0 2.83L4 21.41c.39.39.9.59 1.41.59.51 0 1.02-.2 1.41-.59l7.78-7.78 2.81-2.81c.8-.78.8-2.07 0-2.86zM5.41 20L4 18.59l7.72-7.72 1.47 1.35L5.41 20z\"/>\n",
       "  </svg>\n",
       "      </button>\n",
       "      \n",
       "  <style>\n",
       "    .colab-df-container {\n",
       "      display:flex;\n",
       "      flex-wrap:wrap;\n",
       "      gap: 12px;\n",
       "    }\n",
       "\n",
       "    .colab-df-convert {\n",
       "      background-color: #E8F0FE;\n",
       "      border: none;\n",
       "      border-radius: 50%;\n",
       "      cursor: pointer;\n",
       "      display: none;\n",
       "      fill: #1967D2;\n",
       "      height: 32px;\n",
       "      padding: 0 0 0 0;\n",
       "      width: 32px;\n",
       "    }\n",
       "\n",
       "    .colab-df-convert:hover {\n",
       "      background-color: #E2EBFA;\n",
       "      box-shadow: 0px 1px 2px rgba(60, 64, 67, 0.3), 0px 1px 3px 1px rgba(60, 64, 67, 0.15);\n",
       "      fill: #174EA6;\n",
       "    }\n",
       "\n",
       "    [theme=dark] .colab-df-convert {\n",
       "      background-color: #3B4455;\n",
       "      fill: #D2E3FC;\n",
       "    }\n",
       "\n",
       "    [theme=dark] .colab-df-convert:hover {\n",
       "      background-color: #434B5C;\n",
       "      box-shadow: 0px 1px 3px 1px rgba(0, 0, 0, 0.15);\n",
       "      filter: drop-shadow(0px 1px 2px rgba(0, 0, 0, 0.3));\n",
       "      fill: #FFFFFF;\n",
       "    }\n",
       "  </style>\n",
       "\n",
       "      <script>\n",
       "        const buttonEl =\n",
       "          document.querySelector('#df-de04f0f5-5e0b-467b-b0d4-ddf2e3ae042c button.colab-df-convert');\n",
       "        buttonEl.style.display =\n",
       "          google.colab.kernel.accessAllowed ? 'block' : 'none';\n",
       "\n",
       "        async function convertToInteractive(key) {\n",
       "          const element = document.querySelector('#df-de04f0f5-5e0b-467b-b0d4-ddf2e3ae042c');\n",
       "          const dataTable =\n",
       "            await google.colab.kernel.invokeFunction('convertToInteractive',\n",
       "                                                     [key], {});\n",
       "          if (!dataTable) return;\n",
       "\n",
       "          const docLinkHtml = 'Like what you see? Visit the ' +\n",
       "            '<a target=\"_blank\" href=https://colab.research.google.com/notebooks/data_table.ipynb>data table notebook</a>'\n",
       "            + ' to learn more about interactive tables.';\n",
       "          element.innerHTML = '';\n",
       "          dataTable['output_type'] = 'display_data';\n",
       "          await google.colab.output.renderOutput(dataTable, element);\n",
       "          const docLink = document.createElement('div');\n",
       "          docLink.innerHTML = docLinkHtml;\n",
       "          element.appendChild(docLink);\n",
       "        }\n",
       "      </script>\n",
       "    </div>\n",
       "  </div>\n",
       "  "
      ],
      "text/plain": [
       "                                  frequency  recency      T  monetary_value\n",
       "customer_unique_id                                                         \n",
       "1b6c7548a2a1f9037c1fd3ddfed95f33        6.0     93.0  294.0       97.831667\n",
       "394ac4de8f3acb14253c177f0e15bc58        4.0    236.0  255.0      106.150000\n",
       "3e43e6105506432c953e165fb2acf44c        5.0    162.0  350.0      156.650000\n",
       "47c1a3033b8b77b3ab6e109eb4d5fdf3        4.0    170.0  392.0      172.200000\n",
       "4e65032f1f574189fb793bac5a867bbc        4.0    445.0  526.0       94.795000"
      ]
     },
     "execution_count": 77,
     "metadata": {},
     "output_type": "execute_result"
    }
   ],
   "source": [
    "summary[summary['frequency'] > 3].head()"
   ]
  },
  {
   "cell_type": "markdown",
   "metadata": {
    "id": "FDwZDa3rmOtw"
   },
   "source": [
    "\n",
    "\n",
    "Построим вероятность жизни клиента на интервале 365 дней (от его первой покупки до 365-го дня)\n"
   ]
  },
  {
   "cell_type": "code",
   "execution_count": null,
   "metadata": {
    "colab": {
     "base_uri": "https://localhost:8080/",
     "height": 647
    },
    "id": "bUMA8ywvmQV3",
    "outputId": "60fbb4cc-1708-432b-aa7c-3e3ac4d6c898"
   },
   "outputs": [
    {
     "name": "stdout",
     "output_type": "stream",
     "text": [
      "Список актов покупки с суммой\n",
      "                     customer_unique_id  price        date\n",
      "21870  47c1a3033b8b77b3ab6e109eb4d5fdf3   38.0  2017-08-07\n",
      "57015  47c1a3033b8b77b3ab6e109eb4d5fdf3   59.9  2017-08-07\n",
      "21849  47c1a3033b8b77b3ab6e109eb4d5fdf3   58.9  2017-08-22\n",
      "40097  47c1a3033b8b77b3ab6e109eb4d5fdf3  378.0  2017-09-27\n",
      "79880  47c1a3033b8b77b3ab6e109eb4d5fdf3  199.9  2017-11-27\n",
      "16372  47c1a3033b8b77b3ab6e109eb4d5fdf3   52.0  2018-01-24\n"
     ]
    },
    {
     "data": {
      "image/png": "[encoded data removed]",
      "text/plain": [
       "<Figure size 864x576 with 1 Axes>"
      ]
     },
     "metadata": {
      "needs_background": "light"
     },
     "output_type": "display_data"
    }
   ],
   "source": [
    "from lifetimes.plotting import plot_history_alive\n",
    "\n",
    "fig = plt.figure(figsize=(12,8))\n",
    "id = '47c1a3033b8b77b3ab6e109eb4d5fdf3'\n",
    "days_since_birth = 365\n",
    "sp_trans = transaction_data.loc[transaction_data.customer_unique_id==id,:]\n",
    "print('Список актов покупки с суммой')\n",
    "print(sp_trans.sort_values('date'))\n",
    "plot_history_alive(bgf, days_since_birth, sp_trans, 'date')\n",
    "plt.show()"
   ]
  },
  {
   "cell_type": "markdown",
   "metadata": {
    "id": "1ZVM8cY6mR5x"
   },
   "source": [
    "\n",
    "#### Следуюшие шаги\n",
    "\n",
    "Смоделировали риск оттока клиентов в условиях, не связанных с контрактом, и теперь у нас есть три клиентских сегмента: не отток, высокий риск и отток. Это может быть представлено, как информация о «подверженных риску» клиентах.\n",
    "\n",
    "Предоставлены три разные группы (можно и больше), в которых мы можем запускать определенные действия для борьбы с оттоком.\n",
    "\n"
   ]
  },
  {
   "cell_type": "markdown",
   "metadata": {
    "id": "1epBwA39mWng"
   },
   "source": [
    "#### ресурсы\n",
    "\n",
    "- What's a Customer Worth? учебник Lifetimes - https://towardsdatascience.com/whats-a-customer-worth-8daf183f8a4f\n",
    "- Lifetimes documentation - https://lifetimes.readthedocs.io/en/latest/Quickstart.html#\n",
    "- Kaggle Customer Lifetime Value пример решения - https://www.kaggle.com/dhimananubhav/customer-lifetime-value/comments\n"
   ]
  },
  {
   "cell_type": "markdown",
   "metadata": {
    "id": "ryhLjiN1sf9x"
   },
   "source": [
    "## Домашнее задание"
   ]
  },
  {
   "cell_type": "markdown",
   "metadata": {
    "id": "uCHW7Zyqsf9y"
   },
   "source": [
    "1. Для нашего пайплайна (Case1) поэкспериментировать с разными моделями:\n",
    "    - бустинг\n",
    "    - логистическая регрессия\n",
    "2. Отобрать лучшую модель по метрикам (какая по вашему мнению здесь наиболее подходящая ML-метрика)\n",
    "3. Для отобранной модели (на отложенной выборке) сделать оценку экономической эффективности при тех же вводных, как в вопросе 2:\n",
    "    - 1 доллар на удержание\n",
    "    - 2 доллара - с каждого правильно классифицированного (True Positive)\n",
    "4. *Провести подбор гиперпараметров лучшей модели по итогам 2-3\n",
    "5. *Еще раз провести оценку экономической эффективности"
   ]
  },
  {
   "cell_type": "markdown",
   "metadata": {
    "id": "AwVItI5bsf9z"
   },
   "source": [
    "## Ссылки"
   ]
  },
  {
   "cell_type": "markdown",
   "metadata": {
    "id": "NNMT5a0Rsf90"
   },
   "source": [
    "1. http://hyperopt.github.io/hyperopt/\n",
    "2. https://arxiv.org/pdf/1907.03947.pdf\n",
    "3. https://arxiv.org/pdf/1802.02301.pdf\n",
    "4. https://arxiv.org/list/stat.ML/recent\n",
    "5. https://scikit-learn.org/stable/modules/grid_search.html\n",
    "6. https://scikit-learn.org/stable/modules/compose.html"
   ]
  }
 ],
 "metadata": {
  "colab": {
   "collapsed_sections": [],
   "name": "Lesson_5.ipynb",
   "provenance": []
  },
  "kernelspec": {
   "display_name": "Python 3",
   "language": "python",
   "name": "python3"
  },
  "language_info": {
   "codemirror_mode": {
    "name": "ipython",
    "version": 3
   },
   "file_extension": ".py",
   "mimetype": "text/x-python",
   "name": "python",
   "nbconvert_exporter": "python",
   "pygments_lexer": "ipython3",
   "version": "3.8.8"
  }
 },
 "nbformat": 4,
 "nbformat_minor": 1
}
