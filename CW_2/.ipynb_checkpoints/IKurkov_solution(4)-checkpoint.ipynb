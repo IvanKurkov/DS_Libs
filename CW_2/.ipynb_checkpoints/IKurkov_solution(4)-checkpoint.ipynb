{
 "cells": [
  {
   "cell_type": "markdown",
   "id": "7be39117",
   "metadata": {},
   "source": [
    "#                                      Курсовой проект"
   ]
  },
  {
   "cell_type": "markdown",
   "id": "ef796e97",
   "metadata": {},
   "source": [
    "### Задача\n",
    "\n",
    "Требуется, на основании имеющихся данных о клиентах банка, построить модель, используя обучающий датасет, для прогнозирования невыполнения долговых обязательств по текущему кредиту. Выполнить прогноз для примеров из тестового датасета.\n",
    "\n",
    "#### Наименование файлов с данными\n",
    "\n",
    "course_project_train.csv - обучающий датасет\n",
    "course_project_test.csv - тестовый датасет\n",
    "\n",
    "#### Целевая переменная\n",
    "\n",
    "Credit Default - факт невыполнения кредитных обязательств\n",
    "\n",
    "#### Метрика качества\n",
    "\n",
    "F1-score (sklearn.metrics.f1_score)\n",
    "\n",
    "#### Требования к решению\n",
    "\n",
    "Целевая метрика\n",
    "\n",
    "F1 > 0.5\n",
    "Метрика оценивается по качеству прогноза для главного класса (1 - просрочка по кредиту)\n",
    "Решение должно содержать"
   ]
  },
  {
   "cell_type": "markdown",
   "id": "a47a7c63",
   "metadata": {},
   "source": [
    "### Описание датасета\n",
    "\n",
    "Home Ownership - домовладение\n",
    "\n",
    "Annual Income - годовой доход\n",
    "\n",
    "Years in current job - количество лет на текущем месте работы\n",
    "\n",
    "Tax Liens - налоговые обременения\n",
    "\n",
    "Number of Open Accounts - количество открытых счетов\n",
    "\n",
    "Years of Credit History - количество лет кредитной истории\n",
    "\n",
    "Maximum Open Credit - наибольший открытый кредит\n",
    "\n",
    "Number of Credit Problems - количество проблем с кредитом\n",
    "\n",
    "Months since last delinquent - количество месяцев с последней просрочки платежа\n",
    "\n",
    "Bankruptcies - банкротства\n",
    "\n",
    "Purpose - цель кредита\n",
    "\n",
    "Term - срок кредита\n",
    "\n",
    "Current Loan Amount - текущая сумма кредита\n",
    "\n",
    "Current Credit Balance - текущий кредитный баланс\n",
    "\n",
    "Monthly Debt - ежемесячный долг\n",
    "\n",
    "Credit Default - факт невыполнения кредитных обязательств (0 - погашен вовремя, 1 - просрочка)"
   ]
  },
  {
   "cell_type": "code",
   "execution_count": 90,
   "id": "8626d01c",
   "metadata": {},
   "outputs": [],
   "source": [
    "import numpy as np\n",
    "import pandas as pd\n",
    "import seaborn as sns\n",
    "import warnings\n",
    "import matplotlib.pyplot as plt\n",
    "warnings.filterwarnings('ignore')\n",
    "\n",
    "\n",
    "from sklearn.model_selection import GridSearchCV\n",
    "from sklearn.preprocessing import RobustScaler\n",
    "from sklearn.model_selection import train_test_split\n",
    "\n",
    "from scipy.stats import shapiro\n",
    "from scipy.stats import probplot\n",
    "from scipy.stats import ttest_ind, mannwhitneyu\n",
    "from scipy.stats import chi2_contingency\n",
    "from statsmodels.stats.weightstats import zconfint\n",
    "\n",
    "from sklearn.ensemble import GradientBoostingClassifier\n",
    "from sklearn.metrics import mean_squared_error as mse, f1_score as f1"
   ]
  },
  {
   "cell_type": "markdown",
   "id": "46d6a770",
   "metadata": {},
   "source": [
    "### Пути к директориям и файлам"
   ]
  },
  {
   "cell_type": "code",
   "execution_count": 91,
   "id": "c430477a",
   "metadata": {},
   "outputs": [],
   "source": [
    "TRAIN_DATASET_PATH = 'course_project_train.csv'\n",
    "TEST_DATASET_PATH = 'course_project_test.csv'"
   ]
  },
  {
   "cell_type": "code",
   "execution_count": 92,
   "id": "63c861aa",
   "metadata": {},
   "outputs": [],
   "source": [
    "df_train = pd.read_csv(TRAIN_DATASET_PATH)"
   ]
  },
  {
   "cell_type": "code",
   "execution_count": 93,
   "id": "fecdb145",
   "metadata": {},
   "outputs": [],
   "source": [
    "df_test = pd.read_csv(TEST_DATASET_PATH)"
   ]
  },
  {
   "cell_type": "code",
   "execution_count": 94,
   "id": "994c7929",
   "metadata": {},
   "outputs": [
    {
     "data": {
      "text/html": [
       "<div>\n",
       "<style scoped>\n",
       "    .dataframe tbody tr th:only-of-type {\n",
       "        vertical-align: middle;\n",
       "    }\n",
       "\n",
       "    .dataframe tbody tr th {\n",
       "        vertical-align: top;\n",
       "    }\n",
       "\n",
       "    .dataframe thead th {\n",
       "        text-align: right;\n",
       "    }\n",
       "</style>\n",
       "<table border=\"1\" class=\"dataframe\">\n",
       "  <thead>\n",
       "    <tr style=\"text-align: right;\">\n",
       "      <th></th>\n",
       "      <th>Home Ownership</th>\n",
       "      <th>Annual Income</th>\n",
       "      <th>Years in current job</th>\n",
       "      <th>Tax Liens</th>\n",
       "      <th>Number of Open Accounts</th>\n",
       "      <th>Years of Credit History</th>\n",
       "      <th>Maximum Open Credit</th>\n",
       "      <th>Number of Credit Problems</th>\n",
       "      <th>Months since last delinquent</th>\n",
       "      <th>Bankruptcies</th>\n",
       "      <th>Purpose</th>\n",
       "      <th>Term</th>\n",
       "      <th>Current Loan Amount</th>\n",
       "      <th>Current Credit Balance</th>\n",
       "      <th>Monthly Debt</th>\n",
       "      <th>Credit Score</th>\n",
       "      <th>Credit Default</th>\n",
       "    </tr>\n",
       "  </thead>\n",
       "  <tbody>\n",
       "    <tr>\n",
       "      <th>0</th>\n",
       "      <td>Own Home</td>\n",
       "      <td>482087.00000</td>\n",
       "      <td>NaN</td>\n",
       "      <td>0.00000</td>\n",
       "      <td>11.00000</td>\n",
       "      <td>26.30000</td>\n",
       "      <td>685960.00000</td>\n",
       "      <td>1.00000</td>\n",
       "      <td>NaN</td>\n",
       "      <td>1.00000</td>\n",
       "      <td>debt consolidation</td>\n",
       "      <td>Short Term</td>\n",
       "      <td>99999999.00000</td>\n",
       "      <td>47386.00000</td>\n",
       "      <td>7914.00000</td>\n",
       "      <td>749.00000</td>\n",
       "      <td>0</td>\n",
       "    </tr>\n",
       "    <tr>\n",
       "      <th>1</th>\n",
       "      <td>Own Home</td>\n",
       "      <td>1025487.00000</td>\n",
       "      <td>10+ years</td>\n",
       "      <td>0.00000</td>\n",
       "      <td>15.00000</td>\n",
       "      <td>15.30000</td>\n",
       "      <td>1181730.00000</td>\n",
       "      <td>0.00000</td>\n",
       "      <td>NaN</td>\n",
       "      <td>0.00000</td>\n",
       "      <td>debt consolidation</td>\n",
       "      <td>Long Term</td>\n",
       "      <td>264968.00000</td>\n",
       "      <td>394972.00000</td>\n",
       "      <td>18373.00000</td>\n",
       "      <td>737.00000</td>\n",
       "      <td>1</td>\n",
       "    </tr>\n",
       "    <tr>\n",
       "      <th>2</th>\n",
       "      <td>Home Mortgage</td>\n",
       "      <td>751412.00000</td>\n",
       "      <td>8 years</td>\n",
       "      <td>0.00000</td>\n",
       "      <td>11.00000</td>\n",
       "      <td>35.00000</td>\n",
       "      <td>1182434.00000</td>\n",
       "      <td>0.00000</td>\n",
       "      <td>NaN</td>\n",
       "      <td>0.00000</td>\n",
       "      <td>debt consolidation</td>\n",
       "      <td>Short Term</td>\n",
       "      <td>99999999.00000</td>\n",
       "      <td>308389.00000</td>\n",
       "      <td>13651.00000</td>\n",
       "      <td>742.00000</td>\n",
       "      <td>0</td>\n",
       "    </tr>\n",
       "    <tr>\n",
       "      <th>3</th>\n",
       "      <td>Own Home</td>\n",
       "      <td>805068.00000</td>\n",
       "      <td>6 years</td>\n",
       "      <td>0.00000</td>\n",
       "      <td>8.00000</td>\n",
       "      <td>22.50000</td>\n",
       "      <td>147400.00000</td>\n",
       "      <td>1.00000</td>\n",
       "      <td>NaN</td>\n",
       "      <td>1.00000</td>\n",
       "      <td>debt consolidation</td>\n",
       "      <td>Short Term</td>\n",
       "      <td>121396.00000</td>\n",
       "      <td>95855.00000</td>\n",
       "      <td>11338.00000</td>\n",
       "      <td>694.00000</td>\n",
       "      <td>0</td>\n",
       "    </tr>\n",
       "    <tr>\n",
       "      <th>4</th>\n",
       "      <td>Rent</td>\n",
       "      <td>776264.00000</td>\n",
       "      <td>8 years</td>\n",
       "      <td>0.00000</td>\n",
       "      <td>13.00000</td>\n",
       "      <td>13.60000</td>\n",
       "      <td>385836.00000</td>\n",
       "      <td>1.00000</td>\n",
       "      <td>NaN</td>\n",
       "      <td>0.00000</td>\n",
       "      <td>debt consolidation</td>\n",
       "      <td>Short Term</td>\n",
       "      <td>125840.00000</td>\n",
       "      <td>93309.00000</td>\n",
       "      <td>7180.00000</td>\n",
       "      <td>719.00000</td>\n",
       "      <td>0</td>\n",
       "    </tr>\n",
       "  </tbody>\n",
       "</table>\n",
       "</div>"
      ],
      "text/plain": [
       "  Home Ownership  Annual Income Years in current job  Tax Liens  \\\n",
       "0       Own Home   482087.00000                  NaN    0.00000   \n",
       "1       Own Home  1025487.00000            10+ years    0.00000   \n",
       "2  Home Mortgage   751412.00000              8 years    0.00000   \n",
       "3       Own Home   805068.00000              6 years    0.00000   \n",
       "4           Rent   776264.00000              8 years    0.00000   \n",
       "\n",
       "   Number of Open Accounts  Years of Credit History  Maximum Open Credit  \\\n",
       "0                 11.00000                 26.30000         685960.00000   \n",
       "1                 15.00000                 15.30000        1181730.00000   \n",
       "2                 11.00000                 35.00000        1182434.00000   \n",
       "3                  8.00000                 22.50000         147400.00000   \n",
       "4                 13.00000                 13.60000         385836.00000   \n",
       "\n",
       "   Number of Credit Problems  Months since last delinquent  Bankruptcies  \\\n",
       "0                    1.00000                           NaN       1.00000   \n",
       "1                    0.00000                           NaN       0.00000   \n",
       "2                    0.00000                           NaN       0.00000   \n",
       "3                    1.00000                           NaN       1.00000   \n",
       "4                    1.00000                           NaN       0.00000   \n",
       "\n",
       "              Purpose        Term  Current Loan Amount  \\\n",
       "0  debt consolidation  Short Term       99999999.00000   \n",
       "1  debt consolidation   Long Term         264968.00000   \n",
       "2  debt consolidation  Short Term       99999999.00000   \n",
       "3  debt consolidation  Short Term         121396.00000   \n",
       "4  debt consolidation  Short Term         125840.00000   \n",
       "\n",
       "   Current Credit Balance  Monthly Debt  Credit Score  Credit Default  \n",
       "0             47386.00000    7914.00000     749.00000               0  \n",
       "1            394972.00000   18373.00000     737.00000               1  \n",
       "2            308389.00000   13651.00000     742.00000               0  \n",
       "3             95855.00000   11338.00000     694.00000               0  \n",
       "4             93309.00000    7180.00000     719.00000               0  "
      ]
     },
     "execution_count": 94,
     "metadata": {},
     "output_type": "execute_result"
    }
   ],
   "source": [
    "df_train.head(5)"
   ]
  },
  {
   "cell_type": "code",
   "execution_count": 95,
   "id": "02f1bfa8",
   "metadata": {},
   "outputs": [
    {
     "name": "stdout",
     "output_type": "stream",
     "text": [
      "<class 'pandas.core.frame.DataFrame'>\n",
      "RangeIndex: 7500 entries, 0 to 7499\n",
      "Data columns (total 17 columns):\n",
      " #   Column                        Non-Null Count  Dtype  \n",
      "---  ------                        --------------  -----  \n",
      " 0   Home Ownership                7500 non-null   object \n",
      " 1   Annual Income                 5943 non-null   float64\n",
      " 2   Years in current job          7129 non-null   object \n",
      " 3   Tax Liens                     7500 non-null   float64\n",
      " 4   Number of Open Accounts       7500 non-null   float64\n",
      " 5   Years of Credit History       7500 non-null   float64\n",
      " 6   Maximum Open Credit           7500 non-null   float64\n",
      " 7   Number of Credit Problems     7500 non-null   float64\n",
      " 8   Months since last delinquent  3419 non-null   float64\n",
      " 9   Bankruptcies                  7486 non-null   float64\n",
      " 10  Purpose                       7500 non-null   object \n",
      " 11  Term                          7500 non-null   object \n",
      " 12  Current Loan Amount           7500 non-null   float64\n",
      " 13  Current Credit Balance        7500 non-null   float64\n",
      " 14  Monthly Debt                  7500 non-null   float64\n",
      " 15  Credit Score                  5943 non-null   float64\n",
      " 16  Credit Default                7500 non-null   int64  \n",
      "dtypes: float64(12), int64(1), object(4)\n",
      "memory usage: 996.2+ KB\n"
     ]
    }
   ],
   "source": [
    "df_train.info()"
   ]
  },
  {
   "cell_type": "code",
   "execution_count": 96,
   "id": "1aefa855",
   "metadata": {},
   "outputs": [
    {
     "data": {
      "text/plain": [
       "0    5387\n",
       "1    2113\n",
       "Name: Credit Default, dtype: int64"
      ]
     },
     "execution_count": 96,
     "metadata": {},
     "output_type": "execute_result"
    }
   ],
   "source": [
    "df_train['Credit Default'].value_counts()"
   ]
  },
  {
   "cell_type": "code",
   "execution_count": 97,
   "id": "e808bc61",
   "metadata": {},
   "outputs": [
    {
     "data": {
      "text/html": [
       "<div>\n",
       "<style scoped>\n",
       "    .dataframe tbody tr th:only-of-type {\n",
       "        vertical-align: middle;\n",
       "    }\n",
       "\n",
       "    .dataframe tbody tr th {\n",
       "        vertical-align: top;\n",
       "    }\n",
       "\n",
       "    .dataframe thead th {\n",
       "        text-align: right;\n",
       "    }\n",
       "</style>\n",
       "<table border=\"1\" class=\"dataframe\">\n",
       "  <thead>\n",
       "    <tr style=\"text-align: right;\">\n",
       "      <th></th>\n",
       "      <th>Annual Income</th>\n",
       "      <th>Tax Liens</th>\n",
       "      <th>Number of Open Accounts</th>\n",
       "      <th>Years of Credit History</th>\n",
       "      <th>Maximum Open Credit</th>\n",
       "      <th>Number of Credit Problems</th>\n",
       "      <th>Months since last delinquent</th>\n",
       "      <th>Bankruptcies</th>\n",
       "      <th>Current Loan Amount</th>\n",
       "      <th>Current Credit Balance</th>\n",
       "      <th>Monthly Debt</th>\n",
       "      <th>Credit Score</th>\n",
       "      <th>Credit Default</th>\n",
       "    </tr>\n",
       "  </thead>\n",
       "  <tbody>\n",
       "    <tr>\n",
       "      <th>count</th>\n",
       "      <td>5943.00000</td>\n",
       "      <td>7500.00000</td>\n",
       "      <td>7500.00000</td>\n",
       "      <td>7500.00000</td>\n",
       "      <td>7500.00000</td>\n",
       "      <td>7500.00000</td>\n",
       "      <td>3419.00000</td>\n",
       "      <td>7486.00000</td>\n",
       "      <td>7500.00000</td>\n",
       "      <td>7500.00000</td>\n",
       "      <td>7500.00000</td>\n",
       "      <td>5943.00000</td>\n",
       "      <td>7500.00000</td>\n",
       "    </tr>\n",
       "    <tr>\n",
       "      <th>mean</th>\n",
       "      <td>1366391.72017</td>\n",
       "      <td>0.03013</td>\n",
       "      <td>11.13093</td>\n",
       "      <td>18.31747</td>\n",
       "      <td>945153.72747</td>\n",
       "      <td>0.17000</td>\n",
       "      <td>34.69260</td>\n",
       "      <td>0.11715</td>\n",
       "      <td>11873177.44507</td>\n",
       "      <td>289833.23520</td>\n",
       "      <td>18314.45413</td>\n",
       "      <td>1151.08750</td>\n",
       "      <td>0.28173</td>\n",
       "    </tr>\n",
       "    <tr>\n",
       "      <th>std</th>\n",
       "      <td>845339.19963</td>\n",
       "      <td>0.27160</td>\n",
       "      <td>4.90892</td>\n",
       "      <td>7.04195</td>\n",
       "      <td>16026216.67085</td>\n",
       "      <td>0.49860</td>\n",
       "      <td>21.68881</td>\n",
       "      <td>0.34719</td>\n",
       "      <td>31926122.97473</td>\n",
       "      <td>317871.38238</td>\n",
       "      <td>11926.76467</td>\n",
       "      <td>1604.45142</td>\n",
       "      <td>0.44987</td>\n",
       "    </tr>\n",
       "    <tr>\n",
       "      <th>min</th>\n",
       "      <td>164597.00000</td>\n",
       "      <td>0.00000</td>\n",
       "      <td>2.00000</td>\n",
       "      <td>4.00000</td>\n",
       "      <td>0.00000</td>\n",
       "      <td>0.00000</td>\n",
       "      <td>0.00000</td>\n",
       "      <td>0.00000</td>\n",
       "      <td>11242.00000</td>\n",
       "      <td>0.00000</td>\n",
       "      <td>0.00000</td>\n",
       "      <td>585.00000</td>\n",
       "      <td>0.00000</td>\n",
       "    </tr>\n",
       "    <tr>\n",
       "      <th>25%</th>\n",
       "      <td>844341.00000</td>\n",
       "      <td>0.00000</td>\n",
       "      <td>8.00000</td>\n",
       "      <td>13.50000</td>\n",
       "      <td>279229.50000</td>\n",
       "      <td>0.00000</td>\n",
       "      <td>16.00000</td>\n",
       "      <td>0.00000</td>\n",
       "      <td>180169.00000</td>\n",
       "      <td>114256.50000</td>\n",
       "      <td>10067.50000</td>\n",
       "      <td>711.00000</td>\n",
       "      <td>0.00000</td>\n",
       "    </tr>\n",
       "    <tr>\n",
       "      <th>50%</th>\n",
       "      <td>1168386.00000</td>\n",
       "      <td>0.00000</td>\n",
       "      <td>10.00000</td>\n",
       "      <td>17.00000</td>\n",
       "      <td>478159.00000</td>\n",
       "      <td>0.00000</td>\n",
       "      <td>32.00000</td>\n",
       "      <td>0.00000</td>\n",
       "      <td>309573.00000</td>\n",
       "      <td>209323.00000</td>\n",
       "      <td>16076.50000</td>\n",
       "      <td>731.00000</td>\n",
       "      <td>0.00000</td>\n",
       "    </tr>\n",
       "    <tr>\n",
       "      <th>75%</th>\n",
       "      <td>1640137.00000</td>\n",
       "      <td>0.00000</td>\n",
       "      <td>14.00000</td>\n",
       "      <td>21.80000</td>\n",
       "      <td>793501.50000</td>\n",
       "      <td>0.00000</td>\n",
       "      <td>50.00000</td>\n",
       "      <td>0.00000</td>\n",
       "      <td>519882.00000</td>\n",
       "      <td>360406.25000</td>\n",
       "      <td>23818.00000</td>\n",
       "      <td>743.00000</td>\n",
       "      <td>1.00000</td>\n",
       "    </tr>\n",
       "    <tr>\n",
       "      <th>max</th>\n",
       "      <td>10149344.00000</td>\n",
       "      <td>7.00000</td>\n",
       "      <td>43.00000</td>\n",
       "      <td>57.70000</td>\n",
       "      <td>1304726170.00000</td>\n",
       "      <td>7.00000</td>\n",
       "      <td>118.00000</td>\n",
       "      <td>4.00000</td>\n",
       "      <td>99999999.00000</td>\n",
       "      <td>6506797.00000</td>\n",
       "      <td>136679.00000</td>\n",
       "      <td>7510.00000</td>\n",
       "      <td>1.00000</td>\n",
       "    </tr>\n",
       "  </tbody>\n",
       "</table>\n",
       "</div>"
      ],
      "text/plain": [
       "       Annual Income  Tax Liens  Number of Open Accounts  \\\n",
       "count     5943.00000 7500.00000               7500.00000   \n",
       "mean   1366391.72017    0.03013                 11.13093   \n",
       "std     845339.19963    0.27160                  4.90892   \n",
       "min     164597.00000    0.00000                  2.00000   \n",
       "25%     844341.00000    0.00000                  8.00000   \n",
       "50%    1168386.00000    0.00000                 10.00000   \n",
       "75%    1640137.00000    0.00000                 14.00000   \n",
       "max   10149344.00000    7.00000                 43.00000   \n",
       "\n",
       "       Years of Credit History  Maximum Open Credit  \\\n",
       "count               7500.00000           7500.00000   \n",
       "mean                  18.31747         945153.72747   \n",
       "std                    7.04195       16026216.67085   \n",
       "min                    4.00000              0.00000   \n",
       "25%                   13.50000         279229.50000   \n",
       "50%                   17.00000         478159.00000   \n",
       "75%                   21.80000         793501.50000   \n",
       "max                   57.70000     1304726170.00000   \n",
       "\n",
       "       Number of Credit Problems  Months since last delinquent  Bankruptcies  \\\n",
       "count                 7500.00000                    3419.00000    7486.00000   \n",
       "mean                     0.17000                      34.69260       0.11715   \n",
       "std                      0.49860                      21.68881       0.34719   \n",
       "min                      0.00000                       0.00000       0.00000   \n",
       "25%                      0.00000                      16.00000       0.00000   \n",
       "50%                      0.00000                      32.00000       0.00000   \n",
       "75%                      0.00000                      50.00000       0.00000   \n",
       "max                      7.00000                     118.00000       4.00000   \n",
       "\n",
       "       Current Loan Amount  Current Credit Balance  Monthly Debt  \\\n",
       "count           7500.00000              7500.00000    7500.00000   \n",
       "mean        11873177.44507            289833.23520   18314.45413   \n",
       "std         31926122.97473            317871.38238   11926.76467   \n",
       "min            11242.00000                 0.00000       0.00000   \n",
       "25%           180169.00000            114256.50000   10067.50000   \n",
       "50%           309573.00000            209323.00000   16076.50000   \n",
       "75%           519882.00000            360406.25000   23818.00000   \n",
       "max         99999999.00000           6506797.00000  136679.00000   \n",
       "\n",
       "       Credit Score  Credit Default  \n",
       "count    5943.00000      7500.00000  \n",
       "mean     1151.08750         0.28173  \n",
       "std      1604.45142         0.44987  \n",
       "min       585.00000         0.00000  \n",
       "25%       711.00000         0.00000  \n",
       "50%       731.00000         0.00000  \n",
       "75%       743.00000         1.00000  \n",
       "max      7510.00000         1.00000  "
      ]
     },
     "execution_count": 97,
     "metadata": {},
     "output_type": "execute_result"
    }
   ],
   "source": [
    "pd.set_option('display.float_format', lambda x: '%.5f' % x)\n",
    "df_train.describe()"
   ]
  },
  {
   "cell_type": "markdown",
   "id": "df0dc9ba",
   "metadata": {},
   "source": [
    "- Maximum Open Credit обработать выбросы\n",
    "- Current Loan Amount обработать выбросы\n",
    "- Current Credit Balance - посмотреть выброс или нет.\n",
    "- Credit score -  посмотреть частоту значений, возможно верхняя граница это просто ошибка лишей цифры.\n",
    "- Current Credit Balance, Monthly Debt - посмотреть 0 значения."
   ]
  },
  {
   "cell_type": "markdown",
   "id": "ca014903",
   "metadata": {},
   "source": [
    "### Выбросы"
   ]
  },
  {
   "cell_type": "markdown",
   "id": "085629d2",
   "metadata": {},
   "source": [
    "#### Maximum Open Credit"
   ]
  },
  {
   "cell_type": "code",
   "execution_count": 98,
   "id": "45b3c103",
   "metadata": {},
   "outputs": [
    {
     "data": {
      "text/plain": [
       "<AxesSubplot:xlabel='Maximum Open Credit'>"
      ]
     },
     "execution_count": 98,
     "metadata": {},
     "output_type": "execute_result"
    },
    {
     "data": {
      "image/png": "[encoded data removed]",
      "text/plain": [
       "<Figure size 432x288 with 1 Axes>"
      ]
     },
     "metadata": {
      "needs_background": "light"
     },
     "output_type": "display_data"
    }
   ],
   "source": [
    "sns.boxplot(df_train['Maximum Open Credit'])"
   ]
  },
  {
   "cell_type": "markdown",
   "id": "e13c2c46",
   "metadata": {},
   "source": [
    "Значения совсем фантастические. Заменим все что выше q=0.975 медианой."
   ]
  },
  {
   "cell_type": "code",
   "execution_count": 99,
   "id": "4404cfb7",
   "metadata": {},
   "outputs": [],
   "source": [
    "max_open_credit = np.quantile(df_train['Maximum Open Credit'], q=0.975)\n",
    "max_open_credit_median = df_train['Maximum Open Credit'].median()\n",
    "df_train.loc[df_train['Maximum Open Credit'] > max_open_credit, 'Maximum Open Credit'] = max_open_credit_median"
   ]
  },
  {
   "cell_type": "code",
   "execution_count": 100,
   "id": "1e7a95c1",
   "metadata": {},
   "outputs": [
    {
     "data": {
      "text/plain": [
       "<AxesSubplot:xlabel='Maximum Open Credit', ylabel='Density'>"
      ]
     },
     "execution_count": 100,
     "metadata": {},
     "output_type": "execute_result"
    },
    {
     "data": {
      "image/png": "[encoded data removed]",
      "text/plain": [
       "<Figure size 432x288 with 1 Axes>"
      ]
     },
     "metadata": {
      "needs_background": "light"
     },
     "output_type": "display_data"
    }
   ],
   "source": [
    "sns.distplot(df_train['Maximum Open Credit'])"
   ]
  },
  {
   "cell_type": "code",
   "execution_count": 101,
   "id": "3f593509",
   "metadata": {},
   "outputs": [
    {
     "data": {
      "text/plain": [
       "count      7500.00000\n",
       "mean     570542.45013\n",
       "std      407320.84502\n",
       "min           0.00000\n",
       "25%      279229.50000\n",
       "50%      478153.50000\n",
       "75%      750233.00000\n",
       "max     2234056.00000\n",
       "Name: Maximum Open Credit, dtype: float64"
      ]
     },
     "execution_count": 101,
     "metadata": {},
     "output_type": "execute_result"
    }
   ],
   "source": [
    "df_train['Maximum Open Credit'].describe()"
   ]
  },
  {
   "cell_type": "markdown",
   "id": "50855467",
   "metadata": {},
   "source": [
    "#### Current Loan Amount"
   ]
  },
  {
   "cell_type": "code",
   "execution_count": 102,
   "id": "c7154ec4",
   "metadata": {},
   "outputs": [
    {
     "data": {
      "text/plain": [
       "99999999.00000    870\n",
       "218064.00000        6\n",
       "89298.00000         6\n",
       "216106.00000        5\n",
       "265826.00000        5\n",
       "                 ... \n",
       "104324.00000        1\n",
       "201080.00000        1\n",
       "427812.00000        1\n",
       "665544.00000        1\n",
       "191136.00000        1\n",
       "Name: Current Loan Amount, Length: 5386, dtype: int64"
      ]
     },
     "execution_count": 102,
     "metadata": {},
     "output_type": "execute_result"
    }
   ],
   "source": [
    "df_train['Current Loan Amount'].value_counts()"
   ]
  },
  {
   "cell_type": "code",
   "execution_count": 103,
   "id": "eb151d73",
   "metadata": {},
   "outputs": [
    {
     "data": {
      "text/plain": [
       "<AxesSubplot:>"
      ]
     },
     "execution_count": 103,
     "metadata": {},
     "output_type": "execute_result"
    },
    {
     "data": {
      "image/png": "[encoded data removed]",
      "text/plain": [
       "<Figure size 432x288 with 1 Axes>"
      ]
     },
     "metadata": {
      "needs_background": "light"
     },
     "output_type": "display_data"
    }
   ],
   "source": [
    "df_train['Current Loan Amount'].hist(bins=25)"
   ]
  },
  {
   "cell_type": "markdown",
   "id": "58bd8409",
   "metadata": {},
   "source": [
    "Я так подозреваю значение 99999999 это правое скопление, явно не являющееся нормальным. Заменим медианным значением, и создадим доп признак показывающий, что был выброс, т.к. выбросов очень много."
   ]
  },
  {
   "cell_type": "code",
   "execution_count": 104,
   "id": "f8cac4cc",
   "metadata": {},
   "outputs": [],
   "source": [
    "current_loan_amount_median = df_train['Current Loan Amount'].median()\n",
    "\n",
    "df_train[\"Current Loan Amount outlier\"] = 0\n",
    "df_train.loc[df_train['Current Loan Amount'] == 99999999, 'Current Loan Amount outlier'] = 1\n",
    "df_train.loc[df_train['Current Loan Amount'] == 99999999, 'Current Loan Amount'] = current_loan_amount_median"
   ]
  },
  {
   "cell_type": "code",
   "execution_count": 105,
   "id": "109ebcce",
   "metadata": {},
   "outputs": [
    {
     "data": {
      "text/plain": [
       "<AxesSubplot:xlabel='Current Loan Amount', ylabel='Density'>"
      ]
     },
     "execution_count": 105,
     "metadata": {},
     "output_type": "execute_result"
    },
    {
     "data": {
      "image/png": "[encoded data removed]",
      "text/plain": [
       "<Figure size 432x288 with 1 Axes>"
      ]
     },
     "metadata": {
      "needs_background": "light"
     },
     "output_type": "display_data"
    }
   ],
   "source": [
    "sns.distplot(df_train['Current Loan Amount'])"
   ]
  },
  {
   "cell_type": "code",
   "execution_count": 106,
   "id": "1123adeb",
   "metadata": {},
   "outputs": [
    {
     "data": {
      "text/plain": [
       "count     7500.00000\n",
       "mean    309088.02907\n",
       "std     171393.74013\n",
       "min      11242.00000\n",
       "25%     180169.00000\n",
       "50%     309567.50000\n",
       "75%     396929.50000\n",
       "max     789030.00000\n",
       "Name: Current Loan Amount, dtype: float64"
      ]
     },
     "execution_count": 106,
     "metadata": {},
     "output_type": "execute_result"
    }
   ],
   "source": [
    "df_train['Current Loan Amount'].describe()"
   ]
  },
  {
   "cell_type": "markdown",
   "id": "81cec0c3",
   "metadata": {},
   "source": [
    "#### Current Credit Balance"
   ]
  },
  {
   "cell_type": "markdown",
   "id": "f76653ba",
   "metadata": {},
   "source": [
    "Верхняя граница достаточно большая, но и не чтоб супербольшая. Хотя не известно, включается ли тут деньги лежащие на дебетовом счете в общую сумму. Можно посмотреть, например сколько счетов у людей, у которых кредитный счет больше 0.975 перцентиля, или же можем посмотреть людей у которых кредитный счет выше чем сумма кредита. "
   ]
  },
  {
   "cell_type": "code",
   "execution_count": 107,
   "id": "cec2f5aa",
   "metadata": {},
   "outputs": [
    {
     "data": {
      "text/plain": [
       "<AxesSubplot:xlabel='Current Credit Balance', ylabel='Density'>"
      ]
     },
     "execution_count": 107,
     "metadata": {},
     "output_type": "execute_result"
    },
    {
     "data": {
      "image/png": "[encoded data removed]",
      "text/plain": [
       "<Figure size 432x288 with 1 Axes>"
      ]
     },
     "metadata": {
      "needs_background": "light"
     },
     "output_type": "display_data"
    }
   ],
   "source": [
    "sns.distplot(df_train['Current Credit Balance'])"
   ]
  },
  {
   "cell_type": "code",
   "execution_count": 108,
   "id": "f77c1159",
   "metadata": {},
   "outputs": [],
   "source": [
    "high_credit_balance = np.quantile(df_train['Current Credit Balance'], q=0.975)\n",
    "credit_balance_median = df_train['Current Credit Balance'].median()\n",
    "\n",
    "df_train[\"Current Credit Balance outlier\"] = 0\n",
    "df_train.loc[df_train['Current Credit Balance'] > high_credit_balance, 'Current Credit Balance outlier'] = 1\n",
    "df_train.loc[df_train['Current Credit Balance'] > high_credit_balance, 'Current Credit Balance'] = credit_balance_median"
   ]
  },
  {
   "cell_type": "code",
   "execution_count": 109,
   "id": "64323457",
   "metadata": {},
   "outputs": [
    {
     "data": {
      "text/plain": [
       "<AxesSubplot:xlabel='Current Credit Balance', ylabel='Density'>"
      ]
     },
     "execution_count": 109,
     "metadata": {},
     "output_type": "execute_result"
    },
    {
     "data": {
      "image/png": "[encoded data removed]",
      "text/plain": [
       "<Figure size 432x288 with 1 Axes>"
      ]
     },
     "metadata": {
      "needs_background": "light"
     },
     "output_type": "display_data"
    }
   ],
   "source": [
    "sns.distplot(df_train['Current Credit Balance'])"
   ]
  },
  {
   "cell_type": "markdown",
   "id": "45e85f6c",
   "metadata": {},
   "source": [
    "#### Monthly Debt"
   ]
  },
  {
   "cell_type": "markdown",
   "id": "b566cde4",
   "metadata": {},
   "source": [
    "Теперь нужно посмотреть нули."
   ]
  },
  {
   "cell_type": "code",
   "execution_count": 110,
   "id": "f6ce49f0",
   "metadata": {},
   "outputs": [
    {
     "data": {
      "text/plain": [
       "<AxesSubplot:xlabel='Monthly Debt', ylabel='Density'>"
      ]
     },
     "execution_count": 110,
     "metadata": {},
     "output_type": "execute_result"
    },
    {
     "data": {
      "image/png": "[encoded data removed]",
      "text/plain": [
       "<Figure size 432x288 with 1 Axes>"
      ]
     },
     "metadata": {
      "needs_background": "light"
     },
     "output_type": "display_data"
    }
   ],
   "source": [
    "sns.distplot(df_train['Monthly Debt'])"
   ]
  },
  {
   "cell_type": "code",
   "execution_count": 111,
   "id": "cf06d47a",
   "metadata": {},
   "outputs": [
    {
     "data": {
      "text/html": [
       "<div>\n",
       "<style scoped>\n",
       "    .dataframe tbody tr th:only-of-type {\n",
       "        vertical-align: middle;\n",
       "    }\n",
       "\n",
       "    .dataframe tbody tr th {\n",
       "        vertical-align: top;\n",
       "    }\n",
       "\n",
       "    .dataframe thead th {\n",
       "        text-align: right;\n",
       "    }\n",
       "</style>\n",
       "<table border=\"1\" class=\"dataframe\">\n",
       "  <thead>\n",
       "    <tr style=\"text-align: right;\">\n",
       "      <th></th>\n",
       "      <th>Home Ownership</th>\n",
       "      <th>Annual Income</th>\n",
       "      <th>Years in current job</th>\n",
       "      <th>Tax Liens</th>\n",
       "      <th>Number of Open Accounts</th>\n",
       "      <th>Years of Credit History</th>\n",
       "      <th>Maximum Open Credit</th>\n",
       "      <th>Number of Credit Problems</th>\n",
       "      <th>Months since last delinquent</th>\n",
       "      <th>Bankruptcies</th>\n",
       "      <th>Purpose</th>\n",
       "      <th>Term</th>\n",
       "      <th>Current Loan Amount</th>\n",
       "      <th>Current Credit Balance</th>\n",
       "      <th>Monthly Debt</th>\n",
       "      <th>Credit Score</th>\n",
       "      <th>Credit Default</th>\n",
       "      <th>Current Loan Amount outlier</th>\n",
       "      <th>Current Credit Balance outlier</th>\n",
       "    </tr>\n",
       "  </thead>\n",
       "  <tbody>\n",
       "    <tr>\n",
       "      <th>780</th>\n",
       "      <td>Home Mortgage</td>\n",
       "      <td>867749.00000</td>\n",
       "      <td>10+ years</td>\n",
       "      <td>0.00000</td>\n",
       "      <td>2.00000</td>\n",
       "      <td>16.50000</td>\n",
       "      <td>0.00000</td>\n",
       "      <td>0.00000</td>\n",
       "      <td>66.00000</td>\n",
       "      <td>0.00000</td>\n",
       "      <td>home improvements</td>\n",
       "      <td>Short Term</td>\n",
       "      <td>75350.00000</td>\n",
       "      <td>0.00000</td>\n",
       "      <td>0.00000</td>\n",
       "      <td>704.00000</td>\n",
       "      <td>0</td>\n",
       "      <td>0</td>\n",
       "      <td>0</td>\n",
       "    </tr>\n",
       "    <tr>\n",
       "      <th>1643</th>\n",
       "      <td>Rent</td>\n",
       "      <td>NaN</td>\n",
       "      <td>9 years</td>\n",
       "      <td>0.00000</td>\n",
       "      <td>3.00000</td>\n",
       "      <td>10.00000</td>\n",
       "      <td>0.00000</td>\n",
       "      <td>0.00000</td>\n",
       "      <td>NaN</td>\n",
       "      <td>0.00000</td>\n",
       "      <td>other</td>\n",
       "      <td>Short Term</td>\n",
       "      <td>332156.00000</td>\n",
       "      <td>0.00000</td>\n",
       "      <td>0.00000</td>\n",
       "      <td>NaN</td>\n",
       "      <td>1</td>\n",
       "      <td>0</td>\n",
       "      <td>0</td>\n",
       "    </tr>\n",
       "    <tr>\n",
       "      <th>3219</th>\n",
       "      <td>Home Mortgage</td>\n",
       "      <td>NaN</td>\n",
       "      <td>10+ years</td>\n",
       "      <td>0.00000</td>\n",
       "      <td>3.00000</td>\n",
       "      <td>18.50000</td>\n",
       "      <td>0.00000</td>\n",
       "      <td>0.00000</td>\n",
       "      <td>NaN</td>\n",
       "      <td>0.00000</td>\n",
       "      <td>debt consolidation</td>\n",
       "      <td>Short Term</td>\n",
       "      <td>79200.00000</td>\n",
       "      <td>0.00000</td>\n",
       "      <td>0.00000</td>\n",
       "      <td>NaN</td>\n",
       "      <td>0</td>\n",
       "      <td>0</td>\n",
       "      <td>0</td>\n",
       "    </tr>\n",
       "    <tr>\n",
       "      <th>3496</th>\n",
       "      <td>Rent</td>\n",
       "      <td>233567.00000</td>\n",
       "      <td>1 year</td>\n",
       "      <td>0.00000</td>\n",
       "      <td>7.00000</td>\n",
       "      <td>11.70000</td>\n",
       "      <td>0.00000</td>\n",
       "      <td>0.00000</td>\n",
       "      <td>0.00000</td>\n",
       "      <td>NaN</td>\n",
       "      <td>educational expenses</td>\n",
       "      <td>Short Term</td>\n",
       "      <td>210166.00000</td>\n",
       "      <td>0.00000</td>\n",
       "      <td>0.00000</td>\n",
       "      <td>746.00000</td>\n",
       "      <td>0</td>\n",
       "      <td>0</td>\n",
       "      <td>0</td>\n",
       "    </tr>\n",
       "    <tr>\n",
       "      <th>4165</th>\n",
       "      <td>Rent</td>\n",
       "      <td>1254513.00000</td>\n",
       "      <td>10+ years</td>\n",
       "      <td>0.00000</td>\n",
       "      <td>6.00000</td>\n",
       "      <td>23.40000</td>\n",
       "      <td>0.00000</td>\n",
       "      <td>0.00000</td>\n",
       "      <td>60.00000</td>\n",
       "      <td>0.00000</td>\n",
       "      <td>take a trip</td>\n",
       "      <td>Short Term</td>\n",
       "      <td>309573.00000</td>\n",
       "      <td>0.00000</td>\n",
       "      <td>0.00000</td>\n",
       "      <td>748.00000</td>\n",
       "      <td>0</td>\n",
       "      <td>1</td>\n",
       "      <td>0</td>\n",
       "    </tr>\n",
       "    <tr>\n",
       "      <th>7124</th>\n",
       "      <td>Rent</td>\n",
       "      <td>NaN</td>\n",
       "      <td>1 year</td>\n",
       "      <td>0.00000</td>\n",
       "      <td>4.00000</td>\n",
       "      <td>11.00000</td>\n",
       "      <td>0.00000</td>\n",
       "      <td>0.00000</td>\n",
       "      <td>50.00000</td>\n",
       "      <td>0.00000</td>\n",
       "      <td>debt consolidation</td>\n",
       "      <td>Short Term</td>\n",
       "      <td>134024.00000</td>\n",
       "      <td>0.00000</td>\n",
       "      <td>0.00000</td>\n",
       "      <td>NaN</td>\n",
       "      <td>0</td>\n",
       "      <td>0</td>\n",
       "      <td>0</td>\n",
       "    </tr>\n",
       "  </tbody>\n",
       "</table>\n",
       "</div>"
      ],
      "text/plain": [
       "     Home Ownership  Annual Income Years in current job  Tax Liens  \\\n",
       "780   Home Mortgage   867749.00000            10+ years    0.00000   \n",
       "1643           Rent            NaN              9 years    0.00000   \n",
       "3219  Home Mortgage            NaN            10+ years    0.00000   \n",
       "3496           Rent   233567.00000               1 year    0.00000   \n",
       "4165           Rent  1254513.00000            10+ years    0.00000   \n",
       "7124           Rent            NaN               1 year    0.00000   \n",
       "\n",
       "      Number of Open Accounts  Years of Credit History  Maximum Open Credit  \\\n",
       "780                   2.00000                 16.50000              0.00000   \n",
       "1643                  3.00000                 10.00000              0.00000   \n",
       "3219                  3.00000                 18.50000              0.00000   \n",
       "3496                  7.00000                 11.70000              0.00000   \n",
       "4165                  6.00000                 23.40000              0.00000   \n",
       "7124                  4.00000                 11.00000              0.00000   \n",
       "\n",
       "      Number of Credit Problems  Months since last delinquent  Bankruptcies  \\\n",
       "780                     0.00000                      66.00000       0.00000   \n",
       "1643                    0.00000                           NaN       0.00000   \n",
       "3219                    0.00000                           NaN       0.00000   \n",
       "3496                    0.00000                       0.00000           NaN   \n",
       "4165                    0.00000                      60.00000       0.00000   \n",
       "7124                    0.00000                      50.00000       0.00000   \n",
       "\n",
       "                   Purpose        Term  Current Loan Amount  \\\n",
       "780      home improvements  Short Term          75350.00000   \n",
       "1643                 other  Short Term         332156.00000   \n",
       "3219    debt consolidation  Short Term          79200.00000   \n",
       "3496  educational expenses  Short Term         210166.00000   \n",
       "4165           take a trip  Short Term         309573.00000   \n",
       "7124    debt consolidation  Short Term         134024.00000   \n",
       "\n",
       "      Current Credit Balance  Monthly Debt  Credit Score  Credit Default  \\\n",
       "780                  0.00000       0.00000     704.00000               0   \n",
       "1643                 0.00000       0.00000           NaN               1   \n",
       "3219                 0.00000       0.00000           NaN               0   \n",
       "3496                 0.00000       0.00000     746.00000               0   \n",
       "4165                 0.00000       0.00000     748.00000               0   \n",
       "7124                 0.00000       0.00000           NaN               0   \n",
       "\n",
       "      Current Loan Amount outlier  Current Credit Balance outlier  \n",
       "780                             0                               0  \n",
       "1643                            0                               0  \n",
       "3219                            0                               0  \n",
       "3496                            0                               0  \n",
       "4165                            1                               0  \n",
       "7124                            0                               0  "
      ]
     },
     "execution_count": 111,
     "metadata": {},
     "output_type": "execute_result"
    }
   ],
   "source": [
    "df_train.loc[df_train['Monthly Debt'] == 0]"
   ]
  },
  {
   "cell_type": "code",
   "execution_count": 112,
   "id": "628e43e9",
   "metadata": {},
   "outputs": [
    {
     "data": {
      "text/plain": [
       "16076.5"
      ]
     },
     "execution_count": 112,
     "metadata": {},
     "output_type": "execute_result"
    }
   ],
   "source": [
    "df_train['Monthly Debt'].median()"
   ]
  },
  {
   "cell_type": "markdown",
   "id": "117b0847",
   "metadata": {},
   "source": [
    "Вообще ерунда, кредитная история много лет, максимальный кредит 0, при этом просрочка кредита у некторых имеется. В тоже время имеется взятый кредит, но выплата 0 в месяц. Мусорные наблюдения, которые стоит выкинуть.  Я посмотрел в тестовом дата сете, таких там нет, по этому тут просто выкинем. Если бы у нас был признак точного срока кредита, можно былобы расчитать, но мы имеем только (короткий\\длинный)."
   ]
  },
  {
   "cell_type": "code",
   "execution_count": 113,
   "id": "82972aed",
   "metadata": {},
   "outputs": [],
   "source": [
    "df_train = df_train.loc[df_train['Monthly Debt'] != 0]"
   ]
  },
  {
   "cell_type": "markdown",
   "id": "f580560e",
   "metadata": {},
   "source": [
    "Вообще нижняя планка меня удивляет, куча наблюдений, в которых короткое время кредита, при этом ежемесячный платеж  0.1% - 0.5%  от суммы. С другой стороны, конечно, если мне, грубо говоря, надо отдавать 100руб в месяц за кредит, то вероятность, что я отдам очень высока."
   ]
  },
  {
   "cell_type": "markdown",
   "id": "4ade0033",
   "metadata": {},
   "source": [
    "В общем делаем так, те что ниже нижней границы и при этом срок выплаты более 10 лет, мы считаем выбросами и подгоняем под значение, когда мы бы выплачивали весь кредит в течении  17 месяцев. (это среднее время выплаты всех кредитов)"
   ]
  },
  {
   "cell_type": "code",
   "execution_count": 114,
   "id": "43b9eb6e",
   "metadata": {},
   "outputs": [],
   "source": [
    "min_monthly_debt = np.quantile(df_train['Monthly Debt'], q=0.025)\n",
    "mean_monthly_debt_months = df_train['Current Loan Amount'].mean() / df_train['Monthly Debt'].mean()\n",
    "\n",
    "df_train.loc[(df_train['Monthly Debt'] < min_monthly_debt) & ((df_train['Current Loan Amount'] / df_train['Monthly Debt']) > 120), 'Monthly Debt'] = df_train['Current Loan Amount'] / mean_monthly_debt_months"
   ]
  },
  {
   "cell_type": "markdown",
   "id": "eb30f96c",
   "metadata": {},
   "source": [
    "#### Credit Score"
   ]
  },
  {
   "cell_type": "code",
   "execution_count": 115,
   "id": "0925ab05",
   "metadata": {},
   "outputs": [
    {
     "data": {
      "text/plain": [
       "<AxesSubplot:>"
      ]
     },
     "execution_count": 115,
     "metadata": {},
     "output_type": "execute_result"
    },
    {
     "data": {
      "image/png": "[encoded data removed]",
      "text/plain": [
       "<Figure size 432x288 with 1 Axes>"
      ]
     },
     "metadata": {
      "needs_background": "light"
     },
     "output_type": "display_data"
    }
   ],
   "source": [
    "df_train[\"Credit Score\"].hist(bins=25)"
   ]
  },
  {
   "cell_type": "code",
   "execution_count": 116,
   "id": "cce33ee5",
   "metadata": {},
   "outputs": [
    {
     "data": {
      "text/plain": [
       "740.00000     169\n",
       "747.00000     168\n",
       "748.00000     156\n",
       "745.00000     152\n",
       "742.00000     151\n",
       "             ... \n",
       "629.00000       1\n",
       "606.00000       1\n",
       "6830.00000      1\n",
       "6670.00000      1\n",
       "620.00000       1\n",
       "Name: Credit Score, Length: 268, dtype: int64"
      ]
     },
     "execution_count": 116,
     "metadata": {},
     "output_type": "execute_result"
    }
   ],
   "source": [
    "df_train[\"Credit Score\"].value_counts()"
   ]
  },
  {
   "cell_type": "markdown",
   "id": "f95e24cd",
   "metadata": {},
   "source": [
    "Да, сделаем обрезание крайней цифры. =)"
   ]
  },
  {
   "cell_type": "code",
   "execution_count": 117,
   "id": "7ffe3efe",
   "metadata": {},
   "outputs": [],
   "source": [
    "df_train.loc[df_train['Credit Score'] > 2000, 'Credit Score'] //= 10"
   ]
  },
  {
   "cell_type": "markdown",
   "id": "b3bc198a",
   "metadata": {},
   "source": [
    "### Пропуски"
   ]
  },
  {
   "cell_type": "markdown",
   "id": "6d555f38",
   "metadata": {},
   "source": [
    "#### Annual Income "
   ]
  },
  {
   "cell_type": "markdown",
   "id": "6ab53bb0",
   "metadata": {},
   "source": [
    "Подумаем, чем можно заполнить пропуски. Значений довольно много, просто какойто средней или медианой заполнять получится перекос. Либо делаем так и создаем признак, и отмечаем, что было пропущено значение, либо выбрать метод заполнения по хитрее. "
   ]
  },
  {
   "cell_type": "code",
   "execution_count": null,
   "id": "2ad39578",
   "metadata": {},
   "outputs": [],
   "source": []
  },
  {
   "cell_type": "code",
   "execution_count": 118,
   "id": "47653e22",
   "metadata": {},
   "outputs": [
    {
     "data": {
      "text/plain": [
       "<AxesSubplot:xlabel='Annual Income', ylabel='Density'>"
      ]
     },
     "execution_count": 118,
     "metadata": {},
     "output_type": "execute_result"
    },
    {
     "data": {
      "image/png": "[encoded data removed]",
      "text/plain": [
       "<Figure size 432x288 with 1 Axes>"
      ]
     },
     "metadata": {
      "needs_background": "light"
     },
     "output_type": "display_data"
    }
   ],
   "source": [
    "sns.distplot(df_train[\"Annual Income\"])"
   ]
  },
  {
   "cell_type": "code",
   "execution_count": null,
   "id": "9b17f025",
   "metadata": {},
   "outputs": [],
   "source": []
  },
  {
   "cell_type": "markdown",
   "id": "7b950f69",
   "metadata": {},
   "source": [
    "Можно посмотреть, как разделяется среднее по стажу работы."
   ]
  },
  {
   "cell_type": "code",
   "execution_count": 119,
   "id": "b498a0c9",
   "metadata": {},
   "outputs": [
    {
     "data": {
      "text/plain": [
       "Years in current job\n",
       "1 year      1271418.78841\n",
       "10+ years   1511082.12439\n",
       "2 years     1324516.68157\n",
       "3 years     1396487.28163\n",
       "4 years     1371733.44865\n",
       "5 years     1330785.57323\n",
       "6 years     1311730.11966\n",
       "7 years     1341805.04545\n",
       "8 years     1390800.27143\n",
       "9 years     1444429.35979\n",
       "< 1 year    1204723.05369\n",
       "Name: Annual Income, dtype: float64"
      ]
     },
     "execution_count": 119,
     "metadata": {},
     "output_type": "execute_result"
    }
   ],
   "source": [
    "df_train.groupby(by=\"Years in current job\")[\"Annual Income\"].mean()"
   ]
  },
  {
   "cell_type": "markdown",
   "id": "bf1e41a6",
   "metadata": {},
   "source": [
    "Не особо сильно, но явно виден рост зп со стажем, что стоило ожидать.\n",
    "В теории, ежемесячный платеж должен быть завязан на ЗП, можно посмотреть по матрице корреляции данный признак."
   ]
  },
  {
   "cell_type": "code",
   "execution_count": 120,
   "id": "89310eb4",
   "metadata": {},
   "outputs": [
    {
     "data": {
      "text/plain": [
       "Annual Income                     1.00000\n",
       "Tax Liens                         0.06622\n",
       "Number of Open Accounts           0.18824\n",
       "Years of Credit History           0.18637\n",
       "Maximum Open Credit               0.29853\n",
       "Number of Credit Problems        -0.01553\n",
       "Months since last delinquent     -0.10232\n",
       "Bankruptcies                     -0.06692\n",
       "Current Loan Amount               0.41775\n",
       "Current Credit Balance            0.30812\n",
       "Monthly Debt                      0.58951\n",
       "Credit Score                      0.02876\n",
       "Credit Default                   -0.10161\n",
       "Current Loan Amount outlier       0.03002\n",
       "Current Credit Balance outlier    0.23631\n",
       "Name: Annual Income, dtype: float64"
      ]
     },
     "execution_count": 120,
     "metadata": {},
     "output_type": "execute_result"
    }
   ],
   "source": [
    "corr_matrix = df_train.corr()\n",
    "corr_matrix[\"Annual Income\"]"
   ]
  },
  {
   "cell_type": "markdown",
   "id": "2114646b",
   "metadata": {},
   "source": [
    "Я был прав, самая большая корреляция с Ежемесячным платежом. Можно например узнать соотношение средней ЗП по всем к средней Ежемесячных платежей, далее предсказывать пропущенные ЗП домножая на коэффициент. Ну и всеже стоит их пометить."
   ]
  },
  {
   "cell_type": "code",
   "execution_count": 121,
   "id": "f68803bb",
   "metadata": {},
   "outputs": [],
   "source": [
    "annual_incom_coef = df_train[\"Annual Income\"].mean() / df_train['Monthly Debt'].mean()"
   ]
  },
  {
   "cell_type": "code",
   "execution_count": 122,
   "id": "8ea496c4",
   "metadata": {},
   "outputs": [],
   "source": [
    "df_train[\"Annual Income NAN\"] = 0\n",
    "df_train.loc[df_train[\"Annual Income\"].isnull(), \"Annual Income NAN\"] = 1"
   ]
  },
  {
   "cell_type": "code",
   "execution_count": 123,
   "id": "b2d2bf1c",
   "metadata": {},
   "outputs": [],
   "source": [
    "df_train.loc[df_train[\"Annual Income\"].isnull(), \"Annual Income\"] = df_train[\"Monthly Debt\"] * annual_incom_coef"
   ]
  },
  {
   "cell_type": "code",
   "execution_count": 124,
   "id": "c7f677b0",
   "metadata": {},
   "outputs": [
    {
     "data": {
      "text/plain": [
       "count      1554.00000\n",
       "mean    1375401.60450\n",
       "std      882701.29697\n",
       "min       55624.45356\n",
       "25%      765795.27882\n",
       "50%     1197806.95001\n",
       "75%     1762756.63887\n",
       "max     7095216.27388\n",
       "Name: Annual Income, dtype: float64"
      ]
     },
     "execution_count": 124,
     "metadata": {},
     "output_type": "execute_result"
    }
   ],
   "source": [
    "df_train.loc[df_train[\"Annual Income NAN\"] == 1, \"Annual Income\"].describe()"
   ]
  },
  {
   "cell_type": "code",
   "execution_count": 125,
   "id": "c6205dc5",
   "metadata": {},
   "outputs": [
    {
     "data": {
      "text/plain": [
       "<AxesSubplot:xlabel='Annual Income', ylabel='Density'>"
      ]
     },
     "execution_count": 125,
     "metadata": {},
     "output_type": "execute_result"
    },
    {
     "data": {
      "image/png": "[encoded data removed]",
      "text/plain": [
       "<Figure size 432x288 with 1 Axes>"
      ]
     },
     "metadata": {
      "needs_background": "light"
     },
     "output_type": "display_data"
    }
   ],
   "source": [
    "sns.distplot(df_train[\"Annual Income\"])"
   ]
  },
  {
   "cell_type": "markdown",
   "id": "11cbb0e9",
   "metadata": {},
   "source": [
    "Почти не отличается от средней по этому признаку, однако распределение значений более честное, на мой взгляд."
   ]
  },
  {
   "cell_type": "markdown",
   "id": "d25074fe",
   "metadata": {},
   "source": [
    "#### Years in current job"
   ]
  },
  {
   "cell_type": "markdown",
   "id": "61a53e49",
   "metadata": {},
   "source": [
    "Ну тут значений не много, заменим модой"
   ]
  },
  {
   "cell_type": "code",
   "execution_count": 126,
   "id": "a1aea119",
   "metadata": {},
   "outputs": [],
   "source": [
    "current_job_mode = df_train['Years in current job'].mode()[0]"
   ]
  },
  {
   "cell_type": "code",
   "execution_count": 127,
   "id": "935ddcd8",
   "metadata": {},
   "outputs": [],
   "source": [
    "df_train.loc[df_train['Years in current job'].isnull(), 'Years in current job'] = current_job_mode"
   ]
  },
  {
   "cell_type": "markdown",
   "id": "b8981bf1",
   "metadata": {},
   "source": [
    "#### Months since last delinquent"
   ]
  },
  {
   "cell_type": "markdown",
   "id": "6a12ca99",
   "metadata": {},
   "source": [
    "Признак не простой, вероятнее всего пропущенные значения, это клиенты которые никогда не просрачивали кредит, и важно это правильно объяснить модели т.к. это весомый довод выдать кредит. Мы не можем написать 0, т.к. это значит, что просрока была в это м месяце. Нужно большое число. Можно взять максимальное число из признака и также создать доп признак."
   ]
  },
  {
   "cell_type": "code",
   "execution_count": 128,
   "id": "dd1e3908",
   "metadata": {},
   "outputs": [
    {
     "data": {
      "text/plain": [
       "0    2950\n",
       "1    1129\n",
       "Name: Credit Default, dtype: int64"
      ]
     },
     "execution_count": 128,
     "metadata": {},
     "output_type": "execute_result"
    }
   ],
   "source": [
    "df_train.loc[df_train['Months since last delinquent'].isnull()]['Credit Default'].value_counts()"
   ]
  },
  {
   "cell_type": "markdown",
   "id": "3e549507",
   "metadata": {},
   "source": [
    "Хотя даже такие ребята, которые не имели просрочки, имеют соотношение целевого признака 1к3. Но делать нечего, надо както заполнять."
   ]
  },
  {
   "cell_type": "code",
   "execution_count": 129,
   "id": "61cd93ac",
   "metadata": {},
   "outputs": [
    {
     "data": {
      "text/plain": [
       "<AxesSubplot:>"
      ]
     },
     "execution_count": 129,
     "metadata": {},
     "output_type": "execute_result"
    },
    {
     "data": {
      "image/png": "[encoded data removed]",
      "text/plain": [
       "<Figure size 432x288 with 1 Axes>"
      ]
     },
     "metadata": {
      "needs_background": "light"
     },
     "output_type": "display_data"
    }
   ],
   "source": [
    "df_train['Months since last delinquent'].hist(bins=50)"
   ]
  },
  {
   "cell_type": "code",
   "execution_count": 130,
   "id": "a65f1e07",
   "metadata": {},
   "outputs": [],
   "source": [
    "df_train['Delinquent'] = 1\n",
    "df_train.loc[df_train['Months since last delinquent'].isnull(), 'Delinquent'] = 0\n",
    "\n",
    "max_delinquent = df_train['Months since last delinquent'].max()\n",
    "\n",
    "df_train.loc[df_train['Months since last delinquent'].isnull(), 'Months since last delinquent'] = max_delinquent\n",
    "#df_train.loc[df_train['Months since last delinquent'].isnull(), 'Months since last delinquent'] = df_train['Years of Credit History'] * 12"
   ]
  },
  {
   "cell_type": "code",
   "execution_count": 131,
   "id": "a1017001",
   "metadata": {},
   "outputs": [
    {
     "data": {
      "text/plain": [
       "<AxesSubplot:>"
      ]
     },
     "execution_count": 131,
     "metadata": {},
     "output_type": "execute_result"
    },
    {
     "data": {
      "image/png": "[encoded data removed]",
      "text/plain": [
       "<Figure size 432x288 with 1 Axes>"
      ]
     },
     "metadata": {
      "needs_background": "light"
     },
     "output_type": "display_data"
    }
   ],
   "source": [
    "df_train['Months since last delinquent'].hist(bins=50)"
   ]
  },
  {
   "cell_type": "markdown",
   "id": "ee0791ce",
   "metadata": {},
   "source": [
    "Рисковая практика, получился целый доп кластер. Попробуем пока оставить. С одной стороны информация то полезная, когда был послений прокол.. И доп признак, Были просрочки \\ Не было. \n"
   ]
  },
  {
   "cell_type": "markdown",
   "id": "e49aca77",
   "metadata": {},
   "source": [
    "#### Bankruptcies"
   ]
  },
  {
   "cell_type": "markdown",
   "id": "4307a3f7",
   "metadata": {},
   "source": [
    "Тут пропусков не много, можно заменить медианой."
   ]
  },
  {
   "cell_type": "code",
   "execution_count": 132,
   "id": "9bf5bb1a",
   "metadata": {},
   "outputs": [],
   "source": [
    "bankruptcies_median = df_train['Bankruptcies'].median()"
   ]
  },
  {
   "cell_type": "code",
   "execution_count": 133,
   "id": "4dc9c35b",
   "metadata": {},
   "outputs": [],
   "source": [
    "df_train.loc[df_train['Bankruptcies'].isnull(), 'Bankruptcies'] = bankruptcies_median"
   ]
  },
  {
   "cell_type": "markdown",
   "id": "9ca6bd60",
   "metadata": {},
   "source": [
    "#### Credit Score"
   ]
  },
  {
   "cell_type": "code",
   "execution_count": 134,
   "id": "88f51259",
   "metadata": {},
   "outputs": [
    {
     "data": {
      "text/plain": [
       "Annual Income                     0.02876\n",
       "Tax Liens                        -0.01646\n",
       "Number of Open Accounts          -0.03465\n",
       "Years of Credit History           0.06838\n",
       "Maximum Open Credit               0.11219\n",
       "Number of Credit Problems        -0.05502\n",
       "Months since last delinquent      0.08339\n",
       "Bankruptcies                     -0.04135\n",
       "Current Loan Amount              -0.20503\n",
       "Current Credit Balance           -0.02123\n",
       "Monthly Debt                     -0.07009\n",
       "Credit Score                      1.00000\n",
       "Credit Default                   -0.20707\n",
       "Current Loan Amount outlier       0.14991\n",
       "Current Credit Balance outlier    0.01567\n",
       "Annual Income NAN                     NaN\n",
       "Delinquent                       -0.09238\n",
       "Name: Credit Score, dtype: float64"
      ]
     },
     "execution_count": 134,
     "metadata": {},
     "output_type": "execute_result"
    }
   ],
   "source": [
    "corr_matrix = df_train.corr()\n",
    "corr_matrix[\"Credit Score\"]"
   ]
  },
  {
   "cell_type": "markdown",
   "id": "0d47521d",
   "metadata": {},
   "source": [
    "Для более точного предсказания хорошо бы знать формулу расчета рейтинга, т.к. корреляции слабые, для нормальних предсказаний, заполним медианой и пометим."
   ]
  },
  {
   "cell_type": "code",
   "execution_count": 135,
   "id": "fa3651b0",
   "metadata": {},
   "outputs": [],
   "source": [
    "credit_score_median = df_train['Credit Score'].median()"
   ]
  },
  {
   "cell_type": "code",
   "execution_count": 136,
   "id": "ce6a830e",
   "metadata": {},
   "outputs": [],
   "source": [
    "df_train['Credit Score NAN'] = 0\n",
    "df_train.loc[df_train['Credit Score'].isnull(), 'Credit Score NAN'] = 1\n",
    "df_train.loc[df_train['Credit Score'].isnull(), 'Credit Score'] = credit_score_median"
   ]
  },
  {
   "cell_type": "code",
   "execution_count": 137,
   "id": "5cb3fbbb",
   "metadata": {
    "scrolled": true
   },
   "outputs": [
    {
     "name": "stdout",
     "output_type": "stream",
     "text": [
      "<class 'pandas.core.frame.DataFrame'>\n",
      "Int64Index: 7494 entries, 0 to 7499\n",
      "Data columns (total 22 columns):\n",
      " #   Column                          Non-Null Count  Dtype  \n",
      "---  ------                          --------------  -----  \n",
      " 0   Home Ownership                  7494 non-null   object \n",
      " 1   Annual Income                   7494 non-null   float64\n",
      " 2   Years in current job            7494 non-null   object \n",
      " 3   Tax Liens                       7494 non-null   float64\n",
      " 4   Number of Open Accounts         7494 non-null   float64\n",
      " 5   Years of Credit History         7494 non-null   float64\n",
      " 6   Maximum Open Credit             7494 non-null   float64\n",
      " 7   Number of Credit Problems       7494 non-null   float64\n",
      " 8   Months since last delinquent    7494 non-null   float64\n",
      " 9   Bankruptcies                    7494 non-null   float64\n",
      " 10  Purpose                         7494 non-null   object \n",
      " 11  Term                            7494 non-null   object \n",
      " 12  Current Loan Amount             7494 non-null   float64\n",
      " 13  Current Credit Balance          7494 non-null   float64\n",
      " 14  Monthly Debt                    7494 non-null   float64\n",
      " 15  Credit Score                    7494 non-null   float64\n",
      " 16  Credit Default                  7494 non-null   int64  \n",
      " 17  Current Loan Amount outlier     7494 non-null   int64  \n",
      " 18  Current Credit Balance outlier  7494 non-null   int64  \n",
      " 19  Annual Income NAN               7494 non-null   int64  \n",
      " 20  Delinquent                      7494 non-null   int64  \n",
      " 21  Credit Score NAN                7494 non-null   int64  \n",
      "dtypes: float64(12), int64(6), object(4)\n",
      "memory usage: 1.6+ MB\n"
     ]
    }
   ],
   "source": [
    "df_train.info()"
   ]
  },
  {
   "cell_type": "code",
   "execution_count": 138,
   "id": "5fb5c0de",
   "metadata": {},
   "outputs": [],
   "source": [
    "def analyse_numeric_mean_stat(df, target, alpha=0.05):\n",
    "    # df - датасет\n",
    "    # target - целевая переменная\n",
    "    # alpha - уровень значимости\n",
    "    # для бинарного таргета\n",
    "    \n",
    "    confirmed = {}\n",
    "    rejected = {}\n",
    "    df = df.select_dtypes(include='number')\n",
    "    colslist = df.columns.to_list()\n",
    "    colslist.remove(target)\n",
    "    \n",
    "    for i in colslist:\n",
    "        print(f'Проверяем признак {i}')\n",
    "        print('Нулевая гипотеза: средние значения в выборках по классам целевой переменной равны')\n",
    "        print('Альтернативная гипотеза: средние значения в выборках по классам целевой переменной различаются')\n",
    "        print(f'Распределение признака {i} по классам')\n",
    "        spread = df[[i, target]]\n",
    "        spread_1 = spread.loc[spread[target] == 1, i]\n",
    "        spread_0 = spread.loc[spread[target] == 0, i]\n",
    "        sns.kdeplot(spread_0, shade=True, label = 'Target 0', color='g')\n",
    "        sns.kdeplot(spread_1, shade=True, label = 'Target 1', color='r')\n",
    "        plt.xlabel(i)\n",
    "        plt.title(f'{i} grouped by target variable')\n",
    "        plt.show()\n",
    "        print('Проверка на нормальность: ')\n",
    "        shap = shapiro(spread[i])\n",
    "        if shap[1] < alpha:\n",
    "            print(f'По полученному значению p-value, которое меньше {alpha}, можем заключить, что гипотеза о \"нормальности\" отвергается.')\n",
    "            print(f'Мы не можем воспользоваться критерием Стьюдента для проверки гипотезы о равности мат. ожиданий признака {i}, воспользуемся непараметрическим аналогом, критерием Манна-Уитни')\n",
    "            man = mannwhitneyu(spread_1, spread_0)\n",
    "            if man[1] < alpha:\n",
    "                print(f'Согласно значению p-value = {man[1]}, гипотеза о равности мат. ожиданий ОТВЕРГАЕТСЯ, но стоит ради дополнительной проверки обратиться к доверительным интервалам')\n",
    "                plt.figure(figsize=(8, 5))\n",
    "\n",
    "                sns.pointplot(x=target, y=i, data=spread, capsize=.1)\n",
    "\n",
    "                plt.title(f'Confidence intervals (95 %) for {i}')\n",
    "                plt.show()\n",
    "                rejected[i] = man[1]\n",
    "            else:\n",
    "                print(f'Согласно значению p-value = {man[1]}, гипотеза о равности мат. ожиданий ПОДТВЕРЖДАЕТСЯ, но стоит ради дополнительной проверки обратиться к доверительным интервалам')\n",
    "                plt.figure(figsize=(8, 5))\n",
    "\n",
    "                sns.pointplot(x=target, y=i, data=spread, capsize=.1)\n",
    "\n",
    "                plt.title(f'Confidence intervals (95 %) for {i}')\n",
    "                plt.show()\n",
    "                confirmed[i] = man[1]\n",
    "        else:\n",
    "            print(f'p-value, больше {alpha}, похоже, что гипотеза о \"нормальности\" подтверждается.')\n",
    "            print(f'Мы можем воспользоваться критерием Стьюдента для проверки гипотезы о равности мат. ожиданий признака {i}')\n",
    "            t = ttest_ind(spread_1, spread_0)\n",
    "            if t[1] < alpha:\n",
    "                print(f'Согласно значению p-value = {t[1]}, гипотеза о равности мат. ожиданий ОТВЕРГАЕТСЯ, но стоит ради дополнительной проверки обратиться к доверительным интервалам')\n",
    "                plt.figure(figsize=(8, 5))\n",
    "\n",
    "                sns.pointplot(x=target, y=i, data=spread, capsize=.1)\n",
    "\n",
    "                plt.title(f'Confidence intervals (95 %) for {i}')\n",
    "                plt.show()\n",
    "                rejected[i] = t[1]\n",
    "            else:\n",
    "                print(f'Согласно значению p-value = {t[1]}, гипотеза о равности мат. ожиданий ПОДТВЕРЖДАЕТСЯ, но стоит ради дополнительной проверки обратиться к доверительным интервалам')\n",
    "                plt.figure(figsize=(8, 5))\n",
    "\n",
    "                sns.pointplot(x=target, y=i, data=spread, capsize=.1)\n",
    "\n",
    "                plt.title(f'Confidence intervals (95 %) for {i}')\n",
    "                plt.show()\n",
    "                confirmed[i] = t[1]\n",
    "    print('ЗАКЛЮЧЕНИЕ')\n",
    "    print('Мы подтвердили, что в этих признаках разницы в мат ожиданиях нет.')\n",
    "    for i in confirmed:\n",
    "        print(f'{i} : {confirmed[i]}')\n",
    "    print('*'*50)\n",
    "    print('Мы опровергли, что в этих признаках разницы в мат ожиданиях нет. Стоит обратить на них пристальное внимание')\n",
    "    for i in rejected:\n",
    "        print(f'{i} : {rejected[i]}')\n",
    "    "
   ]
  },
  {
   "cell_type": "code",
   "execution_count": null,
   "id": "474e5752",
   "metadata": {},
   "outputs": [],
   "source": []
  },
  {
   "cell_type": "raw",
   "id": "e6111c13",
   "metadata": {
    "scrolled": false
   },
   "source": [
    "analyse_numeric_mean_stat(df_train,'Credit Default', alpha=0.05)"
   ]
  },
  {
   "cell_type": "code",
   "execution_count": null,
   "id": "9fa26e57",
   "metadata": {},
   "outputs": [],
   "source": []
  },
  {
   "cell_type": "code",
   "execution_count": null,
   "id": "e79e0c2d",
   "metadata": {},
   "outputs": [],
   "source": []
  },
  {
   "cell_type": "code",
   "execution_count": null,
   "id": "074e53c8",
   "metadata": {},
   "outputs": [],
   "source": []
  },
  {
   "cell_type": "code",
   "execution_count": null,
   "id": "73a951ca",
   "metadata": {},
   "outputs": [],
   "source": []
  },
  {
   "cell_type": "code",
   "execution_count": null,
   "id": "88c9a577",
   "metadata": {},
   "outputs": [],
   "source": []
  },
  {
   "cell_type": "code",
   "execution_count": null,
   "id": "6df22a53",
   "metadata": {},
   "outputs": [],
   "source": []
  },
  {
   "cell_type": "code",
   "execution_count": null,
   "id": "27c063ac",
   "metadata": {},
   "outputs": [],
   "source": []
  },
  {
   "cell_type": "code",
   "execution_count": 139,
   "id": "c03e9091",
   "metadata": {},
   "outputs": [],
   "source": [
    "df_train.loc[df_train['Number of Credit Problems'].isin([6,7]), 'Number of Credit Problems'] = 0\n",
    "df_train.loc[df_train['Number of Credit Problems'] == 5 , 'Number of Credit Problems'] = 4\n",
    "df_train.loc[df_train['Number of Credit Problems'] == 3 , 'Number of Credit Problems'] = 2\n",
    "df_train.loc[df_train['Number of Credit Problems'] == 1 , 'Number of Credit Problems'] = 0"
   ]
  },
  {
   "cell_type": "code",
   "execution_count": 140,
   "id": "bed19cbe",
   "metadata": {},
   "outputs": [
    {
     "data": {
      "image/png": "[encoded data removed]",
      "text/plain": [
       "<Figure size 720x576 with 1 Axes>"
      ]
     },
     "metadata": {
      "needs_background": "light"
     },
     "output_type": "display_data"
    }
   ],
   "source": [
    "plt.figure(figsize=(10, 8))\n",
    "\n",
    "sns.countplot(x=\"Number of Credit Problems\", hue='Credit Default', data=df_train)\n",
    "plt.title('PAY_1 grouped by target variable')\n",
    "plt.legend(title='Target', loc='upper right')\n",
    "\n",
    "plt.show()"
   ]
  },
  {
   "cell_type": "code",
   "execution_count": 141,
   "id": "cafc0f30",
   "metadata": {},
   "outputs": [],
   "source": [
    "pay1_and_target_s = df_train.loc[df_train['Number of Credit Problems'].isin([2,4]), ['Bankruptcies', 'Number of Credit Problems', 'Credit Default']]"
   ]
  },
  {
   "cell_type": "code",
   "execution_count": 142,
   "id": "cbe339f1",
   "metadata": {},
   "outputs": [
    {
     "data": {
      "text/html": [
       "<div>\n",
       "<style scoped>\n",
       "    .dataframe tbody tr th:only-of-type {\n",
       "        vertical-align: middle;\n",
       "    }\n",
       "\n",
       "    .dataframe tbody tr th {\n",
       "        vertical-align: top;\n",
       "    }\n",
       "\n",
       "    .dataframe thead th {\n",
       "        text-align: right;\n",
       "    }\n",
       "</style>\n",
       "<table border=\"1\" class=\"dataframe\">\n",
       "  <thead>\n",
       "    <tr style=\"text-align: right;\">\n",
       "      <th>Credit Default</th>\n",
       "      <th>0</th>\n",
       "      <th>1</th>\n",
       "    </tr>\n",
       "    <tr>\n",
       "      <th>Number of Credit Problems</th>\n",
       "      <th></th>\n",
       "      <th></th>\n",
       "    </tr>\n",
       "  </thead>\n",
       "  <tbody>\n",
       "    <tr>\n",
       "      <th>2.00000</th>\n",
       "      <td>81</td>\n",
       "      <td>47</td>\n",
       "    </tr>\n",
       "    <tr>\n",
       "      <th>4.00000</th>\n",
       "      <td>6</td>\n",
       "      <td>10</td>\n",
       "    </tr>\n",
       "  </tbody>\n",
       "</table>\n",
       "</div>"
      ],
      "text/plain": [
       "Credit Default              0   1\n",
       "Number of Credit Problems        \n",
       "2.00000                    81  47\n",
       "4.00000                     6  10"
      ]
     },
     "execution_count": 142,
     "metadata": {},
     "output_type": "execute_result"
    }
   ],
   "source": [
    "table = pay1_and_target_s.pivot_table(values='Bankruptcies', index='Number of Credit Problems', columns='Credit Default', aggfunc='count')\n",
    "table"
   ]
  },
  {
   "cell_type": "code",
   "execution_count": 143,
   "id": "18a03d1d",
   "metadata": {},
   "outputs": [
    {
     "data": {
      "text/plain": [
       "0.00000    7350\n",
       "2.00000     128\n",
       "4.00000      16\n",
       "Name: Number of Credit Problems, dtype: int64"
      ]
     },
     "execution_count": 143,
     "metadata": {},
     "output_type": "execute_result"
    }
   ],
   "source": [
    "df_train['Number of Credit Problems'].value_counts()"
   ]
  },
  {
   "cell_type": "code",
   "execution_count": 144,
   "id": "b548cde0",
   "metadata": {},
   "outputs": [
    {
     "data": {
      "text/plain": [
       "0.046793083022117106"
      ]
     },
     "execution_count": 144,
     "metadata": {},
     "output_type": "execute_result"
    }
   ],
   "source": [
    "chi2, p, dof, expected = chi2_contingency(table, correction=False)\n",
    "p"
   ]
  },
  {
   "cell_type": "code",
   "execution_count": null,
   "id": "edf2d1dd",
   "metadata": {},
   "outputs": [],
   "source": []
  },
  {
   "cell_type": "code",
   "execution_count": null,
   "id": "492b67a3",
   "metadata": {},
   "outputs": [],
   "source": []
  },
  {
   "cell_type": "code",
   "execution_count": 145,
   "id": "743fd7ce",
   "metadata": {},
   "outputs": [
    {
     "data": {
      "text/plain": [
       "<AxesSubplot:xlabel='Annual Income', ylabel='Density'>"
      ]
     },
     "execution_count": 145,
     "metadata": {},
     "output_type": "execute_result"
    },
    {
     "data": {
      "image/png": "[encoded data removed]",
      "text/plain": [
       "<Figure size 432x288 with 1 Axes>"
      ]
     },
     "metadata": {
      "needs_background": "light"
     },
     "output_type": "display_data"
    }
   ],
   "source": [
    "incom_spread = df_train[['Home Ownership', 'Annual Income']]\n",
    "incom_have_mortgage = incom_spread.loc[incom_spread['Home Ownership'] == 'Have Mortgage', 'Annual Income']\n",
    "incom_rent = incom_spread.loc[incom_spread['Home Ownership'] == 'Rent', 'Annual Income']\n",
    "incom_home_mortgage = incom_spread.loc[incom_spread['Home Ownership'] == 'Home Mortgage', 'Annual Income']\n",
    "incom_own_home = incom_spread.loc[incom_spread['Home Ownership'] == 'Own Home', 'Annual Income']\n",
    "sns.kdeplot(incom_have_mortgage,  shade=True,  color='g')\n",
    "sns.kdeplot(incom_rent,  shade=True,  color='r')\n",
    "sns.kdeplot(incom_home_mortgage,  shade=True,  color='b')\n",
    "sns.kdeplot(incom_own_home,   shade=True, color='y')"
   ]
  },
  {
   "cell_type": "code",
   "execution_count": 146,
   "id": "5aed458c",
   "metadata": {},
   "outputs": [
    {
     "data": {
      "text/plain": [
       "Home Ownership\n",
       "Have Mortgage   1302719.04224\n",
       "Home Mortgage   1562367.52608\n",
       "Own Home        1187721.18750\n",
       "Rent            1185059.39477\n",
       "Name: Annual Income, dtype: float64"
      ]
     },
     "execution_count": 146,
     "metadata": {},
     "output_type": "execute_result"
    }
   ],
   "source": [
    "df_train.groupby(by='Home Ownership')['Annual Income'].mean()"
   ]
  },
  {
   "cell_type": "code",
   "execution_count": null,
   "id": "148d0a83",
   "metadata": {},
   "outputs": [],
   "source": []
  },
  {
   "cell_type": "code",
   "execution_count": null,
   "id": "96825b3f",
   "metadata": {},
   "outputs": [],
   "source": []
  },
  {
   "cell_type": "code",
   "execution_count": null,
   "id": "849decdc",
   "metadata": {},
   "outputs": [],
   "source": []
  },
  {
   "cell_type": "code",
   "execution_count": null,
   "id": "44db3410",
   "metadata": {},
   "outputs": [],
   "source": []
  },
  {
   "cell_type": "code",
   "execution_count": null,
   "id": "6a25732a",
   "metadata": {},
   "outputs": [],
   "source": []
  },
  {
   "cell_type": "code",
   "execution_count": null,
   "id": "91b9b327",
   "metadata": {},
   "outputs": [],
   "source": []
  },
  {
   "cell_type": "markdown",
   "id": "4dab9ade",
   "metadata": {},
   "source": [
    "### Обработка не числовых значений."
   ]
  },
  {
   "cell_type": "markdown",
   "id": "4d2b3304",
   "metadata": {},
   "source": [
    "#### Home Ownership"
   ]
  },
  {
   "cell_type": "code",
   "execution_count": 147,
   "id": "6dc3baea",
   "metadata": {},
   "outputs": [
    {
     "data": {
      "text/plain": [
       "Home Mortgage    3635\n",
       "Rent             3200\n",
       "Own Home          647\n",
       "Have Mortgage      12\n",
       "Name: Home Ownership, dtype: int64"
      ]
     },
     "execution_count": 147,
     "metadata": {},
     "output_type": "execute_result"
    }
   ],
   "source": [
    "df_train['Home Ownership'].value_counts()"
   ]
  },
  {
   "cell_type": "code",
   "execution_count": 148,
   "id": "818c4eb3",
   "metadata": {},
   "outputs": [
    {
     "data": {
      "text/plain": [
       "Home Ownership\n",
       "Have Mortgage   0.16667\n",
       "Home Mortgage   0.25199\n",
       "Own Home        0.29675\n",
       "Rent            0.31312\n",
       "Name: Credit Default, dtype: float64"
      ]
     },
     "execution_count": 148,
     "metadata": {},
     "output_type": "execute_result"
    }
   ],
   "source": [
    "df_train.groupby(by='Home Ownership')['Credit Default'].mean()"
   ]
  },
  {
   "cell_type": "markdown",
   "id": "688273d8",
   "metadata": {},
   "source": [
    "Чем больше среднее, тем больше наблюдений 1 класса. Интересно, что у тех, кто арендует дома\\квартиру, не погашен кредит чаще всего. Можно заменить тип домовладения, соответствующей статистикой."
   ]
  },
  {
   "cell_type": "code",
   "execution_count": 149,
   "id": "08ab265e",
   "metadata": {},
   "outputs": [],
   "source": [
    "home_ownership_credit_default_stat = df_train.groupby(by='Home Ownership')['Credit Default'].mean().to_dict()"
   ]
  },
  {
   "cell_type": "code",
   "execution_count": 150,
   "id": "958e75f5",
   "metadata": {},
   "outputs": [
    {
     "data": {
      "text/plain": [
       "{'Have Mortgage': 0.16666666666666666,\n",
       " 'Home Mortgage': 0.2519944979367263,\n",
       " 'Own Home': 0.29675425038639874,\n",
       " 'Rent': 0.313125}"
      ]
     },
     "execution_count": 150,
     "metadata": {},
     "output_type": "execute_result"
    }
   ],
   "source": [
    "home_ownership_credit_default_stat"
   ]
  },
  {
   "cell_type": "code",
   "execution_count": 151,
   "id": "679cb679",
   "metadata": {},
   "outputs": [],
   "source": [
    "df_train.replace({\"Home Ownership\": home_ownership_credit_default_stat}, inplace=True )"
   ]
  },
  {
   "cell_type": "markdown",
   "id": "d027fb52",
   "metadata": {},
   "source": [
    "#### Years in current job"
   ]
  },
  {
   "cell_type": "code",
   "execution_count": 152,
   "id": "047ae8cd",
   "metadata": {},
   "outputs": [
    {
     "data": {
      "text/plain": [
       "10+ years    2700\n",
       "2 years       705\n",
       "3 years       620\n",
       "< 1 year      563\n",
       "5 years       516\n",
       "1 year        502\n",
       "4 years       469\n",
       "6 years       426\n",
       "7 years       396\n",
       "8 years       339\n",
       "9 years       258\n",
       "Name: Years in current job, dtype: int64"
      ]
     },
     "execution_count": 152,
     "metadata": {},
     "output_type": "execute_result"
    }
   ],
   "source": [
    "df_train['Years in current job'].value_counts()"
   ]
  },
  {
   "cell_type": "markdown",
   "id": "4879cc77",
   "metadata": {},
   "source": [
    "Тут можно просто, перевести в непрерывный тип, т.к. по сути признак таким и является. "
   ]
  },
  {
   "cell_type": "code",
   "execution_count": 153,
   "id": "4fb4e58d",
   "metadata": {},
   "outputs": [],
   "source": [
    "years_in_current_job_dict = {'10+ years': 10, '2 years': 2, '3 years': 3, '< 1 year': 0, '5 years': 5, '1 year': 1, '4 years': 4, '6 years': 6, '7 years': 7, '8 years': 8, '9 years': 9}"
   ]
  },
  {
   "cell_type": "code",
   "execution_count": 154,
   "id": "b4c0f8f0",
   "metadata": {},
   "outputs": [],
   "source": [
    "df_train.replace({'Years in current job': years_in_current_job_dict}, inplace=True)"
   ]
  },
  {
   "cell_type": "markdown",
   "id": "395ee42a",
   "metadata": {},
   "source": [
    "#### Purpose"
   ]
  },
  {
   "cell_type": "code",
   "execution_count": 155,
   "id": "8814ba12",
   "metadata": {},
   "outputs": [
    {
     "data": {
      "text/plain": [
       "debt consolidation      5942\n",
       "other                    664\n",
       "home improvements        411\n",
       "business loan            129\n",
       "buy a car                 96\n",
       "medical bills             71\n",
       "major purchase            40\n",
       "take a trip               36\n",
       "buy house                 34\n",
       "small business            26\n",
       "wedding                   15\n",
       "moving                    11\n",
       "educational expenses       9\n",
       "vacation                   8\n",
       "renewable energy           2\n",
       "Name: Purpose, dtype: int64"
      ]
     },
     "execution_count": 155,
     "metadata": {},
     "output_type": "execute_result"
    }
   ],
   "source": [
    "df_train['Purpose'].value_counts()"
   ]
  },
  {
   "cell_type": "markdown",
   "id": "2bb5a30d",
   "metadata": {},
   "source": [
    "Много значений. Надо прикинуть, как их можно описать другими признаками. Например цель кредита всегда влияет на размер кредита. Можно прикинуть средний размер кредита, который берут на эту цель и записать в значения."
   ]
  },
  {
   "cell_type": "code",
   "execution_count": 156,
   "id": "5af0c356",
   "metadata": {},
   "outputs": [],
   "source": [
    "purpose_stat = df_train.groupby(by='Purpose')['Current Loan Amount'].mean().to_dict()"
   ]
  },
  {
   "cell_type": "code",
   "execution_count": 157,
   "id": "052e5ec7",
   "metadata": {},
   "outputs": [],
   "source": [
    "df_train.replace({'Purpose': purpose_stat}, inplace=True)"
   ]
  },
  {
   "cell_type": "code",
   "execution_count": 158,
   "id": "0fe2e168",
   "metadata": {},
   "outputs": [
    {
     "data": {
      "text/plain": [
       "Purpose\n",
       "118690.00000   118690.00000\n",
       "140234.87500   140234.87500\n",
       "142085.77778   142085.77778\n",
       "172571.00000   172571.00000\n",
       "186957.94792   186957.94792\n",
       "214305.66667   214305.66667\n",
       "223605.21127   223605.21127\n",
       "233515.91867   233515.91867\n",
       "253267.66667   253267.66667\n",
       "257253.97500   257253.97500\n",
       "282836.65385   282836.65385\n",
       "316658.20438   316658.20438\n",
       "321389.28071   321389.28071\n",
       "325001.79412   325001.79412\n",
       "352753.88372   352753.88372\n",
       "Name: Current Loan Amount, dtype: float64"
      ]
     },
     "execution_count": 158,
     "metadata": {},
     "output_type": "execute_result"
    }
   ],
   "source": [
    "df_train.groupby(by='Purpose')['Current Loan Amount'].mean()"
   ]
  },
  {
   "cell_type": "markdown",
   "id": "32259a7d",
   "metadata": {},
   "source": [
    "####  Term"
   ]
  },
  {
   "cell_type": "code",
   "execution_count": 159,
   "id": "92753641",
   "metadata": {},
   "outputs": [
    {
     "data": {
      "text/plain": [
       "Short Term    5550\n",
       "Long Term     1944\n",
       "Name: Term, dtype: int64"
      ]
     },
     "execution_count": 159,
     "metadata": {},
     "output_type": "execute_result"
    }
   ],
   "source": [
    "df_train['Term'].value_counts()"
   ]
  },
  {
   "cell_type": "markdown",
   "id": "89009d31",
   "metadata": {},
   "source": [
    "Просто переведем в бинарный признак."
   ]
  },
  {
   "cell_type": "code",
   "execution_count": 160,
   "id": "9e32fb6d",
   "metadata": {},
   "outputs": [],
   "source": [
    "df_train['Term'] = (df_train['Term'] == 'Short Term').astype(int)"
   ]
  },
  {
   "cell_type": "code",
   "execution_count": 161,
   "id": "ccf261aa",
   "metadata": {},
   "outputs": [
    {
     "name": "stdout",
     "output_type": "stream",
     "text": [
      "<class 'pandas.core.frame.DataFrame'>\n",
      "Int64Index: 7494 entries, 0 to 7499\n",
      "Data columns (total 22 columns):\n",
      " #   Column                          Non-Null Count  Dtype  \n",
      "---  ------                          --------------  -----  \n",
      " 0   Home Ownership                  7494 non-null   float64\n",
      " 1   Annual Income                   7494 non-null   float64\n",
      " 2   Years in current job            7494 non-null   int64  \n",
      " 3   Tax Liens                       7494 non-null   float64\n",
      " 4   Number of Open Accounts         7494 non-null   float64\n",
      " 5   Years of Credit History         7494 non-null   float64\n",
      " 6   Maximum Open Credit             7494 non-null   float64\n",
      " 7   Number of Credit Problems       7494 non-null   float64\n",
      " 8   Months since last delinquent    7494 non-null   float64\n",
      " 9   Bankruptcies                    7494 non-null   float64\n",
      " 10  Purpose                         7494 non-null   float64\n",
      " 11  Term                            7494 non-null   int32  \n",
      " 12  Current Loan Amount             7494 non-null   float64\n",
      " 13  Current Credit Balance          7494 non-null   float64\n",
      " 14  Monthly Debt                    7494 non-null   float64\n",
      " 15  Credit Score                    7494 non-null   float64\n",
      " 16  Credit Default                  7494 non-null   int64  \n",
      " 17  Current Loan Amount outlier     7494 non-null   int64  \n",
      " 18  Current Credit Balance outlier  7494 non-null   int64  \n",
      " 19  Annual Income NAN               7494 non-null   int64  \n",
      " 20  Delinquent                      7494 non-null   int64  \n",
      " 21  Credit Score NAN                7494 non-null   int64  \n",
      "dtypes: float64(14), int32(1), int64(7)\n",
      "memory usage: 1.5 MB\n"
     ]
    }
   ],
   "source": [
    "df_train.info()"
   ]
  },
  {
   "cell_type": "code",
   "execution_count": null,
   "id": "268f21c9",
   "metadata": {},
   "outputs": [],
   "source": []
  },
  {
   "cell_type": "code",
   "execution_count": null,
   "id": "d9ceca39",
   "metadata": {},
   "outputs": [],
   "source": []
  },
  {
   "cell_type": "markdown",
   "id": "852423ee",
   "metadata": {},
   "source": [
    "Надо прикинуть, какие факторы из известных признаков могут спровоцировать не уплату кредита.\n",
    "1) Самое вероятное, это малая ЗП.\n",
    "\n",
    "Скорее показательно будет то, меньше ли доход  чем месячный платежа умноженного на коэффициент соотношения средней зп к среднему платежу.\n"
   ]
  },
  {
   "cell_type": "code",
   "execution_count": 162,
   "id": "06fb56f3",
   "metadata": {},
   "outputs": [],
   "source": [
    "incom_spread = df_train[['Monthly Debt', 'Credit Default']].sample(1000)"
   ]
  },
  {
   "cell_type": "code",
   "execution_count": 163,
   "id": "e69f2ed0",
   "metadata": {},
   "outputs": [],
   "source": [
    "incom_1 = incom_spread.loc[incom_spread['Credit Default'] == 1, 'Monthly Debt']\n",
    "incom_0 = incom_spread.loc[incom_spread['Credit Default'] == 0, 'Monthly Debt']"
   ]
  },
  {
   "cell_type": "code",
   "execution_count": 164,
   "id": "d98c3922",
   "metadata": {},
   "outputs": [
    {
     "data": {
      "text/plain": [
       "<AxesSubplot:xlabel='Monthly Debt', ylabel='Density'>"
      ]
     },
     "execution_count": 164,
     "metadata": {},
     "output_type": "execute_result"
    },
    {
     "data": {
      "image/png": "[encoded data removed]",
      "text/plain": [
       "<Figure size 432x288 with 1 Axes>"
      ]
     },
     "metadata": {
      "needs_background": "light"
     },
     "output_type": "display_data"
    }
   ],
   "source": [
    "sns.kdeplot(incom_0, shade=True,  color='g')\n",
    "sns.kdeplot(incom_1, shade=True,  color='r')"
   ]
  },
  {
   "cell_type": "code",
   "execution_count": 165,
   "id": "31ed2e9d",
   "metadata": {},
   "outputs": [
    {
     "data": {
      "text/plain": [
       "ShapiroResult(statistic=0.893394410610199, pvalue=9.916425312887305e-26)"
      ]
     },
     "execution_count": 165,
     "metadata": {},
     "output_type": "execute_result"
    }
   ],
   "source": [
    "shapiro(incom_spread['Monthly Debt'])\n"
   ]
  },
  {
   "cell_type": "code",
   "execution_count": 166,
   "id": "d1d572e8",
   "metadata": {},
   "outputs": [
    {
     "data": {
      "image/png": "[encoded data removed]",
      "text/plain": [
       "<Figure size 1440x576 with 2 Axes>"
      ]
     },
     "metadata": {
      "needs_background": "light"
     },
     "output_type": "display_data"
    }
   ],
   "source": [
    "plt.figure(figsize=(20, 8))\n",
    "\n",
    "ax1 = plt.subplot(121)\n",
    "ax1.set_xlabel('Monthly Debt')\n",
    "ax1.set_ylabel('Count')\n",
    "ax1.set_title('Annual Income distribution')\n",
    "incom_spread['Monthly Debt'].hist()\n",
    "\n",
    "plt.subplot(122)\n",
    "probplot(incom_spread['Monthly Debt'], dist='norm', plot=plt)\n",
    "plt.show()"
   ]
  },
  {
   "cell_type": "code",
   "execution_count": 167,
   "id": "1b068ba1",
   "metadata": {},
   "outputs": [
    {
     "data": {
      "text/plain": [
       "MannwhitneyuResult(statistic=95793.5, pvalue=0.030606963271568297)"
      ]
     },
     "execution_count": 167,
     "metadata": {},
     "output_type": "execute_result"
    }
   ],
   "source": [
    "mannwhitneyu(incom_0, incom_1)"
   ]
  },
  {
   "cell_type": "code",
   "execution_count": 168,
   "id": "1ab49ed7",
   "metadata": {},
   "outputs": [
    {
     "data": {
      "text/plain": [
       "<AxesSubplot:xlabel='Credit Default', ylabel='Monthly Debt'>"
      ]
     },
     "execution_count": 168,
     "metadata": {},
     "output_type": "execute_result"
    },
    {
     "data": {
      "image/png": "[encoded data removed]",
      "text/plain": [
       "<Figure size 576x360 with 1 Axes>"
      ]
     },
     "metadata": {
      "needs_background": "light"
     },
     "output_type": "display_data"
    }
   ],
   "source": [
    "plt.figure(figsize=(8, 5))\n",
    "\n",
    "sns.pointplot(x='Credit Default', y='Monthly Debt', data=incom_spread, capsize=.1)\n"
   ]
  },
  {
   "cell_type": "markdown",
   "id": "018a5edd",
   "metadata": {},
   "source": [
    "Выходит разница есть. Причем средняя ЗП тех людей, которые вернули кредит выше."
   ]
  },
  {
   "cell_type": "code",
   "execution_count": 169,
   "id": "65ee9dfb",
   "metadata": {},
   "outputs": [],
   "source": [
    "low_income = df_train.loc[df_train['Annual Income'] < (df_train['Monthly Debt']* annual_incom_coef), 'Credit Default']\n",
    "norm_income = df_train.loc[df_train['Annual Income'] >= (df_train['Monthly Debt']* annual_incom_coef), 'Credit Default']"
   ]
  },
  {
   "cell_type": "code",
   "execution_count": 170,
   "id": "e805572b",
   "metadata": {},
   "outputs": [
    {
     "data": {
      "text/plain": [
       "0   0.69036\n",
       "1   0.30964\n",
       "Name: Credit Default, dtype: float64"
      ]
     },
     "execution_count": 170,
     "metadata": {},
     "output_type": "execute_result"
    }
   ],
   "source": [
    "low_income.value_counts(normalize=True)"
   ]
  },
  {
   "cell_type": "code",
   "execution_count": 171,
   "id": "05a376c4",
   "metadata": {},
   "outputs": [
    {
     "data": {
      "text/plain": [
       "0   0.73851\n",
       "1   0.26149\n",
       "Name: Credit Default, dtype: float64"
      ]
     },
     "execution_count": 171,
     "metadata": {},
     "output_type": "execute_result"
    }
   ],
   "source": [
    "norm_income.value_counts(normalize=True)"
   ]
  },
  {
   "cell_type": "markdown",
   "id": "15ec747a",
   "metadata": {},
   "source": [
    "Ну в целом смещение видно, но не большое. Однако стоит учесть, что мы часть пропущенных значений также заполняли и они идут в копилку norm_incom. Сделаем доп признак, и в будущем посмотрем на его влияние в модели."
   ]
  },
  {
   "cell_type": "code",
   "execution_count": 172,
   "id": "cabbdfbb",
   "metadata": {},
   "outputs": [],
   "source": [
    "df_train['Money_after_debt'] = df_train['Annual Income'] / 12 - df_train['Monthly Debt']"
   ]
  },
  {
   "cell_type": "markdown",
   "id": "80ea192e",
   "metadata": {},
   "source": [
    "2) Возможно состояние кредитного счета. К примеру если на счету денег меньше чем ежемесячный платеж.\n"
   ]
  },
  {
   "cell_type": "code",
   "execution_count": 173,
   "id": "1ec43236",
   "metadata": {},
   "outputs": [
    {
     "data": {
      "text/plain": [
       "count     7494.00000\n",
       "mean     95515.38110\n",
       "std      63678.18459\n",
       "min       3881.37113\n",
       "25%      56217.93750\n",
       "50%      81008.90922\n",
       "75%     116673.94633\n",
       "max     784543.66667\n",
       "Name: Money_after_debt, dtype: float64"
      ]
     },
     "execution_count": 173,
     "metadata": {},
     "output_type": "execute_result"
    }
   ],
   "source": [
    "df_train['Money_after_debt'].describe()"
   ]
  },
  {
   "cell_type": "code",
   "execution_count": 174,
   "id": "8dbb0eff",
   "metadata": {},
   "outputs": [
    {
     "data": {
      "text/plain": [
       "count       7494.00000\n",
       "mean     1368492.69514\n",
       "std       853215.55373\n",
       "min        55624.45356\n",
       "25%       833990.75000\n",
       "50%      1173915.00000\n",
       "75%      1674574.50000\n",
       "max     10149344.00000\n",
       "Name: Annual Income, dtype: float64"
      ]
     },
     "execution_count": 174,
     "metadata": {},
     "output_type": "execute_result"
    }
   ],
   "source": [
    "df_train['Annual Income'].describe()"
   ]
  },
  {
   "cell_type": "code",
   "execution_count": 175,
   "id": "a1cf2d72",
   "metadata": {},
   "outputs": [
    {
     "data": {
      "text/html": [
       "<div>\n",
       "<style scoped>\n",
       "    .dataframe tbody tr th:only-of-type {\n",
       "        vertical-align: middle;\n",
       "    }\n",
       "\n",
       "    .dataframe tbody tr th {\n",
       "        vertical-align: top;\n",
       "    }\n",
       "\n",
       "    .dataframe thead th {\n",
       "        text-align: right;\n",
       "    }\n",
       "</style>\n",
       "<table border=\"1\" class=\"dataframe\">\n",
       "  <thead>\n",
       "    <tr style=\"text-align: right;\">\n",
       "      <th></th>\n",
       "      <th>Home Ownership</th>\n",
       "      <th>Annual Income</th>\n",
       "      <th>Years in current job</th>\n",
       "      <th>Tax Liens</th>\n",
       "      <th>Number of Open Accounts</th>\n",
       "      <th>Years of Credit History</th>\n",
       "      <th>Maximum Open Credit</th>\n",
       "      <th>Number of Credit Problems</th>\n",
       "      <th>Months since last delinquent</th>\n",
       "      <th>Bankruptcies</th>\n",
       "      <th>...</th>\n",
       "      <th>Current Credit Balance</th>\n",
       "      <th>Monthly Debt</th>\n",
       "      <th>Credit Score</th>\n",
       "      <th>Credit Default</th>\n",
       "      <th>Current Loan Amount outlier</th>\n",
       "      <th>Current Credit Balance outlier</th>\n",
       "      <th>Annual Income NAN</th>\n",
       "      <th>Delinquent</th>\n",
       "      <th>Credit Score NAN</th>\n",
       "      <th>Money_after_debt</th>\n",
       "    </tr>\n",
       "  </thead>\n",
       "  <tbody>\n",
       "    <tr>\n",
       "      <th>Home Ownership</th>\n",
       "      <td>1.00000</td>\n",
       "      <td>-0.21517</td>\n",
       "      <td>-0.20310</td>\n",
       "      <td>0.01592</td>\n",
       "      <td>-0.12413</td>\n",
       "      <td>-0.19689</td>\n",
       "      <td>-0.18026</td>\n",
       "      <td>0.00697</td>\n",
       "      <td>0.05255</td>\n",
       "      <td>0.00648</td>\n",
       "      <td>...</td>\n",
       "      <td>-0.18016</td>\n",
       "      <td>-0.20737</td>\n",
       "      <td>-0.03161</td>\n",
       "      <td>0.06633</td>\n",
       "      <td>-0.01276</td>\n",
       "      <td>-0.08560</td>\n",
       "      <td>0.00755</td>\n",
       "      <td>-0.03875</td>\n",
       "      <td>0.00755</td>\n",
       "      <td>-0.20178</td>\n",
       "    </tr>\n",
       "    <tr>\n",
       "      <th>Annual Income</th>\n",
       "      <td>-0.21517</td>\n",
       "      <td>1.00000</td>\n",
       "      <td>0.08142</td>\n",
       "      <td>0.06306</td>\n",
       "      <td>0.22700</td>\n",
       "      <td>0.19070</td>\n",
       "      <td>0.31618</td>\n",
       "      <td>0.01935</td>\n",
       "      <td>-0.07982</td>\n",
       "      <td>-0.07306</td>\n",
       "      <td>...</td>\n",
       "      <td>0.33145</td>\n",
       "      <td>0.67863</td>\n",
       "      <td>0.02570</td>\n",
       "      <td>-0.07096</td>\n",
       "      <td>0.02525</td>\n",
       "      <td>0.26226</td>\n",
       "      <td>0.00414</td>\n",
       "      <td>0.06350</td>\n",
       "      <td>0.00414</td>\n",
       "      <td>0.99067</td>\n",
       "    </tr>\n",
       "    <tr>\n",
       "      <th>Years in current job</th>\n",
       "      <td>-0.20310</td>\n",
       "      <td>0.08142</td>\n",
       "      <td>1.00000</td>\n",
       "      <td>0.02511</td>\n",
       "      <td>0.04270</td>\n",
       "      <td>0.25049</td>\n",
       "      <td>0.11006</td>\n",
       "      <td>0.00823</td>\n",
       "      <td>-0.04866</td>\n",
       "      <td>0.07498</td>\n",
       "      <td>...</td>\n",
       "      <td>0.12557</td>\n",
       "      <td>0.09778</td>\n",
       "      <td>-0.02071</td>\n",
       "      <td>0.00665</td>\n",
       "      <td>-0.00327</td>\n",
       "      <td>0.03195</td>\n",
       "      <td>-0.00378</td>\n",
       "      <td>0.05195</td>\n",
       "      <td>-0.00378</td>\n",
       "      <td>0.07277</td>\n",
       "    </tr>\n",
       "    <tr>\n",
       "      <th>Tax Liens</th>\n",
       "      <td>0.01592</td>\n",
       "      <td>0.06306</td>\n",
       "      <td>0.02511</td>\n",
       "      <td>1.00000</td>\n",
       "      <td>-0.00549</td>\n",
       "      <td>0.00907</td>\n",
       "      <td>-0.01797</td>\n",
       "      <td>0.52068</td>\n",
       "      <td>-0.03472</td>\n",
       "      <td>0.05740</td>\n",
       "      <td>...</td>\n",
       "      <td>-0.01770</td>\n",
       "      <td>0.02846</td>\n",
       "      <td>-0.01348</td>\n",
       "      <td>0.02435</td>\n",
       "      <td>-0.00799</td>\n",
       "      <td>0.00418</td>\n",
       "      <td>0.00622</td>\n",
       "      <td>0.05327</td>\n",
       "      <td>0.00622</td>\n",
       "      <td>0.06513</td>\n",
       "    </tr>\n",
       "    <tr>\n",
       "      <th>Number of Open Accounts</th>\n",
       "      <td>-0.12413</td>\n",
       "      <td>0.22700</td>\n",
       "      <td>0.04270</td>\n",
       "      <td>-0.00549</td>\n",
       "      <td>1.00000</td>\n",
       "      <td>0.14446</td>\n",
       "      <td>0.41182</td>\n",
       "      <td>-0.01523</td>\n",
       "      <td>-0.06656</td>\n",
       "      <td>-0.01926</td>\n",
       "      <td>...</td>\n",
       "      <td>0.31235</td>\n",
       "      <td>0.39997</td>\n",
       "      <td>-0.03004</td>\n",
       "      <td>0.02870</td>\n",
       "      <td>0.00029</td>\n",
       "      <td>0.11571</td>\n",
       "      <td>0.00314</td>\n",
       "      <td>0.06323</td>\n",
       "      <td>0.00314</td>\n",
       "      <td>0.17926</td>\n",
       "    </tr>\n",
       "    <tr>\n",
       "      <th>Years of Credit History</th>\n",
       "      <td>-0.19689</td>\n",
       "      <td>0.19070</td>\n",
       "      <td>0.25049</td>\n",
       "      <td>0.00907</td>\n",
       "      <td>0.14446</td>\n",
       "      <td>1.00000</td>\n",
       "      <td>0.25079</td>\n",
       "      <td>0.02689</td>\n",
       "      <td>-0.13219</td>\n",
       "      <td>0.08550</td>\n",
       "      <td>...</td>\n",
       "      <td>0.22089</td>\n",
       "      <td>0.19244</td>\n",
       "      <td>0.06054</td>\n",
       "      <td>-0.02045</td>\n",
       "      <td>0.00944</td>\n",
       "      <td>0.12061</td>\n",
       "      <td>0.00194</td>\n",
       "      <td>0.13646</td>\n",
       "      <td>0.00194</td>\n",
       "      <td>0.17723</td>\n",
       "    </tr>\n",
       "    <tr>\n",
       "      <th>Maximum Open Credit</th>\n",
       "      <td>-0.18026</td>\n",
       "      <td>0.31618</td>\n",
       "      <td>0.11006</td>\n",
       "      <td>-0.01797</td>\n",
       "      <td>0.41182</td>\n",
       "      <td>0.25079</td>\n",
       "      <td>1.00000</td>\n",
       "      <td>-0.06443</td>\n",
       "      <td>0.09960</td>\n",
       "      <td>-0.16226</td>\n",
       "      <td>...</td>\n",
       "      <td>0.64746</td>\n",
       "      <td>0.37984</td>\n",
       "      <td>0.09891</td>\n",
       "      <td>-0.05233</td>\n",
       "      <td>0.02749</td>\n",
       "      <td>0.17738</td>\n",
       "      <td>-0.00129</td>\n",
       "      <td>-0.11626</td>\n",
       "      <td>-0.00129</td>\n",
       "      <td>0.28257</td>\n",
       "    </tr>\n",
       "    <tr>\n",
       "      <th>Number of Credit Problems</th>\n",
       "      <td>0.00697</td>\n",
       "      <td>0.01935</td>\n",
       "      <td>0.00823</td>\n",
       "      <td>0.52068</td>\n",
       "      <td>-0.01523</td>\n",
       "      <td>0.02689</td>\n",
       "      <td>-0.06443</td>\n",
       "      <td>1.00000</td>\n",
       "      <td>-0.02518</td>\n",
       "      <td>0.31823</td>\n",
       "      <td>...</td>\n",
       "      <td>-0.05871</td>\n",
       "      <td>-0.01190</td>\n",
       "      <td>-0.03802</td>\n",
       "      <td>0.04096</td>\n",
       "      <td>-0.01984</td>\n",
       "      <td>-0.01083</td>\n",
       "      <td>0.00170</td>\n",
       "      <td>0.04744</td>\n",
       "      <td>0.00170</td>\n",
       "      <td>0.02382</td>\n",
       "    </tr>\n",
       "    <tr>\n",
       "      <th>Months since last delinquent</th>\n",
       "      <td>0.05255</td>\n",
       "      <td>-0.07982</td>\n",
       "      <td>-0.04866</td>\n",
       "      <td>-0.03472</td>\n",
       "      <td>-0.06656</td>\n",
       "      <td>-0.13219</td>\n",
       "      <td>0.09960</td>\n",
       "      <td>-0.02518</td>\n",
       "      <td>1.00000</td>\n",
       "      <td>0.04177</td>\n",
       "      <td>...</td>\n",
       "      <td>0.10187</td>\n",
       "      <td>-0.03646</td>\n",
       "      <td>0.07579</td>\n",
       "      <td>-0.01089</td>\n",
       "      <td>0.02045</td>\n",
       "      <td>0.04227</td>\n",
       "      <td>0.01569</td>\n",
       "      <td>-0.94307</td>\n",
       "      <td>0.01569</td>\n",
       "      <td>-0.08236</td>\n",
       "    </tr>\n",
       "    <tr>\n",
       "      <th>Bankruptcies</th>\n",
       "      <td>0.00648</td>\n",
       "      <td>-0.07306</td>\n",
       "      <td>0.07498</td>\n",
       "      <td>0.05740</td>\n",
       "      <td>-0.01926</td>\n",
       "      <td>0.08550</td>\n",
       "      <td>-0.16226</td>\n",
       "      <td>0.31823</td>\n",
       "      <td>0.04177</td>\n",
       "      <td>1.00000</td>\n",
       "      <td>...</td>\n",
       "      <td>-0.17379</td>\n",
       "      <td>-0.08243</td>\n",
       "      <td>-0.03761</td>\n",
       "      <td>0.00157</td>\n",
       "      <td>-0.00564</td>\n",
       "      <td>-0.05164</td>\n",
       "      <td>-0.00461</td>\n",
       "      <td>-0.00513</td>\n",
       "      <td>-0.00461</td>\n",
       "      <td>-0.06628</td>\n",
       "    </tr>\n",
       "    <tr>\n",
       "      <th>Purpose</th>\n",
       "      <td>-0.03566</td>\n",
       "      <td>0.03809</td>\n",
       "      <td>0.04127</td>\n",
       "      <td>-0.00674</td>\n",
       "      <td>0.07413</td>\n",
       "      <td>0.01217</td>\n",
       "      <td>0.07338</td>\n",
       "      <td>-0.00859</td>\n",
       "      <td>0.01835</td>\n",
       "      <td>0.01409</td>\n",
       "      <td>...</td>\n",
       "      <td>0.12952</td>\n",
       "      <td>0.07581</td>\n",
       "      <td>0.05132</td>\n",
       "      <td>0.00061</td>\n",
       "      <td>0.00984</td>\n",
       "      <td>-0.00840</td>\n",
       "      <td>-0.01502</td>\n",
       "      <td>-0.01470</td>\n",
       "      <td>-0.01502</td>\n",
       "      <td>0.02847</td>\n",
       "    </tr>\n",
       "    <tr>\n",
       "      <th>Term</th>\n",
       "      <td>0.10110</td>\n",
       "      <td>-0.10366</td>\n",
       "      <td>-0.05584</td>\n",
       "      <td>-0.00490</td>\n",
       "      <td>-0.07071</td>\n",
       "      <td>-0.04405</td>\n",
       "      <td>-0.11398</td>\n",
       "      <td>0.00289</td>\n",
       "      <td>0.00088</td>\n",
       "      <td>0.03115</td>\n",
       "      <td>...</td>\n",
       "      <td>-0.14859</td>\n",
       "      <td>-0.14702</td>\n",
       "      <td>0.42401</td>\n",
       "      <td>-0.18145</td>\n",
       "      <td>0.07742</td>\n",
       "      <td>-0.01992</td>\n",
       "      <td>0.03013</td>\n",
       "      <td>-0.00435</td>\n",
       "      <td>0.03013</td>\n",
       "      <td>-0.08847</td>\n",
       "    </tr>\n",
       "    <tr>\n",
       "      <th>Current Loan Amount</th>\n",
       "      <td>-0.19119</td>\n",
       "      <td>0.41987</td>\n",
       "      <td>0.10120</td>\n",
       "      <td>0.03002</td>\n",
       "      <td>0.20124</td>\n",
       "      <td>0.14248</td>\n",
       "      <td>0.35842</td>\n",
       "      <td>-0.01849</td>\n",
       "      <td>0.00006</td>\n",
       "      <td>-0.09125</td>\n",
       "      <td>...</td>\n",
       "      <td>0.41369</td>\n",
       "      <td>0.42109</td>\n",
       "      <td>-0.18190</td>\n",
       "      <td>0.06383</td>\n",
       "      <td>0.00082</td>\n",
       "      <td>0.11430</td>\n",
       "      <td>-0.02450</td>\n",
       "      <td>-0.00640</td>\n",
       "      <td>-0.02450</td>\n",
       "      <td>0.39069</td>\n",
       "    </tr>\n",
       "    <tr>\n",
       "      <th>Current Credit Balance</th>\n",
       "      <td>-0.18016</td>\n",
       "      <td>0.33145</td>\n",
       "      <td>0.12557</td>\n",
       "      <td>-0.01770</td>\n",
       "      <td>0.31235</td>\n",
       "      <td>0.22089</td>\n",
       "      <td>0.64746</td>\n",
       "      <td>-0.05871</td>\n",
       "      <td>0.10187</td>\n",
       "      <td>-0.17379</td>\n",
       "      <td>...</td>\n",
       "      <td>1.00000</td>\n",
       "      <td>0.43756</td>\n",
       "      <td>-0.01947</td>\n",
       "      <td>0.00593</td>\n",
       "      <td>-0.00182</td>\n",
       "      <td>-0.03703</td>\n",
       "      <td>-0.00556</td>\n",
       "      <td>-0.11215</td>\n",
       "      <td>-0.00556</td>\n",
       "      <td>0.28891</td>\n",
       "    </tr>\n",
       "    <tr>\n",
       "      <th>Monthly Debt</th>\n",
       "      <td>-0.20737</td>\n",
       "      <td>0.67863</td>\n",
       "      <td>0.09778</td>\n",
       "      <td>0.02846</td>\n",
       "      <td>0.39997</td>\n",
       "      <td>0.19244</td>\n",
       "      <td>0.37984</td>\n",
       "      <td>-0.01190</td>\n",
       "      <td>-0.03646</td>\n",
       "      <td>-0.08243</td>\n",
       "      <td>...</td>\n",
       "      <td>0.43756</td>\n",
       "      <td>1.00000</td>\n",
       "      <td>-0.06081</td>\n",
       "      <td>0.01410</td>\n",
       "      <td>-0.00274</td>\n",
       "      <td>0.30085</td>\n",
       "      <td>0.00512</td>\n",
       "      <td>0.02586</td>\n",
       "      <td>0.00512</td>\n",
       "      <td>0.57222</td>\n",
       "    </tr>\n",
       "    <tr>\n",
       "      <th>Credit Score</th>\n",
       "      <td>-0.03161</td>\n",
       "      <td>0.02570</td>\n",
       "      <td>-0.02071</td>\n",
       "      <td>-0.01348</td>\n",
       "      <td>-0.03004</td>\n",
       "      <td>0.06054</td>\n",
       "      <td>0.09891</td>\n",
       "      <td>-0.03802</td>\n",
       "      <td>0.07579</td>\n",
       "      <td>-0.03761</td>\n",
       "      <td>...</td>\n",
       "      <td>-0.01947</td>\n",
       "      <td>-0.06081</td>\n",
       "      <td>1.00000</td>\n",
       "      <td>-0.16986</td>\n",
       "      <td>0.11915</td>\n",
       "      <td>0.01381</td>\n",
       "      <td>0.14377</td>\n",
       "      <td>-0.08394</td>\n",
       "      <td>0.14377</td>\n",
       "      <td>0.03998</td>\n",
       "    </tr>\n",
       "    <tr>\n",
       "      <th>Credit Default</th>\n",
       "      <td>0.06633</td>\n",
       "      <td>-0.07096</td>\n",
       "      <td>0.00665</td>\n",
       "      <td>0.02435</td>\n",
       "      <td>0.02870</td>\n",
       "      <td>-0.02045</td>\n",
       "      <td>-0.05233</td>\n",
       "      <td>0.04096</td>\n",
       "      <td>-0.01089</td>\n",
       "      <td>0.00157</td>\n",
       "      <td>...</td>\n",
       "      <td>0.00593</td>\n",
       "      <td>0.01410</td>\n",
       "      <td>-0.16986</td>\n",
       "      <td>1.00000</td>\n",
       "      <td>-0.22688</td>\n",
       "      <td>-0.02083</td>\n",
       "      <td>0.06588</td>\n",
       "      <td>0.01225</td>\n",
       "      <td>0.06588</td>\n",
       "      <td>-0.08185</td>\n",
       "    </tr>\n",
       "    <tr>\n",
       "      <th>Current Loan Amount outlier</th>\n",
       "      <td>-0.01276</td>\n",
       "      <td>0.02525</td>\n",
       "      <td>-0.00327</td>\n",
       "      <td>-0.00799</td>\n",
       "      <td>0.00029</td>\n",
       "      <td>0.00944</td>\n",
       "      <td>0.02749</td>\n",
       "      <td>-0.01984</td>\n",
       "      <td>0.02045</td>\n",
       "      <td>-0.00564</td>\n",
       "      <td>...</td>\n",
       "      <td>-0.00182</td>\n",
       "      <td>-0.00274</td>\n",
       "      <td>0.11915</td>\n",
       "      <td>-0.22688</td>\n",
       "      <td>1.00000</td>\n",
       "      <td>0.01652</td>\n",
       "      <td>-0.18525</td>\n",
       "      <td>-0.02176</td>\n",
       "      <td>-0.18525</td>\n",
       "      <td>0.02870</td>\n",
       "    </tr>\n",
       "    <tr>\n",
       "      <th>Current Credit Balance outlier</th>\n",
       "      <td>-0.08560</td>\n",
       "      <td>0.26226</td>\n",
       "      <td>0.03195</td>\n",
       "      <td>0.00418</td>\n",
       "      <td>0.11571</td>\n",
       "      <td>0.12061</td>\n",
       "      <td>0.17738</td>\n",
       "      <td>-0.01083</td>\n",
       "      <td>0.04227</td>\n",
       "      <td>-0.05164</td>\n",
       "      <td>...</td>\n",
       "      <td>-0.03703</td>\n",
       "      <td>0.30085</td>\n",
       "      <td>0.01381</td>\n",
       "      <td>-0.02083</td>\n",
       "      <td>0.01652</td>\n",
       "      <td>1.00000</td>\n",
       "      <td>0.00003</td>\n",
       "      <td>-0.04912</td>\n",
       "      <td>0.00003</td>\n",
       "      <td>0.23702</td>\n",
       "    </tr>\n",
       "    <tr>\n",
       "      <th>Annual Income NAN</th>\n",
       "      <td>0.00755</td>\n",
       "      <td>0.00414</td>\n",
       "      <td>-0.00378</td>\n",
       "      <td>0.00622</td>\n",
       "      <td>0.00314</td>\n",
       "      <td>0.00194</td>\n",
       "      <td>-0.00129</td>\n",
       "      <td>0.00170</td>\n",
       "      <td>0.01569</td>\n",
       "      <td>-0.00461</td>\n",
       "      <td>...</td>\n",
       "      <td>-0.00556</td>\n",
       "      <td>0.00512</td>\n",
       "      <td>0.14377</td>\n",
       "      <td>0.06588</td>\n",
       "      <td>-0.18525</td>\n",
       "      <td>0.00003</td>\n",
       "      <td>1.00000</td>\n",
       "      <td>-0.01729</td>\n",
       "      <td>1.00000</td>\n",
       "      <td>0.00368</td>\n",
       "    </tr>\n",
       "    <tr>\n",
       "      <th>Delinquent</th>\n",
       "      <td>-0.03875</td>\n",
       "      <td>0.06350</td>\n",
       "      <td>0.05195</td>\n",
       "      <td>0.05327</td>\n",
       "      <td>0.06323</td>\n",
       "      <td>0.13646</td>\n",
       "      <td>-0.11626</td>\n",
       "      <td>0.04744</td>\n",
       "      <td>-0.94307</td>\n",
       "      <td>-0.00513</td>\n",
       "      <td>...</td>\n",
       "      <td>-0.11215</td>\n",
       "      <td>0.02586</td>\n",
       "      <td>-0.08394</td>\n",
       "      <td>0.01225</td>\n",
       "      <td>-0.02176</td>\n",
       "      <td>-0.04912</td>\n",
       "      <td>-0.01729</td>\n",
       "      <td>1.00000</td>\n",
       "      <td>-0.01729</td>\n",
       "      <td>0.06611</td>\n",
       "    </tr>\n",
       "    <tr>\n",
       "      <th>Credit Score NAN</th>\n",
       "      <td>0.00755</td>\n",
       "      <td>0.00414</td>\n",
       "      <td>-0.00378</td>\n",
       "      <td>0.00622</td>\n",
       "      <td>0.00314</td>\n",
       "      <td>0.00194</td>\n",
       "      <td>-0.00129</td>\n",
       "      <td>0.00170</td>\n",
       "      <td>0.01569</td>\n",
       "      <td>-0.00461</td>\n",
       "      <td>...</td>\n",
       "      <td>-0.00556</td>\n",
       "      <td>0.00512</td>\n",
       "      <td>0.14377</td>\n",
       "      <td>0.06588</td>\n",
       "      <td>-0.18525</td>\n",
       "      <td>0.00003</td>\n",
       "      <td>1.00000</td>\n",
       "      <td>-0.01729</td>\n",
       "      <td>1.00000</td>\n",
       "      <td>0.00368</td>\n",
       "    </tr>\n",
       "    <tr>\n",
       "      <th>Money_after_debt</th>\n",
       "      <td>-0.20178</td>\n",
       "      <td>0.99067</td>\n",
       "      <td>0.07277</td>\n",
       "      <td>0.06513</td>\n",
       "      <td>0.17926</td>\n",
       "      <td>0.17723</td>\n",
       "      <td>0.28257</td>\n",
       "      <td>0.02382</td>\n",
       "      <td>-0.08236</td>\n",
       "      <td>-0.06628</td>\n",
       "      <td>...</td>\n",
       "      <td>0.28891</td>\n",
       "      <td>0.57222</td>\n",
       "      <td>0.03998</td>\n",
       "      <td>-0.08185</td>\n",
       "      <td>0.02870</td>\n",
       "      <td>0.23702</td>\n",
       "      <td>0.00368</td>\n",
       "      <td>0.06611</td>\n",
       "      <td>0.00368</td>\n",
       "      <td>1.00000</td>\n",
       "    </tr>\n",
       "  </tbody>\n",
       "</table>\n",
       "<p>23 rows × 23 columns</p>\n",
       "</div>"
      ],
      "text/plain": [
       "                                Home Ownership  Annual Income  \\\n",
       "Home Ownership                         1.00000       -0.21517   \n",
       "Annual Income                         -0.21517        1.00000   \n",
       "Years in current job                  -0.20310        0.08142   \n",
       "Tax Liens                              0.01592        0.06306   \n",
       "Number of Open Accounts               -0.12413        0.22700   \n",
       "Years of Credit History               -0.19689        0.19070   \n",
       "Maximum Open Credit                   -0.18026        0.31618   \n",
       "Number of Credit Problems              0.00697        0.01935   \n",
       "Months since last delinquent           0.05255       -0.07982   \n",
       "Bankruptcies                           0.00648       -0.07306   \n",
       "Purpose                               -0.03566        0.03809   \n",
       "Term                                   0.10110       -0.10366   \n",
       "Current Loan Amount                   -0.19119        0.41987   \n",
       "Current Credit Balance                -0.18016        0.33145   \n",
       "Monthly Debt                          -0.20737        0.67863   \n",
       "Credit Score                          -0.03161        0.02570   \n",
       "Credit Default                         0.06633       -0.07096   \n",
       "Current Loan Amount outlier           -0.01276        0.02525   \n",
       "Current Credit Balance outlier        -0.08560        0.26226   \n",
       "Annual Income NAN                      0.00755        0.00414   \n",
       "Delinquent                            -0.03875        0.06350   \n",
       "Credit Score NAN                       0.00755        0.00414   \n",
       "Money_after_debt                      -0.20178        0.99067   \n",
       "\n",
       "                                Years in current job  Tax Liens  \\\n",
       "Home Ownership                              -0.20310    0.01592   \n",
       "Annual Income                                0.08142    0.06306   \n",
       "Years in current job                         1.00000    0.02511   \n",
       "Tax Liens                                    0.02511    1.00000   \n",
       "Number of Open Accounts                      0.04270   -0.00549   \n",
       "Years of Credit History                      0.25049    0.00907   \n",
       "Maximum Open Credit                          0.11006   -0.01797   \n",
       "Number of Credit Problems                    0.00823    0.52068   \n",
       "Months since last delinquent                -0.04866   -0.03472   \n",
       "Bankruptcies                                 0.07498    0.05740   \n",
       "Purpose                                      0.04127   -0.00674   \n",
       "Term                                        -0.05584   -0.00490   \n",
       "Current Loan Amount                          0.10120    0.03002   \n",
       "Current Credit Balance                       0.12557   -0.01770   \n",
       "Monthly Debt                                 0.09778    0.02846   \n",
       "Credit Score                                -0.02071   -0.01348   \n",
       "Credit Default                               0.00665    0.02435   \n",
       "Current Loan Amount outlier                 -0.00327   -0.00799   \n",
       "Current Credit Balance outlier               0.03195    0.00418   \n",
       "Annual Income NAN                           -0.00378    0.00622   \n",
       "Delinquent                                   0.05195    0.05327   \n",
       "Credit Score NAN                            -0.00378    0.00622   \n",
       "Money_after_debt                             0.07277    0.06513   \n",
       "\n",
       "                                Number of Open Accounts  \\\n",
       "Home Ownership                                 -0.12413   \n",
       "Annual Income                                   0.22700   \n",
       "Years in current job                            0.04270   \n",
       "Tax Liens                                      -0.00549   \n",
       "Number of Open Accounts                         1.00000   \n",
       "Years of Credit History                         0.14446   \n",
       "Maximum Open Credit                             0.41182   \n",
       "Number of Credit Problems                      -0.01523   \n",
       "Months since last delinquent                   -0.06656   \n",
       "Bankruptcies                                   -0.01926   \n",
       "Purpose                                         0.07413   \n",
       "Term                                           -0.07071   \n",
       "Current Loan Amount                             0.20124   \n",
       "Current Credit Balance                          0.31235   \n",
       "Monthly Debt                                    0.39997   \n",
       "Credit Score                                   -0.03004   \n",
       "Credit Default                                  0.02870   \n",
       "Current Loan Amount outlier                     0.00029   \n",
       "Current Credit Balance outlier                  0.11571   \n",
       "Annual Income NAN                               0.00314   \n",
       "Delinquent                                      0.06323   \n",
       "Credit Score NAN                                0.00314   \n",
       "Money_after_debt                                0.17926   \n",
       "\n",
       "                                Years of Credit History  Maximum Open Credit  \\\n",
       "Home Ownership                                 -0.19689             -0.18026   \n",
       "Annual Income                                   0.19070              0.31618   \n",
       "Years in current job                            0.25049              0.11006   \n",
       "Tax Liens                                       0.00907             -0.01797   \n",
       "Number of Open Accounts                         0.14446              0.41182   \n",
       "Years of Credit History                         1.00000              0.25079   \n",
       "Maximum Open Credit                             0.25079              1.00000   \n",
       "Number of Credit Problems                       0.02689             -0.06443   \n",
       "Months since last delinquent                   -0.13219              0.09960   \n",
       "Bankruptcies                                    0.08550             -0.16226   \n",
       "Purpose                                         0.01217              0.07338   \n",
       "Term                                           -0.04405             -0.11398   \n",
       "Current Loan Amount                             0.14248              0.35842   \n",
       "Current Credit Balance                          0.22089              0.64746   \n",
       "Monthly Debt                                    0.19244              0.37984   \n",
       "Credit Score                                    0.06054              0.09891   \n",
       "Credit Default                                 -0.02045             -0.05233   \n",
       "Current Loan Amount outlier                     0.00944              0.02749   \n",
       "Current Credit Balance outlier                  0.12061              0.17738   \n",
       "Annual Income NAN                               0.00194             -0.00129   \n",
       "Delinquent                                      0.13646             -0.11626   \n",
       "Credit Score NAN                                0.00194             -0.00129   \n",
       "Money_after_debt                                0.17723              0.28257   \n",
       "\n",
       "                                Number of Credit Problems  \\\n",
       "Home Ownership                                    0.00697   \n",
       "Annual Income                                     0.01935   \n",
       "Years in current job                              0.00823   \n",
       "Tax Liens                                         0.52068   \n",
       "Number of Open Accounts                          -0.01523   \n",
       "Years of Credit History                           0.02689   \n",
       "Maximum Open Credit                              -0.06443   \n",
       "Number of Credit Problems                         1.00000   \n",
       "Months since last delinquent                     -0.02518   \n",
       "Bankruptcies                                      0.31823   \n",
       "Purpose                                          -0.00859   \n",
       "Term                                              0.00289   \n",
       "Current Loan Amount                              -0.01849   \n",
       "Current Credit Balance                           -0.05871   \n",
       "Monthly Debt                                     -0.01190   \n",
       "Credit Score                                     -0.03802   \n",
       "Credit Default                                    0.04096   \n",
       "Current Loan Amount outlier                      -0.01984   \n",
       "Current Credit Balance outlier                   -0.01083   \n",
       "Annual Income NAN                                 0.00170   \n",
       "Delinquent                                        0.04744   \n",
       "Credit Score NAN                                  0.00170   \n",
       "Money_after_debt                                  0.02382   \n",
       "\n",
       "                                Months since last delinquent  Bankruptcies  \\\n",
       "Home Ownership                                       0.05255       0.00648   \n",
       "Annual Income                                       -0.07982      -0.07306   \n",
       "Years in current job                                -0.04866       0.07498   \n",
       "Tax Liens                                           -0.03472       0.05740   \n",
       "Number of Open Accounts                             -0.06656      -0.01926   \n",
       "Years of Credit History                             -0.13219       0.08550   \n",
       "Maximum Open Credit                                  0.09960      -0.16226   \n",
       "Number of Credit Problems                           -0.02518       0.31823   \n",
       "Months since last delinquent                         1.00000       0.04177   \n",
       "Bankruptcies                                         0.04177       1.00000   \n",
       "Purpose                                              0.01835       0.01409   \n",
       "Term                                                 0.00088       0.03115   \n",
       "Current Loan Amount                                  0.00006      -0.09125   \n",
       "Current Credit Balance                               0.10187      -0.17379   \n",
       "Monthly Debt                                        -0.03646      -0.08243   \n",
       "Credit Score                                         0.07579      -0.03761   \n",
       "Credit Default                                      -0.01089       0.00157   \n",
       "Current Loan Amount outlier                          0.02045      -0.00564   \n",
       "Current Credit Balance outlier                       0.04227      -0.05164   \n",
       "Annual Income NAN                                    0.01569      -0.00461   \n",
       "Delinquent                                          -0.94307      -0.00513   \n",
       "Credit Score NAN                                     0.01569      -0.00461   \n",
       "Money_after_debt                                    -0.08236      -0.06628   \n",
       "\n",
       "                                ...  Current Credit Balance  Monthly Debt  \\\n",
       "Home Ownership                  ...                -0.18016      -0.20737   \n",
       "Annual Income                   ...                 0.33145       0.67863   \n",
       "Years in current job            ...                 0.12557       0.09778   \n",
       "Tax Liens                       ...                -0.01770       0.02846   \n",
       "Number of Open Accounts         ...                 0.31235       0.39997   \n",
       "Years of Credit History         ...                 0.22089       0.19244   \n",
       "Maximum Open Credit             ...                 0.64746       0.37984   \n",
       "Number of Credit Problems       ...                -0.05871      -0.01190   \n",
       "Months since last delinquent    ...                 0.10187      -0.03646   \n",
       "Bankruptcies                    ...                -0.17379      -0.08243   \n",
       "Purpose                         ...                 0.12952       0.07581   \n",
       "Term                            ...                -0.14859      -0.14702   \n",
       "Current Loan Amount             ...                 0.41369       0.42109   \n",
       "Current Credit Balance          ...                 1.00000       0.43756   \n",
       "Monthly Debt                    ...                 0.43756       1.00000   \n",
       "Credit Score                    ...                -0.01947      -0.06081   \n",
       "Credit Default                  ...                 0.00593       0.01410   \n",
       "Current Loan Amount outlier     ...                -0.00182      -0.00274   \n",
       "Current Credit Balance outlier  ...                -0.03703       0.30085   \n",
       "Annual Income NAN               ...                -0.00556       0.00512   \n",
       "Delinquent                      ...                -0.11215       0.02586   \n",
       "Credit Score NAN                ...                -0.00556       0.00512   \n",
       "Money_after_debt                ...                 0.28891       0.57222   \n",
       "\n",
       "                                Credit Score  Credit Default  \\\n",
       "Home Ownership                      -0.03161         0.06633   \n",
       "Annual Income                        0.02570        -0.07096   \n",
       "Years in current job                -0.02071         0.00665   \n",
       "Tax Liens                           -0.01348         0.02435   \n",
       "Number of Open Accounts             -0.03004         0.02870   \n",
       "Years of Credit History              0.06054        -0.02045   \n",
       "Maximum Open Credit                  0.09891        -0.05233   \n",
       "Number of Credit Problems           -0.03802         0.04096   \n",
       "Months since last delinquent         0.07579        -0.01089   \n",
       "Bankruptcies                        -0.03761         0.00157   \n",
       "Purpose                              0.05132         0.00061   \n",
       "Term                                 0.42401        -0.18145   \n",
       "Current Loan Amount                 -0.18190         0.06383   \n",
       "Current Credit Balance              -0.01947         0.00593   \n",
       "Monthly Debt                        -0.06081         0.01410   \n",
       "Credit Score                         1.00000        -0.16986   \n",
       "Credit Default                      -0.16986         1.00000   \n",
       "Current Loan Amount outlier          0.11915        -0.22688   \n",
       "Current Credit Balance outlier       0.01381        -0.02083   \n",
       "Annual Income NAN                    0.14377         0.06588   \n",
       "Delinquent                          -0.08394         0.01225   \n",
       "Credit Score NAN                     0.14377         0.06588   \n",
       "Money_after_debt                     0.03998        -0.08185   \n",
       "\n",
       "                                Current Loan Amount outlier  \\\n",
       "Home Ownership                                     -0.01276   \n",
       "Annual Income                                       0.02525   \n",
       "Years in current job                               -0.00327   \n",
       "Tax Liens                                          -0.00799   \n",
       "Number of Open Accounts                             0.00029   \n",
       "Years of Credit History                             0.00944   \n",
       "Maximum Open Credit                                 0.02749   \n",
       "Number of Credit Problems                          -0.01984   \n",
       "Months since last delinquent                        0.02045   \n",
       "Bankruptcies                                       -0.00564   \n",
       "Purpose                                             0.00984   \n",
       "Term                                                0.07742   \n",
       "Current Loan Amount                                 0.00082   \n",
       "Current Credit Balance                             -0.00182   \n",
       "Monthly Debt                                       -0.00274   \n",
       "Credit Score                                        0.11915   \n",
       "Credit Default                                     -0.22688   \n",
       "Current Loan Amount outlier                         1.00000   \n",
       "Current Credit Balance outlier                      0.01652   \n",
       "Annual Income NAN                                  -0.18525   \n",
       "Delinquent                                         -0.02176   \n",
       "Credit Score NAN                                   -0.18525   \n",
       "Money_after_debt                                    0.02870   \n",
       "\n",
       "                                Current Credit Balance outlier  \\\n",
       "Home Ownership                                        -0.08560   \n",
       "Annual Income                                          0.26226   \n",
       "Years in current job                                   0.03195   \n",
       "Tax Liens                                              0.00418   \n",
       "Number of Open Accounts                                0.11571   \n",
       "Years of Credit History                                0.12061   \n",
       "Maximum Open Credit                                    0.17738   \n",
       "Number of Credit Problems                             -0.01083   \n",
       "Months since last delinquent                           0.04227   \n",
       "Bankruptcies                                          -0.05164   \n",
       "Purpose                                               -0.00840   \n",
       "Term                                                  -0.01992   \n",
       "Current Loan Amount                                    0.11430   \n",
       "Current Credit Balance                                -0.03703   \n",
       "Monthly Debt                                           0.30085   \n",
       "Credit Score                                           0.01381   \n",
       "Credit Default                                        -0.02083   \n",
       "Current Loan Amount outlier                            0.01652   \n",
       "Current Credit Balance outlier                         1.00000   \n",
       "Annual Income NAN                                      0.00003   \n",
       "Delinquent                                            -0.04912   \n",
       "Credit Score NAN                                       0.00003   \n",
       "Money_after_debt                                       0.23702   \n",
       "\n",
       "                                Annual Income NAN  Delinquent  \\\n",
       "Home Ownership                            0.00755    -0.03875   \n",
       "Annual Income                             0.00414     0.06350   \n",
       "Years in current job                     -0.00378     0.05195   \n",
       "Tax Liens                                 0.00622     0.05327   \n",
       "Number of Open Accounts                   0.00314     0.06323   \n",
       "Years of Credit History                   0.00194     0.13646   \n",
       "Maximum Open Credit                      -0.00129    -0.11626   \n",
       "Number of Credit Problems                 0.00170     0.04744   \n",
       "Months since last delinquent              0.01569    -0.94307   \n",
       "Bankruptcies                             -0.00461    -0.00513   \n",
       "Purpose                                  -0.01502    -0.01470   \n",
       "Term                                      0.03013    -0.00435   \n",
       "Current Loan Amount                      -0.02450    -0.00640   \n",
       "Current Credit Balance                   -0.00556    -0.11215   \n",
       "Monthly Debt                              0.00512     0.02586   \n",
       "Credit Score                              0.14377    -0.08394   \n",
       "Credit Default                            0.06588     0.01225   \n",
       "Current Loan Amount outlier              -0.18525    -0.02176   \n",
       "Current Credit Balance outlier            0.00003    -0.04912   \n",
       "Annual Income NAN                         1.00000    -0.01729   \n",
       "Delinquent                               -0.01729     1.00000   \n",
       "Credit Score NAN                          1.00000    -0.01729   \n",
       "Money_after_debt                          0.00368     0.06611   \n",
       "\n",
       "                                Credit Score NAN  Money_after_debt  \n",
       "Home Ownership                           0.00755          -0.20178  \n",
       "Annual Income                            0.00414           0.99067  \n",
       "Years in current job                    -0.00378           0.07277  \n",
       "Tax Liens                                0.00622           0.06513  \n",
       "Number of Open Accounts                  0.00314           0.17926  \n",
       "Years of Credit History                  0.00194           0.17723  \n",
       "Maximum Open Credit                     -0.00129           0.28257  \n",
       "Number of Credit Problems                0.00170           0.02382  \n",
       "Months since last delinquent             0.01569          -0.08236  \n",
       "Bankruptcies                            -0.00461          -0.06628  \n",
       "Purpose                                 -0.01502           0.02847  \n",
       "Term                                     0.03013          -0.08847  \n",
       "Current Loan Amount                     -0.02450           0.39069  \n",
       "Current Credit Balance                  -0.00556           0.28891  \n",
       "Monthly Debt                             0.00512           0.57222  \n",
       "Credit Score                             0.14377           0.03998  \n",
       "Credit Default                           0.06588          -0.08185  \n",
       "Current Loan Amount outlier             -0.18525           0.02870  \n",
       "Current Credit Balance outlier           0.00003           0.23702  \n",
       "Annual Income NAN                        1.00000           0.00368  \n",
       "Delinquent                              -0.01729           0.06611  \n",
       "Credit Score NAN                         1.00000           0.00368  \n",
       "Money_after_debt                         0.00368           1.00000  \n",
       "\n",
       "[23 rows x 23 columns]"
      ]
     },
     "execution_count": 175,
     "metadata": {},
     "output_type": "execute_result"
    }
   ],
   "source": [
    "df_train.corr()"
   ]
  },
  {
   "cell_type": "code",
   "execution_count": null,
   "id": "bde8d115",
   "metadata": {},
   "outputs": [],
   "source": []
  },
  {
   "cell_type": "code",
   "execution_count": null,
   "id": "97a6095e",
   "metadata": {},
   "outputs": [],
   "source": []
  },
  {
   "cell_type": "code",
   "execution_count": null,
   "id": "d9cdf3a1",
   "metadata": {},
   "outputs": [],
   "source": []
  },
  {
   "cell_type": "code",
   "execution_count": null,
   "id": "10c192f0",
   "metadata": {},
   "outputs": [],
   "source": []
  },
  {
   "cell_type": "code",
   "execution_count": null,
   "id": "66b0e001",
   "metadata": {},
   "outputs": [],
   "source": []
  },
  {
   "cell_type": "code",
   "execution_count": null,
   "id": "061747b7",
   "metadata": {},
   "outputs": [],
   "source": []
  },
  {
   "cell_type": "code",
   "execution_count": null,
   "id": "9365e494",
   "metadata": {},
   "outputs": [],
   "source": []
  },
  {
   "cell_type": "code",
   "execution_count": null,
   "id": "0fb2fd29",
   "metadata": {},
   "outputs": [],
   "source": []
  },
  {
   "cell_type": "code",
   "execution_count": null,
   "id": "227356bc",
   "metadata": {},
   "outputs": [],
   "source": []
  },
  {
   "cell_type": "code",
   "execution_count": null,
   "id": "6ba49bc9",
   "metadata": {},
   "outputs": [],
   "source": []
  },
  {
   "cell_type": "code",
   "execution_count": null,
   "id": "37f8e2c5",
   "metadata": {},
   "outputs": [],
   "source": []
  },
  {
   "cell_type": "code",
   "execution_count": null,
   "id": "96800676",
   "metadata": {},
   "outputs": [],
   "source": [
    "\n"
   ]
  },
  {
   "cell_type": "markdown",
   "id": "2c6f5fae",
   "metadata": {},
   "source": [
    "Заново загрузим трейн дата сет, разобьем на трейн и валид, и еще раз проделаем все наши манипуляции."
   ]
  },
  {
   "cell_type": "code",
   "execution_count": 176,
   "id": "7ce1efaf",
   "metadata": {},
   "outputs": [],
   "source": [
    "train = pd.read_csv(TRAIN_DATASET_PATH)"
   ]
  },
  {
   "cell_type": "code",
   "execution_count": 177,
   "id": "8e370cab",
   "metadata": {},
   "outputs": [],
   "source": [
    "valid = train.iloc[5000:]\n",
    "train = train.iloc[:5000]\n",
    "\n"
   ]
  },
  {
   "cell_type": "markdown",
   "id": "0fc94fac",
   "metadata": {},
   "source": [
    "Заново переопределим переменные"
   ]
  },
  {
   "cell_type": "markdown",
   "id": "e6721ae8",
   "metadata": {},
   "source": [
    "#### Переменные"
   ]
  },
  {
   "cell_type": "code",
   "execution_count": 178,
   "id": "2c32381c",
   "metadata": {},
   "outputs": [],
   "source": [
    "max_open_credit = np.quantile(train['Maximum Open Credit'], q=0.975)\n",
    "max_open_credit_median = train['Maximum Open Credit'].median()\n",
    "current_loan_amount_median = train['Current Loan Amount'].median()\n",
    "high_credit_balance = np.quantile(train['Current Credit Balance'], q=0.975)\n",
    "credit_balance_median = train['Current Credit Balance'].median()\n",
    "min_monthly_debt = np.quantile(train['Monthly Debt'], q=0.025)\n",
    "mean_monthly_debt_months = train['Current Loan Amount'].mean() / train['Monthly Debt'].mean()\n",
    "annual_incom_coef = train[\"Annual Income\"].mean() / train['Monthly Debt'].mean()\n",
    "current_job_mode = train['Years in current job'].mode()[0]\n",
    "bankruptcies_median = train['Bankruptcies'].median()\n",
    "credit_score_median = train['Credit Score'].median()\n",
    "home_ownership_credit_default_stat = train.groupby(by='Home Ownership')['Credit Default'].mean().to_dict()\n",
    "years_in_current_job_dict = {'10+ years': 10, '2 years': 2, '3 years': 3, '< 1 year': 0, '5 years': 5, '1 year': 1, '4 years': 4, '6 years': 6, '7 years': 7, '8 years': 8, '9 years': 9}\n",
    "purpose_stat = train.groupby(by='Purpose')['Current Loan Amount'].mean().to_dict()\n",
    "max_delinquent = train['Months since last delinquent'].max()\n"
   ]
  },
  {
   "cell_type": "markdown",
   "id": "bf8267b3",
   "metadata": {},
   "source": [
    "#### Функция предобработки данных"
   ]
  },
  {
   "cell_type": "code",
   "execution_count": 179,
   "id": "a10a10ee",
   "metadata": {},
   "outputs": [],
   "source": [
    "def prep_data(df):\n",
    "    \n",
    "    #Выбросы\n",
    "    \n",
    "    #df.loc[df['Maximum Open Credit'] > max_open_credit, 'Maximum Open Credit'] = max_open_credit_median\n",
    "    \n",
    "\n",
    "    df[\"Current Loan Amount outlier\"] = 0\n",
    "    df.loc[df['Current Loan Amount'] == 99999999, 'Current Loan Amount outlier'] = 1\n",
    "    #df.loc[df['Current Loan Amount'] == 99999999, 'Current Loan Amount'] = current_loan_amount_median\n",
    "    #df = df.loc[df['Current Loan Amount'] != 99999999]\n",
    "    \n",
    "    \n",
    "    #df[\"Current Credit Balance outlier\"] = 0\n",
    "    #df.loc[df['Current Credit Balance'] > high_credit_balance, 'Current Credit Balance outlier'] = 1\n",
    "    #df.loc[df['Current Credit Balance'] > high_credit_balance, 'Current Credit Balance'] = credit_balance_median\n",
    "    \n",
    "    \n",
    "    #df = df.loc[df['Monthly Debt'] != 0]\n",
    "    #df.loc[(df['Monthly Debt'] < min_monthly_debt) & ((df['Current Loan Amount'] / df['Monthly Debt']) > 120), 'Monthly Debt'] = df['Current Loan Amount'] / mean_monthly_debt_months\n",
    "    \n",
    "    #df.loc[df['Credit Score'] > 2000, 'Credit Score'] //= 10\n",
    "    \n",
    "    #Пропуски\n",
    "    \n",
    "    #df[\"Annual Income NAN\"] = 0\n",
    "    #df.loc[df[\"Annual Income\"].isnull(), \"Annual Income NAN\"] = 1\n",
    "    df.loc[df[\"Annual Income\"].isnull(), \"Annual Income\"] = df[\"Monthly Debt\"] * annual_incom_coef\n",
    "    \n",
    "    df.loc[df['Years in current job'].isnull(), 'Years in current job'] = current_job_mode\n",
    "    \n",
    "    df['Delinquent'] = 1\n",
    "    df.loc[df['Months since last delinquent'].isnull(), 'Delinquent'] = 0\n",
    "    \n",
    "    #df.loc[df['Months since last delinquent'].isnull(), 'Months since last delinquent'] = df['Years of Credit History'] * 12\n",
    "    df.loc[df['Months since last delinquent'].isnull(), 'Months since last delinquent'] = max_delinquent\n",
    "    \n",
    "    \n",
    "    df.loc[df['Bankruptcies'].isnull(), 'Bankruptcies'] = bankruptcies_median\n",
    "    \n",
    "    #df['Credit Score NAN'] = 0\n",
    "    #df.loc[df['Credit Score'].isnull(), 'Credit Score NAN'] = 1\n",
    "    df.loc[df['Credit Score'].isnull(), 'Credit Score'] = credit_score_median\n",
    "    \n",
    "\n",
    "    #Фичи\n",
    "    \n",
    "    #df = df.drop('Months since last delinquent', 1)\n",
    "    \n",
    "    df.replace({\"Home Ownership\": home_ownership_credit_default_stat}, inplace=True )\n",
    "        \n",
    "    df.replace({'Years in current job': years_in_current_job_dict}, inplace=True)\n",
    "    \n",
    "    df.replace({'Purpose': purpose_stat}, inplace=True)\n",
    "    \n",
    "    df['Term'] = (df['Term'] == 'Short Term').astype(int)\n",
    "    \n",
    "    #df['Use coef'] = df['Current Credit Balance'] / df['Current Loan Amount'] # Вес нормальный, но -\n",
    "    \n",
    "    #df['Acc coef'] =  df['Number of Open Accounts'] / df['Years of Credit History'] # Вес нормальный, но -\n",
    "    \n",
    "\n",
    "    \n",
    "    return df"
   ]
  },
  {
   "cell_type": "code",
   "execution_count": 180,
   "id": "be0f2b82",
   "metadata": {},
   "outputs": [],
   "source": [
    "train = prep_data(train)\n",
    "valid = prep_data(valid)"
   ]
  },
  {
   "cell_type": "code",
   "execution_count": 181,
   "id": "49b5ce27",
   "metadata": {},
   "outputs": [],
   "source": [
    "X_train, y_train = train.drop(\"Credit Default\", axis = 1), train[\"Credit Default\"]\n",
    "\n",
    "X_valid, y_valid = valid.drop(\"Credit Default\", axis = 1), valid[\"Credit Default\"]\n"
   ]
  },
  {
   "cell_type": "code",
   "execution_count": null,
   "id": "fbec14e1",
   "metadata": {},
   "outputs": [],
   "source": [
    "import xgboost as xgb\n",
    "gbm = xgb.XGBClassifier()"
   ]
  },
  {
   "cell_type": "code",
   "execution_count": null,
   "id": "af626d90",
   "metadata": {},
   "outputs": [],
   "source": []
  },
  {
   "cell_type": "code",
   "execution_count": null,
   "id": "9ba48127",
   "metadata": {},
   "outputs": [],
   "source": []
  },
  {
   "cell_type": "code",
   "execution_count": null,
   "id": "d9f4bd5c",
   "metadata": {},
   "outputs": [],
   "source": []
  },
  {
   "cell_type": "code",
   "execution_count": null,
   "id": "a9534d2f",
   "metadata": {},
   "outputs": [],
   "source": []
  },
  {
   "cell_type": "code",
   "execution_count": null,
   "id": "c549cfb3",
   "metadata": {},
   "outputs": [],
   "source": []
  },
  {
   "cell_type": "code",
   "execution_count": null,
   "id": "546f23ee",
   "metadata": {},
   "outputs": [],
   "source": []
  },
  {
   "cell_type": "code",
   "execution_count": null,
   "id": "f69ab799",
   "metadata": {},
   "outputs": [],
   "source": []
  },
  {
   "cell_type": "code",
   "execution_count": 183,
   "id": "75c68742",
   "metadata": {},
   "outputs": [
    {
     "data": {
      "text/plain": [
       "GradientBoostingClassifier(criterion='mse', max_depth=10, max_features=9,\n",
       "                           min_samples_leaf=80, n_estimators=150,\n",
       "                           random_state=42)"
      ]
     },
     "execution_count": 183,
     "metadata": {},
     "output_type": "execute_result"
    }
   ],
   "source": [
    "gbc.fit(X_train, y_train)"
   ]
  },
  {
   "cell_type": "code",
   "execution_count": 184,
   "id": "7a012092",
   "metadata": {},
   "outputs": [],
   "source": [
    "predict = gbc.predict(X_valid)\n"
   ]
  },
  {
   "cell_type": "code",
   "execution_count": 185,
   "id": "60f35666",
   "metadata": {},
   "outputs": [
    {
     "data": {
      "text/plain": [
       "0.5027124773960217"
      ]
     },
     "execution_count": 185,
     "metadata": {},
     "output_type": "execute_result"
    }
   ],
   "source": [
    "f1(y_valid, predict)"
   ]
  },
  {
   "cell_type": "code",
   "execution_count": null,
   "id": "99d9e852",
   "metadata": {},
   "outputs": [],
   "source": []
  },
  {
   "cell_type": "code",
   "execution_count": 186,
   "id": "979ccc8b",
   "metadata": {
    "scrolled": true
   },
   "outputs": [
    {
     "data": {
      "image/png": "[encoded data removed]",
      "text/plain": [
       "<Figure size 720x720 with 1 Axes>"
      ]
     },
     "metadata": {
      "needs_background": "light"
     },
     "output_type": "display_data"
    }
   ],
   "source": [
    "f_i = gbc.feature_importances_\n",
    "plt.figure(figsize=(10,10))\n",
    "plt.barh(X_train.columns, f_i)\n",
    "plt.show()"
   ]
  },
  {
   "cell_type": "code",
   "execution_count": 187,
   "id": "eafb82f8",
   "metadata": {
    "scrolled": true
   },
   "outputs": [],
   "source": [
    "feature = pd.DataFrame([f_i], columns=X_train.columns)"
   ]
  },
  {
   "cell_type": "code",
   "execution_count": 188,
   "id": "ca5f6e59",
   "metadata": {},
   "outputs": [
    {
     "data": {
      "text/html": [
       "<div>\n",
       "<style scoped>\n",
       "    .dataframe tbody tr th:only-of-type {\n",
       "        vertical-align: middle;\n",
       "    }\n",
       "\n",
       "    .dataframe tbody tr th {\n",
       "        vertical-align: top;\n",
       "    }\n",
       "\n",
       "    .dataframe thead th {\n",
       "        text-align: right;\n",
       "    }\n",
       "</style>\n",
       "<table border=\"1\" class=\"dataframe\">\n",
       "  <thead>\n",
       "    <tr style=\"text-align: right;\">\n",
       "      <th></th>\n",
       "      <th>Home Ownership</th>\n",
       "      <th>Annual Income</th>\n",
       "      <th>Years in current job</th>\n",
       "      <th>Tax Liens</th>\n",
       "      <th>Number of Open Accounts</th>\n",
       "      <th>Years of Credit History</th>\n",
       "      <th>Maximum Open Credit</th>\n",
       "      <th>Number of Credit Problems</th>\n",
       "      <th>Months since last delinquent</th>\n",
       "      <th>Bankruptcies</th>\n",
       "      <th>Purpose</th>\n",
       "      <th>Term</th>\n",
       "      <th>Current Loan Amount</th>\n",
       "      <th>Current Credit Balance</th>\n",
       "      <th>Monthly Debt</th>\n",
       "      <th>Credit Score</th>\n",
       "      <th>Current Loan Amount outlier</th>\n",
       "      <th>Delinquent</th>\n",
       "    </tr>\n",
       "  </thead>\n",
       "  <tbody>\n",
       "    <tr>\n",
       "      <th>0</th>\n",
       "      <td>0.01550</td>\n",
       "      <td>0.08622</td>\n",
       "      <td>0.02141</td>\n",
       "      <td>0.00004</td>\n",
       "      <td>0.03197</td>\n",
       "      <td>0.04967</td>\n",
       "      <td>0.07852</td>\n",
       "      <td>0.00218</td>\n",
       "      <td>0.03070</td>\n",
       "      <td>0.00123</td>\n",
       "      <td>0.00782</td>\n",
       "      <td>0.05161</td>\n",
       "      <td>0.14036</td>\n",
       "      <td>0.07075</td>\n",
       "      <td>0.07229</td>\n",
       "      <td>0.32410</td>\n",
       "      <td>0.01239</td>\n",
       "      <td>0.00324</td>\n",
       "    </tr>\n",
       "  </tbody>\n",
       "</table>\n",
       "</div>"
      ],
      "text/plain": [
       "   Home Ownership  Annual Income  Years in current job  Tax Liens  \\\n",
       "0         0.01550        0.08622               0.02141    0.00004   \n",
       "\n",
       "   Number of Open Accounts  Years of Credit History  Maximum Open Credit  \\\n",
       "0                  0.03197                  0.04967              0.07852   \n",
       "\n",
       "   Number of Credit Problems  Months since last delinquent  Bankruptcies  \\\n",
       "0                    0.00218                       0.03070       0.00123   \n",
       "\n",
       "   Purpose    Term  Current Loan Amount  Current Credit Balance  Monthly Debt  \\\n",
       "0  0.00782 0.05161              0.14036                 0.07075       0.07229   \n",
       "\n",
       "   Credit Score  Current Loan Amount outlier  Delinquent  \n",
       "0       0.32410                      0.01239     0.00324  "
      ]
     },
     "execution_count": 188,
     "metadata": {},
     "output_type": "execute_result"
    }
   ],
   "source": [
    "feature"
   ]
  },
  {
   "cell_type": "code",
   "execution_count": null,
   "id": "4820ac0c",
   "metadata": {},
   "outputs": [],
   "source": []
  },
  {
   "cell_type": "code",
   "execution_count": null,
   "id": "cd3ffb95",
   "metadata": {},
   "outputs": [],
   "source": []
  },
  {
   "cell_type": "raw",
   "id": "157d18a6",
   "metadata": {},
   "source": [
    "gb_model = GradientBoostingClassifier(criterion='mse', learning_rate =  0.1 , min_samples_leaf = 80, n_estimators = 150,  random_state = 42)\n",
    "\n",
    "parameters = {\n",
    "    'max_depth' : np.arange(4, 10),\n",
    "    'max_features': np.arange(4, 10),\n",
    "    \n",
    "}\n",
    "gs = GridSearchCV(\n",
    "    estimator=gb_model,\n",
    "    param_grid=parameters,\n",
    "    scoring='f1',\n",
    "    cv=5,\n",
    ")\n",
    "gs.fit(X_train, y_train)\n",
    "gs.best_params_"
   ]
  },
  {
   "cell_type": "code",
   "execution_count": null,
   "id": "1201f327",
   "metadata": {},
   "outputs": [],
   "source": []
  },
  {
   "cell_type": "code",
   "execution_count": null,
   "id": "6cd85f20",
   "metadata": {},
   "outputs": [],
   "source": []
  },
  {
   "cell_type": "code",
   "execution_count": null,
   "id": "c812f342",
   "metadata": {},
   "outputs": [],
   "source": []
  },
  {
   "cell_type": "code",
   "execution_count": null,
   "id": "a954f77a",
   "metadata": {},
   "outputs": [],
   "source": []
  },
  {
   "cell_type": "code",
   "execution_count": null,
   "id": "c5ea3a2b",
   "metadata": {},
   "outputs": [],
   "source": []
  },
  {
   "cell_type": "code",
   "execution_count": null,
   "id": "effcee6f",
   "metadata": {},
   "outputs": [],
   "source": []
  },
  {
   "cell_type": "code",
   "execution_count": null,
   "id": "dc3f2e64",
   "metadata": {},
   "outputs": [],
   "source": []
  },
  {
   "cell_type": "code",
   "execution_count": null,
   "id": "e27ef941",
   "metadata": {},
   "outputs": [],
   "source": []
  },
  {
   "cell_type": "code",
   "execution_count": null,
   "id": "eab60a51",
   "metadata": {},
   "outputs": [],
   "source": []
  },
  {
   "cell_type": "code",
   "execution_count": null,
   "id": "3d585cab",
   "metadata": {},
   "outputs": [],
   "source": []
  },
  {
   "cell_type": "code",
   "execution_count": null,
   "id": "4a8cccd7",
   "metadata": {},
   "outputs": [],
   "source": []
  }
 ],
 "metadata": {
  "kernelspec": {
   "display_name": "Python 3",
   "language": "python",
   "name": "python3"
  },
  "language_info": {
   "codemirror_mode": {
    "name": "ipython",
    "version": 3
   },
   "file_extension": ".py",
   "mimetype": "text/x-python",
   "name": "python",
   "nbconvert_exporter": "python",
   "pygments_lexer": "ipython3",
   "version": "3.8.8"
  }
 },
 "nbformat": 4,
 "nbformat_minor": 5
}
