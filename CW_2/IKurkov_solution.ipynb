{
 "cells": [
  {
   "cell_type": "markdown",
   "id": "7be39117",
   "metadata": {},
   "source": [
    "#                                      Курсовой проект"
   ]
  },
  {
   "cell_type": "markdown",
   "id": "ef796e97",
   "metadata": {},
   "source": [
    "### Задача\n",
    "\n",
    "Требуется, на основании имеющихся данных о клиентах банка, построить модель, используя обучающий датасет, для прогнозирования невыполнения долговых обязательств по текущему кредиту. Выполнить прогноз для примеров из тестового датасета.\n",
    "\n",
    "#### Наименование файлов с данными\n",
    "\n",
    "course_project_train.csv - обучающий датасет\n",
    "course_project_test.csv - тестовый датасет\n",
    "\n",
    "#### Целевая переменная\n",
    "\n",
    "Credit Default - факт невыполнения кредитных обязательств\n",
    "\n",
    "#### Метрика качества\n",
    "\n",
    "F1-score (sklearn.metrics.f1_score)\n",
    "\n",
    "#### Требования к решению\n",
    "\n",
    "Целевая метрика\n",
    "\n",
    "F1 > 0.5\n",
    "Метрика оценивается по качеству прогноза для главного класса (1 - просрочка по кредиту)\n",
    "Решение должно содержать"
   ]
  },
  {
   "cell_type": "markdown",
   "id": "a47a7c63",
   "metadata": {},
   "source": [
    "### Описание датасета\n",
    "\n",
    "Home Ownership - домовладение\n",
    "\n",
    "Annual Income - годовой доход\n",
    "\n",
    "Years in current job - количество лет на текущем месте работы\n",
    "\n",
    "Tax Liens - налоговые обременения\n",
    "\n",
    "Number of Open Accounts - количество открытых счетов\n",
    "\n",
    "Years of Credit History - количество лет кредитной истории\n",
    "\n",
    "Maximum Open Credit - наибольший открытый кредит\n",
    "\n",
    "Number of Credit Problems - количество проблем с кредитом\n",
    "\n",
    "Months since last delinquent - количество месяцев с последней просрочки платежа\n",
    "\n",
    "Bankruptcies - банкротства\n",
    "\n",
    "Purpose - цель кредита\n",
    "\n",
    "Term - срок кредита\n",
    "\n",
    "Current Loan Amount - текущая сумма кредита\n",
    "\n",
    "Current Credit Balance - текущий кредитный баланс\n",
    "\n",
    "Monthly Debt - ежемесячный долг\n",
    "\n",
    "Credit Default - факт невыполнения кредитных обязательств (0 - погашен вовремя, 1 - просрочка)"
   ]
  },
  {
   "cell_type": "code",
   "execution_count": 174,
   "id": "8626d01c",
   "metadata": {},
   "outputs": [],
   "source": [
    "import numpy as np\n",
    "import pandas as pd\n",
    "import seaborn as sns\n",
    "import warnings\n",
    "import matplotlib.pyplot as plt\n",
    "warnings.filterwarnings('ignore')\n",
    "\n",
    "\n",
    "from sklearn.model_selection import GridSearchCV\n",
    "from sklearn.preprocessing import RobustScaler\n",
    "from sklearn.cluster import DBSCAN"
   ]
  },
  {
   "cell_type": "markdown",
   "id": "46d6a770",
   "metadata": {},
   "source": [
    "### Пути к директориям и файлам"
   ]
  },
  {
   "cell_type": "code",
   "execution_count": 175,
   "id": "c430477a",
   "metadata": {},
   "outputs": [],
   "source": [
    "TRAIN_DATASET_PATH = 'course_project_train.csv'\n",
    "TEST_DATASET_PATH = 'course_project_test.csv'"
   ]
  },
  {
   "cell_type": "code",
   "execution_count": 176,
   "id": "63c861aa",
   "metadata": {},
   "outputs": [],
   "source": [
    "df_train = pd.read_csv(TRAIN_DATASET_PATH)"
   ]
  },
  {
   "cell_type": "code",
   "execution_count": 177,
   "id": "994c7929",
   "metadata": {},
   "outputs": [
    {
     "data": {
      "text/html": [
       "<div>\n",
       "<style scoped>\n",
       "    .dataframe tbody tr th:only-of-type {\n",
       "        vertical-align: middle;\n",
       "    }\n",
       "\n",
       "    .dataframe tbody tr th {\n",
       "        vertical-align: top;\n",
       "    }\n",
       "\n",
       "    .dataframe thead th {\n",
       "        text-align: right;\n",
       "    }\n",
       "</style>\n",
       "<table border=\"1\" class=\"dataframe\">\n",
       "  <thead>\n",
       "    <tr style=\"text-align: right;\">\n",
       "      <th></th>\n",
       "      <th>Home Ownership</th>\n",
       "      <th>Annual Income</th>\n",
       "      <th>Years in current job</th>\n",
       "      <th>Tax Liens</th>\n",
       "      <th>Number of Open Accounts</th>\n",
       "      <th>Years of Credit History</th>\n",
       "      <th>Maximum Open Credit</th>\n",
       "      <th>Number of Credit Problems</th>\n",
       "      <th>Months since last delinquent</th>\n",
       "      <th>Bankruptcies</th>\n",
       "      <th>Purpose</th>\n",
       "      <th>Term</th>\n",
       "      <th>Current Loan Amount</th>\n",
       "      <th>Current Credit Balance</th>\n",
       "      <th>Monthly Debt</th>\n",
       "      <th>Credit Score</th>\n",
       "      <th>Credit Default</th>\n",
       "    </tr>\n",
       "  </thead>\n",
       "  <tbody>\n",
       "    <tr>\n",
       "      <th>0</th>\n",
       "      <td>Own Home</td>\n",
       "      <td>482087.00000</td>\n",
       "      <td>NaN</td>\n",
       "      <td>0.00000</td>\n",
       "      <td>11.00000</td>\n",
       "      <td>26.30000</td>\n",
       "      <td>685960.00000</td>\n",
       "      <td>1.00000</td>\n",
       "      <td>NaN</td>\n",
       "      <td>1.00000</td>\n",
       "      <td>debt consolidation</td>\n",
       "      <td>Short Term</td>\n",
       "      <td>99999999.00000</td>\n",
       "      <td>47386.00000</td>\n",
       "      <td>7914.00000</td>\n",
       "      <td>749.00000</td>\n",
       "      <td>0</td>\n",
       "    </tr>\n",
       "    <tr>\n",
       "      <th>1</th>\n",
       "      <td>Own Home</td>\n",
       "      <td>1025487.00000</td>\n",
       "      <td>10+ years</td>\n",
       "      <td>0.00000</td>\n",
       "      <td>15.00000</td>\n",
       "      <td>15.30000</td>\n",
       "      <td>1181730.00000</td>\n",
       "      <td>0.00000</td>\n",
       "      <td>NaN</td>\n",
       "      <td>0.00000</td>\n",
       "      <td>debt consolidation</td>\n",
       "      <td>Long Term</td>\n",
       "      <td>264968.00000</td>\n",
       "      <td>394972.00000</td>\n",
       "      <td>18373.00000</td>\n",
       "      <td>737.00000</td>\n",
       "      <td>1</td>\n",
       "    </tr>\n",
       "    <tr>\n",
       "      <th>2</th>\n",
       "      <td>Home Mortgage</td>\n",
       "      <td>751412.00000</td>\n",
       "      <td>8 years</td>\n",
       "      <td>0.00000</td>\n",
       "      <td>11.00000</td>\n",
       "      <td>35.00000</td>\n",
       "      <td>1182434.00000</td>\n",
       "      <td>0.00000</td>\n",
       "      <td>NaN</td>\n",
       "      <td>0.00000</td>\n",
       "      <td>debt consolidation</td>\n",
       "      <td>Short Term</td>\n",
       "      <td>99999999.00000</td>\n",
       "      <td>308389.00000</td>\n",
       "      <td>13651.00000</td>\n",
       "      <td>742.00000</td>\n",
       "      <td>0</td>\n",
       "    </tr>\n",
       "    <tr>\n",
       "      <th>3</th>\n",
       "      <td>Own Home</td>\n",
       "      <td>805068.00000</td>\n",
       "      <td>6 years</td>\n",
       "      <td>0.00000</td>\n",
       "      <td>8.00000</td>\n",
       "      <td>22.50000</td>\n",
       "      <td>147400.00000</td>\n",
       "      <td>1.00000</td>\n",
       "      <td>NaN</td>\n",
       "      <td>1.00000</td>\n",
       "      <td>debt consolidation</td>\n",
       "      <td>Short Term</td>\n",
       "      <td>121396.00000</td>\n",
       "      <td>95855.00000</td>\n",
       "      <td>11338.00000</td>\n",
       "      <td>694.00000</td>\n",
       "      <td>0</td>\n",
       "    </tr>\n",
       "    <tr>\n",
       "      <th>4</th>\n",
       "      <td>Rent</td>\n",
       "      <td>776264.00000</td>\n",
       "      <td>8 years</td>\n",
       "      <td>0.00000</td>\n",
       "      <td>13.00000</td>\n",
       "      <td>13.60000</td>\n",
       "      <td>385836.00000</td>\n",
       "      <td>1.00000</td>\n",
       "      <td>NaN</td>\n",
       "      <td>0.00000</td>\n",
       "      <td>debt consolidation</td>\n",
       "      <td>Short Term</td>\n",
       "      <td>125840.00000</td>\n",
       "      <td>93309.00000</td>\n",
       "      <td>7180.00000</td>\n",
       "      <td>719.00000</td>\n",
       "      <td>0</td>\n",
       "    </tr>\n",
       "  </tbody>\n",
       "</table>\n",
       "</div>"
      ],
      "text/plain": [
       "  Home Ownership  Annual Income Years in current job  Tax Liens  \\\n",
       "0       Own Home   482087.00000                  NaN    0.00000   \n",
       "1       Own Home  1025487.00000            10+ years    0.00000   \n",
       "2  Home Mortgage   751412.00000              8 years    0.00000   \n",
       "3       Own Home   805068.00000              6 years    0.00000   \n",
       "4           Rent   776264.00000              8 years    0.00000   \n",
       "\n",
       "   Number of Open Accounts  Years of Credit History  Maximum Open Credit  \\\n",
       "0                 11.00000                 26.30000         685960.00000   \n",
       "1                 15.00000                 15.30000        1181730.00000   \n",
       "2                 11.00000                 35.00000        1182434.00000   \n",
       "3                  8.00000                 22.50000         147400.00000   \n",
       "4                 13.00000                 13.60000         385836.00000   \n",
       "\n",
       "   Number of Credit Problems  Months since last delinquent  Bankruptcies  \\\n",
       "0                    1.00000                           NaN       1.00000   \n",
       "1                    0.00000                           NaN       0.00000   \n",
       "2                    0.00000                           NaN       0.00000   \n",
       "3                    1.00000                           NaN       1.00000   \n",
       "4                    1.00000                           NaN       0.00000   \n",
       "\n",
       "              Purpose        Term  Current Loan Amount  \\\n",
       "0  debt consolidation  Short Term       99999999.00000   \n",
       "1  debt consolidation   Long Term         264968.00000   \n",
       "2  debt consolidation  Short Term       99999999.00000   \n",
       "3  debt consolidation  Short Term         121396.00000   \n",
       "4  debt consolidation  Short Term         125840.00000   \n",
       "\n",
       "   Current Credit Balance  Monthly Debt  Credit Score  Credit Default  \n",
       "0             47386.00000    7914.00000     749.00000               0  \n",
       "1            394972.00000   18373.00000     737.00000               1  \n",
       "2            308389.00000   13651.00000     742.00000               0  \n",
       "3             95855.00000   11338.00000     694.00000               0  \n",
       "4             93309.00000    7180.00000     719.00000               0  "
      ]
     },
     "execution_count": 177,
     "metadata": {},
     "output_type": "execute_result"
    }
   ],
   "source": [
    "df_train.head(5)"
   ]
  },
  {
   "cell_type": "code",
   "execution_count": 178,
   "id": "02f1bfa8",
   "metadata": {},
   "outputs": [
    {
     "name": "stdout",
     "output_type": "stream",
     "text": [
      "<class 'pandas.core.frame.DataFrame'>\n",
      "RangeIndex: 7500 entries, 0 to 7499\n",
      "Data columns (total 17 columns):\n",
      " #   Column                        Non-Null Count  Dtype  \n",
      "---  ------                        --------------  -----  \n",
      " 0   Home Ownership                7500 non-null   object \n",
      " 1   Annual Income                 5943 non-null   float64\n",
      " 2   Years in current job          7129 non-null   object \n",
      " 3   Tax Liens                     7500 non-null   float64\n",
      " 4   Number of Open Accounts       7500 non-null   float64\n",
      " 5   Years of Credit History       7500 non-null   float64\n",
      " 6   Maximum Open Credit           7500 non-null   float64\n",
      " 7   Number of Credit Problems     7500 non-null   float64\n",
      " 8   Months since last delinquent  3419 non-null   float64\n",
      " 9   Bankruptcies                  7486 non-null   float64\n",
      " 10  Purpose                       7500 non-null   object \n",
      " 11  Term                          7500 non-null   object \n",
      " 12  Current Loan Amount           7500 non-null   float64\n",
      " 13  Current Credit Balance        7500 non-null   float64\n",
      " 14  Monthly Debt                  7500 non-null   float64\n",
      " 15  Credit Score                  5943 non-null   float64\n",
      " 16  Credit Default                7500 non-null   int64  \n",
      "dtypes: float64(12), int64(1), object(4)\n",
      "memory usage: 996.2+ KB\n"
     ]
    }
   ],
   "source": [
    "df_train.info()"
   ]
  },
  {
   "cell_type": "code",
   "execution_count": 179,
   "id": "1aefa855",
   "metadata": {},
   "outputs": [
    {
     "data": {
      "text/plain": [
       "0    5387\n",
       "1    2113\n",
       "Name: Credit Default, dtype: int64"
      ]
     },
     "execution_count": 179,
     "metadata": {},
     "output_type": "execute_result"
    }
   ],
   "source": [
    "df_train['Credit Default'].value_counts()"
   ]
  },
  {
   "cell_type": "code",
   "execution_count": 180,
   "id": "e808bc61",
   "metadata": {},
   "outputs": [
    {
     "data": {
      "text/html": [
       "<div>\n",
       "<style scoped>\n",
       "    .dataframe tbody tr th:only-of-type {\n",
       "        vertical-align: middle;\n",
       "    }\n",
       "\n",
       "    .dataframe tbody tr th {\n",
       "        vertical-align: top;\n",
       "    }\n",
       "\n",
       "    .dataframe thead th {\n",
       "        text-align: right;\n",
       "    }\n",
       "</style>\n",
       "<table border=\"1\" class=\"dataframe\">\n",
       "  <thead>\n",
       "    <tr style=\"text-align: right;\">\n",
       "      <th></th>\n",
       "      <th>Annual Income</th>\n",
       "      <th>Tax Liens</th>\n",
       "      <th>Number of Open Accounts</th>\n",
       "      <th>Years of Credit History</th>\n",
       "      <th>Maximum Open Credit</th>\n",
       "      <th>Number of Credit Problems</th>\n",
       "      <th>Months since last delinquent</th>\n",
       "      <th>Bankruptcies</th>\n",
       "      <th>Current Loan Amount</th>\n",
       "      <th>Current Credit Balance</th>\n",
       "      <th>Monthly Debt</th>\n",
       "      <th>Credit Score</th>\n",
       "      <th>Credit Default</th>\n",
       "    </tr>\n",
       "  </thead>\n",
       "  <tbody>\n",
       "    <tr>\n",
       "      <th>count</th>\n",
       "      <td>5943.00000</td>\n",
       "      <td>7500.00000</td>\n",
       "      <td>7500.00000</td>\n",
       "      <td>7500.00000</td>\n",
       "      <td>7500.00000</td>\n",
       "      <td>7500.00000</td>\n",
       "      <td>3419.00000</td>\n",
       "      <td>7486.00000</td>\n",
       "      <td>7500.00000</td>\n",
       "      <td>7500.00000</td>\n",
       "      <td>7500.00000</td>\n",
       "      <td>5943.00000</td>\n",
       "      <td>7500.00000</td>\n",
       "    </tr>\n",
       "    <tr>\n",
       "      <th>mean</th>\n",
       "      <td>1366391.72017</td>\n",
       "      <td>0.03013</td>\n",
       "      <td>11.13093</td>\n",
       "      <td>18.31747</td>\n",
       "      <td>945153.72747</td>\n",
       "      <td>0.17000</td>\n",
       "      <td>34.69260</td>\n",
       "      <td>0.11715</td>\n",
       "      <td>11873177.44507</td>\n",
       "      <td>289833.23520</td>\n",
       "      <td>18314.45413</td>\n",
       "      <td>1151.08750</td>\n",
       "      <td>0.28173</td>\n",
       "    </tr>\n",
       "    <tr>\n",
       "      <th>std</th>\n",
       "      <td>845339.19963</td>\n",
       "      <td>0.27160</td>\n",
       "      <td>4.90892</td>\n",
       "      <td>7.04195</td>\n",
       "      <td>16026216.67085</td>\n",
       "      <td>0.49860</td>\n",
       "      <td>21.68881</td>\n",
       "      <td>0.34719</td>\n",
       "      <td>31926122.97473</td>\n",
       "      <td>317871.38238</td>\n",
       "      <td>11926.76467</td>\n",
       "      <td>1604.45142</td>\n",
       "      <td>0.44987</td>\n",
       "    </tr>\n",
       "    <tr>\n",
       "      <th>min</th>\n",
       "      <td>164597.00000</td>\n",
       "      <td>0.00000</td>\n",
       "      <td>2.00000</td>\n",
       "      <td>4.00000</td>\n",
       "      <td>0.00000</td>\n",
       "      <td>0.00000</td>\n",
       "      <td>0.00000</td>\n",
       "      <td>0.00000</td>\n",
       "      <td>11242.00000</td>\n",
       "      <td>0.00000</td>\n",
       "      <td>0.00000</td>\n",
       "      <td>585.00000</td>\n",
       "      <td>0.00000</td>\n",
       "    </tr>\n",
       "    <tr>\n",
       "      <th>25%</th>\n",
       "      <td>844341.00000</td>\n",
       "      <td>0.00000</td>\n",
       "      <td>8.00000</td>\n",
       "      <td>13.50000</td>\n",
       "      <td>279229.50000</td>\n",
       "      <td>0.00000</td>\n",
       "      <td>16.00000</td>\n",
       "      <td>0.00000</td>\n",
       "      <td>180169.00000</td>\n",
       "      <td>114256.50000</td>\n",
       "      <td>10067.50000</td>\n",
       "      <td>711.00000</td>\n",
       "      <td>0.00000</td>\n",
       "    </tr>\n",
       "    <tr>\n",
       "      <th>50%</th>\n",
       "      <td>1168386.00000</td>\n",
       "      <td>0.00000</td>\n",
       "      <td>10.00000</td>\n",
       "      <td>17.00000</td>\n",
       "      <td>478159.00000</td>\n",
       "      <td>0.00000</td>\n",
       "      <td>32.00000</td>\n",
       "      <td>0.00000</td>\n",
       "      <td>309573.00000</td>\n",
       "      <td>209323.00000</td>\n",
       "      <td>16076.50000</td>\n",
       "      <td>731.00000</td>\n",
       "      <td>0.00000</td>\n",
       "    </tr>\n",
       "    <tr>\n",
       "      <th>75%</th>\n",
       "      <td>1640137.00000</td>\n",
       "      <td>0.00000</td>\n",
       "      <td>14.00000</td>\n",
       "      <td>21.80000</td>\n",
       "      <td>793501.50000</td>\n",
       "      <td>0.00000</td>\n",
       "      <td>50.00000</td>\n",
       "      <td>0.00000</td>\n",
       "      <td>519882.00000</td>\n",
       "      <td>360406.25000</td>\n",
       "      <td>23818.00000</td>\n",
       "      <td>743.00000</td>\n",
       "      <td>1.00000</td>\n",
       "    </tr>\n",
       "    <tr>\n",
       "      <th>max</th>\n",
       "      <td>10149344.00000</td>\n",
       "      <td>7.00000</td>\n",
       "      <td>43.00000</td>\n",
       "      <td>57.70000</td>\n",
       "      <td>1304726170.00000</td>\n",
       "      <td>7.00000</td>\n",
       "      <td>118.00000</td>\n",
       "      <td>4.00000</td>\n",
       "      <td>99999999.00000</td>\n",
       "      <td>6506797.00000</td>\n",
       "      <td>136679.00000</td>\n",
       "      <td>7510.00000</td>\n",
       "      <td>1.00000</td>\n",
       "    </tr>\n",
       "  </tbody>\n",
       "</table>\n",
       "</div>"
      ],
      "text/plain": [
       "       Annual Income  Tax Liens  Number of Open Accounts  \\\n",
       "count     5943.00000 7500.00000               7500.00000   \n",
       "mean   1366391.72017    0.03013                 11.13093   \n",
       "std     845339.19963    0.27160                  4.90892   \n",
       "min     164597.00000    0.00000                  2.00000   \n",
       "25%     844341.00000    0.00000                  8.00000   \n",
       "50%    1168386.00000    0.00000                 10.00000   \n",
       "75%    1640137.00000    0.00000                 14.00000   \n",
       "max   10149344.00000    7.00000                 43.00000   \n",
       "\n",
       "       Years of Credit History  Maximum Open Credit  \\\n",
       "count               7500.00000           7500.00000   \n",
       "mean                  18.31747         945153.72747   \n",
       "std                    7.04195       16026216.67085   \n",
       "min                    4.00000              0.00000   \n",
       "25%                   13.50000         279229.50000   \n",
       "50%                   17.00000         478159.00000   \n",
       "75%                   21.80000         793501.50000   \n",
       "max                   57.70000     1304726170.00000   \n",
       "\n",
       "       Number of Credit Problems  Months since last delinquent  Bankruptcies  \\\n",
       "count                 7500.00000                    3419.00000    7486.00000   \n",
       "mean                     0.17000                      34.69260       0.11715   \n",
       "std                      0.49860                      21.68881       0.34719   \n",
       "min                      0.00000                       0.00000       0.00000   \n",
       "25%                      0.00000                      16.00000       0.00000   \n",
       "50%                      0.00000                      32.00000       0.00000   \n",
       "75%                      0.00000                      50.00000       0.00000   \n",
       "max                      7.00000                     118.00000       4.00000   \n",
       "\n",
       "       Current Loan Amount  Current Credit Balance  Monthly Debt  \\\n",
       "count           7500.00000              7500.00000    7500.00000   \n",
       "mean        11873177.44507            289833.23520   18314.45413   \n",
       "std         31926122.97473            317871.38238   11926.76467   \n",
       "min            11242.00000                 0.00000       0.00000   \n",
       "25%           180169.00000            114256.50000   10067.50000   \n",
       "50%           309573.00000            209323.00000   16076.50000   \n",
       "75%           519882.00000            360406.25000   23818.00000   \n",
       "max         99999999.00000           6506797.00000  136679.00000   \n",
       "\n",
       "       Credit Score  Credit Default  \n",
       "count    5943.00000      7500.00000  \n",
       "mean     1151.08750         0.28173  \n",
       "std      1604.45142         0.44987  \n",
       "min       585.00000         0.00000  \n",
       "25%       711.00000         0.00000  \n",
       "50%       731.00000         0.00000  \n",
       "75%       743.00000         1.00000  \n",
       "max      7510.00000         1.00000  "
      ]
     },
     "execution_count": 180,
     "metadata": {},
     "output_type": "execute_result"
    }
   ],
   "source": [
    "pd.set_option('display.float_format', lambda x: '%.5f' % x)\n",
    "df_train.describe()"
   ]
  },
  {
   "cell_type": "markdown",
   "id": "df0dc9ba",
   "metadata": {},
   "source": [
    "- Maximum Open Credit обработать выбросы\n",
    "- Current Loan Amount обработать выбросы\n",
    "- Current Credit Balance - посмотреть выброс или нет.\n",
    "- Credit score -  посмотреть частоту значений, возможно верхняя граница это просто ошибка лишей цифры.\n",
    "- Current Credit Balance, Monthly Debt - посмотреть 0 значения."
   ]
  },
  {
   "cell_type": "markdown",
   "id": "ca014903",
   "metadata": {},
   "source": [
    "### Выбросы"
   ]
  },
  {
   "cell_type": "markdown",
   "id": "085629d2",
   "metadata": {},
   "source": [
    "#### Maximum Open Credit"
   ]
  },
  {
   "cell_type": "code",
   "execution_count": 181,
   "id": "45b3c103",
   "metadata": {},
   "outputs": [
    {
     "data": {
      "text/plain": [
       "<AxesSubplot:xlabel='Maximum Open Credit'>"
      ]
     },
     "execution_count": 181,
     "metadata": {},
     "output_type": "execute_result"
    },
    {
     "data": {
      "image/png": "[encoded data removed]",
      "text/plain": [
       "<Figure size 432x288 with 1 Axes>"
      ]
     },
     "metadata": {
      "needs_background": "light"
     },
     "output_type": "display_data"
    }
   ],
   "source": [
    "sns.boxplot(df_train['Maximum Open Credit'])"
   ]
  },
  {
   "cell_type": "markdown",
   "id": "e13c2c46",
   "metadata": {},
   "source": [
    "Значения совсем фантастические. Заменим все что выше q=0.975 медианой."
   ]
  },
  {
   "cell_type": "code",
   "execution_count": 182,
   "id": "4404cfb7",
   "metadata": {},
   "outputs": [],
   "source": [
    "max_open_credit = np.quantile(df_train['Maximum Open Credit'], q=0.975)\n",
    "max_open_credit_median = df_train['Maximum Open Credit'].median()\n",
    "df_train.loc[df_train['Maximum Open Credit'] > max_open_credit, 'Maximum Open Credit'] = max_open_credit_median"
   ]
  },
  {
   "cell_type": "markdown",
   "id": "50855467",
   "metadata": {},
   "source": [
    "#### Current Loan Amount"
   ]
  },
  {
   "cell_type": "code",
   "execution_count": 183,
   "id": "c7154ec4",
   "metadata": {},
   "outputs": [
    {
     "data": {
      "text/plain": [
       "99999999.00000    870\n",
       "218064.00000        6\n",
       "89298.00000         6\n",
       "216106.00000        5\n",
       "265826.00000        5\n",
       "                 ... \n",
       "104324.00000        1\n",
       "201080.00000        1\n",
       "427812.00000        1\n",
       "665544.00000        1\n",
       "191136.00000        1\n",
       "Name: Current Loan Amount, Length: 5386, dtype: int64"
      ]
     },
     "execution_count": 183,
     "metadata": {},
     "output_type": "execute_result"
    }
   ],
   "source": [
    "df_train['Current Loan Amount'].value_counts()"
   ]
  },
  {
   "cell_type": "code",
   "execution_count": 184,
   "id": "eb151d73",
   "metadata": {},
   "outputs": [
    {
     "data": {
      "text/plain": [
       "<AxesSubplot:>"
      ]
     },
     "execution_count": 184,
     "metadata": {},
     "output_type": "execute_result"
    },
    {
     "data": {
      "image/png": "[encoded data removed]",
      "text/plain": [
       "<Figure size 432x288 with 1 Axes>"
      ]
     },
     "metadata": {
      "needs_background": "light"
     },
     "output_type": "display_data"
    }
   ],
   "source": [
    "df_train['Current Loan Amount'].hist(bins=25)"
   ]
  },
  {
   "cell_type": "markdown",
   "id": "58bd8409",
   "metadata": {},
   "source": [
    "Я так подозреваю значение 99999999 это правое скопление, явно не являющееся нормальным. Заменим медианным значением, и создадим доп признак показывающий, что был выброс, т.к. выбросов очень много."
   ]
  },
  {
   "cell_type": "code",
   "execution_count": 185,
   "id": "f8cac4cc",
   "metadata": {},
   "outputs": [],
   "source": [
    "current_loan_amount_median = df_train['Current Loan Amount'].median()\n",
    "\n",
    "df_train[\"Current Loan Amount outlier\"] = 0\n",
    "df_train.loc[df_train['Current Loan Amount'] == 99999999, 'Current Loan Amount outlier'] = 1\n",
    "df_train.loc[df_train['Current Loan Amount'] == 99999999, 'Current Loan Amount'] = current_loan_amount_median"
   ]
  },
  {
   "cell_type": "markdown",
   "id": "81cec0c3",
   "metadata": {},
   "source": [
    "#### Current Credit Balance"
   ]
  },
  {
   "cell_type": "markdown",
   "id": "f76653ba",
   "metadata": {},
   "source": [
    "Верхняя граница достаточно большая, но и не чтоб супербольшая. Хотя не известно, включается ли тут деньги лежащие на дебетовом счете в общую сумму. Можно посмотреть, например сколько счетов у людей, у которых кредитный счет больше 0.975 квантиля, или же можем посмотреть людей у которых кредитный счет выше чем сумма кредита. "
   ]
  },
  {
   "cell_type": "code",
   "execution_count": 186,
   "id": "f77c1159",
   "metadata": {},
   "outputs": [
    {
     "data": {
      "text/plain": [
       "[<matplotlib.lines.Line2D at 0x220023feb50>]"
      ]
     },
     "execution_count": 186,
     "metadata": {},
     "output_type": "execute_result"
    },
    {
     "data": {
      "image/png": "[encoded data removed]",
      "text/plain": [
       "<Figure size 1080x360 with 1 Axes>"
      ]
     },
     "metadata": {
      "needs_background": "light"
     },
     "output_type": "display_data"
    }
   ],
   "source": [
    "high_credit_balance = df_train.loc[df_train['Current Credit Balance'] > np.quantile(df_train['Current Credit Balance'], q=0.975)]\n",
    "x = high_credit_balance['Current Credit Balance']\n",
    "y = high_credit_balance['Current Loan Amount']\n",
    "\n",
    "plt.figure(figsize=(15,5))\n",
    "\n",
    "plt.plot(x)\n",
    "plt.plot(y)"
   ]
  },
  {
   "cell_type": "markdown",
   "id": "18f82cb1",
   "metadata": {},
   "source": [
    "Интересно, я думаю дальше можно создать признак, помечающий людей, у которых баланс больше кредита. "
   ]
  },
  {
   "cell_type": "code",
   "execution_count": 187,
   "id": "d6ceee57",
   "metadata": {},
   "outputs": [
    {
     "data": {
      "text/plain": [
       "<seaborn.axisgrid.JointGrid at 0x22003432790>"
      ]
     },
     "execution_count": 187,
     "metadata": {},
     "output_type": "execute_result"
    },
    {
     "data": {
      "image/png": "[encoded data removed]",
      "text/plain": [
       "<Figure size 432x432 with 3 Axes>"
      ]
     },
     "metadata": {
      "needs_background": "light"
     },
     "output_type": "display_data"
    }
   ],
   "source": [
    "z =  high_credit_balance['Number of Open Accounts']\n",
    "\n",
    "sns.jointplot(z,x, kind='reg')"
   ]
  },
  {
   "cell_type": "markdown",
   "id": "4bb7e85a",
   "metadata": {},
   "source": [
    "Связь с количеством счетов почти никакая. Остановимся на том, что пометим у кого баланс больше кредита."
   ]
  },
  {
   "cell_type": "markdown",
   "id": "45e85f6c",
   "metadata": {},
   "source": [
    "#### Monthly Debt"
   ]
  },
  {
   "cell_type": "markdown",
   "id": "b566cde4",
   "metadata": {},
   "source": [
    "Теперь нужно посмотреть нули."
   ]
  },
  {
   "cell_type": "code",
   "execution_count": 188,
   "id": "cf06d47a",
   "metadata": {},
   "outputs": [
    {
     "data": {
      "text/html": [
       "<div>\n",
       "<style scoped>\n",
       "    .dataframe tbody tr th:only-of-type {\n",
       "        vertical-align: middle;\n",
       "    }\n",
       "\n",
       "    .dataframe tbody tr th {\n",
       "        vertical-align: top;\n",
       "    }\n",
       "\n",
       "    .dataframe thead th {\n",
       "        text-align: right;\n",
       "    }\n",
       "</style>\n",
       "<table border=\"1\" class=\"dataframe\">\n",
       "  <thead>\n",
       "    <tr style=\"text-align: right;\">\n",
       "      <th></th>\n",
       "      <th>Home Ownership</th>\n",
       "      <th>Annual Income</th>\n",
       "      <th>Years in current job</th>\n",
       "      <th>Tax Liens</th>\n",
       "      <th>Number of Open Accounts</th>\n",
       "      <th>Years of Credit History</th>\n",
       "      <th>Maximum Open Credit</th>\n",
       "      <th>Number of Credit Problems</th>\n",
       "      <th>Months since last delinquent</th>\n",
       "      <th>Bankruptcies</th>\n",
       "      <th>Purpose</th>\n",
       "      <th>Term</th>\n",
       "      <th>Current Loan Amount</th>\n",
       "      <th>Current Credit Balance</th>\n",
       "      <th>Monthly Debt</th>\n",
       "      <th>Credit Score</th>\n",
       "      <th>Credit Default</th>\n",
       "      <th>Current Loan Amount outlier</th>\n",
       "    </tr>\n",
       "  </thead>\n",
       "  <tbody>\n",
       "    <tr>\n",
       "      <th>780</th>\n",
       "      <td>Home Mortgage</td>\n",
       "      <td>867749.00000</td>\n",
       "      <td>10+ years</td>\n",
       "      <td>0.00000</td>\n",
       "      <td>2.00000</td>\n",
       "      <td>16.50000</td>\n",
       "      <td>0.00000</td>\n",
       "      <td>0.00000</td>\n",
       "      <td>66.00000</td>\n",
       "      <td>0.00000</td>\n",
       "      <td>home improvements</td>\n",
       "      <td>Short Term</td>\n",
       "      <td>75350.00000</td>\n",
       "      <td>0.00000</td>\n",
       "      <td>0.00000</td>\n",
       "      <td>704.00000</td>\n",
       "      <td>0</td>\n",
       "      <td>0</td>\n",
       "    </tr>\n",
       "    <tr>\n",
       "      <th>1643</th>\n",
       "      <td>Rent</td>\n",
       "      <td>NaN</td>\n",
       "      <td>9 years</td>\n",
       "      <td>0.00000</td>\n",
       "      <td>3.00000</td>\n",
       "      <td>10.00000</td>\n",
       "      <td>0.00000</td>\n",
       "      <td>0.00000</td>\n",
       "      <td>NaN</td>\n",
       "      <td>0.00000</td>\n",
       "      <td>other</td>\n",
       "      <td>Short Term</td>\n",
       "      <td>332156.00000</td>\n",
       "      <td>0.00000</td>\n",
       "      <td>0.00000</td>\n",
       "      <td>NaN</td>\n",
       "      <td>1</td>\n",
       "      <td>0</td>\n",
       "    </tr>\n",
       "    <tr>\n",
       "      <th>3219</th>\n",
       "      <td>Home Mortgage</td>\n",
       "      <td>NaN</td>\n",
       "      <td>10+ years</td>\n",
       "      <td>0.00000</td>\n",
       "      <td>3.00000</td>\n",
       "      <td>18.50000</td>\n",
       "      <td>0.00000</td>\n",
       "      <td>0.00000</td>\n",
       "      <td>NaN</td>\n",
       "      <td>0.00000</td>\n",
       "      <td>debt consolidation</td>\n",
       "      <td>Short Term</td>\n",
       "      <td>79200.00000</td>\n",
       "      <td>0.00000</td>\n",
       "      <td>0.00000</td>\n",
       "      <td>NaN</td>\n",
       "      <td>0</td>\n",
       "      <td>0</td>\n",
       "    </tr>\n",
       "    <tr>\n",
       "      <th>3496</th>\n",
       "      <td>Rent</td>\n",
       "      <td>233567.00000</td>\n",
       "      <td>1 year</td>\n",
       "      <td>0.00000</td>\n",
       "      <td>7.00000</td>\n",
       "      <td>11.70000</td>\n",
       "      <td>0.00000</td>\n",
       "      <td>0.00000</td>\n",
       "      <td>0.00000</td>\n",
       "      <td>NaN</td>\n",
       "      <td>educational expenses</td>\n",
       "      <td>Short Term</td>\n",
       "      <td>210166.00000</td>\n",
       "      <td>0.00000</td>\n",
       "      <td>0.00000</td>\n",
       "      <td>746.00000</td>\n",
       "      <td>0</td>\n",
       "      <td>0</td>\n",
       "    </tr>\n",
       "    <tr>\n",
       "      <th>4165</th>\n",
       "      <td>Rent</td>\n",
       "      <td>1254513.00000</td>\n",
       "      <td>10+ years</td>\n",
       "      <td>0.00000</td>\n",
       "      <td>6.00000</td>\n",
       "      <td>23.40000</td>\n",
       "      <td>0.00000</td>\n",
       "      <td>0.00000</td>\n",
       "      <td>60.00000</td>\n",
       "      <td>0.00000</td>\n",
       "      <td>take a trip</td>\n",
       "      <td>Short Term</td>\n",
       "      <td>309573.00000</td>\n",
       "      <td>0.00000</td>\n",
       "      <td>0.00000</td>\n",
       "      <td>748.00000</td>\n",
       "      <td>0</td>\n",
       "      <td>1</td>\n",
       "    </tr>\n",
       "    <tr>\n",
       "      <th>7124</th>\n",
       "      <td>Rent</td>\n",
       "      <td>NaN</td>\n",
       "      <td>1 year</td>\n",
       "      <td>0.00000</td>\n",
       "      <td>4.00000</td>\n",
       "      <td>11.00000</td>\n",
       "      <td>0.00000</td>\n",
       "      <td>0.00000</td>\n",
       "      <td>50.00000</td>\n",
       "      <td>0.00000</td>\n",
       "      <td>debt consolidation</td>\n",
       "      <td>Short Term</td>\n",
       "      <td>134024.00000</td>\n",
       "      <td>0.00000</td>\n",
       "      <td>0.00000</td>\n",
       "      <td>NaN</td>\n",
       "      <td>0</td>\n",
       "      <td>0</td>\n",
       "    </tr>\n",
       "  </tbody>\n",
       "</table>\n",
       "</div>"
      ],
      "text/plain": [
       "     Home Ownership  Annual Income Years in current job  Tax Liens  \\\n",
       "780   Home Mortgage   867749.00000            10+ years    0.00000   \n",
       "1643           Rent            NaN              9 years    0.00000   \n",
       "3219  Home Mortgage            NaN            10+ years    0.00000   \n",
       "3496           Rent   233567.00000               1 year    0.00000   \n",
       "4165           Rent  1254513.00000            10+ years    0.00000   \n",
       "7124           Rent            NaN               1 year    0.00000   \n",
       "\n",
       "      Number of Open Accounts  Years of Credit History  Maximum Open Credit  \\\n",
       "780                   2.00000                 16.50000              0.00000   \n",
       "1643                  3.00000                 10.00000              0.00000   \n",
       "3219                  3.00000                 18.50000              0.00000   \n",
       "3496                  7.00000                 11.70000              0.00000   \n",
       "4165                  6.00000                 23.40000              0.00000   \n",
       "7124                  4.00000                 11.00000              0.00000   \n",
       "\n",
       "      Number of Credit Problems  Months since last delinquent  Bankruptcies  \\\n",
       "780                     0.00000                      66.00000       0.00000   \n",
       "1643                    0.00000                           NaN       0.00000   \n",
       "3219                    0.00000                           NaN       0.00000   \n",
       "3496                    0.00000                       0.00000           NaN   \n",
       "4165                    0.00000                      60.00000       0.00000   \n",
       "7124                    0.00000                      50.00000       0.00000   \n",
       "\n",
       "                   Purpose        Term  Current Loan Amount  \\\n",
       "780      home improvements  Short Term          75350.00000   \n",
       "1643                 other  Short Term         332156.00000   \n",
       "3219    debt consolidation  Short Term          79200.00000   \n",
       "3496  educational expenses  Short Term         210166.00000   \n",
       "4165           take a trip  Short Term         309573.00000   \n",
       "7124    debt consolidation  Short Term         134024.00000   \n",
       "\n",
       "      Current Credit Balance  Monthly Debt  Credit Score  Credit Default  \\\n",
       "780                  0.00000       0.00000     704.00000               0   \n",
       "1643                 0.00000       0.00000           NaN               1   \n",
       "3219                 0.00000       0.00000           NaN               0   \n",
       "3496                 0.00000       0.00000     746.00000               0   \n",
       "4165                 0.00000       0.00000     748.00000               0   \n",
       "7124                 0.00000       0.00000           NaN               0   \n",
       "\n",
       "      Current Loan Amount outlier  \n",
       "780                             0  \n",
       "1643                            0  \n",
       "3219                            0  \n",
       "3496                            0  \n",
       "4165                            1  \n",
       "7124                            0  "
      ]
     },
     "execution_count": 188,
     "metadata": {},
     "output_type": "execute_result"
    }
   ],
   "source": [
    "df_train.loc[df_train['Monthly Debt'] == 0]"
   ]
  },
  {
   "cell_type": "code",
   "execution_count": 189,
   "id": "628e43e9",
   "metadata": {},
   "outputs": [
    {
     "data": {
      "text/plain": [
       "16076.5"
      ]
     },
     "execution_count": 189,
     "metadata": {},
     "output_type": "execute_result"
    }
   ],
   "source": [
    "df_train['Monthly Debt'].median()"
   ]
  },
  {
   "cell_type": "markdown",
   "id": "117b0847",
   "metadata": {},
   "source": [
    "Вообще ерунда, кредитная история много лет, максимальный кредит 0, при этом просрочка кредита у некторых имеется. В тоже время имеется взятый кредит, но выплата 0 в месяц. Мусорные наблюдения, которые стоит выкинуть.  Я посмотрел в тестовом дата сете, таких там нет, по этому тут просто выкинем. Если бы у нас был признак точного срока кредита, можно былобы расчитать, но мы имеем только (короткий\\длинный)."
   ]
  },
  {
   "cell_type": "code",
   "execution_count": 190,
   "id": "82972aed",
   "metadata": {},
   "outputs": [],
   "source": [
    "df_train = df_train.loc[df_train['Monthly Debt'] != 0]"
   ]
  },
  {
   "cell_type": "markdown",
   "id": "f580560e",
   "metadata": {},
   "source": [
    "Вообще нижняя планка меня удивляет, куча наблюдений, в которых короткое время кредита, при этом ежемесячный платеж  0.1% - 0.5%  от суммы. С другой стороны, конечно, если мне, грубо говоря, надо отдавать 100руб в месяц за кредит, то вероятность, что я отдам очень высока."
   ]
  },
  {
   "cell_type": "markdown",
   "id": "4ade0033",
   "metadata": {},
   "source": [
    "В общем делаем так, те что ниже нижней границы и при этом срок выплаты более 10 лет, мы считаем выбросами и подгоняем под значение, когда мы бы выплачивали весь кредит в течении  17 месяцев. (это среднее время выплаты всех кредитов)"
   ]
  },
  {
   "cell_type": "code",
   "execution_count": 191,
   "id": "43b9eb6e",
   "metadata": {},
   "outputs": [],
   "source": [
    "min_monthly_debt = np.quantile(df_train['Monthly Debt'], q=0.025)\n",
    "mean_monthly_debt_months = df_train['Current Loan Amount'].mean() / df_train['Monthly Debt'].mean()\n",
    "\n",
    "df_train.loc[(df_train['Monthly Debt'] < min_monthly_debt) & ((df_train['Current Loan Amount'] / df_train['Monthly Debt']) > 120), 'Monthly Debt'] = df_train['Current Loan Amount'] / mean_monthly_debt_months"
   ]
  },
  {
   "cell_type": "markdown",
   "id": "eb30f96c",
   "metadata": {},
   "source": [
    "#### Credit Score"
   ]
  },
  {
   "cell_type": "code",
   "execution_count": 192,
   "id": "0925ab05",
   "metadata": {},
   "outputs": [
    {
     "data": {
      "text/plain": [
       "<AxesSubplot:>"
      ]
     },
     "execution_count": 192,
     "metadata": {},
     "output_type": "execute_result"
    },
    {
     "data": {
      "image/png": "[encoded data removed]",
      "text/plain": [
       "<Figure size 432x288 with 1 Axes>"
      ]
     },
     "metadata": {
      "needs_background": "light"
     },
     "output_type": "display_data"
    }
   ],
   "source": [
    "df_train[\"Credit Score\"].hist(bins=25)"
   ]
  },
  {
   "cell_type": "code",
   "execution_count": 193,
   "id": "cce33ee5",
   "metadata": {},
   "outputs": [
    {
     "data": {
      "text/plain": [
       "740.00000     169\n",
       "747.00000     168\n",
       "748.00000     156\n",
       "745.00000     152\n",
       "742.00000     151\n",
       "             ... \n",
       "629.00000       1\n",
       "606.00000       1\n",
       "6830.00000      1\n",
       "6670.00000      1\n",
       "620.00000       1\n",
       "Name: Credit Score, Length: 268, dtype: int64"
      ]
     },
     "execution_count": 193,
     "metadata": {},
     "output_type": "execute_result"
    }
   ],
   "source": [
    "df_train[\"Credit Score\"].value_counts()"
   ]
  },
  {
   "cell_type": "markdown",
   "id": "f95e24cd",
   "metadata": {},
   "source": [
    "Да, сделаем обрезание крайней цифры. =)"
   ]
  },
  {
   "cell_type": "code",
   "execution_count": 194,
   "id": "7ffe3efe",
   "metadata": {},
   "outputs": [],
   "source": [
    "df_train.loc[df_train['Credit Score'] > 2000, 'Credit Score'] //= 10"
   ]
  },
  {
   "cell_type": "markdown",
   "id": "b3bc198a",
   "metadata": {},
   "source": [
    "### Пропуски"
   ]
  },
  {
   "cell_type": "markdown",
   "id": "6d555f38",
   "metadata": {},
   "source": [
    "#### Annual Income "
   ]
  },
  {
   "cell_type": "markdown",
   "id": "6ab53bb0",
   "metadata": {},
   "source": [
    "Подумаем, чем можно заполнить пропуски. Значений довольно много, просто какойто средней или медианой заполнять получится перекос. Либо делаем так и создаем признак, и отмечаем, что было пропущено значение, либо выбрать метод заполнения по хитрее. "
   ]
  },
  {
   "cell_type": "code",
   "execution_count": 195,
   "id": "c89a1252",
   "metadata": {},
   "outputs": [
    {
     "data": {
      "text/plain": [
       "1366685.2127946129"
      ]
     },
     "execution_count": 195,
     "metadata": {},
     "output_type": "execute_result"
    }
   ],
   "source": [
    "df_train[\"Annual Income\"].mean()"
   ]
  },
  {
   "cell_type": "markdown",
   "id": "7b950f69",
   "metadata": {},
   "source": [
    "Можно посмотреть, как разделяется среднее по стажу работы."
   ]
  },
  {
   "cell_type": "code",
   "execution_count": 196,
   "id": "b498a0c9",
   "metadata": {},
   "outputs": [
    {
     "data": {
      "text/plain": [
       "Years in current job\n",
       "1 year      1271418.78841\n",
       "10+ years   1511082.12439\n",
       "2 years     1324516.68157\n",
       "3 years     1396487.28163\n",
       "4 years     1371733.44865\n",
       "5 years     1330785.57323\n",
       "6 years     1311730.11966\n",
       "7 years     1341805.04545\n",
       "8 years     1390800.27143\n",
       "9 years     1444429.35979\n",
       "< 1 year    1204723.05369\n",
       "Name: Annual Income, dtype: float64"
      ]
     },
     "execution_count": 196,
     "metadata": {},
     "output_type": "execute_result"
    }
   ],
   "source": [
    "df_train.groupby(by=\"Years in current job\")[\"Annual Income\"].mean()"
   ]
  },
  {
   "cell_type": "markdown",
   "id": "bf1e41a6",
   "metadata": {},
   "source": [
    "Не особо сильно, но явно виден рост зп со стажем, что стоило ожидать.\n",
    "В теории, ежемесячный платеж должен быть завязан на ЗП, можно посмотреть по матрице корреляции данный признак."
   ]
  },
  {
   "cell_type": "code",
   "execution_count": 197,
   "id": "89310eb4",
   "metadata": {},
   "outputs": [
    {
     "data": {
      "text/plain": [
       "Annual Income                   1.00000\n",
       "Tax Liens                       0.06622\n",
       "Number of Open Accounts         0.18824\n",
       "Years of Credit History         0.18637\n",
       "Maximum Open Credit             0.29853\n",
       "Number of Credit Problems      -0.01553\n",
       "Months since last delinquent   -0.10232\n",
       "Bankruptcies                   -0.06692\n",
       "Current Loan Amount             0.41775\n",
       "Current Credit Balance          0.38632\n",
       "Monthly Debt                    0.58951\n",
       "Credit Score                    0.02876\n",
       "Credit Default                 -0.10161\n",
       "Current Loan Amount outlier     0.03002\n",
       "Name: Annual Income, dtype: float64"
      ]
     },
     "execution_count": 197,
     "metadata": {},
     "output_type": "execute_result"
    }
   ],
   "source": [
    "corr_matrix = df_train.corr()\n",
    "corr_matrix[\"Annual Income\"]"
   ]
  },
  {
   "cell_type": "markdown",
   "id": "2114646b",
   "metadata": {},
   "source": [
    "Я был прав, самая большая корреляция с Ежемесячным платежом. Можно например узнать соотношение средней ЗП по всем к средней Ежемесячных платежей, далее предсказывать пропущенные ЗП домножая на коэффициент. Ну и всеже стоит их пометить."
   ]
  },
  {
   "cell_type": "code",
   "execution_count": 198,
   "id": "f68803bb",
   "metadata": {},
   "outputs": [],
   "source": [
    "annual_incom_coef = df_train[\"Annual Income\"].mean() / df_train['Monthly Debt'].mean()"
   ]
  },
  {
   "cell_type": "code",
   "execution_count": 199,
   "id": "8ea496c4",
   "metadata": {},
   "outputs": [],
   "source": [
    "df_train[\"Annual Income NAN\"] = 0\n",
    "df_train.loc[df_train[\"Annual Income\"].isnull(), \"Annual Income NAN\"] = 1"
   ]
  },
  {
   "cell_type": "code",
   "execution_count": 200,
   "id": "b2d2bf1c",
   "metadata": {},
   "outputs": [],
   "source": [
    "df_train.loc[df_train[\"Annual Income\"].isnull(), \"Annual Income\"] = df_train[\"Monthly Debt\"] * annual_incom_coef"
   ]
  },
  {
   "cell_type": "code",
   "execution_count": 201,
   "id": "c7f677b0",
   "metadata": {},
   "outputs": [
    {
     "data": {
      "text/plain": [
       "count      1554.00000\n",
       "mean    1375401.60450\n",
       "std      882701.29697\n",
       "min       55624.45356\n",
       "25%      765795.27882\n",
       "50%     1197806.95001\n",
       "75%     1762756.63887\n",
       "max     7095216.27388\n",
       "Name: Annual Income, dtype: float64"
      ]
     },
     "execution_count": 201,
     "metadata": {},
     "output_type": "execute_result"
    }
   ],
   "source": [
    "df_train.loc[df_train[\"Annual Income NAN\"] == 1, \"Annual Income\"].describe()"
   ]
  },
  {
   "cell_type": "markdown",
   "id": "11cbb0e9",
   "metadata": {},
   "source": [
    "Почти не отличается от средней по этому признаку, однако распределение значений более честное, на мой взгляд."
   ]
  },
  {
   "cell_type": "markdown",
   "id": "d25074fe",
   "metadata": {},
   "source": [
    "#### Years in current job"
   ]
  },
  {
   "cell_type": "markdown",
   "id": "61a53e49",
   "metadata": {},
   "source": [
    "Ну тут значений не много, заменим модой"
   ]
  },
  {
   "cell_type": "code",
   "execution_count": 202,
   "id": "a1aea119",
   "metadata": {},
   "outputs": [],
   "source": [
    "current_job_mode = df_train['Years in current job'].mode()[0]"
   ]
  },
  {
   "cell_type": "code",
   "execution_count": 203,
   "id": "935ddcd8",
   "metadata": {},
   "outputs": [],
   "source": [
    "df_train.loc[df_train['Years in current job'].isnull(), 'Years in current job'] = current_job_mode"
   ]
  },
  {
   "cell_type": "markdown",
   "id": "b8981bf1",
   "metadata": {},
   "source": [
    "#### Months since last delinquent"
   ]
  },
  {
   "cell_type": "markdown",
   "id": "6a12ca99",
   "metadata": {},
   "source": [
    "Признак не простой, вероятнее всего пропущенные значения, это клиенты которые никогда не просрачивали кредит, и важно это правильно объяснить модели т.к. это весомый довод выдать кредит. Мы не можем написать 0, т.к. это значит, что просрока была в это м месяце. Нужно большое число. Можно года кредитной истории умножить на 12 и также создать доп признак."
   ]
  },
  {
   "cell_type": "code",
   "execution_count": 204,
   "id": "dd1e3908",
   "metadata": {},
   "outputs": [
    {
     "data": {
      "text/plain": [
       "0    2950\n",
       "1    1129\n",
       "Name: Credit Default, dtype: int64"
      ]
     },
     "execution_count": 204,
     "metadata": {},
     "output_type": "execute_result"
    }
   ],
   "source": [
    "df_train.loc[df_train['Months since last delinquent'].isnull()]['Credit Default'].value_counts()"
   ]
  },
  {
   "cell_type": "markdown",
   "id": "3e549507",
   "metadata": {},
   "source": [
    "Хотя даже такие ребята, которые не имели просрочки, имеют соотношение целевого признака 1к3. Но делать нечего, надо както заполнять."
   ]
  },
  {
   "cell_type": "code",
   "execution_count": 205,
   "id": "61cd93ac",
   "metadata": {},
   "outputs": [
    {
     "data": {
      "text/plain": [
       "<AxesSubplot:>"
      ]
     },
     "execution_count": 205,
     "metadata": {},
     "output_type": "execute_result"
    },
    {
     "data": {
      "image/png": "[encoded data removed]",
      "text/plain": [
       "<Figure size 432x288 with 1 Axes>"
      ]
     },
     "metadata": {
      "needs_background": "light"
     },
     "output_type": "display_data"
    }
   ],
   "source": [
    "df_train['Months since last delinquent'].hist(bins=50)"
   ]
  },
  {
   "cell_type": "code",
   "execution_count": 206,
   "id": "a65f1e07",
   "metadata": {},
   "outputs": [],
   "source": [
    "df_train['Delinquent'] = 1\n",
    "df_train.loc[df_train['Months since last delinquent'].isnull(), 'Delinquent'] = 0\n",
    "df_train.loc[df_train['Months since last delinquent'].isnull(), 'Months since last delinquent'] = df_train['Years of Credit History'] * 12"
   ]
  },
  {
   "cell_type": "code",
   "execution_count": 207,
   "id": "a1017001",
   "metadata": {},
   "outputs": [
    {
     "data": {
      "text/plain": [
       "<AxesSubplot:>"
      ]
     },
     "execution_count": 207,
     "metadata": {},
     "output_type": "execute_result"
    },
    {
     "data": {
      "image/png": "[encoded data removed]",
      "text/plain": [
       "<Figure size 432x288 with 1 Axes>"
      ]
     },
     "metadata": {
      "needs_background": "light"
     },
     "output_type": "display_data"
    }
   ],
   "source": [
    "df_train['Months since last delinquent'].hist(bins=50)"
   ]
  },
  {
   "cell_type": "markdown",
   "id": "ee0791ce",
   "metadata": {},
   "source": [
    "Рисковая практика, получился целый доп кластер. Попробуем пока оставить. С одной стороны информация то полезная, когда был послений прокол.. И доп признак, Были просрочки \\ Не было. \n",
    "\n",
    "Либо просто оставляем доп признак."
   ]
  },
  {
   "cell_type": "raw",
   "id": "0d0a9a01",
   "metadata": {},
   "source": [
    "df_train = df_train.drop('Months since last delinquent', 1)"
   ]
  },
  {
   "cell_type": "markdown",
   "id": "e49aca77",
   "metadata": {},
   "source": [
    "#### Bankruptcies"
   ]
  },
  {
   "cell_type": "markdown",
   "id": "4307a3f7",
   "metadata": {},
   "source": [
    "Тут пропусков не много, можно заменить медианой."
   ]
  },
  {
   "cell_type": "code",
   "execution_count": 208,
   "id": "9bf5bb1a",
   "metadata": {},
   "outputs": [],
   "source": [
    "bankruptcies_median = df_train['Bankruptcies'].median()"
   ]
  },
  {
   "cell_type": "code",
   "execution_count": 209,
   "id": "4dc9c35b",
   "metadata": {},
   "outputs": [],
   "source": [
    "df_train.loc[df_train['Bankruptcies'].isnull(), 'Bankruptcies'] = bankruptcies_median"
   ]
  },
  {
   "cell_type": "markdown",
   "id": "9ca6bd60",
   "metadata": {},
   "source": [
    "#### Credit Score"
   ]
  },
  {
   "cell_type": "code",
   "execution_count": 210,
   "id": "88f51259",
   "metadata": {},
   "outputs": [
    {
     "data": {
      "text/plain": [
       "Annual Income                   0.02876\n",
       "Tax Liens                      -0.01646\n",
       "Number of Open Accounts        -0.03465\n",
       "Years of Credit History         0.06838\n",
       "Maximum Open Credit             0.11219\n",
       "Number of Credit Problems      -0.05502\n",
       "Months since last delinquent    0.11225\n",
       "Bankruptcies                   -0.04135\n",
       "Current Loan Amount            -0.20503\n",
       "Current Credit Balance         -0.00544\n",
       "Monthly Debt                   -0.07009\n",
       "Credit Score                    1.00000\n",
       "Credit Default                 -0.20707\n",
       "Current Loan Amount outlier     0.14991\n",
       "Annual Income NAN                   NaN\n",
       "Delinquent                     -0.09238\n",
       "Name: Credit Score, dtype: float64"
      ]
     },
     "execution_count": 210,
     "metadata": {},
     "output_type": "execute_result"
    }
   ],
   "source": [
    "corr_matrix = df_train.corr()\n",
    "corr_matrix[\"Credit Score\"]"
   ]
  },
  {
   "cell_type": "markdown",
   "id": "0d47521d",
   "metadata": {},
   "source": [
    "Для более точного предсказания хорошо бы знать формулу расчета рейтинга, т.к. корреляции слабые, для нормальних предсказаний, заполним медианой и пометим."
   ]
  },
  {
   "cell_type": "code",
   "execution_count": 211,
   "id": "fa3651b0",
   "metadata": {},
   "outputs": [],
   "source": [
    "credit_score_median = df_train['Credit Score'].median()"
   ]
  },
  {
   "cell_type": "code",
   "execution_count": 212,
   "id": "ce6a830e",
   "metadata": {},
   "outputs": [],
   "source": [
    "df_train['Credit Score NAN'] = 0\n",
    "df_train.loc[df_train['Credit Score'].isnull(), 'Credit Score NAN'] = 1\n",
    "df_train.loc[df_train['Credit Score'].isnull(), 'Credit Score'] = credit_score_median"
   ]
  },
  {
   "cell_type": "code",
   "execution_count": 213,
   "id": "5cb3fbbb",
   "metadata": {},
   "outputs": [
    {
     "name": "stdout",
     "output_type": "stream",
     "text": [
      "<class 'pandas.core.frame.DataFrame'>\n",
      "Int64Index: 7494 entries, 0 to 7499\n",
      "Data columns (total 21 columns):\n",
      " #   Column                        Non-Null Count  Dtype  \n",
      "---  ------                        --------------  -----  \n",
      " 0   Home Ownership                7494 non-null   object \n",
      " 1   Annual Income                 7494 non-null   float64\n",
      " 2   Years in current job          7494 non-null   object \n",
      " 3   Tax Liens                     7494 non-null   float64\n",
      " 4   Number of Open Accounts       7494 non-null   float64\n",
      " 5   Years of Credit History       7494 non-null   float64\n",
      " 6   Maximum Open Credit           7494 non-null   float64\n",
      " 7   Number of Credit Problems     7494 non-null   float64\n",
      " 8   Months since last delinquent  7494 non-null   float64\n",
      " 9   Bankruptcies                  7494 non-null   float64\n",
      " 10  Purpose                       7494 non-null   object \n",
      " 11  Term                          7494 non-null   object \n",
      " 12  Current Loan Amount           7494 non-null   float64\n",
      " 13  Current Credit Balance        7494 non-null   float64\n",
      " 14  Monthly Debt                  7494 non-null   float64\n",
      " 15  Credit Score                  7494 non-null   float64\n",
      " 16  Credit Default                7494 non-null   int64  \n",
      " 17  Current Loan Amount outlier   7494 non-null   int64  \n",
      " 18  Annual Income NAN             7494 non-null   int64  \n",
      " 19  Delinquent                    7494 non-null   int64  \n",
      " 20  Credit Score NAN              7494 non-null   int64  \n",
      "dtypes: float64(12), int64(5), object(4)\n",
      "memory usage: 1.5+ MB\n"
     ]
    }
   ],
   "source": [
    "df_train.info()"
   ]
  },
  {
   "cell_type": "markdown",
   "id": "4dab9ade",
   "metadata": {},
   "source": [
    "### Обработка не числовых значений."
   ]
  },
  {
   "cell_type": "markdown",
   "id": "4d2b3304",
   "metadata": {},
   "source": [
    "#### Home Ownership"
   ]
  },
  {
   "cell_type": "code",
   "execution_count": 214,
   "id": "6dc3baea",
   "metadata": {},
   "outputs": [
    {
     "data": {
      "text/plain": [
       "Home Mortgage    3635\n",
       "Rent             3200\n",
       "Own Home          647\n",
       "Have Mortgage      12\n",
       "Name: Home Ownership, dtype: int64"
      ]
     },
     "execution_count": 214,
     "metadata": {},
     "output_type": "execute_result"
    }
   ],
   "source": [
    "df_train['Home Ownership'].value_counts()"
   ]
  },
  {
   "cell_type": "code",
   "execution_count": 215,
   "id": "818c4eb3",
   "metadata": {},
   "outputs": [
    {
     "data": {
      "text/plain": [
       "Home Ownership\n",
       "Have Mortgage   0.16667\n",
       "Home Mortgage   0.25199\n",
       "Own Home        0.29675\n",
       "Rent            0.31312\n",
       "Name: Credit Default, dtype: float64"
      ]
     },
     "execution_count": 215,
     "metadata": {},
     "output_type": "execute_result"
    }
   ],
   "source": [
    "df_train.groupby(by='Home Ownership')['Credit Default'].mean()"
   ]
  },
  {
   "cell_type": "markdown",
   "id": "688273d8",
   "metadata": {},
   "source": [
    "Чем больше среднее, тем больше наблюдений 1 класса. Интересно, что у тех, кто арендует дома\\квартиру, не погашен кредит чаще всего. Можно заменить тип домовладения, соответствующей статистикой."
   ]
  },
  {
   "cell_type": "code",
   "execution_count": 216,
   "id": "08ab265e",
   "metadata": {},
   "outputs": [],
   "source": [
    "home_ownership_credit_default_stat = df_train.groupby(by='Home Ownership')['Credit Default'].mean().to_dict()"
   ]
  },
  {
   "cell_type": "code",
   "execution_count": 217,
   "id": "679cb679",
   "metadata": {},
   "outputs": [],
   "source": [
    "df_train.replace({\"Home Ownership\": home_ownership_credit_default_stat}, inplace=True )"
   ]
  },
  {
   "cell_type": "markdown",
   "id": "d027fb52",
   "metadata": {},
   "source": [
    "#### Years in current job"
   ]
  },
  {
   "cell_type": "code",
   "execution_count": 218,
   "id": "047ae8cd",
   "metadata": {},
   "outputs": [
    {
     "data": {
      "text/plain": [
       "10+ years    2700\n",
       "2 years       705\n",
       "3 years       620\n",
       "< 1 year      563\n",
       "5 years       516\n",
       "1 year        502\n",
       "4 years       469\n",
       "6 years       426\n",
       "7 years       396\n",
       "8 years       339\n",
       "9 years       258\n",
       "Name: Years in current job, dtype: int64"
      ]
     },
     "execution_count": 218,
     "metadata": {},
     "output_type": "execute_result"
    }
   ],
   "source": [
    "df_train['Years in current job'].value_counts()"
   ]
  },
  {
   "cell_type": "markdown",
   "id": "4879cc77",
   "metadata": {},
   "source": [
    "Тут можно просто, перевести в непрерывный тип, т.к. по сути признак таким и является. "
   ]
  },
  {
   "cell_type": "code",
   "execution_count": 219,
   "id": "4fb4e58d",
   "metadata": {},
   "outputs": [],
   "source": [
    "years_in_current_job_dict = {'10+ years': 10, '2 years': 2, '3 years': 3, '< 1 year': 0, '5 years': 5, '1 year': 1, '4 years': 4, '6 years': 6, '7 years': 7, '8 years': 8, '9 years': 9}"
   ]
  },
  {
   "cell_type": "code",
   "execution_count": 220,
   "id": "b4c0f8f0",
   "metadata": {},
   "outputs": [],
   "source": [
    "df_train.replace({'Years in current job': years_in_current_job_dict}, inplace=True)"
   ]
  },
  {
   "cell_type": "markdown",
   "id": "395ee42a",
   "metadata": {},
   "source": [
    "#### Purpose"
   ]
  },
  {
   "cell_type": "code",
   "execution_count": 221,
   "id": "8814ba12",
   "metadata": {},
   "outputs": [
    {
     "data": {
      "text/plain": [
       "debt consolidation      5942\n",
       "other                    664\n",
       "home improvements        411\n",
       "business loan            129\n",
       "buy a car                 96\n",
       "medical bills             71\n",
       "major purchase            40\n",
       "take a trip               36\n",
       "buy house                 34\n",
       "small business            26\n",
       "wedding                   15\n",
       "moving                    11\n",
       "educational expenses       9\n",
       "vacation                   8\n",
       "renewable energy           2\n",
       "Name: Purpose, dtype: int64"
      ]
     },
     "execution_count": 221,
     "metadata": {},
     "output_type": "execute_result"
    }
   ],
   "source": [
    "df_train['Purpose'].value_counts()"
   ]
  },
  {
   "cell_type": "markdown",
   "id": "2bb5a30d",
   "metadata": {},
   "source": [
    "Много значений. Надо прикинуть, как их можно описать другими признаками. Например цель кредита всегда влияет на размер кредита. Можно прикинуть средний размер кредита, который берут на эту цель и записать в значения."
   ]
  },
  {
   "cell_type": "code",
   "execution_count": 222,
   "id": "5af0c356",
   "metadata": {},
   "outputs": [],
   "source": [
    "purpose_stat = df_train.groupby(by='Purpose')['Current Loan Amount'].mean().to_dict()"
   ]
  },
  {
   "cell_type": "code",
   "execution_count": 223,
   "id": "052e5ec7",
   "metadata": {},
   "outputs": [],
   "source": [
    "df_train.replace({'Purpose': purpose_stat}, inplace=True)"
   ]
  },
  {
   "cell_type": "markdown",
   "id": "32259a7d",
   "metadata": {},
   "source": [
    "####  Term"
   ]
  },
  {
   "cell_type": "code",
   "execution_count": 224,
   "id": "92753641",
   "metadata": {},
   "outputs": [
    {
     "data": {
      "text/plain": [
       "Short Term    5550\n",
       "Long Term     1944\n",
       "Name: Term, dtype: int64"
      ]
     },
     "execution_count": 224,
     "metadata": {},
     "output_type": "execute_result"
    }
   ],
   "source": [
    "df_train['Term'].value_counts()"
   ]
  },
  {
   "cell_type": "markdown",
   "id": "89009d31",
   "metadata": {},
   "source": [
    "Просто переведем в бинарный признак."
   ]
  },
  {
   "cell_type": "code",
   "execution_count": 225,
   "id": "9e32fb6d",
   "metadata": {},
   "outputs": [],
   "source": [
    "df_train['Term'] = (df_train['Term'] == 'Short Term').astype(int)"
   ]
  },
  {
   "cell_type": "code",
   "execution_count": 226,
   "id": "ccf261aa",
   "metadata": {},
   "outputs": [
    {
     "name": "stdout",
     "output_type": "stream",
     "text": [
      "<class 'pandas.core.frame.DataFrame'>\n",
      "Int64Index: 7494 entries, 0 to 7499\n",
      "Data columns (total 21 columns):\n",
      " #   Column                        Non-Null Count  Dtype  \n",
      "---  ------                        --------------  -----  \n",
      " 0   Home Ownership                7494 non-null   float64\n",
      " 1   Annual Income                 7494 non-null   float64\n",
      " 2   Years in current job          7494 non-null   int64  \n",
      " 3   Tax Liens                     7494 non-null   float64\n",
      " 4   Number of Open Accounts       7494 non-null   float64\n",
      " 5   Years of Credit History       7494 non-null   float64\n",
      " 6   Maximum Open Credit           7494 non-null   float64\n",
      " 7   Number of Credit Problems     7494 non-null   float64\n",
      " 8   Months since last delinquent  7494 non-null   float64\n",
      " 9   Bankruptcies                  7494 non-null   float64\n",
      " 10  Purpose                       7494 non-null   float64\n",
      " 11  Term                          7494 non-null   int32  \n",
      " 12  Current Loan Amount           7494 non-null   float64\n",
      " 13  Current Credit Balance        7494 non-null   float64\n",
      " 14  Monthly Debt                  7494 non-null   float64\n",
      " 15  Credit Score                  7494 non-null   float64\n",
      " 16  Credit Default                7494 non-null   int64  \n",
      " 17  Current Loan Amount outlier   7494 non-null   int64  \n",
      " 18  Annual Income NAN             7494 non-null   int64  \n",
      " 19  Delinquent                    7494 non-null   int64  \n",
      " 20  Credit Score NAN              7494 non-null   int64  \n",
      "dtypes: float64(14), int32(1), int64(6)\n",
      "memory usage: 1.5 MB\n"
     ]
    }
   ],
   "source": [
    "df_train.info()"
   ]
  },
  {
   "cell_type": "markdown",
   "id": "1c588fb6",
   "metadata": {},
   "source": [
    "### Доп анализ \\ Новые фичи"
   ]
  },
  {
   "cell_type": "markdown",
   "id": "725b1bd2",
   "metadata": {},
   "source": [
    "Как и писал выше, когда просматривал выбросы, создадим признак, отмечающий наблюдения, в которых сумма на счете превышает сумму кредита."
   ]
  },
  {
   "cell_type": "code",
   "execution_count": 227,
   "id": "7870a133",
   "metadata": {},
   "outputs": [],
   "source": [
    "df_train[\"Big_balance\"] = 0\n",
    "df_train.loc[df_train['Current Credit Balance'] > df_train['Current Loan Amount'], \"Big_balance\"] = 1"
   ]
  },
  {
   "cell_type": "code",
   "execution_count": 228,
   "id": "d624fcfe",
   "metadata": {},
   "outputs": [
    {
     "data": {
      "text/plain": [
       "0    4908\n",
       "1    2586\n",
       "Name: Big_balance, dtype: int64"
      ]
     },
     "execution_count": 228,
     "metadata": {},
     "output_type": "execute_result"
    }
   ],
   "source": [
    "df_train[\"Big_balance\"].value_counts()"
   ]
  },
  {
   "cell_type": "markdown",
   "id": "826cd2a7",
   "metadata": {},
   "source": [
    "***"
   ]
  },
  {
   "cell_type": "markdown",
   "id": "0c4e4226",
   "metadata": {},
   "source": [
    "Посмотрим признаки, к которым еще не обращались. "
   ]
  },
  {
   "cell_type": "code",
   "execution_count": 229,
   "id": "b523f5ab",
   "metadata": {},
   "outputs": [
    {
     "data": {
      "text/plain": [
       "0.00000    7360\n",
       "1.00000      83\n",
       "2.00000      30\n",
       "3.00000      10\n",
       "4.00000       6\n",
       "6.00000       2\n",
       "5.00000       2\n",
       "7.00000       1\n",
       "Name: Tax Liens, dtype: int64"
      ]
     },
     "execution_count": 229,
     "metadata": {},
     "output_type": "execute_result"
    }
   ],
   "source": [
    "df_train['Tax Liens'].value_counts()"
   ]
  },
  {
   "cell_type": "markdown",
   "id": "06c1e01a",
   "metadata": {},
   "source": [
    "С таким балансом признак практически не будет иметь вес."
   ]
  },
  {
   "cell_type": "markdown",
   "id": "a19cb9f3",
   "metadata": {},
   "source": [
    "***"
   ]
  },
  {
   "cell_type": "code",
   "execution_count": 230,
   "id": "2d594db1",
   "metadata": {},
   "outputs": [
    {
     "data": {
      "text/plain": [
       "<AxesSubplot:>"
      ]
     },
     "execution_count": 230,
     "metadata": {},
     "output_type": "execute_result"
    },
    {
     "data": {
      "image/png": "[encoded data removed]",
      "text/plain": [
       "<Figure size 432x288 with 1 Axes>"
      ]
     },
     "metadata": {
      "needs_background": "light"
     },
     "output_type": "display_data"
    }
   ],
   "source": [
    "df_train['Number of Open Accounts'].hist(bins=25)"
   ]
  },
  {
   "cell_type": "markdown",
   "id": "6708e841",
   "metadata": {},
   "source": [
    "***"
   ]
  },
  {
   "cell_type": "code",
   "execution_count": 231,
   "id": "8004f0a5",
   "metadata": {},
   "outputs": [
    {
     "data": {
      "text/plain": [
       "0.00000    6463\n",
       "1.00000     882\n",
       "2.00000      93\n",
       "3.00000      35\n",
       "4.00000       9\n",
       "5.00000       7\n",
       "6.00000       4\n",
       "7.00000       1\n",
       "Name: Number of Credit Problems, dtype: int64"
      ]
     },
     "execution_count": 231,
     "metadata": {},
     "output_type": "execute_result"
    }
   ],
   "source": [
    "df_train['Number of Credit Problems'].value_counts()"
   ]
  },
  {
   "cell_type": "markdown",
   "id": "434f113a",
   "metadata": {},
   "source": [
    "Что за проблемы с кредитом не понятно. Может быть отказы в других банках? В таком случае такой непрерывный вид оптималный..."
   ]
  },
  {
   "cell_type": "code",
   "execution_count": null,
   "id": "268f21c9",
   "metadata": {},
   "outputs": [],
   "source": []
  },
  {
   "cell_type": "markdown",
   "id": "852423ee",
   "metadata": {},
   "source": [
    "Надо прикинуть, какие факторы из известных признаков могут спровоцировать не уплату кредита.\n",
    "1) Самое вероятное, это малая ЗП.\n",
    "Мы считали выше коэффициент соотноршения ЗП к \n",
    "2) Возможно состояние кредитного счета. К примеру если на счету денег меньше чем ежемесячный платеж."
   ]
  },
  {
   "cell_type": "code",
   "execution_count": 245,
   "id": "06fb56f3",
   "metadata": {},
   "outputs": [
    {
     "data": {
      "text/plain": [
       "73.77248483400273"
      ]
     },
     "execution_count": 245,
     "metadata": {},
     "output_type": "execute_result"
    }
   ],
   "source": [
    "annual_incom_coef"
   ]
  },
  {
   "cell_type": "code",
   "execution_count": null,
   "id": "d1d572e8",
   "metadata": {},
   "outputs": [],
   "source": []
  },
  {
   "cell_type": "code",
   "execution_count": null,
   "id": "1b068ba1",
   "metadata": {},
   "outputs": [],
   "source": []
  },
  {
   "cell_type": "code",
   "execution_count": 232,
   "id": "10c192f0",
   "metadata": {},
   "outputs": [],
   "source": []
  },
  {
   "cell_type": "markdown",
   "id": "cb4e84af",
   "metadata": {},
   "source": [
    "Посмотрим на граффиках по парного рассеяния, может какието доп зависимости удастся увидеть."
   ]
  },
  {
   "cell_type": "raw",
   "id": "fea339f4",
   "metadata": {},
   "source": [
    "list_for_analyse1 = [\n",
    "       'Current Loan Amount', 'Current Credit Balance', 'Monthly Debt',\n",
    "       'Credit Score', 'Delinquent', 'Credit Default']\n",
    "       \n",
    "sns.pairplot(df_train[list_for_analyse1], hue='Credit Default', plot_kws={\"s\": 4})\n"
   ]
  },
  {
   "cell_type": "raw",
   "id": "2b3a0590",
   "metadata": {},
   "source": [
    "list_for_analyse2 = ['Annual Income','Number of Open Accounts', 'Years of Credit History',\n",
    "       'Maximum Open Credit', 'Number of Credit Problems',\n",
    "        'Credit Default'\n",
    "       ]\n",
    "sns.pairplot(df_train[list_for_analyse2], hue='Credit Default', plot_kws={\"s\": 4})"
   ]
  },
  {
   "cell_type": "markdown",
   "id": "4d8a2417",
   "metadata": {},
   "source": [
    "*Покачто отключу, т.к. много времени на постройку занимает.\n",
    "\n",
    "На мой не опытный глаз никаких особых зависимостей не увидел."
   ]
  },
  {
   "cell_type": "code",
   "execution_count": null,
   "id": "66b0e001",
   "metadata": {},
   "outputs": [],
   "source": []
  },
  {
   "cell_type": "code",
   "execution_count": null,
   "id": "061747b7",
   "metadata": {},
   "outputs": [],
   "source": []
  },
  {
   "cell_type": "code",
   "execution_count": null,
   "id": "9365e494",
   "metadata": {},
   "outputs": [],
   "source": []
  },
  {
   "cell_type": "code",
   "execution_count": 234,
   "id": "eb21b880",
   "metadata": {},
   "outputs": [],
   "source": [
    "scaler = RobustScaler()"
   ]
  },
  {
   "cell_type": "code",
   "execution_count": 235,
   "id": "f6e15ae7",
   "metadata": {},
   "outputs": [],
   "source": [
    "scaled_train = pd.DataFrame(scaler.fit_transform(df_train), columns=df_train.columns)  "
   ]
  },
  {
   "cell_type": "code",
   "execution_count": 236,
   "id": "85d0b7ab",
   "metadata": {},
   "outputs": [],
   "source": [
    "scaled_x_train = scaled_train.drop(['Credit Default'],1)\n",
    "scaled_y_train = scaled_train['Credit Default']\n"
   ]
  },
  {
   "cell_type": "code",
   "execution_count": null,
   "id": "0fb2fd29",
   "metadata": {},
   "outputs": [],
   "source": []
  },
  {
   "cell_type": "code",
   "execution_count": null,
   "id": "227356bc",
   "metadata": {},
   "outputs": [],
   "source": []
  },
  {
   "cell_type": "code",
   "execution_count": null,
   "id": "6ba49bc9",
   "metadata": {},
   "outputs": [],
   "source": []
  },
  {
   "cell_type": "code",
   "execution_count": null,
   "id": "37f8e2c5",
   "metadata": {},
   "outputs": [],
   "source": []
  },
  {
   "cell_type": "code",
   "execution_count": null,
   "id": "df2554a6",
   "metadata": {},
   "outputs": [],
   "source": [
    "\n",
    "\n",
    "\n"
   ]
  },
  {
   "cell_type": "code",
   "execution_count": null,
   "id": "96800676",
   "metadata": {},
   "outputs": [],
   "source": [
    "\n"
   ]
  },
  {
   "cell_type": "code",
   "execution_count": null,
   "id": "8e370cab",
   "metadata": {},
   "outputs": [],
   "source": []
  },
  {
   "cell_type": "code",
   "execution_count": null,
   "id": "3239fc1c",
   "metadata": {},
   "outputs": [],
   "source": []
  },
  {
   "cell_type": "code",
   "execution_count": null,
   "id": "7c4f243b",
   "metadata": {},
   "outputs": [],
   "source": []
  },
  {
   "cell_type": "markdown",
   "id": "e6721ae8",
   "metadata": {},
   "source": [
    "#### Переменные"
   ]
  },
  {
   "cell_type": "raw",
   "id": "8e800f7f",
   "metadata": {},
   "source": [
    "max_open_credit = np.quantile(X_train['Maximum Open Credit'], q=0.975)\n",
    "max_open_credit_median = X_train['Maximum Open Credit'].median()\n",
    "current_loan_amount_median = X_train['Current Loan Amount'].median()\n",
    "min_monthly_debt = np.quantile(X_train['Monthly Debt'], q=0.025)\n",
    "mean_monthly_debt_months = X_train['Current Loan Amount'].mean() / X_train['Monthly Debt'].mean()\n",
    "annual_incom_coef = X_train[\"Annual Income\"].mean() / X_train['Monthly Debt'].mean()\n",
    "current_job_mode = X_train['Years in current job'].mode()[0]\n",
    "bankruptcies_median = X_train['Bankruptcies'].median()\n",
    "credit_score_median = X_train['Credit Score'].median()\n",
    "home_ownership_credit_default_stat = X_train.groupby(by='Home Ownership')['Credit Default'].mean().to_dict()\n",
    "years_in_current_job_dict = {'10+ years': 10, '2 years': 2, '3 years': 3, '< 1 year': 0, '5 years': 5, '1 year': 1, '4 years': 4, '6 years': 6, '7 years': 7, '8 years': 8, '9 years': 9}\n",
    "purpose_stat = X_train.groupby(by='Purpose')['Current Loan Amount'].mean().to_dict()"
   ]
  },
  {
   "cell_type": "markdown",
   "id": "bf8267b3",
   "metadata": {},
   "source": [
    "#### Функция предобработки данных"
   ]
  },
  {
   "cell_type": "code",
   "execution_count": 241,
   "id": "a10a10ee",
   "metadata": {},
   "outputs": [],
   "source": [
    "def prep_data(df):\n",
    "    \n",
    "    #Выбросы\n",
    "    \n",
    "    df.loc[df['Maximum Open Credit'] > max_open_credit, 'Maximum Open Credit'] = max_open_credit_median\n",
    "    \n",
    "    df[\"Current Loan Amount outlier\"] = 0\n",
    "    df.loc[df['Current Loan Amount'] == 99999999, 'Current Loan Amount outlier'] = 1\n",
    "    df.loc[df['Current Loan Amount'] == 99999999, 'Current Loan Amount'] = current_loan_amount_median\n",
    "    \n",
    "    df = df.loc[df['Monthly Debt'] != 0]\n",
    "    df.loc[(df['Monthly Debt'] < min_monthly_debt) & ((df['Current Loan Amount'] / df['Monthly Debt']) > 120), 'Monthly Debt'] = df['Current Loan Amount'] / mean_monthly_debt_months\n",
    "    \n",
    "    df.loc[df['Credit Score'] > 2000, 'Credit Score'] //= 10\n",
    "    \n",
    "    #Пропуски\n",
    "    \n",
    "    df[\"Annual Income NAN\"] = 0\n",
    "    df.loc[df[\"Annual Income\"].isnull(), \"Annual Income NAN\"] = 1\n",
    "    df.loc[df[\"Annual Income\"].isnull(), \"Annual Income\"] = df[\"Monthly Debt\"] * annual_incom_coef\n",
    "    \n",
    "    df.loc[df['Years in current job'].isnull(), 'Years in current job'] = current_job_mode\n",
    "    \n",
    "    df['Months since last delinquent NAN'] = 1\n",
    "    df.loc[df['Months since last delinquent'].isnull(), 'Months since last delinquent NAN'] = 0\n",
    "    df = df.drop('Months since last delinquent', 1)\n",
    "    \n",
    "    df.loc[df['Bankruptcies'].isnull(), 'Bankruptcies'] = bankruptcies_median\n",
    "    \n",
    "    df['Credit Score NAN'] = 0\n",
    "    df.loc[df['Credit Score'].isnull(), 'Credit Score NAN'] = 1\n",
    "    df.loc[df['Credit Score'].isnull(), 'Credit Score'] = credit_score_median\n",
    "    \n",
    "    #Фичи\n",
    "    \n",
    "    df.replace({\"Home Ownership\": home_ownership_credit_default_stat}, inplace=True )\n",
    "    \n",
    "    df.replace({'Years in current job': years_in_current_job_dict}, inplace=True)\n",
    "    \n",
    "    df.replace({'Purpose': purpose_stat}, inplace=True)\n",
    "    \n",
    "    df['Term'] = (df['Term'] == 'Short Term').astype(int)\n",
    "    \n",
    "    df[\"Big_balance\"] = 0\n",
    "    df.loc[df['Current Credit Balance'] > df['Current Loan Amount'], \"Big_balance\"] = 1\n",
    "    return df"
   ]
  },
  {
   "cell_type": "code",
   "execution_count": null,
   "id": "cf48fb62",
   "metadata": {},
   "outputs": [],
   "source": []
  }
 ],
 "metadata": {
  "kernelspec": {
   "display_name": "Python 3",
   "language": "python",
   "name": "python3"
  },
  "language_info": {
   "codemirror_mode": {
    "name": "ipython",
    "version": 3
   },
   "file_extension": ".py",
   "mimetype": "text/x-python",
   "name": "python",
   "nbconvert_exporter": "python",
   "pygments_lexer": "ipython3",
   "version": "3.8.8"
  }
 },
 "nbformat": 4,
 "nbformat_minor": 5
}
