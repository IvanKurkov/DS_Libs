{
 "cells": [
  {
   "cell_type": "markdown",
   "id": "7be39117",
   "metadata": {},
   "source": [
    "#                                      Курсовой проект"
   ]
  },
  {
   "cell_type": "markdown",
   "id": "ef796e97",
   "metadata": {},
   "source": [
    "### Задача\n",
    "\n",
    "Требуется, на основании имеющихся данных о клиентах банка, построить модель, используя обучающий датасет, для прогнозирования невыполнения долговых обязательств по текущему кредиту. Выполнить прогноз для примеров из тестового датасета.\n",
    "\n",
    "#### Наименование файлов с данными\n",
    "\n",
    "course_project_train.csv - обучающий датасет\n",
    "course_project_test.csv - тестовый датасет\n",
    "\n",
    "#### Целевая переменная\n",
    "\n",
    "Credit Default - факт невыполнения кредитных обязательств\n",
    "\n",
    "#### Метрика качества\n",
    "\n",
    "F1-score (sklearn.metrics.f1_score)\n",
    "\n",
    "#### Требования к решению\n",
    "\n",
    "Целевая метрика\n",
    "\n",
    "F1 > 0.5\n",
    "Метрика оценивается по качеству прогноза для главного класса (1 - просрочка по кредиту)\n",
    "Решение должно содержать"
   ]
  },
  {
   "cell_type": "markdown",
   "id": "a47a7c63",
   "metadata": {},
   "source": [
    "### Описание датасета\n",
    "\n",
    "Home Ownership - домовладение\n",
    "\n",
    "Annual Income - годовой доход\n",
    "\n",
    "Years in current job - количество лет на текущем месте работы\n",
    "\n",
    "Tax Liens - налоговые обременения\n",
    "\n",
    "Number of Open Accounts - количество открытых счетов\n",
    "\n",
    "Years of Credit History - количество лет кредитной истории\n",
    "\n",
    "Maximum Open Credit - наибольший открытый кредит\n",
    "\n",
    "Number of Credit Problems - количество проблем с кредитом\n",
    "\n",
    "Months since last delinquent - количество месяцев с последней просрочки платежа\n",
    "\n",
    "Bankruptcies - банкротства\n",
    "\n",
    "Purpose - цель кредита\n",
    "\n",
    "Term - срок кредита\n",
    "\n",
    "Current Loan Amount - текущая сумма кредита\n",
    "\n",
    "Current Credit Balance - текущий кредитный баланс\n",
    "\n",
    "Monthly Debt - ежемесячный долг\n",
    "\n",
    "Credit Default - факт невыполнения кредитных обязательств (0 - погашен вовремя, 1 - просрочка)"
   ]
  },
  {
   "cell_type": "code",
   "execution_count": 138,
   "id": "8626d01c",
   "metadata": {},
   "outputs": [],
   "source": [
    "import numpy as np\n",
    "import pandas as pd\n",
    "import seaborn as sns\n",
    "import warnings\n",
    "import matplotlib.pyplot as plt\n",
    "warnings.filterwarnings('ignore')"
   ]
  },
  {
   "cell_type": "markdown",
   "id": "46d6a770",
   "metadata": {},
   "source": [
    "### Пути к директориям и файлам"
   ]
  },
  {
   "cell_type": "code",
   "execution_count": 139,
   "id": "c430477a",
   "metadata": {},
   "outputs": [],
   "source": [
    "TRAIN_DATASET_PATH = 'course_project_train.csv'\n",
    "TEST_DATASET_PATH = 'course_project_test.csv'"
   ]
  },
  {
   "cell_type": "code",
   "execution_count": 140,
   "id": "02f1bfa8",
   "metadata": {},
   "outputs": [
    {
     "name": "stdout",
     "output_type": "stream",
     "text": [
      "<class 'pandas.core.frame.DataFrame'>\n",
      "RangeIndex: 7500 entries, 0 to 7499\n",
      "Data columns (total 17 columns):\n",
      " #   Column                        Non-Null Count  Dtype  \n",
      "---  ------                        --------------  -----  \n",
      " 0   Home Ownership                7500 non-null   object \n",
      " 1   Annual Income                 5943 non-null   float64\n",
      " 2   Years in current job          7129 non-null   object \n",
      " 3   Tax Liens                     7500 non-null   float64\n",
      " 4   Number of Open Accounts       7500 non-null   float64\n",
      " 5   Years of Credit History       7500 non-null   float64\n",
      " 6   Maximum Open Credit           7500 non-null   float64\n",
      " 7   Number of Credit Problems     7500 non-null   float64\n",
      " 8   Months since last delinquent  3419 non-null   float64\n",
      " 9   Bankruptcies                  7486 non-null   float64\n",
      " 10  Purpose                       7500 non-null   object \n",
      " 11  Term                          7500 non-null   object \n",
      " 12  Current Loan Amount           7500 non-null   float64\n",
      " 13  Current Credit Balance        7500 non-null   float64\n",
      " 14  Monthly Debt                  7500 non-null   float64\n",
      " 15  Credit Score                  5943 non-null   float64\n",
      " 16  Credit Default                7500 non-null   int64  \n",
      "dtypes: float64(12), int64(1), object(4)\n",
      "memory usage: 996.2+ KB\n"
     ]
    }
   ],
   "source": [
    "df_train = pd.read_csv(TRAIN_DATASET_PATH)\n",
    "df_train.info()"
   ]
  },
  {
   "cell_type": "code",
   "execution_count": 141,
   "id": "1aefa855",
   "metadata": {},
   "outputs": [
    {
     "data": {
      "text/plain": [
       "0    5387\n",
       "1    2113\n",
       "Name: Credit Default, dtype: int64"
      ]
     },
     "execution_count": 141,
     "metadata": {},
     "output_type": "execute_result"
    }
   ],
   "source": [
    "df_train['Credit Default'].value_counts()"
   ]
  },
  {
   "cell_type": "code",
   "execution_count": 142,
   "id": "e808bc61",
   "metadata": {},
   "outputs": [
    {
     "data": {
      "text/html": [
       "<div>\n",
       "<style scoped>\n",
       "    .dataframe tbody tr th:only-of-type {\n",
       "        vertical-align: middle;\n",
       "    }\n",
       "\n",
       "    .dataframe tbody tr th {\n",
       "        vertical-align: top;\n",
       "    }\n",
       "\n",
       "    .dataframe thead th {\n",
       "        text-align: right;\n",
       "    }\n",
       "</style>\n",
       "<table border=\"1\" class=\"dataframe\">\n",
       "  <thead>\n",
       "    <tr style=\"text-align: right;\">\n",
       "      <th></th>\n",
       "      <th>Annual Income</th>\n",
       "      <th>Tax Liens</th>\n",
       "      <th>Number of Open Accounts</th>\n",
       "      <th>Years of Credit History</th>\n",
       "      <th>Maximum Open Credit</th>\n",
       "      <th>Number of Credit Problems</th>\n",
       "      <th>Months since last delinquent</th>\n",
       "      <th>Bankruptcies</th>\n",
       "      <th>Current Loan Amount</th>\n",
       "      <th>Current Credit Balance</th>\n",
       "      <th>Monthly Debt</th>\n",
       "      <th>Credit Score</th>\n",
       "      <th>Credit Default</th>\n",
       "    </tr>\n",
       "  </thead>\n",
       "  <tbody>\n",
       "    <tr>\n",
       "      <th>count</th>\n",
       "      <td>5943.00000</td>\n",
       "      <td>7500.00000</td>\n",
       "      <td>7500.00000</td>\n",
       "      <td>7500.00000</td>\n",
       "      <td>7500.00000</td>\n",
       "      <td>7500.00000</td>\n",
       "      <td>3419.00000</td>\n",
       "      <td>7486.00000</td>\n",
       "      <td>7500.00000</td>\n",
       "      <td>7500.00000</td>\n",
       "      <td>7500.00000</td>\n",
       "      <td>5943.00000</td>\n",
       "      <td>7500.00000</td>\n",
       "    </tr>\n",
       "    <tr>\n",
       "      <th>mean</th>\n",
       "      <td>1366391.72017</td>\n",
       "      <td>0.03013</td>\n",
       "      <td>11.13093</td>\n",
       "      <td>18.31747</td>\n",
       "      <td>945153.72747</td>\n",
       "      <td>0.17000</td>\n",
       "      <td>34.69260</td>\n",
       "      <td>0.11715</td>\n",
       "      <td>11873177.44507</td>\n",
       "      <td>289833.23520</td>\n",
       "      <td>18314.45413</td>\n",
       "      <td>1151.08750</td>\n",
       "      <td>0.28173</td>\n",
       "    </tr>\n",
       "    <tr>\n",
       "      <th>std</th>\n",
       "      <td>845339.19963</td>\n",
       "      <td>0.27160</td>\n",
       "      <td>4.90892</td>\n",
       "      <td>7.04195</td>\n",
       "      <td>16026216.67085</td>\n",
       "      <td>0.49860</td>\n",
       "      <td>21.68881</td>\n",
       "      <td>0.34719</td>\n",
       "      <td>31926122.97473</td>\n",
       "      <td>317871.38238</td>\n",
       "      <td>11926.76467</td>\n",
       "      <td>1604.45142</td>\n",
       "      <td>0.44987</td>\n",
       "    </tr>\n",
       "    <tr>\n",
       "      <th>min</th>\n",
       "      <td>164597.00000</td>\n",
       "      <td>0.00000</td>\n",
       "      <td>2.00000</td>\n",
       "      <td>4.00000</td>\n",
       "      <td>0.00000</td>\n",
       "      <td>0.00000</td>\n",
       "      <td>0.00000</td>\n",
       "      <td>0.00000</td>\n",
       "      <td>11242.00000</td>\n",
       "      <td>0.00000</td>\n",
       "      <td>0.00000</td>\n",
       "      <td>585.00000</td>\n",
       "      <td>0.00000</td>\n",
       "    </tr>\n",
       "    <tr>\n",
       "      <th>25%</th>\n",
       "      <td>844341.00000</td>\n",
       "      <td>0.00000</td>\n",
       "      <td>8.00000</td>\n",
       "      <td>13.50000</td>\n",
       "      <td>279229.50000</td>\n",
       "      <td>0.00000</td>\n",
       "      <td>16.00000</td>\n",
       "      <td>0.00000</td>\n",
       "      <td>180169.00000</td>\n",
       "      <td>114256.50000</td>\n",
       "      <td>10067.50000</td>\n",
       "      <td>711.00000</td>\n",
       "      <td>0.00000</td>\n",
       "    </tr>\n",
       "    <tr>\n",
       "      <th>50%</th>\n",
       "      <td>1168386.00000</td>\n",
       "      <td>0.00000</td>\n",
       "      <td>10.00000</td>\n",
       "      <td>17.00000</td>\n",
       "      <td>478159.00000</td>\n",
       "      <td>0.00000</td>\n",
       "      <td>32.00000</td>\n",
       "      <td>0.00000</td>\n",
       "      <td>309573.00000</td>\n",
       "      <td>209323.00000</td>\n",
       "      <td>16076.50000</td>\n",
       "      <td>731.00000</td>\n",
       "      <td>0.00000</td>\n",
       "    </tr>\n",
       "    <tr>\n",
       "      <th>75%</th>\n",
       "      <td>1640137.00000</td>\n",
       "      <td>0.00000</td>\n",
       "      <td>14.00000</td>\n",
       "      <td>21.80000</td>\n",
       "      <td>793501.50000</td>\n",
       "      <td>0.00000</td>\n",
       "      <td>50.00000</td>\n",
       "      <td>0.00000</td>\n",
       "      <td>519882.00000</td>\n",
       "      <td>360406.25000</td>\n",
       "      <td>23818.00000</td>\n",
       "      <td>743.00000</td>\n",
       "      <td>1.00000</td>\n",
       "    </tr>\n",
       "    <tr>\n",
       "      <th>max</th>\n",
       "      <td>10149344.00000</td>\n",
       "      <td>7.00000</td>\n",
       "      <td>43.00000</td>\n",
       "      <td>57.70000</td>\n",
       "      <td>1304726170.00000</td>\n",
       "      <td>7.00000</td>\n",
       "      <td>118.00000</td>\n",
       "      <td>4.00000</td>\n",
       "      <td>99999999.00000</td>\n",
       "      <td>6506797.00000</td>\n",
       "      <td>136679.00000</td>\n",
       "      <td>7510.00000</td>\n",
       "      <td>1.00000</td>\n",
       "    </tr>\n",
       "  </tbody>\n",
       "</table>\n",
       "</div>"
      ],
      "text/plain": [
       "       Annual Income  Tax Liens  Number of Open Accounts  \\\n",
       "count     5943.00000 7500.00000               7500.00000   \n",
       "mean   1366391.72017    0.03013                 11.13093   \n",
       "std     845339.19963    0.27160                  4.90892   \n",
       "min     164597.00000    0.00000                  2.00000   \n",
       "25%     844341.00000    0.00000                  8.00000   \n",
       "50%    1168386.00000    0.00000                 10.00000   \n",
       "75%    1640137.00000    0.00000                 14.00000   \n",
       "max   10149344.00000    7.00000                 43.00000   \n",
       "\n",
       "       Years of Credit History  Maximum Open Credit  \\\n",
       "count               7500.00000           7500.00000   \n",
       "mean                  18.31747         945153.72747   \n",
       "std                    7.04195       16026216.67085   \n",
       "min                    4.00000              0.00000   \n",
       "25%                   13.50000         279229.50000   \n",
       "50%                   17.00000         478159.00000   \n",
       "75%                   21.80000         793501.50000   \n",
       "max                   57.70000     1304726170.00000   \n",
       "\n",
       "       Number of Credit Problems  Months since last delinquent  Bankruptcies  \\\n",
       "count                 7500.00000                    3419.00000    7486.00000   \n",
       "mean                     0.17000                      34.69260       0.11715   \n",
       "std                      0.49860                      21.68881       0.34719   \n",
       "min                      0.00000                       0.00000       0.00000   \n",
       "25%                      0.00000                      16.00000       0.00000   \n",
       "50%                      0.00000                      32.00000       0.00000   \n",
       "75%                      0.00000                      50.00000       0.00000   \n",
       "max                      7.00000                     118.00000       4.00000   \n",
       "\n",
       "       Current Loan Amount  Current Credit Balance  Monthly Debt  \\\n",
       "count           7500.00000              7500.00000    7500.00000   \n",
       "mean        11873177.44507            289833.23520   18314.45413   \n",
       "std         31926122.97473            317871.38238   11926.76467   \n",
       "min            11242.00000                 0.00000       0.00000   \n",
       "25%           180169.00000            114256.50000   10067.50000   \n",
       "50%           309573.00000            209323.00000   16076.50000   \n",
       "75%           519882.00000            360406.25000   23818.00000   \n",
       "max         99999999.00000           6506797.00000  136679.00000   \n",
       "\n",
       "       Credit Score  Credit Default  \n",
       "count    5943.00000      7500.00000  \n",
       "mean     1151.08750         0.28173  \n",
       "std      1604.45142         0.44987  \n",
       "min       585.00000         0.00000  \n",
       "25%       711.00000         0.00000  \n",
       "50%       731.00000         0.00000  \n",
       "75%       743.00000         1.00000  \n",
       "max      7510.00000         1.00000  "
      ]
     },
     "execution_count": 142,
     "metadata": {},
     "output_type": "execute_result"
    }
   ],
   "source": [
    "pd.set_option('display.float_format', lambda x: '%.5f' % x)\n",
    "df_train.describe()"
   ]
  },
  {
   "cell_type": "markdown",
   "id": "9f8ab161",
   "metadata": {},
   "source": [
    "Не знаю, что за валюта и страна, но если прикинуть по ЗП,  минимальная в год 164597, это ~13к в месяц, что впринципе МРОТ в РФ, так что будем считать, что валюта Рубли. "
   ]
  },
  {
   "cell_type": "markdown",
   "id": "df0dc9ba",
   "metadata": {},
   "source": [
    "- Maximum Open Credit обработать выбросы\n",
    "- Current Loan Amount обработать выбросы\n",
    "- Current Credit Balance - посмотреть выброс или нет.\n",
    "- Credit score -  посмотреть частоту значений, возможно верхняя граница это просто ошибка лишей цифры."
   ]
  },
  {
   "cell_type": "markdown",
   "id": "ca014903",
   "metadata": {},
   "source": [
    "### Выбросы"
   ]
  },
  {
   "cell_type": "markdown",
   "id": "085629d2",
   "metadata": {},
   "source": [
    "#### Maximum Open Credit"
   ]
  },
  {
   "cell_type": "code",
   "execution_count": 143,
   "id": "45b3c103",
   "metadata": {},
   "outputs": [
    {
     "data": {
      "text/plain": [
       "<AxesSubplot:xlabel='Maximum Open Credit'>"
      ]
     },
     "execution_count": 143,
     "metadata": {},
     "output_type": "execute_result"
    },
    {
     "data": {
      "image/png": "[encoded data removed]",
      "text/plain": [
       "<Figure size 432x288 with 1 Axes>"
      ]
     },
     "metadata": {
      "needs_background": "light"
     },
     "output_type": "display_data"
    }
   ],
   "source": [
    "sns.boxplot(df_train['Maximum Open Credit'])"
   ]
  },
  {
   "cell_type": "markdown",
   "id": "e13c2c46",
   "metadata": {},
   "source": [
    "Значения совсем фантастические. Заменим все что выше q=0.975 медианой."
   ]
  },
  {
   "cell_type": "code",
   "execution_count": 144,
   "id": "4404cfb7",
   "metadata": {},
   "outputs": [],
   "source": [
    "max_open_credit = np.quantile(df_train['Maximum Open Credit'], q=0.975)\n",
    "max_open_credit_median = df_train['Maximum Open Credit'].median()\n",
    "df_train.loc[df_train['Maximum Open Credit'] > max_open_credit, 'Maximum Open Credit'] = max_open_credit_median"
   ]
  },
  {
   "cell_type": "markdown",
   "id": "50855467",
   "metadata": {},
   "source": [
    "### Current Loan Amount"
   ]
  },
  {
   "cell_type": "code",
   "execution_count": 145,
   "id": "c7154ec4",
   "metadata": {},
   "outputs": [
    {
     "data": {
      "text/plain": [
       "99999999.00000    870\n",
       "218064.00000        6\n",
       "89298.00000         6\n",
       "216106.00000        5\n",
       "265826.00000        5\n",
       "                 ... \n",
       "104324.00000        1\n",
       "201080.00000        1\n",
       "427812.00000        1\n",
       "665544.00000        1\n",
       "191136.00000        1\n",
       "Name: Current Loan Amount, Length: 5386, dtype: int64"
      ]
     },
     "execution_count": 145,
     "metadata": {},
     "output_type": "execute_result"
    }
   ],
   "source": [
    "df_train['Current Loan Amount'].value_counts()"
   ]
  },
  {
   "cell_type": "code",
   "execution_count": 146,
   "id": "eb151d73",
   "metadata": {},
   "outputs": [
    {
     "data": {
      "text/plain": [
       "<AxesSubplot:>"
      ]
     },
     "execution_count": 146,
     "metadata": {},
     "output_type": "execute_result"
    },
    {
     "data": {
      "image/png": "[encoded data removed]",
      "text/plain": [
       "<Figure size 432x288 with 1 Axes>"
      ]
     },
     "metadata": {
      "needs_background": "light"
     },
     "output_type": "display_data"
    }
   ],
   "source": [
    "df_train['Current Loan Amount'].hist(bins=25)"
   ]
  },
  {
   "cell_type": "markdown",
   "id": "58bd8409",
   "metadata": {},
   "source": [
    "Я так подозреваю значение 99999999 это правое скопление, явно не являющееся нормальным. Заменим медианным значением, и создадим доп признак показывающий, что был выброс, т.к. выбросов очень много."
   ]
  },
  {
   "cell_type": "code",
   "execution_count": 147,
   "id": "f8cac4cc",
   "metadata": {},
   "outputs": [],
   "source": [
    "current_loan_amount_median = df_train['Current Loan Amount'].median()\n",
    "\n",
    "df_train[\"Current Loan Amount outlier\"] = 0\n",
    "df_train.loc[df_train['Current Loan Amount'] == 99999999, 'Current Loan Amount outlier'] = 1\n",
    "df_train.loc[df_train['Current Loan Amount'] == 99999999, 'Current Loan Amount'] = current_loan_amount_median"
   ]
  },
  {
   "cell_type": "markdown",
   "id": "81cec0c3",
   "metadata": {},
   "source": [
    "### Current Credit Balance"
   ]
  },
  {
   "cell_type": "markdown",
   "id": "f76653ba",
   "metadata": {},
   "source": [
    "Верхняя граница достаточно большая, но и не чтоб супербольшая. Хотя не известно, включается ли тут деньги лежащие на дебетовом счете в общую сумму. Можно посмотреть, например сколько счетов у людей, у которых кредитный счет больше 0.975 квантиля, или же можем посмотреть людей у которых кредитный счет выше чем сумма кредита. "
   ]
  },
  {
   "cell_type": "code",
   "execution_count": 148,
   "id": "f77c1159",
   "metadata": {},
   "outputs": [
    {
     "data": {
      "text/plain": [
       "[<matplotlib.lines.Line2D at 0x17807b58310>]"
      ]
     },
     "execution_count": 148,
     "metadata": {},
     "output_type": "execute_result"
    },
    {
     "data": {
      "image/png": "[encoded data removed]",
      "text/plain": [
       "<Figure size 1080x360 with 1 Axes>"
      ]
     },
     "metadata": {
      "needs_background": "light"
     },
     "output_type": "display_data"
    }
   ],
   "source": [
    "high_credit_balance = df_train.loc[df_train['Current Credit Balance'] > np.quantile(df_train['Current Credit Balance'], q=0.975)]\n",
    "x = high_credit_balance['Current Credit Balance']\n",
    "y = high_credit_balance['Current Loan Amount']\n",
    "\n",
    "plt.figure(figsize=(15,5))\n",
    "\n",
    "plt.plot(x)\n",
    "plt.plot(y)"
   ]
  },
  {
   "cell_type": "markdown",
   "id": "18f82cb1",
   "metadata": {},
   "source": [
    "Интересно, я думаю дальше можно создать признак, помечающий людей, у которых баланс больше кредита."
   ]
  },
  {
   "cell_type": "code",
   "execution_count": 149,
   "id": "d6ceee57",
   "metadata": {},
   "outputs": [
    {
     "data": {
      "text/plain": [
       "<seaborn.axisgrid.JointGrid at 0x17807b74730>"
      ]
     },
     "execution_count": 149,
     "metadata": {},
     "output_type": "execute_result"
    },
    {
     "data": {
      "image/png": "[encoded data removed]",
      "text/plain": [
       "<Figure size 432x432 with 3 Axes>"
      ]
     },
     "metadata": {
      "needs_background": "light"
     },
     "output_type": "display_data"
    }
   ],
   "source": [
    "z =  high_credit_balance['Number of Open Accounts']\n",
    "\n",
    "sns.jointplot(z,x, kind='reg')"
   ]
  },
  {
   "cell_type": "markdown",
   "id": "4bb7e85a",
   "metadata": {},
   "source": [
    "Связь с количеством счетов почти никакая. Остановимся на том, что пометим у кого баланс больше кредита."
   ]
  },
  {
   "cell_type": "markdown",
   "id": "eb30f96c",
   "metadata": {},
   "source": [
    "### Credit Score"
   ]
  },
  {
   "cell_type": "code",
   "execution_count": 154,
   "id": "0925ab05",
   "metadata": {},
   "outputs": [
    {
     "data": {
      "text/plain": [
       "<AxesSubplot:>"
      ]
     },
     "execution_count": 154,
     "metadata": {},
     "output_type": "execute_result"
    },
    {
     "data": {
      "image/png": "[encoded data removed]",
      "text/plain": [
       "<Figure size 432x288 with 1 Axes>"
      ]
     },
     "metadata": {
      "needs_background": "light"
     },
     "output_type": "display_data"
    }
   ],
   "source": [
    "df_train[\"Credit Score\"].hist(bins=25)"
   ]
  },
  {
   "cell_type": "code",
   "execution_count": 151,
   "id": "cce33ee5",
   "metadata": {},
   "outputs": [
    {
     "data": {
      "text/plain": [
       "740.00000     169\n",
       "747.00000     168\n",
       "748.00000     157\n",
       "745.00000     152\n",
       "742.00000     151\n",
       "             ... \n",
       "629.00000       1\n",
       "606.00000       1\n",
       "6830.00000      1\n",
       "6670.00000      1\n",
       "620.00000       1\n",
       "Name: Credit Score, Length: 268, dtype: int64"
      ]
     },
     "execution_count": 151,
     "metadata": {},
     "output_type": "execute_result"
    }
   ],
   "source": [
    "df_train[\"Credit Score\"].value_counts()"
   ]
  },
  {
   "cell_type": "markdown",
   "id": "f95e24cd",
   "metadata": {},
   "source": [
    "Да, сделаем обрезание крайней цифры. =)"
   ]
  },
  {
   "cell_type": "code",
   "execution_count": 152,
   "id": "7ffe3efe",
   "metadata": {},
   "outputs": [],
   "source": [
    "df_train.loc[df_train['Credit Score'] > 2000, 'Credit Score'] //= 10"
   ]
  },
  {
   "cell_type": "code",
   "execution_count": null,
   "id": "33901719",
   "metadata": {},
   "outputs": [],
   "source": []
  },
  {
   "cell_type": "code",
   "execution_count": null,
   "id": "4117db6c",
   "metadata": {},
   "outputs": [],
   "source": []
  },
  {
   "cell_type": "code",
   "execution_count": 153,
   "id": "a10a10ee",
   "metadata": {},
   "outputs": [],
   "source": [
    "def prep_data(df):\n",
    "    \n",
    "    #Выбросы\n",
    "    \n",
    "    df.loc[df['Maximum Open Credit'] > max_open_credit, 'Maximum Open Credit'] = max_open_credit_median\n",
    "    \n",
    "    df[\"Current Loan Amount outlier\"] = 0\n",
    "    df.loc[df['Current Loan Amount'] == 99999999, 'Current Loan Amount outlier'] = 1\n",
    "    df.loc[df['Current Loan Amount'] == 99999999, 'Current Loan Amount'] = current_loan_amount_median\n",
    "    df.loc[df['Credit Score'] > 2000, 'Credit Score'] //= 10\n",
    "    \n",
    "    \n",
    "    \n",
    "    return df"
   ]
  },
  {
   "cell_type": "code",
   "execution_count": null,
   "id": "268927ba",
   "metadata": {},
   "outputs": [],
   "source": []
  },
  {
   "cell_type": "code",
   "execution_count": null,
   "id": "51849809",
   "metadata": {},
   "outputs": [],
   "source": []
  }
 ],
 "metadata": {
  "kernelspec": {
   "display_name": "Python 3",
   "language": "python",
   "name": "python3"
  },
  "language_info": {
   "codemirror_mode": {
    "name": "ipython",
    "version": 3
   },
   "file_extension": ".py",
   "mimetype": "text/x-python",
   "name": "python",
   "nbconvert_exporter": "python",
   "pygments_lexer": "ipython3",
   "version": "3.8.8"
  }
 },
 "nbformat": 4,
 "nbformat_minor": 5
}
