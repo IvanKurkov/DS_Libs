{
 "cells": [
  {
   "cell_type": "markdown",
   "metadata": {
    "colab_type": "text",
    "id": "JuPQd1TBZ5ky"
   },
   "source": [
    "## Урок 3.\n",
    "# Построение модели классификации.\n",
    "\n",
    "**План занятия**\n",
    "\n",
    "* [Теоретическая часть](#theory)\n",
    "    * [Балансировка классов](#class_balancing)\n",
    "    * [Схемы оценки обобщающей способности алгоритма](#generalizing_ability)\n",
    "    * [Обзор алгоритмов классификации](#classification_models)\n",
    "        * [Логистическая регрессия](#logreg)\n",
    "        * [Метод опорных векторов](#svm)\n",
    "        * [k ближайших соседей](#knn)\n",
    "        * [Случайный лес и бустинговые алгоритмы](#rb_and_gb)\n",
    "* [Практическая часть](#practice)\n",
    "    * [Загрузка данных](#load_data)\n",
    "    * [Отбор признаков](#feature_selection)\n",
    "    * [Нормализация данных](#normalization)\n",
    "    * [Разбиение на train и test](#train_and_test)\n",
    "    * [Балансировка целевой переменной](#target_balancing)\n",
    "    * [Сохранение обучающего и тестового датасетов](#train_test_saving)\n",
    "    * [Построение и оценка базовых моделей](#baseline_modeling)\n",
    "    * [Выбор лучшей модели и подбор гиперпараметров](#tuning_best_model)"
   ]
  },
  {
   "cell_type": "markdown",
   "metadata": {
    "colab_type": "text",
    "id": "p1oJyqXEZ5k0"
   },
   "source": [
    "## <center>Теоретическая часть<a class=\"anchor\" id=\"theory\"></a><center>"
   ]
  },
  {
   "cell_type": "markdown",
   "metadata": {
    "colab_type": "text",
    "id": "Cf-wV27uZ5k0"
   },
   "source": [
    "### Балансировка классов<a class=\"anchor\" id=\"class_balancing\"></a>"
   ]
  },
  {
   "cell_type": "markdown",
   "metadata": {
    "colab_type": "text",
    "id": "xrDLaiP8Z5k1"
   },
   "source": [
    "**Описание проблемы**\n",
    "\n",
    "Для многих алгоритмов классификации существенной проблемой является дисбаланс классов целевой переменной. В случаях когда примеров одного класса существенно больше, чем примеров другого класса, возникает вероятность того, что алгоритм переучиться на примерах превалирующего класса. Ситуация ещё больше усугубляется при многоклассовой классификации. \n",
    "\n",
    "**Способы борьбы с дисбалансом классов**\n",
    "\n",
    "1. Собрать больше данных\n",
    "2. Выбрать подходящую метрику качества\n",
    "3. Попробовать разные модели, одни модели более устойчивы к несбалансированным данным, чем другие\n",
    "4. Штраф за ошибки при прогнозе меньшего класса\n",
    "5. Undersampling и Oversampling\n",
    "6. Создание синтетических примеров для меньшего класса"
   ]
  },
  {
   "cell_type": "markdown",
   "metadata": {
    "colab_type": "text",
    "id": "UD8j0DY4Z5k2"
   },
   "source": [
    "<img src=\"balancing.png\">"
   ]
  },
  {
   "cell_type": "markdown",
   "metadata": {
    "colab_type": "text",
    "id": "JtL8tAaeZ5k3"
   },
   "source": [
    "### Схемы оценки обобщающей способности алгоритма<a class=\"anchor\" id=\"generalizing_ability\"></a>"
   ]
  },
  {
   "cell_type": "markdown",
   "metadata": {
    "colab_type": "text",
    "id": "MDBGMjcFZ5k3"
   },
   "source": [
    "**Обобщающая способность алгоритма**\n",
    "\n",
    "Модель, обладающая хорошей обобщающей способностью, способна предсказывать примерно на одном и том же уровне качества, как на обучающем датасете, так и на новых данных.\n",
    "\n",
    "В процессе построения модели, нам необходимо оценивать качество прогнозов на данных, которые модель не видела во время обучения, чтобы избежать недообучения / переобучения нашего алгоритма. Мы поговорим подробнее об этих явлениях на следующем занятии. \n",
    "\n",
    "Для эмитации прогнозирования на новых данных, имея в распоряжении только обучающую выборку, используют два приёма - *отложенную выборку* и *кросс-валидацию*.\n",
    "\n",
    "**Отложенная выборка**\n",
    "\n",
    "Обучающая выборка разбивается на две части train и test, в тестовую часть, как правило, идёт от 20% до 33% наблюдений, остальное в обучающую. На обучающей части мы тренируем нашу модель и настраиваем гиперпараметры, а после сравниваем прогнозы между обучающей и тестовой частями, что бы понять, как модель поведёт себя на данных, которые не видела до этого.\n",
    "\n",
    "**Кросс-валидация**\n",
    "\n",
    "Данный способ, в своей основе, похож на предыдущий. Обучающая выборка разбивается на k непересекающихся частей, как правило 3 или 5, после чего каждая из частей поочерёдно выступает в роли тестовой части, а оставшиеся в роли обучающей. Таким образом модель проходи k стадий проверок, полностью задействуя обучающий датасет."
   ]
  },
  {
   "cell_type": "markdown",
   "metadata": {
    "colab_type": "text",
    "id": "o-D4qb6rZ5k4"
   },
   "source": [
    "<img src=\"cross_val.png\">"
   ]
  },
  {
   "cell_type": "markdown",
   "metadata": {
    "colab_type": "text",
    "id": "zHBMsfkGZ5k6"
   },
   "source": [
    "### Обзор алгоритмов классификации<a class=\"anchor\" id=\"classification_models\"></a>"
   ]
  },
  {
   "cell_type": "markdown",
   "metadata": {
    "colab_type": "text",
    "id": "ZSniEJ6WZ5k7"
   },
   "source": [
    "**Логистическая регрессия**<a class=\"anchor\" id=\"logreg\"></a>"
   ]
  },
  {
   "cell_type": "markdown",
   "metadata": {
    "colab_type": "text",
    "id": "lGzattLTZ5k_"
   },
   "source": [
    "<img src=\"log_reg.png\">"
   ]
  },
  {
   "cell_type": "markdown",
   "metadata": {
    "colab_type": "text",
    "id": "2j7fWPWCZ5lA"
   },
   "source": [
    "**Метод опорных векторов**<a class=\"anchor\" id=\"svm\"></a>"
   ]
  },
  {
   "cell_type": "markdown",
   "metadata": {
    "colab_type": "text",
    "id": "k_1iMCT3Z5lB"
   },
   "source": [
    "<img src=\"svm.png\">"
   ]
  },
  {
   "cell_type": "markdown",
   "metadata": {
    "colab_type": "text",
    "id": "7dTZtLoPZ5lC"
   },
   "source": [
    "**k ближайших соседей**<a class=\"anchor\" id=\"knn\"></a>"
   ]
  },
  {
   "cell_type": "markdown",
   "metadata": {
    "colab_type": "text",
    "id": "va9FzNdAZ5lC"
   },
   "source": [
    "<img src=\"knn.png\">"
   ]
  },
  {
   "cell_type": "markdown",
   "metadata": {
    "colab_type": "text",
    "id": "0lYdbl6YZ5lD"
   },
   "source": [
    "**Случайный лес (бэгинг) и бустинговые алгоритмы**<a class=\"anchor\" id=\"rb_and_gb\"></a>"
   ]
  },
  {
   "cell_type": "markdown",
   "metadata": {
    "colab_type": "text",
    "id": "WBRrq7ylZ5lE"
   },
   "source": [
    "<img src=\"rf.jpg\">"
   ]
  },
  {
   "cell_type": "markdown",
   "metadata": {
    "colab_type": "text",
    "id": "LFOdiKWYZ5lF"
   },
   "source": [
    "## <center>Практическая часть<a class=\"anchor\" id=\"practice\"></a><center>"
   ]
  },
  {
   "cell_type": "markdown",
   "metadata": {
    "colab_type": "text",
    "id": "PIx5LEkKZ5lF"
   },
   "source": [
    "**Подключение библиотек и скриптов**"
   ]
  },
  {
   "cell_type": "code",
   "execution_count": 0,
   "metadata": {
    "colab": {},
    "colab_type": "code",
    "id": "4eeTP5OSZ5lG"
   },
   "outputs": [],
   "source": [
    "# !pip install xgboost\n",
    "# !pip install lightgbm\n",
    "# !pip install catboost"
   ]
  },
  {
   "cell_type": "code",
   "execution_count": 0,
   "metadata": {
    "colab": {},
    "colab_type": "code",
    "id": "9zHc3qzzZ5lJ"
   },
   "outputs": [],
   "source": [
    "import pandas as pd\n",
    "import numpy as np\n",
    "import pickle\n",
    "import random\n",
    "\n",
    "from sklearn.preprocessing import StandardScaler, MinMaxScaler\n",
    "from sklearn.model_selection import train_test_split, ShuffleSplit, cross_val_score, learning_curve\n",
    "from sklearn.model_selection import KFold, GridSearchCV, RandomizedSearchCV\n",
    "from sklearn.metrics import classification_report, f1_score, precision_score, recall_score\n",
    "\n",
    "from sklearn.linear_model import LogisticRegression\n",
    "from sklearn.neighbors import KNeighborsClassifier\n",
    "import xgboost as xgb, lightgbm as lgbm, catboost as catb\n",
    "\n",
    "import seaborn as sns\n",
    "from matplotlib import pyplot as plt\n",
    "%matplotlib inline"
   ]
  },
  {
   "cell_type": "code",
   "execution_count": 0,
   "metadata": {
    "colab": {},
    "colab_type": "code",
    "id": "vYmjWT4wZ5lM"
   },
   "outputs": [],
   "source": [
    "import warnings\n",
    "warnings.simplefilter('ignore')"
   ]
  },
  {
   "cell_type": "code",
   "execution_count": 0,
   "metadata": {
    "colab": {},
    "colab_type": "code",
    "id": "kAB3Jdd5Z5lP"
   },
   "outputs": [],
   "source": [
    "def get_classification_report(y_train_true, y_train_pred, y_test_true, y_test_pred):\n",
    "    print('TRAIN\\n\\n' + classification_report(y_train_true, y_train_pred))\n",
    "    print('TEST\\n\\n' + classification_report(y_test_true, y_test_pred))\n",
    "    print('CONFUSION MATRIX\\n')\n",
    "    print(pd.crosstab(y_test_true, y_test_pred))"
   ]
  },
  {
   "cell_type": "code",
   "execution_count": 0,
   "metadata": {
    "colab": {},
    "colab_type": "code",
    "id": "EQsDUWKHZ5lU"
   },
   "outputs": [],
   "source": [
    "def balance_df_by_target(df, target_name):\n",
    "\n",
    "    target_counts = df[target_name].value_counts()\n",
    "\n",
    "    major_class_name = target_counts.argmax()\n",
    "    minor_class_name = target_counts.argmin()\n",
    "\n",
    "    disbalance_coeff = int(target_counts[major_class_name] / target_counts[minor_class_name]) - 1\n",
    "\n",
    "    for i in range(disbalance_coeff):\n",
    "        sample = df[df[target_name] == minor_class_name].sample(target_counts[minor_class_name])\n",
    "        df = df.append(sample, ignore_index=True)\n",
    "\n",
    "    return df.sample(frac=1) "
   ]
  },
  {
   "cell_type": "markdown",
   "metadata": {
    "colab_type": "text",
    "id": "BccImf5_Z5lX"
   },
   "source": [
    "**Пути к директориям и файлам**"
   ]
  },
  {
   "cell_type": "code",
   "execution_count": 0,
   "metadata": {
    "colab": {},
    "colab_type": "code",
    "id": "lOJfvCLNZ5lY"
   },
   "outputs": [],
   "source": [
    "# input\n",
    "DATASET_PATH = '../training_project_data.csv'\n",
    "PREP_DATASET_PATH = '../training_project_data_prep.csv'\n",
    "\n",
    "# output\n",
    "TRAIN_FULL_PATH = '../training_project_train_full.csv'\n",
    "TRAIN_PART_PATH = '../training_project_train_part_b.csv'\n",
    "TEST_PART_PATH = '../training_project_test_part.csv'\n",
    "\n",
    "SCALER_FILE_PATH = '../scaler.pkl'"
   ]
  },
  {
   "cell_type": "markdown",
   "metadata": {
    "colab_type": "text",
    "id": "PsIAttjjZ5lc"
   },
   "source": [
    "### Загрузка данных<a class=\"anchor\" id=\"load_data\"></a>"
   ]
  },
  {
   "cell_type": "markdown",
   "metadata": {
    "colab_type": "text",
    "id": "XFz9pxkUZ5lc"
   },
   "source": [
    "**Описание базового датасета**\n",
    "\n",
    "* **LIMIT_BAL** - Сумма предоставленного кредита\n",
    "* **SEX** - Пол (1=мужчина, 2=женщина)\n",
    "* **EDUCATION** - Образование (1=аспирантура, 2=университет, 3=старшая школа, 4=прочее, 5=неизвестно, 6=неизвестно)\n",
    "* **MARRIAGE** - Семейное положение (1=женат/замужен, 2=не женат/не замуженм, 3=прочее)\n",
    "* **AGE** - Возраст (в годах)\n",
    "* **PAY_1** - Статус погашения в Сентябре (-1=погашен полностью, 0=погашен частично, 1=отсрочка платежа на один месяц, .., 3=отсрочка платежа на три месяца и более)\n",
    "* **PAY_2** - Статус погашения в Августе\n",
    "* **PAY_3** - Статус погашения в Июле\n",
    "* **PAY_4** - Статус погашения в Июне\n",
    "* **PAY_5** - Статус погашения в Мае\n",
    "* **PAY_6** - Статус погашения в Апреле\n",
    "* **BILL_AMT1** - Сумма выписки по счету в Сентябре\n",
    "* **BILL_AMT2** - Сумма выписки по счету в Августе\n",
    "* **BILL_AMT3** - Сумма выписки по счету в Июле\n",
    "* **BILL_AMT4** - Сумма выписки по счету в Июне\n",
    "* **BILL_AMT5** - Сумма выписки по счету в Мае\n",
    "* **BILL_AMT6** - Сумма выписки по счету в Апреле\n",
    "* **PAY_AMT1** - Сумма предыдущего платежа в Сентябре\n",
    "* **PAY_AMT2** - Сумма предыдущего платежа в Августе\n",
    "* **PAY_AMT3** - Сумма предыдущего платежа в Июле\n",
    "* **PAY_AMT4** - Сумма предыдущего платежа в Июне\n",
    "* **PAY_AMT5** - Сумма предыдущего платежа в Мае\n",
    "* **PAY_AMT6** - Сумма предыдущего платежа в Апреле\n",
    "* **NEXT_MONTH_DEFAULT** - Просрочка платежа в следующем месяце (1=да, 0=нет)"
   ]
  },
  {
   "cell_type": "code",
   "execution_count": 0,
   "metadata": {
    "colab": {},
    "colab_type": "code",
    "id": "GkSkyJFFZ5le",
    "outputId": "74cad48f-e742-4a86-d1f0-4a9192cd8083"
   },
   "outputs": [
    {
     "data": {
      "text/html": [
       "<div>\n",
       "<style scoped>\n",
       "    .dataframe tbody tr th:only-of-type {\n",
       "        vertical-align: middle;\n",
       "    }\n",
       "\n",
       "    .dataframe tbody tr th {\n",
       "        vertical-align: top;\n",
       "    }\n",
       "\n",
       "    .dataframe thead th {\n",
       "        text-align: right;\n",
       "    }\n",
       "</style>\n",
       "<table border=\"1\" class=\"dataframe\">\n",
       "  <thead>\n",
       "    <tr style=\"text-align: right;\">\n",
       "      <th></th>\n",
       "      <th>LIMIT_BAL</th>\n",
       "      <th>SEX</th>\n",
       "      <th>EDUCATION</th>\n",
       "      <th>MARRIAGE</th>\n",
       "      <th>AGE</th>\n",
       "      <th>PAY_1</th>\n",
       "      <th>PAY_2</th>\n",
       "      <th>PAY_3</th>\n",
       "      <th>PAY_4</th>\n",
       "      <th>PAY_5</th>\n",
       "      <th>...</th>\n",
       "      <th>PAY_4_2</th>\n",
       "      <th>PAY_4_3</th>\n",
       "      <th>PAY_5_-1</th>\n",
       "      <th>PAY_5_0</th>\n",
       "      <th>PAY_5_2</th>\n",
       "      <th>PAY_5_3</th>\n",
       "      <th>PAY_6_-1</th>\n",
       "      <th>PAY_6_0</th>\n",
       "      <th>PAY_6_2</th>\n",
       "      <th>PAY_6_3</th>\n",
       "    </tr>\n",
       "  </thead>\n",
       "  <tbody>\n",
       "    <tr>\n",
       "      <th>0</th>\n",
       "      <td>150000.0</td>\n",
       "      <td>2</td>\n",
       "      <td>2</td>\n",
       "      <td>2</td>\n",
       "      <td>24</td>\n",
       "      <td>1</td>\n",
       "      <td>2</td>\n",
       "      <td>0</td>\n",
       "      <td>0</td>\n",
       "      <td>0</td>\n",
       "      <td>...</td>\n",
       "      <td>0</td>\n",
       "      <td>0</td>\n",
       "      <td>0</td>\n",
       "      <td>1</td>\n",
       "      <td>0</td>\n",
       "      <td>0</td>\n",
       "      <td>0</td>\n",
       "      <td>1</td>\n",
       "      <td>0</td>\n",
       "      <td>0</td>\n",
       "    </tr>\n",
       "    <tr>\n",
       "      <th>1</th>\n",
       "      <td>50000.0</td>\n",
       "      <td>2</td>\n",
       "      <td>3</td>\n",
       "      <td>1</td>\n",
       "      <td>46</td>\n",
       "      <td>3</td>\n",
       "      <td>3</td>\n",
       "      <td>3</td>\n",
       "      <td>3</td>\n",
       "      <td>2</td>\n",
       "      <td>...</td>\n",
       "      <td>0</td>\n",
       "      <td>1</td>\n",
       "      <td>0</td>\n",
       "      <td>0</td>\n",
       "      <td>1</td>\n",
       "      <td>0</td>\n",
       "      <td>0</td>\n",
       "      <td>1</td>\n",
       "      <td>0</td>\n",
       "      <td>0</td>\n",
       "    </tr>\n",
       "    <tr>\n",
       "      <th>2</th>\n",
       "      <td>150000.0</td>\n",
       "      <td>2</td>\n",
       "      <td>2</td>\n",
       "      <td>1</td>\n",
       "      <td>41</td>\n",
       "      <td>-1</td>\n",
       "      <td>-1</td>\n",
       "      <td>-1</td>\n",
       "      <td>-1</td>\n",
       "      <td>0</td>\n",
       "      <td>...</td>\n",
       "      <td>0</td>\n",
       "      <td>0</td>\n",
       "      <td>0</td>\n",
       "      <td>1</td>\n",
       "      <td>0</td>\n",
       "      <td>0</td>\n",
       "      <td>0</td>\n",
       "      <td>1</td>\n",
       "      <td>0</td>\n",
       "      <td>0</td>\n",
       "    </tr>\n",
       "    <tr>\n",
       "      <th>3</th>\n",
       "      <td>150000.0</td>\n",
       "      <td>2</td>\n",
       "      <td>2</td>\n",
       "      <td>2</td>\n",
       "      <td>35</td>\n",
       "      <td>0</td>\n",
       "      <td>0</td>\n",
       "      <td>0</td>\n",
       "      <td>0</td>\n",
       "      <td>0</td>\n",
       "      <td>...</td>\n",
       "      <td>0</td>\n",
       "      <td>0</td>\n",
       "      <td>0</td>\n",
       "      <td>1</td>\n",
       "      <td>0</td>\n",
       "      <td>0</td>\n",
       "      <td>0</td>\n",
       "      <td>1</td>\n",
       "      <td>0</td>\n",
       "      <td>0</td>\n",
       "    </tr>\n",
       "    <tr>\n",
       "      <th>4</th>\n",
       "      <td>70000.0</td>\n",
       "      <td>2</td>\n",
       "      <td>1</td>\n",
       "      <td>1</td>\n",
       "      <td>35</td>\n",
       "      <td>1</td>\n",
       "      <td>2</td>\n",
       "      <td>2</td>\n",
       "      <td>2</td>\n",
       "      <td>2</td>\n",
       "      <td>...</td>\n",
       "      <td>1</td>\n",
       "      <td>0</td>\n",
       "      <td>0</td>\n",
       "      <td>0</td>\n",
       "      <td>1</td>\n",
       "      <td>0</td>\n",
       "      <td>0</td>\n",
       "      <td>1</td>\n",
       "      <td>0</td>\n",
       "      <td>0</td>\n",
       "    </tr>\n",
       "  </tbody>\n",
       "</table>\n",
       "<p>5 rows × 62 columns</p>\n",
       "</div>"
      ],
      "text/plain": [
       "   LIMIT_BAL  SEX  EDUCATION  MARRIAGE  AGE  PAY_1  PAY_2  PAY_3  PAY_4  \\\n",
       "0   150000.0    2          2         2   24      1      2      0      0   \n",
       "1    50000.0    2          3         1   46      3      3      3      3   \n",
       "2   150000.0    2          2         1   41     -1     -1     -1     -1   \n",
       "3   150000.0    2          2         2   35      0      0      0      0   \n",
       "4    70000.0    2          1         1   35      1      2      2      2   \n",
       "\n",
       "   PAY_5  ...  PAY_4_2  PAY_4_3  PAY_5_-1  PAY_5_0  PAY_5_2  PAY_5_3  \\\n",
       "0      0  ...        0        0         0        1        0        0   \n",
       "1      2  ...        0        1         0        0        1        0   \n",
       "2      0  ...        0        0         0        1        0        0   \n",
       "3      0  ...        0        0         0        1        0        0   \n",
       "4      2  ...        1        0         0        0        1        0   \n",
       "\n",
       "   PAY_6_-1  PAY_6_0  PAY_6_2  PAY_6_3  \n",
       "0         0        1        0        0  \n",
       "1         0        1        0        0  \n",
       "2         0        1        0        0  \n",
       "3         0        1        0        0  \n",
       "4         0        1        0        0  \n",
       "\n",
       "[5 rows x 62 columns]"
      ]
     },
     "execution_count": 6,
     "metadata": {
      "tags": []
     },
     "output_type": "execute_result"
    }
   ],
   "source": [
    "df_base = pd.read_csv(DATASET_PATH)\n",
    "df = pd.read_csv(PREP_DATASET_PATH)\n",
    "\n",
    "df.head()"
   ]
  },
  {
   "cell_type": "markdown",
   "metadata": {
    "colab_type": "text",
    "id": "xYIn4hzNZ5li"
   },
   "source": [
    "**Выделение целевой переменной и групп признаков**"
   ]
  },
  {
   "cell_type": "code",
   "execution_count": 0,
   "metadata": {
    "colab": {},
    "colab_type": "code",
    "id": "vw8dDHWxZ5li"
   },
   "outputs": [],
   "source": [
    "TARGET_NAME = 'NEXT_MONTH_DEFAULT'\n",
    "BASE_FEATURE_NAMES = df_base.columns.drop(TARGET_NAME).tolist()\n",
    "NEW_FEATURE_NAMES = df.columns.drop([TARGET_NAME, 'ID'] + BASE_FEATURE_NAMES).tolist()"
   ]
  },
  {
   "cell_type": "markdown",
   "metadata": {
    "colab_type": "text",
    "id": "YVGOqqZkZ5ll"
   },
   "source": [
    "### Отбор признаков<a class=\"anchor\" id=\"feature_selection\"></a>"
   ]
  },
  {
   "cell_type": "code",
   "execution_count": 0,
   "metadata": {
    "colab": {},
    "colab_type": "code",
    "id": "Qf3lpO3TZ5ll"
   },
   "outputs": [],
   "source": [
    "NUM_FEATURE_NAMES = ['LIMIT_BAL', 'AGE', 'BILL_AMT1', 'BILL_AMT2', 'BILL_AMT3', 'BILL_AMT4', 'BILL_AMT5', 'BILL_AMT6',\n",
    "                     'PAY_AMT1', 'PAY_AMT2', 'PAY_AMT3', 'PAY_AMT4', 'PAY_AMT5', 'PAY_AMT6']\n",
    "\n",
    "CAT_FEATURE_NAMES = ['SEX', 'EDUCATION', 'MARRIAGE', 'PAY_1', 'PAY_2', 'PAY_3', 'PAY_4', 'PAY_5', 'PAY_6']\n",
    "\n",
    "SELECTED_FEATURE_NAMES = NUM_FEATURE_NAMES + NEW_FEATURE_NAMES"
   ]
  },
  {
   "cell_type": "markdown",
   "metadata": {
    "colab_type": "text",
    "id": "CC5IOWR0Z5ln"
   },
   "source": [
    "### Приведение типов для модели CatBoost"
   ]
  },
  {
   "cell_type": "code",
   "execution_count": 0,
   "metadata": {
    "colab": {},
    "colab_type": "code",
    "id": "w9IkDrKAZ5lo",
    "outputId": "886ecbd8-0964-4d85-fb5e-fa1ac069bd8a"
   },
   "outputs": [
    {
     "data": {
      "text/plain": [
       "SEX          category\n",
       "EDUCATION    category\n",
       "MARRIAGE     category\n",
       "PAY_1        category\n",
       "PAY_2        category\n",
       "PAY_3        category\n",
       "PAY_4        category\n",
       "PAY_5        category\n",
       "PAY_6        category\n",
       "dtype: object"
      ]
     },
     "execution_count": 9,
     "metadata": {
      "tags": []
     },
     "output_type": "execute_result"
    }
   ],
   "source": [
    "for colname in CAT_FEATURE_NAMES:\n",
    "    df[colname] = pd.Categorical(df[colname])\n",
    "    \n",
    "df[CAT_FEATURE_NAMES].dtypes"
   ]
  },
  {
   "cell_type": "markdown",
   "metadata": {
    "colab_type": "text",
    "id": "2YazFo8gZ5lq"
   },
   "source": [
    "### Нормализация данных<a class=\"anchor\" id=\"normalization\"></a>"
   ]
  },
  {
   "cell_type": "code",
   "execution_count": 0,
   "metadata": {
    "colab": {},
    "colab_type": "code",
    "id": "yxab1SjyZ5lr"
   },
   "outputs": [],
   "source": [
    "scaler = StandardScaler()\n",
    "\n",
    "df_norm = df.copy()\n",
    "df_norm[NUM_FEATURE_NAMES] = scaler.fit_transform(df_norm[NUM_FEATURE_NAMES])\n",
    "\n",
    "df = df_norm.copy()"
   ]
  },
  {
   "cell_type": "markdown",
   "metadata": {
    "colab_type": "text",
    "id": "xLHfGTpBZ5lw"
   },
   "source": [
    "**Сохранение модели для нормализации данных**"
   ]
  },
  {
   "cell_type": "code",
   "execution_count": 0,
   "metadata": {
    "colab": {},
    "colab_type": "code",
    "id": "Ho-BJX9JZ5lx"
   },
   "outputs": [],
   "source": [
    "with open(SCALER_FILE_PATH, 'wb') as file:\n",
    "    pickle.dump(scaler, file)"
   ]
  },
  {
   "cell_type": "markdown",
   "metadata": {
    "colab_type": "text",
    "id": "hyO87suAZ5l1"
   },
   "source": [
    "### Разбиение на train и test<a class=\"anchor\" id=\"train_and_test\"></a>"
   ]
  },
  {
   "cell_type": "code",
   "execution_count": 0,
   "metadata": {
    "colab": {},
    "colab_type": "code",
    "id": "5Jqk10LxZ5l3"
   },
   "outputs": [],
   "source": [
    "X = df[SELECTED_FEATURE_NAMES]\n",
    "y = df[TARGET_NAME]\n",
    "\n",
    "X_train, X_test, y_train, y_test = train_test_split(X, y, shuffle=True, test_size=0.30, random_state=21)"
   ]
  },
  {
   "cell_type": "markdown",
   "metadata": {
    "colab_type": "text",
    "id": "jpH0mtt2Z5l7"
   },
   "source": [
    "### Балансировка целевой переменной<a class=\"anchor\" id=\"target_balancing\"></a>"
   ]
  },
  {
   "cell_type": "code",
   "execution_count": 0,
   "metadata": {
    "colab": {},
    "colab_type": "code",
    "id": "XTZYz0xLZ5l8",
    "outputId": "8b9697e4-7750-4356-b49a-f8634c5520ed"
   },
   "outputs": [
    {
     "data": {
      "text/plain": [
       "0    5500\n",
       "1    4500\n",
       "Name: NEXT_MONTH_DEFAULT, dtype: int64"
      ]
     },
     "execution_count": 12,
     "metadata": {
      "tags": []
     },
     "output_type": "execute_result"
    }
   ],
   "source": [
    "df_for_balancing = pd.concat([X_train, y_train], axis=1)\n",
    "df_balanced = balance_df_by_target(df_for_balancing, TARGET_NAME)\n",
    "    \n",
    "df_balanced[TARGET_NAME].value_counts()"
   ]
  },
  {
   "cell_type": "code",
   "execution_count": 0,
   "metadata": {
    "colab": {},
    "colab_type": "code",
    "id": "-k3UVOpOZ5l-"
   },
   "outputs": [],
   "source": [
    "X_train = df_balanced.drop(columns=TARGET_NAME)\n",
    "y_train = df_balanced[TARGET_NAME]"
   ]
  },
  {
   "cell_type": "markdown",
   "metadata": {
    "colab_type": "text",
    "id": "D-bDcBjHZ5mB"
   },
   "source": [
    "### Сохранение обучающего и тестового датасетов<a class=\"anchor\" id=\"train_test_saving\"></a> "
   ]
  },
  {
   "cell_type": "code",
   "execution_count": 0,
   "metadata": {
    "colab": {},
    "colab_type": "code",
    "id": "5Zo6QaphZ5mC"
   },
   "outputs": [],
   "source": [
    "train = pd.concat([X_train, y_train], axis=1)\n",
    "test = pd.concat([X_test, y_test], axis=1)"
   ]
  },
  {
   "cell_type": "code",
   "execution_count": 0,
   "metadata": {
    "colab": {},
    "colab_type": "code",
    "id": "lgpFVfYqZ5mF"
   },
   "outputs": [],
   "source": [
    "df.to_csv(TRAIN_FULL_PATH, index=False, encoding='utf-8')\n",
    "train.to_csv(TRAIN_PART_PATH, index=False, encoding='utf-8')\n",
    "test.to_csv(TEST_PART_PATH, index=False, encoding='utf-8')"
   ]
  },
  {
   "cell_type": "markdown",
   "metadata": {
    "colab_type": "text",
    "id": "7CSTR7IqZ5mH"
   },
   "source": [
    "### Построение и оценка базовых моделей<a class=\"anchor\" id=\"baseline_modeling\"></a> "
   ]
  },
  {
   "cell_type": "markdown",
   "metadata": {
    "colab_type": "text",
    "id": "xnQfq0xnZ5mI"
   },
   "source": [
    "**Логистическая регрессия**"
   ]
  },
  {
   "cell_type": "code",
   "execution_count": 0,
   "metadata": {
    "colab": {},
    "colab_type": "code",
    "id": "aQax4qZEZ5mJ",
    "outputId": "2cc168cd-31e1-445e-8307-8ec33a2d90d1"
   },
   "outputs": [
    {
     "name": "stdout",
     "output_type": "stream",
     "text": [
      "TRAIN\n",
      "\n",
      "              precision    recall  f1-score   support\n",
      "\n",
      "           0       0.70      0.87      0.78      5500\n",
      "           1       0.77      0.54      0.64      4500\n",
      "\n",
      "   micro avg       0.72      0.72      0.72     10000\n",
      "   macro avg       0.74      0.71      0.71     10000\n",
      "weighted avg       0.73      0.72      0.71     10000\n",
      "\n",
      "TEST\n",
      "\n",
      "              precision    recall  f1-score   support\n",
      "\n",
      "           0       0.86      0.86      0.86      2305\n",
      "           1       0.53      0.53      0.53       695\n",
      "\n",
      "   micro avg       0.78      0.78      0.78      3000\n",
      "   macro avg       0.69      0.69      0.69      3000\n",
      "weighted avg       0.78      0.78      0.78      3000\n",
      "\n",
      "CONFUSION MATRIX\n",
      "\n",
      "col_0                  0    1\n",
      "NEXT_MONTH_DEFAULT           \n",
      "0                   1978  327\n",
      "1                    329  366\n"
     ]
    }
   ],
   "source": [
    "model_lr = LogisticRegression()\n",
    "model_lr.fit(X_train, y_train)\n",
    "\n",
    "y_train_pred = model_lr.predict(X_train)\n",
    "y_test_pred = model_lr.predict(X_test)\n",
    "\n",
    "get_classification_report(y_train, y_train_pred, y_test, y_test_pred)"
   ]
  },
  {
   "cell_type": "markdown",
   "metadata": {
    "colab_type": "text",
    "id": "08_r-6fVZ5mL"
   },
   "source": [
    "**k ближайших соседей**"
   ]
  },
  {
   "cell_type": "code",
   "execution_count": 0,
   "metadata": {
    "colab": {},
    "colab_type": "code",
    "id": "8LLtKESrZ5mL",
    "outputId": "d20b1890-52da-40fa-f1f7-ca6278f170e8"
   },
   "outputs": [
    {
     "name": "stdout",
     "output_type": "stream",
     "text": [
      "TRAIN\n",
      "\n",
      "              precision    recall  f1-score   support\n",
      "\n",
      "           0       0.93      0.76      0.84      5500\n",
      "           1       0.76      0.93      0.84      4500\n",
      "\n",
      "   micro avg       0.84      0.84      0.84     10000\n",
      "   macro avg       0.85      0.84      0.84     10000\n",
      "weighted avg       0.85      0.84      0.84     10000\n",
      "\n",
      "TEST\n",
      "\n",
      "              precision    recall  f1-score   support\n",
      "\n",
      "           0       0.85      0.67      0.75      2305\n",
      "           1       0.36      0.60      0.45       695\n",
      "\n",
      "   micro avg       0.66      0.66      0.66      3000\n",
      "   macro avg       0.60      0.64      0.60      3000\n",
      "weighted avg       0.73      0.66      0.68      3000\n",
      "\n",
      "CONFUSION MATRIX\n",
      "\n",
      "col_0                  0    1\n",
      "NEXT_MONTH_DEFAULT           \n",
      "0                   1552  753\n",
      "1                    278  417\n"
     ]
    }
   ],
   "source": [
    "model_knn = KNeighborsClassifier()\n",
    "model_knn.fit(X_train, y_train)\n",
    "\n",
    "y_train_pred = model_knn.predict(X_train)\n",
    "y_test_pred = model_knn.predict(X_test)\n",
    "\n",
    "get_classification_report(y_train, y_train_pred, y_test, y_test_pred)"
   ]
  },
  {
   "cell_type": "markdown",
   "metadata": {
    "colab_type": "text",
    "id": "foIsvAcJZ5mN"
   },
   "source": [
    "**Бустинговые алгоритмы**"
   ]
  },
  {
   "cell_type": "markdown",
   "metadata": {
    "colab_type": "text",
    "id": "AkSmw82uZ5mO"
   },
   "source": [
    "*XGBoost*"
   ]
  },
  {
   "cell_type": "code",
   "execution_count": 0,
   "metadata": {
    "colab": {},
    "colab_type": "code",
    "id": "bdNREHmOZ5mP",
    "outputId": "1a64829b-df7c-4c89-f65f-5cfe480d3386"
   },
   "outputs": [
    {
     "name": "stdout",
     "output_type": "stream",
     "text": [
      "TRAIN\n",
      "\n",
      "              precision    recall  f1-score   support\n",
      "\n",
      "           0       0.74      0.86      0.79      5500\n",
      "           1       0.78      0.63      0.70      4500\n",
      "\n",
      "   micro avg       0.75      0.75      0.75     10000\n",
      "   macro avg       0.76      0.74      0.74     10000\n",
      "weighted avg       0.76      0.75      0.75     10000\n",
      "\n",
      "TEST\n",
      "\n",
      "              precision    recall  f1-score   support\n",
      "\n",
      "           0       0.86      0.84      0.85      2305\n",
      "           1       0.50      0.55      0.53       695\n",
      "\n",
      "   micro avg       0.77      0.77      0.77      3000\n",
      "   macro avg       0.68      0.69      0.69      3000\n",
      "weighted avg       0.78      0.77      0.77      3000\n",
      "\n",
      "CONFUSION MATRIX\n",
      "\n",
      "col_0                  0    1\n",
      "NEXT_MONTH_DEFAULT           \n",
      "0                   1928  377\n",
      "1                    311  384\n"
     ]
    }
   ],
   "source": [
    "model_xgb = xgb.XGBClassifier(random_state=21)\n",
    "model_xgb.fit(X_train, y_train)\n",
    "\n",
    "y_train_pred = model_xgb.predict(X_train)\n",
    "y_test_pred = model_xgb.predict(X_test)\n",
    "\n",
    "get_classification_report(y_train, y_train_pred, y_test, y_test_pred)"
   ]
  },
  {
   "cell_type": "markdown",
   "metadata": {
    "colab_type": "text",
    "id": "sOvGPB5MZ5mT"
   },
   "source": [
    "*LightGBM*"
   ]
  },
  {
   "cell_type": "code",
   "execution_count": 0,
   "metadata": {
    "colab": {},
    "colab_type": "code",
    "id": "ahQSJDc_Z5mU",
    "outputId": "66b12c73-272d-45a4-dc3d-42ed03491915"
   },
   "outputs": [
    {
     "name": "stdout",
     "output_type": "stream",
     "text": [
      "TRAIN\n",
      "\n",
      "              precision    recall  f1-score   support\n",
      "\n",
      "           0       0.88      0.92      0.90      5500\n",
      "           1       0.89      0.85      0.87      4500\n",
      "\n",
      "   micro avg       0.89      0.89      0.89     10000\n",
      "   macro avg       0.89      0.88      0.88     10000\n",
      "weighted avg       0.89      0.89      0.88     10000\n",
      "\n",
      "TEST\n",
      "\n",
      "              precision    recall  f1-score   support\n",
      "\n",
      "           0       0.86      0.85      0.86      2305\n",
      "           1       0.53      0.54      0.53       695\n",
      "\n",
      "   micro avg       0.78      0.78      0.78      3000\n",
      "   macro avg       0.69      0.69      0.69      3000\n",
      "weighted avg       0.78      0.78      0.78      3000\n",
      "\n",
      "CONFUSION MATRIX\n",
      "\n",
      "col_0                  0    1\n",
      "NEXT_MONTH_DEFAULT           \n",
      "0                   1970  335\n",
      "1                    323  372\n"
     ]
    }
   ],
   "source": [
    "model_lgbm = lgbm.LGBMClassifier(random_state=21)\n",
    "model_lgbm.fit(X_train, y_train)\n",
    "\n",
    "y_train_pred = model_lgbm.predict(X_train)\n",
    "y_test_pred = model_lgbm.predict(X_test)\n",
    "\n",
    "get_classification_report(y_train, y_train_pred, y_test, y_test_pred)"
   ]
  },
  {
   "cell_type": "markdown",
   "metadata": {
    "colab_type": "text",
    "id": "lKykqfnvZ5mW"
   },
   "source": [
    "*CatBoost*"
   ]
  },
  {
   "cell_type": "code",
   "execution_count": 0,
   "metadata": {
    "colab": {},
    "colab_type": "code",
    "id": "BV-v6Oi7Z5mX",
    "outputId": "98359b18-a986-4a70-ffa9-709e93933676"
   },
   "outputs": [
    {
     "name": "stdout",
     "output_type": "stream",
     "text": [
      "TRAIN\n",
      "\n",
      "              precision    recall  f1-score   support\n",
      "\n",
      "           0       0.83      0.89      0.86      5500\n",
      "           1       0.85      0.77      0.81      4500\n",
      "\n",
      "   micro avg       0.84      0.84      0.84     10000\n",
      "   macro avg       0.84      0.83      0.83     10000\n",
      "weighted avg       0.84      0.84      0.84     10000\n",
      "\n",
      "TEST\n",
      "\n",
      "              precision    recall  f1-score   support\n",
      "\n",
      "           0       0.86      0.85      0.86      2305\n",
      "           1       0.53      0.55      0.54       695\n",
      "\n",
      "   micro avg       0.78      0.78      0.78      3000\n",
      "   macro avg       0.69      0.70      0.70      3000\n",
      "weighted avg       0.79      0.78      0.78      3000\n",
      "\n",
      "CONFUSION MATRIX\n",
      "\n",
      "col_0                0.0  1.0\n",
      "NEXT_MONTH_DEFAULT           \n",
      "0                   1960  345\n",
      "1                    311  384\n"
     ]
    }
   ],
   "source": [
    "model_catb = catb.CatBoostClassifier(silent=True, random_state=21)\n",
    "model_catb.fit(X_train, y_train)\n",
    "\n",
    "y_train_pred = model_catb.predict(X_train)\n",
    "y_test_pred = model_catb.predict(X_test)\n",
    "\n",
    "get_classification_report(y_train, y_train_pred, y_test, y_test_pred)"
   ]
  },
  {
   "cell_type": "markdown",
   "metadata": {
    "colab_type": "text",
    "id": "-qLg7TNbZ5ma"
   },
   "source": [
    "### Выбор лучшей модели и подбор гиперпараметров<a class=\"anchor\" id=\"tuning_best_model\"></a> "
   ]
  },
  {
   "cell_type": "code",
   "execution_count": 0,
   "metadata": {
    "colab": {},
    "colab_type": "code",
    "id": "ZddZYPPHZ5ma"
   },
   "outputs": [],
   "source": [
    "model_catb = catb.CatBoostClassifier(class_weights=[1, 3.5], silent=True, random_state=21)"
   ]
  },
  {
   "cell_type": "markdown",
   "metadata": {
    "colab_type": "text",
    "id": "QX6_5WRcZ5mc"
   },
   "source": [
    "**Подбор гиперпараметров**"
   ]
  },
  {
   "cell_type": "code",
   "execution_count": 0,
   "metadata": {
    "colab": {},
    "colab_type": "code",
    "id": "t8mlpAo1Z5md"
   },
   "outputs": [],
   "source": [
    "params = {'n_estimators':[50, 100, 200, 500, 700, 1000, 1200, 1500],\n",
    "          'max_depth':[3, 5, 7]}"
   ]
  },
  {
   "cell_type": "code",
   "execution_count": 0,
   "metadata": {
    "colab": {},
    "colab_type": "code",
    "id": "QTBFY2rzZ5mi"
   },
   "outputs": [],
   "source": [
    "cv=KFold(n_splits=3, random_state=21, shuffle=True)"
   ]
  },
  {
   "cell_type": "code",
   "execution_count": 0,
   "metadata": {
    "colab": {},
    "colab_type": "code",
    "id": "856z5DyVZ5mn",
    "outputId": "578b7555-f45b-4140-96ac-864ac71adb8c"
   },
   "outputs": [
    {
     "name": "stdout",
     "output_type": "stream",
     "text": [
      "Wall time: 8min\n"
     ]
    }
   ],
   "source": [
    "%%time\n",
    "\n",
    "rs = RandomizedSearchCV(model_catb, params, scoring='f1', cv=cv, n_jobs=-1)\n",
    "rs.fit(X, y)"
   ]
  },
  {
   "cell_type": "code",
   "execution_count": 0,
   "metadata": {
    "colab": {},
    "colab_type": "code",
    "id": "_VNCh7UdZ5mp",
    "outputId": "ebb48b46-f9ba-407d-f7ec-0682482c150f"
   },
   "outputs": [
    {
     "data": {
      "text/plain": [
       "{'n_estimators': 500, 'max_depth': 3}"
      ]
     },
     "execution_count": 44,
     "metadata": {
      "tags": []
     },
     "output_type": "execute_result"
    }
   ],
   "source": [
    "rs.best_params_"
   ]
  },
  {
   "cell_type": "code",
   "execution_count": 0,
   "metadata": {
    "colab": {},
    "colab_type": "code",
    "id": "jDkO1JSiZ5mr",
    "outputId": "4027f475-9a54-4c53-c3f4-22663c29038d"
   },
   "outputs": [
    {
     "data": {
      "text/plain": [
       "0.5404695069816147"
      ]
     },
     "execution_count": 45,
     "metadata": {
      "tags": []
     },
     "output_type": "execute_result"
    }
   ],
   "source": [
    "rs.best_score_"
   ]
  },
  {
   "cell_type": "markdown",
   "metadata": {
    "colab_type": "text",
    "id": "2HyVzBLcZ5mt"
   },
   "source": [
    "**Обучение и оценка финальной модели**"
   ]
  },
  {
   "cell_type": "code",
   "execution_count": 0,
   "metadata": {
    "colab": {},
    "colab_type": "code",
    "id": "DcucyJZhZ5mu",
    "outputId": "f0c9dc9f-8b2b-4e68-9273-ec683784f661"
   },
   "outputs": [
    {
     "name": "stdout",
     "output_type": "stream",
     "text": [
      "TRAIN\n",
      "\n",
      "              precision    recall  f1-score   support\n",
      "\n",
      "           0       0.75      0.85      0.79      5500\n",
      "           1       0.78      0.64      0.71      4500\n",
      "\n",
      "   micro avg       0.76      0.76      0.76     10000\n",
      "   macro avg       0.76      0.75      0.75     10000\n",
      "weighted avg       0.76      0.76      0.75     10000\n",
      "\n",
      "TEST\n",
      "\n",
      "              precision    recall  f1-score   support\n",
      "\n",
      "           0       0.87      0.83      0.85      2305\n",
      "           1       0.51      0.57      0.54       695\n",
      "\n",
      "   micro avg       0.77      0.77      0.77      3000\n",
      "   macro avg       0.69      0.70      0.69      3000\n",
      "weighted avg       0.78      0.77      0.78      3000\n",
      "\n",
      "CONFUSION MATRIX\n",
      "\n",
      "col_0                0.0  1.0\n",
      "NEXT_MONTH_DEFAULT           \n",
      "0                   1919  386\n",
      "1                    296  399\n",
      "Wall time: 10 s\n"
     ]
    }
   ],
   "source": [
    "%%time\n",
    "\n",
    "final_model = catb.CatBoostClassifier(n_estimators=500, max_depth=3,\n",
    "                                      silent=True, random_state=21)\n",
    "final_model.fit(X_train, y_train)\n",
    "\n",
    "y_train_pred = final_model.predict(X_train)\n",
    "y_test_pred = final_model.predict(X_test)\n",
    "\n",
    "get_classification_report(y_train, y_train_pred, y_test, y_test_pred)"
   ]
  },
  {
   "cell_type": "code",
   "execution_count": 0,
   "metadata": {
    "colab": {},
    "colab_type": "code",
    "id": "Edf2mvy_Z5mv"
   },
   "outputs": [],
   "source": []
  }
 ],
 "metadata": {
  "colab": {
   "name": "Lesson03.ipynb",
   "provenance": []
  },
  "kernelspec": {
   "display_name": "Python 3",
   "language": "python",
   "name": "python3"
  },
  "language_info": {
   "codemirror_mode": {
    "name": "ipython",
    "version": 3
   },
   "file_extension": ".py",
   "mimetype": "text/x-python",
   "name": "python",
   "nbconvert_exporter": "python",
   "pygments_lexer": "ipython3",
   "version": "3.8.8"
  }
 },
 "nbformat": 4,
 "nbformat_minor": 1
}
